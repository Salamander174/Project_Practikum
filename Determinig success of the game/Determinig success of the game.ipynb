{
 "cells": [
  {
   "cell_type": "markdown",
   "id": "28b67885",
   "metadata": {},
   "source": [
    "# Определение успешности игры"
   ]
  },
  {
   "cell_type": "markdown",
   "id": "91ff2728",
   "metadata": {},
   "source": [
    "## Описание данных и задачи"
   ]
  },
  {
   "cell_type": "markdown",
   "id": "96c81935",
   "metadata": {},
   "source": [
    "### Задача\n",
    "Вы работаете в интернет-магазине «Стримчик», который продаёт по всему миру\n",
    "компьютерные игры. Из открытых источников доступны исторические данные о\n",
    "продажах игр, оценки пользователей и экспертов, жанры и платформы\n",
    "(например, Xboxили PlayStation). Вам нужно выявить определяющие успешность\n",
    "игры закономерности. Это позволит сделать ставку на потенциально популярный\n",
    "продукт и спланировать рекламные кампании."
   ]
  },
  {
   "cell_type": "markdown",
   "id": "fb9df156",
   "metadata": {},
   "source": [
    "### Описание данных\n",
    "* Name — название игры\n",
    "* Platform — платформа\n",
    "* Year_of_Release — год выпуска\n",
    "* Genre — жанр игры\n",
    "* NA_sales — продажи в Северной Америке (миллионы проданных копий)\n",
    "* EU_sales — продажи в Европе (миллионы проданных копий)\n",
    "* JP_sales — продажи в Японии (миллионы проданных копий)\n",
    "* Other_sales — продажи в других странах (миллионы проданных копий)\n",
    "* Critic_Score — оценка критиков (максимум 100)\n",
    "* User_Score — оценка пользователей (максимум 10)\n",
    "* Rating — рейтинг от организации ESRB (англ. Entertainment Software Rating\n",
    "Board). Эта ассоциация определяет рейтинг компьютерных игр и присваивает\n",
    "им подходящую возрастную категорию."
   ]
  },
  {
   "cell_type": "markdown",
   "id": "6b74f088",
   "metadata": {},
   "source": [
    "### План проекта\n",
    "* Шаг 1. Откройте файл с данными и изучите общую информацию\n",
    "Путь к файлу: /datasets/games.csv. Скачать датасет\n",
    "* Шаг 2. Подготовьте данные\n",
    " - Замените названия столбцов (приведите к нижнему регистру);\n",
    " - Преобразуйте данные в нужные типы. Опишите, в каких столбцах заменили\n",
    "тип данных и почему;\n",
    " - Обработайте пропуски при необходимости:\n",
    "   - Объясните, почему заполнили пропуски определённым образом или\n",
    "почему не стали это делать;\n",
    "   - Опишите причины, которые могли привести к пропускам;\n",
    "   - Обратите внимание на аббревиатуру 'tbd' в столбце с оценкой\n",
    "пользователей. Отдельно разберите это значение и опишите, как его\n",
    "обработать;\n",
    " - Посчитайте суммарные продажи во всех регионах и запишите их в отдельный\n",
    "столбец.\n",
    "* Шаг 3. Проведите исследовательский анализ данных\n",
    " - Посмотрите, сколько игр выпускалось в разные годы. Важны ли данные за все\n",
    "периоды?\n",
    " - Посмотрите, как менялись продажи по платформам. Выберите платформы с\n",
    "наибольшими суммарными продажами и постройте распределение по годам.\n",
    " - За какой характерный срок появляются новые и исчезают старые платформы?\n",
    " - Возьмите данные за соответствующий актуальный период. Актуальный\n",
    "период определите самостоятельно в результате исследования предыдущих\n",
    "вопросов. Основной фактор — эти данные помогут построить прогноз на 2017\n",
    "год.\n",
    " - Не учитывайте в работе данные за предыдущие годы.\n",
    " - Какие платформы лидируют по продажам, растут или падают? Выберите\n",
    "несколько потенциально прибыльных платформ.\n",
    " - Постройте график «ящик с усами» по глобальным продажам игр в разбивке по\n",
    "платформам. Опишите результат.\n",
    " - Посмотрите, как влияют на продажи внутри одной популярной платформы\n",
    "отзывы пользователей и критиков. Постройте диаграмму рассеяния и\n",
    "посчитайте корреляцию между отзывами и продажами. Сформулируйте\n",
    "выводы.\n",
    " - Соотнесите выводы с продажами игр на других платформах.\n",
    " - Посмотрите на общее распределение игр по жанрам. Что можно сказать о\n",
    "самых прибыльных жанрах? Выделяются ли жанры с высокими и низкими\n",
    "продажами?\n",
    "* Шаг 4. Составьте портрет пользователя каждого региона\n",
    " - Определите для пользователя каждого региона (NA, EU, JP):\n",
    " - Самые популярные платформы (топ-5). Опишите различия в долях продаж.\n",
    " - Самые популярные жанры (топ-5). Поясните разницу.\n",
    " - Влияет ли рейтинг ESRB на продажи в отдельном регионе?\n",
    "* Шаг 5. Проверьте гипотезы\n",
    " - Средние пользовательские рейтинги платформ Xbox One и PC одинаковые;\n",
    " - Средние пользовательские рейтинги жанров Action (англ. «действие», экшен\u0002игры) и Sports (англ. «спортивные соревнования») разные.\n",
    " - Задайте самостоятельно пороговое значение alpha.\n",
    " - Поясните:\n",
    "  - Как вы сформулировали нулевую и альтернативную гипотезы;\n",
    "  - Какой критерий применили для проверки гипотез и почему.\n",
    "* Шаг 6. Напишите общий вывод"
   ]
  },
  {
   "cell_type": "markdown",
   "id": "13af0a85",
   "metadata": {},
   "source": [
    "## Получение информации и ее изучение"
   ]
  },
  {
   "cell_type": "markdown",
   "id": "7dde9c50",
   "metadata": {},
   "source": [
    "### Импорт библиотек"
   ]
  },
  {
   "cell_type": "code",
   "execution_count": 1,
   "id": "bdb763d8",
   "metadata": {},
   "outputs": [],
   "source": [
    "import pandas as pd\n",
    "import numpy as np\n",
    "import matplotlib.pyplot as plt\n",
    "import numpy as np\n",
    "import seaborn as sns\n",
    "from matplotlib.axes._axes import _log as matplotlib_axes_logger\n",
    "from scipy.stats import ttest_ind\n",
    "%matplotlib inline"
   ]
  },
  {
   "cell_type": "markdown",
   "id": "40f7b122",
   "metadata": {},
   "source": [
    "### Выгрузка данных"
   ]
  },
  {
   "cell_type": "code",
   "execution_count": 2,
   "id": "b2556e8a",
   "metadata": {},
   "outputs": [],
   "source": [
    "games = pd.read_csv('/datasets/games.csv')"
   ]
  },
  {
   "cell_type": "markdown",
   "id": "0e67f7df",
   "metadata": {},
   "source": [
    "### Изучение инофрмации"
   ]
  },
  {
   "cell_type": "code",
   "execution_count": 3,
   "id": "1445b1ef",
   "metadata": {},
   "outputs": [
    {
     "name": "stdout",
     "output_type": "stream",
     "text": [
      "<class 'pandas.core.frame.DataFrame'>\n",
      "RangeIndex: 16715 entries, 0 to 16714\n",
      "Data columns (total 11 columns):\n",
      "Name               16713 non-null object\n",
      "Platform           16715 non-null object\n",
      "Year_of_Release    16446 non-null float64\n",
      "Genre              16713 non-null object\n",
      "NA_sales           16715 non-null float64\n",
      "EU_sales           16715 non-null float64\n",
      "JP_sales           16715 non-null float64\n",
      "Other_sales        16715 non-null float64\n",
      "Critic_Score       8137 non-null float64\n",
      "User_Score         10014 non-null object\n",
      "Rating             9949 non-null object\n",
      "dtypes: float64(6), object(5)\n",
      "memory usage: 1.4+ MB\n"
     ]
    }
   ],
   "source": [
    "games.info()"
   ]
  },
  {
   "cell_type": "markdown",
   "id": "332d00ec",
   "metadata": {},
   "source": [
    "У нас есть пропуски в название игр, но их всего 2. Много пропуска в оценке критиков, так же есть пропуски в оценке пользователей.<br></br>\n",
    "Строки где пропущены оценки и тех и других, предположительно являются новыми играми. Нужно будет проверить.<br></br>\n",
    "По тей же причине могут быть и пропуски в рейтинге.<br></br>\n",
    "Нужно заменить название столбец на единый реестр.<br></br>\n",
    "А так же изменить типы столбцов."
   ]
  },
  {
   "cell_type": "code",
   "execution_count": 4,
   "id": "fadf53ae",
   "metadata": {
    "scrolled": true
   },
   "outputs": [
    {
     "data": {
      "text/html": [
       "<div>\n",
       "<style scoped>\n",
       "    .dataframe tbody tr th:only-of-type {\n",
       "        vertical-align: middle;\n",
       "    }\n",
       "\n",
       "    .dataframe tbody tr th {\n",
       "        vertical-align: top;\n",
       "    }\n",
       "\n",
       "    .dataframe thead th {\n",
       "        text-align: right;\n",
       "    }\n",
       "</style>\n",
       "<table border=\"1\" class=\"dataframe\">\n",
       "  <thead>\n",
       "    <tr style=\"text-align: right;\">\n",
       "      <th></th>\n",
       "      <th>Name</th>\n",
       "      <th>Platform</th>\n",
       "      <th>Year_of_Release</th>\n",
       "      <th>Genre</th>\n",
       "      <th>NA_sales</th>\n",
       "      <th>EU_sales</th>\n",
       "      <th>JP_sales</th>\n",
       "      <th>Other_sales</th>\n",
       "      <th>Critic_Score</th>\n",
       "      <th>User_Score</th>\n",
       "      <th>Rating</th>\n",
       "    </tr>\n",
       "  </thead>\n",
       "  <tbody>\n",
       "    <tr>\n",
       "      <td>0</td>\n",
       "      <td>Wii Sports</td>\n",
       "      <td>Wii</td>\n",
       "      <td>2006.0</td>\n",
       "      <td>Sports</td>\n",
       "      <td>41.36</td>\n",
       "      <td>28.96</td>\n",
       "      <td>3.77</td>\n",
       "      <td>8.45</td>\n",
       "      <td>76.0</td>\n",
       "      <td>8</td>\n",
       "      <td>E</td>\n",
       "    </tr>\n",
       "    <tr>\n",
       "      <td>1</td>\n",
       "      <td>Super Mario Bros.</td>\n",
       "      <td>NES</td>\n",
       "      <td>1985.0</td>\n",
       "      <td>Platform</td>\n",
       "      <td>29.08</td>\n",
       "      <td>3.58</td>\n",
       "      <td>6.81</td>\n",
       "      <td>0.77</td>\n",
       "      <td>NaN</td>\n",
       "      <td>NaN</td>\n",
       "      <td>NaN</td>\n",
       "    </tr>\n",
       "    <tr>\n",
       "      <td>2</td>\n",
       "      <td>Mario Kart Wii</td>\n",
       "      <td>Wii</td>\n",
       "      <td>2008.0</td>\n",
       "      <td>Racing</td>\n",
       "      <td>15.68</td>\n",
       "      <td>12.76</td>\n",
       "      <td>3.79</td>\n",
       "      <td>3.29</td>\n",
       "      <td>82.0</td>\n",
       "      <td>8.3</td>\n",
       "      <td>E</td>\n",
       "    </tr>\n",
       "    <tr>\n",
       "      <td>3</td>\n",
       "      <td>Wii Sports Resort</td>\n",
       "      <td>Wii</td>\n",
       "      <td>2009.0</td>\n",
       "      <td>Sports</td>\n",
       "      <td>15.61</td>\n",
       "      <td>10.93</td>\n",
       "      <td>3.28</td>\n",
       "      <td>2.95</td>\n",
       "      <td>80.0</td>\n",
       "      <td>8</td>\n",
       "      <td>E</td>\n",
       "    </tr>\n",
       "    <tr>\n",
       "      <td>4</td>\n",
       "      <td>Pokemon Red/Pokemon Blue</td>\n",
       "      <td>GB</td>\n",
       "      <td>1996.0</td>\n",
       "      <td>Role-Playing</td>\n",
       "      <td>11.27</td>\n",
       "      <td>8.89</td>\n",
       "      <td>10.22</td>\n",
       "      <td>1.00</td>\n",
       "      <td>NaN</td>\n",
       "      <td>NaN</td>\n",
       "      <td>NaN</td>\n",
       "    </tr>\n",
       "    <tr>\n",
       "      <td>5</td>\n",
       "      <td>Tetris</td>\n",
       "      <td>GB</td>\n",
       "      <td>1989.0</td>\n",
       "      <td>Puzzle</td>\n",
       "      <td>23.20</td>\n",
       "      <td>2.26</td>\n",
       "      <td>4.22</td>\n",
       "      <td>0.58</td>\n",
       "      <td>NaN</td>\n",
       "      <td>NaN</td>\n",
       "      <td>NaN</td>\n",
       "    </tr>\n",
       "    <tr>\n",
       "      <td>6</td>\n",
       "      <td>New Super Mario Bros.</td>\n",
       "      <td>DS</td>\n",
       "      <td>2006.0</td>\n",
       "      <td>Platform</td>\n",
       "      <td>11.28</td>\n",
       "      <td>9.14</td>\n",
       "      <td>6.50</td>\n",
       "      <td>2.88</td>\n",
       "      <td>89.0</td>\n",
       "      <td>8.5</td>\n",
       "      <td>E</td>\n",
       "    </tr>\n",
       "    <tr>\n",
       "      <td>7</td>\n",
       "      <td>Wii Play</td>\n",
       "      <td>Wii</td>\n",
       "      <td>2006.0</td>\n",
       "      <td>Misc</td>\n",
       "      <td>13.96</td>\n",
       "      <td>9.18</td>\n",
       "      <td>2.93</td>\n",
       "      <td>2.84</td>\n",
       "      <td>58.0</td>\n",
       "      <td>6.6</td>\n",
       "      <td>E</td>\n",
       "    </tr>\n",
       "    <tr>\n",
       "      <td>8</td>\n",
       "      <td>New Super Mario Bros. Wii</td>\n",
       "      <td>Wii</td>\n",
       "      <td>2009.0</td>\n",
       "      <td>Platform</td>\n",
       "      <td>14.44</td>\n",
       "      <td>6.94</td>\n",
       "      <td>4.70</td>\n",
       "      <td>2.24</td>\n",
       "      <td>87.0</td>\n",
       "      <td>8.4</td>\n",
       "      <td>E</td>\n",
       "    </tr>\n",
       "    <tr>\n",
       "      <td>9</td>\n",
       "      <td>Duck Hunt</td>\n",
       "      <td>NES</td>\n",
       "      <td>1984.0</td>\n",
       "      <td>Shooter</td>\n",
       "      <td>26.93</td>\n",
       "      <td>0.63</td>\n",
       "      <td>0.28</td>\n",
       "      <td>0.47</td>\n",
       "      <td>NaN</td>\n",
       "      <td>NaN</td>\n",
       "      <td>NaN</td>\n",
       "    </tr>\n",
       "  </tbody>\n",
       "</table>\n",
       "</div>"
      ],
      "text/plain": [
       "                        Name Platform  Year_of_Release         Genre  \\\n",
       "0                 Wii Sports      Wii           2006.0        Sports   \n",
       "1          Super Mario Bros.      NES           1985.0      Platform   \n",
       "2             Mario Kart Wii      Wii           2008.0        Racing   \n",
       "3          Wii Sports Resort      Wii           2009.0        Sports   \n",
       "4   Pokemon Red/Pokemon Blue       GB           1996.0  Role-Playing   \n",
       "5                     Tetris       GB           1989.0        Puzzle   \n",
       "6      New Super Mario Bros.       DS           2006.0      Platform   \n",
       "7                   Wii Play      Wii           2006.0          Misc   \n",
       "8  New Super Mario Bros. Wii      Wii           2009.0      Platform   \n",
       "9                  Duck Hunt      NES           1984.0       Shooter   \n",
       "\n",
       "   NA_sales  EU_sales  JP_sales  Other_sales  Critic_Score User_Score Rating  \n",
       "0     41.36     28.96      3.77         8.45          76.0          8      E  \n",
       "1     29.08      3.58      6.81         0.77           NaN        NaN    NaN  \n",
       "2     15.68     12.76      3.79         3.29          82.0        8.3      E  \n",
       "3     15.61     10.93      3.28         2.95          80.0          8      E  \n",
       "4     11.27      8.89     10.22         1.00           NaN        NaN    NaN  \n",
       "5     23.20      2.26      4.22         0.58           NaN        NaN    NaN  \n",
       "6     11.28      9.14      6.50         2.88          89.0        8.5      E  \n",
       "7     13.96      9.18      2.93         2.84          58.0        6.6      E  \n",
       "8     14.44      6.94      4.70         2.24          87.0        8.4      E  \n",
       "9     26.93      0.63      0.28         0.47           NaN        NaN    NaN  "
      ]
     },
     "execution_count": 4,
     "metadata": {},
     "output_type": "execute_result"
    }
   ],
   "source": [
    "games.head(10)"
   ]
  },
  {
   "cell_type": "code",
   "execution_count": 5,
   "id": "b843d5b6",
   "metadata": {
    "scrolled": true
   },
   "outputs": [
    {
     "data": {
      "text/html": [
       "<div>\n",
       "<style scoped>\n",
       "    .dataframe tbody tr th:only-of-type {\n",
       "        vertical-align: middle;\n",
       "    }\n",
       "\n",
       "    .dataframe tbody tr th {\n",
       "        vertical-align: top;\n",
       "    }\n",
       "\n",
       "    .dataframe thead th {\n",
       "        text-align: right;\n",
       "    }\n",
       "</style>\n",
       "<table border=\"1\" class=\"dataframe\">\n",
       "  <thead>\n",
       "    <tr style=\"text-align: right;\">\n",
       "      <th></th>\n",
       "      <th>Year_of_Release</th>\n",
       "      <th>NA_sales</th>\n",
       "      <th>EU_sales</th>\n",
       "      <th>JP_sales</th>\n",
       "      <th>Other_sales</th>\n",
       "      <th>Critic_Score</th>\n",
       "    </tr>\n",
       "  </thead>\n",
       "  <tbody>\n",
       "    <tr>\n",
       "      <td>count</td>\n",
       "      <td>16446.000000</td>\n",
       "      <td>16715.000000</td>\n",
       "      <td>16715.000000</td>\n",
       "      <td>16715.000000</td>\n",
       "      <td>16715.000000</td>\n",
       "      <td>8137.000000</td>\n",
       "    </tr>\n",
       "    <tr>\n",
       "      <td>mean</td>\n",
       "      <td>2006.484616</td>\n",
       "      <td>0.263377</td>\n",
       "      <td>0.145060</td>\n",
       "      <td>0.077617</td>\n",
       "      <td>0.047342</td>\n",
       "      <td>68.967679</td>\n",
       "    </tr>\n",
       "    <tr>\n",
       "      <td>std</td>\n",
       "      <td>5.877050</td>\n",
       "      <td>0.813604</td>\n",
       "      <td>0.503339</td>\n",
       "      <td>0.308853</td>\n",
       "      <td>0.186731</td>\n",
       "      <td>13.938165</td>\n",
       "    </tr>\n",
       "    <tr>\n",
       "      <td>min</td>\n",
       "      <td>1980.000000</td>\n",
       "      <td>0.000000</td>\n",
       "      <td>0.000000</td>\n",
       "      <td>0.000000</td>\n",
       "      <td>0.000000</td>\n",
       "      <td>13.000000</td>\n",
       "    </tr>\n",
       "    <tr>\n",
       "      <td>25%</td>\n",
       "      <td>2003.000000</td>\n",
       "      <td>0.000000</td>\n",
       "      <td>0.000000</td>\n",
       "      <td>0.000000</td>\n",
       "      <td>0.000000</td>\n",
       "      <td>60.000000</td>\n",
       "    </tr>\n",
       "    <tr>\n",
       "      <td>50%</td>\n",
       "      <td>2007.000000</td>\n",
       "      <td>0.080000</td>\n",
       "      <td>0.020000</td>\n",
       "      <td>0.000000</td>\n",
       "      <td>0.010000</td>\n",
       "      <td>71.000000</td>\n",
       "    </tr>\n",
       "    <tr>\n",
       "      <td>75%</td>\n",
       "      <td>2010.000000</td>\n",
       "      <td>0.240000</td>\n",
       "      <td>0.110000</td>\n",
       "      <td>0.040000</td>\n",
       "      <td>0.030000</td>\n",
       "      <td>79.000000</td>\n",
       "    </tr>\n",
       "    <tr>\n",
       "      <td>max</td>\n",
       "      <td>2016.000000</td>\n",
       "      <td>41.360000</td>\n",
       "      <td>28.960000</td>\n",
       "      <td>10.220000</td>\n",
       "      <td>10.570000</td>\n",
       "      <td>98.000000</td>\n",
       "    </tr>\n",
       "  </tbody>\n",
       "</table>\n",
       "</div>"
      ],
      "text/plain": [
       "       Year_of_Release      NA_sales      EU_sales      JP_sales  \\\n",
       "count     16446.000000  16715.000000  16715.000000  16715.000000   \n",
       "mean       2006.484616      0.263377      0.145060      0.077617   \n",
       "std           5.877050      0.813604      0.503339      0.308853   \n",
       "min        1980.000000      0.000000      0.000000      0.000000   \n",
       "25%        2003.000000      0.000000      0.000000      0.000000   \n",
       "50%        2007.000000      0.080000      0.020000      0.000000   \n",
       "75%        2010.000000      0.240000      0.110000      0.040000   \n",
       "max        2016.000000     41.360000     28.960000     10.220000   \n",
       "\n",
       "        Other_sales  Critic_Score  \n",
       "count  16715.000000   8137.000000  \n",
       "mean       0.047342     68.967679  \n",
       "std        0.186731     13.938165  \n",
       "min        0.000000     13.000000  \n",
       "25%        0.000000     60.000000  \n",
       "50%        0.010000     71.000000  \n",
       "75%        0.030000     79.000000  \n",
       "max       10.570000     98.000000  "
      ]
     },
     "execution_count": 5,
     "metadata": {},
     "output_type": "execute_result"
    }
   ],
   "source": [
    "games.describe()"
   ]
  },
  {
   "cell_type": "markdown",
   "id": "587ef9c7",
   "metadata": {},
   "source": [
    "### Вывод\n",
    "В целом в данных на первый взгляд нечего не обычного, более подброный анализ при обработке покажет более полную картину."
   ]
  },
  {
   "cell_type": "markdown",
   "id": "9559cb83",
   "metadata": {},
   "source": [
    "## Обработка данных"
   ]
  },
  {
   "cell_type": "markdown",
   "id": "4bd4d07a",
   "metadata": {},
   "source": [
    "### Изменим название столбцев"
   ]
  },
  {
   "cell_type": "code",
   "execution_count": 6,
   "id": "dad9896b",
   "metadata": {},
   "outputs": [
    {
     "data": {
      "text/plain": [
       "Index(['Name', 'Platform', 'Year_of_Release', 'Genre', 'NA_sales', 'EU_sales',\n",
       "       'JP_sales', 'Other_sales', 'Critic_Score', 'User_Score', 'Rating'],\n",
       "      dtype='object')"
      ]
     },
     "execution_count": 6,
     "metadata": {},
     "output_type": "execute_result"
    }
   ],
   "source": [
    "games.columns"
   ]
  },
  {
   "cell_type": "code",
   "execution_count": 7,
   "id": "874e7c5f",
   "metadata": {
    "scrolled": true
   },
   "outputs": [],
   "source": [
    "games.columns = [x.lower() for x in games.columns] #Переберем все название столбцев и применим к ним методов lower"
   ]
  },
  {
   "cell_type": "code",
   "execution_count": 8,
   "id": "c709ae45",
   "metadata": {
    "scrolled": true
   },
   "outputs": [
    {
     "data": {
      "text/html": [
       "<div>\n",
       "<style scoped>\n",
       "    .dataframe tbody tr th:only-of-type {\n",
       "        vertical-align: middle;\n",
       "    }\n",
       "\n",
       "    .dataframe tbody tr th {\n",
       "        vertical-align: top;\n",
       "    }\n",
       "\n",
       "    .dataframe thead th {\n",
       "        text-align: right;\n",
       "    }\n",
       "</style>\n",
       "<table border=\"1\" class=\"dataframe\">\n",
       "  <thead>\n",
       "    <tr style=\"text-align: right;\">\n",
       "      <th></th>\n",
       "      <th>name</th>\n",
       "      <th>platform</th>\n",
       "      <th>year_of_release</th>\n",
       "      <th>genre</th>\n",
       "      <th>na_sales</th>\n",
       "      <th>eu_sales</th>\n",
       "      <th>jp_sales</th>\n",
       "      <th>other_sales</th>\n",
       "      <th>critic_score</th>\n",
       "      <th>user_score</th>\n",
       "      <th>rating</th>\n",
       "    </tr>\n",
       "  </thead>\n",
       "  <tbody>\n",
       "    <tr>\n",
       "      <td>0</td>\n",
       "      <td>Wii Sports</td>\n",
       "      <td>Wii</td>\n",
       "      <td>2006.0</td>\n",
       "      <td>Sports</td>\n",
       "      <td>41.36</td>\n",
       "      <td>28.96</td>\n",
       "      <td>3.77</td>\n",
       "      <td>8.45</td>\n",
       "      <td>76.0</td>\n",
       "      <td>8</td>\n",
       "      <td>E</td>\n",
       "    </tr>\n",
       "    <tr>\n",
       "      <td>1</td>\n",
       "      <td>Super Mario Bros.</td>\n",
       "      <td>NES</td>\n",
       "      <td>1985.0</td>\n",
       "      <td>Platform</td>\n",
       "      <td>29.08</td>\n",
       "      <td>3.58</td>\n",
       "      <td>6.81</td>\n",
       "      <td>0.77</td>\n",
       "      <td>NaN</td>\n",
       "      <td>NaN</td>\n",
       "      <td>NaN</td>\n",
       "    </tr>\n",
       "    <tr>\n",
       "      <td>2</td>\n",
       "      <td>Mario Kart Wii</td>\n",
       "      <td>Wii</td>\n",
       "      <td>2008.0</td>\n",
       "      <td>Racing</td>\n",
       "      <td>15.68</td>\n",
       "      <td>12.76</td>\n",
       "      <td>3.79</td>\n",
       "      <td>3.29</td>\n",
       "      <td>82.0</td>\n",
       "      <td>8.3</td>\n",
       "      <td>E</td>\n",
       "    </tr>\n",
       "    <tr>\n",
       "      <td>3</td>\n",
       "      <td>Wii Sports Resort</td>\n",
       "      <td>Wii</td>\n",
       "      <td>2009.0</td>\n",
       "      <td>Sports</td>\n",
       "      <td>15.61</td>\n",
       "      <td>10.93</td>\n",
       "      <td>3.28</td>\n",
       "      <td>2.95</td>\n",
       "      <td>80.0</td>\n",
       "      <td>8</td>\n",
       "      <td>E</td>\n",
       "    </tr>\n",
       "    <tr>\n",
       "      <td>4</td>\n",
       "      <td>Pokemon Red/Pokemon Blue</td>\n",
       "      <td>GB</td>\n",
       "      <td>1996.0</td>\n",
       "      <td>Role-Playing</td>\n",
       "      <td>11.27</td>\n",
       "      <td>8.89</td>\n",
       "      <td>10.22</td>\n",
       "      <td>1.00</td>\n",
       "      <td>NaN</td>\n",
       "      <td>NaN</td>\n",
       "      <td>NaN</td>\n",
       "    </tr>\n",
       "  </tbody>\n",
       "</table>\n",
       "</div>"
      ],
      "text/plain": [
       "                       name platform  year_of_release         genre  na_sales  \\\n",
       "0                Wii Sports      Wii           2006.0        Sports     41.36   \n",
       "1         Super Mario Bros.      NES           1985.0      Platform     29.08   \n",
       "2            Mario Kart Wii      Wii           2008.0        Racing     15.68   \n",
       "3         Wii Sports Resort      Wii           2009.0        Sports     15.61   \n",
       "4  Pokemon Red/Pokemon Blue       GB           1996.0  Role-Playing     11.27   \n",
       "\n",
       "   eu_sales  jp_sales  other_sales  critic_score user_score rating  \n",
       "0     28.96      3.77         8.45          76.0          8      E  \n",
       "1      3.58      6.81         0.77           NaN        NaN    NaN  \n",
       "2     12.76      3.79         3.29          82.0        8.3      E  \n",
       "3     10.93      3.28         2.95          80.0          8      E  \n",
       "4      8.89     10.22         1.00           NaN        NaN    NaN  "
      ]
     },
     "execution_count": 8,
     "metadata": {},
     "output_type": "execute_result"
    }
   ],
   "source": [
    "games.head()"
   ]
  },
  {
   "cell_type": "markdown",
   "id": "de8dbab2",
   "metadata": {},
   "source": [
    "Теперь все название в едином стиле."
   ]
  },
  {
   "cell_type": "markdown",
   "id": "6ff633d1",
   "metadata": {},
   "source": [
    "### Изменение типов столбцов и обработка пропусков"
   ]
  },
  {
   "cell_type": "code",
   "execution_count": 9,
   "id": "1d41fc5b",
   "metadata": {
    "scrolled": true
   },
   "outputs": [
    {
     "name": "stdout",
     "output_type": "stream",
     "text": [
      "<class 'pandas.core.frame.DataFrame'>\n",
      "RangeIndex: 16715 entries, 0 to 16714\n",
      "Data columns (total 11 columns):\n",
      "name               16713 non-null object\n",
      "platform           16715 non-null object\n",
      "year_of_release    16446 non-null float64\n",
      "genre              16713 non-null object\n",
      "na_sales           16715 non-null float64\n",
      "eu_sales           16715 non-null float64\n",
      "jp_sales           16715 non-null float64\n",
      "other_sales        16715 non-null float64\n",
      "critic_score       8137 non-null float64\n",
      "user_score         10014 non-null object\n",
      "rating             9949 non-null object\n",
      "dtypes: float64(6), object(5)\n",
      "memory usage: 1.4+ MB\n"
     ]
    }
   ],
   "source": [
    "games.info()"
   ]
  },
  {
   "cell_type": "markdown",
   "id": "eeffc0eb",
   "metadata": {},
   "source": [
    "#### Столбец год релиза"
   ]
  },
  {
   "cell_type": "code",
   "execution_count": 10,
   "id": "710ee838",
   "metadata": {},
   "outputs": [
    {
     "data": {
      "text/plain": [
       "array([2006., 1985., 2008., 2009., 1996., 1989., 1984., 2005., 1999.,\n",
       "       2007., 2010., 2013., 2004., 1990., 1988., 2002., 2001., 2011.,\n",
       "       1998., 2015., 2012., 2014., 1992., 1997., 1993., 1994., 1982.,\n",
       "       2016., 2003., 1986., 2000.,   nan, 1995., 1991., 1981., 1987.,\n",
       "       1980., 1983.])"
      ]
     },
     "execution_count": 10,
     "metadata": {},
     "output_type": "execute_result"
    }
   ],
   "source": [
    "games['year_of_release'].unique()"
   ]
  },
  {
   "cell_type": "markdown",
   "id": "a87d2cab",
   "metadata": {},
   "source": [
    "В столбце с датой есть пропущенные значения, они не дадут нам привести к нужному типу данных\n",
    "\n",
    "Такие столбцы могли появится просто потому что не указали дату выходу при сборе данных, т.к. выяснить эту информацию возможности нет.\n",
    "\n",
    "\n",
    "По этому поступим нестандарно, переведем слово \"Неизвестно\" в число следующим образом:\n",
    "- Каждой букве присвоим номер соотвествующий ее порядковому номеру в алфавите\n",
    "- Сложим все эти значения\n",
    "\n",
    "\n",
    "В итоге получаем число 119, на него и заменими пропущенные значения"
   ]
  },
  {
   "cell_type": "code",
   "execution_count": 11,
   "id": "4c91f326",
   "metadata": {},
   "outputs": [],
   "source": [
    "games['year_of_release'] = games['year_of_release'].fillna(119)"
   ]
  },
  {
   "cell_type": "code",
   "execution_count": 12,
   "id": "d34c3286",
   "metadata": {},
   "outputs": [
    {
     "data": {
      "text/plain": [
       "array([2006., 1985., 2008., 2009., 1996., 1989., 1984., 2005., 1999.,\n",
       "       2007., 2010., 2013., 2004., 1990., 1988., 2002., 2001., 2011.,\n",
       "       1998., 2015., 2012., 2014., 1992., 1997., 1993., 1994., 1982.,\n",
       "       2016., 2003., 1986., 2000.,  119., 1995., 1991., 1981., 1987.,\n",
       "       1980., 1983.])"
      ]
     },
     "execution_count": 12,
     "metadata": {},
     "output_type": "execute_result"
    }
   ],
   "source": [
    "games['year_of_release'].unique()"
   ]
  },
  {
   "cell_type": "code",
   "execution_count": 13,
   "id": "157797ea",
   "metadata": {},
   "outputs": [],
   "source": [
    "games['year_of_release'] = games['year_of_release'].astype('int64')"
   ]
  },
  {
   "cell_type": "markdown",
   "id": "561c4aaf",
   "metadata": {},
   "source": [
    "Теперь разберемся с оценкой пользователей"
   ]
  },
  {
   "cell_type": "markdown",
   "id": "789dc5c4",
   "metadata": {},
   "source": [
    "#### Столбец оценка пользователей"
   ]
  },
  {
   "cell_type": "code",
   "execution_count": 14,
   "id": "38aab618",
   "metadata": {
    "scrolled": true
   },
   "outputs": [
    {
     "data": {
      "text/plain": [
       "array(['8', nan, '8.3', '8.5', '6.6', '8.4', '8.6', '7.7', '6.3', '7.4',\n",
       "       '8.2', '9', '7.9', '8.1', '8.7', '7.1', '3.4', '5.3', '4.8', '3.2',\n",
       "       '8.9', '6.4', '7.8', '7.5', '2.6', '7.2', '9.2', '7', '7.3', '4.3',\n",
       "       '7.6', '5.7', '5', '9.1', '6.5', 'tbd', '8.8', '6.9', '9.4', '6.8',\n",
       "       '6.1', '6.7', '5.4', '4', '4.9', '4.5', '9.3', '6.2', '4.2', '6',\n",
       "       '3.7', '4.1', '5.8', '5.6', '5.5', '4.4', '4.6', '5.9', '3.9',\n",
       "       '3.1', '2.9', '5.2', '3.3', '4.7', '5.1', '3.5', '2.5', '1.9', '3',\n",
       "       '2.7', '2.2', '2', '9.5', '2.1', '3.6', '2.8', '1.8', '3.8', '0',\n",
       "       '1.6', '9.6', '2.4', '1.7', '1.1', '0.3', '1.5', '0.7', '1.2',\n",
       "       '2.3', '0.5', '1.3', '0.2', '0.6', '1.4', '0.9', '1', '9.7'],\n",
       "      dtype=object)"
      ]
     },
     "execution_count": 14,
     "metadata": {},
     "output_type": "execute_result"
    }
   ],
   "source": [
    "games['user_score'].unique()"
   ]
  },
  {
   "cell_type": "markdown",
   "id": "fbf50f79",
   "metadata": {},
   "source": [
    "Есть не понятное значение \"tbd\" с помощью гугл выяснили что это означает \"Будет определено\".   \n",
    "Следовательно можем заменить и nan и tbd на \"-1\", если заменим на 0 то это будет означать что игра пользователям не понравилась совсем."
   ]
  },
  {
   "cell_type": "code",
   "execution_count": 15,
   "id": "1041620d",
   "metadata": {},
   "outputs": [],
   "source": [
    "games['user_score'] = games['user_score'].replace('tbd', np.NaN)\n",
    "games['user_score'] = games['user_score'].fillna(-1)"
   ]
  },
  {
   "cell_type": "code",
   "execution_count": 16,
   "id": "4ad34d41",
   "metadata": {},
   "outputs": [
    {
     "data": {
      "text/plain": [
       "array(['8', -1, '8.3', '8.5', '6.6', '8.4', '8.6', '7.7', '6.3', '7.4',\n",
       "       '8.2', '9', '7.9', '8.1', '8.7', '7.1', '3.4', '5.3', '4.8', '3.2',\n",
       "       '8.9', '6.4', '7.8', '7.5', '2.6', '7.2', '9.2', '7', '7.3', '4.3',\n",
       "       '7.6', '5.7', '5', '9.1', '6.5', '8.8', '6.9', '9.4', '6.8', '6.1',\n",
       "       '6.7', '5.4', '4', '4.9', '4.5', '9.3', '6.2', '4.2', '6', '3.7',\n",
       "       '4.1', '5.8', '5.6', '5.5', '4.4', '4.6', '5.9', '3.9', '3.1',\n",
       "       '2.9', '5.2', '3.3', '4.7', '5.1', '3.5', '2.5', '1.9', '3', '2.7',\n",
       "       '2.2', '2', '9.5', '2.1', '3.6', '2.8', '1.8', '3.8', '0', '1.6',\n",
       "       '9.6', '2.4', '1.7', '1.1', '0.3', '1.5', '0.7', '1.2', '2.3',\n",
       "       '0.5', '1.3', '0.2', '0.6', '1.4', '0.9', '1', '9.7'], dtype=object)"
      ]
     },
     "execution_count": 16,
     "metadata": {},
     "output_type": "execute_result"
    }
   ],
   "source": [
    "games['user_score'].unique()"
   ]
  },
  {
   "cell_type": "code",
   "execution_count": 17,
   "id": "b6e27c14",
   "metadata": {},
   "outputs": [],
   "source": [
    "games['user_score'] = games['user_score'].astype('float64')"
   ]
  },
  {
   "cell_type": "code",
   "execution_count": 18,
   "id": "8e34cadf",
   "metadata": {
    "scrolled": true
   },
   "outputs": [
    {
     "name": "stdout",
     "output_type": "stream",
     "text": [
      "<class 'pandas.core.frame.DataFrame'>\n",
      "RangeIndex: 16715 entries, 0 to 16714\n",
      "Data columns (total 11 columns):\n",
      "name               16713 non-null object\n",
      "platform           16715 non-null object\n",
      "year_of_release    16715 non-null int64\n",
      "genre              16713 non-null object\n",
      "na_sales           16715 non-null float64\n",
      "eu_sales           16715 non-null float64\n",
      "jp_sales           16715 non-null float64\n",
      "other_sales        16715 non-null float64\n",
      "critic_score       8137 non-null float64\n",
      "user_score         16715 non-null float64\n",
      "rating             9949 non-null object\n",
      "dtypes: float64(6), int64(1), object(4)\n",
      "memory usage: 1.4+ MB\n"
     ]
    }
   ],
   "source": [
    "games.info()"
   ]
  },
  {
   "cell_type": "markdown",
   "id": "2e1d0968",
   "metadata": {},
   "source": [
    "#### Столбец оценка критиков"
   ]
  },
  {
   "cell_type": "markdown",
   "id": "0b83b50e",
   "metadata": {},
   "source": [
    "Поступим с ним аналогично оценке пользователей"
   ]
  },
  {
   "cell_type": "code",
   "execution_count": 19,
   "id": "62615015",
   "metadata": {},
   "outputs": [
    {
     "data": {
      "text/plain": [
       "array([76., nan, 82., 80., 89., 58., 87., 91., 61., 97., 95., 77., 88.,\n",
       "       83., 94., 93., 85., 86., 98., 96., 90., 84., 73., 74., 78., 92.,\n",
       "       71., 72., 68., 62., 49., 67., 81., 66., 56., 79., 70., 59., 64.,\n",
       "       75., 60., 63., 69., 50., 25., 42., 44., 55., 48., 57., 29., 47.,\n",
       "       65., 54., 20., 53., 37., 38., 33., 52., 30., 32., 43., 45., 51.,\n",
       "       40., 46., 39., 34., 35., 41., 36., 28., 31., 27., 26., 19., 23.,\n",
       "       24., 21., 17., 22., 13.])"
      ]
     },
     "execution_count": 19,
     "metadata": {},
     "output_type": "execute_result"
    }
   ],
   "source": [
    "games['critic_score'].unique()"
   ]
  },
  {
   "cell_type": "code",
   "execution_count": 20,
   "id": "8404faaa",
   "metadata": {},
   "outputs": [],
   "source": [
    "games['critic_score'] = games['critic_score'].fillna(-1)"
   ]
  },
  {
   "cell_type": "code",
   "execution_count": 21,
   "id": "5f4c3aff",
   "metadata": {},
   "outputs": [
    {
     "name": "stdout",
     "output_type": "stream",
     "text": [
      "<class 'pandas.core.frame.DataFrame'>\n",
      "RangeIndex: 16715 entries, 0 to 16714\n",
      "Data columns (total 11 columns):\n",
      "name               16713 non-null object\n",
      "platform           16715 non-null object\n",
      "year_of_release    16715 non-null int64\n",
      "genre              16713 non-null object\n",
      "na_sales           16715 non-null float64\n",
      "eu_sales           16715 non-null float64\n",
      "jp_sales           16715 non-null float64\n",
      "other_sales        16715 non-null float64\n",
      "critic_score       16715 non-null float64\n",
      "user_score         16715 non-null float64\n",
      "rating             9949 non-null object\n",
      "dtypes: float64(6), int64(1), object(4)\n",
      "memory usage: 1.4+ MB\n"
     ]
    }
   ],
   "source": [
    "games.info()"
   ]
  },
  {
   "cell_type": "markdown",
   "id": "b1bb2e00",
   "metadata": {},
   "source": [
    "#### Столбец рейтинг "
   ]
  },
  {
   "cell_type": "code",
   "execution_count": 22,
   "id": "84a9ca7f",
   "metadata": {},
   "outputs": [
    {
     "data": {
      "text/plain": [
       "array(['E', nan, 'M', 'T', 'E10+', 'K-A', 'AO', 'EC', 'RP'], dtype=object)"
      ]
     },
     "execution_count": 22,
     "metadata": {},
     "output_type": "execute_result"
    }
   ],
   "source": [
    "games['rating'].unique()"
   ]
  },
  {
   "cell_type": "code",
   "execution_count": 23,
   "id": "0b392171",
   "metadata": {},
   "outputs": [
    {
     "data": {
      "text/html": [
       "<div>\n",
       "<style scoped>\n",
       "    .dataframe tbody tr th:only-of-type {\n",
       "        vertical-align: middle;\n",
       "    }\n",
       "\n",
       "    .dataframe tbody tr th {\n",
       "        vertical-align: top;\n",
       "    }\n",
       "\n",
       "    .dataframe thead th {\n",
       "        text-align: right;\n",
       "    }\n",
       "</style>\n",
       "<table border=\"1\" class=\"dataframe\">\n",
       "  <thead>\n",
       "    <tr style=\"text-align: right;\">\n",
       "      <th></th>\n",
       "      <th>name</th>\n",
       "      <th>platform</th>\n",
       "      <th>year_of_release</th>\n",
       "      <th>genre</th>\n",
       "      <th>na_sales</th>\n",
       "      <th>eu_sales</th>\n",
       "      <th>jp_sales</th>\n",
       "      <th>other_sales</th>\n",
       "      <th>critic_score</th>\n",
       "      <th>user_score</th>\n",
       "      <th>rating</th>\n",
       "    </tr>\n",
       "  </thead>\n",
       "  <tbody>\n",
       "    <tr>\n",
       "      <td>1</td>\n",
       "      <td>Super Mario Bros.</td>\n",
       "      <td>NES</td>\n",
       "      <td>1985</td>\n",
       "      <td>Platform</td>\n",
       "      <td>29.08</td>\n",
       "      <td>3.58</td>\n",
       "      <td>6.81</td>\n",
       "      <td>0.77</td>\n",
       "      <td>-1.0</td>\n",
       "      <td>-1.0</td>\n",
       "      <td>NaN</td>\n",
       "    </tr>\n",
       "    <tr>\n",
       "      <td>4</td>\n",
       "      <td>Pokemon Red/Pokemon Blue</td>\n",
       "      <td>GB</td>\n",
       "      <td>1996</td>\n",
       "      <td>Role-Playing</td>\n",
       "      <td>11.27</td>\n",
       "      <td>8.89</td>\n",
       "      <td>10.22</td>\n",
       "      <td>1.00</td>\n",
       "      <td>-1.0</td>\n",
       "      <td>-1.0</td>\n",
       "      <td>NaN</td>\n",
       "    </tr>\n",
       "    <tr>\n",
       "      <td>5</td>\n",
       "      <td>Tetris</td>\n",
       "      <td>GB</td>\n",
       "      <td>1989</td>\n",
       "      <td>Puzzle</td>\n",
       "      <td>23.20</td>\n",
       "      <td>2.26</td>\n",
       "      <td>4.22</td>\n",
       "      <td>0.58</td>\n",
       "      <td>-1.0</td>\n",
       "      <td>-1.0</td>\n",
       "      <td>NaN</td>\n",
       "    </tr>\n",
       "    <tr>\n",
       "      <td>9</td>\n",
       "      <td>Duck Hunt</td>\n",
       "      <td>NES</td>\n",
       "      <td>1984</td>\n",
       "      <td>Shooter</td>\n",
       "      <td>26.93</td>\n",
       "      <td>0.63</td>\n",
       "      <td>0.28</td>\n",
       "      <td>0.47</td>\n",
       "      <td>-1.0</td>\n",
       "      <td>-1.0</td>\n",
       "      <td>NaN</td>\n",
       "    </tr>\n",
       "    <tr>\n",
       "      <td>10</td>\n",
       "      <td>Nintendogs</td>\n",
       "      <td>DS</td>\n",
       "      <td>2005</td>\n",
       "      <td>Simulation</td>\n",
       "      <td>9.05</td>\n",
       "      <td>10.95</td>\n",
       "      <td>1.93</td>\n",
       "      <td>2.74</td>\n",
       "      <td>-1.0</td>\n",
       "      <td>-1.0</td>\n",
       "      <td>NaN</td>\n",
       "    </tr>\n",
       "    <tr>\n",
       "      <td>...</td>\n",
       "      <td>...</td>\n",
       "      <td>...</td>\n",
       "      <td>...</td>\n",
       "      <td>...</td>\n",
       "      <td>...</td>\n",
       "      <td>...</td>\n",
       "      <td>...</td>\n",
       "      <td>...</td>\n",
       "      <td>...</td>\n",
       "      <td>...</td>\n",
       "      <td>...</td>\n",
       "    </tr>\n",
       "    <tr>\n",
       "      <td>16710</td>\n",
       "      <td>Samurai Warriors: Sanada Maru</td>\n",
       "      <td>PS3</td>\n",
       "      <td>2016</td>\n",
       "      <td>Action</td>\n",
       "      <td>0.00</td>\n",
       "      <td>0.00</td>\n",
       "      <td>0.01</td>\n",
       "      <td>0.00</td>\n",
       "      <td>-1.0</td>\n",
       "      <td>-1.0</td>\n",
       "      <td>NaN</td>\n",
       "    </tr>\n",
       "    <tr>\n",
       "      <td>16711</td>\n",
       "      <td>LMA Manager 2007</td>\n",
       "      <td>X360</td>\n",
       "      <td>2006</td>\n",
       "      <td>Sports</td>\n",
       "      <td>0.00</td>\n",
       "      <td>0.01</td>\n",
       "      <td>0.00</td>\n",
       "      <td>0.00</td>\n",
       "      <td>-1.0</td>\n",
       "      <td>-1.0</td>\n",
       "      <td>NaN</td>\n",
       "    </tr>\n",
       "    <tr>\n",
       "      <td>16712</td>\n",
       "      <td>Haitaka no Psychedelica</td>\n",
       "      <td>PSV</td>\n",
       "      <td>2016</td>\n",
       "      <td>Adventure</td>\n",
       "      <td>0.00</td>\n",
       "      <td>0.00</td>\n",
       "      <td>0.01</td>\n",
       "      <td>0.00</td>\n",
       "      <td>-1.0</td>\n",
       "      <td>-1.0</td>\n",
       "      <td>NaN</td>\n",
       "    </tr>\n",
       "    <tr>\n",
       "      <td>16713</td>\n",
       "      <td>Spirits &amp; Spells</td>\n",
       "      <td>GBA</td>\n",
       "      <td>2003</td>\n",
       "      <td>Platform</td>\n",
       "      <td>0.01</td>\n",
       "      <td>0.00</td>\n",
       "      <td>0.00</td>\n",
       "      <td>0.00</td>\n",
       "      <td>-1.0</td>\n",
       "      <td>-1.0</td>\n",
       "      <td>NaN</td>\n",
       "    </tr>\n",
       "    <tr>\n",
       "      <td>16714</td>\n",
       "      <td>Winning Post 8 2016</td>\n",
       "      <td>PSV</td>\n",
       "      <td>2016</td>\n",
       "      <td>Simulation</td>\n",
       "      <td>0.00</td>\n",
       "      <td>0.00</td>\n",
       "      <td>0.01</td>\n",
       "      <td>0.00</td>\n",
       "      <td>-1.0</td>\n",
       "      <td>-1.0</td>\n",
       "      <td>NaN</td>\n",
       "    </tr>\n",
       "  </tbody>\n",
       "</table>\n",
       "<p>6766 rows × 11 columns</p>\n",
       "</div>"
      ],
      "text/plain": [
       "                                name platform  year_of_release         genre  \\\n",
       "1                  Super Mario Bros.      NES             1985      Platform   \n",
       "4           Pokemon Red/Pokemon Blue       GB             1996  Role-Playing   \n",
       "5                             Tetris       GB             1989        Puzzle   \n",
       "9                          Duck Hunt      NES             1984       Shooter   \n",
       "10                        Nintendogs       DS             2005    Simulation   \n",
       "...                              ...      ...              ...           ...   \n",
       "16710  Samurai Warriors: Sanada Maru      PS3             2016        Action   \n",
       "16711               LMA Manager 2007     X360             2006        Sports   \n",
       "16712        Haitaka no Psychedelica      PSV             2016     Adventure   \n",
       "16713               Spirits & Spells      GBA             2003      Platform   \n",
       "16714            Winning Post 8 2016      PSV             2016    Simulation   \n",
       "\n",
       "       na_sales  eu_sales  jp_sales  other_sales  critic_score  user_score  \\\n",
       "1         29.08      3.58      6.81         0.77          -1.0        -1.0   \n",
       "4         11.27      8.89     10.22         1.00          -1.0        -1.0   \n",
       "5         23.20      2.26      4.22         0.58          -1.0        -1.0   \n",
       "9         26.93      0.63      0.28         0.47          -1.0        -1.0   \n",
       "10         9.05     10.95      1.93         2.74          -1.0        -1.0   \n",
       "...         ...       ...       ...          ...           ...         ...   \n",
       "16710      0.00      0.00      0.01         0.00          -1.0        -1.0   \n",
       "16711      0.00      0.01      0.00         0.00          -1.0        -1.0   \n",
       "16712      0.00      0.00      0.01         0.00          -1.0        -1.0   \n",
       "16713      0.01      0.00      0.00         0.00          -1.0        -1.0   \n",
       "16714      0.00      0.00      0.01         0.00          -1.0        -1.0   \n",
       "\n",
       "      rating  \n",
       "1        NaN  \n",
       "4        NaN  \n",
       "5        NaN  \n",
       "9        NaN  \n",
       "10       NaN  \n",
       "...      ...  \n",
       "16710    NaN  \n",
       "16711    NaN  \n",
       "16712    NaN  \n",
       "16713    NaN  \n",
       "16714    NaN  \n",
       "\n",
       "[6766 rows x 11 columns]"
      ]
     },
     "execution_count": 23,
     "metadata": {},
     "output_type": "execute_result"
    }
   ],
   "source": [
    "games[games['rating'].isna() == True]"
   ]
  },
  {
   "cell_type": "markdown",
   "id": "47ea17e2",
   "metadata": {},
   "source": [
    "В данному случаем заменим пропуски на \"Unrated\", т.к. игры с пропущенным значениям скорее всего не отправляли на проверку рейтинга."
   ]
  },
  {
   "cell_type": "code",
   "execution_count": 24,
   "id": "478701ae",
   "metadata": {},
   "outputs": [],
   "source": [
    "games['rating'] = games['rating'].fillna('Unrated')\n",
    "games['rating'] = np.where((games.rating == 'K-A'), 'E', games.rating)"
   ]
  },
  {
   "cell_type": "code",
   "execution_count": 25,
   "id": "20cd28d4",
   "metadata": {},
   "outputs": [
    {
     "data": {
      "text/plain": [
       "array(['E', 'Unrated', 'M', 'T', 'E10+', 'AO', 'EC', 'RP'], dtype=object)"
      ]
     },
     "execution_count": 25,
     "metadata": {},
     "output_type": "execute_result"
    }
   ],
   "source": [
    "games['rating'].unique()"
   ]
  },
  {
   "cell_type": "code",
   "execution_count": 26,
   "id": "5c712594",
   "metadata": {
    "scrolled": true
   },
   "outputs": [
    {
     "name": "stdout",
     "output_type": "stream",
     "text": [
      "<class 'pandas.core.frame.DataFrame'>\n",
      "RangeIndex: 16715 entries, 0 to 16714\n",
      "Data columns (total 11 columns):\n",
      "name               16713 non-null object\n",
      "platform           16715 non-null object\n",
      "year_of_release    16715 non-null int64\n",
      "genre              16713 non-null object\n",
      "na_sales           16715 non-null float64\n",
      "eu_sales           16715 non-null float64\n",
      "jp_sales           16715 non-null float64\n",
      "other_sales        16715 non-null float64\n",
      "critic_score       16715 non-null float64\n",
      "user_score         16715 non-null float64\n",
      "rating             16715 non-null object\n",
      "dtypes: float64(6), int64(1), object(4)\n",
      "memory usage: 1.4+ MB\n"
     ]
    }
   ],
   "source": [
    "games.info()"
   ]
  },
  {
   "cell_type": "markdown",
   "id": "f12360eb",
   "metadata": {},
   "source": [
    "#### Столбцы название и жанр"
   ]
  },
  {
   "cell_type": "code",
   "execution_count": 27,
   "id": "58c784c9",
   "metadata": {},
   "outputs": [
    {
     "data": {
      "text/html": [
       "<div>\n",
       "<style scoped>\n",
       "    .dataframe tbody tr th:only-of-type {\n",
       "        vertical-align: middle;\n",
       "    }\n",
       "\n",
       "    .dataframe tbody tr th {\n",
       "        vertical-align: top;\n",
       "    }\n",
       "\n",
       "    .dataframe thead th {\n",
       "        text-align: right;\n",
       "    }\n",
       "</style>\n",
       "<table border=\"1\" class=\"dataframe\">\n",
       "  <thead>\n",
       "    <tr style=\"text-align: right;\">\n",
       "      <th></th>\n",
       "      <th>name</th>\n",
       "      <th>platform</th>\n",
       "      <th>year_of_release</th>\n",
       "      <th>genre</th>\n",
       "      <th>na_sales</th>\n",
       "      <th>eu_sales</th>\n",
       "      <th>jp_sales</th>\n",
       "      <th>other_sales</th>\n",
       "      <th>critic_score</th>\n",
       "      <th>user_score</th>\n",
       "      <th>rating</th>\n",
       "    </tr>\n",
       "  </thead>\n",
       "  <tbody>\n",
       "    <tr>\n",
       "      <td>659</td>\n",
       "      <td>NaN</td>\n",
       "      <td>GEN</td>\n",
       "      <td>1993</td>\n",
       "      <td>NaN</td>\n",
       "      <td>1.78</td>\n",
       "      <td>0.53</td>\n",
       "      <td>0.00</td>\n",
       "      <td>0.08</td>\n",
       "      <td>-1.0</td>\n",
       "      <td>-1.0</td>\n",
       "      <td>Unrated</td>\n",
       "    </tr>\n",
       "    <tr>\n",
       "      <td>14244</td>\n",
       "      <td>NaN</td>\n",
       "      <td>GEN</td>\n",
       "      <td>1993</td>\n",
       "      <td>NaN</td>\n",
       "      <td>0.00</td>\n",
       "      <td>0.00</td>\n",
       "      <td>0.03</td>\n",
       "      <td>0.00</td>\n",
       "      <td>-1.0</td>\n",
       "      <td>-1.0</td>\n",
       "      <td>Unrated</td>\n",
       "    </tr>\n",
       "  </tbody>\n",
       "</table>\n",
       "</div>"
      ],
      "text/plain": [
       "      name platform  year_of_release genre  na_sales  eu_sales  jp_sales  \\\n",
       "659    NaN      GEN             1993   NaN      1.78      0.53      0.00   \n",
       "14244  NaN      GEN             1993   NaN      0.00      0.00      0.03   \n",
       "\n",
       "       other_sales  critic_score  user_score   rating  \n",
       "659           0.08          -1.0        -1.0  Unrated  \n",
       "14244         0.00          -1.0        -1.0  Unrated  "
      ]
     },
     "execution_count": 27,
     "metadata": {},
     "output_type": "execute_result"
    }
   ],
   "source": [
    "games[games['name'].isna() == True]"
   ]
  },
  {
   "cell_type": "code",
   "execution_count": 28,
   "id": "47e36978",
   "metadata": {
    "scrolled": true
   },
   "outputs": [
    {
     "data": {
      "text/html": [
       "<div>\n",
       "<style scoped>\n",
       "    .dataframe tbody tr th:only-of-type {\n",
       "        vertical-align: middle;\n",
       "    }\n",
       "\n",
       "    .dataframe tbody tr th {\n",
       "        vertical-align: top;\n",
       "    }\n",
       "\n",
       "    .dataframe thead th {\n",
       "        text-align: right;\n",
       "    }\n",
       "</style>\n",
       "<table border=\"1\" class=\"dataframe\">\n",
       "  <thead>\n",
       "    <tr style=\"text-align: right;\">\n",
       "      <th></th>\n",
       "      <th>name</th>\n",
       "      <th>platform</th>\n",
       "      <th>year_of_release</th>\n",
       "      <th>genre</th>\n",
       "      <th>na_sales</th>\n",
       "      <th>eu_sales</th>\n",
       "      <th>jp_sales</th>\n",
       "      <th>other_sales</th>\n",
       "      <th>critic_score</th>\n",
       "      <th>user_score</th>\n",
       "      <th>rating</th>\n",
       "    </tr>\n",
       "  </thead>\n",
       "  <tbody>\n",
       "    <tr>\n",
       "      <td>659</td>\n",
       "      <td>NaN</td>\n",
       "      <td>GEN</td>\n",
       "      <td>1993</td>\n",
       "      <td>NaN</td>\n",
       "      <td>1.78</td>\n",
       "      <td>0.53</td>\n",
       "      <td>0.00</td>\n",
       "      <td>0.08</td>\n",
       "      <td>-1.0</td>\n",
       "      <td>-1.0</td>\n",
       "      <td>Unrated</td>\n",
       "    </tr>\n",
       "    <tr>\n",
       "      <td>14244</td>\n",
       "      <td>NaN</td>\n",
       "      <td>GEN</td>\n",
       "      <td>1993</td>\n",
       "      <td>NaN</td>\n",
       "      <td>0.00</td>\n",
       "      <td>0.00</td>\n",
       "      <td>0.03</td>\n",
       "      <td>0.00</td>\n",
       "      <td>-1.0</td>\n",
       "      <td>-1.0</td>\n",
       "      <td>Unrated</td>\n",
       "    </tr>\n",
       "  </tbody>\n",
       "</table>\n",
       "</div>"
      ],
      "text/plain": [
       "      name platform  year_of_release genre  na_sales  eu_sales  jp_sales  \\\n",
       "659    NaN      GEN             1993   NaN      1.78      0.53      0.00   \n",
       "14244  NaN      GEN             1993   NaN      0.00      0.00      0.03   \n",
       "\n",
       "       other_sales  critic_score  user_score   rating  \n",
       "659           0.08          -1.0        -1.0  Unrated  \n",
       "14244         0.00          -1.0        -1.0  Unrated  "
      ]
     },
     "execution_count": 28,
     "metadata": {},
     "output_type": "execute_result"
    }
   ],
   "source": [
    "games[games['genre'].isna() == True]"
   ]
  },
  {
   "cell_type": "markdown",
   "id": "fc031cbc",
   "metadata": {},
   "source": [
    "Строки с пропуском индентичные, в них пропущено много значений, одна из них так вообще продалась 30000 копиями исключительно в японии. \n",
    "\n",
    "На релеватность данных их удаление не повиляет, так-что избавимся от них"
   ]
  },
  {
   "cell_type": "code",
   "execution_count": 29,
   "id": "faf419dd",
   "metadata": {
    "scrolled": true
   },
   "outputs": [],
   "source": [
    "games = games.dropna()"
   ]
  },
  {
   "cell_type": "code",
   "execution_count": 30,
   "id": "0127bb96",
   "metadata": {},
   "outputs": [
    {
     "name": "stdout",
     "output_type": "stream",
     "text": [
      "<class 'pandas.core.frame.DataFrame'>\n",
      "Int64Index: 16713 entries, 0 to 16714\n",
      "Data columns (total 11 columns):\n",
      "name               16713 non-null object\n",
      "platform           16713 non-null object\n",
      "year_of_release    16713 non-null int64\n",
      "genre              16713 non-null object\n",
      "na_sales           16713 non-null float64\n",
      "eu_sales           16713 non-null float64\n",
      "jp_sales           16713 non-null float64\n",
      "other_sales        16713 non-null float64\n",
      "critic_score       16713 non-null float64\n",
      "user_score         16713 non-null float64\n",
      "rating             16713 non-null object\n",
      "dtypes: float64(6), int64(1), object(4)\n",
      "memory usage: 1.5+ MB\n"
     ]
    }
   ],
   "source": [
    "games.info()"
   ]
  },
  {
   "cell_type": "markdown",
   "id": "7e45f0e4",
   "metadata": {},
   "source": [
    "### Подсчет суммарных продаж по всем регионам"
   ]
  },
  {
   "cell_type": "code",
   "execution_count": 31,
   "id": "aa67ce5a",
   "metadata": {},
   "outputs": [],
   "source": [
    "games['total_sales'] = games['na_sales'] + games['eu_sales'] + games['jp_sales'] + games['other_sales']"
   ]
  },
  {
   "cell_type": "code",
   "execution_count": 32,
   "id": "849d2f7e",
   "metadata": {},
   "outputs": [
    {
     "data": {
      "text/html": [
       "<div>\n",
       "<style scoped>\n",
       "    .dataframe tbody tr th:only-of-type {\n",
       "        vertical-align: middle;\n",
       "    }\n",
       "\n",
       "    .dataframe tbody tr th {\n",
       "        vertical-align: top;\n",
       "    }\n",
       "\n",
       "    .dataframe thead th {\n",
       "        text-align: right;\n",
       "    }\n",
       "</style>\n",
       "<table border=\"1\" class=\"dataframe\">\n",
       "  <thead>\n",
       "    <tr style=\"text-align: right;\">\n",
       "      <th></th>\n",
       "      <th>name</th>\n",
       "      <th>platform</th>\n",
       "      <th>year_of_release</th>\n",
       "      <th>genre</th>\n",
       "      <th>na_sales</th>\n",
       "      <th>eu_sales</th>\n",
       "      <th>jp_sales</th>\n",
       "      <th>other_sales</th>\n",
       "      <th>critic_score</th>\n",
       "      <th>user_score</th>\n",
       "      <th>rating</th>\n",
       "      <th>total_sales</th>\n",
       "    </tr>\n",
       "  </thead>\n",
       "  <tbody>\n",
       "    <tr>\n",
       "      <td>0</td>\n",
       "      <td>Wii Sports</td>\n",
       "      <td>Wii</td>\n",
       "      <td>2006</td>\n",
       "      <td>Sports</td>\n",
       "      <td>41.36</td>\n",
       "      <td>28.96</td>\n",
       "      <td>3.77</td>\n",
       "      <td>8.45</td>\n",
       "      <td>76.0</td>\n",
       "      <td>8.0</td>\n",
       "      <td>E</td>\n",
       "      <td>82.54</td>\n",
       "    </tr>\n",
       "    <tr>\n",
       "      <td>1</td>\n",
       "      <td>Super Mario Bros.</td>\n",
       "      <td>NES</td>\n",
       "      <td>1985</td>\n",
       "      <td>Platform</td>\n",
       "      <td>29.08</td>\n",
       "      <td>3.58</td>\n",
       "      <td>6.81</td>\n",
       "      <td>0.77</td>\n",
       "      <td>-1.0</td>\n",
       "      <td>-1.0</td>\n",
       "      <td>Unrated</td>\n",
       "      <td>40.24</td>\n",
       "    </tr>\n",
       "    <tr>\n",
       "      <td>2</td>\n",
       "      <td>Mario Kart Wii</td>\n",
       "      <td>Wii</td>\n",
       "      <td>2008</td>\n",
       "      <td>Racing</td>\n",
       "      <td>15.68</td>\n",
       "      <td>12.76</td>\n",
       "      <td>3.79</td>\n",
       "      <td>3.29</td>\n",
       "      <td>82.0</td>\n",
       "      <td>8.3</td>\n",
       "      <td>E</td>\n",
       "      <td>35.52</td>\n",
       "    </tr>\n",
       "    <tr>\n",
       "      <td>3</td>\n",
       "      <td>Wii Sports Resort</td>\n",
       "      <td>Wii</td>\n",
       "      <td>2009</td>\n",
       "      <td>Sports</td>\n",
       "      <td>15.61</td>\n",
       "      <td>10.93</td>\n",
       "      <td>3.28</td>\n",
       "      <td>2.95</td>\n",
       "      <td>80.0</td>\n",
       "      <td>8.0</td>\n",
       "      <td>E</td>\n",
       "      <td>32.77</td>\n",
       "    </tr>\n",
       "    <tr>\n",
       "      <td>4</td>\n",
       "      <td>Pokemon Red/Pokemon Blue</td>\n",
       "      <td>GB</td>\n",
       "      <td>1996</td>\n",
       "      <td>Role-Playing</td>\n",
       "      <td>11.27</td>\n",
       "      <td>8.89</td>\n",
       "      <td>10.22</td>\n",
       "      <td>1.00</td>\n",
       "      <td>-1.0</td>\n",
       "      <td>-1.0</td>\n",
       "      <td>Unrated</td>\n",
       "      <td>31.38</td>\n",
       "    </tr>\n",
       "  </tbody>\n",
       "</table>\n",
       "</div>"
      ],
      "text/plain": [
       "                       name platform  year_of_release         genre  na_sales  \\\n",
       "0                Wii Sports      Wii             2006        Sports     41.36   \n",
       "1         Super Mario Bros.      NES             1985      Platform     29.08   \n",
       "2            Mario Kart Wii      Wii             2008        Racing     15.68   \n",
       "3         Wii Sports Resort      Wii             2009        Sports     15.61   \n",
       "4  Pokemon Red/Pokemon Blue       GB             1996  Role-Playing     11.27   \n",
       "\n",
       "   eu_sales  jp_sales  other_sales  critic_score  user_score   rating  \\\n",
       "0     28.96      3.77         8.45          76.0         8.0        E   \n",
       "1      3.58      6.81         0.77          -1.0        -1.0  Unrated   \n",
       "2     12.76      3.79         3.29          82.0         8.3        E   \n",
       "3     10.93      3.28         2.95          80.0         8.0        E   \n",
       "4      8.89     10.22         1.00          -1.0        -1.0  Unrated   \n",
       "\n",
       "   total_sales  \n",
       "0        82.54  \n",
       "1        40.24  \n",
       "2        35.52  \n",
       "3        32.77  \n",
       "4        31.38  "
      ]
     },
     "execution_count": 32,
     "metadata": {},
     "output_type": "execute_result"
    }
   ],
   "source": [
    "games.head()"
   ]
  },
  {
   "cell_type": "markdown",
   "id": "d8a26a3a",
   "metadata": {},
   "source": [
    "### Вывод\n",
    "- Были удалены 2 неизвестные игры\n",
    "- Столбцы с годом и рейтингами привели к нужным типам\n",
    "- Подсчитали суммарные продажи\n",
    "\n",
    "В целом данным собраны хороши, однако отсутсвие значений в рейтинги, говорит о том, что есть ошибка в алгоритме сбора данных, т.к. игры подлежат обязательному возростному рейтингу.\n",
    "\n",
    "С оценками их скорее всего могли просто неставить, те или иные группы."
   ]
  },
  {
   "cell_type": "markdown",
   "id": "e353ac9b",
   "metadata": {},
   "source": [
    "## Анализ данных"
   ]
  },
  {
   "cell_type": "markdown",
   "id": "53fcb436",
   "metadata": {},
   "source": [
    "### Функция для построение диаграмм"
   ]
  },
  {
   "cell_type": "code",
   "execution_count": 33,
   "id": "e650e528",
   "metadata": {},
   "outputs": [],
   "source": [
    "def create_bar(groupby_column, func, y='name'):\n",
    "    plt.style.use('seaborn-pastel')\n",
    "    df_to_plot = games.groupby(groupby_column)[y]\n",
    "    if func == 'count':\n",
    "        df_to_plot_calculated = df_to_plot.count()\n",
    "        figsize = (15,5)\n",
    "        plot = df_to_plot_calculated.plot(kind='bar', y=y, figsize=figsize, ec='black')\n",
    "        plt.legend()\n",
    "    elif func == 'sum':\n",
    "        df_to_plot_calculated = df_to_plot.sum().sort_values()\n",
    "        figsize = (15,10)\n",
    "        plot = df_to_plot_calculated.plot(kind='barh', y=y, figsize=figsize, ec='black')\n",
    "        plt.legend()"
   ]
  },
  {
   "cell_type": "markdown",
   "id": "ea3b07a2",
   "metadata": {},
   "source": [
    "### Сколько игры выпускалась в разные годы?"
   ]
  },
  {
   "cell_type": "code",
   "execution_count": 34,
   "id": "3df2c7ce",
   "metadata": {
    "scrolled": true
   },
   "outputs": [
    {
     "data": {
      "text/html": [
       "<div>\n",
       "<style scoped>\n",
       "    .dataframe tbody tr th:only-of-type {\n",
       "        vertical-align: middle;\n",
       "    }\n",
       "\n",
       "    .dataframe tbody tr th {\n",
       "        vertical-align: top;\n",
       "    }\n",
       "\n",
       "    .dataframe thead th {\n",
       "        text-align: right;\n",
       "    }\n",
       "</style>\n",
       "<table border=\"1\" class=\"dataframe\">\n",
       "  <thead>\n",
       "    <tr style=\"text-align: right;\">\n",
       "      <th></th>\n",
       "      <th>name</th>\n",
       "      <th>platform</th>\n",
       "      <th>year_of_release</th>\n",
       "      <th>genre</th>\n",
       "      <th>na_sales</th>\n",
       "      <th>eu_sales</th>\n",
       "      <th>jp_sales</th>\n",
       "      <th>other_sales</th>\n",
       "      <th>critic_score</th>\n",
       "      <th>user_score</th>\n",
       "      <th>rating</th>\n",
       "      <th>total_sales</th>\n",
       "    </tr>\n",
       "  </thead>\n",
       "  <tbody>\n",
       "    <tr>\n",
       "      <td>0</td>\n",
       "      <td>Wii Sports</td>\n",
       "      <td>Wii</td>\n",
       "      <td>2006</td>\n",
       "      <td>Sports</td>\n",
       "      <td>41.36</td>\n",
       "      <td>28.96</td>\n",
       "      <td>3.77</td>\n",
       "      <td>8.45</td>\n",
       "      <td>76.0</td>\n",
       "      <td>8.0</td>\n",
       "      <td>E</td>\n",
       "      <td>82.54</td>\n",
       "    </tr>\n",
       "    <tr>\n",
       "      <td>1</td>\n",
       "      <td>Super Mario Bros.</td>\n",
       "      <td>NES</td>\n",
       "      <td>1985</td>\n",
       "      <td>Platform</td>\n",
       "      <td>29.08</td>\n",
       "      <td>3.58</td>\n",
       "      <td>6.81</td>\n",
       "      <td>0.77</td>\n",
       "      <td>-1.0</td>\n",
       "      <td>-1.0</td>\n",
       "      <td>Unrated</td>\n",
       "      <td>40.24</td>\n",
       "    </tr>\n",
       "    <tr>\n",
       "      <td>2</td>\n",
       "      <td>Mario Kart Wii</td>\n",
       "      <td>Wii</td>\n",
       "      <td>2008</td>\n",
       "      <td>Racing</td>\n",
       "      <td>15.68</td>\n",
       "      <td>12.76</td>\n",
       "      <td>3.79</td>\n",
       "      <td>3.29</td>\n",
       "      <td>82.0</td>\n",
       "      <td>8.3</td>\n",
       "      <td>E</td>\n",
       "      <td>35.52</td>\n",
       "    </tr>\n",
       "    <tr>\n",
       "      <td>3</td>\n",
       "      <td>Wii Sports Resort</td>\n",
       "      <td>Wii</td>\n",
       "      <td>2009</td>\n",
       "      <td>Sports</td>\n",
       "      <td>15.61</td>\n",
       "      <td>10.93</td>\n",
       "      <td>3.28</td>\n",
       "      <td>2.95</td>\n",
       "      <td>80.0</td>\n",
       "      <td>8.0</td>\n",
       "      <td>E</td>\n",
       "      <td>32.77</td>\n",
       "    </tr>\n",
       "    <tr>\n",
       "      <td>4</td>\n",
       "      <td>Pokemon Red/Pokemon Blue</td>\n",
       "      <td>GB</td>\n",
       "      <td>1996</td>\n",
       "      <td>Role-Playing</td>\n",
       "      <td>11.27</td>\n",
       "      <td>8.89</td>\n",
       "      <td>10.22</td>\n",
       "      <td>1.00</td>\n",
       "      <td>-1.0</td>\n",
       "      <td>-1.0</td>\n",
       "      <td>Unrated</td>\n",
       "      <td>31.38</td>\n",
       "    </tr>\n",
       "  </tbody>\n",
       "</table>\n",
       "</div>"
      ],
      "text/plain": [
       "                       name platform  year_of_release         genre  na_sales  \\\n",
       "0                Wii Sports      Wii             2006        Sports     41.36   \n",
       "1         Super Mario Bros.      NES             1985      Platform     29.08   \n",
       "2            Mario Kart Wii      Wii             2008        Racing     15.68   \n",
       "3         Wii Sports Resort      Wii             2009        Sports     15.61   \n",
       "4  Pokemon Red/Pokemon Blue       GB             1996  Role-Playing     11.27   \n",
       "\n",
       "   eu_sales  jp_sales  other_sales  critic_score  user_score   rating  \\\n",
       "0     28.96      3.77         8.45          76.0         8.0        E   \n",
       "1      3.58      6.81         0.77          -1.0        -1.0  Unrated   \n",
       "2     12.76      3.79         3.29          82.0         8.3        E   \n",
       "3     10.93      3.28         2.95          80.0         8.0        E   \n",
       "4      8.89     10.22         1.00          -1.0        -1.0  Unrated   \n",
       "\n",
       "   total_sales  \n",
       "0        82.54  \n",
       "1        40.24  \n",
       "2        35.52  \n",
       "3        32.77  \n",
       "4        31.38  "
      ]
     },
     "execution_count": 34,
     "metadata": {},
     "output_type": "execute_result"
    }
   ],
   "source": [
    "games.head()"
   ]
  },
  {
   "cell_type": "code",
   "execution_count": 35,
   "id": "9632b094",
   "metadata": {
    "scrolled": true
   },
   "outputs": [
    {
     "data": {
      "image/png": "[encoded data removed]",
      "text/plain": [
       "<Figure size 1080x360 with 1 Axes>"
      ]
     },
     "metadata": {
      "needs_background": "light"
     },
     "output_type": "display_data"
    }
   ],
   "source": [
    "create_bar('year_of_release', 'count')\n",
    "plt.show()"
   ]
  },
  {
   "cell_type": "markdown",
   "id": "780a977b",
   "metadata": {},
   "source": [
    "До 1994 года и Pentium 1 игр практически не было. Потом они начали появляться, сначала на MS-DOS, потом уже на Windows. Резкий скачок по количеству игр, выпущенных в год, произошел в 2002 году. Пик - 2008-2009 года. После этого начался спад, связанный с развитием мобильных устройств, интеграция соц. сетей в жизнь людей. Это всё привело к тому, что интерес к самим играм упал, соответственно, упало и их производство."
   ]
  },
  {
   "cell_type": "markdown",
   "id": "91404871",
   "metadata": {},
   "source": [
    "### Продажи по платформам"
   ]
  },
  {
   "cell_type": "code",
   "execution_count": 36,
   "id": "449cbf44",
   "metadata": {},
   "outputs": [
    {
     "data": {
      "image/png": "[encoded data removed]",
      "text/plain": [
       "<Figure size 1080x720 with 1 Axes>"
      ]
     },
     "metadata": {
      "needs_background": "light"
     },
     "output_type": "display_data"
    }
   ],
   "source": [
    "create_bar('platform', 'sum', 'total_sales')\n",
    "plt.show()"
   ]
  },
  {
   "cell_type": "markdown",
   "id": "fd39ee93",
   "metadata": {},
   "source": [
    "Больше всего продаж приходится на PlayStation 2. Это логично, ведь эта самая популярная консоль и самая продоваемая консоль, с наибольшим периодом выпуска консоли. По этому и игр на нее было на много больше чем на другие консоли. Следом идут XBox360 и PS3. Они попали на период спада игровой индустрии. Аутсайдеры различные японские консоли."
   ]
  },
  {
   "cell_type": "markdown",
   "id": "d2f15443",
   "metadata": {},
   "source": [
    "###  Появление и исчезновение новых и страхы платформ"
   ]
  },
  {
   "cell_type": "code",
   "execution_count": 37,
   "id": "fa997fb6",
   "metadata": {},
   "outputs": [
    {
     "name": "stdout",
     "output_type": "stream",
     "text": [
      "<class 'pandas.core.frame.DataFrame'>\n",
      "Int64Index: 16713 entries, 0 to 16714\n",
      "Data columns (total 12 columns):\n",
      "name               16713 non-null object\n",
      "platform           16713 non-null object\n",
      "year_of_release    16713 non-null int64\n",
      "genre              16713 non-null object\n",
      "na_sales           16713 non-null float64\n",
      "eu_sales           16713 non-null float64\n",
      "jp_sales           16713 non-null float64\n",
      "other_sales        16713 non-null float64\n",
      "critic_score       16713 non-null float64\n",
      "user_score         16713 non-null float64\n",
      "rating             16713 non-null object\n",
      "total_sales        16713 non-null float64\n",
      "dtypes: float64(7), int64(1), object(4)\n",
      "memory usage: 1.7+ MB\n"
     ]
    }
   ],
   "source": [
    "games.info()"
   ]
  },
  {
   "cell_type": "code",
   "execution_count": 38,
   "id": "2f492563",
   "metadata": {},
   "outputs": [],
   "source": [
    "games_query = games[games['year_of_release'] != 119]"
   ]
  },
  {
   "cell_type": "code",
   "execution_count": 39,
   "id": "3391bade",
   "metadata": {},
   "outputs": [],
   "source": [
    "def create_any_lines(platforms=None, query=None):\n",
    "   # %matplotlib notebook\n",
    "    plt.style.use('tableau-colorblind10') \n",
    "    \n",
    "    ax = plt.gca()\n",
    "    legend_list = []\n",
    "    if query == None:\n",
    "        if platforms == None:\n",
    "            bbox_y = 1.08\n",
    "            legend_size = 7\n",
    "            platforms = games_query['platform'].unique().tolist()\n",
    "        else:\n",
    "            platforms = platforms\n",
    "            bbox_y = 0.97\n",
    "            legend_size = 9\n",
    "    else:\n",
    "        platforms = games.query(query)['platform'].unique().tolist()\n",
    "        bbox_y = 0.97\n",
    "        legend_size = 9\n",
    "        \n",
    "    for platform in platforms:\n",
    "        if query == None:\n",
    "            df_to_plot = games_query.query('platform == @platform')\n",
    "        else:\n",
    "            df_to_plot = games_query.query('platform == @platform').query(query)\n",
    "        lines = df_to_plot.groupby('year_of_release')['total_sales'].sum().plot(x='year_of_release', y='total_sales',\n",
    "                                                                    style='.-', kind='line', fontsize=10,\n",
    "                                                                    linewidth=1, label=platform, ax=ax, figsize=(15,5))\n",
    "        legend_list.append(platform)\n",
    "    \n",
    "    ax.set_xlabel('')\n",
    "   \n",
    "    ax.legend(legend_list, prop={'size':legend_size}, bbox_to_anchor=(1.0, bbox_y))\n",
    "\n",
    "    "
   ]
  },
  {
   "cell_type": "code",
   "execution_count": 40,
   "id": "092ca772",
   "metadata": {
    "scrolled": true
   },
   "outputs": [
    {
     "data": {
      "image/png": "[encoded data removed]",
      "text/plain": [
       "<Figure size 1080x360 with 1 Axes>"
      ]
     },
     "metadata": {
      "needs_background": "light"
     },
     "output_type": "display_data"
    }
   ],
   "source": [
    "create_any_lines()"
   ]
  },
  {
   "cell_type": "markdown",
   "id": "1466f247",
   "metadata": {},
   "source": [
    "Для определение жизни платформ, выберем топ платформ и посмотрим среднюю продолжительность жизни по ним"
   ]
  },
  {
   "cell_type": "code",
   "execution_count": 41,
   "id": "8bd74383",
   "metadata": {
    "scrolled": false
   },
   "outputs": [
    {
     "data": {
      "text/html": [
       "<div>\n",
       "<style scoped>\n",
       "    .dataframe tbody tr th:only-of-type {\n",
       "        vertical-align: middle;\n",
       "    }\n",
       "\n",
       "    .dataframe tbody tr th {\n",
       "        vertical-align: top;\n",
       "    }\n",
       "\n",
       "    .dataframe thead th {\n",
       "        text-align: right;\n",
       "    }\n",
       "</style>\n",
       "<table border=\"1\" class=\"dataframe\">\n",
       "  <thead>\n",
       "    <tr style=\"text-align: right;\">\n",
       "      <th></th>\n",
       "      <th>total_sales</th>\n",
       "    </tr>\n",
       "    <tr>\n",
       "      <th>platform</th>\n",
       "      <th></th>\n",
       "    </tr>\n",
       "  </thead>\n",
       "  <tbody>\n",
       "    <tr>\n",
       "      <td>PS2</td>\n",
       "      <td>1255.77</td>\n",
       "    </tr>\n",
       "    <tr>\n",
       "      <td>X360</td>\n",
       "      <td>971.42</td>\n",
       "    </tr>\n",
       "    <tr>\n",
       "      <td>PS3</td>\n",
       "      <td>939.65</td>\n",
       "    </tr>\n",
       "    <tr>\n",
       "      <td>Wii</td>\n",
       "      <td>907.51</td>\n",
       "    </tr>\n",
       "    <tr>\n",
       "      <td>DS</td>\n",
       "      <td>806.12</td>\n",
       "    </tr>\n",
       "    <tr>\n",
       "      <td>PS</td>\n",
       "      <td>730.86</td>\n",
       "    </tr>\n",
       "    <tr>\n",
       "      <td>GBA</td>\n",
       "      <td>317.85</td>\n",
       "    </tr>\n",
       "    <tr>\n",
       "      <td>PS4</td>\n",
       "      <td>314.14</td>\n",
       "    </tr>\n",
       "    <tr>\n",
       "      <td>PSP</td>\n",
       "      <td>294.05</td>\n",
       "    </tr>\n",
       "    <tr>\n",
       "      <td>PC</td>\n",
       "      <td>259.52</td>\n",
       "    </tr>\n",
       "  </tbody>\n",
       "</table>\n",
       "</div>"
      ],
      "text/plain": [
       "          total_sales\n",
       "platform             \n",
       "PS2           1255.77\n",
       "X360           971.42\n",
       "PS3            939.65\n",
       "Wii            907.51\n",
       "DS             806.12\n",
       "PS             730.86\n",
       "GBA            317.85\n",
       "PS4            314.14\n",
       "PSP            294.05\n",
       "PC             259.52"
      ]
     },
     "execution_count": 41,
     "metadata": {},
     "output_type": "execute_result"
    }
   ],
   "source": [
    "games.groupby('platform')['total_sales'].sum().to_frame('total_sales').sort_values(by='total_sales', ascending=False).head(10)"
   ]
  },
  {
   "cell_type": "code",
   "execution_count": 42,
   "id": "9f51eaad",
   "metadata": {},
   "outputs": [],
   "source": [
    "top_platforms = ['PS2', 'X360', 'PS3', 'Wii', 'PS']"
   ]
  },
  {
   "cell_type": "code",
   "execution_count": 43,
   "id": "9034b69a",
   "metadata": {
    "scrolled": false
   },
   "outputs": [
    {
     "data": {
      "image/png": "[encoded data removed]",
      "text/plain": [
       "<Figure size 1080x360 with 1 Axes>"
      ]
     },
     "metadata": {
      "needs_background": "light"
     },
     "output_type": "display_data"
    }
   ],
   "source": [
    "create_any_lines(platforms=top_platforms)"
   ]
  },
  {
   "cell_type": "markdown",
   "id": "37103d17",
   "metadata": {},
   "source": [
    "Посмотрим, сколько \"живут\" консоли.\n",
    "\n",
    "- PS - прожила с 1994 года до 2003, почти 10 лет;\n",
    "- PS2 - с 2000 до 2011 года - 11 лет;\n",
    "- PS3 - с 2006 по настоящее время ещё живёт, но начала сильно сдавать позиции с выходом в 2013 году PS4;\n",
    "- DS - вышла в 1985, потом вообще нет данных, скорее всего, по той причине, что они не собирались. И с 2004 года популярность стала расти, пик в 2008, конец срока службы - 2013 год - 8 активных лет жизни;\n",
    "- Wii - с 2006 по нынешний день, но в 2016 уже почти изжила себя - опять 10 лет.\n",
    "\n",
    "Таким образом, в среднем консоль живет 10 лет. И жила бы больше, если б не выходили более новые консоли. Но это неизбежно, т.к. прогресс идет вперед и \"железо\" в старых консолях перестает отвечать техническим требованиям новых игр."
   ]
  },
  {
   "cell_type": "markdown",
   "id": "44eebad1",
   "metadata": {},
   "source": [
    "### Динамика продаж игр в наше время."
   ]
  },
  {
   "cell_type": "markdown",
   "id": "108562e4",
   "metadata": {},
   "source": [
    "Нам необходимо выбрать актуальный период - период, за который мы будем оценивать наши данные, на основании выводов по которым будем строить предсказательные модели на 2017 год.\n",
    "\n",
    "На мой взгляд, актуальным периодомявляется период с 2008 по 2016 год:\n",
    "\n",
    "* это год, когда вышли или вот-вот выйдут все популярные консоли;\n",
    "* в этом периоде представлены данные по абсолютно всем самым популярным консолям.\n",
    "\n",
    "Предыдущие года отбросим.\n",
    "\n",
    "Построим ещё один график, отображающий динамику продаж по уже актуальным годам и ответим на вопрос:\n",
    "Какие платформы лидируют по продажам, растут или падают?\n",
    "\n",
    "На основании полученных данных выберем несколько потенциально прибыльных платформ."
   ]
  },
  {
   "cell_type": "code",
   "execution_count": 44,
   "id": "4a766a1c",
   "metadata": {
    "scrolled": true
   },
   "outputs": [
    {
     "data": {
      "image/png": "[encoded data removed]",
      "text/plain": [
       "<Figure size 1080x360 with 1 Axes>"
      ]
     },
     "metadata": {
      "needs_background": "light"
     },
     "output_type": "display_data"
    }
   ],
   "source": [
    "games_query = create_any_lines(query='year_of_release >= 2013')"
   ]
  },
  {
   "cell_type": "markdown",
   "id": "4f5d2a36",
   "metadata": {},
   "source": [
    "На конец 2016 года лидируют по продажам следующие платформы:\n",
    "\n",
    "* PS4;\n",
    "* XBox One;\n",
    "* 3DS.\n",
    "\n",
    "Это топ-3. Причем, исходя из данных, количество продаж игр, выпущенных на каждую из этих платформ, снижается. Таким образом, можно сказать, что весь рынок игр падает."
   ]
  },
  {
   "cell_type": "markdown",
   "id": "d0ae5ffd",
   "metadata": {},
   "source": [
    "### Boxplot по глобальным продажам игр и с разбивкой по платформам."
   ]
  },
  {
   "cell_type": "code",
   "execution_count": 45,
   "id": "7826babb",
   "metadata": {},
   "outputs": [
    {
     "name": "stdout",
     "output_type": "stream",
     "text": [
      "<class 'pandas.core.frame.DataFrame'>\n",
      "Int64Index: 16713 entries, 0 to 16714\n",
      "Data columns (total 12 columns):\n",
      "name               16713 non-null object\n",
      "platform           16713 non-null object\n",
      "year_of_release    16713 non-null int64\n",
      "genre              16713 non-null object\n",
      "na_sales           16713 non-null float64\n",
      "eu_sales           16713 non-null float64\n",
      "jp_sales           16713 non-null float64\n",
      "other_sales        16713 non-null float64\n",
      "critic_score       16713 non-null float64\n",
      "user_score         16713 non-null float64\n",
      "rating             16713 non-null object\n",
      "total_sales        16713 non-null float64\n",
      "dtypes: float64(7), int64(1), object(4)\n",
      "memory usage: 1.7+ MB\n"
     ]
    }
   ],
   "source": [
    "games.info()"
   ]
  },
  {
   "cell_type": "code",
   "execution_count": 46,
   "id": "d0ad0973",
   "metadata": {
    "scrolled": true
   },
   "outputs": [],
   "source": [
    "games_2012 = (games[games['year_of_release'] >= 2012])"
   ]
  },
  {
   "cell_type": "code",
   "execution_count": 47,
   "id": "6bb1cf82",
   "metadata": {},
   "outputs": [],
   "source": [
    "def create_any_sales_boxplot(title=None, query_condition = None, ylims=None):\n",
    "    %matplotlib inline\n",
    "    if query_condition == None:\n",
    "        ax = games_2012.boxplot(column='total_sales', fontsize=25, figsize=(25,10),\n",
    "                                         boxprops=dict(linestyle='-', linewidth=5),\n",
    "                                         medianprops=dict(linestyle='-', linewidth=5),\n",
    "                                         whiskerprops=dict(linestyle='-', linewidth=5),\n",
    "                                         capprops=dict(linestyle='-', linewidth=5), \n",
    "                                         notch=True)\n",
    "    else:\n",
    "        df_query = games_2012.query(query_condition)\n",
    "        by_column = query_condition.split()[0]\n",
    "        ax = df_query.boxplot(column='total_sales', by=by_column, fontsize=25, figsize=(25,10),\n",
    "                                         boxprops=dict(linestyle='-', linewidth=5),\n",
    "                                         medianprops=dict(linestyle='-', linewidth=5),\n",
    "                                         whiskerprops=dict(linestyle='-', linewidth=5),\n",
    "                                         capprops=dict(linestyle='-', linewidth=5),\n",
    "                                         notch=True)\n",
    "        ax.set_xlabel('')\n",
    "        ax.set_title('')\n",
    "    if ylims != None:\n",
    "        ax.set_ylim(ylims)\n",
    "    if title != None:\n",
    "        plt.suptitle(title, y=0.94, fontsize=25, fontweight='bold')"
   ]
  },
  {
   "cell_type": "code",
   "execution_count": 48,
   "id": "2aecb9ce",
   "metadata": {
    "scrolled": false
   },
   "outputs": [
    {
     "data": {
      "image/png": "[encoded data removed]",
      "text/plain": [
       "<Figure size 1800x720 with 1 Axes>"
      ]
     },
     "metadata": {
      "needs_background": "light"
     },
     "output_type": "display_data"
    }
   ],
   "source": [
    "create_any_sales_boxplot('Boxplot по глобальным продажам игр', ylims =[0,2])"
   ]
  },
  {
   "cell_type": "markdown",
   "id": "6654a5e8",
   "metadata": {},
   "source": [
    "В среднем, продажи игр составляют до 1,2 млн долларов. Медиана - 0,2 миллиона долларов. "
   ]
  },
  {
   "cell_type": "code",
   "execution_count": 49,
   "id": "a6dd0364",
   "metadata": {
    "scrolled": true
   },
   "outputs": [
    {
     "name": "stderr",
     "output_type": "stream",
     "text": [
      "/opt/conda/lib/python3.7/site-packages/numpy/core/_asarray.py:83: VisibleDeprecationWarning: Creating an ndarray from ragged nested sequences (which is a list-or-tuple of lists-or-tuples-or ndarrays with different lengths or shapes) is deprecated. If you meant to do this, you must specify 'dtype=object' when creating the ndarray\n",
      "  return array(a, dtype, copy=False, order=order)\n"
     ]
    },
    {
     "data": {
      "image/png": "[encoded data removed]",
      "text/plain": [
       "<Figure size 1800x720 with 1 Axes>"
      ]
     },
     "metadata": {
      "needs_background": "light"
     },
     "output_type": "display_data"
    }
   ],
   "source": [
    "create_any_sales_boxplot('Boxplot продаж по топовым платформам', query_condition=\"platform in @top_platforms\", ylims=[0,2])"
   ]
  },
  {
   "cell_type": "markdown",
   "id": "6ad0c483",
   "metadata": {},
   "source": [
    "Медиана по топовым платформам варьируется от 0,2 до 0.3 млн долларов прибыли за игру.\n",
    "\n",
    "Верхняя граница предела, за которыми уже определяются аномалии, у PS3 на уровне 1,4 млн долларов.\n",
    "\n",
    "У остальных аномалии не наблюдаются."
   ]
  },
  {
   "cell_type": "markdown",
   "id": "dec8d4dc",
   "metadata": {},
   "source": [
    "### Влияние отзывов пользователей и критиков на продажи."
   ]
  },
  {
   "cell_type": "code",
   "execution_count": 50,
   "id": "f6b6859c",
   "metadata": {},
   "outputs": [],
   "source": [
    "games_ps3 = games[(games['platform'] == 'PS3') & (games['critic_score'] > 0)].copy()"
   ]
  },
  {
   "cell_type": "markdown",
   "id": "704aa70f",
   "metadata": {},
   "source": [
    "Для анализа возьмем самую популярную платформу PS3"
   ]
  },
  {
   "cell_type": "code",
   "execution_count": 51,
   "id": "12e54449",
   "metadata": {
    "scrolled": false
   },
   "outputs": [
    {
     "data": {
      "text/plain": [
       "<matplotlib.axes._subplots.AxesSubplot at 0x7f2286e04690>"
      ]
     },
     "execution_count": 51,
     "metadata": {},
     "output_type": "execute_result"
    },
    {
     "data": {
      "image/png": "[encoded data removed]",
      "text/plain": [
       "<Figure size 720x432 with 1 Axes>"
      ]
     },
     "metadata": {
      "needs_background": "light"
     },
     "output_type": "display_data"
    }
   ],
   "source": [
    "matplotlib_axes_logger.setLevel('ERROR')\n",
    "\n",
    "games_ps3 = games[(games['platform'] == 'PS3') & (games['critic_score'] > 0)].copy()\n",
    "games_ps3.plot(kind='scatter', x='critic_score', y='total_sales', ec='black', figsize=(10,6))"
   ]
  },
  {
   "cell_type": "markdown",
   "id": "076bb20b",
   "metadata": {},
   "source": [
    "С увеличением среднего рейтинга критиков увеличивается и средний уровень выручки с продажи игр, что логично: чем качественнее игра, тем больше денег она приносит разработчику и издателю.\n",
    "\n",
    "Теперь от отзывов пользователей:"
   ]
  },
  {
   "cell_type": "code",
   "execution_count": 52,
   "id": "e55dcf5a",
   "metadata": {
    "scrolled": false
   },
   "outputs": [
    {
     "data": {
      "text/plain": [
       "<matplotlib.axes._subplots.AxesSubplot at 0x7f228769f910>"
      ]
     },
     "execution_count": 52,
     "metadata": {},
     "output_type": "execute_result"
    },
    {
     "data": {
      "image/png": "[encoded data removed]",
      "text/plain": [
       "<Figure size 720x432 with 1 Axes>"
      ]
     },
     "metadata": {
      "needs_background": "light"
     },
     "output_type": "display_data"
    }
   ],
   "source": [
    "games_ps3 = games[(games['platform'] == 'PS3') & (games['user_score'] > 0)].copy()\n",
    "games_ps3.plot(kind='scatter', x='user_score', y='total_sales', ec='black', figsize=(10,6))"
   ]
  },
  {
   "cell_type": "markdown",
   "id": "0d919602",
   "metadata": {},
   "source": [
    "Точно такая же картина, правда так называемых выбросов больше - когда рейтинг пользователей не велик, но тем не менее игра собирает большие деньги. В пример могу привести те же последние игры серии Need for Speed, когда все покупают игру, принося разработчикам прибыль, а потом расстраиваются, увидев, какая эта игра, и ставят ей довольное средние оценки."
   ]
  },
  {
   "cell_type": "code",
   "execution_count": 53,
   "id": "3747f7f8",
   "metadata": {},
   "outputs": [
    {
     "data": {
      "text/plain": [
       "<matplotlib.axes._subplots.AxesSubplot at 0x7f2286aac9d0>"
      ]
     },
     "execution_count": 53,
     "metadata": {},
     "output_type": "execute_result"
    },
    {
     "data": {
      "image/png": "[encoded data removed]",
      "text/plain": [
       "<Figure size 648x648 with 2 Axes>"
      ]
     },
     "metadata": {
      "needs_background": "light"
     },
     "output_type": "display_data"
    }
   ],
   "source": [
    "plt.figure(figsize=(9,9))\n",
    "sns.heatmap(games_ps3.corr(), annot=True, cmap=\"Greens\", fmt='.2f', annot_kws={'size':16})"
   ]
  },
  {
   "cell_type": "markdown",
   "id": "3af197ad",
   "metadata": {},
   "source": [
    "Выделим необходимые данные:"
   ]
  },
  {
   "cell_type": "code",
   "execution_count": 54,
   "id": "0beefbca",
   "metadata": {},
   "outputs": [
    {
     "data": {
      "text/plain": [
       "<matplotlib.axes._subplots.AxesSubplot at 0x7f2286d7fc50>"
      ]
     },
     "execution_count": 54,
     "metadata": {},
     "output_type": "execute_result"
    },
    {
     "data": {
      "image/png": "[encoded data removed]",
      "text/plain": [
       "<Figure size 72x216 with 2 Axes>"
      ]
     },
     "metadata": {
      "needs_background": "light"
     },
     "output_type": "display_data"
    }
   ],
   "source": [
    "games_ps3_filtered = games_ps3[['total_sales' ,'critic_score', 'user_score']]\n",
    "plt.figure(figsize=(1,3))\n",
    "sns.heatmap(games_ps3_filtered.corr()[['total_sales']].sort_values(by='total_sales', ascending=False), cmap=\"Greens\", \n",
    "            annot=True, annot_kws={'size':15})"
   ]
  },
  {
   "cell_type": "markdown",
   "id": "fb06a535",
   "metadata": {},
   "source": [
    "Сильнее всего на конечную стоимость влияет оценка критиков. Сильнее меньше, практически не влияет - оценка пользователей."
   ]
  },
  {
   "cell_type": "markdown",
   "id": "0883f453",
   "metadata": {},
   "source": [
    "Посмотрим на корреляцию по платформам"
   ]
  },
  {
   "cell_type": "code",
   "execution_count": 55,
   "id": "f4de0c99",
   "metadata": {},
   "outputs": [
    {
     "data": {
      "image/png": "[encoded data removed]",
      "text/plain": [
       "<Figure size 1080x612 with 12 Axes>"
      ]
     },
     "metadata": {
      "needs_background": "light"
     },
     "output_type": "display_data"
    }
   ],
   "source": [
    "top_platforms = ['PS2', 'X360', 'PS3', 'Wii', 'PS', 'PS4', 'XOne']\n",
    "\n",
    "rows = len(top_platforms) // 2\n",
    "cols = 2\n",
    "fig, axes = plt.subplots(rows, cols, figsize=(15,8.5))\n",
    "count = 0\n",
    "for r in range(rows):\n",
    "    for c in range(cols):\n",
    "        curr_platform = top_platforms[count]\n",
    "        df_prep = games[(games['platform'] == curr_platform) & (games['user_score'] > 0)].copy()\n",
    "        \n",
    "        df_filtered = df_prep[['total_sales' ,'critic_score', 'user_score']]\n",
    "        sns.set(font_scale=1.0)\n",
    "        ax = sns.heatmap(df_filtered.corr()[['total_sales']].sort_values(by='total_sales', ascending=False), \n",
    "                         cmap=\"Greens\", annot=True, annot_kws={'size':15}, ax=axes[r,c])\n",
    "        ax.set_title(curr_platform, fontsize=20)\n",
    "        ax.set_yticklabels(ax.get_yticklabels(), rotation=0)\n",
    "        plt.tight_layout(pad=3)\n",
    "        count += 1"
   ]
  },
  {
   "cell_type": "markdown",
   "id": "16b27673",
   "metadata": {},
   "source": [
    "Данные по корреляции между выручкой и оценкой по платформам PS2, X360, PS3, PS и XOne более или менее совпадает с общими данными по датафрейму.\n",
    "\n",
    "Выделяются Wii, по которой зависимость не такая большая.\n",
    "\n",
    "Кстати, есть платформы, где оценка критиков, согласно данных, сильнее \"определяет\" конечную выручку продукта, чем оценка пользователей. Это платформы PS4 и Xone. \n",
    "\n",
    "Про PS4 и Xone - платформы довольно новые, вполне вероятно, что пользователи пока не \"освоились\", поэтому большого количества отзывов, особенно качественных от них нет."
   ]
  },
  {
   "cell_type": "markdown",
   "id": "61b2fc37",
   "metadata": {},
   "source": [
    "### Распределение игр по жанрам"
   ]
  },
  {
   "cell_type": "code",
   "execution_count": 56,
   "id": "28fce215",
   "metadata": {},
   "outputs": [
    {
     "data": {
      "text/plain": [
       "<matplotlib.legend.Legend at 0x7f228699cf10>"
      ]
     },
     "execution_count": 56,
     "metadata": {},
     "output_type": "execute_result"
    },
    {
     "data": {
      "image/png": "[encoded data removed]",
      "text/plain": [
       "<Figure size 1080x360 with 1 Axes>"
      ]
     },
     "metadata": {},
     "output_type": "display_data"
    }
   ],
   "source": [
    "ax = plt.gca()\n",
    "\n",
    "pivot = games_2012.groupby('genre').agg({'name': 'count', 'total_sales': 'sum'}).sort_values(by='name', ascending=False)\n",
    "\n",
    "plot1 = pivot['name']\n",
    "plot1.plot(kind='bar', figsize=(15,5), ec='black', ax=ax, width=0.2, position=1)\n",
    "\n",
    "plot2 = pivot['total_sales']\n",
    "plot2.plot(kind='bar', figsize=(15,5), ec='black', ax=ax, width=0.2, color='#97F0AA', position=0)\n",
    "\n",
    "ax.legend(['Количество продаж', 'Общая сумма продаж'])"
   ]
  },
  {
   "cell_type": "code",
   "execution_count": 57,
   "id": "ef2c07dc",
   "metadata": {},
   "outputs": [
    {
     "data": {
      "text/plain": [
       "<matplotlib.legend.Legend at 0x7f2285054d50>"
      ]
     },
     "execution_count": 57,
     "metadata": {},
     "output_type": "execute_result"
    },
    {
     "data": {
      "image/png": "[encoded data removed]",
      "text/plain": [
       "<Figure size 1080x360 with 1 Axes>"
      ]
     },
     "metadata": {},
     "output_type": "display_data"
    }
   ],
   "source": [
    "ax = plt.gca()\n",
    "\n",
    "pivot = games_2012.groupby('genre').agg({'name': 'count', 'total_sales': 'median'}).sort_values(by='name', ascending=False)\n",
    "\n",
    "#plot1 = pivot['name']\n",
    "#plot1.plot(kind='bar', figsize=(15,5), ec='black', ax=ax, width=0.2, position=1)\n",
    "\n",
    "plot2 = pivot['total_sales']\n",
    "plot2.plot(kind='bar', figsize=(15,5), ec='black', ax=ax, width=0.2, color='#97F0AA', position=0)\n",
    "\n",
    "ax.legend(['Медианна продаж'])"
   ]
  },
  {
   "cell_type": "markdown",
   "id": "228fbdca",
   "metadata": {},
   "source": [
    "Больше всего игр жанра *action* и *sports* У них же и самые большие выручки. Однако выручка от продаж у них почти одинаковая, а это значит что игры жанра спорт стоят в среднем дороже, чем шутеры."
   ]
  },
  {
   "cell_type": "markdown",
   "id": "9cc0c11f",
   "metadata": {},
   "source": [
    "Количество проданных копий:\n",
    "\n",
    "* Action\n",
    "* Спортивный жанр\n",
    "* Игры \"смешанного\" жанра - Miscellaneous\n",
    "\n",
    "\n",
    "Сумма выручки:\n",
    "\n",
    "* Action\n",
    "* Спортивный жанр\n",
    "* Шутеры"
   ]
  },
  {
   "cell_type": "markdown",
   "id": "d313d8e5",
   "metadata": {},
   "source": [
    "## Составьте портрет пользователя каждого региона"
   ]
  },
  {
   "cell_type": "markdown",
   "id": "f36dc663",
   "metadata": {},
   "source": [
    "### Портрет пользователя регионов NA, EU, JP"
   ]
  },
  {
   "cell_type": "markdown",
   "id": "2091f192",
   "metadata": {},
   "source": [
    "Определим для пользователя каждого региона (NA, EU, JP):\n",
    "\n",
    "* самые популярные платформы (топ-5), опишем различия в долях продаж;\n",
    "* самые популярные жанры (топ-5), поясним разницу;\n",
    "* определим, влияет ли рейтинг ESRB на продажи в отдельном регионе"
   ]
  },
  {
   "cell_type": "code",
   "execution_count": 58,
   "id": "e97fcdef",
   "metadata": {},
   "outputs": [],
   "source": [
    "def top_in_regions_plot(groupby, region_sales, ax):\n",
    "    pivot = games.groupby(groupby).agg({region_sales: 'sum'}).sort_values(by=region_sales, ascending=False)[:5]\n",
    "    title_dict = {'na_sales': 'North America Sales', 'eu_sales': 'Europe Sales', 'jp_sales': 'Japan Sales'}\n",
    "    color_dict = {'na_sales': 'blue', 'eu_sales': 'gray', 'jp_sales': 'forestgreen'}\n",
    "    plot = pivot.plot(kind='bar', ec='black', title=title_dict[region_sales], ax=axes[ax], \n",
    "                   fontsize=18, color=color_dict[region_sales], rot=20)\n",
    "    plot.legend(prop={'size':17})\n",
    "    plot.set_xlabel('')\n",
    "    plot.title.set_size(20)"
   ]
  },
  {
   "cell_type": "markdown",
   "id": "7a9bf600",
   "metadata": {},
   "source": [
    "Определим самые популярные платформы по регионам"
   ]
  },
  {
   "cell_type": "code",
   "execution_count": 59,
   "id": "56c01ba2",
   "metadata": {
    "scrolled": true
   },
   "outputs": [
    {
     "data": {
      "image/png": "[encoded data removed]",
      "text/plain": [
       "<Figure size 1800x432 with 3 Axes>"
      ]
     },
     "metadata": {},
     "output_type": "display_data"
    }
   ],
   "source": [
    "fig, axes = plt.subplots(1, 3, figsize=(25,6))\n",
    "\n",
    "top_in_regions_plot('platform', 'na_sales', 0)\n",
    "top_in_regions_plot('platform', 'eu_sales', 1)\n",
    "top_in_regions_plot('platform', 'jp_sales', 2)"
   ]
  },
  {
   "cell_type": "markdown",
   "id": "cc04b0e5",
   "metadata": {},
   "source": [
    "В Северной Америке имеют(имели) бешеную популярность приставки прошлого поколения X360 и PS2. Немного отстает Wii. Топ-4 и топ-5 - PS3 и DS соответственно.\n",
    "\n",
    "В Европе одинаково (были) популярны PS2 и PS3. За ними X360, Wii и PS.\n",
    "\n",
    "В Японии, как обычно, всё наоборот. Лидер - DS. За ними американские PS и PS2. Далее чисто японские SNES и 3DS."
   ]
  },
  {
   "cell_type": "markdown",
   "id": "a16d3165",
   "metadata": {},
   "source": [
    "Определим популярные жанры в регионах"
   ]
  },
  {
   "cell_type": "code",
   "execution_count": 60,
   "id": "61281720",
   "metadata": {},
   "outputs": [
    {
     "data": {
      "image/png": "[encoded data removed]",
      "text/plain": [
       "<Figure size 1800x432 with 3 Axes>"
      ]
     },
     "metadata": {},
     "output_type": "display_data"
    }
   ],
   "source": [
    "fig, axes = plt.subplots(1, 3, figsize=(25,6))\n",
    "\n",
    "top_in_regions_plot('genre', 'na_sales', 0)\n",
    "top_in_regions_plot('genre', 'eu_sales', 1)\n",
    "top_in_regions_plot('genre', 'jp_sales', 2)"
   ]
  },
  {
   "cell_type": "markdown",
   "id": "39c2d332",
   "metadata": {},
   "source": [
    "Вкусы в Северной Америке и Европе схожи: и там, и там живут фанаты экшнов, спортивных игр и шутеров. В Северной Америке больше играют в платформеры, в Европе же чаще выбирают гонки.\n",
    "\n",
    "\n",
    "В Японии вкус совершенно иной - на первом месте ролевые игры, причем с большим отрывом. Далее экшны и спортивные игры."
   ]
  },
  {
   "cell_type": "markdown",
   "id": "dfa8eb20",
   "metadata": {},
   "source": [
    "Влияет ли рейтинг ESRB на продажи в отдельном регионе?"
   ]
  },
  {
   "cell_type": "code",
   "execution_count": 61,
   "id": "54a6f70c",
   "metadata": {},
   "outputs": [],
   "source": [
    "#games['ESRB_description'] = games[games['rating'] != 'Unrated']['rating']"
   ]
  },
  {
   "cell_type": "code",
   "execution_count": 62,
   "id": "e75d1382",
   "metadata": {},
   "outputs": [
    {
     "data": {
      "image/png": "[encoded data removed]",
      "text/plain": [
       "<Figure size 1800x432 with 3 Axes>"
      ]
     },
     "metadata": {},
     "output_type": "display_data"
    }
   ],
   "source": [
    "fig, axes = plt.subplots(1, 3, figsize=(25,6))\n",
    "\n",
    "top_in_regions_plot('rating', 'na_sales', 0)\n",
    "top_in_regions_plot('rating', 'eu_sales', 1)\n",
    "top_in_regions_plot('rating', 'jp_sales', 2)"
   ]
  },
  {
   "cell_type": "markdown",
   "id": "22675679",
   "metadata": {},
   "source": [
    "В во всех странах больше всего играют в игры с рейтингом для всех.\n",
    "\n",
    "- В *Северной америке* в игры с жанром для подростов и взрослых играют одинаковое кол-во людей\n",
    "- В *Европе* почти так же как и в америке за исключением, что в игры для взрослых играют чуть больше людей\n",
    "- В *Японии* кол-во играющих с рейтингом для подростков сильно превосходит кол-во с рейтингом для взрослых\n",
    "\n",
    "Скорее всего в Японии больше людей начинают играть с подросткового возраста. Либо там в отличие от других стран соблюдают рейтинг игр."
   ]
  },
  {
   "cell_type": "markdown",
   "id": "6d22ebc9",
   "metadata": {},
   "source": [
    "## Проверка гипотез"
   ]
  },
  {
   "cell_type": "markdown",
   "id": "d19e052c",
   "metadata": {},
   "source": [
    "Гипотезы:\n",
    "\n",
    "* средние пользовательские рейтинги платформ Xbox One и PC одинаковые;\n",
    "* средние пользовательские рейтинги жанров Action и Sports разные.\n",
    "\n",
    "Для проверки обеих гипотез будем использовать **t-критерий Стьюдента**, т.к. в обоих случаях выборки независимы между собой.\n",
    "Определим пороговое значение **alpha = 0.05**"
   ]
  },
  {
   "cell_type": "markdown",
   "id": "746b8d43",
   "metadata": {},
   "source": [
    "### Первая гипотеза"
   ]
  },
  {
   "cell_type": "markdown",
   "id": "322938d5",
   "metadata": {},
   "source": [
    "средние пользовательские рейтинги платформ Xbox One и PC одинаковые\n",
    "\n",
    "Н0 (нулевая гипотеза) - средние пользовательские рейтинги платформ Xbox One и PC одинаковые.<br>\n",
    "Н1 (альтернативная гипотеза) - средние пользовательские рейтинги платформ Xbox One и PC отличаются между собой."
   ]
  },
  {
   "cell_type": "code",
   "execution_count": 63,
   "id": "6c1c4382",
   "metadata": {},
   "outputs": [
    {
     "data": {
      "text/html": [
       "<div>\n",
       "<style scoped>\n",
       "    .dataframe tbody tr th:only-of-type {\n",
       "        vertical-align: middle;\n",
       "    }\n",
       "\n",
       "    .dataframe tbody tr th {\n",
       "        vertical-align: top;\n",
       "    }\n",
       "\n",
       "    .dataframe thead th {\n",
       "        text-align: right;\n",
       "    }\n",
       "</style>\n",
       "<table border=\"1\" class=\"dataframe\">\n",
       "  <thead>\n",
       "    <tr style=\"text-align: right;\">\n",
       "      <th></th>\n",
       "      <th>name</th>\n",
       "      <th>platform</th>\n",
       "      <th>year_of_release</th>\n",
       "      <th>genre</th>\n",
       "      <th>na_sales</th>\n",
       "      <th>eu_sales</th>\n",
       "      <th>jp_sales</th>\n",
       "      <th>other_sales</th>\n",
       "      <th>critic_score</th>\n",
       "      <th>user_score</th>\n",
       "      <th>rating</th>\n",
       "      <th>total_sales</th>\n",
       "    </tr>\n",
       "  </thead>\n",
       "  <tbody>\n",
       "    <tr>\n",
       "      <td>0</td>\n",
       "      <td>Wii Sports</td>\n",
       "      <td>Wii</td>\n",
       "      <td>2006</td>\n",
       "      <td>Sports</td>\n",
       "      <td>41.36</td>\n",
       "      <td>28.96</td>\n",
       "      <td>3.77</td>\n",
       "      <td>8.45</td>\n",
       "      <td>76.0</td>\n",
       "      <td>8.0</td>\n",
       "      <td>E</td>\n",
       "      <td>82.54</td>\n",
       "    </tr>\n",
       "    <tr>\n",
       "      <td>1</td>\n",
       "      <td>Super Mario Bros.</td>\n",
       "      <td>NES</td>\n",
       "      <td>1985</td>\n",
       "      <td>Platform</td>\n",
       "      <td>29.08</td>\n",
       "      <td>3.58</td>\n",
       "      <td>6.81</td>\n",
       "      <td>0.77</td>\n",
       "      <td>-1.0</td>\n",
       "      <td>-1.0</td>\n",
       "      <td>Unrated</td>\n",
       "      <td>40.24</td>\n",
       "    </tr>\n",
       "    <tr>\n",
       "      <td>2</td>\n",
       "      <td>Mario Kart Wii</td>\n",
       "      <td>Wii</td>\n",
       "      <td>2008</td>\n",
       "      <td>Racing</td>\n",
       "      <td>15.68</td>\n",
       "      <td>12.76</td>\n",
       "      <td>3.79</td>\n",
       "      <td>3.29</td>\n",
       "      <td>82.0</td>\n",
       "      <td>8.3</td>\n",
       "      <td>E</td>\n",
       "      <td>35.52</td>\n",
       "    </tr>\n",
       "    <tr>\n",
       "      <td>3</td>\n",
       "      <td>Wii Sports Resort</td>\n",
       "      <td>Wii</td>\n",
       "      <td>2009</td>\n",
       "      <td>Sports</td>\n",
       "      <td>15.61</td>\n",
       "      <td>10.93</td>\n",
       "      <td>3.28</td>\n",
       "      <td>2.95</td>\n",
       "      <td>80.0</td>\n",
       "      <td>8.0</td>\n",
       "      <td>E</td>\n",
       "      <td>32.77</td>\n",
       "    </tr>\n",
       "    <tr>\n",
       "      <td>4</td>\n",
       "      <td>Pokemon Red/Pokemon Blue</td>\n",
       "      <td>GB</td>\n",
       "      <td>1996</td>\n",
       "      <td>Role-Playing</td>\n",
       "      <td>11.27</td>\n",
       "      <td>8.89</td>\n",
       "      <td>10.22</td>\n",
       "      <td>1.00</td>\n",
       "      <td>-1.0</td>\n",
       "      <td>-1.0</td>\n",
       "      <td>Unrated</td>\n",
       "      <td>31.38</td>\n",
       "    </tr>\n",
       "  </tbody>\n",
       "</table>\n",
       "</div>"
      ],
      "text/plain": [
       "                       name platform  year_of_release         genre  na_sales  \\\n",
       "0                Wii Sports      Wii             2006        Sports     41.36   \n",
       "1         Super Mario Bros.      NES             1985      Platform     29.08   \n",
       "2            Mario Kart Wii      Wii             2008        Racing     15.68   \n",
       "3         Wii Sports Resort      Wii             2009        Sports     15.61   \n",
       "4  Pokemon Red/Pokemon Blue       GB             1996  Role-Playing     11.27   \n",
       "\n",
       "   eu_sales  jp_sales  other_sales  critic_score  user_score   rating  \\\n",
       "0     28.96      3.77         8.45          76.0         8.0        E   \n",
       "1      3.58      6.81         0.77          -1.0        -1.0  Unrated   \n",
       "2     12.76      3.79         3.29          82.0         8.3        E   \n",
       "3     10.93      3.28         2.95          80.0         8.0        E   \n",
       "4      8.89     10.22         1.00          -1.0        -1.0  Unrated   \n",
       "\n",
       "   total_sales  \n",
       "0        82.54  \n",
       "1        40.24  \n",
       "2        35.52  \n",
       "3        32.77  \n",
       "4        31.38  "
      ]
     },
     "execution_count": 63,
     "metadata": {},
     "output_type": "execute_result"
    }
   ],
   "source": [
    "games.head()"
   ]
  },
  {
   "cell_type": "code",
   "execution_count": 64,
   "id": "1544ab82",
   "metadata": {},
   "outputs": [
    {
     "name": "stdout",
     "output_type": "stream",
     "text": [
      "t = -4.368333815003015\n",
      "p-value = 1.3896435534e-05\n",
      "\n",
      "Пороговое значение alpha = 0.05\n"
     ]
    }
   ],
   "source": [
    "xbox_one_ratings = games[(games['platform'] == 'XOne') & (games['user_score'] > 0)]['user_score']\n",
    "pc_ratings = games[(games['platform'] == 'PC') & (games['user_score'] > 0)]['user_score']\n",
    "stat, p = ttest_ind(xbox_one_ratings, pc_ratings)\n",
    "\n",
    "print('t = {}\\np-value = {:.10e}'.format(stat, p))\n",
    "print('\\nПороговое значение alpha = 0.05')"
   ]
  },
  {
   "cell_type": "markdown",
   "id": "95cc6c97",
   "metadata": {},
   "source": [
    "Смело отклоняем нулевую гипотезу.<br>\n",
    "Верно следующее утверждение: **средние пользовательские рейтинги платформ Xbox One и PC отличаются между собой.**\n",
    "\n",
    "Посмотрим в чью пользу:"
   ]
  },
  {
   "cell_type": "code",
   "execution_count": 65,
   "id": "cbf1e83e",
   "metadata": {},
   "outputs": [
    {
     "name": "stdout",
     "output_type": "stream",
     "text": [
      "Средняя оценка пользователей игр для платформы Xbox One  - 6.52\n",
      "Средняя оценка пользователей игр для платформы PC - 7.06\n"
     ]
    }
   ],
   "source": [
    "print('Средняя оценка пользователей игр для платформы Xbox One  - {:.2f}'.format(xbox_one_ratings.mean()))\n",
    "print('Средняя оценка пользователей игр для платформы PC - {:.2f}'.format(pc_ratings.mean()))"
   ]
  },
  {
   "cell_type": "markdown",
   "id": "deb7d81b",
   "metadata": {},
   "source": [
    "Компьютерные игры получают оценки статистически значимо выше, чем игры для Xbox One. "
   ]
  },
  {
   "cell_type": "markdown",
   "id": "b177de35",
   "metadata": {},
   "source": [
    "### Вторая гипотеза"
   ]
  },
  {
   "cell_type": "markdown",
   "id": "1c5e51ea",
   "metadata": {},
   "source": [
    "средние пользовательские рейтинги жанров Action и Sports разные.\n",
    "\n",
    "\n",
    "Н0 (нулевая гипотеза) - средние пользовательские рейтинги жанров Action и Sports одинаковые.<br>\n",
    "Н1 (альтернативная гипотеза) - средние пользовательские рейтинги жанров Action и Sports отличаются между собой."
   ]
  },
  {
   "cell_type": "code",
   "execution_count": 66,
   "id": "23d3356d",
   "metadata": {},
   "outputs": [
    {
     "name": "stdout",
     "output_type": "stream",
     "text": [
      "t = 1.6259419280500857\n",
      "p-value = 0.1041\n",
      "\n",
      "Пороговое значение alpha = 0.05\n"
     ]
    }
   ],
   "source": [
    "action_ratings = games[(games['genre'] == 'Action') & (games['user_score'] > 0)]['user_score']\n",
    "pc_ratings = games[(games['genre'] == 'Sports') & (games['user_score'] > 0)]['user_score']\n",
    "stat, p = ttest_ind(action_ratings, pc_ratings)\n",
    "\n",
    "print('t = {}\\np-value = {:.4f}'.format(stat, p))\n",
    "print('\\nПороговое значение alpha = 0.05')"
   ]
  },
  {
   "cell_type": "markdown",
   "id": "e00d71bd",
   "metadata": {},
   "source": [
    "Не можем отвергнуть нулевую гипотезу.<br>\n",
    "Таким образом, остается верным утверждение, что средние пользовательские рейтинги жанров Action и Sports близки."
   ]
  },
  {
   "cell_type": "markdown",
   "id": "c4b0a5d8",
   "metadata": {},
   "source": [
    "## Общий вывод"
   ]
  },
  {
   "cell_type": "markdown",
   "id": "96e14722",
   "metadata": {},
   "source": [
    "- Самое сильное влияние на итоговую выручку оказывают, в большинстве случаев, оценки критиков. Оценки пользователей таким \"влиянием\" на выручку похвастаться не могут. \n",
    "\n",
    "- В целом про положение дел в игровой индустрии: рынок \"немобильных\" игр постепенно погибает. Все сейчас в погоне за графикой, новыми технологями, в связи с этим средний бюджет на разработку одной игры за последние годы заметно вырос. Более того, сейчас игрок не так ценит идею и глубины игры, большинство может обрадовать только хорошая картинка и оптимизация - а играть им понравится только в том случае, если в игре будут стрелочки куда идти. Иначе это слишком трудно.\n",
    "\n",
    "- В итоге, гиганты игровой индустрии гоняются за технологиями, а более мелкие компании, не имеющие таких бюджетов, вынуждены отступать, т.к. единственный их козырь - способность создать глубокую игру с атмосферной - нынче не ценится.\n",
    "- Всё это привело к тому, что рынок уже который год падает. И, скорее всего, будет падать, потому что тенденции к изменению ценностей на те, которые были всего с десяток лет назад, нет."
   ]
  },
  {
   "cell_type": "markdown",
   "id": "9cbccca9",
   "metadata": {},
   "source": [
    "### Рекомендации:\n",
    "\n",
    "* всязи со спадом продаж на всех платформах обратить наибольшее внимание на мобильные игры\n",
    "* если есть возможность вложиться в разработку игр обратить внимание на платформеры шутеры и гонки как приносяшие максимальные продажи на еденицу продукции"
   ]
  }
 ],
 "metadata": {
  "ExecuteTimeLog": [
   {
    "duration": 1571,
    "start_time": "2022-03-10T19:54:55.433Z"
   },
   {
    "duration": 2668,
    "start_time": "2022-03-10T19:54:57.007Z"
   },
   {
    "duration": 520,
    "start_time": "2022-03-10T19:54:59.160Z"
   },
   {
    "duration": 517,
    "start_time": "2022-03-10T19:54:59.165Z"
   },
   {
    "duration": 514,
    "start_time": "2022-03-10T19:54:59.170Z"
   },
   {
    "duration": 509,
    "start_time": "2022-03-10T19:54:59.176Z"
   },
   {
    "duration": 505,
    "start_time": "2022-03-10T19:54:59.181Z"
   },
   {
    "duration": 503,
    "start_time": "2022-03-10T19:54:59.185Z"
   },
   {
    "duration": 498,
    "start_time": "2022-03-10T19:54:59.191Z"
   },
   {
    "duration": 493,
    "start_time": "2022-03-10T19:54:59.197Z"
   },
   {
    "duration": 489,
    "start_time": "2022-03-10T19:54:59.203Z"
   },
   {
    "duration": 486,
    "start_time": "2022-03-10T19:54:59.207Z"
   },
   {
    "duration": 483,
    "start_time": "2022-03-10T19:54:59.211Z"
   },
   {
    "duration": 480,
    "start_time": "2022-03-10T19:54:59.215Z"
   },
   {
    "duration": 478,
    "start_time": "2022-03-10T19:54:59.219Z"
   },
   {
    "duration": 475,
    "start_time": "2022-03-10T19:54:59.223Z"
   },
   {
    "duration": 464,
    "start_time": "2022-03-10T19:54:59.235Z"
   },
   {
    "duration": 460,
    "start_time": "2022-03-10T19:54:59.240Z"
   },
   {
    "duration": 456,
    "start_time": "2022-03-10T19:54:59.246Z"
   },
   {
    "duration": 454,
    "start_time": "2022-03-10T19:54:59.249Z"
   },
   {
    "duration": 450,
    "start_time": "2022-03-10T19:54:59.254Z"
   },
   {
    "duration": 447,
    "start_time": "2022-03-10T19:54:59.258Z"
   },
   {
    "duration": 445,
    "start_time": "2022-03-10T19:54:59.262Z"
   },
   {
    "duration": 442,
    "start_time": "2022-03-10T19:54:59.266Z"
   },
   {
    "duration": 438,
    "start_time": "2022-03-10T19:54:59.271Z"
   },
   {
    "duration": 434,
    "start_time": "2022-03-10T19:54:59.276Z"
   },
   {
    "duration": 431,
    "start_time": "2022-03-10T19:54:59.281Z"
   },
   {
    "duration": 428,
    "start_time": "2022-03-10T19:54:59.285Z"
   },
   {
    "duration": 424,
    "start_time": "2022-03-10T19:54:59.290Z"
   },
   {
    "duration": 421,
    "start_time": "2022-03-10T19:54:59.294Z"
   },
   {
    "duration": 433,
    "start_time": "2022-03-10T19:54:59.299Z"
   },
   {
    "duration": 429,
    "start_time": "2022-03-10T19:54:59.304Z"
   },
   {
    "duration": 426,
    "start_time": "2022-03-10T19:54:59.309Z"
   },
   {
    "duration": 423,
    "start_time": "2022-03-10T19:54:59.313Z"
   },
   {
    "duration": 421,
    "start_time": "2022-03-10T19:54:59.319Z"
   },
   {
    "duration": 416,
    "start_time": "2022-03-10T19:54:59.326Z"
   },
   {
    "duration": 327,
    "start_time": "2022-03-10T19:54:59.416Z"
   },
   {
    "duration": 303,
    "start_time": "2022-03-10T19:54:59.442Z"
   },
   {
    "duration": 276,
    "start_time": "2022-03-10T19:54:59.470Z"
   },
   {
    "duration": 274,
    "start_time": "2022-03-10T19:54:59.474Z"
   },
   {
    "duration": 271,
    "start_time": "2022-03-10T19:54:59.478Z"
   },
   {
    "duration": 269,
    "start_time": "2022-03-10T19:54:59.482Z"
   },
   {
    "duration": 252,
    "start_time": "2022-03-10T19:54:59.500Z"
   },
   {
    "duration": 238,
    "start_time": "2022-03-10T19:54:59.516Z"
   },
   {
    "duration": 235,
    "start_time": "2022-03-10T19:54:59.520Z"
   },
   {
    "duration": 233,
    "start_time": "2022-03-10T19:54:59.524Z"
   },
   {
    "duration": 219,
    "start_time": "2022-03-10T19:54:59.540Z"
   },
   {
    "duration": 217,
    "start_time": "2022-03-10T19:54:59.543Z"
   },
   {
    "duration": 197,
    "start_time": "2022-03-10T19:54:59.565Z"
   },
   {
    "duration": 195,
    "start_time": "2022-03-10T19:54:59.568Z"
   },
   {
    "duration": 182,
    "start_time": "2022-03-10T19:54:59.583Z"
   },
   {
    "duration": 179,
    "start_time": "2022-03-10T19:54:59.587Z"
   },
   {
    "duration": 168,
    "start_time": "2022-03-10T19:54:59.600Z"
   },
   {
    "duration": 165,
    "start_time": "2022-03-10T19:54:59.604Z"
   },
   {
    "duration": 224,
    "start_time": "2022-03-10T19:54:59.608Z"
   },
   {
    "duration": 217,
    "start_time": "2022-03-10T19:54:59.617Z"
   },
   {
    "duration": 207,
    "start_time": "2022-03-10T19:54:59.628Z"
   },
   {
    "duration": 206,
    "start_time": "2022-03-10T19:54:59.631Z"
   },
   {
    "duration": 203,
    "start_time": "2022-03-10T19:54:59.635Z"
   },
   {
    "duration": 194,
    "start_time": "2022-03-10T19:54:59.646Z"
   },
   {
    "duration": 190,
    "start_time": "2022-03-10T19:54:59.651Z"
   },
   {
    "duration": 188,
    "start_time": "2022-03-10T19:54:59.654Z"
   },
   {
    "duration": 185,
    "start_time": "2022-03-10T19:54:59.658Z"
   },
   {
    "duration": 1616,
    "start_time": "2022-03-10T19:57:58.404Z"
   },
   {
    "duration": 71,
    "start_time": "2022-03-10T19:58:00.023Z"
   },
   {
    "duration": 14,
    "start_time": "2022-03-10T19:58:00.097Z"
   },
   {
    "duration": 35,
    "start_time": "2022-03-10T19:58:00.114Z"
   },
   {
    "duration": 82,
    "start_time": "2022-03-10T19:58:00.152Z"
   },
   {
    "duration": 7,
    "start_time": "2022-03-10T19:58:00.237Z"
   },
   {
    "duration": 11,
    "start_time": "2022-03-10T19:58:00.246Z"
   },
   {
    "duration": 35,
    "start_time": "2022-03-10T19:58:00.261Z"
   },
   {
    "duration": 37,
    "start_time": "2022-03-10T19:58:00.299Z"
   },
   {
    "duration": 6,
    "start_time": "2022-03-10T19:58:00.339Z"
   },
   {
    "duration": 9,
    "start_time": "2022-03-10T19:58:00.347Z"
   },
   {
    "duration": 12,
    "start_time": "2022-03-10T19:58:00.358Z"
   },
   {
    "duration": 20,
    "start_time": "2022-03-10T19:58:00.372Z"
   },
   {
    "duration": 14,
    "start_time": "2022-03-10T19:58:00.394Z"
   },
   {
    "duration": 9,
    "start_time": "2022-03-10T19:58:00.435Z"
   },
   {
    "duration": 13,
    "start_time": "2022-03-10T19:58:00.446Z"
   },
   {
    "duration": 13,
    "start_time": "2022-03-10T19:58:00.461Z"
   },
   {
    "duration": 30,
    "start_time": "2022-03-10T19:58:00.476Z"
   },
   {
    "duration": 25,
    "start_time": "2022-03-10T19:58:00.509Z"
   },
   {
    "duration": 14,
    "start_time": "2022-03-10T19:58:00.536Z"
   },
   {
    "duration": 28,
    "start_time": "2022-03-10T19:58:00.553Z"
   },
   {
    "duration": 21,
    "start_time": "2022-03-10T19:58:00.585Z"
   },
   {
    "duration": 33,
    "start_time": "2022-03-10T19:58:00.614Z"
   },
   {
    "duration": 10,
    "start_time": "2022-03-10T19:58:00.651Z"
   },
   {
    "duration": 13,
    "start_time": "2022-03-10T19:58:00.664Z"
   },
   {
    "duration": 16,
    "start_time": "2022-03-10T19:58:00.680Z"
   },
   {
    "duration": 53,
    "start_time": "2022-03-10T19:58:00.698Z"
   },
   {
    "duration": 29,
    "start_time": "2022-03-10T19:58:00.753Z"
   },
   {
    "duration": 21,
    "start_time": "2022-03-10T19:58:00.784Z"
   },
   {
    "duration": 25,
    "start_time": "2022-03-10T19:58:00.808Z"
   },
   {
    "duration": 11,
    "start_time": "2022-03-10T19:58:00.836Z"
   },
   {
    "duration": 24,
    "start_time": "2022-03-10T19:58:00.850Z"
   },
   {
    "duration": 10,
    "start_time": "2022-03-10T19:58:00.876Z"
   },
   {
    "duration": 51,
    "start_time": "2022-03-10T19:58:00.889Z"
   },
   {
    "duration": 642,
    "start_time": "2022-03-10T19:58:00.943Z"
   },
   {
    "duration": 722,
    "start_time": "2022-03-10T19:58:01.589Z"
   },
   {
    "duration": 23,
    "start_time": "2022-03-10T19:58:02.314Z"
   },
   {
    "duration": 8,
    "start_time": "2022-03-10T19:58:02.340Z"
   },
   {
    "duration": 10,
    "start_time": "2022-03-10T19:58:02.351Z"
   },
   {
    "duration": 1335,
    "start_time": "2022-03-10T19:58:02.364Z"
   },
   {
    "duration": 31,
    "start_time": "2022-03-10T19:58:03.701Z"
   },
   {
    "duration": 4,
    "start_time": "2022-03-10T19:58:03.735Z"
   },
   {
    "duration": 580,
    "start_time": "2022-03-10T19:58:03.741Z"
   },
   {
    "duration": 960,
    "start_time": "2022-03-10T19:58:04.323Z"
   },
   {
    "duration": 14,
    "start_time": "2022-03-10T19:58:05.286Z"
   },
   {
    "duration": 719,
    "start_time": "2022-03-10T19:58:05.303Z"
   },
   {
    "duration": 1209,
    "start_time": "2022-03-10T19:58:06.033Z"
   },
   {
    "duration": 13,
    "start_time": "2022-03-10T19:58:07.245Z"
   },
   {
    "duration": 838,
    "start_time": "2022-03-10T19:58:07.261Z"
   },
   {
    "duration": 521,
    "start_time": "2022-03-10T19:58:08.101Z"
   },
   {
    "duration": 1029,
    "start_time": "2022-03-10T19:58:08.631Z"
   },
   {
    "duration": 413,
    "start_time": "2022-03-10T19:58:09.662Z"
   },
   {
    "duration": 7148,
    "start_time": "2022-03-10T19:58:10.078Z"
   },
   {
    "duration": 1130,
    "start_time": "2022-03-10T19:58:17.232Z"
   },
   {
    "duration": 9,
    "start_time": "2022-03-10T19:58:18.366Z"
   },
   {
    "duration": 1236,
    "start_time": "2022-03-10T19:58:18.378Z"
   },
   {
    "duration": 1168,
    "start_time": "2022-03-10T19:58:19.616Z"
   },
   {
    "duration": 10,
    "start_time": "2022-03-10T19:58:20.786Z"
   },
   {
    "duration": 1247,
    "start_time": "2022-03-10T19:58:20.798Z"
   },
   {
    "duration": 22,
    "start_time": "2022-03-10T19:58:22.048Z"
   },
   {
    "duration": 22,
    "start_time": "2022-03-10T19:58:22.073Z"
   },
   {
    "duration": 7,
    "start_time": "2022-03-10T19:58:22.133Z"
   },
   {
    "duration": 19,
    "start_time": "2022-03-10T19:58:22.143Z"
   },
   {
    "duration": 6,
    "start_time": "2022-03-10T20:13:42.619Z"
   },
   {
    "duration": 570,
    "start_time": "2022-03-10T20:13:46.992Z"
   },
   {
    "duration": 9,
    "start_time": "2022-03-10T20:13:55.396Z"
   },
   {
    "duration": 5,
    "start_time": "2022-03-11T08:37:53.170Z"
   },
   {
    "duration": 1720,
    "start_time": "2022-03-11T08:57:40.712Z"
   },
   {
    "duration": 47,
    "start_time": "2022-03-11T08:57:42.436Z"
   },
   {
    "duration": 14,
    "start_time": "2022-03-11T08:57:42.487Z"
   },
   {
    "duration": 26,
    "start_time": "2022-03-11T08:57:42.504Z"
   },
   {
    "duration": 83,
    "start_time": "2022-03-11T08:57:42.533Z"
   },
   {
    "duration": 6,
    "start_time": "2022-03-11T08:57:42.619Z"
   },
   {
    "duration": 17,
    "start_time": "2022-03-11T08:57:42.627Z"
   },
   {
    "duration": 44,
    "start_time": "2022-03-11T08:57:42.646Z"
   },
   {
    "duration": 15,
    "start_time": "2022-03-11T08:57:42.696Z"
   },
   {
    "duration": 7,
    "start_time": "2022-03-11T08:57:42.715Z"
   },
   {
    "duration": 14,
    "start_time": "2022-03-11T08:57:42.725Z"
   },
   {
    "duration": 37,
    "start_time": "2022-03-11T08:57:42.741Z"
   },
   {
    "duration": 7,
    "start_time": "2022-03-11T08:57:42.781Z"
   },
   {
    "duration": 18,
    "start_time": "2022-03-11T08:57:42.790Z"
   },
   {
    "duration": 14,
    "start_time": "2022-03-11T08:57:42.811Z"
   },
   {
    "duration": 47,
    "start_time": "2022-03-11T08:57:42.828Z"
   },
   {
    "duration": 7,
    "start_time": "2022-03-11T08:57:42.878Z"
   },
   {
    "duration": 24,
    "start_time": "2022-03-11T08:57:42.888Z"
   },
   {
    "duration": 7,
    "start_time": "2022-03-11T08:57:42.915Z"
   },
   {
    "duration": 7,
    "start_time": "2022-03-11T08:57:42.924Z"
   },
   {
    "duration": 47,
    "start_time": "2022-03-11T08:57:42.934Z"
   },
   {
    "duration": 8,
    "start_time": "2022-03-11T08:57:42.984Z"
   },
   {
    "duration": 37,
    "start_time": "2022-03-11T08:57:42.995Z"
   },
   {
    "duration": 45,
    "start_time": "2022-03-11T08:57:43.035Z"
   },
   {
    "duration": 9,
    "start_time": "2022-03-11T08:57:43.083Z"
   },
   {
    "duration": 21,
    "start_time": "2022-03-11T08:57:43.094Z"
   },
   {
    "duration": 61,
    "start_time": "2022-03-11T08:57:43.122Z"
   },
   {
    "duration": 20,
    "start_time": "2022-03-11T08:57:43.187Z"
   },
   {
    "duration": 14,
    "start_time": "2022-03-11T08:57:43.210Z"
   },
   {
    "duration": 57,
    "start_time": "2022-03-11T08:57:43.227Z"
   },
   {
    "duration": 11,
    "start_time": "2022-03-11T08:57:43.287Z"
   },
   {
    "duration": 23,
    "start_time": "2022-03-11T08:57:43.301Z"
   },
   {
    "duration": 8,
    "start_time": "2022-03-11T08:57:43.327Z"
   },
   {
    "duration": 62,
    "start_time": "2022-03-11T08:57:43.338Z"
   },
   {
    "duration": 639,
    "start_time": "2022-03-11T08:57:43.403Z"
   },
   {
    "duration": 658,
    "start_time": "2022-03-11T08:57:44.044Z"
   },
   {
    "duration": 14,
    "start_time": "2022-03-11T08:57:44.705Z"
   },
   {
    "duration": 7,
    "start_time": "2022-03-11T08:57:44.721Z"
   },
   {
    "duration": 43,
    "start_time": "2022-03-11T08:57:44.730Z"
   },
   {
    "duration": 1590,
    "start_time": "2022-03-11T08:57:44.777Z"
   },
   {
    "duration": 18,
    "start_time": "2022-03-11T08:57:46.374Z"
   },
   {
    "duration": 3,
    "start_time": "2022-03-11T08:57:46.394Z"
   },
   {
    "duration": 620,
    "start_time": "2022-03-11T08:57:46.401Z"
   },
   {
    "duration": 1153,
    "start_time": "2022-03-11T08:57:47.023Z"
   },
   {
    "duration": 21,
    "start_time": "2022-03-11T08:57:48.179Z"
   },
   {
    "duration": 731,
    "start_time": "2022-03-11T08:57:48.203Z"
   },
   {
    "duration": 946,
    "start_time": "2022-03-11T08:57:48.936Z"
   },
   {
    "duration": 9,
    "start_time": "2022-03-11T08:57:49.884Z"
   },
   {
    "duration": 494,
    "start_time": "2022-03-11T08:57:49.896Z"
   },
   {
    "duration": 506,
    "start_time": "2022-03-11T08:57:50.393Z"
   },
   {
    "duration": 1141,
    "start_time": "2022-03-11T08:57:50.902Z"
   },
   {
    "duration": 427,
    "start_time": "2022-03-11T08:57:52.046Z"
   },
   {
    "duration": 5539,
    "start_time": "2022-03-11T08:57:52.475Z"
   },
   {
    "duration": 737,
    "start_time": "2022-03-11T08:57:58.017Z"
   },
   {
    "duration": 16,
    "start_time": "2022-03-11T08:57:58.757Z"
   },
   {
    "duration": 1124,
    "start_time": "2022-03-11T08:57:58.776Z"
   },
   {
    "duration": 1248,
    "start_time": "2022-03-11T08:57:59.903Z"
   },
   {
    "duration": 19,
    "start_time": "2022-03-11T08:58:01.154Z"
   },
   {
    "duration": 1254,
    "start_time": "2022-03-11T08:58:01.176Z"
   },
   {
    "duration": 21,
    "start_time": "2022-03-11T08:58:02.433Z"
   },
   {
    "duration": 19,
    "start_time": "2022-03-11T08:58:02.474Z"
   },
   {
    "duration": 9,
    "start_time": "2022-03-11T08:58:02.496Z"
   },
   {
    "duration": 18,
    "start_time": "2022-03-11T08:58:02.508Z"
   },
   {
    "duration": 4900,
    "start_time": "2022-03-11T09:00:01.869Z"
   },
   {
    "duration": 7,
    "start_time": "2022-03-11T09:01:59.636Z"
   },
   {
    "duration": 57,
    "start_time": "2022-03-11T09:01:59.645Z"
   },
   {
    "duration": 19,
    "start_time": "2022-03-11T09:01:59.707Z"
   },
   {
    "duration": 21,
    "start_time": "2022-03-11T09:01:59.773Z"
   },
   {
    "duration": 43,
    "start_time": "2022-03-11T09:01:59.797Z"
   },
   {
    "duration": 6,
    "start_time": "2022-03-11T09:01:59.874Z"
   },
   {
    "duration": 8,
    "start_time": "2022-03-11T09:01:59.882Z"
   },
   {
    "duration": 23,
    "start_time": "2022-03-11T09:01:59.892Z"
   },
   {
    "duration": 15,
    "start_time": "2022-03-11T09:01:59.919Z"
   },
   {
    "duration": 40,
    "start_time": "2022-03-11T09:01:59.938Z"
   },
   {
    "duration": 6,
    "start_time": "2022-03-11T09:01:59.980Z"
   },
   {
    "duration": 7,
    "start_time": "2022-03-11T09:01:59.989Z"
   },
   {
    "duration": 8,
    "start_time": "2022-03-11T09:01:59.999Z"
   },
   {
    "duration": 9,
    "start_time": "2022-03-11T09:02:00.010Z"
   },
   {
    "duration": 54,
    "start_time": "2022-03-11T09:02:00.021Z"
   },
   {
    "duration": 7,
    "start_time": "2022-03-11T09:02:00.077Z"
   },
   {
    "duration": 9,
    "start_time": "2022-03-11T09:02:00.086Z"
   },
   {
    "duration": 18,
    "start_time": "2022-03-11T09:02:00.097Z"
   },
   {
    "duration": 6,
    "start_time": "2022-03-11T09:02:00.118Z"
   },
   {
    "duration": 5,
    "start_time": "2022-03-11T09:02:00.127Z"
   },
   {
    "duration": 53,
    "start_time": "2022-03-11T09:02:00.135Z"
   },
   {
    "duration": 6,
    "start_time": "2022-03-11T09:02:00.191Z"
   },
   {
    "duration": 31,
    "start_time": "2022-03-11T09:02:00.200Z"
   },
   {
    "duration": 40,
    "start_time": "2022-03-11T09:02:00.233Z"
   },
   {
    "duration": 11,
    "start_time": "2022-03-11T09:02:00.276Z"
   },
   {
    "duration": 28,
    "start_time": "2022-03-11T09:02:00.289Z"
   },
   {
    "duration": 21,
    "start_time": "2022-03-11T09:02:00.323Z"
   },
   {
    "duration": 41,
    "start_time": "2022-03-11T09:02:00.348Z"
   },
   {
    "duration": 17,
    "start_time": "2022-03-11T09:02:00.391Z"
   },
   {
    "duration": 30,
    "start_time": "2022-03-11T09:02:00.411Z"
   },
   {
    "duration": 21,
    "start_time": "2022-03-11T09:02:00.444Z"
   },
   {
    "duration": 38,
    "start_time": "2022-03-11T09:02:00.467Z"
   },
   {
    "duration": 15,
    "start_time": "2022-03-11T09:02:00.508Z"
   },
   {
    "duration": 40,
    "start_time": "2022-03-11T09:02:00.526Z"
   },
   {
    "duration": 833,
    "start_time": "2022-03-11T09:02:00.569Z"
   },
   {
    "duration": 993,
    "start_time": "2022-03-11T09:02:01.404Z"
   },
   {
    "duration": 13,
    "start_time": "2022-03-11T09:02:02.399Z"
   },
   {
    "duration": 19,
    "start_time": "2022-03-11T09:02:02.414Z"
   },
   {
    "duration": 9,
    "start_time": "2022-03-11T09:02:02.436Z"
   },
   {
    "duration": 1507,
    "start_time": "2022-03-11T09:02:02.473Z"
   },
   {
    "duration": 14,
    "start_time": "2022-03-11T09:02:03.983Z"
   },
   {
    "duration": 6,
    "start_time": "2022-03-11T09:02:04.000Z"
   },
   {
    "duration": 868,
    "start_time": "2022-03-11T09:02:04.008Z"
   },
   {
    "duration": 1047,
    "start_time": "2022-03-11T09:02:04.879Z"
   },
   {
    "duration": 13,
    "start_time": "2022-03-11T09:02:05.928Z"
   },
   {
    "duration": 685,
    "start_time": "2022-03-11T09:02:05.944Z"
   },
   {
    "duration": 847,
    "start_time": "2022-03-11T09:02:06.632Z"
   },
   {
    "duration": 9,
    "start_time": "2022-03-11T09:02:07.481Z"
   },
   {
    "duration": 667,
    "start_time": "2022-03-11T09:02:07.493Z"
   },
   {
    "duration": 682,
    "start_time": "2022-03-11T09:02:08.162Z"
   },
   {
    "duration": 1084,
    "start_time": "2022-03-11T09:02:08.847Z"
   },
   {
    "duration": 413,
    "start_time": "2022-03-11T09:02:09.934Z"
   },
   {
    "duration": 4993,
    "start_time": "2022-03-11T09:02:10.350Z"
   },
   {
    "duration": 656,
    "start_time": "2022-03-11T09:02:15.346Z"
   },
   {
    "duration": 6,
    "start_time": "2022-03-11T09:02:16.005Z"
   },
   {
    "duration": 1128,
    "start_time": "2022-03-11T09:02:16.013Z"
   },
   {
    "duration": 1153,
    "start_time": "2022-03-11T09:02:17.144Z"
   },
   {
    "duration": 11,
    "start_time": "2022-03-11T09:02:18.299Z"
   },
   {
    "duration": 1324,
    "start_time": "2022-03-11T09:02:18.313Z"
   },
   {
    "duration": 35,
    "start_time": "2022-03-11T09:02:19.640Z"
   },
   {
    "duration": 17,
    "start_time": "2022-03-11T09:02:19.678Z"
   },
   {
    "duration": 7,
    "start_time": "2022-03-11T09:02:19.698Z"
   },
   {
    "duration": 18,
    "start_time": "2022-03-11T09:02:19.708Z"
   },
   {
    "duration": 7,
    "start_time": "2022-03-11T09:08:53.556Z"
   },
   {
    "duration": 954,
    "start_time": "2022-03-11T09:08:57.019Z"
   },
   {
    "duration": 7,
    "start_time": "2022-03-11T09:09:55.106Z"
   },
   {
    "duration": 856,
    "start_time": "2022-03-11T09:09:57.303Z"
   },
   {
    "duration": 9,
    "start_time": "2022-03-11T09:10:08.375Z"
   },
   {
    "duration": 54,
    "start_time": "2022-03-11T09:10:08.386Z"
   },
   {
    "duration": 47,
    "start_time": "2022-03-11T09:10:08.443Z"
   },
   {
    "duration": 23,
    "start_time": "2022-03-11T09:10:08.495Z"
   },
   {
    "duration": 102,
    "start_time": "2022-03-11T09:10:08.521Z"
   },
   {
    "duration": 6,
    "start_time": "2022-03-11T09:10:08.626Z"
   },
   {
    "duration": 11,
    "start_time": "2022-03-11T09:10:08.634Z"
   },
   {
    "duration": 34,
    "start_time": "2022-03-11T09:10:08.647Z"
   },
   {
    "duration": 15,
    "start_time": "2022-03-11T09:10:08.685Z"
   },
   {
    "duration": 7,
    "start_time": "2022-03-11T09:10:08.703Z"
   },
   {
    "duration": 7,
    "start_time": "2022-03-11T09:10:08.712Z"
   },
   {
    "duration": 55,
    "start_time": "2022-03-11T09:10:08.722Z"
   },
   {
    "duration": 8,
    "start_time": "2022-03-11T09:10:08.780Z"
   },
   {
    "duration": 10,
    "start_time": "2022-03-11T09:10:08.791Z"
   },
   {
    "duration": 14,
    "start_time": "2022-03-11T09:10:08.804Z"
   },
   {
    "duration": 52,
    "start_time": "2022-03-11T09:10:08.821Z"
   },
   {
    "duration": 7,
    "start_time": "2022-03-11T09:10:08.876Z"
   },
   {
    "duration": 19,
    "start_time": "2022-03-11T09:10:08.886Z"
   },
   {
    "duration": 36,
    "start_time": "2022-03-11T09:10:08.908Z"
   },
   {
    "duration": 21,
    "start_time": "2022-03-11T09:10:08.946Z"
   },
   {
    "duration": 18,
    "start_time": "2022-03-11T09:10:08.969Z"
   },
   {
    "duration": 7,
    "start_time": "2022-03-11T09:10:08.990Z"
   },
   {
    "duration": 35,
    "start_time": "2022-03-11T09:10:09.000Z"
   },
   {
    "duration": 35,
    "start_time": "2022-03-11T09:10:09.039Z"
   },
   {
    "duration": 8,
    "start_time": "2022-03-11T09:10:09.077Z"
   },
   {
    "duration": 39,
    "start_time": "2022-03-11T09:10:09.088Z"
   },
   {
    "duration": 42,
    "start_time": "2022-03-11T09:10:09.137Z"
   },
   {
    "duration": 20,
    "start_time": "2022-03-11T09:10:09.184Z"
   },
   {
    "duration": 14,
    "start_time": "2022-03-11T09:10:09.207Z"
   },
   {
    "duration": 14,
    "start_time": "2022-03-11T09:10:09.224Z"
   },
   {
    "duration": 6,
    "start_time": "2022-03-11T09:10:09.274Z"
   },
   {
    "duration": 32,
    "start_time": "2022-03-11T09:10:09.283Z"
   },
   {
    "duration": 36,
    "start_time": "2022-03-11T09:10:09.318Z"
   },
   {
    "duration": 53,
    "start_time": "2022-03-11T09:10:09.356Z"
   },
   {
    "duration": 888,
    "start_time": "2022-03-11T09:10:09.412Z"
   },
   {
    "duration": 858,
    "start_time": "2022-03-11T09:10:10.303Z"
   },
   {
    "duration": 23,
    "start_time": "2022-03-11T09:10:11.164Z"
   },
   {
    "duration": 8,
    "start_time": "2022-03-11T09:10:11.189Z"
   },
   {
    "duration": 19,
    "start_time": "2022-03-11T09:10:11.200Z"
   },
   {
    "duration": 1802,
    "start_time": "2022-03-11T09:10:11.222Z"
   },
   {
    "duration": 17,
    "start_time": "2022-03-11T09:10:13.027Z"
   },
   {
    "duration": 28,
    "start_time": "2022-03-11T09:10:13.047Z"
   },
   {
    "duration": 805,
    "start_time": "2022-03-11T09:10:13.077Z"
   },
   {
    "duration": 1200,
    "start_time": "2022-03-11T09:10:13.884Z"
   },
   {
    "duration": 15,
    "start_time": "2022-03-11T09:10:15.087Z"
   },
   {
    "duration": 691,
    "start_time": "2022-03-11T09:10:15.104Z"
   },
   {
    "duration": 888,
    "start_time": "2022-03-11T09:10:15.797Z"
   },
   {
    "duration": 10,
    "start_time": "2022-03-11T09:10:16.688Z"
   },
   {
    "duration": 744,
    "start_time": "2022-03-11T09:10:16.700Z"
   },
   {
    "duration": 666,
    "start_time": "2022-03-11T09:10:17.447Z"
   },
   {
    "duration": 1112,
    "start_time": "2022-03-11T09:10:18.115Z"
   },
   {
    "duration": 419,
    "start_time": "2022-03-11T09:10:19.229Z"
   },
   {
    "duration": 6088,
    "start_time": "2022-03-11T09:10:19.651Z"
   },
   {
    "duration": 684,
    "start_time": "2022-03-11T09:10:25.742Z"
   },
   {
    "duration": 7,
    "start_time": "2022-03-11T09:10:26.428Z"
   },
   {
    "duration": 1345,
    "start_time": "2022-03-11T09:10:26.437Z"
   },
   {
    "duration": 1146,
    "start_time": "2022-03-11T09:10:27.784Z"
   },
   {
    "duration": 10,
    "start_time": "2022-03-11T09:10:28.932Z"
   },
   {
    "duration": 1105,
    "start_time": "2022-03-11T09:10:28.944Z"
   },
   {
    "duration": 33,
    "start_time": "2022-03-11T09:10:30.052Z"
   },
   {
    "duration": 19,
    "start_time": "2022-03-11T09:10:30.087Z"
   },
   {
    "duration": 11,
    "start_time": "2022-03-11T09:10:30.109Z"
   },
   {
    "duration": 18,
    "start_time": "2022-03-11T09:10:30.122Z"
   },
   {
    "duration": 1151,
    "start_time": "2022-03-12T07:47:41.831Z"
   },
   {
    "duration": 31,
    "start_time": "2022-03-12T07:47:42.984Z"
   },
   {
    "duration": 9,
    "start_time": "2022-03-12T07:47:43.017Z"
   },
   {
    "duration": 16,
    "start_time": "2022-03-12T07:47:43.028Z"
   },
   {
    "duration": 41,
    "start_time": "2022-03-12T07:47:43.046Z"
   },
   {
    "duration": 4,
    "start_time": "2022-03-12T07:47:43.088Z"
   },
   {
    "duration": 6,
    "start_time": "2022-03-12T07:47:43.093Z"
   },
   {
    "duration": 14,
    "start_time": "2022-03-12T07:47:43.101Z"
   },
   {
    "duration": 14,
    "start_time": "2022-03-12T07:47:43.117Z"
   },
   {
    "duration": 5,
    "start_time": "2022-03-12T07:47:43.133Z"
   },
   {
    "duration": 24,
    "start_time": "2022-03-12T07:47:43.139Z"
   },
   {
    "duration": 5,
    "start_time": "2022-03-12T07:47:43.165Z"
   },
   {
    "duration": 7,
    "start_time": "2022-03-12T07:47:43.172Z"
   },
   {
    "duration": 10,
    "start_time": "2022-03-12T07:47:43.180Z"
   },
   {
    "duration": 8,
    "start_time": "2022-03-12T07:47:43.191Z"
   },
   {
    "duration": 7,
    "start_time": "2022-03-12T07:47:43.200Z"
   },
   {
    "duration": 5,
    "start_time": "2022-03-12T07:47:43.209Z"
   },
   {
    "duration": 12,
    "start_time": "2022-03-12T07:47:43.216Z"
   },
   {
    "duration": 5,
    "start_time": "2022-03-12T07:47:43.229Z"
   },
   {
    "duration": 3,
    "start_time": "2022-03-12T07:47:43.235Z"
   },
   {
    "duration": 31,
    "start_time": "2022-03-12T07:47:43.239Z"
   },
   {
    "duration": 4,
    "start_time": "2022-03-12T07:47:43.272Z"
   },
   {
    "duration": 18,
    "start_time": "2022-03-12T07:47:43.280Z"
   },
   {
    "duration": 6,
    "start_time": "2022-03-12T07:47:43.300Z"
   },
   {
    "duration": 9,
    "start_time": "2022-03-12T07:47:43.307Z"
   },
   {
    "duration": 10,
    "start_time": "2022-03-12T07:47:43.318Z"
   },
   {
    "duration": 40,
    "start_time": "2022-03-12T07:47:43.330Z"
   },
   {
    "duration": 14,
    "start_time": "2022-03-12T07:47:43.372Z"
   },
   {
    "duration": 9,
    "start_time": "2022-03-12T07:47:43.388Z"
   },
   {
    "duration": 12,
    "start_time": "2022-03-12T07:47:43.399Z"
   },
   {
    "duration": 8,
    "start_time": "2022-03-12T07:47:43.413Z"
   },
   {
    "duration": 12,
    "start_time": "2022-03-12T07:47:43.422Z"
   },
   {
    "duration": 5,
    "start_time": "2022-03-12T07:47:43.463Z"
   },
   {
    "duration": 14,
    "start_time": "2022-03-12T07:47:43.469Z"
   },
   {
    "duration": 381,
    "start_time": "2022-03-12T07:47:43.484Z"
   },
   {
    "duration": 377,
    "start_time": "2022-03-12T07:47:43.867Z"
   },
   {
    "duration": 17,
    "start_time": "2022-03-12T07:47:44.246Z"
   },
   {
    "duration": 5,
    "start_time": "2022-03-12T07:47:44.264Z"
   },
   {
    "duration": 5,
    "start_time": "2022-03-12T07:47:44.270Z"
   },
   {
    "duration": 738,
    "start_time": "2022-03-12T07:47:44.277Z"
   },
   {
    "duration": 11,
    "start_time": "2022-03-12T07:47:45.017Z"
   },
   {
    "duration": 3,
    "start_time": "2022-03-12T07:47:45.029Z"
   },
   {
    "duration": 337,
    "start_time": "2022-03-12T07:47:45.033Z"
   },
   {
    "duration": 544,
    "start_time": "2022-03-12T07:47:45.372Z"
   },
   {
    "duration": 10,
    "start_time": "2022-03-12T07:47:45.918Z"
   },
   {
    "duration": 383,
    "start_time": "2022-03-12T07:47:45.929Z"
   },
   {
    "duration": 480,
    "start_time": "2022-03-12T07:47:46.314Z"
   },
   {
    "duration": 8,
    "start_time": "2022-03-12T07:47:46.796Z"
   },
   {
    "duration": 318,
    "start_time": "2022-03-12T07:47:46.805Z"
   },
   {
    "duration": 338,
    "start_time": "2022-03-12T07:47:47.125Z"
   },
   {
    "duration": 636,
    "start_time": "2022-03-12T07:47:47.465Z"
   },
   {
    "duration": 262,
    "start_time": "2022-03-12T07:47:48.103Z"
   },
   {
    "duration": 2268,
    "start_time": "2022-03-12T07:47:48.366Z"
   },
   {
    "duration": 375,
    "start_time": "2022-03-12T07:47:50.636Z"
   },
   {
    "duration": 4,
    "start_time": "2022-03-12T07:47:51.013Z"
   },
   {
    "duration": 644,
    "start_time": "2022-03-12T07:47:51.019Z"
   },
   {
    "duration": 686,
    "start_time": "2022-03-12T07:47:51.664Z"
   },
   {
    "duration": 12,
    "start_time": "2022-03-12T07:47:52.351Z"
   },
   {
    "duration": 682,
    "start_time": "2022-03-12T07:47:52.364Z"
   },
   {
    "duration": 23,
    "start_time": "2022-03-12T07:47:53.048Z"
   },
   {
    "duration": 12,
    "start_time": "2022-03-12T07:47:53.073Z"
   },
   {
    "duration": 4,
    "start_time": "2022-03-12T07:47:53.087Z"
   },
   {
    "duration": 12,
    "start_time": "2022-03-12T07:47:53.093Z"
   },
   {
    "duration": 8,
    "start_time": "2022-03-12T07:56:46.186Z"
   },
   {
    "duration": 5,
    "start_time": "2022-03-12T08:05:29.066Z"
   },
   {
    "duration": 5,
    "start_time": "2022-03-12T08:05:35.311Z"
   },
   {
    "duration": 1097,
    "start_time": "2022-03-12T14:00:46.052Z"
   },
   {
    "duration": 35,
    "start_time": "2022-03-12T14:00:47.151Z"
   },
   {
    "duration": 8,
    "start_time": "2022-03-12T14:00:47.188Z"
   },
   {
    "duration": 16,
    "start_time": "2022-03-12T14:00:47.198Z"
   },
   {
    "duration": 25,
    "start_time": "2022-03-12T14:00:47.215Z"
   },
   {
    "duration": 3,
    "start_time": "2022-03-12T14:00:47.241Z"
   },
   {
    "duration": 7,
    "start_time": "2022-03-12T14:00:47.245Z"
   },
   {
    "duration": 11,
    "start_time": "2022-03-12T14:00:47.254Z"
   },
   {
    "duration": 10,
    "start_time": "2022-03-12T14:00:47.267Z"
   },
   {
    "duration": 27,
    "start_time": "2022-03-12T14:00:47.278Z"
   },
   {
    "duration": 5,
    "start_time": "2022-03-12T14:00:47.306Z"
   },
   {
    "duration": 6,
    "start_time": "2022-03-12T14:00:47.312Z"
   },
   {
    "duration": 3,
    "start_time": "2022-03-12T14:00:47.319Z"
   },
   {
    "duration": 6,
    "start_time": "2022-03-12T14:00:47.324Z"
   },
   {
    "duration": 12,
    "start_time": "2022-03-12T14:00:47.332Z"
   },
   {
    "duration": 7,
    "start_time": "2022-03-12T14:00:47.346Z"
   },
   {
    "duration": 7,
    "start_time": "2022-03-12T14:00:47.355Z"
   },
   {
    "duration": 15,
    "start_time": "2022-03-12T14:00:47.364Z"
   },
   {
    "duration": 21,
    "start_time": "2022-03-12T14:00:47.381Z"
   },
   {
    "duration": 4,
    "start_time": "2022-03-12T14:00:47.403Z"
   },
   {
    "duration": 11,
    "start_time": "2022-03-12T14:00:47.408Z"
   },
   {
    "duration": 4,
    "start_time": "2022-03-12T14:00:47.421Z"
   },
   {
    "duration": 19,
    "start_time": "2022-03-12T14:00:47.429Z"
   },
   {
    "duration": 6,
    "start_time": "2022-03-12T14:00:47.450Z"
   },
   {
    "duration": 9,
    "start_time": "2022-03-12T14:00:47.457Z"
   },
   {
    "duration": 35,
    "start_time": "2022-03-12T14:00:47.467Z"
   },
   {
    "duration": 12,
    "start_time": "2022-03-12T14:00:47.504Z"
   },
   {
    "duration": 10,
    "start_time": "2022-03-12T14:00:47.518Z"
   },
   {
    "duration": 9,
    "start_time": "2022-03-12T14:00:47.530Z"
   },
   {
    "duration": 8,
    "start_time": "2022-03-12T14:00:47.541Z"
   },
   {
    "duration": 5,
    "start_time": "2022-03-12T14:00:47.551Z"
   },
   {
    "duration": 14,
    "start_time": "2022-03-12T14:00:47.557Z"
   },
   {
    "duration": 5,
    "start_time": "2022-03-12T14:00:47.601Z"
   },
   {
    "duration": 17,
    "start_time": "2022-03-12T14:00:47.607Z"
   },
   {
    "duration": 461,
    "start_time": "2022-03-12T14:00:47.626Z"
   },
   {
    "duration": 368,
    "start_time": "2022-03-12T14:00:48.088Z"
   },
   {
    "duration": 9,
    "start_time": "2022-03-12T14:00:48.458Z"
   },
   {
    "duration": 5,
    "start_time": "2022-03-12T14:00:48.468Z"
   },
   {
    "duration": 6,
    "start_time": "2022-03-12T14:00:48.474Z"
   },
   {
    "duration": 726,
    "start_time": "2022-03-12T14:00:48.481Z"
   },
   {
    "duration": 9,
    "start_time": "2022-03-12T14:00:49.209Z"
   },
   {
    "duration": 2,
    "start_time": "2022-03-12T14:00:49.220Z"
   },
   {
    "duration": 315,
    "start_time": "2022-03-12T14:00:49.223Z"
   },
   {
    "duration": 219,
    "start_time": "2022-03-12T14:00:49.540Z"
   },
   {
    "duration": 8,
    "start_time": "2022-03-12T14:00:49.761Z"
   },
   {
    "duration": 371,
    "start_time": "2022-03-12T14:00:49.770Z"
   },
   {
    "duration": 447,
    "start_time": "2022-03-12T14:00:50.142Z"
   },
   {
    "duration": 12,
    "start_time": "2022-03-12T14:00:50.590Z"
   },
   {
    "duration": 329,
    "start_time": "2022-03-12T14:00:50.603Z"
   },
   {
    "duration": 306,
    "start_time": "2022-03-12T14:00:50.933Z"
   },
   {
    "duration": 605,
    "start_time": "2022-03-12T14:00:51.241Z"
   },
   {
    "duration": 217,
    "start_time": "2022-03-12T14:00:51.848Z"
   },
   {
    "duration": 2264,
    "start_time": "2022-03-12T14:00:52.066Z"
   },
   {
    "duration": 365,
    "start_time": "2022-03-12T14:00:54.331Z"
   },
   {
    "duration": 6,
    "start_time": "2022-03-12T14:00:54.698Z"
   },
   {
    "duration": 610,
    "start_time": "2022-03-12T14:00:54.705Z"
   },
   {
    "duration": 602,
    "start_time": "2022-03-12T14:00:55.316Z"
   },
   {
    "duration": 6,
    "start_time": "2022-03-12T14:00:55.920Z"
   },
   {
    "duration": 620,
    "start_time": "2022-03-12T14:00:55.928Z"
   },
   {
    "duration": 13,
    "start_time": "2022-03-12T14:00:56.549Z"
   },
   {
    "duration": 9,
    "start_time": "2022-03-12T14:00:56.564Z"
   },
   {
    "duration": 4,
    "start_time": "2022-03-12T14:00:56.575Z"
   },
   {
    "duration": 29,
    "start_time": "2022-03-12T14:00:56.580Z"
   },
   {
    "duration": 584,
    "start_time": "2022-03-12T14:00:58.732Z"
   },
   {
    "duration": 504,
    "start_time": "2022-03-12T14:01:52.788Z"
   },
   {
    "duration": 8,
    "start_time": "2022-03-12T14:02:16.226Z"
   },
   {
    "duration": 695,
    "start_time": "2022-03-12T14:02:18.527Z"
   },
   {
    "duration": 304,
    "start_time": "2022-03-12T14:03:26.978Z"
   },
   {
    "duration": 326,
    "start_time": "2022-03-12T14:03:36.531Z"
   },
   {
    "duration": 316,
    "start_time": "2022-03-12T14:03:40.669Z"
   },
   {
    "duration": 337,
    "start_time": "2022-03-12T14:03:57.901Z"
   },
   {
    "duration": 355,
    "start_time": "2022-03-12T14:04:03.186Z"
   },
   {
    "duration": 330,
    "start_time": "2022-03-12T14:04:07.327Z"
   },
   {
    "duration": 363,
    "start_time": "2022-03-12T14:04:11.233Z"
   },
   {
    "duration": 385,
    "start_time": "2022-03-12T14:04:20.649Z"
   },
   {
    "duration": 9,
    "start_time": "2022-03-12T14:04:46.687Z"
   },
   {
    "duration": 305,
    "start_time": "2022-03-12T14:12:04.274Z"
   },
   {
    "duration": 355,
    "start_time": "2022-03-12T14:12:10.156Z"
   },
   {
    "duration": 5,
    "start_time": "2022-03-12T14:12:20.500Z"
   },
   {
    "duration": 9,
    "start_time": "2022-03-12T14:12:23.272Z"
   },
   {
    "duration": 362,
    "start_time": "2022-03-12T14:12:35.758Z"
   },
   {
    "duration": 449,
    "start_time": "2022-03-12T14:12:39.672Z"
   },
   {
    "duration": 4,
    "start_time": "2022-03-12T14:12:44.737Z"
   },
   {
    "duration": 36,
    "start_time": "2022-03-12T14:12:44.742Z"
   },
   {
    "duration": 8,
    "start_time": "2022-03-12T14:12:44.780Z"
   },
   {
    "duration": 11,
    "start_time": "2022-03-12T14:12:44.790Z"
   },
   {
    "duration": 25,
    "start_time": "2022-03-12T14:12:44.803Z"
   },
   {
    "duration": 3,
    "start_time": "2022-03-12T14:12:44.829Z"
   },
   {
    "duration": 5,
    "start_time": "2022-03-12T14:12:44.834Z"
   },
   {
    "duration": 12,
    "start_time": "2022-03-12T14:12:44.841Z"
   },
   {
    "duration": 9,
    "start_time": "2022-03-12T14:12:44.854Z"
   },
   {
    "duration": 4,
    "start_time": "2022-03-12T14:12:44.864Z"
   },
   {
    "duration": 33,
    "start_time": "2022-03-12T14:12:44.869Z"
   },
   {
    "duration": 4,
    "start_time": "2022-03-12T14:12:44.903Z"
   },
   {
    "duration": 7,
    "start_time": "2022-03-12T14:12:44.909Z"
   },
   {
    "duration": 9,
    "start_time": "2022-03-12T14:12:44.917Z"
   },
   {
    "duration": 10,
    "start_time": "2022-03-12T14:12:44.928Z"
   },
   {
    "duration": 8,
    "start_time": "2022-03-12T14:12:44.939Z"
   },
   {
    "duration": 9,
    "start_time": "2022-03-12T14:12:44.948Z"
   },
   {
    "duration": 13,
    "start_time": "2022-03-12T14:12:44.959Z"
   },
   {
    "duration": 4,
    "start_time": "2022-03-12T14:12:44.975Z"
   },
   {
    "duration": 7,
    "start_time": "2022-03-12T14:12:44.981Z"
   },
   {
    "duration": 18,
    "start_time": "2022-03-12T14:12:44.989Z"
   },
   {
    "duration": 6,
    "start_time": "2022-03-12T14:12:45.009Z"
   },
   {
    "duration": 22,
    "start_time": "2022-03-12T14:12:45.016Z"
   },
   {
    "duration": 5,
    "start_time": "2022-03-12T14:12:45.040Z"
   },
   {
    "duration": 8,
    "start_time": "2022-03-12T14:12:45.047Z"
   },
   {
    "duration": 11,
    "start_time": "2022-03-12T14:12:45.057Z"
   },
   {
    "duration": 32,
    "start_time": "2022-03-12T14:12:45.069Z"
   },
   {
    "duration": 13,
    "start_time": "2022-03-12T14:12:45.102Z"
   },
   {
    "duration": 8,
    "start_time": "2022-03-12T14:12:45.116Z"
   },
   {
    "duration": 13,
    "start_time": "2022-03-12T14:12:45.125Z"
   },
   {
    "duration": 7,
    "start_time": "2022-03-12T14:12:45.140Z"
   },
   {
    "duration": 17,
    "start_time": "2022-03-12T14:12:45.148Z"
   },
   {
    "duration": 7,
    "start_time": "2022-03-12T14:12:45.166Z"
   },
   {
    "duration": 28,
    "start_time": "2022-03-12T14:12:45.174Z"
   },
   {
    "duration": 615,
    "start_time": "2022-03-12T14:12:45.203Z"
   },
   {
    "duration": 442,
    "start_time": "2022-03-12T14:12:45.820Z"
   },
   {
    "duration": 9,
    "start_time": "2022-03-12T14:12:46.264Z"
   },
   {
    "duration": 4,
    "start_time": "2022-03-12T14:12:46.274Z"
   },
   {
    "duration": 5,
    "start_time": "2022-03-12T14:12:46.280Z"
   },
   {
    "duration": 986,
    "start_time": "2022-03-12T14:12:46.301Z"
   },
   {
    "duration": 16,
    "start_time": "2022-03-12T14:12:47.289Z"
   },
   {
    "duration": 2,
    "start_time": "2022-03-12T14:12:47.307Z"
   },
   {
    "duration": 406,
    "start_time": "2022-03-12T14:12:47.310Z"
   },
   {
    "duration": 634,
    "start_time": "2022-03-12T14:12:47.717Z"
   },
   {
    "duration": 8,
    "start_time": "2022-03-12T14:12:48.353Z"
   },
   {
    "duration": 4,
    "start_time": "2022-03-12T14:12:48.362Z"
   },
   {
    "duration": 8,
    "start_time": "2022-03-12T14:12:48.367Z"
   },
   {
    "duration": 375,
    "start_time": "2022-03-12T14:12:48.376Z"
   },
   {
    "duration": 432,
    "start_time": "2022-03-12T14:12:48.754Z"
   },
   {
    "duration": 5,
    "start_time": "2022-03-12T14:12:49.188Z"
   },
   {
    "duration": 510,
    "start_time": "2022-03-12T14:12:49.201Z"
   },
   {
    "duration": 403,
    "start_time": "2022-03-12T14:12:49.712Z"
   },
   {
    "duration": 647,
    "start_time": "2022-03-12T14:12:50.117Z"
   },
   {
    "duration": 289,
    "start_time": "2022-03-12T14:12:50.766Z"
   },
   {
    "duration": 1672,
    "start_time": "2022-03-12T14:12:51.057Z"
   },
   {
    "duration": 490,
    "start_time": "2022-03-12T14:12:52.241Z"
   },
   {
    "duration": 489,
    "start_time": "2022-03-12T14:12:52.243Z"
   },
   {
    "duration": 488,
    "start_time": "2022-03-12T14:12:52.245Z"
   },
   {
    "duration": 486,
    "start_time": "2022-03-12T14:12:52.248Z"
   },
   {
    "duration": 477,
    "start_time": "2022-03-12T14:12:52.258Z"
   },
   {
    "duration": 471,
    "start_time": "2022-03-12T14:12:52.264Z"
   },
   {
    "duration": 462,
    "start_time": "2022-03-12T14:12:52.274Z"
   },
   {
    "duration": 461,
    "start_time": "2022-03-12T14:12:52.276Z"
   },
   {
    "duration": 459,
    "start_time": "2022-03-12T14:12:52.279Z"
   },
   {
    "duration": 451,
    "start_time": "2022-03-12T14:12:52.288Z"
   },
   {
    "duration": 4,
    "start_time": "2022-03-12T14:16:54.990Z"
   },
   {
    "duration": 8,
    "start_time": "2022-03-12T14:16:56.325Z"
   },
   {
    "duration": 361,
    "start_time": "2022-03-12T14:16:57.850Z"
   },
   {
    "duration": 4,
    "start_time": "2022-03-12T14:17:02.085Z"
   },
   {
    "duration": 63,
    "start_time": "2022-03-12T14:17:02.091Z"
   },
   {
    "duration": 9,
    "start_time": "2022-03-12T14:17:02.157Z"
   },
   {
    "duration": 23,
    "start_time": "2022-03-12T14:17:02.169Z"
   },
   {
    "duration": 40,
    "start_time": "2022-03-12T14:17:02.194Z"
   },
   {
    "duration": 4,
    "start_time": "2022-03-12T14:17:02.236Z"
   },
   {
    "duration": 22,
    "start_time": "2022-03-12T14:17:02.241Z"
   },
   {
    "duration": 26,
    "start_time": "2022-03-12T14:17:02.266Z"
   },
   {
    "duration": 16,
    "start_time": "2022-03-12T14:17:02.294Z"
   },
   {
    "duration": 15,
    "start_time": "2022-03-12T14:17:02.311Z"
   },
   {
    "duration": 10,
    "start_time": "2022-03-12T14:17:02.328Z"
   },
   {
    "duration": 18,
    "start_time": "2022-03-12T14:17:02.339Z"
   },
   {
    "duration": 12,
    "start_time": "2022-03-12T14:17:02.358Z"
   },
   {
    "duration": 17,
    "start_time": "2022-03-12T14:17:02.372Z"
   },
   {
    "duration": 19,
    "start_time": "2022-03-12T14:17:02.391Z"
   },
   {
    "duration": 17,
    "start_time": "2022-03-12T14:17:02.412Z"
   },
   {
    "duration": 15,
    "start_time": "2022-03-12T14:17:02.430Z"
   },
   {
    "duration": 25,
    "start_time": "2022-03-12T14:17:02.446Z"
   },
   {
    "duration": 22,
    "start_time": "2022-03-12T14:17:02.472Z"
   },
   {
    "duration": 19,
    "start_time": "2022-03-12T14:17:02.495Z"
   },
   {
    "duration": 24,
    "start_time": "2022-03-12T14:17:02.515Z"
   },
   {
    "duration": 19,
    "start_time": "2022-03-12T14:17:02.540Z"
   },
   {
    "duration": 43,
    "start_time": "2022-03-12T14:17:02.563Z"
   },
   {
    "duration": 15,
    "start_time": "2022-03-12T14:17:02.607Z"
   },
   {
    "duration": 20,
    "start_time": "2022-03-12T14:17:02.623Z"
   },
   {
    "duration": 23,
    "start_time": "2022-03-12T14:17:02.644Z"
   },
   {
    "duration": 28,
    "start_time": "2022-03-12T14:17:02.668Z"
   },
   {
    "duration": 26,
    "start_time": "2022-03-12T14:17:02.697Z"
   },
   {
    "duration": 26,
    "start_time": "2022-03-12T14:17:02.724Z"
   },
   {
    "duration": 13,
    "start_time": "2022-03-12T14:17:02.751Z"
   },
   {
    "duration": 12,
    "start_time": "2022-03-12T14:17:02.765Z"
   },
   {
    "duration": 34,
    "start_time": "2022-03-12T14:17:02.779Z"
   },
   {
    "duration": 16,
    "start_time": "2022-03-12T14:17:02.814Z"
   },
   {
    "duration": 32,
    "start_time": "2022-03-12T14:17:02.832Z"
   },
   {
    "duration": 456,
    "start_time": "2022-03-12T14:17:02.865Z"
   },
   {
    "duration": 453,
    "start_time": "2022-03-12T14:17:03.323Z"
   },
   {
    "duration": 9,
    "start_time": "2022-03-12T14:17:03.777Z"
   },
   {
    "duration": 22,
    "start_time": "2022-03-12T14:17:03.787Z"
   },
   {
    "duration": 25,
    "start_time": "2022-03-12T14:17:03.811Z"
   },
   {
    "duration": 819,
    "start_time": "2022-03-12T14:17:03.837Z"
   },
   {
    "duration": 9,
    "start_time": "2022-03-12T14:17:04.658Z"
   },
   {
    "duration": 31,
    "start_time": "2022-03-12T14:17:04.668Z"
   },
   {
    "duration": 439,
    "start_time": "2022-03-12T14:17:04.700Z"
   },
   {
    "duration": 511,
    "start_time": "2022-03-12T14:17:05.141Z"
   },
   {
    "duration": 10,
    "start_time": "2022-03-12T14:17:05.654Z"
   },
   {
    "duration": 8,
    "start_time": "2022-03-12T14:17:05.666Z"
   },
   {
    "duration": 27,
    "start_time": "2022-03-12T14:17:05.675Z"
   },
   {
    "duration": 404,
    "start_time": "2022-03-12T14:17:05.704Z"
   },
   {
    "duration": 507,
    "start_time": "2022-03-12T14:17:06.110Z"
   },
   {
    "duration": 6,
    "start_time": "2022-03-12T14:17:06.618Z"
   },
   {
    "duration": 401,
    "start_time": "2022-03-12T14:17:06.626Z"
   },
   {
    "duration": 399,
    "start_time": "2022-03-12T14:17:07.029Z"
   },
   {
    "duration": 673,
    "start_time": "2022-03-12T14:17:07.430Z"
   },
   {
    "duration": 274,
    "start_time": "2022-03-12T14:17:08.105Z"
   },
   {
    "duration": 2647,
    "start_time": "2022-03-12T14:17:08.380Z"
   },
   {
    "duration": 463,
    "start_time": "2022-03-12T14:17:11.029Z"
   },
   {
    "duration": 8,
    "start_time": "2022-03-12T14:17:11.494Z"
   },
   {
    "duration": 621,
    "start_time": "2022-03-12T14:17:11.503Z"
   },
   {
    "duration": 613,
    "start_time": "2022-03-12T14:17:12.126Z"
   },
   {
    "duration": 7,
    "start_time": "2022-03-12T14:17:12.741Z"
   },
   {
    "duration": 611,
    "start_time": "2022-03-12T14:17:12.750Z"
   },
   {
    "duration": 12,
    "start_time": "2022-03-12T14:17:13.363Z"
   },
   {
    "duration": 26,
    "start_time": "2022-03-12T14:17:13.377Z"
   },
   {
    "duration": 3,
    "start_time": "2022-03-12T14:17:13.405Z"
   },
   {
    "duration": 10,
    "start_time": "2022-03-12T14:17:13.410Z"
   },
   {
    "duration": 7830,
    "start_time": "2022-03-12T14:18:52.566Z"
   },
   {
    "duration": 8169,
    "start_time": "2022-03-12T14:19:53.846Z"
   },
   {
    "duration": 398,
    "start_time": "2022-03-12T14:20:33.563Z"
   },
   {
    "duration": 381,
    "start_time": "2022-03-12T14:20:45.551Z"
   },
   {
    "duration": 384,
    "start_time": "2022-03-12T14:20:49.881Z"
   },
   {
    "duration": 387,
    "start_time": "2022-03-12T14:21:05.814Z"
   },
   {
    "duration": 500,
    "start_time": "2022-03-12T14:21:10.008Z"
   },
   {
    "duration": 401,
    "start_time": "2022-03-12T14:21:14.194Z"
   },
   {
    "duration": 380,
    "start_time": "2022-03-12T14:21:17.698Z"
   },
   {
    "duration": 356,
    "start_time": "2022-03-12T14:22:11.927Z"
   },
   {
    "duration": 7898,
    "start_time": "2022-03-12T14:23:25.169Z"
   },
   {
    "duration": 8786,
    "start_time": "2022-03-12T14:23:40.818Z"
   },
   {
    "duration": 346,
    "start_time": "2022-03-12T14:23:50.335Z"
   },
   {
    "duration": 489,
    "start_time": "2022-03-12T14:23:59.087Z"
   },
   {
    "duration": 343,
    "start_time": "2022-03-12T14:24:04.325Z"
   },
   {
    "duration": 685,
    "start_time": "2022-03-12T14:24:45.308Z"
   },
   {
    "duration": 665,
    "start_time": "2022-03-12T14:24:51.174Z"
   },
   {
    "duration": 351,
    "start_time": "2022-03-12T14:24:59.830Z"
   },
   {
    "duration": 349,
    "start_time": "2022-03-12T14:25:03.122Z"
   },
   {
    "duration": 453,
    "start_time": "2022-03-12T14:25:13.141Z"
   },
   {
    "duration": 348,
    "start_time": "2022-03-12T14:25:16.339Z"
   },
   {
    "duration": 374,
    "start_time": "2022-03-12T14:30:05.462Z"
   },
   {
    "duration": 6,
    "start_time": "2022-03-12T14:31:26.243Z"
   },
   {
    "duration": 8321,
    "start_time": "2022-03-12T14:31:39.906Z"
   },
   {
    "duration": 8357,
    "start_time": "2022-03-12T14:32:07.511Z"
   },
   {
    "duration": 7,
    "start_time": "2022-03-12T14:32:41.953Z"
   },
   {
    "duration": 222,
    "start_time": "2022-03-12T14:32:43.328Z"
   },
   {
    "duration": 260,
    "start_time": "2022-03-12T14:33:04.881Z"
   },
   {
    "duration": 219,
    "start_time": "2022-03-12T14:38:52.711Z"
   },
   {
    "duration": 390,
    "start_time": "2022-03-12T14:42:50.645Z"
   },
   {
    "duration": 372,
    "start_time": "2022-03-12T14:43:00.681Z"
   },
   {
    "duration": 344,
    "start_time": "2022-03-12T14:43:05.275Z"
   },
   {
    "duration": 1736,
    "start_time": "2022-03-12T15:30:52.756Z"
   },
   {
    "duration": 50,
    "start_time": "2022-03-12T15:30:54.494Z"
   },
   {
    "duration": 28,
    "start_time": "2022-03-12T15:30:54.548Z"
   },
   {
    "duration": 27,
    "start_time": "2022-03-12T15:30:54.579Z"
   },
   {
    "duration": 66,
    "start_time": "2022-03-12T15:30:54.609Z"
   },
   {
    "duration": 5,
    "start_time": "2022-03-12T15:30:54.677Z"
   },
   {
    "duration": 7,
    "start_time": "2022-03-12T15:30:54.685Z"
   },
   {
    "duration": 24,
    "start_time": "2022-03-12T15:30:54.695Z"
   },
   {
    "duration": 20,
    "start_time": "2022-03-12T15:30:54.723Z"
   },
   {
    "duration": 31,
    "start_time": "2022-03-12T15:30:54.745Z"
   },
   {
    "duration": 6,
    "start_time": "2022-03-12T15:30:54.778Z"
   },
   {
    "duration": 10,
    "start_time": "2022-03-12T15:30:54.786Z"
   },
   {
    "duration": 5,
    "start_time": "2022-03-12T15:30:54.798Z"
   },
   {
    "duration": 8,
    "start_time": "2022-03-12T15:30:54.805Z"
   },
   {
    "duration": 58,
    "start_time": "2022-03-12T15:30:54.815Z"
   },
   {
    "duration": 7,
    "start_time": "2022-03-12T15:30:54.876Z"
   },
   {
    "duration": 9,
    "start_time": "2022-03-12T15:30:54.885Z"
   },
   {
    "duration": 16,
    "start_time": "2022-03-12T15:30:54.896Z"
   },
   {
    "duration": 7,
    "start_time": "2022-03-12T15:30:54.914Z"
   },
   {
    "duration": 10,
    "start_time": "2022-03-12T15:30:54.923Z"
   },
   {
    "duration": 48,
    "start_time": "2022-03-12T15:30:54.935Z"
   },
   {
    "duration": 8,
    "start_time": "2022-03-12T15:30:54.986Z"
   },
   {
    "duration": 36,
    "start_time": "2022-03-12T15:30:55.003Z"
   },
   {
    "duration": 10,
    "start_time": "2022-03-12T15:30:55.077Z"
   },
   {
    "duration": 15,
    "start_time": "2022-03-12T15:30:55.090Z"
   },
   {
    "duration": 16,
    "start_time": "2022-03-12T15:30:55.109Z"
   },
   {
    "duration": 56,
    "start_time": "2022-03-12T15:30:55.129Z"
   },
   {
    "duration": 28,
    "start_time": "2022-03-12T15:30:55.188Z"
   },
   {
    "duration": 17,
    "start_time": "2022-03-12T15:30:55.218Z"
   },
   {
    "duration": 39,
    "start_time": "2022-03-12T15:30:55.238Z"
   },
   {
    "duration": 12,
    "start_time": "2022-03-12T15:30:55.279Z"
   },
   {
    "duration": 20,
    "start_time": "2022-03-12T15:30:55.293Z"
   },
   {
    "duration": 6,
    "start_time": "2022-03-12T15:30:55.316Z"
   },
   {
    "duration": 52,
    "start_time": "2022-03-12T15:30:55.325Z"
   },
   {
    "duration": 683,
    "start_time": "2022-03-12T15:30:55.380Z"
   },
   {
    "duration": 685,
    "start_time": "2022-03-12T15:30:56.066Z"
   },
   {
    "duration": 27,
    "start_time": "2022-03-12T15:30:56.753Z"
   },
   {
    "duration": 8,
    "start_time": "2022-03-12T15:30:56.783Z"
   },
   {
    "duration": 9,
    "start_time": "2022-03-12T15:30:56.794Z"
   },
   {
    "duration": 1477,
    "start_time": "2022-03-12T15:30:56.806Z"
   },
   {
    "duration": 13,
    "start_time": "2022-03-12T15:30:58.286Z"
   },
   {
    "duration": 3,
    "start_time": "2022-03-12T15:30:58.302Z"
   },
   {
    "duration": 591,
    "start_time": "2022-03-12T15:30:58.308Z"
   },
   {
    "duration": 956,
    "start_time": "2022-03-12T15:30:58.902Z"
   },
   {
    "duration": 22,
    "start_time": "2022-03-12T15:30:59.860Z"
   },
   {
    "duration": 6,
    "start_time": "2022-03-12T15:30:59.884Z"
   },
   {
    "duration": 13,
    "start_time": "2022-03-12T15:30:59.893Z"
   },
   {
    "duration": 683,
    "start_time": "2022-03-12T15:30:59.909Z"
   },
   {
    "duration": 747,
    "start_time": "2022-03-12T15:31:00.595Z"
   },
   {
    "duration": 16,
    "start_time": "2022-03-12T15:31:01.344Z"
   },
   {
    "duration": 513,
    "start_time": "2022-03-12T15:31:01.363Z"
   },
   {
    "duration": 485,
    "start_time": "2022-03-12T15:31:01.878Z"
   },
   {
    "duration": 1126,
    "start_time": "2022-03-12T15:31:02.365Z"
   },
   {
    "duration": 357,
    "start_time": "2022-03-12T15:31:03.494Z"
   },
   {
    "duration": 3811,
    "start_time": "2022-03-12T15:31:03.853Z"
   },
   {
    "duration": 665,
    "start_time": "2022-03-12T15:31:07.674Z"
   },
   {
    "duration": 658,
    "start_time": "2022-03-12T15:31:08.341Z"
   },
   {
    "duration": 11,
    "start_time": "2022-03-12T15:31:09.001Z"
   },
   {
    "duration": 439,
    "start_time": "2022-03-12T15:31:09.014Z"
   },
   {
    "duration": 18,
    "start_time": "2022-03-12T15:31:09.455Z"
   },
   {
    "duration": 1146,
    "start_time": "2022-03-12T15:31:09.475Z"
   },
   {
    "duration": 1120,
    "start_time": "2022-03-12T15:31:10.624Z"
   },
   {
    "duration": 29,
    "start_time": "2022-03-12T15:31:11.747Z"
   },
   {
    "duration": 1394,
    "start_time": "2022-03-12T15:31:11.779Z"
   },
   {
    "duration": 23,
    "start_time": "2022-03-12T15:31:13.176Z"
   },
   {
    "duration": 28,
    "start_time": "2022-03-12T15:31:13.201Z"
   },
   {
    "duration": 26,
    "start_time": "2022-03-12T15:31:13.231Z"
   },
   {
    "duration": 21,
    "start_time": "2022-03-12T15:31:13.266Z"
   },
   {
    "duration": 31,
    "start_time": "2022-03-12T15:42:53.459Z"
   },
   {
    "duration": 11,
    "start_time": "2022-03-12T15:43:07.725Z"
   },
   {
    "duration": 32,
    "start_time": "2022-03-12T15:43:35.962Z"
   },
   {
    "duration": 16,
    "start_time": "2022-03-12T15:43:45.719Z"
   },
   {
    "duration": 34,
    "start_time": "2022-03-12T15:44:45.674Z"
   },
   {
    "duration": 16,
    "start_time": "2022-03-12T16:01:34.051Z"
   },
   {
    "duration": 32,
    "start_time": "2022-03-12T16:01:37.868Z"
   },
   {
    "duration": 359,
    "start_time": "2022-03-13T08:02:43.352Z"
   },
   {
    "duration": 1453,
    "start_time": "2022-03-13T08:02:47.157Z"
   },
   {
    "duration": 45,
    "start_time": "2022-03-13T08:02:48.612Z"
   },
   {
    "duration": 14,
    "start_time": "2022-03-13T08:02:48.660Z"
   },
   {
    "duration": 29,
    "start_time": "2022-03-13T08:02:48.677Z"
   },
   {
    "duration": 61,
    "start_time": "2022-03-13T08:02:48.708Z"
   },
   {
    "duration": 5,
    "start_time": "2022-03-13T08:02:48.772Z"
   },
   {
    "duration": 4,
    "start_time": "2022-03-13T08:02:48.780Z"
   },
   {
    "duration": 20,
    "start_time": "2022-03-13T08:02:48.788Z"
   },
   {
    "duration": 42,
    "start_time": "2022-03-13T08:02:48.811Z"
   },
   {
    "duration": 6,
    "start_time": "2022-03-13T08:02:48.856Z"
   },
   {
    "duration": 6,
    "start_time": "2022-03-13T08:02:48.865Z"
   },
   {
    "duration": 7,
    "start_time": "2022-03-13T08:02:48.873Z"
   },
   {
    "duration": 5,
    "start_time": "2022-03-13T08:02:48.883Z"
   },
   {
    "duration": 8,
    "start_time": "2022-03-13T08:02:48.890Z"
   },
   {
    "duration": 56,
    "start_time": "2022-03-13T08:02:48.901Z"
   },
   {
    "duration": 8,
    "start_time": "2022-03-13T08:02:48.959Z"
   },
   {
    "duration": 7,
    "start_time": "2022-03-13T08:02:48.969Z"
   },
   {
    "duration": 16,
    "start_time": "2022-03-13T08:02:48.978Z"
   },
   {
    "duration": 6,
    "start_time": "2022-03-13T08:02:48.996Z"
   },
   {
    "duration": 47,
    "start_time": "2022-03-13T08:02:49.004Z"
   },
   {
    "duration": 13,
    "start_time": "2022-03-13T08:02:49.054Z"
   },
   {
    "duration": 7,
    "start_time": "2022-03-13T08:02:49.069Z"
   },
   {
    "duration": 31,
    "start_time": "2022-03-13T08:02:49.081Z"
   },
   {
    "duration": 40,
    "start_time": "2022-03-13T08:02:49.116Z"
   },
   {
    "duration": 7,
    "start_time": "2022-03-13T08:02:49.159Z"
   },
   {
    "duration": 14,
    "start_time": "2022-03-13T08:02:49.169Z"
   },
   {
    "duration": 18,
    "start_time": "2022-03-13T08:02:49.185Z"
   },
   {
    "duration": 60,
    "start_time": "2022-03-13T08:02:49.205Z"
   },
   {
    "duration": 13,
    "start_time": "2022-03-13T08:02:49.268Z"
   },
   {
    "duration": 12,
    "start_time": "2022-03-13T08:02:49.284Z"
   },
   {
    "duration": 17,
    "start_time": "2022-03-13T08:02:49.298Z"
   },
   {
    "duration": 46,
    "start_time": "2022-03-13T08:02:49.317Z"
   },
   {
    "duration": 6,
    "start_time": "2022-03-13T08:02:49.366Z"
   },
   {
    "duration": 26,
    "start_time": "2022-03-13T08:02:49.375Z"
   },
   {
    "duration": 657,
    "start_time": "2022-03-13T08:02:49.403Z"
   },
   {
    "duration": 641,
    "start_time": "2022-03-13T08:02:50.062Z"
   },
   {
    "duration": 16,
    "start_time": "2022-03-13T08:02:50.705Z"
   },
   {
    "duration": 28,
    "start_time": "2022-03-13T08:02:50.723Z"
   },
   {
    "duration": 9,
    "start_time": "2022-03-13T08:02:50.754Z"
   },
   {
    "duration": 1259,
    "start_time": "2022-03-13T08:02:50.765Z"
   },
   {
    "duration": 26,
    "start_time": "2022-03-13T08:02:52.026Z"
   },
   {
    "duration": 3,
    "start_time": "2022-03-13T08:02:52.054Z"
   },
   {
    "duration": 548,
    "start_time": "2022-03-13T08:02:52.060Z"
   },
   {
    "duration": 767,
    "start_time": "2022-03-13T08:02:52.610Z"
   },
   {
    "duration": 12,
    "start_time": "2022-03-13T08:02:53.379Z"
   },
   {
    "duration": 7,
    "start_time": "2022-03-13T08:02:53.394Z"
   },
   {
    "duration": 12,
    "start_time": "2022-03-13T08:02:53.404Z"
   },
   {
    "duration": 641,
    "start_time": "2022-03-13T08:02:53.419Z"
   },
   {
    "duration": 769,
    "start_time": "2022-03-13T08:02:54.062Z"
   },
   {
    "duration": 19,
    "start_time": "2022-03-13T08:02:54.833Z"
   },
   {
    "duration": 464,
    "start_time": "2022-03-13T08:02:54.854Z"
   },
   {
    "duration": 487,
    "start_time": "2022-03-13T08:02:55.321Z"
   },
   {
    "duration": 1005,
    "start_time": "2022-03-13T08:02:55.811Z"
   },
   {
    "duration": 363,
    "start_time": "2022-03-13T08:02:56.819Z"
   },
   {
    "duration": 3388,
    "start_time": "2022-03-13T08:02:57.184Z"
   },
   {
    "duration": 641,
    "start_time": "2022-03-13T08:03:00.574Z"
   },
   {
    "duration": 662,
    "start_time": "2022-03-13T08:03:01.217Z"
   },
   {
    "duration": 10,
    "start_time": "2022-03-13T08:03:01.882Z"
   },
   {
    "duration": 409,
    "start_time": "2022-03-13T08:03:01.894Z"
   },
   {
    "duration": 7,
    "start_time": "2022-03-13T08:03:02.305Z"
   },
   {
    "duration": 1107,
    "start_time": "2022-03-13T08:03:02.314Z"
   },
   {
    "duration": 1103,
    "start_time": "2022-03-13T08:03:03.423Z"
   },
   {
    "duration": 4,
    "start_time": "2022-03-13T08:03:04.528Z"
   },
   {
    "duration": 1175,
    "start_time": "2022-03-13T08:03:04.534Z"
   },
   {
    "duration": 19,
    "start_time": "2022-03-13T08:03:05.711Z"
   },
   {
    "duration": 31,
    "start_time": "2022-03-13T08:03:05.733Z"
   },
   {
    "duration": 5,
    "start_time": "2022-03-13T08:03:05.766Z"
   },
   {
    "duration": 15,
    "start_time": "2022-03-13T08:03:05.779Z"
   },
   {
    "duration": 603,
    "start_time": "2022-03-13T09:25:26.961Z"
   },
   {
    "duration": 10,
    "start_time": "2022-03-13T09:26:48.416Z"
   },
   {
    "duration": 545,
    "start_time": "2022-03-13T09:26:50.042Z"
   },
   {
    "duration": 556,
    "start_time": "2022-03-13T09:27:04.761Z"
   },
   {
    "duration": 657,
    "start_time": "2022-03-13T09:27:12.822Z"
   },
   {
    "duration": 610,
    "start_time": "2022-03-13T09:29:16.049Z"
   },
   {
    "duration": 753,
    "start_time": "2022-03-13T09:29:40.356Z"
   },
   {
    "duration": 7442,
    "start_time": "2022-03-13T09:30:15.001Z"
   },
   {
    "duration": 11,
    "start_time": "2022-03-13T09:30:24.105Z"
   },
   {
    "duration": 185899,
    "start_time": "2022-03-13T09:30:25.772Z"
   },
   {
    "duration": 526,
    "start_time": "2022-03-13T09:45:20.229Z"
   },
   {
    "duration": 577,
    "start_time": "2022-03-13T09:45:48.341Z"
   },
   {
    "duration": 7,
    "start_time": "2022-03-13T09:46:47.215Z"
   },
   {
    "duration": 49,
    "start_time": "2022-03-13T09:46:47.224Z"
   },
   {
    "duration": 13,
    "start_time": "2022-03-13T09:46:47.276Z"
   },
   {
    "duration": 20,
    "start_time": "2022-03-13T09:46:47.292Z"
   },
   {
    "duration": 76,
    "start_time": "2022-03-13T09:46:47.314Z"
   },
   {
    "duration": 5,
    "start_time": "2022-03-13T09:46:47.392Z"
   },
   {
    "duration": 4,
    "start_time": "2022-03-13T09:46:47.400Z"
   },
   {
    "duration": 53,
    "start_time": "2022-03-13T09:46:47.406Z"
   },
   {
    "duration": 14,
    "start_time": "2022-03-13T09:46:47.464Z"
   },
   {
    "duration": 6,
    "start_time": "2022-03-13T09:46:47.481Z"
   },
   {
    "duration": 5,
    "start_time": "2022-03-13T09:46:47.490Z"
   },
   {
    "duration": 54,
    "start_time": "2022-03-13T09:46:47.497Z"
   },
   {
    "duration": 5,
    "start_time": "2022-03-13T09:46:47.554Z"
   },
   {
    "duration": 11,
    "start_time": "2022-03-13T09:46:47.561Z"
   },
   {
    "duration": 7,
    "start_time": "2022-03-13T09:46:47.574Z"
   },
   {
    "duration": 8,
    "start_time": "2022-03-13T09:46:47.584Z"
   },
   {
    "duration": 6,
    "start_time": "2022-03-13T09:46:47.594Z"
   },
   {
    "duration": 54,
    "start_time": "2022-03-13T09:46:47.603Z"
   },
   {
    "duration": 7,
    "start_time": "2022-03-13T09:46:47.660Z"
   },
   {
    "duration": 5,
    "start_time": "2022-03-13T09:46:47.669Z"
   },
   {
    "duration": 13,
    "start_time": "2022-03-13T09:46:47.676Z"
   },
   {
    "duration": 6,
    "start_time": "2022-03-13T09:46:47.691Z"
   },
   {
    "duration": 75,
    "start_time": "2022-03-13T09:46:47.700Z"
   },
   {
    "duration": 9,
    "start_time": "2022-03-13T09:46:47.777Z"
   },
   {
    "duration": 9,
    "start_time": "2022-03-13T09:46:47.788Z"
   },
   {
    "duration": 12,
    "start_time": "2022-03-13T09:46:47.800Z"
   },
   {
    "duration": 19,
    "start_time": "2022-03-13T09:46:47.851Z"
   },
   {
    "duration": 20,
    "start_time": "2022-03-13T09:46:47.874Z"
   },
   {
    "duration": 12,
    "start_time": "2022-03-13T09:46:47.896Z"
   },
   {
    "duration": 41,
    "start_time": "2022-03-13T09:46:47.910Z"
   },
   {
    "duration": 6,
    "start_time": "2022-03-13T09:46:47.954Z"
   },
   {
    "duration": 22,
    "start_time": "2022-03-13T09:46:47.963Z"
   },
   {
    "duration": 6,
    "start_time": "2022-03-13T09:46:47.987Z"
   },
   {
    "duration": 61,
    "start_time": "2022-03-13T09:46:47.995Z"
   },
   {
    "duration": 825,
    "start_time": "2022-03-13T09:46:48.058Z"
   },
   {
    "duration": 830,
    "start_time": "2022-03-13T09:46:48.886Z"
   },
   {
    "duration": 14,
    "start_time": "2022-03-13T09:46:49.718Z"
   },
   {
    "duration": 21,
    "start_time": "2022-03-13T09:46:49.734Z"
   },
   {
    "duration": 8,
    "start_time": "2022-03-13T09:46:49.758Z"
   },
   {
    "duration": 1682,
    "start_time": "2022-03-13T09:46:49.769Z"
   },
   {
    "duration": 15,
    "start_time": "2022-03-13T09:46:51.453Z"
   },
   {
    "duration": 6,
    "start_time": "2022-03-13T09:46:51.471Z"
   },
   {
    "duration": 814,
    "start_time": "2022-03-13T09:46:51.480Z"
   },
   {
    "duration": 957,
    "start_time": "2022-03-13T09:46:52.297Z"
   },
   {
    "duration": 12,
    "start_time": "2022-03-13T09:46:53.256Z"
   },
   {
    "duration": 25,
    "start_time": "2022-03-13T09:46:53.270Z"
   },
   {
    "duration": 15,
    "start_time": "2022-03-13T09:46:53.297Z"
   },
   {
    "duration": 662,
    "start_time": "2022-03-13T09:46:53.314Z"
   },
   {
    "duration": 767,
    "start_time": "2022-03-13T09:46:53.978Z"
   },
   {
    "duration": 10,
    "start_time": "2022-03-13T09:46:54.751Z"
   },
   {
    "duration": 672,
    "start_time": "2022-03-13T09:46:54.763Z"
   },
   {
    "duration": 683,
    "start_time": "2022-03-13T09:46:55.438Z"
   },
   {
    "duration": 1119,
    "start_time": "2022-03-13T09:46:56.125Z"
   },
   {
    "duration": 389,
    "start_time": "2022-03-13T09:46:57.247Z"
   },
   {
    "duration": 4858,
    "start_time": "2022-03-13T09:46:57.638Z"
   },
   {
    "duration": 644,
    "start_time": "2022-03-13T09:47:02.498Z"
   },
   {
    "duration": 560,
    "start_time": "2022-03-13T09:47:03.151Z"
   },
   {
    "duration": 7,
    "start_time": "2022-03-13T09:47:03.713Z"
   },
   {
    "duration": 1137,
    "start_time": "2022-03-13T09:47:03.723Z"
   },
   {
    "duration": 1162,
    "start_time": "2022-03-13T09:47:04.862Z"
   },
   {
    "duration": 4,
    "start_time": "2022-03-13T09:47:06.026Z"
   },
   {
    "duration": 1300,
    "start_time": "2022-03-13T09:47:06.032Z"
   },
   {
    "duration": 33,
    "start_time": "2022-03-13T09:47:07.335Z"
   },
   {
    "duration": 16,
    "start_time": "2022-03-13T09:47:07.371Z"
   },
   {
    "duration": 7,
    "start_time": "2022-03-13T09:47:07.390Z"
   },
   {
    "duration": 52,
    "start_time": "2022-03-13T09:47:07.400Z"
   },
   {
    "duration": 1198,
    "start_time": "2022-03-13T16:04:58.853Z"
   },
   {
    "duration": 34,
    "start_time": "2022-03-13T16:05:00.053Z"
   },
   {
    "duration": 227,
    "start_time": "2022-03-13T16:05:00.089Z"
   },
   {
    "duration": 335,
    "start_time": "2022-03-13T16:05:00.318Z"
   },
   {
    "duration": 135,
    "start_time": "2022-03-13T16:05:00.655Z"
   },
   {
    "duration": 131,
    "start_time": "2022-03-13T16:05:00.792Z"
   },
   {
    "duration": 211,
    "start_time": "2022-03-13T16:05:00.925Z"
   },
   {
    "duration": 129,
    "start_time": "2022-03-13T16:05:01.139Z"
   },
   {
    "duration": 71,
    "start_time": "2022-03-13T16:05:01.270Z"
   },
   {
    "duration": 38,
    "start_time": "2022-03-13T16:05:01.343Z"
   },
   {
    "duration": 8,
    "start_time": "2022-03-13T16:05:01.383Z"
   },
   {
    "duration": 9,
    "start_time": "2022-03-13T16:05:01.393Z"
   },
   {
    "duration": 14,
    "start_time": "2022-03-13T16:05:01.404Z"
   },
   {
    "duration": 12,
    "start_time": "2022-03-13T16:05:01.420Z"
   },
   {
    "duration": 51,
    "start_time": "2022-03-13T16:05:01.434Z"
   },
   {
    "duration": 17,
    "start_time": "2022-03-13T16:05:01.487Z"
   },
   {
    "duration": 32,
    "start_time": "2022-03-13T16:05:01.506Z"
   },
   {
    "duration": 34,
    "start_time": "2022-03-13T16:05:01.540Z"
   },
   {
    "duration": 7,
    "start_time": "2022-03-13T16:05:01.576Z"
   },
   {
    "duration": 35,
    "start_time": "2022-03-13T16:05:01.585Z"
   },
   {
    "duration": 54,
    "start_time": "2022-03-13T16:05:01.622Z"
   },
   {
    "duration": 14,
    "start_time": "2022-03-13T16:05:01.678Z"
   },
   {
    "duration": 27,
    "start_time": "2022-03-13T16:05:01.697Z"
   },
   {
    "duration": 6,
    "start_time": "2022-03-13T16:05:01.726Z"
   },
   {
    "duration": 13,
    "start_time": "2022-03-13T16:05:01.734Z"
   },
   {
    "duration": 19,
    "start_time": "2022-03-13T16:05:01.749Z"
   },
   {
    "duration": 24,
    "start_time": "2022-03-13T16:05:01.770Z"
   },
   {
    "duration": 27,
    "start_time": "2022-03-13T16:05:01.796Z"
   },
   {
    "duration": 39,
    "start_time": "2022-03-13T16:05:01.824Z"
   },
   {
    "duration": 18,
    "start_time": "2022-03-13T16:05:01.865Z"
   },
   {
    "duration": 15,
    "start_time": "2022-03-13T16:05:01.885Z"
   },
   {
    "duration": 25,
    "start_time": "2022-03-13T16:05:01.902Z"
   },
   {
    "duration": 28,
    "start_time": "2022-03-13T16:05:01.928Z"
   },
   {
    "duration": 50,
    "start_time": "2022-03-13T16:05:01.958Z"
   },
   {
    "duration": 429,
    "start_time": "2022-03-13T16:05:02.009Z"
   },
   {
    "duration": 663,
    "start_time": "2022-03-13T16:05:02.441Z"
   },
   {
    "duration": 13,
    "start_time": "2022-03-13T16:05:03.106Z"
   },
   {
    "duration": 17,
    "start_time": "2022-03-13T16:05:03.121Z"
   },
   {
    "duration": 20,
    "start_time": "2022-03-13T16:05:03.141Z"
   },
   {
    "duration": 949,
    "start_time": "2022-03-13T16:05:03.163Z"
   },
   {
    "duration": 10,
    "start_time": "2022-03-13T16:05:04.114Z"
   },
   {
    "duration": 9,
    "start_time": "2022-03-13T16:05:04.126Z"
   },
   {
    "duration": 380,
    "start_time": "2022-03-13T16:05:04.137Z"
   },
   {
    "duration": 559,
    "start_time": "2022-03-13T16:05:04.520Z"
   },
   {
    "duration": 12,
    "start_time": "2022-03-13T16:05:05.081Z"
   },
   {
    "duration": 18,
    "start_time": "2022-03-13T16:05:05.094Z"
   },
   {
    "duration": 15,
    "start_time": "2022-03-13T16:05:05.114Z"
   },
   {
    "duration": 445,
    "start_time": "2022-03-13T16:05:05.131Z"
   },
   {
    "duration": 451,
    "start_time": "2022-03-13T16:05:05.578Z"
   },
   {
    "duration": 7,
    "start_time": "2022-03-13T16:05:06.031Z"
   },
   {
    "duration": 376,
    "start_time": "2022-03-13T16:05:06.040Z"
   },
   {
    "duration": 448,
    "start_time": "2022-03-13T16:05:06.418Z"
   },
   {
    "duration": 674,
    "start_time": "2022-03-13T16:05:06.868Z"
   },
   {
    "duration": 273,
    "start_time": "2022-03-13T16:05:07.544Z"
   },
   {
    "duration": 2309,
    "start_time": "2022-03-13T16:05:07.819Z"
   },
   {
    "duration": 398,
    "start_time": "2022-03-13T16:05:10.130Z"
   },
   {
    "duration": 361,
    "start_time": "2022-03-13T16:05:10.530Z"
   },
   {
    "duration": 4,
    "start_time": "2022-03-13T16:05:10.893Z"
   },
   {
    "duration": 681,
    "start_time": "2022-03-13T16:05:10.899Z"
   },
   {
    "duration": 706,
    "start_time": "2022-03-13T16:05:11.581Z"
   },
   {
    "duration": 2,
    "start_time": "2022-03-13T16:05:12.288Z"
   },
   {
    "duration": 764,
    "start_time": "2022-03-13T16:05:12.292Z"
   },
   {
    "duration": 16,
    "start_time": "2022-03-13T16:05:13.058Z"
   },
   {
    "duration": 15,
    "start_time": "2022-03-13T16:05:13.075Z"
   },
   {
    "duration": 7,
    "start_time": "2022-03-13T16:05:13.092Z"
   },
   {
    "duration": 14,
    "start_time": "2022-03-13T16:05:13.101Z"
   }
  ],
  "kernelspec": {
   "display_name": "Python 3 (ipykernel)",
   "language": "python",
   "name": "python3"
  },
  "language_info": {
   "codemirror_mode": {
    "name": "ipython",
    "version": 3
   },
   "file_extension": ".py",
   "mimetype": "text/x-python",
   "name": "python",
   "nbconvert_exporter": "python",
   "pygments_lexer": "ipython3",
   "version": "3.9.7"
  },
  "toc": {
   "base_numbering": 1,
   "nav_menu": {},
   "number_sections": true,
   "sideBar": true,
   "skip_h1_title": true,
   "title_cell": "Table of Contents",
   "title_sidebar": "Contents",
   "toc_cell": false,
   "toc_position": {},
   "toc_section_display": true,
   "toc_window_display": false
  }
 },
 "nbformat": 4,
 "nbformat_minor": 5
}
