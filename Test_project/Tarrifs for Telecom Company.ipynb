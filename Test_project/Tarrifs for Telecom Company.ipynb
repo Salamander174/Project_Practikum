{
 "cells": [
  {
   "cell_type": "markdown",
   "metadata": {},
   "source": [
    "<font size = 6>Определение перспективного тарифа для телеком-компании</font>"
   ]
  },
  {
   "cell_type": "markdown",
   "metadata": {},
   "source": [
    "## <a name=\"0.0\"></a>Содержание:\n",
    "* [0. Описание проекта](#0.1)\n",
    "* [1. Загрузка данных, обработка, импорт библиотек](#1)\n",
    "     - [1.1 Таблица calls](#1.1)\n",
    "       + [1.1.1 Выводы по таблице calls](#1.1.1)\n",
    "     - [1.2 Таблица internet](#1.2)\n",
    "       + [1.2.1 Выводы по таблице internet](#1.2.1)\n",
    "     - [1.3 Таблица messages](#1.3)\n",
    "       + [1.3.1 Выводы по таблице messages](#1.3.1)\n",
    "     - [1.4 Таблица tariffs](#1.4)\n",
    "       + [1.4.1 Выводы по таблице tariffs](#1.4.1)\n",
    "     - [1.5 Таблица users](#1.5)\n",
    "       + [1.5.1 Выводы по таблице users](#1.5.1)\n",
    "     - [1.6 Вывод:](#1.6)\n",
    "* [2. Подсчет и добавление новых столбцов](#2)\n",
    "     - [2.1 Меняем тип столбцов](#2.1)\n",
    "     - [2.2 Добавляем столбец с месяцем](#2.2)\n",
    "     - [2.3 Добавляем кол-во минут, смс и интернета](#2.3)     \n",
    "     - [2.4 Заполняем пропуски](#2.4)\n",
    "     - [2.5 Добавление информации о помесячной выручки с каждого пользователя](#2.5)\n",
    "* [3. Анализ данных](#3)  \n",
    "     - [3.1. Диаграммы сравнения переплат](#3.1)\n",
    "     - [3.2 Перплаты](#3.2)\n",
    "     - [3.3 Какие услуги чаще заказывают и сравнение суммарной выручки](#3.3)\n",
    "     - [3.4 Промежуточный вывод по анализу](#3.4)\n",
    "     - [3.5 Описание поведения клиента на основе полученной выборки](#3.5)\n",
    "     - [3.6 Определение интервалов данных для последующей их фильтрации](#3.6)\n",
    "     - [3.7 Строим гистограммы](#3.7)\n",
    "* [4. Проверка гипотез:](#4)\n",
    "     - [4.1 Первая гипотеза: о различии в средней выручке по тарифам](#4.1)\n",
    "       + [4.1.1 Нулевая гипотеза](#4.1.1)\n",
    "       + [4.1.2 Итог](#4.1.2)     \n",
    "     - [4.2 Вторая гипотеза: о различии в средней выручке между Москвой и другими регионами](#4.2)\n",
    "       + [4.2.1 Нулевая гипотеза](#4.2.1)\n",
    "       + [4.2.2 Итог](#4.2.2)\n",
    "* [5. Общий вывод](#5)"
   ]
  },
  {
   "cell_type": "markdown",
   "metadata": {},
   "source": [
    "## <b>Описание проекта</b><a name='0.1'></a>"
   ]
  },
  {
   "cell_type": "markdown",
   "metadata": {},
   "source": [
    "**Задача проекта**\n",
    "\n",
    "<font size=2>Нужно проанализировать поведение клиентов на основе имеющихся данных и сделать вывод в какой из тарифов лучше вкладывать рекламный бюджет.</font>"
   ]
  },
  {
   "cell_type": "markdown",
   "metadata": {},
   "source": [
    "__Описание данных__\n",
    "\n",
    "__Таблица users (информация о пользователях):__\n",
    "- user_id — уникальный идентификатор пользователя\n",
    "- first_name — имя пользователя\n",
    "- last_name — фамилия пользователя\n",
    "- age — возраст пользователя (годы)\n",
    "- reg_date — дата подключения тарифа (день, месяц, год)\n",
    "- churn_date — дата прекращения пользования тарифом (если значение пропущено, то тариф ещё действовал на момент выгрузки данных)\n",
    "- city — город проживания пользователя\n",
    "- tarif — название тарифного плана\n",
    "\n",
    "__Таблица calls (информация о звонках):__\n",
    "- id — уникальный номер звонка\n",
    "- call_date — дата звонка\n",
    "- duration — длительность звонка в минутах\n",
    "- user_id — идентификатор пользователя, сделавшего звонок\n",
    "\n",
    "__Таблица messages (информация о сообщениях):__\n",
    "- id — уникальный номер сообщения\n",
    "- message_date — дата сообщения\n",
    "- user_id — идентификатор пользователя, отправившего сообщение\n",
    "\n",
    "__Таблица internet (информация об интернет-сессиях):__\n",
    "- id — уникальный номер сессии\n",
    "- mb_used — объём потраченного за сессию интернет-трафика (в мегабайтах)\n",
    "- session_date — дата интернет-сессии\n",
    "- user_id — идентификатор пользователя\n",
    "\n",
    "__Таблица tariffs (информация о тарифах):__\n",
    "- tariff_name — название тарифа\n",
    "- rub_monthly_fee — ежемесячная абонентская плата в рублях\n",
    "- minutes_included — количество минут разговора в месяц, включённых в абонентскую плату\n",
    "- messages_included — количество сообщений в месяц, включённых в абонентскую плату\n",
    "- mb_per_month_included — объём интернет-трафика, включённого в абонентскую плату (в мегабайтах)\n",
    "- rub_per_minute — стоимость минуты разговора сверх тарифного пакета (например, если в тарифе 100 минут разговора в месяц, то со 101 минуты будет взиматься плата)\n",
    "- rub_per_message — стоимость отправки сообщения сверх тарифного пакета\n",
    "- rub_per_gb — стоимость дополнительного гигабайта интернет-трафика сверх тарифного пакета (1 гигабайт = 1024 мегабайта)"
   ]
  },
  {
   "cell_type": "markdown",
   "metadata": {},
   "source": [
    "**Описание тарифов**\n",
    "\n",
    "**Тариф <font color = 'blue'>«Смарт»</font>**\n",
    "- Ежемесячная плата: 550 рублей\n",
    "- Включено 500 минут разговора, 50 сообщений и 15 Гб интернет-трафика\n",
    "- Стоимость услуг сверх тарифного пакета:\n",
    "    - минута разговора: 3 рубля\n",
    "    - сообщение: 3 рубля\n",
    "    - 1 Гб интернет-трафика: 200 рублей\n",
    "\n",
    "**Тариф <font color = 'purple'>«Ультра»</font>**\n",
    "- Ежемесячная плата: 1950 рублей\n",
    "- Включено 3000 минут разговора, 1000 сообщений и 30 Гб интернет-трафика\n",
    "- Стоимость услуг сверх тарифного пакета:\n",
    "    - минута разговора: 1 рубль\n",
    "    - сообщение: 1 рубль\n",
    "    - 1 Гб интернет-трафика: 150 рублей"
   ]
  },
  {
   "cell_type": "markdown",
   "metadata": {},
   "source": [
    "## <b>Загружаем данные импортируем библиотеки, обрабатываем данные</b><a name = '1'></a>\n",
    "<font size=\"2\">([к содержанию](#0.0))</font><br/>"
   ]
  },
  {
   "cell_type": "code",
   "execution_count": 1,
   "metadata": {},
   "outputs": [],
   "source": [
    "import pandas as pd\n",
    "from IPython.display import display\n",
    "import numpy as np\n",
    "import matplotlib.pyplot as plt\n",
    "from scipy.stats import ttest_ind\n",
    "import warnings\n",
    "\n",
    "warnings.filterwarnings(\"ignore\")"
   ]
  },
  {
   "cell_type": "code",
   "execution_count": 2,
   "metadata": {},
   "outputs": [],
   "source": [
    "# Выгрузим все таблицы\n",
    "calls = pd.read_csv('/datasets/calls.csv')\n",
    "internet = pd.read_csv('/datasets/internet.csv')\n",
    "messages = pd.read_csv('/datasets/messages.csv')\n",
    "tariffs = pd.read_csv('/datasets/tariffs.csv')\n",
    "users = pd.read_csv('/datasets/users.csv')"
   ]
  },
  {
   "cell_type": "markdown",
   "metadata": {},
   "source": [
    "### <b>Таблица calls</b><a name = '1.1'></a></br>"
   ]
  },
  {
   "cell_type": "code",
   "execution_count": 3,
   "metadata": {},
   "outputs": [
    {
     "data": {
      "text/html": [
       "<div>\n",
       "<style scoped>\n",
       "    .dataframe tbody tr th:only-of-type {\n",
       "        vertical-align: middle;\n",
       "    }\n",
       "\n",
       "    .dataframe tbody tr th {\n",
       "        vertical-align: top;\n",
       "    }\n",
       "\n",
       "    .dataframe thead th {\n",
       "        text-align: right;\n",
       "    }\n",
       "</style>\n",
       "<table border=\"1\" class=\"dataframe\">\n",
       "  <thead>\n",
       "    <tr style=\"text-align: right;\">\n",
       "      <th></th>\n",
       "      <th>id</th>\n",
       "      <th>call_date</th>\n",
       "      <th>duration</th>\n",
       "      <th>user_id</th>\n",
       "    </tr>\n",
       "  </thead>\n",
       "  <tbody>\n",
       "    <tr>\n",
       "      <td>0</td>\n",
       "      <td>1000_0</td>\n",
       "      <td>2018-07-25</td>\n",
       "      <td>0.00</td>\n",
       "      <td>1000</td>\n",
       "    </tr>\n",
       "    <tr>\n",
       "      <td>1</td>\n",
       "      <td>1000_1</td>\n",
       "      <td>2018-08-17</td>\n",
       "      <td>0.00</td>\n",
       "      <td>1000</td>\n",
       "    </tr>\n",
       "    <tr>\n",
       "      <td>2</td>\n",
       "      <td>1000_2</td>\n",
       "      <td>2018-06-11</td>\n",
       "      <td>2.85</td>\n",
       "      <td>1000</td>\n",
       "    </tr>\n",
       "    <tr>\n",
       "      <td>3</td>\n",
       "      <td>1000_3</td>\n",
       "      <td>2018-09-21</td>\n",
       "      <td>13.80</td>\n",
       "      <td>1000</td>\n",
       "    </tr>\n",
       "    <tr>\n",
       "      <td>4</td>\n",
       "      <td>1000_4</td>\n",
       "      <td>2018-12-15</td>\n",
       "      <td>5.18</td>\n",
       "      <td>1000</td>\n",
       "    </tr>\n",
       "  </tbody>\n",
       "</table>\n",
       "</div>"
      ],
      "text/plain": [
       "       id   call_date  duration  user_id\n",
       "0  1000_0  2018-07-25      0.00     1000\n",
       "1  1000_1  2018-08-17      0.00     1000\n",
       "2  1000_2  2018-06-11      2.85     1000\n",
       "3  1000_3  2018-09-21     13.80     1000\n",
       "4  1000_4  2018-12-15      5.18     1000"
      ]
     },
     "execution_count": 3,
     "metadata": {},
     "output_type": "execute_result"
    }
   ],
   "source": [
    "calls.head()"
   ]
  },
  {
   "cell_type": "code",
   "execution_count": 4,
   "metadata": {},
   "outputs": [
    {
     "name": "stdout",
     "output_type": "stream",
     "text": [
      "<class 'pandas.core.frame.DataFrame'>\n",
      "RangeIndex: 202607 entries, 0 to 202606\n",
      "Data columns (total 4 columns):\n",
      "id           202607 non-null object\n",
      "call_date    202607 non-null object\n",
      "duration     202607 non-null float64\n",
      "user_id      202607 non-null int64\n",
      "dtypes: float64(1), int64(1), object(2)\n",
      "memory usage: 6.2+ MB\n"
     ]
    }
   ],
   "source": [
    "calls.info()"
   ]
  },
  {
   "cell_type": "markdown",
   "metadata": {},
   "source": [
    "Так как оператор округляет до большего целого секунды, округим все значения в продолжительностью до целого"
   ]
  },
  {
   "cell_type": "code",
   "execution_count": 5,
   "metadata": {},
   "outputs": [
    {
     "data": {
      "text/html": [
       "<div>\n",
       "<style scoped>\n",
       "    .dataframe tbody tr th:only-of-type {\n",
       "        vertical-align: middle;\n",
       "    }\n",
       "\n",
       "    .dataframe tbody tr th {\n",
       "        vertical-align: top;\n",
       "    }\n",
       "\n",
       "    .dataframe thead th {\n",
       "        text-align: right;\n",
       "    }\n",
       "</style>\n",
       "<table border=\"1\" class=\"dataframe\">\n",
       "  <thead>\n",
       "    <tr style=\"text-align: right;\">\n",
       "      <th></th>\n",
       "      <th>id</th>\n",
       "      <th>call_date</th>\n",
       "      <th>duration</th>\n",
       "      <th>user_id</th>\n",
       "    </tr>\n",
       "  </thead>\n",
       "  <tbody>\n",
       "    <tr>\n",
       "      <td>0</td>\n",
       "      <td>1000_0</td>\n",
       "      <td>2018-07-25</td>\n",
       "      <td>0.0</td>\n",
       "      <td>1000</td>\n",
       "    </tr>\n",
       "    <tr>\n",
       "      <td>1</td>\n",
       "      <td>1000_1</td>\n",
       "      <td>2018-08-17</td>\n",
       "      <td>0.0</td>\n",
       "      <td>1000</td>\n",
       "    </tr>\n",
       "    <tr>\n",
       "      <td>2</td>\n",
       "      <td>1000_2</td>\n",
       "      <td>2018-06-11</td>\n",
       "      <td>3.0</td>\n",
       "      <td>1000</td>\n",
       "    </tr>\n",
       "    <tr>\n",
       "      <td>3</td>\n",
       "      <td>1000_3</td>\n",
       "      <td>2018-09-21</td>\n",
       "      <td>14.0</td>\n",
       "      <td>1000</td>\n",
       "    </tr>\n",
       "    <tr>\n",
       "      <td>4</td>\n",
       "      <td>1000_4</td>\n",
       "      <td>2018-12-15</td>\n",
       "      <td>6.0</td>\n",
       "      <td>1000</td>\n",
       "    </tr>\n",
       "  </tbody>\n",
       "</table>\n",
       "</div>"
      ],
      "text/plain": [
       "       id   call_date  duration  user_id\n",
       "0  1000_0  2018-07-25       0.0     1000\n",
       "1  1000_1  2018-08-17       0.0     1000\n",
       "2  1000_2  2018-06-11       3.0     1000\n",
       "3  1000_3  2018-09-21      14.0     1000\n",
       "4  1000_4  2018-12-15       6.0     1000"
      ]
     },
     "execution_count": 5,
     "metadata": {},
     "output_type": "execute_result"
    }
   ],
   "source": [
    "calls['duration'] = calls['duration'].apply(np.ceil)\n",
    "calls.head()"
   ]
  },
  {
   "cell_type": "markdown",
   "metadata": {},
   "source": [
    "Построим гистограмму распределение длительности звонков"
   ]
  },
  {
   "cell_type": "code",
   "execution_count": 6,
   "metadata": {},
   "outputs": [
    {
     "data": {
      "text/plain": [
       "<matplotlib.axes._subplots.AxesSubplot at 0x7fb646a18f90>"
      ]
     },
     "execution_count": 6,
     "metadata": {},
     "output_type": "execute_result"
    },
    {
     "data": {
      "image/png": "[encoded data removed]",
      "text/plain": [
       "<Figure size 432x288 with 1 Axes>"
      ]
     },
     "metadata": {
      "needs_background": "light"
     },
     "output_type": "display_data"
    }
   ],
   "source": [
    "plt.style.use('seaborn-pastel')\n",
    "calls['duration'].plot(kind='hist', ec='black', bins=50)"
   ]
  },
  {
   "cell_type": "markdown",
   "metadata": {},
   "source": [
    "Очень много звоков около 0 даже после округления, посмотри на их кол-во."
   ]
  },
  {
   "cell_type": "code",
   "execution_count": 7,
   "metadata": {},
   "outputs": [
    {
     "data": {
      "text/html": [
       "<div>\n",
       "<style scoped>\n",
       "    .dataframe tbody tr th:only-of-type {\n",
       "        vertical-align: middle;\n",
       "    }\n",
       "\n",
       "    .dataframe tbody tr th {\n",
       "        vertical-align: top;\n",
       "    }\n",
       "\n",
       "    .dataframe thead th {\n",
       "        text-align: right;\n",
       "    }\n",
       "</style>\n",
       "<table border=\"1\" class=\"dataframe\">\n",
       "  <thead>\n",
       "    <tr style=\"text-align: right;\">\n",
       "      <th></th>\n",
       "      <th>id</th>\n",
       "      <th>call_date</th>\n",
       "      <th>duration</th>\n",
       "      <th>user_id</th>\n",
       "    </tr>\n",
       "  </thead>\n",
       "  <tbody>\n",
       "    <tr>\n",
       "      <td>0</td>\n",
       "      <td>1000_0</td>\n",
       "      <td>2018-07-25</td>\n",
       "      <td>0.0</td>\n",
       "      <td>1000</td>\n",
       "    </tr>\n",
       "    <tr>\n",
       "      <td>1</td>\n",
       "      <td>1000_1</td>\n",
       "      <td>2018-08-17</td>\n",
       "      <td>0.0</td>\n",
       "      <td>1000</td>\n",
       "    </tr>\n",
       "    <tr>\n",
       "      <td>5</td>\n",
       "      <td>1000_5</td>\n",
       "      <td>2018-11-02</td>\n",
       "      <td>0.0</td>\n",
       "      <td>1000</td>\n",
       "    </tr>\n",
       "    <tr>\n",
       "      <td>6</td>\n",
       "      <td>1000_6</td>\n",
       "      <td>2018-10-18</td>\n",
       "      <td>0.0</td>\n",
       "      <td>1000</td>\n",
       "    </tr>\n",
       "    <tr>\n",
       "      <td>9</td>\n",
       "      <td>1000_9</td>\n",
       "      <td>2018-08-15</td>\n",
       "      <td>0.0</td>\n",
       "      <td>1000</td>\n",
       "    </tr>\n",
       "    <tr>\n",
       "      <td>...</td>\n",
       "      <td>...</td>\n",
       "      <td>...</td>\n",
       "      <td>...</td>\n",
       "      <td>...</td>\n",
       "    </tr>\n",
       "    <tr>\n",
       "      <td>202590</td>\n",
       "      <td>1499_203</td>\n",
       "      <td>2018-12-03</td>\n",
       "      <td>0.0</td>\n",
       "      <td>1499</td>\n",
       "    </tr>\n",
       "    <tr>\n",
       "      <td>202592</td>\n",
       "      <td>1499_205</td>\n",
       "      <td>2018-10-13</td>\n",
       "      <td>0.0</td>\n",
       "      <td>1499</td>\n",
       "    </tr>\n",
       "    <tr>\n",
       "      <td>202593</td>\n",
       "      <td>1499_206</td>\n",
       "      <td>2018-12-26</td>\n",
       "      <td>0.0</td>\n",
       "      <td>1499</td>\n",
       "    </tr>\n",
       "    <tr>\n",
       "      <td>202594</td>\n",
       "      <td>1499_207</td>\n",
       "      <td>2018-10-28</td>\n",
       "      <td>0.0</td>\n",
       "      <td>1499</td>\n",
       "    </tr>\n",
       "    <tr>\n",
       "      <td>202596</td>\n",
       "      <td>1499_209</td>\n",
       "      <td>2018-12-16</td>\n",
       "      <td>0.0</td>\n",
       "      <td>1499</td>\n",
       "    </tr>\n",
       "  </tbody>\n",
       "</table>\n",
       "<p>39613 rows × 4 columns</p>\n",
       "</div>"
      ],
      "text/plain": [
       "              id   call_date  duration  user_id\n",
       "0         1000_0  2018-07-25       0.0     1000\n",
       "1         1000_1  2018-08-17       0.0     1000\n",
       "5         1000_5  2018-11-02       0.0     1000\n",
       "6         1000_6  2018-10-18       0.0     1000\n",
       "9         1000_9  2018-08-15       0.0     1000\n",
       "...          ...         ...       ...      ...\n",
       "202590  1499_203  2018-12-03       0.0     1499\n",
       "202592  1499_205  2018-10-13       0.0     1499\n",
       "202593  1499_206  2018-12-26       0.0     1499\n",
       "202594  1499_207  2018-10-28       0.0     1499\n",
       "202596  1499_209  2018-12-16       0.0     1499\n",
       "\n",
       "[39613 rows x 4 columns]"
      ]
     },
     "execution_count": 7,
     "metadata": {},
     "output_type": "execute_result"
    }
   ],
   "source": [
    "calls.query('duration == 0')"
   ]
  },
  {
   "cell_type": "markdown",
   "metadata": {},
   "source": [
    "Достаточно много почти 25% от общих звонков. Но т.к. в пояснение сказано, что это не ошибка удалять их не будем."
   ]
  },
  {
   "cell_type": "markdown",
   "metadata": {},
   "source": [
    "#### Вывод по таблице calls<a name = '1.1.1'></a> \n",
    "- изменить тип столбца с датой\n",
    "- округлили значение в большую сторону"
   ]
  },
  {
   "cell_type": "markdown",
   "metadata": {},
   "source": [
    "### <b>Таблица internet</b><a name = '1.2'></a></br>"
   ]
  },
  {
   "cell_type": "code",
   "execution_count": 8,
   "metadata": {},
   "outputs": [
    {
     "data": {
      "text/html": [
       "<div>\n",
       "<style scoped>\n",
       "    .dataframe tbody tr th:only-of-type {\n",
       "        vertical-align: middle;\n",
       "    }\n",
       "\n",
       "    .dataframe tbody tr th {\n",
       "        vertical-align: top;\n",
       "    }\n",
       "\n",
       "    .dataframe thead th {\n",
       "        text-align: right;\n",
       "    }\n",
       "</style>\n",
       "<table border=\"1\" class=\"dataframe\">\n",
       "  <thead>\n",
       "    <tr style=\"text-align: right;\">\n",
       "      <th></th>\n",
       "      <th>Unnamed: 0</th>\n",
       "      <th>id</th>\n",
       "      <th>mb_used</th>\n",
       "      <th>session_date</th>\n",
       "      <th>user_id</th>\n",
       "    </tr>\n",
       "  </thead>\n",
       "  <tbody>\n",
       "    <tr>\n",
       "      <td>0</td>\n",
       "      <td>0</td>\n",
       "      <td>1000_0</td>\n",
       "      <td>112.95</td>\n",
       "      <td>2018-11-25</td>\n",
       "      <td>1000</td>\n",
       "    </tr>\n",
       "    <tr>\n",
       "      <td>1</td>\n",
       "      <td>1</td>\n",
       "      <td>1000_1</td>\n",
       "      <td>1052.81</td>\n",
       "      <td>2018-09-07</td>\n",
       "      <td>1000</td>\n",
       "    </tr>\n",
       "    <tr>\n",
       "      <td>2</td>\n",
       "      <td>2</td>\n",
       "      <td>1000_2</td>\n",
       "      <td>1197.26</td>\n",
       "      <td>2018-06-25</td>\n",
       "      <td>1000</td>\n",
       "    </tr>\n",
       "    <tr>\n",
       "      <td>3</td>\n",
       "      <td>3</td>\n",
       "      <td>1000_3</td>\n",
       "      <td>550.27</td>\n",
       "      <td>2018-08-22</td>\n",
       "      <td>1000</td>\n",
       "    </tr>\n",
       "    <tr>\n",
       "      <td>4</td>\n",
       "      <td>4</td>\n",
       "      <td>1000_4</td>\n",
       "      <td>302.56</td>\n",
       "      <td>2018-09-24</td>\n",
       "      <td>1000</td>\n",
       "    </tr>\n",
       "  </tbody>\n",
       "</table>\n",
       "</div>"
      ],
      "text/plain": [
       "   Unnamed: 0      id  mb_used session_date  user_id\n",
       "0           0  1000_0   112.95   2018-11-25     1000\n",
       "1           1  1000_1  1052.81   2018-09-07     1000\n",
       "2           2  1000_2  1197.26   2018-06-25     1000\n",
       "3           3  1000_3   550.27   2018-08-22     1000\n",
       "4           4  1000_4   302.56   2018-09-24     1000"
      ]
     },
     "execution_count": 8,
     "metadata": {},
     "output_type": "execute_result"
    }
   ],
   "source": [
    "internet.head()"
   ]
  },
  {
   "cell_type": "code",
   "execution_count": 9,
   "metadata": {},
   "outputs": [
    {
     "name": "stdout",
     "output_type": "stream",
     "text": [
      "<class 'pandas.core.frame.DataFrame'>\n",
      "RangeIndex: 149396 entries, 0 to 149395\n",
      "Data columns (total 5 columns):\n",
      "Unnamed: 0      149396 non-null int64\n",
      "id              149396 non-null object\n",
      "mb_used         149396 non-null float64\n",
      "session_date    149396 non-null object\n",
      "user_id         149396 non-null int64\n",
      "dtypes: float64(1), int64(2), object(2)\n",
      "memory usage: 5.7+ MB\n"
     ]
    }
   ],
   "source": [
    "internet.info()"
   ]
  },
  {
   "cell_type": "markdown",
   "metadata": {},
   "source": [
    "Не понятный столбец Unnamed: 0, попробуем разобраться не дублирует ли он id строк"
   ]
  },
  {
   "cell_type": "code",
   "execution_count": 10,
   "metadata": {},
   "outputs": [
    {
     "data": {
      "text/plain": [
       "Index(['Unnamed: 0', 'id', 'mb_used', 'session_date', 'user_id'], dtype='object')"
      ]
     },
     "execution_count": 10,
     "metadata": {},
     "output_type": "execute_result"
    }
   ],
   "source": [
    "internet.columns"
   ]
  },
  {
   "cell_type": "code",
   "execution_count": 11,
   "metadata": {},
   "outputs": [
    {
     "data": {
      "text/plain": [
       "0"
      ]
     },
     "execution_count": 11,
     "metadata": {},
     "output_type": "execute_result"
    }
   ],
   "source": [
    "internet['Unnamed: 0'].duplicated().sum()"
   ]
  },
  {
   "cell_type": "code",
   "execution_count": 12,
   "metadata": {},
   "outputs": [
    {
     "data": {
      "text/html": [
       "<div>\n",
       "<style scoped>\n",
       "    .dataframe tbody tr th:only-of-type {\n",
       "        vertical-align: middle;\n",
       "    }\n",
       "\n",
       "    .dataframe tbody tr th {\n",
       "        vertical-align: top;\n",
       "    }\n",
       "\n",
       "    .dataframe thead th {\n",
       "        text-align: right;\n",
       "    }\n",
       "</style>\n",
       "<table border=\"1\" class=\"dataframe\">\n",
       "  <thead>\n",
       "    <tr style=\"text-align: right;\">\n",
       "      <th></th>\n",
       "      <th>Unnamed: 0</th>\n",
       "      <th>id</th>\n",
       "      <th>mb_used</th>\n",
       "      <th>session_date</th>\n",
       "      <th>user_id</th>\n",
       "    </tr>\n",
       "  </thead>\n",
       "  <tbody>\n",
       "    <tr>\n",
       "      <td>149391</td>\n",
       "      <td>149391</td>\n",
       "      <td>1499_152</td>\n",
       "      <td>318.90</td>\n",
       "      <td>2018-10-03</td>\n",
       "      <td>1499</td>\n",
       "    </tr>\n",
       "    <tr>\n",
       "      <td>149392</td>\n",
       "      <td>149392</td>\n",
       "      <td>1499_153</td>\n",
       "      <td>490.13</td>\n",
       "      <td>2018-12-14</td>\n",
       "      <td>1499</td>\n",
       "    </tr>\n",
       "    <tr>\n",
       "      <td>149393</td>\n",
       "      <td>149393</td>\n",
       "      <td>1499_154</td>\n",
       "      <td>0.00</td>\n",
       "      <td>2018-10-27</td>\n",
       "      <td>1499</td>\n",
       "    </tr>\n",
       "    <tr>\n",
       "      <td>149394</td>\n",
       "      <td>149394</td>\n",
       "      <td>1499_155</td>\n",
       "      <td>1246.32</td>\n",
       "      <td>2018-11-26</td>\n",
       "      <td>1499</td>\n",
       "    </tr>\n",
       "    <tr>\n",
       "      <td>149395</td>\n",
       "      <td>149395</td>\n",
       "      <td>1499_156</td>\n",
       "      <td>544.37</td>\n",
       "      <td>2018-10-26</td>\n",
       "      <td>1499</td>\n",
       "    </tr>\n",
       "  </tbody>\n",
       "</table>\n",
       "</div>"
      ],
      "text/plain": [
       "        Unnamed: 0        id  mb_used session_date  user_id\n",
       "149391      149391  1499_152   318.90   2018-10-03     1499\n",
       "149392      149392  1499_153   490.13   2018-12-14     1499\n",
       "149393      149393  1499_154     0.00   2018-10-27     1499\n",
       "149394      149394  1499_155  1246.32   2018-11-26     1499\n",
       "149395      149395  1499_156   544.37   2018-10-26     1499"
      ]
     },
     "execution_count": 12,
     "metadata": {},
     "output_type": "execute_result"
    }
   ],
   "source": [
    "internet.tail()"
   ]
  },
  {
   "cell_type": "markdown",
   "metadata": {},
   "source": [
    "Дубликатов нет, кол-во строк такое же, этот столбец не нужен, удаляем."
   ]
  },
  {
   "cell_type": "code",
   "execution_count": 13,
   "metadata": {},
   "outputs": [
    {
     "data": {
      "text/html": [
       "<div>\n",
       "<style scoped>\n",
       "    .dataframe tbody tr th:only-of-type {\n",
       "        vertical-align: middle;\n",
       "    }\n",
       "\n",
       "    .dataframe tbody tr th {\n",
       "        vertical-align: top;\n",
       "    }\n",
       "\n",
       "    .dataframe thead th {\n",
       "        text-align: right;\n",
       "    }\n",
       "</style>\n",
       "<table border=\"1\" class=\"dataframe\">\n",
       "  <thead>\n",
       "    <tr style=\"text-align: right;\">\n",
       "      <th></th>\n",
       "      <th>id</th>\n",
       "      <th>mb_used</th>\n",
       "      <th>session_date</th>\n",
       "      <th>user_id</th>\n",
       "    </tr>\n",
       "  </thead>\n",
       "  <tbody>\n",
       "    <tr>\n",
       "      <td>0</td>\n",
       "      <td>1000_0</td>\n",
       "      <td>112.95</td>\n",
       "      <td>2018-11-25</td>\n",
       "      <td>1000</td>\n",
       "    </tr>\n",
       "    <tr>\n",
       "      <td>1</td>\n",
       "      <td>1000_1</td>\n",
       "      <td>1052.81</td>\n",
       "      <td>2018-09-07</td>\n",
       "      <td>1000</td>\n",
       "    </tr>\n",
       "    <tr>\n",
       "      <td>2</td>\n",
       "      <td>1000_2</td>\n",
       "      <td>1197.26</td>\n",
       "      <td>2018-06-25</td>\n",
       "      <td>1000</td>\n",
       "    </tr>\n",
       "    <tr>\n",
       "      <td>3</td>\n",
       "      <td>1000_3</td>\n",
       "      <td>550.27</td>\n",
       "      <td>2018-08-22</td>\n",
       "      <td>1000</td>\n",
       "    </tr>\n",
       "    <tr>\n",
       "      <td>4</td>\n",
       "      <td>1000_4</td>\n",
       "      <td>302.56</td>\n",
       "      <td>2018-09-24</td>\n",
       "      <td>1000</td>\n",
       "    </tr>\n",
       "    <tr>\n",
       "      <td>...</td>\n",
       "      <td>...</td>\n",
       "      <td>...</td>\n",
       "      <td>...</td>\n",
       "      <td>...</td>\n",
       "    </tr>\n",
       "    <tr>\n",
       "      <td>149391</td>\n",
       "      <td>1499_152</td>\n",
       "      <td>318.90</td>\n",
       "      <td>2018-10-03</td>\n",
       "      <td>1499</td>\n",
       "    </tr>\n",
       "    <tr>\n",
       "      <td>149392</td>\n",
       "      <td>1499_153</td>\n",
       "      <td>490.13</td>\n",
       "      <td>2018-12-14</td>\n",
       "      <td>1499</td>\n",
       "    </tr>\n",
       "    <tr>\n",
       "      <td>149393</td>\n",
       "      <td>1499_154</td>\n",
       "      <td>0.00</td>\n",
       "      <td>2018-10-27</td>\n",
       "      <td>1499</td>\n",
       "    </tr>\n",
       "    <tr>\n",
       "      <td>149394</td>\n",
       "      <td>1499_155</td>\n",
       "      <td>1246.32</td>\n",
       "      <td>2018-11-26</td>\n",
       "      <td>1499</td>\n",
       "    </tr>\n",
       "    <tr>\n",
       "      <td>149395</td>\n",
       "      <td>1499_156</td>\n",
       "      <td>544.37</td>\n",
       "      <td>2018-10-26</td>\n",
       "      <td>1499</td>\n",
       "    </tr>\n",
       "  </tbody>\n",
       "</table>\n",
       "<p>149396 rows × 4 columns</p>\n",
       "</div>"
      ],
      "text/plain": [
       "              id  mb_used session_date  user_id\n",
       "0         1000_0   112.95   2018-11-25     1000\n",
       "1         1000_1  1052.81   2018-09-07     1000\n",
       "2         1000_2  1197.26   2018-06-25     1000\n",
       "3         1000_3   550.27   2018-08-22     1000\n",
       "4         1000_4   302.56   2018-09-24     1000\n",
       "...          ...      ...          ...      ...\n",
       "149391  1499_152   318.90   2018-10-03     1499\n",
       "149392  1499_153   490.13   2018-12-14     1499\n",
       "149393  1499_154     0.00   2018-10-27     1499\n",
       "149394  1499_155  1246.32   2018-11-26     1499\n",
       "149395  1499_156   544.37   2018-10-26     1499\n",
       "\n",
       "[149396 rows x 4 columns]"
      ]
     },
     "execution_count": 13,
     "metadata": {},
     "output_type": "execute_result"
    }
   ],
   "source": [
    "internet.drop(columns='Unnamed: 0', axis=1)"
   ]
  },
  {
   "cell_type": "code",
   "execution_count": 15,
   "metadata": {},
   "outputs": [
    {
     "data": {
      "text/html": [
       "<div>\n",
       "<style scoped>\n",
       "    .dataframe tbody tr th:only-of-type {\n",
       "        vertical-align: middle;\n",
       "    }\n",
       "\n",
       "    .dataframe tbody tr th {\n",
       "        vertical-align: top;\n",
       "    }\n",
       "\n",
       "    .dataframe thead th {\n",
       "        text-align: right;\n",
       "    }\n",
       "</style>\n",
       "<table border=\"1\" class=\"dataframe\">\n",
       "  <thead>\n",
       "    <tr style=\"text-align: right;\">\n",
       "      <th></th>\n",
       "      <th>Unnamed: 0</th>\n",
       "      <th>id</th>\n",
       "      <th>mb_used</th>\n",
       "      <th>session_date</th>\n",
       "      <th>user_id</th>\n",
       "    </tr>\n",
       "  </thead>\n",
       "  <tbody>\n",
       "    <tr>\n",
       "      <td>0</td>\n",
       "      <td>0</td>\n",
       "      <td>1000_0</td>\n",
       "      <td>112.95</td>\n",
       "      <td>2018-11-25</td>\n",
       "      <td>1000</td>\n",
       "    </tr>\n",
       "    <tr>\n",
       "      <td>1</td>\n",
       "      <td>1</td>\n",
       "      <td>1000_1</td>\n",
       "      <td>1052.81</td>\n",
       "      <td>2018-09-07</td>\n",
       "      <td>1000</td>\n",
       "    </tr>\n",
       "    <tr>\n",
       "      <td>2</td>\n",
       "      <td>2</td>\n",
       "      <td>1000_2</td>\n",
       "      <td>1197.26</td>\n",
       "      <td>2018-06-25</td>\n",
       "      <td>1000</td>\n",
       "    </tr>\n",
       "    <tr>\n",
       "      <td>3</td>\n",
       "      <td>3</td>\n",
       "      <td>1000_3</td>\n",
       "      <td>550.27</td>\n",
       "      <td>2018-08-22</td>\n",
       "      <td>1000</td>\n",
       "    </tr>\n",
       "    <tr>\n",
       "      <td>4</td>\n",
       "      <td>4</td>\n",
       "      <td>1000_4</td>\n",
       "      <td>302.56</td>\n",
       "      <td>2018-09-24</td>\n",
       "      <td>1000</td>\n",
       "    </tr>\n",
       "  </tbody>\n",
       "</table>\n",
       "</div>"
      ],
      "text/plain": [
       "   Unnamed: 0      id  mb_used session_date  user_id\n",
       "0           0  1000_0   112.95   2018-11-25     1000\n",
       "1           1  1000_1  1052.81   2018-09-07     1000\n",
       "2           2  1000_2  1197.26   2018-06-25     1000\n",
       "3           3  1000_3   550.27   2018-08-22     1000\n",
       "4           4  1000_4   302.56   2018-09-24     1000"
      ]
     },
     "execution_count": 15,
     "metadata": {},
     "output_type": "execute_result"
    }
   ],
   "source": [
    "internet.head()"
   ]
  },
  {
   "cell_type": "markdown",
   "metadata": {},
   "source": [
    "Посмотрим на распределение интернет трафика"
   ]
  },
  {
   "cell_type": "code",
   "execution_count": 16,
   "metadata": {},
   "outputs": [
    {
     "data": {
      "text/plain": [
       "<matplotlib.axes._subplots.AxesSubplot at 0x7fb645d6bf50>"
      ]
     },
     "execution_count": 16,
     "metadata": {},
     "output_type": "execute_result"
    },
    {
     "data": {
      "image/png": "[encoded data removed]",
      "text/plain": [
       "<Figure size 432x288 with 1 Axes>"
      ]
     },
     "metadata": {
      "needs_background": "light"
     },
     "output_type": "display_data"
    }
   ],
   "source": [
    "plt.style.use('seaborn-pastel')\n",
    "internet['mb_used'].plot(kind='hist', ec='black', bins=50)"
   ]
  },
  {
   "cell_type": "code",
   "execution_count": 17,
   "metadata": {},
   "outputs": [
    {
     "data": {
      "text/html": [
       "<div>\n",
       "<style scoped>\n",
       "    .dataframe tbody tr th:only-of-type {\n",
       "        vertical-align: middle;\n",
       "    }\n",
       "\n",
       "    .dataframe tbody tr th {\n",
       "        vertical-align: top;\n",
       "    }\n",
       "\n",
       "    .dataframe thead th {\n",
       "        text-align: right;\n",
       "    }\n",
       "</style>\n",
       "<table border=\"1\" class=\"dataframe\">\n",
       "  <thead>\n",
       "    <tr style=\"text-align: right;\">\n",
       "      <th></th>\n",
       "      <th>Unnamed: 0</th>\n",
       "      <th>id</th>\n",
       "      <th>mb_used</th>\n",
       "      <th>session_date</th>\n",
       "      <th>user_id</th>\n",
       "    </tr>\n",
       "  </thead>\n",
       "  <tbody>\n",
       "    <tr>\n",
       "      <td>11</td>\n",
       "      <td>11</td>\n",
       "      <td>1000_11</td>\n",
       "      <td>0.0</td>\n",
       "      <td>2018-08-28</td>\n",
       "      <td>1000</td>\n",
       "    </tr>\n",
       "    <tr>\n",
       "      <td>38</td>\n",
       "      <td>38</td>\n",
       "      <td>1000_38</td>\n",
       "      <td>0.0</td>\n",
       "      <td>2018-11-27</td>\n",
       "      <td>1000</td>\n",
       "    </tr>\n",
       "    <tr>\n",
       "      <td>46</td>\n",
       "      <td>46</td>\n",
       "      <td>1000_46</td>\n",
       "      <td>0.0</td>\n",
       "      <td>2018-06-30</td>\n",
       "      <td>1000</td>\n",
       "    </tr>\n",
       "    <tr>\n",
       "      <td>67</td>\n",
       "      <td>67</td>\n",
       "      <td>1000_67</td>\n",
       "      <td>0.0</td>\n",
       "      <td>2018-06-16</td>\n",
       "      <td>1000</td>\n",
       "    </tr>\n",
       "    <tr>\n",
       "      <td>72</td>\n",
       "      <td>72</td>\n",
       "      <td>1000_72</td>\n",
       "      <td>0.0</td>\n",
       "      <td>2018-06-15</td>\n",
       "      <td>1000</td>\n",
       "    </tr>\n",
       "    <tr>\n",
       "      <td>...</td>\n",
       "      <td>...</td>\n",
       "      <td>...</td>\n",
       "      <td>...</td>\n",
       "      <td>...</td>\n",
       "      <td>...</td>\n",
       "    </tr>\n",
       "    <tr>\n",
       "      <td>149380</td>\n",
       "      <td>149380</td>\n",
       "      <td>1499_141</td>\n",
       "      <td>0.0</td>\n",
       "      <td>2018-12-11</td>\n",
       "      <td>1499</td>\n",
       "    </tr>\n",
       "    <tr>\n",
       "      <td>149381</td>\n",
       "      <td>149381</td>\n",
       "      <td>1499_142</td>\n",
       "      <td>0.0</td>\n",
       "      <td>2018-11-01</td>\n",
       "      <td>1499</td>\n",
       "    </tr>\n",
       "    <tr>\n",
       "      <td>149383</td>\n",
       "      <td>149383</td>\n",
       "      <td>1499_144</td>\n",
       "      <td>0.0</td>\n",
       "      <td>2018-11-27</td>\n",
       "      <td>1499</td>\n",
       "    </tr>\n",
       "    <tr>\n",
       "      <td>149386</td>\n",
       "      <td>149386</td>\n",
       "      <td>1499_147</td>\n",
       "      <td>0.0</td>\n",
       "      <td>2018-10-21</td>\n",
       "      <td>1499</td>\n",
       "    </tr>\n",
       "    <tr>\n",
       "      <td>149393</td>\n",
       "      <td>149393</td>\n",
       "      <td>1499_154</td>\n",
       "      <td>0.0</td>\n",
       "      <td>2018-10-27</td>\n",
       "      <td>1499</td>\n",
       "    </tr>\n",
       "  </tbody>\n",
       "</table>\n",
       "<p>19598 rows × 5 columns</p>\n",
       "</div>"
      ],
      "text/plain": [
       "        Unnamed: 0        id  mb_used session_date  user_id\n",
       "11              11   1000_11      0.0   2018-08-28     1000\n",
       "38              38   1000_38      0.0   2018-11-27     1000\n",
       "46              46   1000_46      0.0   2018-06-30     1000\n",
       "67              67   1000_67      0.0   2018-06-16     1000\n",
       "72              72   1000_72      0.0   2018-06-15     1000\n",
       "...            ...       ...      ...          ...      ...\n",
       "149380      149380  1499_141      0.0   2018-12-11     1499\n",
       "149381      149381  1499_142      0.0   2018-11-01     1499\n",
       "149383      149383  1499_144      0.0   2018-11-27     1499\n",
       "149386      149386  1499_147      0.0   2018-10-21     1499\n",
       "149393      149393  1499_154      0.0   2018-10-27     1499\n",
       "\n",
       "[19598 rows x 5 columns]"
      ]
     },
     "execution_count": 17,
     "metadata": {},
     "output_type": "execute_result"
    }
   ],
   "source": [
    "internet.query('mb_used == 0')"
   ]
  },
  {
   "cell_type": "markdown",
   "metadata": {},
   "source": [
    "Много нулевого трафика. \n",
    "Возможно была попытка подключение но связь обрывалась. Либо в автоматическом режиме устройства пытались обновиться но было не достаточно стабильный сигнал. \n",
    "В любом случаи такие строки нам не к чему, т.к как они не отразят нужны данных для поставленой задачи"
   ]
  },
  {
   "cell_type": "code",
   "execution_count": 18,
   "metadata": {},
   "outputs": [],
   "source": [
    "internet['mb_used'] = internet['mb_used'].replace(0.0, np.NaN)\n",
    "internet = internet.dropna()"
   ]
  },
  {
   "cell_type": "code",
   "execution_count": 19,
   "metadata": {},
   "outputs": [
    {
     "data": {
      "text/plain": [
       "<matplotlib.axes._subplots.AxesSubplot at 0x7fb645c399d0>"
      ]
     },
     "execution_count": 19,
     "metadata": {},
     "output_type": "execute_result"
    },
    {
     "data": {
      "image/png": "[encoded data removed]",
      "text/plain": [
       "<Figure size 432x288 with 1 Axes>"
      ]
     },
     "metadata": {
      "needs_background": "light"
     },
     "output_type": "display_data"
    }
   ],
   "source": [
    "plt.style.use('seaborn-pastel')\n",
    "internet['mb_used'].plot(kind='hist', ec='black', bins=50)"
   ]
  },
  {
   "cell_type": "markdown",
   "metadata": {},
   "source": [
    "#### <b>Вывод по таблице internet</b><a name=1.2.1></a>\n",
    "- Убрали Unnamed: 0\n",
    "- Нужно будет изменить столбец с датой\n",
    "- Убрали нулевые трафики"
   ]
  },
  {
   "cell_type": "markdown",
   "metadata": {},
   "source": [
    "### <b>Таблица messages</b><a name = '1.3'></a></br>"
   ]
  },
  {
   "cell_type": "code",
   "execution_count": 20,
   "metadata": {},
   "outputs": [
    {
     "data": {
      "text/html": [
       "<div>\n",
       "<style scoped>\n",
       "    .dataframe tbody tr th:only-of-type {\n",
       "        vertical-align: middle;\n",
       "    }\n",
       "\n",
       "    .dataframe tbody tr th {\n",
       "        vertical-align: top;\n",
       "    }\n",
       "\n",
       "    .dataframe thead th {\n",
       "        text-align: right;\n",
       "    }\n",
       "</style>\n",
       "<table border=\"1\" class=\"dataframe\">\n",
       "  <thead>\n",
       "    <tr style=\"text-align: right;\">\n",
       "      <th></th>\n",
       "      <th>id</th>\n",
       "      <th>message_date</th>\n",
       "      <th>user_id</th>\n",
       "    </tr>\n",
       "  </thead>\n",
       "  <tbody>\n",
       "    <tr>\n",
       "      <td>0</td>\n",
       "      <td>1000_0</td>\n",
       "      <td>2018-06-27</td>\n",
       "      <td>1000</td>\n",
       "    </tr>\n",
       "    <tr>\n",
       "      <td>1</td>\n",
       "      <td>1000_1</td>\n",
       "      <td>2018-10-08</td>\n",
       "      <td>1000</td>\n",
       "    </tr>\n",
       "    <tr>\n",
       "      <td>2</td>\n",
       "      <td>1000_2</td>\n",
       "      <td>2018-08-04</td>\n",
       "      <td>1000</td>\n",
       "    </tr>\n",
       "    <tr>\n",
       "      <td>3</td>\n",
       "      <td>1000_3</td>\n",
       "      <td>2018-06-16</td>\n",
       "      <td>1000</td>\n",
       "    </tr>\n",
       "    <tr>\n",
       "      <td>4</td>\n",
       "      <td>1000_4</td>\n",
       "      <td>2018-12-05</td>\n",
       "      <td>1000</td>\n",
       "    </tr>\n",
       "  </tbody>\n",
       "</table>\n",
       "</div>"
      ],
      "text/plain": [
       "       id message_date  user_id\n",
       "0  1000_0   2018-06-27     1000\n",
       "1  1000_1   2018-10-08     1000\n",
       "2  1000_2   2018-08-04     1000\n",
       "3  1000_3   2018-06-16     1000\n",
       "4  1000_4   2018-12-05     1000"
      ]
     },
     "execution_count": 20,
     "metadata": {},
     "output_type": "execute_result"
    }
   ],
   "source": [
    "messages.head()"
   ]
  },
  {
   "cell_type": "code",
   "execution_count": 21,
   "metadata": {},
   "outputs": [
    {
     "name": "stdout",
     "output_type": "stream",
     "text": [
      "<class 'pandas.core.frame.DataFrame'>\n",
      "RangeIndex: 123036 entries, 0 to 123035\n",
      "Data columns (total 3 columns):\n",
      "id              123036 non-null object\n",
      "message_date    123036 non-null object\n",
      "user_id         123036 non-null int64\n",
      "dtypes: int64(1), object(2)\n",
      "memory usage: 2.8+ MB\n"
     ]
    }
   ],
   "source": [
    "messages.info()"
   ]
  },
  {
   "cell_type": "markdown",
   "metadata": {},
   "source": [
    "#### <b>Вывод по таблице messages</b><a name=1.3.1></a>\n",
    "- Изменить тип столбца с датой"
   ]
  },
  {
   "cell_type": "markdown",
   "metadata": {},
   "source": [
    "### <b>Таблица tariffs</b><a name = '1.4'></a></br>"
   ]
  },
  {
   "cell_type": "code",
   "execution_count": 22,
   "metadata": {},
   "outputs": [
    {
     "data": {
      "text/html": [
       "<div>\n",
       "<style scoped>\n",
       "    .dataframe tbody tr th:only-of-type {\n",
       "        vertical-align: middle;\n",
       "    }\n",
       "\n",
       "    .dataframe tbody tr th {\n",
       "        vertical-align: top;\n",
       "    }\n",
       "\n",
       "    .dataframe thead th {\n",
       "        text-align: right;\n",
       "    }\n",
       "</style>\n",
       "<table border=\"1\" class=\"dataframe\">\n",
       "  <thead>\n",
       "    <tr style=\"text-align: right;\">\n",
       "      <th></th>\n",
       "      <th>messages_included</th>\n",
       "      <th>mb_per_month_included</th>\n",
       "      <th>minutes_included</th>\n",
       "      <th>rub_monthly_fee</th>\n",
       "      <th>rub_per_gb</th>\n",
       "      <th>rub_per_message</th>\n",
       "      <th>rub_per_minute</th>\n",
       "      <th>tariff_name</th>\n",
       "    </tr>\n",
       "  </thead>\n",
       "  <tbody>\n",
       "    <tr>\n",
       "      <td>0</td>\n",
       "      <td>50</td>\n",
       "      <td>15360</td>\n",
       "      <td>500</td>\n",
       "      <td>550</td>\n",
       "      <td>200</td>\n",
       "      <td>3</td>\n",
       "      <td>3</td>\n",
       "      <td>smart</td>\n",
       "    </tr>\n",
       "    <tr>\n",
       "      <td>1</td>\n",
       "      <td>1000</td>\n",
       "      <td>30720</td>\n",
       "      <td>3000</td>\n",
       "      <td>1950</td>\n",
       "      <td>150</td>\n",
       "      <td>1</td>\n",
       "      <td>1</td>\n",
       "      <td>ultra</td>\n",
       "    </tr>\n",
       "  </tbody>\n",
       "</table>\n",
       "</div>"
      ],
      "text/plain": [
       "   messages_included  mb_per_month_included  minutes_included  \\\n",
       "0                 50                  15360               500   \n",
       "1               1000                  30720              3000   \n",
       "\n",
       "   rub_monthly_fee  rub_per_gb  rub_per_message  rub_per_minute tariff_name  \n",
       "0              550         200                3               3       smart  \n",
       "1             1950         150                1               1       ultra  "
      ]
     },
     "execution_count": 22,
     "metadata": {},
     "output_type": "execute_result"
    }
   ],
   "source": [
    "tariffs.head()"
   ]
  },
  {
   "cell_type": "code",
   "execution_count": 23,
   "metadata": {},
   "outputs": [
    {
     "name": "stdout",
     "output_type": "stream",
     "text": [
      "<class 'pandas.core.frame.DataFrame'>\n",
      "RangeIndex: 2 entries, 0 to 1\n",
      "Data columns (total 8 columns):\n",
      "messages_included        2 non-null int64\n",
      "mb_per_month_included    2 non-null int64\n",
      "minutes_included         2 non-null int64\n",
      "rub_monthly_fee          2 non-null int64\n",
      "rub_per_gb               2 non-null int64\n",
      "rub_per_message          2 non-null int64\n",
      "rub_per_minute           2 non-null int64\n",
      "tariff_name              2 non-null object\n",
      "dtypes: int64(7), object(1)\n",
      "memory usage: 256.0+ bytes\n"
     ]
    }
   ],
   "source": [
    "tariffs.info()"
   ]
  },
  {
   "cell_type": "markdown",
   "metadata": {},
   "source": [
    "#### <b>Вывод по таблице tariffs</b><a name=1.4.1></a>\n",
    "Справочная таблица"
   ]
  },
  {
   "cell_type": "markdown",
   "metadata": {},
   "source": [
    "### <b>Таблица users</b><a name = '1.5'></a></br>"
   ]
  },
  {
   "cell_type": "code",
   "execution_count": 24,
   "metadata": {},
   "outputs": [
    {
     "data": {
      "text/html": [
       "<div>\n",
       "<style scoped>\n",
       "    .dataframe tbody tr th:only-of-type {\n",
       "        vertical-align: middle;\n",
       "    }\n",
       "\n",
       "    .dataframe tbody tr th {\n",
       "        vertical-align: top;\n",
       "    }\n",
       "\n",
       "    .dataframe thead th {\n",
       "        text-align: right;\n",
       "    }\n",
       "</style>\n",
       "<table border=\"1\" class=\"dataframe\">\n",
       "  <thead>\n",
       "    <tr style=\"text-align: right;\">\n",
       "      <th></th>\n",
       "      <th>user_id</th>\n",
       "      <th>age</th>\n",
       "      <th>churn_date</th>\n",
       "      <th>city</th>\n",
       "      <th>first_name</th>\n",
       "      <th>last_name</th>\n",
       "      <th>reg_date</th>\n",
       "      <th>tariff</th>\n",
       "    </tr>\n",
       "  </thead>\n",
       "  <tbody>\n",
       "    <tr>\n",
       "      <td>0</td>\n",
       "      <td>1000</td>\n",
       "      <td>52</td>\n",
       "      <td>NaN</td>\n",
       "      <td>Краснодар</td>\n",
       "      <td>Рафаил</td>\n",
       "      <td>Верещагин</td>\n",
       "      <td>2018-05-25</td>\n",
       "      <td>ultra</td>\n",
       "    </tr>\n",
       "    <tr>\n",
       "      <td>1</td>\n",
       "      <td>1001</td>\n",
       "      <td>41</td>\n",
       "      <td>NaN</td>\n",
       "      <td>Москва</td>\n",
       "      <td>Иван</td>\n",
       "      <td>Ежов</td>\n",
       "      <td>2018-11-01</td>\n",
       "      <td>smart</td>\n",
       "    </tr>\n",
       "    <tr>\n",
       "      <td>2</td>\n",
       "      <td>1002</td>\n",
       "      <td>59</td>\n",
       "      <td>NaN</td>\n",
       "      <td>Стерлитамак</td>\n",
       "      <td>Евгений</td>\n",
       "      <td>Абрамович</td>\n",
       "      <td>2018-06-17</td>\n",
       "      <td>smart</td>\n",
       "    </tr>\n",
       "    <tr>\n",
       "      <td>3</td>\n",
       "      <td>1003</td>\n",
       "      <td>23</td>\n",
       "      <td>NaN</td>\n",
       "      <td>Москва</td>\n",
       "      <td>Белла</td>\n",
       "      <td>Белякова</td>\n",
       "      <td>2018-08-17</td>\n",
       "      <td>ultra</td>\n",
       "    </tr>\n",
       "    <tr>\n",
       "      <td>4</td>\n",
       "      <td>1004</td>\n",
       "      <td>68</td>\n",
       "      <td>NaN</td>\n",
       "      <td>Новокузнецк</td>\n",
       "      <td>Татьяна</td>\n",
       "      <td>Авдеенко</td>\n",
       "      <td>2018-05-14</td>\n",
       "      <td>ultra</td>\n",
       "    </tr>\n",
       "  </tbody>\n",
       "</table>\n",
       "</div>"
      ],
      "text/plain": [
       "   user_id  age churn_date         city first_name  last_name    reg_date  \\\n",
       "0     1000   52        NaN    Краснодар     Рафаил  Верещагин  2018-05-25   \n",
       "1     1001   41        NaN       Москва       Иван       Ежов  2018-11-01   \n",
       "2     1002   59        NaN  Стерлитамак    Евгений  Абрамович  2018-06-17   \n",
       "3     1003   23        NaN       Москва      Белла   Белякова  2018-08-17   \n",
       "4     1004   68        NaN  Новокузнецк    Татьяна   Авдеенко  2018-05-14   \n",
       "\n",
       "  tariff  \n",
       "0  ultra  \n",
       "1  smart  \n",
       "2  smart  \n",
       "3  ultra  \n",
       "4  ultra  "
      ]
     },
     "execution_count": 24,
     "metadata": {},
     "output_type": "execute_result"
    }
   ],
   "source": [
    "users.head()"
   ]
  },
  {
   "cell_type": "code",
   "execution_count": 25,
   "metadata": {},
   "outputs": [
    {
     "name": "stdout",
     "output_type": "stream",
     "text": [
      "<class 'pandas.core.frame.DataFrame'>\n",
      "RangeIndex: 500 entries, 0 to 499\n",
      "Data columns (total 8 columns):\n",
      "user_id       500 non-null int64\n",
      "age           500 non-null int64\n",
      "churn_date    38 non-null object\n",
      "city          500 non-null object\n",
      "first_name    500 non-null object\n",
      "last_name     500 non-null object\n",
      "reg_date      500 non-null object\n",
      "tariff        500 non-null object\n",
      "dtypes: int64(2), object(6)\n",
      "memory usage: 31.4+ KB\n"
     ]
    }
   ],
   "source": [
    "users.info()"
   ]
  },
  {
   "cell_type": "code",
   "execution_count": 26,
   "metadata": {},
   "outputs": [
    {
     "name": "stdout",
     "output_type": "stream",
     "text": [
      "Число уникальных пользователей: 500\n",
      "Число строк: 500\n",
      "Количество дубликатов: 0\n"
     ]
    }
   ],
   "source": [
    "# Проверим на уникальных пользователей\n",
    "print(\"Число уникальных пользователей:\", users['user_id'].count())\n",
    "print(\"Число строк:\", users.shape[0])\n",
    "print(\"Количество дубликатов:\", users.duplicated().sum())\n"
   ]
  },
  {
   "cell_type": "markdown",
   "metadata": {},
   "source": [
    "#### <b>Вывод по таблице users</b><a name = '1.5.1'></a></br>\n",
    "- Все пользователей уникальны\n",
    "- Изменить тип столбца с датой и id пользователей\n",
    "- Пропущенные значение можно оставить, т.к не влияют на цели"
   ]
  },
  {
   "cell_type": "markdown",
   "metadata": {},
   "source": [
    "### <b>Общий Вывод:</b><a name = '1.6'></a></br>\n",
    "* Явных пропущенных значений нет \n",
    "* Названия всех столбцов приведены к единому стилю, в целом данные собраные хорошо. \n",
    "* Основная предобработка данных была сделана."
   ]
  },
  {
   "cell_type": "markdown",
   "metadata": {},
   "source": [
    "## <b>Подсчет и добавление новых столбцов</b><a name = '2'></a></br>\n",
    "<font size=\"2\">([к содержанию](#0))</font><br/>"
   ]
  },
  {
   "cell_type": "markdown",
   "metadata": {},
   "source": [
    "### <b>Меняем тип столбцов</b><a name = '2.1'></a></br>"
   ]
  },
  {
   "cell_type": "code",
   "execution_count": 27,
   "metadata": {},
   "outputs": [],
   "source": [
    "#Изменим типы столбцов:\n",
    "users['user_id'].astype('object')\n",
    "users['reg_date'] = pd.to_datetime(users['reg_date'], format = '%Y-%m-%d')\n",
    "messages['message_date'] = pd.to_datetime(messages['message_date'], format = '%Y-%m-%d')\n",
    "internet['mb_used'].astype('int64')\n",
    "internet['session_date'] = pd.to_datetime(internet['session_date'], format = '%Y-%m-%d')\n",
    "calls['duration'].astype('int64')\n",
    "calls['call_date'] = pd.to_datetime(calls['call_date'], format = '%Y-%m-%d')"
   ]
  },
  {
   "cell_type": "markdown",
   "metadata": {},
   "source": [
    "### <b>Добавляем столбец с месяцем</b><a name = '2.2'></a></br>"
   ]
  },
  {
   "cell_type": "code",
   "execution_count": 30,
   "metadata": {},
   "outputs": [],
   "source": [
    "users['month'] = pd.DatetimeIndex(users['reg_date']).month\n",
    "messages['month'] = pd.DatetimeIndex(messages['message_date']).month\n",
    "internet['month'] = pd.DatetimeIndex(internet['session_date']).month\n",
    "calls['month'] = pd.DatetimeIndex(calls['call_date']).month"
   ]
  },
  {
   "cell_type": "code",
   "execution_count": 31,
   "metadata": {},
   "outputs": [
    {
     "data": {
      "text/html": [
       "<div>\n",
       "<style scoped>\n",
       "    .dataframe tbody tr th:only-of-type {\n",
       "        vertical-align: middle;\n",
       "    }\n",
       "\n",
       "    .dataframe tbody tr th {\n",
       "        vertical-align: top;\n",
       "    }\n",
       "\n",
       "    .dataframe thead th {\n",
       "        text-align: right;\n",
       "    }\n",
       "</style>\n",
       "<table border=\"1\" class=\"dataframe\">\n",
       "  <thead>\n",
       "    <tr style=\"text-align: right;\">\n",
       "      <th></th>\n",
       "      <th>user_id</th>\n",
       "      <th>age</th>\n",
       "      <th>churn_date</th>\n",
       "      <th>city</th>\n",
       "      <th>first_name</th>\n",
       "      <th>last_name</th>\n",
       "      <th>reg_date</th>\n",
       "      <th>tariff</th>\n",
       "      <th>month</th>\n",
       "    </tr>\n",
       "  </thead>\n",
       "  <tbody>\n",
       "    <tr>\n",
       "      <td>0</td>\n",
       "      <td>1000</td>\n",
       "      <td>52</td>\n",
       "      <td>NaN</td>\n",
       "      <td>Краснодар</td>\n",
       "      <td>Рафаил</td>\n",
       "      <td>Верещагин</td>\n",
       "      <td>2018-05-25</td>\n",
       "      <td>ultra</td>\n",
       "      <td>5</td>\n",
       "    </tr>\n",
       "    <tr>\n",
       "      <td>1</td>\n",
       "      <td>1001</td>\n",
       "      <td>41</td>\n",
       "      <td>NaN</td>\n",
       "      <td>Москва</td>\n",
       "      <td>Иван</td>\n",
       "      <td>Ежов</td>\n",
       "      <td>2018-11-01</td>\n",
       "      <td>smart</td>\n",
       "      <td>11</td>\n",
       "    </tr>\n",
       "    <tr>\n",
       "      <td>2</td>\n",
       "      <td>1002</td>\n",
       "      <td>59</td>\n",
       "      <td>NaN</td>\n",
       "      <td>Стерлитамак</td>\n",
       "      <td>Евгений</td>\n",
       "      <td>Абрамович</td>\n",
       "      <td>2018-06-17</td>\n",
       "      <td>smart</td>\n",
       "      <td>6</td>\n",
       "    </tr>\n",
       "    <tr>\n",
       "      <td>3</td>\n",
       "      <td>1003</td>\n",
       "      <td>23</td>\n",
       "      <td>NaN</td>\n",
       "      <td>Москва</td>\n",
       "      <td>Белла</td>\n",
       "      <td>Белякова</td>\n",
       "      <td>2018-08-17</td>\n",
       "      <td>ultra</td>\n",
       "      <td>8</td>\n",
       "    </tr>\n",
       "    <tr>\n",
       "      <td>4</td>\n",
       "      <td>1004</td>\n",
       "      <td>68</td>\n",
       "      <td>NaN</td>\n",
       "      <td>Новокузнецк</td>\n",
       "      <td>Татьяна</td>\n",
       "      <td>Авдеенко</td>\n",
       "      <td>2018-05-14</td>\n",
       "      <td>ultra</td>\n",
       "      <td>5</td>\n",
       "    </tr>\n",
       "  </tbody>\n",
       "</table>\n",
       "</div>"
      ],
      "text/plain": [
       "   user_id  age churn_date         city first_name  last_name   reg_date  \\\n",
       "0     1000   52        NaN    Краснодар     Рафаил  Верещагин 2018-05-25   \n",
       "1     1001   41        NaN       Москва       Иван       Ежов 2018-11-01   \n",
       "2     1002   59        NaN  Стерлитамак    Евгений  Абрамович 2018-06-17   \n",
       "3     1003   23        NaN       Москва      Белла   Белякова 2018-08-17   \n",
       "4     1004   68        NaN  Новокузнецк    Татьяна   Авдеенко 2018-05-14   \n",
       "\n",
       "  tariff  month  \n",
       "0  ultra      5  \n",
       "1  smart     11  \n",
       "2  smart      6  \n",
       "3  ultra      8  \n",
       "4  ultra      5  "
      ]
     },
     "execution_count": 31,
     "metadata": {},
     "output_type": "execute_result"
    }
   ],
   "source": [
    "users.head()"
   ]
  },
  {
   "cell_type": "code",
   "execution_count": 32,
   "metadata": {},
   "outputs": [
    {
     "data": {
      "text/html": [
       "<div>\n",
       "<style scoped>\n",
       "    .dataframe tbody tr th:only-of-type {\n",
       "        vertical-align: middle;\n",
       "    }\n",
       "\n",
       "    .dataframe tbody tr th {\n",
       "        vertical-align: top;\n",
       "    }\n",
       "\n",
       "    .dataframe thead th {\n",
       "        text-align: right;\n",
       "    }\n",
       "</style>\n",
       "<table border=\"1\" class=\"dataframe\">\n",
       "  <thead>\n",
       "    <tr style=\"text-align: right;\">\n",
       "      <th></th>\n",
       "      <th>id</th>\n",
       "      <th>message_date</th>\n",
       "      <th>user_id</th>\n",
       "      <th>month</th>\n",
       "    </tr>\n",
       "  </thead>\n",
       "  <tbody>\n",
       "    <tr>\n",
       "      <td>0</td>\n",
       "      <td>1000_0</td>\n",
       "      <td>2018-06-27</td>\n",
       "      <td>1000</td>\n",
       "      <td>6</td>\n",
       "    </tr>\n",
       "    <tr>\n",
       "      <td>1</td>\n",
       "      <td>1000_1</td>\n",
       "      <td>2018-10-08</td>\n",
       "      <td>1000</td>\n",
       "      <td>10</td>\n",
       "    </tr>\n",
       "    <tr>\n",
       "      <td>2</td>\n",
       "      <td>1000_2</td>\n",
       "      <td>2018-08-04</td>\n",
       "      <td>1000</td>\n",
       "      <td>8</td>\n",
       "    </tr>\n",
       "    <tr>\n",
       "      <td>3</td>\n",
       "      <td>1000_3</td>\n",
       "      <td>2018-06-16</td>\n",
       "      <td>1000</td>\n",
       "      <td>6</td>\n",
       "    </tr>\n",
       "    <tr>\n",
       "      <td>4</td>\n",
       "      <td>1000_4</td>\n",
       "      <td>2018-12-05</td>\n",
       "      <td>1000</td>\n",
       "      <td>12</td>\n",
       "    </tr>\n",
       "  </tbody>\n",
       "</table>\n",
       "</div>"
      ],
      "text/plain": [
       "       id message_date  user_id  month\n",
       "0  1000_0   2018-06-27     1000      6\n",
       "1  1000_1   2018-10-08     1000     10\n",
       "2  1000_2   2018-08-04     1000      8\n",
       "3  1000_3   2018-06-16     1000      6\n",
       "4  1000_4   2018-12-05     1000     12"
      ]
     },
     "execution_count": 32,
     "metadata": {},
     "output_type": "execute_result"
    }
   ],
   "source": [
    "messages.head()"
   ]
  },
  {
   "cell_type": "code",
   "execution_count": 33,
   "metadata": {},
   "outputs": [
    {
     "data": {
      "text/html": [
       "<div>\n",
       "<style scoped>\n",
       "    .dataframe tbody tr th:only-of-type {\n",
       "        vertical-align: middle;\n",
       "    }\n",
       "\n",
       "    .dataframe tbody tr th {\n",
       "        vertical-align: top;\n",
       "    }\n",
       "\n",
       "    .dataframe thead th {\n",
       "        text-align: right;\n",
       "    }\n",
       "</style>\n",
       "<table border=\"1\" class=\"dataframe\">\n",
       "  <thead>\n",
       "    <tr style=\"text-align: right;\">\n",
       "      <th></th>\n",
       "      <th>Unnamed: 0</th>\n",
       "      <th>id</th>\n",
       "      <th>mb_used</th>\n",
       "      <th>session_date</th>\n",
       "      <th>user_id</th>\n",
       "      <th>month</th>\n",
       "    </tr>\n",
       "  </thead>\n",
       "  <tbody>\n",
       "    <tr>\n",
       "      <td>0</td>\n",
       "      <td>0</td>\n",
       "      <td>1000_0</td>\n",
       "      <td>112.95</td>\n",
       "      <td>2018-11-25</td>\n",
       "      <td>1000</td>\n",
       "      <td>11</td>\n",
       "    </tr>\n",
       "    <tr>\n",
       "      <td>1</td>\n",
       "      <td>1</td>\n",
       "      <td>1000_1</td>\n",
       "      <td>1052.81</td>\n",
       "      <td>2018-09-07</td>\n",
       "      <td>1000</td>\n",
       "      <td>9</td>\n",
       "    </tr>\n",
       "    <tr>\n",
       "      <td>2</td>\n",
       "      <td>2</td>\n",
       "      <td>1000_2</td>\n",
       "      <td>1197.26</td>\n",
       "      <td>2018-06-25</td>\n",
       "      <td>1000</td>\n",
       "      <td>6</td>\n",
       "    </tr>\n",
       "    <tr>\n",
       "      <td>3</td>\n",
       "      <td>3</td>\n",
       "      <td>1000_3</td>\n",
       "      <td>550.27</td>\n",
       "      <td>2018-08-22</td>\n",
       "      <td>1000</td>\n",
       "      <td>8</td>\n",
       "    </tr>\n",
       "    <tr>\n",
       "      <td>4</td>\n",
       "      <td>4</td>\n",
       "      <td>1000_4</td>\n",
       "      <td>302.56</td>\n",
       "      <td>2018-09-24</td>\n",
       "      <td>1000</td>\n",
       "      <td>9</td>\n",
       "    </tr>\n",
       "  </tbody>\n",
       "</table>\n",
       "</div>"
      ],
      "text/plain": [
       "   Unnamed: 0      id  mb_used session_date  user_id  month\n",
       "0           0  1000_0   112.95   2018-11-25     1000     11\n",
       "1           1  1000_1  1052.81   2018-09-07     1000      9\n",
       "2           2  1000_2  1197.26   2018-06-25     1000      6\n",
       "3           3  1000_3   550.27   2018-08-22     1000      8\n",
       "4           4  1000_4   302.56   2018-09-24     1000      9"
      ]
     },
     "execution_count": 33,
     "metadata": {},
     "output_type": "execute_result"
    }
   ],
   "source": [
    "internet.head()"
   ]
  },
  {
   "cell_type": "code",
   "execution_count": 34,
   "metadata": {
    "scrolled": true
   },
   "outputs": [
    {
     "data": {
      "text/html": [
       "<div>\n",
       "<style scoped>\n",
       "    .dataframe tbody tr th:only-of-type {\n",
       "        vertical-align: middle;\n",
       "    }\n",
       "\n",
       "    .dataframe tbody tr th {\n",
       "        vertical-align: top;\n",
       "    }\n",
       "\n",
       "    .dataframe thead th {\n",
       "        text-align: right;\n",
       "    }\n",
       "</style>\n",
       "<table border=\"1\" class=\"dataframe\">\n",
       "  <thead>\n",
       "    <tr style=\"text-align: right;\">\n",
       "      <th></th>\n",
       "      <th>id</th>\n",
       "      <th>call_date</th>\n",
       "      <th>duration</th>\n",
       "      <th>user_id</th>\n",
       "      <th>month</th>\n",
       "    </tr>\n",
       "  </thead>\n",
       "  <tbody>\n",
       "    <tr>\n",
       "      <td>0</td>\n",
       "      <td>1000_0</td>\n",
       "      <td>2018-07-25</td>\n",
       "      <td>0.0</td>\n",
       "      <td>1000</td>\n",
       "      <td>7</td>\n",
       "    </tr>\n",
       "    <tr>\n",
       "      <td>1</td>\n",
       "      <td>1000_1</td>\n",
       "      <td>2018-08-17</td>\n",
       "      <td>0.0</td>\n",
       "      <td>1000</td>\n",
       "      <td>8</td>\n",
       "    </tr>\n",
       "    <tr>\n",
       "      <td>2</td>\n",
       "      <td>1000_2</td>\n",
       "      <td>2018-06-11</td>\n",
       "      <td>3.0</td>\n",
       "      <td>1000</td>\n",
       "      <td>6</td>\n",
       "    </tr>\n",
       "    <tr>\n",
       "      <td>3</td>\n",
       "      <td>1000_3</td>\n",
       "      <td>2018-09-21</td>\n",
       "      <td>14.0</td>\n",
       "      <td>1000</td>\n",
       "      <td>9</td>\n",
       "    </tr>\n",
       "    <tr>\n",
       "      <td>4</td>\n",
       "      <td>1000_4</td>\n",
       "      <td>2018-12-15</td>\n",
       "      <td>6.0</td>\n",
       "      <td>1000</td>\n",
       "      <td>12</td>\n",
       "    </tr>\n",
       "  </tbody>\n",
       "</table>\n",
       "</div>"
      ],
      "text/plain": [
       "       id  call_date  duration  user_id  month\n",
       "0  1000_0 2018-07-25       0.0     1000      7\n",
       "1  1000_1 2018-08-17       0.0     1000      8\n",
       "2  1000_2 2018-06-11       3.0     1000      6\n",
       "3  1000_3 2018-09-21      14.0     1000      9\n",
       "4  1000_4 2018-12-15       6.0     1000     12"
      ]
     },
     "execution_count": 34,
     "metadata": {},
     "output_type": "execute_result"
    }
   ],
   "source": [
    "calls.head()"
   ]
  },
  {
   "cell_type": "markdown",
   "metadata": {},
   "source": [
    "### <b>Добавляем кол-во минут, смс и интернета</b><a name = '2.3'></a></br>"
   ]
  },
  {
   "cell_type": "markdown",
   "metadata": {},
   "source": [
    "Посмотрим каким видом связи пользуются чаще всего"
   ]
  },
  {
   "cell_type": "code",
   "execution_count": 35,
   "metadata": {},
   "outputs": [],
   "source": [
    "def barplot_by_month(dfs, query=None):\n",
    "    list_of_dfs = dfs\n",
    "    plt.figure(figsize=(15,5))\n",
    "    ax = plt.gca()\n",
    "    \n",
    "    list_of_colors = ['forestgreen', 'grey', 'mediumaquamarine']\n",
    "\n",
    "    dfs_names_for_legend = ['Кол-во звонков', 'Кол-во отпр. СМС', 'Кол-во интернет-сессий']\n",
    "    legend_list = []\n",
    "\n",
    "    for i in range(len(list_of_dfs)):\n",
    "        curr_df = list_of_dfs[i]\n",
    "        if query == None:\n",
    "            curr_df_prepared = curr_df.groupby('month')['id'].count().reset_index()\n",
    "        else:\n",
    "            curr_df_prepared = curr_df.query(query).groupby('month')['id'].count().reset_index()\n",
    "        plot = curr_df_prepared.plot(x='month', y='id', kind='bar', ec='black', color=list_of_colors[i],\n",
    "                                 ax=ax, width=0.1, position=i)\n",
    "        legend_list.append(dfs_names_for_legend[i])\n",
    "    plt.xticks(rotation=0)\n",
    "    ax.legend(legend_list)"
   ]
  },
  {
   "cell_type": "code",
   "execution_count": 36,
   "metadata": {},
   "outputs": [
    {
     "data": {
      "image/png": "[encoded data removed]",
      "text/plain": [
       "<Figure size 1080x360 with 1 Axes>"
      ]
     },
     "metadata": {
      "needs_background": "light"
     },
     "output_type": "display_data"
    }
   ],
   "source": [
    "barplot_by_month([calls, messages, internet])"
   ]
  },
  {
   "cell_type": "markdown",
   "metadata": {},
   "source": [
    "Показания везде одинаковые, чаще звонят реже отправляют смс. Так же судя по нарастающим данным можно прежположить что тарифы запустили только год назад."
   ]
  },
  {
   "cell_type": "markdown",
   "metadata": {},
   "source": [
    "Подсчитаем количество совершенных каждым пользователям звоноков, отправленных смс и израсходованого трафика."
   ]
  },
  {
   "cell_type": "code",
   "execution_count": 37,
   "metadata": {},
   "outputs": [],
   "source": [
    "num_of_calls = calls.groupby(['user_id', 'month'])['duration'].agg(['count', 'sum'])\n",
    "num_of_messages = messages.groupby(['user_id', 'month'])['id'].count()\n",
    "num_of_internet = internet.groupby(['user_id', 'month']).sum()['mb_used'] "
   ]
  },
  {
   "cell_type": "code",
   "execution_count": 38,
   "metadata": {},
   "outputs": [
    {
     "data": {
      "text/html": [
       "<div>\n",
       "<style scoped>\n",
       "    .dataframe tbody tr th:only-of-type {\n",
       "        vertical-align: middle;\n",
       "    }\n",
       "\n",
       "    .dataframe tbody tr th {\n",
       "        vertical-align: top;\n",
       "    }\n",
       "\n",
       "    .dataframe thead th {\n",
       "        text-align: right;\n",
       "    }\n",
       "</style>\n",
       "<table border=\"1\" class=\"dataframe\">\n",
       "  <thead>\n",
       "    <tr style=\"text-align: right;\">\n",
       "      <th></th>\n",
       "      <th>user_id</th>\n",
       "      <th>month</th>\n",
       "      <th>count</th>\n",
       "      <th>sum</th>\n",
       "      <th>id</th>\n",
       "      <th>gb_used</th>\n",
       "    </tr>\n",
       "  </thead>\n",
       "  <tbody>\n",
       "    <tr>\n",
       "      <td>0</td>\n",
       "      <td>1000</td>\n",
       "      <td>5</td>\n",
       "      <td>22.0</td>\n",
       "      <td>159.0</td>\n",
       "      <td>22.0</td>\n",
       "      <td>2253.49</td>\n",
       "    </tr>\n",
       "    <tr>\n",
       "      <td>1</td>\n",
       "      <td>1000</td>\n",
       "      <td>6</td>\n",
       "      <td>43.0</td>\n",
       "      <td>172.0</td>\n",
       "      <td>60.0</td>\n",
       "      <td>23233.77</td>\n",
       "    </tr>\n",
       "    <tr>\n",
       "      <td>2</td>\n",
       "      <td>1000</td>\n",
       "      <td>7</td>\n",
       "      <td>47.0</td>\n",
       "      <td>340.0</td>\n",
       "      <td>75.0</td>\n",
       "      <td>14003.64</td>\n",
       "    </tr>\n",
       "    <tr>\n",
       "      <td>3</td>\n",
       "      <td>1000</td>\n",
       "      <td>8</td>\n",
       "      <td>52.0</td>\n",
       "      <td>408.0</td>\n",
       "      <td>81.0</td>\n",
       "      <td>14055.93</td>\n",
       "    </tr>\n",
       "    <tr>\n",
       "      <td>4</td>\n",
       "      <td>1000</td>\n",
       "      <td>9</td>\n",
       "      <td>58.0</td>\n",
       "      <td>466.0</td>\n",
       "      <td>57.0</td>\n",
       "      <td>14568.91</td>\n",
       "    </tr>\n",
       "  </tbody>\n",
       "</table>\n",
       "</div>"
      ],
      "text/plain": [
       "   user_id  month  count    sum    id   gb_used\n",
       "0     1000      5   22.0  159.0  22.0   2253.49\n",
       "1     1000      6   43.0  172.0  60.0  23233.77\n",
       "2     1000      7   47.0  340.0  75.0  14003.64\n",
       "3     1000      8   52.0  408.0  81.0  14055.93\n",
       "4     1000      9   58.0  466.0  57.0  14568.91"
      ]
     },
     "execution_count": 38,
     "metadata": {},
     "output_type": "execute_result"
    }
   ],
   "source": [
    "df_event_numbers = pd.concat([num_of_calls, num_of_messages, num_of_internet], axis=1)\n",
    "df_event_numbers = df_event_numbers.reset_index()\n",
    "df_event_numbers.rename(columns = {'mb_used' : 'gb_used'}, inplace = True)\n",
    "df_event_numbers.head()"
   ]
  },
  {
   "cell_type": "code",
   "execution_count": 39,
   "metadata": {},
   "outputs": [],
   "source": [
    "#Добавим столбец с тарифом и городом\n",
    "map_to_fill_tariff = dict(pd.Series(users['tariff'].values, index=users['user_id']))\n",
    "df_event_numbers['Тариф'] = df_event_numbers['user_id'].map(map_to_fill_tariff)\n",
    "map_to_fill_city = dict(pd.Series(users['city'].values, index=users['user_id']))\n",
    "df_event_numbers['Город'] = df_event_numbers['user_id'].map(map_to_fill_city)"
   ]
  },
  {
   "cell_type": "code",
   "execution_count": 40,
   "metadata": {},
   "outputs": [],
   "source": [
    "#Переименуме столбцы\n",
    "df_event_numbers.columns = ['User_id', 'Месяц', 'Кол-во звонков, шт.', 'Звонки, мин.', \n",
    "                            'СМС, шт.', 'Интернет, Мб', 'Тариф', 'Город']"
   ]
  },
  {
   "cell_type": "code",
   "execution_count": 41,
   "metadata": {},
   "outputs": [
    {
     "data": {
      "text/html": [
       "<div>\n",
       "<style scoped>\n",
       "    .dataframe tbody tr th:only-of-type {\n",
       "        vertical-align: middle;\n",
       "    }\n",
       "\n",
       "    .dataframe tbody tr th {\n",
       "        vertical-align: top;\n",
       "    }\n",
       "\n",
       "    .dataframe thead th {\n",
       "        text-align: right;\n",
       "    }\n",
       "</style>\n",
       "<table border=\"1\" class=\"dataframe\">\n",
       "  <thead>\n",
       "    <tr style=\"text-align: right;\">\n",
       "      <th></th>\n",
       "      <th>User_id</th>\n",
       "      <th>Месяц</th>\n",
       "      <th>Кол-во звонков, шт.</th>\n",
       "      <th>Звонки, мин.</th>\n",
       "      <th>СМС, шт.</th>\n",
       "      <th>Интернет, Мб</th>\n",
       "      <th>Тариф</th>\n",
       "      <th>Город</th>\n",
       "    </tr>\n",
       "  </thead>\n",
       "  <tbody>\n",
       "    <tr>\n",
       "      <td>0</td>\n",
       "      <td>1000</td>\n",
       "      <td>5</td>\n",
       "      <td>22.0</td>\n",
       "      <td>159.0</td>\n",
       "      <td>22.0</td>\n",
       "      <td>2253.49</td>\n",
       "      <td>ultra</td>\n",
       "      <td>Краснодар</td>\n",
       "    </tr>\n",
       "    <tr>\n",
       "      <td>1</td>\n",
       "      <td>1000</td>\n",
       "      <td>6</td>\n",
       "      <td>43.0</td>\n",
       "      <td>172.0</td>\n",
       "      <td>60.0</td>\n",
       "      <td>23233.77</td>\n",
       "      <td>ultra</td>\n",
       "      <td>Краснодар</td>\n",
       "    </tr>\n",
       "    <tr>\n",
       "      <td>2</td>\n",
       "      <td>1000</td>\n",
       "      <td>7</td>\n",
       "      <td>47.0</td>\n",
       "      <td>340.0</td>\n",
       "      <td>75.0</td>\n",
       "      <td>14003.64</td>\n",
       "      <td>ultra</td>\n",
       "      <td>Краснодар</td>\n",
       "    </tr>\n",
       "    <tr>\n",
       "      <td>3</td>\n",
       "      <td>1000</td>\n",
       "      <td>8</td>\n",
       "      <td>52.0</td>\n",
       "      <td>408.0</td>\n",
       "      <td>81.0</td>\n",
       "      <td>14055.93</td>\n",
       "      <td>ultra</td>\n",
       "      <td>Краснодар</td>\n",
       "    </tr>\n",
       "    <tr>\n",
       "      <td>4</td>\n",
       "      <td>1000</td>\n",
       "      <td>9</td>\n",
       "      <td>58.0</td>\n",
       "      <td>466.0</td>\n",
       "      <td>57.0</td>\n",
       "      <td>14568.91</td>\n",
       "      <td>ultra</td>\n",
       "      <td>Краснодар</td>\n",
       "    </tr>\n",
       "    <tr>\n",
       "      <td>5</td>\n",
       "      <td>1000</td>\n",
       "      <td>10</td>\n",
       "      <td>57.0</td>\n",
       "      <td>350.0</td>\n",
       "      <td>73.0</td>\n",
       "      <td>14702.49</td>\n",
       "      <td>ultra</td>\n",
       "      <td>Краснодар</td>\n",
       "    </tr>\n",
       "    <tr>\n",
       "      <td>6</td>\n",
       "      <td>1000</td>\n",
       "      <td>11</td>\n",
       "      <td>43.0</td>\n",
       "      <td>338.0</td>\n",
       "      <td>58.0</td>\n",
       "      <td>14756.47</td>\n",
       "      <td>ultra</td>\n",
       "      <td>Краснодар</td>\n",
       "    </tr>\n",
       "    <tr>\n",
       "      <td>7</td>\n",
       "      <td>1000</td>\n",
       "      <td>12</td>\n",
       "      <td>46.0</td>\n",
       "      <td>333.0</td>\n",
       "      <td>70.0</td>\n",
       "      <td>9817.61</td>\n",
       "      <td>ultra</td>\n",
       "      <td>Краснодар</td>\n",
       "    </tr>\n",
       "    <tr>\n",
       "      <td>8</td>\n",
       "      <td>1001</td>\n",
       "      <td>11</td>\n",
       "      <td>59.0</td>\n",
       "      <td>430.0</td>\n",
       "      <td>NaN</td>\n",
       "      <td>18429.34</td>\n",
       "      <td>smart</td>\n",
       "      <td>Москва</td>\n",
       "    </tr>\n",
       "    <tr>\n",
       "      <td>9</td>\n",
       "      <td>1001</td>\n",
       "      <td>12</td>\n",
       "      <td>63.0</td>\n",
       "      <td>414.0</td>\n",
       "      <td>NaN</td>\n",
       "      <td>14036.66</td>\n",
       "      <td>smart</td>\n",
       "      <td>Москва</td>\n",
       "    </tr>\n",
       "  </tbody>\n",
       "</table>\n",
       "</div>"
      ],
      "text/plain": [
       "   User_id  Месяц  Кол-во звонков, шт.  Звонки, мин.  СМС, шт.  Интернет, Мб  \\\n",
       "0     1000      5                 22.0         159.0      22.0       2253.49   \n",
       "1     1000      6                 43.0         172.0      60.0      23233.77   \n",
       "2     1000      7                 47.0         340.0      75.0      14003.64   \n",
       "3     1000      8                 52.0         408.0      81.0      14055.93   \n",
       "4     1000      9                 58.0         466.0      57.0      14568.91   \n",
       "5     1000     10                 57.0         350.0      73.0      14702.49   \n",
       "6     1000     11                 43.0         338.0      58.0      14756.47   \n",
       "7     1000     12                 46.0         333.0      70.0       9817.61   \n",
       "8     1001     11                 59.0         430.0       NaN      18429.34   \n",
       "9     1001     12                 63.0         414.0       NaN      14036.66   \n",
       "\n",
       "   Тариф      Город  \n",
       "0  ultra  Краснодар  \n",
       "1  ultra  Краснодар  \n",
       "2  ultra  Краснодар  \n",
       "3  ultra  Краснодар  \n",
       "4  ultra  Краснодар  \n",
       "5  ultra  Краснодар  \n",
       "6  ultra  Краснодар  \n",
       "7  ultra  Краснодар  \n",
       "8  smart     Москва  \n",
       "9  smart     Москва  "
      ]
     },
     "execution_count": 41,
     "metadata": {},
     "output_type": "execute_result"
    }
   ],
   "source": [
    "df_event_numbers.sort_values(by=['User_id', 'Месяц']).head(10)"
   ]
  },
  {
   "cell_type": "code",
   "execution_count": 42,
   "metadata": {},
   "outputs": [
    {
     "name": "stdout",
     "output_type": "stream",
     "text": [
      "<class 'pandas.core.frame.DataFrame'>\n",
      "RangeIndex: 3214 entries, 0 to 3213\n",
      "Data columns (total 8 columns):\n",
      "User_id                3214 non-null int64\n",
      "Месяц                  3214 non-null int64\n",
      "Кол-во звонков, шт.    3174 non-null float64\n",
      "Звонки, мин.           3174 non-null float64\n",
      "СМС, шт.               2717 non-null float64\n",
      "Интернет, Мб           3201 non-null float64\n",
      "Тариф                  3214 non-null object\n",
      "Город                  3214 non-null object\n",
      "dtypes: float64(4), int64(2), object(2)\n",
      "memory usage: 201.0+ KB\n"
     ]
    }
   ],
   "source": [
    "df_event_numbers.info()"
   ]
  },
  {
   "cell_type": "markdown",
   "metadata": {},
   "source": [
    "### <b>Заполняем пропуски</b><a name = '2.4'></a></br>"
   ]
  },
  {
   "cell_type": "markdown",
   "metadata": {},
   "source": [
    "Пропуски есть во всех столбцах с подсчетами, проверим есть ли строки где во всех столбцах нулевые значения."
   ]
  },
  {
   "cell_type": "code",
   "execution_count": 43,
   "metadata": {},
   "outputs": [
    {
     "data": {
      "text/html": [
       "<div>\n",
       "<style scoped>\n",
       "    .dataframe tbody tr th:only-of-type {\n",
       "        vertical-align: middle;\n",
       "    }\n",
       "\n",
       "    .dataframe tbody tr th {\n",
       "        vertical-align: top;\n",
       "    }\n",
       "\n",
       "    .dataframe thead th {\n",
       "        text-align: right;\n",
       "    }\n",
       "</style>\n",
       "<table border=\"1\" class=\"dataframe\">\n",
       "  <thead>\n",
       "    <tr style=\"text-align: right;\">\n",
       "      <th></th>\n",
       "      <th>User_id</th>\n",
       "      <th>Месяц</th>\n",
       "      <th>Кол-во звонков, шт.</th>\n",
       "      <th>Звонки, мин.</th>\n",
       "      <th>СМС, шт.</th>\n",
       "      <th>Интернет, Мб</th>\n",
       "      <th>Тариф</th>\n",
       "      <th>Город</th>\n",
       "    </tr>\n",
       "  </thead>\n",
       "  <tbody>\n",
       "  </tbody>\n",
       "</table>\n",
       "</div>"
      ],
      "text/plain": [
       "Empty DataFrame\n",
       "Columns: [User_id, Месяц, Кол-во звонков, шт., Звонки, мин., СМС, шт., Интернет, Мб, Тариф, Город]\n",
       "Index: []"
      ]
     },
     "execution_count": 43,
     "metadata": {},
     "output_type": "execute_result"
    }
   ],
   "source": [
    "df_event_numbers[(df_event_numbers['Интернет, Мб'].isnull()) & (df_event_numbers['СМС, шт.'].isnull()) &\n",
    "                 (df_event_numbers['Звонки, мин.'].isnull())]"
   ]
  },
  {
   "cell_type": "markdown",
   "metadata": {},
   "source": [
    "Таких строк нет, значит некоторые пользователя либо непользуются интернетом, либо смс, либо звонками.\n",
    "\n",
    "Поэтому проставим по имеющимся пропускам нули, которые будут означать, что в конкретном месяце данный клиент не звонил/не отправлял СМС/не пользовался интернетом:"
   ]
  },
  {
   "cell_type": "code",
   "execution_count": 44,
   "metadata": {},
   "outputs": [],
   "source": [
    "df_event_numbers = df_event_numbers.fillna(0)"
   ]
  },
  {
   "cell_type": "code",
   "execution_count": 45,
   "metadata": {},
   "outputs": [
    {
     "name": "stdout",
     "output_type": "stream",
     "text": [
      "<class 'pandas.core.frame.DataFrame'>\n",
      "RangeIndex: 3214 entries, 0 to 3213\n",
      "Data columns (total 8 columns):\n",
      "User_id                3214 non-null int64\n",
      "Месяц                  3214 non-null int64\n",
      "Кол-во звонков, шт.    3214 non-null float64\n",
      "Звонки, мин.           3214 non-null float64\n",
      "СМС, шт.               3214 non-null float64\n",
      "Интернет, Мб           3214 non-null float64\n",
      "Тариф                  3214 non-null object\n",
      "Город                  3214 non-null object\n",
      "dtypes: float64(4), int64(2), object(2)\n",
      "memory usage: 201.0+ KB\n"
     ]
    }
   ],
   "source": [
    "df_event_numbers.info()"
   ]
  },
  {
   "cell_type": "markdown",
   "metadata": {},
   "source": [
    "### <b>Добавление информации о помесячной выручки с каждого пользователя<a name='2.5'></a></b>"
   ]
  },
  {
   "cell_type": "markdown",
   "metadata": {},
   "source": [
    "Разобьем на 3 группы столбцов:\n",
    "* <b>\"Аб. плата\"</b>;\n",
    "* <b>\"Минуты сверх\", \"СМС сверх\", \"Мб сверх\", \"Плата сверх лимита\"</b>;\n",
    "* <b>\"Сумма за месяц\"</b>."
   ]
  },
  {
   "cell_type": "code",
   "execution_count": 46,
   "metadata": {},
   "outputs": [],
   "source": [
    "#Создадим словарь с тарифами и ценами\n",
    "month_price = {'smart': 550, 'ultra': 1950}\n",
    "df_event_numbers['Аб. плата, руб.'] = df_event_numbers['Тариф'].map(month_price)"
   ]
  },
  {
   "cell_type": "code",
   "execution_count": 47,
   "metadata": {},
   "outputs": [
    {
     "data": {
      "text/html": [
       "<div>\n",
       "<style scoped>\n",
       "    .dataframe tbody tr th:only-of-type {\n",
       "        vertical-align: middle;\n",
       "    }\n",
       "\n",
       "    .dataframe tbody tr th {\n",
       "        vertical-align: top;\n",
       "    }\n",
       "\n",
       "    .dataframe thead th {\n",
       "        text-align: right;\n",
       "    }\n",
       "</style>\n",
       "<table border=\"1\" class=\"dataframe\">\n",
       "  <thead>\n",
       "    <tr style=\"text-align: right;\">\n",
       "      <th></th>\n",
       "      <th>User_id</th>\n",
       "      <th>Месяц</th>\n",
       "      <th>Кол-во звонков, шт.</th>\n",
       "      <th>Звонки, мин.</th>\n",
       "      <th>СМС, шт.</th>\n",
       "      <th>Интернет, Мб</th>\n",
       "      <th>Тариф</th>\n",
       "      <th>Город</th>\n",
       "      <th>Аб. плата, руб.</th>\n",
       "    </tr>\n",
       "  </thead>\n",
       "  <tbody>\n",
       "    <tr>\n",
       "      <td>0</td>\n",
       "      <td>1000</td>\n",
       "      <td>5</td>\n",
       "      <td>22.0</td>\n",
       "      <td>159.0</td>\n",
       "      <td>22.0</td>\n",
       "      <td>2253.49</td>\n",
       "      <td>ultra</td>\n",
       "      <td>Краснодар</td>\n",
       "      <td>1950</td>\n",
       "    </tr>\n",
       "    <tr>\n",
       "      <td>1</td>\n",
       "      <td>1000</td>\n",
       "      <td>6</td>\n",
       "      <td>43.0</td>\n",
       "      <td>172.0</td>\n",
       "      <td>60.0</td>\n",
       "      <td>23233.77</td>\n",
       "      <td>ultra</td>\n",
       "      <td>Краснодар</td>\n",
       "      <td>1950</td>\n",
       "    </tr>\n",
       "    <tr>\n",
       "      <td>2</td>\n",
       "      <td>1000</td>\n",
       "      <td>7</td>\n",
       "      <td>47.0</td>\n",
       "      <td>340.0</td>\n",
       "      <td>75.0</td>\n",
       "      <td>14003.64</td>\n",
       "      <td>ultra</td>\n",
       "      <td>Краснодар</td>\n",
       "      <td>1950</td>\n",
       "    </tr>\n",
       "    <tr>\n",
       "      <td>3</td>\n",
       "      <td>1000</td>\n",
       "      <td>8</td>\n",
       "      <td>52.0</td>\n",
       "      <td>408.0</td>\n",
       "      <td>81.0</td>\n",
       "      <td>14055.93</td>\n",
       "      <td>ultra</td>\n",
       "      <td>Краснодар</td>\n",
       "      <td>1950</td>\n",
       "    </tr>\n",
       "    <tr>\n",
       "      <td>4</td>\n",
       "      <td>1000</td>\n",
       "      <td>9</td>\n",
       "      <td>58.0</td>\n",
       "      <td>466.0</td>\n",
       "      <td>57.0</td>\n",
       "      <td>14568.91</td>\n",
       "      <td>ultra</td>\n",
       "      <td>Краснодар</td>\n",
       "      <td>1950</td>\n",
       "    </tr>\n",
       "  </tbody>\n",
       "</table>\n",
       "</div>"
      ],
      "text/plain": [
       "   User_id  Месяц  Кол-во звонков, шт.  Звонки, мин.  СМС, шт.  Интернет, Мб  \\\n",
       "0     1000      5                 22.0         159.0      22.0       2253.49   \n",
       "1     1000      6                 43.0         172.0      60.0      23233.77   \n",
       "2     1000      7                 47.0         340.0      75.0      14003.64   \n",
       "3     1000      8                 52.0         408.0      81.0      14055.93   \n",
       "4     1000      9                 58.0         466.0      57.0      14568.91   \n",
       "\n",
       "   Тариф      Город  Аб. плата, руб.  \n",
       "0  ultra  Краснодар             1950  \n",
       "1  ultra  Краснодар             1950  \n",
       "2  ultra  Краснодар             1950  \n",
       "3  ultra  Краснодар             1950  \n",
       "4  ultra  Краснодар             1950  "
      ]
     },
     "execution_count": 47,
     "metadata": {},
     "output_type": "execute_result"
    }
   ],
   "source": [
    "df_event_numbers.head()"
   ]
  },
  {
   "cell_type": "code",
   "execution_count": 48,
   "metadata": {},
   "outputs": [],
   "source": [
    "#Напишем функции для подсчета превышение сверх тарифа.\n",
    "def calls_over_plan(row):\n",
    "    if row['Тариф'] == 'smart':\n",
    "        result = row['Звонки, мин.'] - 500\n",
    "        return np.where(result > 0, result, 0)\n",
    "    else:\n",
    "        result = row['Звонки, мин.'] - 3000\n",
    "        return np.where(result > 0, result, 0)\n",
    "    \n",
    "    \n",
    "def sms_over_plan(row):\n",
    "    if row['Тариф'] == 'smart':\n",
    "        result = row['СМС, шт.'] - 50\n",
    "        return np.where(result > 0, result, 0)\n",
    "    else:\n",
    "        result =  row['СМС, шт.'] - 1000\n",
    "        return np.where(result > 0, result, 0)\n",
    "    \n",
    "\n",
    "def internet_over_plan(row):\n",
    "    if row['Тариф'] == 'smart':\n",
    "        result = row['Интернет, Мб'] - 15 * 1024\n",
    "        return np.where(result > 0, result, 0)\n",
    "    else:\n",
    "        result = row['Интернет, Мб'] - 30 * 1024\n",
    "        return np.where(result > 0, result, 0)\n",
    "    \n",
    "    \n",
    "def month_revenue(row):\n",
    "    sum_per_month = 0\n",
    "    if row['Тариф'] == 'smart':\n",
    "        sum_per_month += np.ceil(row['Минуты сверх']) * 3\n",
    "        sum_per_month += row['СМС сверх'] * 3\n",
    "        sum_per_month += np.ceil(row['Мб сверх']/1024) * 200\n",
    "        return sum_per_month\n",
    "    \n",
    "    else:\n",
    "        sum_per_month += np.ceil(row['Минуты сверх']) * 1\n",
    "        sum_per_month += row['СМС сверх'] * 1\n",
    "        sum_per_month += np.ceil(row['Мб сверх']/1024) * 150\n",
    "        return sum_per_month"
   ]
  },
  {
   "cell_type": "code",
   "execution_count": 49,
   "metadata": {},
   "outputs": [],
   "source": [
    "#Создадим новые столбцы\n",
    "df_event_numbers['Минуты сверх'] = df_event_numbers.apply(calls_over_plan, axis=1)\n",
    "df_event_numbers['СМС сверх'] = df_event_numbers.apply(sms_over_plan, axis=1)\n",
    "df_event_numbers['Мб сверх'] = df_event_numbers.apply(internet_over_plan, axis=1)\n",
    "\n",
    "df_event_numbers['Плата сверх лимита, руб.'] = df_event_numbers.apply(month_revenue, axis=1)\n",
    "\n",
    "for column in ['Минуты сверх', 'Мб сверх']:\n",
    "    df_event_numbers[column] = df_event_numbers[column].astype('float')\n",
    "\n",
    "for column in ['СМС сверх', 'Плата сверх лимита, руб.']:\n",
    "    df_event_numbers[column] = df_event_numbers[column].astype('int')"
   ]
  },
  {
   "cell_type": "code",
   "execution_count": 50,
   "metadata": {
    "scrolled": true
   },
   "outputs": [
    {
     "data": {
      "text/html": [
       "<div>\n",
       "<style scoped>\n",
       "    .dataframe tbody tr th:only-of-type {\n",
       "        vertical-align: middle;\n",
       "    }\n",
       "\n",
       "    .dataframe tbody tr th {\n",
       "        vertical-align: top;\n",
       "    }\n",
       "\n",
       "    .dataframe thead th {\n",
       "        text-align: right;\n",
       "    }\n",
       "</style>\n",
       "<table border=\"1\" class=\"dataframe\">\n",
       "  <thead>\n",
       "    <tr style=\"text-align: right;\">\n",
       "      <th></th>\n",
       "      <th>User_id</th>\n",
       "      <th>Месяц</th>\n",
       "      <th>Кол-во звонков, шт.</th>\n",
       "      <th>Звонки, мин.</th>\n",
       "      <th>СМС, шт.</th>\n",
       "      <th>Интернет, Мб</th>\n",
       "      <th>Тариф</th>\n",
       "      <th>Город</th>\n",
       "      <th>Аб. плата, руб.</th>\n",
       "      <th>Минуты сверх</th>\n",
       "      <th>СМС сверх</th>\n",
       "      <th>Мб сверх</th>\n",
       "      <th>Плата сверх лимита, руб.</th>\n",
       "    </tr>\n",
       "  </thead>\n",
       "  <tbody>\n",
       "    <tr>\n",
       "      <td>0</td>\n",
       "      <td>1000</td>\n",
       "      <td>5</td>\n",
       "      <td>22.0</td>\n",
       "      <td>159.0</td>\n",
       "      <td>22.0</td>\n",
       "      <td>2253.49</td>\n",
       "      <td>ultra</td>\n",
       "      <td>Краснодар</td>\n",
       "      <td>1950</td>\n",
       "      <td>0.0</td>\n",
       "      <td>0</td>\n",
       "      <td>0.00</td>\n",
       "      <td>0</td>\n",
       "    </tr>\n",
       "    <tr>\n",
       "      <td>1</td>\n",
       "      <td>1000</td>\n",
       "      <td>6</td>\n",
       "      <td>43.0</td>\n",
       "      <td>172.0</td>\n",
       "      <td>60.0</td>\n",
       "      <td>23233.77</td>\n",
       "      <td>ultra</td>\n",
       "      <td>Краснодар</td>\n",
       "      <td>1950</td>\n",
       "      <td>0.0</td>\n",
       "      <td>0</td>\n",
       "      <td>0.00</td>\n",
       "      <td>0</td>\n",
       "    </tr>\n",
       "    <tr>\n",
       "      <td>2</td>\n",
       "      <td>1000</td>\n",
       "      <td>7</td>\n",
       "      <td>47.0</td>\n",
       "      <td>340.0</td>\n",
       "      <td>75.0</td>\n",
       "      <td>14003.64</td>\n",
       "      <td>ultra</td>\n",
       "      <td>Краснодар</td>\n",
       "      <td>1950</td>\n",
       "      <td>0.0</td>\n",
       "      <td>0</td>\n",
       "      <td>0.00</td>\n",
       "      <td>0</td>\n",
       "    </tr>\n",
       "    <tr>\n",
       "      <td>3</td>\n",
       "      <td>1000</td>\n",
       "      <td>8</td>\n",
       "      <td>52.0</td>\n",
       "      <td>408.0</td>\n",
       "      <td>81.0</td>\n",
       "      <td>14055.93</td>\n",
       "      <td>ultra</td>\n",
       "      <td>Краснодар</td>\n",
       "      <td>1950</td>\n",
       "      <td>0.0</td>\n",
       "      <td>0</td>\n",
       "      <td>0.00</td>\n",
       "      <td>0</td>\n",
       "    </tr>\n",
       "    <tr>\n",
       "      <td>4</td>\n",
       "      <td>1000</td>\n",
       "      <td>9</td>\n",
       "      <td>58.0</td>\n",
       "      <td>466.0</td>\n",
       "      <td>57.0</td>\n",
       "      <td>14568.91</td>\n",
       "      <td>ultra</td>\n",
       "      <td>Краснодар</td>\n",
       "      <td>1950</td>\n",
       "      <td>0.0</td>\n",
       "      <td>0</td>\n",
       "      <td>0.00</td>\n",
       "      <td>0</td>\n",
       "    </tr>\n",
       "    <tr>\n",
       "      <td>5</td>\n",
       "      <td>1000</td>\n",
       "      <td>10</td>\n",
       "      <td>57.0</td>\n",
       "      <td>350.0</td>\n",
       "      <td>73.0</td>\n",
       "      <td>14702.49</td>\n",
       "      <td>ultra</td>\n",
       "      <td>Краснодар</td>\n",
       "      <td>1950</td>\n",
       "      <td>0.0</td>\n",
       "      <td>0</td>\n",
       "      <td>0.00</td>\n",
       "      <td>0</td>\n",
       "    </tr>\n",
       "    <tr>\n",
       "      <td>6</td>\n",
       "      <td>1000</td>\n",
       "      <td>11</td>\n",
       "      <td>43.0</td>\n",
       "      <td>338.0</td>\n",
       "      <td>58.0</td>\n",
       "      <td>14756.47</td>\n",
       "      <td>ultra</td>\n",
       "      <td>Краснодар</td>\n",
       "      <td>1950</td>\n",
       "      <td>0.0</td>\n",
       "      <td>0</td>\n",
       "      <td>0.00</td>\n",
       "      <td>0</td>\n",
       "    </tr>\n",
       "    <tr>\n",
       "      <td>7</td>\n",
       "      <td>1000</td>\n",
       "      <td>12</td>\n",
       "      <td>46.0</td>\n",
       "      <td>333.0</td>\n",
       "      <td>70.0</td>\n",
       "      <td>9817.61</td>\n",
       "      <td>ultra</td>\n",
       "      <td>Краснодар</td>\n",
       "      <td>1950</td>\n",
       "      <td>0.0</td>\n",
       "      <td>0</td>\n",
       "      <td>0.00</td>\n",
       "      <td>0</td>\n",
       "    </tr>\n",
       "    <tr>\n",
       "      <td>8</td>\n",
       "      <td>1001</td>\n",
       "      <td>11</td>\n",
       "      <td>59.0</td>\n",
       "      <td>430.0</td>\n",
       "      <td>0.0</td>\n",
       "      <td>18429.34</td>\n",
       "      <td>smart</td>\n",
       "      <td>Москва</td>\n",
       "      <td>550</td>\n",
       "      <td>0.0</td>\n",
       "      <td>0</td>\n",
       "      <td>3069.34</td>\n",
       "      <td>600</td>\n",
       "    </tr>\n",
       "    <tr>\n",
       "      <td>9</td>\n",
       "      <td>1001</td>\n",
       "      <td>12</td>\n",
       "      <td>63.0</td>\n",
       "      <td>414.0</td>\n",
       "      <td>0.0</td>\n",
       "      <td>14036.66</td>\n",
       "      <td>smart</td>\n",
       "      <td>Москва</td>\n",
       "      <td>550</td>\n",
       "      <td>0.0</td>\n",
       "      <td>0</td>\n",
       "      <td>0.00</td>\n",
       "      <td>0</td>\n",
       "    </tr>\n",
       "  </tbody>\n",
       "</table>\n",
       "</div>"
      ],
      "text/plain": [
       "   User_id  Месяц  Кол-во звонков, шт.  Звонки, мин.  СМС, шт.  Интернет, Мб  \\\n",
       "0     1000      5                 22.0         159.0      22.0       2253.49   \n",
       "1     1000      6                 43.0         172.0      60.0      23233.77   \n",
       "2     1000      7                 47.0         340.0      75.0      14003.64   \n",
       "3     1000      8                 52.0         408.0      81.0      14055.93   \n",
       "4     1000      9                 58.0         466.0      57.0      14568.91   \n",
       "5     1000     10                 57.0         350.0      73.0      14702.49   \n",
       "6     1000     11                 43.0         338.0      58.0      14756.47   \n",
       "7     1000     12                 46.0         333.0      70.0       9817.61   \n",
       "8     1001     11                 59.0         430.0       0.0      18429.34   \n",
       "9     1001     12                 63.0         414.0       0.0      14036.66   \n",
       "\n",
       "   Тариф      Город  Аб. плата, руб.  Минуты сверх  СМС сверх  Мб сверх  \\\n",
       "0  ultra  Краснодар             1950           0.0          0      0.00   \n",
       "1  ultra  Краснодар             1950           0.0          0      0.00   \n",
       "2  ultra  Краснодар             1950           0.0          0      0.00   \n",
       "3  ultra  Краснодар             1950           0.0          0      0.00   \n",
       "4  ultra  Краснодар             1950           0.0          0      0.00   \n",
       "5  ultra  Краснодар             1950           0.0          0      0.00   \n",
       "6  ultra  Краснодар             1950           0.0          0      0.00   \n",
       "7  ultra  Краснодар             1950           0.0          0      0.00   \n",
       "8  smart     Москва              550           0.0          0   3069.34   \n",
       "9  smart     Москва              550           0.0          0      0.00   \n",
       "\n",
       "   Плата сверх лимита, руб.  \n",
       "0                         0  \n",
       "1                         0  \n",
       "2                         0  \n",
       "3                         0  \n",
       "4                         0  \n",
       "5                         0  \n",
       "6                         0  \n",
       "7                         0  \n",
       "8                       600  \n",
       "9                         0  "
      ]
     },
     "execution_count": 50,
     "metadata": {},
     "output_type": "execute_result"
    }
   ],
   "source": [
    "df_event_numbers.head(10)"
   ]
  },
  {
   "cell_type": "code",
   "execution_count": 51,
   "metadata": {},
   "outputs": [],
   "source": [
    "# Добавим столбец с общей суммой за месяц\n",
    "df_event_numbers['Сумма за месяц, руб.'] = df_event_numbers['Аб. плата, руб.'] + df_event_numbers['Плата сверх лимита, руб.']"
   ]
  },
  {
   "cell_type": "code",
   "execution_count": 52,
   "metadata": {},
   "outputs": [
    {
     "data": {
      "text/html": [
       "<div>\n",
       "<style scoped>\n",
       "    .dataframe tbody tr th:only-of-type {\n",
       "        vertical-align: middle;\n",
       "    }\n",
       "\n",
       "    .dataframe tbody tr th {\n",
       "        vertical-align: top;\n",
       "    }\n",
       "\n",
       "    .dataframe thead th {\n",
       "        text-align: right;\n",
       "    }\n",
       "</style>\n",
       "<table border=\"1\" class=\"dataframe\">\n",
       "  <thead>\n",
       "    <tr style=\"text-align: right;\">\n",
       "      <th></th>\n",
       "      <th>User_id</th>\n",
       "      <th>Месяц</th>\n",
       "      <th>Кол-во звонков, шт.</th>\n",
       "      <th>Звонки, мин.</th>\n",
       "      <th>СМС, шт.</th>\n",
       "      <th>Интернет, Мб</th>\n",
       "      <th>Тариф</th>\n",
       "      <th>Город</th>\n",
       "      <th>Аб. плата, руб.</th>\n",
       "      <th>Минуты сверх</th>\n",
       "      <th>СМС сверх</th>\n",
       "      <th>Мб сверх</th>\n",
       "      <th>Плата сверх лимита, руб.</th>\n",
       "      <th>Сумма за месяц, руб.</th>\n",
       "    </tr>\n",
       "  </thead>\n",
       "  <tbody>\n",
       "    <tr>\n",
       "      <td>0</td>\n",
       "      <td>1000</td>\n",
       "      <td>5</td>\n",
       "      <td>22.0</td>\n",
       "      <td>159.0</td>\n",
       "      <td>22.0</td>\n",
       "      <td>2253.49</td>\n",
       "      <td>ultra</td>\n",
       "      <td>Краснодар</td>\n",
       "      <td>1950</td>\n",
       "      <td>0.0</td>\n",
       "      <td>0</td>\n",
       "      <td>0.0</td>\n",
       "      <td>0</td>\n",
       "      <td>1950</td>\n",
       "    </tr>\n",
       "    <tr>\n",
       "      <td>1</td>\n",
       "      <td>1000</td>\n",
       "      <td>6</td>\n",
       "      <td>43.0</td>\n",
       "      <td>172.0</td>\n",
       "      <td>60.0</td>\n",
       "      <td>23233.77</td>\n",
       "      <td>ultra</td>\n",
       "      <td>Краснодар</td>\n",
       "      <td>1950</td>\n",
       "      <td>0.0</td>\n",
       "      <td>0</td>\n",
       "      <td>0.0</td>\n",
       "      <td>0</td>\n",
       "      <td>1950</td>\n",
       "    </tr>\n",
       "    <tr>\n",
       "      <td>2</td>\n",
       "      <td>1000</td>\n",
       "      <td>7</td>\n",
       "      <td>47.0</td>\n",
       "      <td>340.0</td>\n",
       "      <td>75.0</td>\n",
       "      <td>14003.64</td>\n",
       "      <td>ultra</td>\n",
       "      <td>Краснодар</td>\n",
       "      <td>1950</td>\n",
       "      <td>0.0</td>\n",
       "      <td>0</td>\n",
       "      <td>0.0</td>\n",
       "      <td>0</td>\n",
       "      <td>1950</td>\n",
       "    </tr>\n",
       "    <tr>\n",
       "      <td>3</td>\n",
       "      <td>1000</td>\n",
       "      <td>8</td>\n",
       "      <td>52.0</td>\n",
       "      <td>408.0</td>\n",
       "      <td>81.0</td>\n",
       "      <td>14055.93</td>\n",
       "      <td>ultra</td>\n",
       "      <td>Краснодар</td>\n",
       "      <td>1950</td>\n",
       "      <td>0.0</td>\n",
       "      <td>0</td>\n",
       "      <td>0.0</td>\n",
       "      <td>0</td>\n",
       "      <td>1950</td>\n",
       "    </tr>\n",
       "    <tr>\n",
       "      <td>4</td>\n",
       "      <td>1000</td>\n",
       "      <td>9</td>\n",
       "      <td>58.0</td>\n",
       "      <td>466.0</td>\n",
       "      <td>57.0</td>\n",
       "      <td>14568.91</td>\n",
       "      <td>ultra</td>\n",
       "      <td>Краснодар</td>\n",
       "      <td>1950</td>\n",
       "      <td>0.0</td>\n",
       "      <td>0</td>\n",
       "      <td>0.0</td>\n",
       "      <td>0</td>\n",
       "      <td>1950</td>\n",
       "    </tr>\n",
       "  </tbody>\n",
       "</table>\n",
       "</div>"
      ],
      "text/plain": [
       "   User_id  Месяц  Кол-во звонков, шт.  Звонки, мин.  СМС, шт.  Интернет, Мб  \\\n",
       "0     1000      5                 22.0         159.0      22.0       2253.49   \n",
       "1     1000      6                 43.0         172.0      60.0      23233.77   \n",
       "2     1000      7                 47.0         340.0      75.0      14003.64   \n",
       "3     1000      8                 52.0         408.0      81.0      14055.93   \n",
       "4     1000      9                 58.0         466.0      57.0      14568.91   \n",
       "\n",
       "   Тариф      Город  Аб. плата, руб.  Минуты сверх  СМС сверх  Мб сверх  \\\n",
       "0  ultra  Краснодар             1950           0.0          0       0.0   \n",
       "1  ultra  Краснодар             1950           0.0          0       0.0   \n",
       "2  ultra  Краснодар             1950           0.0          0       0.0   \n",
       "3  ultra  Краснодар             1950           0.0          0       0.0   \n",
       "4  ultra  Краснодар             1950           0.0          0       0.0   \n",
       "\n",
       "   Плата сверх лимита, руб.  Сумма за месяц, руб.  \n",
       "0                         0                  1950  \n",
       "1                         0                  1950  \n",
       "2                         0                  1950  \n",
       "3                         0                  1950  \n",
       "4                         0                  1950  "
      ]
     },
     "execution_count": 52,
     "metadata": {},
     "output_type": "execute_result"
    }
   ],
   "source": [
    "df_event_numbers.head()"
   ]
  },
  {
   "cell_type": "markdown",
   "metadata": {},
   "source": [
    "Проверим есть ли те, кто превышали тарифный план."
   ]
  },
  {
   "cell_type": "code",
   "execution_count": 53,
   "metadata": {},
   "outputs": [
    {
     "data": {
      "text/html": [
       "<div>\n",
       "<style scoped>\n",
       "    .dataframe tbody tr th:only-of-type {\n",
       "        vertical-align: middle;\n",
       "    }\n",
       "\n",
       "    .dataframe tbody tr th {\n",
       "        vertical-align: top;\n",
       "    }\n",
       "\n",
       "    .dataframe thead th {\n",
       "        text-align: right;\n",
       "    }\n",
       "</style>\n",
       "<table border=\"1\" class=\"dataframe\">\n",
       "  <thead>\n",
       "    <tr style=\"text-align: right;\">\n",
       "      <th></th>\n",
       "      <th>User_id</th>\n",
       "      <th>Месяц</th>\n",
       "      <th>Кол-во звонков, шт.</th>\n",
       "      <th>Звонки, мин.</th>\n",
       "      <th>СМС, шт.</th>\n",
       "      <th>Интернет, Мб</th>\n",
       "      <th>Тариф</th>\n",
       "      <th>Город</th>\n",
       "      <th>Аб. плата, руб.</th>\n",
       "      <th>Минуты сверх</th>\n",
       "      <th>СМС сверх</th>\n",
       "      <th>Мб сверх</th>\n",
       "      <th>Плата сверх лимита, руб.</th>\n",
       "      <th>Сумма за месяц, руб.</th>\n",
       "    </tr>\n",
       "  </thead>\n",
       "  <tbody>\n",
       "    <tr>\n",
       "      <td>8</td>\n",
       "      <td>1001</td>\n",
       "      <td>11</td>\n",
       "      <td>59.0</td>\n",
       "      <td>430.0</td>\n",
       "      <td>0.0</td>\n",
       "      <td>18429.34</td>\n",
       "      <td>smart</td>\n",
       "      <td>Москва</td>\n",
       "      <td>550</td>\n",
       "      <td>0.0</td>\n",
       "      <td>0</td>\n",
       "      <td>3069.34</td>\n",
       "      <td>600</td>\n",
       "      <td>1150</td>\n",
       "    </tr>\n",
       "    <tr>\n",
       "      <td>11</td>\n",
       "      <td>1002</td>\n",
       "      <td>7</td>\n",
       "      <td>26.0</td>\n",
       "      <td>214.0</td>\n",
       "      <td>11.0</td>\n",
       "      <td>17580.10</td>\n",
       "      <td>smart</td>\n",
       "      <td>Стерлитамак</td>\n",
       "      <td>550</td>\n",
       "      <td>0.0</td>\n",
       "      <td>0</td>\n",
       "      <td>2220.10</td>\n",
       "      <td>600</td>\n",
       "      <td>1150</td>\n",
       "    </tr>\n",
       "    <tr>\n",
       "      <td>12</td>\n",
       "      <td>1002</td>\n",
       "      <td>8</td>\n",
       "      <td>42.0</td>\n",
       "      <td>289.0</td>\n",
       "      <td>13.0</td>\n",
       "      <td>20319.26</td>\n",
       "      <td>smart</td>\n",
       "      <td>Стерлитамак</td>\n",
       "      <td>550</td>\n",
       "      <td>0.0</td>\n",
       "      <td>0</td>\n",
       "      <td>4959.26</td>\n",
       "      <td>1000</td>\n",
       "      <td>1550</td>\n",
       "    </tr>\n",
       "    <tr>\n",
       "      <td>13</td>\n",
       "      <td>1002</td>\n",
       "      <td>9</td>\n",
       "      <td>36.0</td>\n",
       "      <td>206.0</td>\n",
       "      <td>4.0</td>\n",
       "      <td>16691.08</td>\n",
       "      <td>smart</td>\n",
       "      <td>Стерлитамак</td>\n",
       "      <td>550</td>\n",
       "      <td>0.0</td>\n",
       "      <td>0</td>\n",
       "      <td>1331.08</td>\n",
       "      <td>400</td>\n",
       "      <td>950</td>\n",
       "    </tr>\n",
       "    <tr>\n",
       "      <td>15</td>\n",
       "      <td>1002</td>\n",
       "      <td>11</td>\n",
       "      <td>32.0</td>\n",
       "      <td>243.0</td>\n",
       "      <td>16.0</td>\n",
       "      <td>18587.28</td>\n",
       "      <td>smart</td>\n",
       "      <td>Стерлитамак</td>\n",
       "      <td>550</td>\n",
       "      <td>0.0</td>\n",
       "      <td>0</td>\n",
       "      <td>3227.28</td>\n",
       "      <td>800</td>\n",
       "      <td>1350</td>\n",
       "    </tr>\n",
       "    <tr>\n",
       "      <td>...</td>\n",
       "      <td>...</td>\n",
       "      <td>...</td>\n",
       "      <td>...</td>\n",
       "      <td>...</td>\n",
       "      <td>...</td>\n",
       "      <td>...</td>\n",
       "      <td>...</td>\n",
       "      <td>...</td>\n",
       "      <td>...</td>\n",
       "      <td>...</td>\n",
       "      <td>...</td>\n",
       "      <td>...</td>\n",
       "      <td>...</td>\n",
       "      <td>...</td>\n",
       "    </tr>\n",
       "    <tr>\n",
       "      <td>3208</td>\n",
       "      <td>1498</td>\n",
       "      <td>9</td>\n",
       "      <td>59.0</td>\n",
       "      <td>471.0</td>\n",
       "      <td>44.0</td>\n",
       "      <td>22134.41</td>\n",
       "      <td>smart</td>\n",
       "      <td>Владикавказ</td>\n",
       "      <td>550</td>\n",
       "      <td>0.0</td>\n",
       "      <td>0</td>\n",
       "      <td>6774.41</td>\n",
       "      <td>1400</td>\n",
       "      <td>1950</td>\n",
       "    </tr>\n",
       "    <tr>\n",
       "      <td>3209</td>\n",
       "      <td>1498</td>\n",
       "      <td>10</td>\n",
       "      <td>41.0</td>\n",
       "      <td>247.0</td>\n",
       "      <td>42.0</td>\n",
       "      <td>20579.36</td>\n",
       "      <td>smart</td>\n",
       "      <td>Владикавказ</td>\n",
       "      <td>550</td>\n",
       "      <td>0.0</td>\n",
       "      <td>0</td>\n",
       "      <td>5219.36</td>\n",
       "      <td>1200</td>\n",
       "      <td>1750</td>\n",
       "    </tr>\n",
       "    <tr>\n",
       "      <td>3211</td>\n",
       "      <td>1499</td>\n",
       "      <td>10</td>\n",
       "      <td>68.0</td>\n",
       "      <td>449.0</td>\n",
       "      <td>48.0</td>\n",
       "      <td>17788.51</td>\n",
       "      <td>smart</td>\n",
       "      <td>Пермь</td>\n",
       "      <td>550</td>\n",
       "      <td>0.0</td>\n",
       "      <td>0</td>\n",
       "      <td>2428.51</td>\n",
       "      <td>600</td>\n",
       "      <td>1150</td>\n",
       "    </tr>\n",
       "    <tr>\n",
       "      <td>3212</td>\n",
       "      <td>1499</td>\n",
       "      <td>11</td>\n",
       "      <td>74.0</td>\n",
       "      <td>612.0</td>\n",
       "      <td>59.0</td>\n",
       "      <td>17963.31</td>\n",
       "      <td>smart</td>\n",
       "      <td>Пермь</td>\n",
       "      <td>550</td>\n",
       "      <td>112.0</td>\n",
       "      <td>9</td>\n",
       "      <td>2603.31</td>\n",
       "      <td>963</td>\n",
       "      <td>1513</td>\n",
       "    </tr>\n",
       "    <tr>\n",
       "      <td>3213</td>\n",
       "      <td>1499</td>\n",
       "      <td>12</td>\n",
       "      <td>69.0</td>\n",
       "      <td>492.0</td>\n",
       "      <td>66.0</td>\n",
       "      <td>13055.58</td>\n",
       "      <td>smart</td>\n",
       "      <td>Пермь</td>\n",
       "      <td>550</td>\n",
       "      <td>0.0</td>\n",
       "      <td>16</td>\n",
       "      <td>0.00</td>\n",
       "      <td>48</td>\n",
       "      <td>598</td>\n",
       "    </tr>\n",
       "  </tbody>\n",
       "</table>\n",
       "<p>1796 rows × 14 columns</p>\n",
       "</div>"
      ],
      "text/plain": [
       "      User_id  Месяц  Кол-во звонков, шт.  Звонки, мин.  СМС, шт.  \\\n",
       "8        1001     11                 59.0         430.0       0.0   \n",
       "11       1002      7                 26.0         214.0      11.0   \n",
       "12       1002      8                 42.0         289.0      13.0   \n",
       "13       1002      9                 36.0         206.0       4.0   \n",
       "15       1002     11                 32.0         243.0      16.0   \n",
       "...       ...    ...                  ...           ...       ...   \n",
       "3208     1498      9                 59.0         471.0      44.0   \n",
       "3209     1498     10                 41.0         247.0      42.0   \n",
       "3211     1499     10                 68.0         449.0      48.0   \n",
       "3212     1499     11                 74.0         612.0      59.0   \n",
       "3213     1499     12                 69.0         492.0      66.0   \n",
       "\n",
       "      Интернет, Мб  Тариф        Город  Аб. плата, руб.  Минуты сверх  \\\n",
       "8         18429.34  smart       Москва              550           0.0   \n",
       "11        17580.10  smart  Стерлитамак              550           0.0   \n",
       "12        20319.26  smart  Стерлитамак              550           0.0   \n",
       "13        16691.08  smart  Стерлитамак              550           0.0   \n",
       "15        18587.28  smart  Стерлитамак              550           0.0   \n",
       "...            ...    ...          ...              ...           ...   \n",
       "3208      22134.41  smart  Владикавказ              550           0.0   \n",
       "3209      20579.36  smart  Владикавказ              550           0.0   \n",
       "3211      17788.51  smart        Пермь              550           0.0   \n",
       "3212      17963.31  smart        Пермь              550         112.0   \n",
       "3213      13055.58  smart        Пермь              550           0.0   \n",
       "\n",
       "      СМС сверх  Мб сверх  Плата сверх лимита, руб.  Сумма за месяц, руб.  \n",
       "8             0   3069.34                       600                  1150  \n",
       "11            0   2220.10                       600                  1150  \n",
       "12            0   4959.26                      1000                  1550  \n",
       "13            0   1331.08                       400                   950  \n",
       "15            0   3227.28                       800                  1350  \n",
       "...         ...       ...                       ...                   ...  \n",
       "3208          0   6774.41                      1400                  1950  \n",
       "3209          0   5219.36                      1200                  1750  \n",
       "3211          0   2428.51                       600                  1150  \n",
       "3212          9   2603.31                       963                  1513  \n",
       "3213         16      0.00                        48                   598  \n",
       "\n",
       "[1796 rows x 14 columns]"
      ]
     },
     "execution_count": 53,
     "metadata": {},
     "output_type": "execute_result"
    }
   ],
   "source": [
    "df_event_numbers[df_event_numbers['Плата сверх лимита, руб.'] > 0]"
   ]
  },
  {
   "cell_type": "markdown",
   "metadata": {},
   "source": [
    "### Вывод\n",
    "- Изменили тип столбцов\n",
    "- Добавили новые столбцы \n",
    "- Заполнили пропуски которые возможно\n",
    "- Добавили инофрмацию по выручке\n",
    "- Округлили мб и минуты"
   ]
  },
  {
   "cell_type": "markdown",
   "metadata": {},
   "source": [
    "## <b>Анализ данных</b><a name = '3'></a></br>\n",
    "<font size=\"2\">([к содержанию](#0))</font><br/>"
   ]
  },
  {
   "cell_type": "markdown",
   "metadata": {},
   "source": [
    "###  <b>Диаграммы сравнения переплат</b><a name = '3.1'></a></br>"
   ]
  },
  {
   "cell_type": "markdown",
   "metadata": {},
   "source": [
    "Для удобства создадим колонку 'Не хватило тарифного плана' с признаком: \"0\" - клиент не превышал месячные лимиты тарифа, \"1\" - превышал."
   ]
  },
  {
   "cell_type": "code",
   "execution_count": 54,
   "metadata": {},
   "outputs": [],
   "source": [
    "df_event_numbers['Не хватило тарифного плана'] = np.where(df_event_numbers['Плата сверх лимита, руб.'] > 0, 1, 0)"
   ]
  },
  {
   "cell_type": "markdown",
   "metadata": {},
   "source": [
    "Нарисуем круговую диаграмму распределение переплат по тарифам"
   ]
  },
  {
   "cell_type": "code",
   "execution_count": 55,
   "metadata": {
    "scrolled": true
   },
   "outputs": [
    {
     "data": {
      "image/png": "[encoded data removed]",
      "text/plain": [
       "<Figure size 1440x360 with 2 Axes>"
      ]
     },
     "metadata": {},
     "output_type": "display_data"
    }
   ],
   "source": [
    "filter_list = ['smart', 'ultra']\n",
    "titles_list = ['По клиентам тарифа \"Смарт\"', 'По клиентам тарифа \"Ультра\"']\n",
    "rows = 1\n",
    "cols = 2\n",
    "filter_list_counter = 0\n",
    "\n",
    "sum_smart = df_event_numbers[df_event_numbers['Тариф'] == 'smart'].count()['User_id']\n",
    "sum_ultra = df_event_numbers[df_event_numbers['Тариф'] == 'ultra'].count()['User_id']\n",
    "\n",
    "annot_labels = ['В рамках тарифа', 'Дозаказ услуг']\n",
    "\n",
    "def func_pct(pct):\n",
    "    if pct < 75 and pct > 25:\n",
    "        value = float(pct/100.*sum_smart)\n",
    "    else:\n",
    "        value = float(pct/100.*sum_ultra)\n",
    "    return \"{:.2f}%\\n({:.0f} чел.)\".format(pct, value)\n",
    "\n",
    "fig, axes = plt.subplots(rows, cols, figsize=(20,10))\n",
    "\n",
    "\n",
    "for r in range(rows):\n",
    "    for c in range(cols):\n",
    "        if filter_list[filter_list_counter] == 'smart':\n",
    "            colors = ['#91c6Ef', '#f05050']\n",
    "        else:\n",
    "            colors = ['#97F2AA', '#ff5050']\n",
    "        curr_filtered_df = df_event_numbers[df_event_numbers['Тариф'] == filter_list[filter_list_counter]].groupby('Не хватило тарифного плана')['User_id']\n",
    "        ax = curr_filtered_df.count().plot(kind='pie', fontsize=14, use_index=False, shadow=True, \n",
    "                                           title=titles_list[filter_list_counter], pctdistance=0.55, figsize=(20,5),\n",
    "                                           autopct=lambda pct: func_pct(pct), startangle=200, ax=axes[c], colors=colors,\n",
    "                                           labels=None)\n",
    "\n",
    "        filter_list_counter += 1\n",
    "\n",
    "plt.tight_layout(pad=3)\n",
    "\n",
    "for ax in axes:\n",
    "    ax.legend(['В рамках тарифа', 'Дозаказ услуг'], bbox_to_anchor=(0.897,0.87), prop={'size':15})\n",
    "    ax.set_ylabel('')\n",
    "    ax.title.set_size(16)\n",
    "    ax.title.set_position([0.5, 1.15])"
   ]
  },
  {
   "cell_type": "markdown",
   "metadata": {},
   "source": [
    "Видим, что по тарифу <font color=#0F74F1><b>Смарт</b></font> примерно в 75% случаев клиенту не хватает заложенных в абонентскую плату минут, СМС или гигабайт, и он \"дозаказывает\" эти услуги.<br/>\n",
    "И наоборот, почти всем клиентам с тарифом <font color=#20B605><b>Ультра</b></font> всегда всего хватает, кроме 13% - они тоже \"дозаказывают\" услуги вне поверх абонентской платы."
   ]
  },
  {
   "cell_type": "markdown",
   "metadata": {},
   "source": [
    "### <b>Перплаты</b><a name = '3.2'></a></br>"
   ]
  },
  {
   "cell_type": "markdown",
   "metadata": {},
   "source": [
    "Построим гистограмму переплат для тарифа <font color=#0F74F1><b>Смарт</b></font>"
   ]
  },
  {
   "cell_type": "code",
   "execution_count": 56,
   "metadata": {},
   "outputs": [
    {
     "data": {
      "text/plain": [
       "<matplotlib.axes._subplots.AxesSubplot at 0x7fb645c33ad0>"
      ]
     },
     "execution_count": 56,
     "metadata": {},
     "output_type": "execute_result"
    },
    {
     "data": {
      "image/png": "[encoded data removed]",
      "text/plain": [
       "<Figure size 432x288 with 1 Axes>"
      ]
     },
     "metadata": {
      "needs_background": "light"
     },
     "output_type": "display_data"
    }
   ],
   "source": [
    "title = 'Гистограмма переплат, тариф \"Смарт\"'\n",
    "df_filtered = df_event_numbers[(df_event_numbers['Тариф'] == 'smart') & \n",
    "                               (df_event_numbers['Плата сверх лимита, руб.'] > 0)]['Плата сверх лимита, руб.']\n",
    "df_filtered.plot(kind='hist', title=title, ec='black', bins=50)"
   ]
  },
  {
   "cell_type": "markdown",
   "metadata": {},
   "source": [
    "Большинство переплачивает до 1200 рублей. Это довольно много, учитывая, что размер абонентский платы - 550 рублей.<br/>\n",
    "Посмотрим ближе:"
   ]
  },
  {
   "cell_type": "code",
   "execution_count": 57,
   "metadata": {},
   "outputs": [
    {
     "data": {
      "text/plain": [
       "<matplotlib.axes._subplots.AxesSubplot at 0x7fb643a4a890>"
      ]
     },
     "execution_count": 57,
     "metadata": {},
     "output_type": "execute_result"
    },
    {
     "data": {
      "image/png": "[encoded data removed]",
      "text/plain": [
       "<Figure size 432x288 with 1 Axes>"
      ]
     },
     "metadata": {
      "needs_background": "light"
     },
     "output_type": "display_data"
    }
   ],
   "source": [
    "title = 'Гистограмма переплат, тариф \"Смарт\"'\n",
    "df_filtered_less1000 = df_event_numbers[(df_event_numbers['Тариф'] == 'smart') & \n",
    "                                        (df_event_numbers['Плата сверх лимита, руб.'] > 0) &\n",
    "                                        (df_event_numbers['Плата сверх лимита, руб.'] < 1000)]['Плата сверх лимита, руб.']\n",
    "df_filtered_less1000.plot(kind='hist', title=title, ec='black', bins=50)"
   ]
  },
  {
   "cell_type": "markdown",
   "metadata": {},
   "source": [
    "Большая часть клиентов если переплачивает, то переплачивает сумму, кратную 200 рублям. То есть дозаказывают разное количество раз 1 Гб интернета за 200 рублей."
   ]
  },
  {
   "cell_type": "markdown",
   "metadata": {},
   "source": [
    "Посмотрим на гистограмму \"переплат\" клиентов тарифа <font color=#20B605><b>Ультра</b></font>:"
   ]
  },
  {
   "cell_type": "code",
   "execution_count": 58,
   "metadata": {},
   "outputs": [
    {
     "data": {
      "text/plain": [
       "<matplotlib.axes._subplots.AxesSubplot at 0x7fb6435c7290>"
      ]
     },
     "execution_count": 58,
     "metadata": {},
     "output_type": "execute_result"
    },
    {
     "data": {
      "image/png": "[encoded data removed]",
      "text/plain": [
       "<Figure size 432x288 with 1 Axes>"
      ]
     },
     "metadata": {
      "needs_background": "light"
     },
     "output_type": "display_data"
    }
   ],
   "source": [
    "title = 'Гистограмма переплат, тариф \"Ультра\"'\n",
    "df_filtered = df_event_numbers[(df_event_numbers['Тариф'] == 'ultra') & \n",
    "                               (df_event_numbers['Плата сверх лимита, руб.'] > 0)]['Плата сверх лимита, руб.']\n",
    "df_filtered.plot(kind='hist', title=title, ec='black', bins=50)"
   ]
  },
  {
   "cell_type": "markdown",
   "metadata": {},
   "source": [
    "В основном, переплаты до 1500 рублей. Посмотрим поближе:"
   ]
  },
  {
   "cell_type": "code",
   "execution_count": 59,
   "metadata": {
    "scrolled": true
   },
   "outputs": [
    {
     "data": {
      "text/plain": [
       "<matplotlib.axes._subplots.AxesSubplot at 0x7fb6434c4b50>"
      ]
     },
     "execution_count": 59,
     "metadata": {},
     "output_type": "execute_result"
    },
    {
     "data": {
      "image/png": "[encoded data removed]",
      "text/plain": [
       "<Figure size 432x288 with 1 Axes>"
      ]
     },
     "metadata": {
      "needs_background": "light"
     },
     "output_type": "display_data"
    }
   ],
   "source": [
    "title = 'Гистограмма переплат, тариф \"Ультра\"'\n",
    "df_filtered_less1000 = df_event_numbers[(df_event_numbers['Тариф'] == 'ultra') & \n",
    "                                        (df_event_numbers['Плата сверх лимита, руб.'] > 0) &\n",
    "                                        (df_event_numbers['Плата сверх лимита, руб.'] < 1500)]['Плата сверх лимита, руб.']\n",
    "df_filtered_less1000.plot(kind='hist', title=title, ec='black', bins=50)"
   ]
  },
  {
   "cell_type": "markdown",
   "metadata": {},
   "source": [
    "Переплачивают по 150р. за дополнительный 1 Гб интернет-трафика различное количество раз."
   ]
  },
  {
   "cell_type": "markdown",
   "metadata": {},
   "source": [
    "### <b>Какие услуги чаще заказывают и сравнение суммарной выручки</b><a name = '3.3'></a></br>"
   ]
  },
  {
   "cell_type": "code",
   "execution_count": 60,
   "metadata": {
    "scrolled": true
   },
   "outputs": [
    {
     "data": {
      "text/html": [
       "<div>\n",
       "<style scoped>\n",
       "    .dataframe tbody tr th:only-of-type {\n",
       "        vertical-align: middle;\n",
       "    }\n",
       "\n",
       "    .dataframe tbody tr th {\n",
       "        vertical-align: top;\n",
       "    }\n",
       "\n",
       "    .dataframe thead th {\n",
       "        text-align: right;\n",
       "    }\n",
       "</style>\n",
       "<table border=\"1\" class=\"dataframe\">\n",
       "  <thead>\n",
       "    <tr style=\"text-align: right;\">\n",
       "      <th></th>\n",
       "      <th>Тариф</th>\n",
       "      <th>Минуты сверх</th>\n",
       "      <th>СМС сверх</th>\n",
       "      <th>Мб сверх</th>\n",
       "    </tr>\n",
       "  </thead>\n",
       "  <tbody>\n",
       "    <tr>\n",
       "      <td>0</td>\n",
       "      <td>smart</td>\n",
       "      <td>92739.0</td>\n",
       "      <td>12928</td>\n",
       "      <td>6142489.54</td>\n",
       "    </tr>\n",
       "    <tr>\n",
       "      <td>1</td>\n",
       "      <td>ultra</td>\n",
       "      <td>0.0</td>\n",
       "      <td>0</td>\n",
       "      <td>738787.90</td>\n",
       "    </tr>\n",
       "  </tbody>\n",
       "</table>\n",
       "</div>"
      ],
      "text/plain": [
       "   Тариф  Минуты сверх  СМС сверх    Мб сверх\n",
       "0  smart       92739.0      12928  6142489.54\n",
       "1  ultra           0.0          0   738787.90"
      ]
     },
     "execution_count": 60,
     "metadata": {},
     "output_type": "execute_result"
    }
   ],
   "source": [
    "(df_event_numbers.groupby('Тариф').sum()[['Минуты сверх', 'СМС сверх', 'Мб сверх']]).reset_index()"
   ]
  },
  {
   "cell_type": "markdown",
   "metadata": {},
   "source": [
    "Пользователи тарифа <font color=#0F74F1><b>Смарт</b></font> доказывают услуги каждого типа связи. Пользователи тарифа <font color=#20B605><b>Ультра</b></font> - только интернет."
   ]
  },
  {
   "cell_type": "code",
   "execution_count": 61,
   "metadata": {},
   "outputs": [
    {
     "data": {
      "image/png": "[encoded data removed]",
      "text/plain": [
       "<Figure size 1440x360 with 1 Axes>"
      ]
     },
     "metadata": {},
     "output_type": "display_data"
    }
   ],
   "source": [
    "all_revenue = df_event_numbers['Сумма за месяц, руб.'].sum()\n",
    "\n",
    "\n",
    "def func_pct(pct):\n",
    "    value = float(pct/100.*all_revenue)\n",
    "    return \"{:.2f}%\\n({:,.0f} руб.)\".format(pct, value)\n",
    "\n",
    "explode = (0.05, 0)  # сектор 'ultra' немного выдвинем\n",
    "\n",
    "axes = df_event_numbers.groupby('Тариф')['Сумма за месяц, руб.'].sum().plot(kind='pie', subplots=True, fontsize=15,\n",
    "                                                                     use_index=False, shadow=True, explode=explode,\n",
    "                                                                     title = 'Выручка', pctdistance=0.45,\n",
    "                                                                     startangle=20, figsize=(20,5),\n",
    "                                                                     autopct=lambda pct: func_pct(pct))\n",
    "\n",
    "for ax in axes:\n",
    "    ax.legend(['Смарт', 'Ультра'], bbox_to_anchor=(0.87,0.87), framealpha=0.2, prop={'size':12})\n",
    "    ax.set_ylabel('')"
   ]
  },
  {
   "cell_type": "markdown",
   "metadata": {},
   "source": [
    "<font size=\"4\"><b>58.5% выручки приносят клиенты, пользующиеся тарифом <font color=#0F74F1><b>Смарт</b></font>.</b></font><br/>\n",
    "Взяли количеством."
   ]
  },
  {
   "cell_type": "markdown",
   "metadata": {},
   "source": [
    "### <b>Промежуточный вывод по анализу</b><a name = '3.4'></a></br>"
   ]
  },
  {
   "cell_type": "markdown",
   "metadata": {},
   "source": [
    "<html>\n",
    "<body>\n",
    "<table border=\"1\" cellspacing=\"0\" cellpadding=\"0\">\n",
    "<tr>\n",
    "<td> &nbsp; </td>\n",
    "<td colspan=2 style=\"text-align:center;\"><b>Кол-во абонентов</b></td>\n",
    "<td colspan=2 style=\"text-align:center;\"><b>Звонки</b></td>\n",
    "<td colspan=2 style=\"text-align:center;\"><b>СМС</b></td>\n",
    "<td colspan=2 style=\"text-align:center;\"><b>Интернет</b></td>\n",
    "<td colspan=2 style=\"text-align:center;\"><b>Выручка</b></td>    \n",
    "</tr>\n",
    "<tr>\n",
    "<td style=\"background-color:#92c6ff; font-size: 12px;\"> <b>Тариф \"Смарт\" </b></td>\n",
    "<td style=\"color:#16B4DC; font-size: 15px;\" ><b>69,3 % </b></td>\n",
    "<td>2229 чел.</td>\n",
    "<td style=\"color:#16B4DC; font-size: 15px;\" ><b>64,2 % </b></td>\n",
    "<td>931 577 мин</td>\n",
    "<td style=\"color:#16B4DC; font-size: 15px;\" ><b>60,5 % </b></td>\n",
    "<td>74413 шт.</td>\n",
    "<td style=\"color:#16B4DC; font-size: 15px;\" ><b>65,3 % </b></td>\n",
    "<td>35 327 Гб</td>\n",
    "<td style=\"color:#16B4DC; font-size: 15px;\" ><b>58,6 % </b></td>\n",
    "<td>2,89 млн руб.</td>\n",
    "</tr>\n",
    "<tr>\n",
    "    <td style=\"background-color:#97F0AA; font-size: 12px;\"> <b>Тариф \"Ультра\"</b></td>\n",
    "<td>30,7 %</td>\n",
    "<td>985 чел. </td>\n",
    "<td>35,8 %  </td>\n",
    "<td>518 724 мин</td>\n",
    "<td>39,5 %  </td>\n",
    "<td>48623 шт.</td>\n",
    "<td>34,7 %  </td>\n",
    "<td>18 745 Гб</td>\n",
    "<td>41,4 % </td>\n",
    "<td>2,04 млн руб.</td>\n",
    "</tr>\n",
    "</table>\n",
    "</body>\n",
    "</html>"
   ]
  },
  {
   "cell_type": "markdown",
   "metadata": {},
   "source": [
    "Больше людей пользуются тарифом <font color=#0F74F1><b>Смарт</b></font>, больше трафика проходит через тариф <font color=#0F74F1><b>Смарт</b></font>, больше отправляется смс и больше совершается звонков, и, как следствие, большую часть выручки приносит тариф <font color=#0F74F1><b>Смарт</b></font>, даже несмотря на что, что абонентская плата по тарифу <font color=#20B605><b>Ультра</b></font> в 3 раза выше."
   ]
  },
  {
   "cell_type": "markdown",
   "metadata": {},
   "source": [
    "### <b>Описание поведения клиента на основе полученной выборки</b><a name = '3.5'></a></br>\n",
    "<font size=\"2\">([к содержанию](#0.0))</font>"
   ]
  },
  {
   "cell_type": "markdown",
   "metadata": {},
   "source": [
    "Сначала построим boxplot'ы по всем рассматриваемым данным:\n",
    "- длительность звонка\n",
    "- количество отправленных СМС\n",
    "- объем использованного интернет-трафика\n",
    "<br></br>\n",
    "Чтобы зафиксировать выбросы и отфильтровать их при дальнейшем анализе. Сначала зададим нижнее и верхнее значения усов через 2 и 98 квантили и построим один boxplot, потом построим boxplot со стандартным межквартильным размахом, равным 1,5:"
   ]
  },
  {
   "cell_type": "code",
   "execution_count": 62,
   "metadata": {},
   "outputs": [],
   "source": [
    "#Напишем функцию чтобы не создавать для каждого размаха разные ячейки кода\n",
    "def plot_box(whis):\n",
    "    column_list = ['Звонки, мин.', 'СМС, шт.', 'Интернет, Мб']\n",
    "    rows = 1\n",
    "    cols = 3\n",
    "    column_list_counter = 0\n",
    "\n",
    "    fig, axes = plt.subplots(rows, cols, figsize=(40,15))\n",
    "\n",
    "    for r in range(rows):\n",
    "        for c in range(cols):\n",
    "            ax = df_event_numbers.boxplot(column=column_list[column_list_counter], by='Тариф', fontsize=40, ax=axes[c],\n",
    "                                         boxprops=dict(linestyle='-', linewidth=5),\n",
    "                                         medianprops=dict(linestyle='-', linewidth=5),\n",
    "                                         whiskerprops=dict(linestyle='-', linewidth=5),\n",
    "                                         capprops=dict(linestyle='-', linewidth=5),\n",
    "                                         notch=True, whis=whis)\n",
    "            ax.set_title(column_list[column_list_counter])\n",
    "            ax.title.set_size(40)\n",
    "            ax.set_xlabel('')\n",
    "            plt.suptitle('Boxplot с whis = {}'.format(whis), y=1, fontsize=45, fontweight='bold')\n",
    "            column_list_counter += 1"
   ]
  },
  {
   "cell_type": "code",
   "execution_count": 63,
   "metadata": {
    "scrolled": true
   },
   "outputs": [
    {
     "name": "stderr",
     "output_type": "stream",
     "text": [
      "/opt/conda/lib/python3.7/site-packages/numpy/core/_asarray.py:83: VisibleDeprecationWarning: Creating an ndarray from ragged nested sequences (which is a list-or-tuple of lists-or-tuples-or ndarrays with different lengths or shapes) is deprecated. If you meant to do this, you must specify 'dtype=object' when creating the ndarray\n",
      "  return array(a, dtype, copy=False, order=order)\n",
      "/opt/conda/lib/python3.7/site-packages/numpy/core/_asarray.py:83: VisibleDeprecationWarning: Creating an ndarray from ragged nested sequences (which is a list-or-tuple of lists-or-tuples-or ndarrays with different lengths or shapes) is deprecated. If you meant to do this, you must specify 'dtype=object' when creating the ndarray\n",
      "  return array(a, dtype, copy=False, order=order)\n",
      "/opt/conda/lib/python3.7/site-packages/numpy/core/_asarray.py:83: VisibleDeprecationWarning: Creating an ndarray from ragged nested sequences (which is a list-or-tuple of lists-or-tuples-or ndarrays with different lengths or shapes) is deprecated. If you meant to do this, you must specify 'dtype=object' when creating the ndarray\n",
      "  return array(a, dtype, copy=False, order=order)\n"
     ]
    },
    {
     "data": {
      "image/png": "[encoded data removed]",
      "text/plain": [
       "<Figure size 2880x1080 with 3 Axes>"
      ]
     },
     "metadata": {
      "needs_background": "light"
     },
     "output_type": "display_data"
    }
   ],
   "source": [
    "plot_box([2,98])"
   ]
  },
  {
   "cell_type": "code",
   "execution_count": 64,
   "metadata": {
    "scrolled": false
   },
   "outputs": [
    {
     "name": "stderr",
     "output_type": "stream",
     "text": [
      "/opt/conda/lib/python3.7/site-packages/numpy/core/_asarray.py:83: VisibleDeprecationWarning: Creating an ndarray from ragged nested sequences (which is a list-or-tuple of lists-or-tuples-or ndarrays with different lengths or shapes) is deprecated. If you meant to do this, you must specify 'dtype=object' when creating the ndarray\n",
      "  return array(a, dtype, copy=False, order=order)\n",
      "/opt/conda/lib/python3.7/site-packages/numpy/core/_asarray.py:83: VisibleDeprecationWarning: Creating an ndarray from ragged nested sequences (which is a list-or-tuple of lists-or-tuples-or ndarrays with different lengths or shapes) is deprecated. If you meant to do this, you must specify 'dtype=object' when creating the ndarray\n",
      "  return array(a, dtype, copy=False, order=order)\n",
      "/opt/conda/lib/python3.7/site-packages/numpy/core/_asarray.py:83: VisibleDeprecationWarning: Creating an ndarray from ragged nested sequences (which is a list-or-tuple of lists-or-tuples-or ndarrays with different lengths or shapes) is deprecated. If you meant to do this, you must specify 'dtype=object' when creating the ndarray\n",
      "  return array(a, dtype, copy=False, order=order)\n"
     ]
    },
    {
     "data": {
      "image/png": "[encoded data removed]",
      "text/plain": [
       "<Figure size 2880x1080 with 3 Axes>"
      ]
     },
     "metadata": {
      "needs_background": "light"
     },
     "output_type": "display_data"
    }
   ],
   "source": [
    "plot_box(1.5)"
   ]
  },
  {
   "cell_type": "markdown",
   "metadata": {},
   "source": [
    "При параметре whis = 1,5 аномалий отбрасывается меньше, другими словами, мы бережней фильтруем данные, чем при [2,98].\n",
    "В связи с этим, определим интервалы данных по boxplot'ам с whis = 1,5."
   ]
  },
  {
   "cell_type": "markdown",
   "metadata": {},
   "source": [
    "### <b>Определение интервалов данных для последующей их фильтрации:</b><a name = '3.6'></a></br>"
   ]
  },
  {
   "cell_type": "markdown",
   "metadata": {},
   "source": [
    "Для этого напишем функцию, которая рассчитает нам эти интервалы:"
   ]
  },
  {
   "cell_type": "code",
   "execution_count": 65,
   "metadata": {},
   "outputs": [],
   "source": [
    "def get_intervals(column, data_filter):\n",
    "    \n",
    "    if data_filter == 'Тариф':\n",
    "        format_name = column\n",
    "        data1, data2 = 'smart', 'ultra'\n",
    "        format_end1 = 'тарифа \"Смарт\"'\n",
    "        format_end2 = 'тарифа \"Ультра\"'\n",
    "    elif data_filter == 'is_Moscow':\n",
    "        format_name = 'is_Moscow'\n",
    "        data1, data2 = 0, 1\n",
    "        format_end1 = 'для регионов'\n",
    "        format_end2 = 'для Москвы'\n",
    "    \n",
    "    q1_1 = df_event_numbers[df_event_numbers[data_filter] == data1][column].quantile(0.25)\n",
    "    q3_1 = df_event_numbers[df_event_numbers[data_filter] == data1][column].quantile(0.75)\n",
    "    diff_1 = q3_1 - q1_1\n",
    "    \n",
    "    if data_filter == 'is_Moscow':\n",
    "        left_int_1 = np.where( (q1_1 - 1.5 * diff_1) > 550, q1_1 - 1.5 * diff_1, 550)\n",
    "    else:\n",
    "        left_int_1 = np.where( (q1_1 - 1.5 * diff_1) > 0, q1_1 - 1.5 * diff_1, 0)\n",
    "    \n",
    "    right_int_1 = np.where( (q3_1 + 1.5 * diff_1) > 0, q3_1 + 1.5 * diff_1, 0)\n",
    "    \n",
    "    q1_2 = df_event_numbers[df_event_numbers[data_filter] == data2][column].quantile(0.25)\n",
    "    q3_2 = df_event_numbers[df_event_numbers[data_filter] == data2][column].quantile(0.75)\n",
    "    diff_2 = q3_2 - q1_2\n",
    "    \n",
    "    if data_filter == 'is_Moscow':\n",
    "        left_int_2 = np.where( (q1_2 - 1.5 * diff_2) > 550, q1_2 - 1.5 * diff_2, 550)\n",
    "    else:\n",
    "        left_int_2 = np.where( (q1_2 - 1.5 * diff_2) > 0, q1_2 - 1.5 * diff_2, 0)\n",
    "        \n",
    "    right_int_2 = np.where( (q3_2 + 1.5 * diff_2) > 0, q3_2 + 1.5 * diff_2, 0)\n",
    "    \n",
    "    print('Границы интервала для столбца \"{}\" {}: {} - {}'.format(column, format_end1, left_int_1, right_int_1))\n",
    "    print('Границы интервала для столбца \"{}\" {}: {} - {}'.format(column, format_end2, left_int_2, right_int_2))\n",
    "    \n",
    "    return (left_int_1, right_int_1), (left_int_2, right_int_2)"
   ]
  },
  {
   "cell_type": "code",
   "execution_count": 66,
   "metadata": {},
   "outputs": [
    {
     "name": "stdout",
     "output_type": "stream",
     "text": [
      "Границы интервала для столбца \"Звонки, мин.\" тарифа \"Смарт\": 0.0 - 939.5\n",
      "Границы интервала для столбца \"Звонки, мин.\" тарифа \"Ультра\": 0.0 - 1454.0\n"
     ]
    }
   ],
   "source": [
    "#Найдем границы интервала по длительности звонков\n",
    "calls_int_smart, calls_int_ultra = get_intervals('Звонки, мин.', 'Тариф')"
   ]
  },
  {
   "cell_type": "code",
   "execution_count": 67,
   "metadata": {},
   "outputs": [
    {
     "name": "stdout",
     "output_type": "stream",
     "text": [
      "Границы интервала для столбца \"СМС, шт.\" тарифа \"Смарт\": 0.0 - 112.5\n",
      "Границы интервала для столбца \"СМС, шт.\" тарифа \"Ультра\": 0.0 - 188.5\n"
     ]
    }
   ],
   "source": [
    "#Найдем границы интервала по количенству смс\n",
    "sms_int_smart, sms_int_ultra = get_intervals('СМС, шт.', 'Тариф')"
   ]
  },
  {
   "cell_type": "code",
   "execution_count": 68,
   "metadata": {},
   "outputs": [
    {
     "name": "stdout",
     "output_type": "stream",
     "text": [
      "Границы интервала для столбца \"Интернет, Мб\" тарифа \"Смарт\": 1543.129999999992 - 31142.810000000005\n",
      "Границы интервала для столбца \"Интернет, Мб\" тарифа \"Ультра\": 0.0 - 49438.83500000001\n"
     ]
    }
   ],
   "source": [
    "#Найдем границы интервала по использованому трафику\n",
    "internet_int_smart, internet_int_ultra = get_intervals('Интернет, Мб', 'Тариф')"
   ]
  },
  {
   "cell_type": "markdown",
   "metadata": {},
   "source": [
    "Построим гистограммы по тарифам по длительности звонков, по количеству отправленных смс, по количеству потраченного интернет-трафика. Помимо этого, выведем на расчетные данные по среднему, дисперсии и стандартному отклонению:"
   ]
  },
  {
   "cell_type": "code",
   "execution_count": 69,
   "metadata": {},
   "outputs": [],
   "source": [
    "def plot_hist_comparison(data):\n",
    "    \n",
    "    ax = plt.gca()\n",
    "    func_dict = {'Звонки': 'Звонки, мин.', 'СМС': 'СМС, шт.', 'Интернет': 'Интернет, Мб'}\n",
    "    xlims = [(calls_int_smart[0], calls_int_smart[1]), (calls_int_ultra[0], calls_int_ultra[1]),\n",
    "             (sms_int_smart[0], sms_int_smart[1]), (sms_int_ultra[0], sms_int_ultra[1]),\n",
    "             (internet_int_smart[0], internet_int_smart[1]), (internet_int_ultra[0], internet_int_ultra[1])]\n",
    "    \n",
    "    filt_column = func_dict[data]\n",
    "\n",
    "    # оформление в зависимости от рассматриваемых данных\n",
    "    if data == 'Звонки':\n",
    "        title = 'Гистограмма длительности звонков, мин.'\n",
    "        xlim1 = xlims[0]\n",
    "        xlim2 = xlims[1]\n",
    "        text_x = (58, 8)\n",
    "        text_y = 118\n",
    "        count_text_x = 1150\n",
    "        count_text_y = 75\n",
    "        alpha = 0.8\n",
    "        # annot_xy = (990, 60)\n",
    "        # annot_xytext = (970, 70)\n",
    "    elif data == 'СМС':\n",
    "        title = 'Гистограмма количества отправленных СМС, шт.'\n",
    "        xlim1 = xlims[2]\n",
    "        xlim2 = xlims[3]\n",
    "        text_x = (5.5, 1)\n",
    "        text_y = 200\n",
    "        count_text_x = 148\n",
    "        count_text_y = 230\n",
    "        alpha = 1\n",
    "        # annot_xy = (133, 220)\n",
    "        # annot_xytext = (130, 260)\n",
    "    else:\n",
    "        title = 'Гистограмма количества использованного интернет-трафика, Мб'\n",
    "        xlim1 = xlims[4]\n",
    "        xlim2 = xlims[5]\n",
    "        text_x = (3300, 200)\n",
    "        text_y = 130\n",
    "        count_text_x = 38000\n",
    "        count_text_y = 82\n",
    "        alpha = 0.8\n",
    "        # annot_xy = (31100, 73)\n",
    "        # annot_xytext = (30400, 86)\n",
    "    \n",
    "    # получаем отфильтрованные от выбросов датафреймы\n",
    "    filtered_smart_data = df_event_numbers[(df_event_numbers['Тариф'] == 'smart') &\n",
    "                                           (df_event_numbers[filt_column] >= xlim1[0]) &\n",
    "                                           (df_event_numbers[filt_column] <= xlim1[1])][filt_column]\n",
    "    filtered_ultra_data = df_event_numbers[(df_event_numbers['Тариф'] == 'ultra') &\n",
    "                                           (df_event_numbers[filt_column] >= xlim2[0]) &\n",
    "                                           (df_event_numbers[filt_column] <= xlim2[1])][filt_column]\n",
    "    # рисуем\n",
    "    filtered_smart_data.plot(kind='hist', bins=40, figsize=(12,6), ec='black', ax=ax, color='#92c6ff', \n",
    "                             title=title, xlim=xlim1)\n",
    "    filtered_ultra_data.plot(kind='hist', bins=70, figsize=(12,6), ec='black', ax=ax, color='#97F0AA', \n",
    "                             title=title, xlim=xlim2, alpha=alpha)\n",
    "    \n",
    "    # расчетные данные\n",
    "    mean_smart = filtered_smart_data.mean()\n",
    "    mean_ultra = filtered_ultra_data.mean()\n",
    "    dispersion_smart = filtered_smart_data.var()\n",
    "    dispersion_ultra = filtered_ultra_data.var()\n",
    "    std_smart = filtered_smart_data.std()\n",
    "    std_ultra = filtered_ultra_data.std()\n",
    "    \n",
    "    if data == 'СМС':\n",
    "        smart_data = 'Среднее - {:.2f}\\nДисперсия - {:.2f}\\nstd - {:.2f}'.format(mean_smart, dispersion_smart, std_smart)\n",
    "        ultra_data = 'Среднее - {:.2f}\\nДисперсия - {:.2f}\\nstd - {:.2f}'.format(mean_ultra, dispersion_ultra, std_ultra)\n",
    "    else:\n",
    "        smart_data = 'Среднее - {:.0f}\\nДисперсия - {:.0f}\\nstd - {:.0f}'.format(mean_smart, dispersion_smart, std_smart)\n",
    "        ultra_data = 'Среднее - {:.0f}\\nДисперсия - {:.0f}\\nstd - {:.0f}'.format(mean_ultra, dispersion_ultra, std_ultra)\n",
    "    \n",
    "    legend_second = plt.legend([smart_data, ultra_data], prop={'size':10.5}, \n",
    "                                framealpha=0, bbox_to_anchor=(1.0,0.32), loc=4)\n",
    "    \n",
    "    \n",
    "    plt.gca().add_artist(legend_second)\n",
    "    \n",
    "    # рисуем медианы\n",
    "    plt.axvline(x=filtered_smart_data.median(),linewidth=3, color='#16B4DC', linestyle='--')\n",
    "    ax.text(filtered_smart_data.median()-text_x[0], text_y, '{0:.0f}'.format(filtered_smart_data.median()), \n",
    "            fontweight='bold', fontsize='large')\n",
    "    plt.axvline(x=filtered_ultra_data.median(),linewidth=3, color='#35B815', linestyle='--')\n",
    "    ax.text(filtered_ultra_data.median()+text_x[1], text_y, '{0:.0f}'.format(filtered_ultra_data.median()), \n",
    "            fontweight='bold', fontsize='large')\n",
    "    \n",
    "    plt.legend(['Медиана Смарт', 'Медиана Ультра', 'Смарт', 'Ультра'], prop={'size':12})\n",
    "    ax.text(count_text_x, count_text_y, 'Расчетные данные', fontweight='bold', fontsize='large')"
   ]
  },
  {
   "cell_type": "markdown",
   "metadata": {},
   "source": [
    "### <b>Строим гистограммы</b><a name = '3.7'></a></br>"
   ]
  },
  {
   "cell_type": "code",
   "execution_count": 70,
   "metadata": {},
   "outputs": [
    {
     "data": {
      "image/png": "[encoded data removed]",
      "text/plain": [
       "<Figure size 864x432 with 1 Axes>"
      ]
     },
     "metadata": {
      "needs_background": "light"
     },
     "output_type": "display_data"
    }
   ],
   "source": [
    "plot_hist_comparison('Звонки')"
   ]
  },
  {
   "cell_type": "markdown",
   "metadata": {},
   "source": [
    "В основном, на тарифе <font color=#0F74F1><b>Смарт</b></font> люди разговаривают в месяц в течение 250-550 минут. Причем медиана равна 421 минуте, когда лимит общения по тарифу за абонентскую плату - 500 минут, т.е. пользователи регулярно выбирают почти полный лимит голосовой связи.<br/>\n",
    "С тарифом <font color=#20B605><b>Ультра</b></font> немного иная ситуация - большая часть пользователей вообще не разговаривает голосом. Из тех, кто разговаривает, в среднем наговаривают 518 минут.<br/>\n",
    "По итогу, медиана тарифа <font color=#20B605><b>Ультра</b></font> больше, чем медиана <font color=#0F74F1><b>Смарт</b></font>."
   ]
  },
  {
   "cell_type": "code",
   "execution_count": 71,
   "metadata": {},
   "outputs": [
    {
     "data": {
      "image/png": "[encoded data removed]",
      "text/plain": [
       "<Figure size 864x432 with 1 Axes>"
      ]
     },
     "metadata": {
      "needs_background": "light"
     },
     "output_type": "display_data"
    }
   ],
   "source": [
    "plot_hist_comparison('СМС')"
   ]
  },
  {
   "cell_type": "markdown",
   "metadata": {},
   "source": [
    "По обоим тарифам ситуация схожая - большая часть пользователей не отправляет СМС сообщения.</br>\n",
    "Однако, из тех, кто отправляет, большую активность проявляют пользователи тарифа <font color=#0F74F1><b>Смарт</b></font> - в среднем они отправляют до 30 СМС в месяц. Пользователи тарифа <font color=#0F74F1><b>Смарт</b></font> отправляют до 50 СМС."
   ]
  },
  {
   "cell_type": "code",
   "execution_count": 72,
   "metadata": {},
   "outputs": [
    {
     "data": {
      "image/png": "[encoded data removed]",
      "text/plain": [
       "<Figure size 864x432 with 1 Axes>"
      ]
     },
     "metadata": {
      "needs_background": "light"
     },
     "output_type": "display_data"
    }
   ],
   "source": [
    "plot_hist_comparison('Интернет')"
   ]
  },
  {
   "cell_type": "markdown",
   "metadata": {},
   "source": [
    "Клиенты с тарифом <font color=#0F74F1><b>Смарт</b></font> в среднем в месяц используют от 14 до 20 Гб трафика. Причем медиана равна 16,5 Гб, что \"вылезает\" за пределы, установленные абонентской платой - в 15 Гб. Фактически, клиенты тарифа <font color=#0F74F1><b>Смарт</b></font> регулярно заказывают доп. пакеты с интернетом, когда основной пакет заканчивается.<br/>\n",
    "Клиенты с тарифом <font color=#20B605><b>Ультра</b></font> активней пользуются интернетом - медиана равна 19 Гб, но учитывая лимит в 30 Гб, у них есть ещё большой запас по количеству оставшегося для использования трафика."
   ]
  },
  {
   "cell_type": "markdown",
   "metadata": {},
   "source": [
    "\n",
    "\n",
    "## <br>Проверка гипотез<a name=\"4\"></a></br>\n",
    "<font size=\"2\">([к содержанию](#0))</font>"
   ]
  },
  {
   "cell_type": "markdown",
   "metadata": {},
   "source": [
    "<a name=\"4.1\"></a><br/>\n",
    "### <font><b>Первая гипотеза о равенстве средних двух генеральных совокупностей:</b><br/></font>\n",
    "<b>средняя выручка пользователей тарифов <font color=#20B605><b>Ультра</b></font> и <font color=#0F74F1><b>Смарт</b></font> различается.<b>"
   ]
  },
  {
   "cell_type": "markdown",
   "metadata": {},
   "source": [
    "<b>H0 (нулевая гипотеза)</b> - предположение о том, что между данными у нас нет связи. В данном случае, что средняя выручка пользователей тарифа <font color=#0F74F1><b>Смарт</b></font> <b>не отличается</b> от средней выручки пользователей тарифа <font color=#20B605><b>Ультра</b></font>.<br/>\n",
    "<b>H1 (альтернативная гипотеза)</b> - средняя выручка пользователей тарифа <font color=#0F74F1><b>Смарт</b></font> <b>отличается</b> от средней выручки пользователей тарифа <font color=#20B605><b>Ультра</b></font>.<br/>"
   ]
  },
  {
   "cell_type": "code",
   "execution_count": 73,
   "metadata": {},
   "outputs": [
    {
     "name": "stderr",
     "output_type": "stream",
     "text": [
      "/opt/conda/lib/python3.7/site-packages/numpy/core/_asarray.py:83: VisibleDeprecationWarning: Creating an ndarray from ragged nested sequences (which is a list-or-tuple of lists-or-tuples-or ndarrays with different lengths or shapes) is deprecated. If you meant to do this, you must specify 'dtype=object' when creating the ndarray\n",
      "  return array(a, dtype, copy=False, order=order)\n"
     ]
    },
    {
     "data": {
      "text/plain": [
       "Text(0.5, 0.93, 'Boxplot по выручке')"
      ]
     },
     "execution_count": 73,
     "metadata": {},
     "output_type": "execute_result"
    },
    {
     "data": {
      "image/png": "[encoded data removed]",
      "text/plain": [
       "<Figure size 576x504 with 1 Axes>"
      ]
     },
     "metadata": {
      "needs_background": "light"
     },
     "output_type": "display_data"
    }
   ],
   "source": [
    "#Посмотрим на выборсы с 1.5 квартилем\n",
    "ax = df_event_numbers.boxplot(column='Сумма за месяц, руб.', by='Тариф', fontsize=12,\n",
    "                                         boxprops=dict(linestyle='-', linewidth=5),\n",
    "                                         medianprops=dict(linestyle='-', linewidth=5),\n",
    "                                         whiskerprops=dict(linestyle='-', linewidth=5),\n",
    "                                         capprops=dict(linestyle='-', linewidth=5),\n",
    "                                         notch=True, figsize=(8,7))\n",
    "ax.set_title('')\n",
    "ax.title.set_size(40)\n",
    "ax.set_xlabel('')\n",
    "plt.suptitle('Boxplot по выручке', y=0.93, fontsize=16, fontweight='bold')"
   ]
  },
  {
   "cell_type": "markdown",
   "metadata": {},
   "source": [
    "Посчитаем границы и выберим нужные нам данные среднюю месяную выручку по тарифам <font color=#0F74F1><b>Смарт</b></font> и <font color=#20B605><b>Ультра</b></font>"
   ]
  },
  {
   "cell_type": "code",
   "execution_count": 74,
   "metadata": {},
   "outputs": [
    {
     "name": "stdout",
     "output_type": "stream",
     "text": [
      "Границы интервала для столбца \"Сумма за месяц, руб.\" тарифа \"Смарт\": 0.0 - 3550.0\n",
      "Границы интервала для столбца \"Сумма за месяц, руб.\" тарифа \"Ультра\": 1950.0 - 1950.0\n"
     ]
    }
   ],
   "source": [
    "revenue_int_smart, revenue_int_ultra = get_intervals('Сумма за месяц, руб.', 'Тариф')\n",
    "smart_mean_revenue = df_event_numbers[(df_event_numbers['Тариф'] == 'smart') &\n",
    "                                      (df_event_numbers['Сумма за месяц, руб.'] >= revenue_int_smart[0]) &\n",
    "                                      (df_event_numbers['Сумма за месяц, руб.'] <= revenue_int_smart[1])]['Сумма за месяц, руб.']\n",
    "\n",
    "ultra_mean_revenue = df_event_numbers[(df_event_numbers['Тариф'] == 'ultra') &\n",
    "                                      (df_event_numbers['Сумма за месяц, руб.'] >= revenue_int_ultra[0]) &\n",
    "                                      (df_event_numbers['Сумма за месяц, руб.'] <= revenue_int_ultra[1])]['Сумма за месяц, руб.']"
   ]
  },
  {
   "cell_type": "markdown",
   "metadata": {},
   "source": [
    "<a name=\"4.1.1\"></a><br/>\n",
    "### <font><b>Нулевая гипотеза</b><br/></font>"
   ]
  },
  {
   "cell_type": "markdown",
   "metadata": {},
   "source": [
    "Подсчитаем p-value"
   ]
  },
  {
   "cell_type": "code",
   "execution_count": 75,
   "metadata": {},
   "outputs": [
    {
     "name": "stdout",
     "output_type": "stream",
     "text": [
      "t = -28.12531985463021\n",
      "p-value = 6.1993257349e-155\n",
      "\n",
      "Пороговое значение alpha = 0.05\n"
     ]
    }
   ],
   "source": [
    "stat, p = ttest_ind(smart_mean_revenue, ultra_mean_revenue)\n",
    "print('t = {}\\np-value = {:.10e}'.format(stat, p))\n",
    "print('\\nПороговое значение alpha = 0.05')"
   ]
  },
  {
   "cell_type": "markdown",
   "metadata": {},
   "source": [
    "<a name=\"4.1.2\"></a><br/>\n",
    "### <font><b>Вывод</b><br/></font>"
   ]
  },
  {
   "cell_type": "markdown",
   "metadata": {},
   "source": [
    "Нулевую гипотезу отвергаем.<br></br>\n",
    "Верно утверждение, что средняя выручка пользователей тарифов Смарт и Ультра различается.<br></br>\n",
    "Посмотрим, в чью пользу:"
   ]
  },
  {
   "cell_type": "code",
   "execution_count": 76,
   "metadata": {},
   "outputs": [
    {
     "name": "stdout",
     "output_type": "stream",
     "text": [
      "Средняя выручка по пользователям тарифа \"Смарт\" - 1246.16\n",
      "Средняя выручка по пользователям тарифа \"Ультра\" - 1950.0\n"
     ]
    }
   ],
   "source": [
    "print('Средняя выручка по пользователям тарифа \"Смарт\" - {:.2f}'.format(smart_mean_revenue.mean()))\n",
    "print('Средняя выручка по пользователям тарифа \"Ультра\" - {}'.format(ultra_mean_revenue.mean()))"
   ]
  },
  {
   "cell_type": "markdown",
   "metadata": {},
   "source": [
    "Ожидаемо, что пользователи тарифа <font color=#20B605><b>Ультра</b></font> в среднем приносят больше денег, т.к. их абонентская плата в 3,5 раза выше, чем абонентская плата пользующихся тарифом <font color=#0F74F1><b>Смарт</b></font> (1950р. против 550р.). Клиенты с тарифом <font color=#0F74F1><b>Смарт</b></font>, конечно, довольно часто (в 75% случаев) \"вылезают\" за пределы своего тарифа и заказывают доп. услуги, но всё равно не догоняют по тратам на пользователя клиентов с тарифом <font color=#20B605><b>Ультра</b></font>.\n"
   ]
  },
  {
   "cell_type": "markdown",
   "metadata": {},
   "source": [
    "<a name=\"4.2\"></a><br/>\n",
    "### <font><b>Вторая гипотеза о равенстве средних двух генеральных совокупностей:</b><br/></font>\n",
    "<b>средняя выручка пользователей из Москвы отличается от выручки пользователей из других регионов.</b><br/>"
   ]
  },
  {
   "cell_type": "markdown",
   "metadata": {},
   "source": [
    "Выберем нужные нам данные - среднюю месячную выручку по Москве и по остальным регионам:\n",
    "\n",
    "Проставим признак по каждой строке - Москва или регион:"
   ]
  },
  {
   "cell_type": "code",
   "execution_count": 77,
   "metadata": {},
   "outputs": [],
   "source": [
    "df_event_numbers['is_Moscow'] = np.where(df_event_numbers['Город'] == 'Москва', 1, 0)"
   ]
  },
  {
   "cell_type": "code",
   "execution_count": 78,
   "metadata": {},
   "outputs": [
    {
     "data": {
      "text/html": [
       "<div>\n",
       "<style scoped>\n",
       "    .dataframe tbody tr th:only-of-type {\n",
       "        vertical-align: middle;\n",
       "    }\n",
       "\n",
       "    .dataframe tbody tr th {\n",
       "        vertical-align: top;\n",
       "    }\n",
       "\n",
       "    .dataframe thead th {\n",
       "        text-align: right;\n",
       "    }\n",
       "</style>\n",
       "<table border=\"1\" class=\"dataframe\">\n",
       "  <thead>\n",
       "    <tr style=\"text-align: right;\">\n",
       "      <th></th>\n",
       "      <th>User_id</th>\n",
       "      <th>Месяц</th>\n",
       "      <th>Кол-во звонков, шт.</th>\n",
       "      <th>Звонки, мин.</th>\n",
       "      <th>СМС, шт.</th>\n",
       "      <th>Интернет, Мб</th>\n",
       "      <th>Тариф</th>\n",
       "      <th>Город</th>\n",
       "      <th>Аб. плата, руб.</th>\n",
       "      <th>Минуты сверх</th>\n",
       "      <th>СМС сверх</th>\n",
       "      <th>Мб сверх</th>\n",
       "      <th>Плата сверх лимита, руб.</th>\n",
       "      <th>Сумма за месяц, руб.</th>\n",
       "      <th>Не хватило тарифного плана</th>\n",
       "      <th>is_Moscow</th>\n",
       "    </tr>\n",
       "  </thead>\n",
       "  <tbody>\n",
       "    <tr>\n",
       "      <td>0</td>\n",
       "      <td>1000</td>\n",
       "      <td>5</td>\n",
       "      <td>22.0</td>\n",
       "      <td>159.0</td>\n",
       "      <td>22.0</td>\n",
       "      <td>2253.49</td>\n",
       "      <td>ultra</td>\n",
       "      <td>Краснодар</td>\n",
       "      <td>1950</td>\n",
       "      <td>0.0</td>\n",
       "      <td>0</td>\n",
       "      <td>0.0</td>\n",
       "      <td>0</td>\n",
       "      <td>1950</td>\n",
       "      <td>0</td>\n",
       "      <td>0</td>\n",
       "    </tr>\n",
       "    <tr>\n",
       "      <td>1</td>\n",
       "      <td>1000</td>\n",
       "      <td>6</td>\n",
       "      <td>43.0</td>\n",
       "      <td>172.0</td>\n",
       "      <td>60.0</td>\n",
       "      <td>23233.77</td>\n",
       "      <td>ultra</td>\n",
       "      <td>Краснодар</td>\n",
       "      <td>1950</td>\n",
       "      <td>0.0</td>\n",
       "      <td>0</td>\n",
       "      <td>0.0</td>\n",
       "      <td>0</td>\n",
       "      <td>1950</td>\n",
       "      <td>0</td>\n",
       "      <td>0</td>\n",
       "    </tr>\n",
       "    <tr>\n",
       "      <td>2</td>\n",
       "      <td>1000</td>\n",
       "      <td>7</td>\n",
       "      <td>47.0</td>\n",
       "      <td>340.0</td>\n",
       "      <td>75.0</td>\n",
       "      <td>14003.64</td>\n",
       "      <td>ultra</td>\n",
       "      <td>Краснодар</td>\n",
       "      <td>1950</td>\n",
       "      <td>0.0</td>\n",
       "      <td>0</td>\n",
       "      <td>0.0</td>\n",
       "      <td>0</td>\n",
       "      <td>1950</td>\n",
       "      <td>0</td>\n",
       "      <td>0</td>\n",
       "    </tr>\n",
       "    <tr>\n",
       "      <td>3</td>\n",
       "      <td>1000</td>\n",
       "      <td>8</td>\n",
       "      <td>52.0</td>\n",
       "      <td>408.0</td>\n",
       "      <td>81.0</td>\n",
       "      <td>14055.93</td>\n",
       "      <td>ultra</td>\n",
       "      <td>Краснодар</td>\n",
       "      <td>1950</td>\n",
       "      <td>0.0</td>\n",
       "      <td>0</td>\n",
       "      <td>0.0</td>\n",
       "      <td>0</td>\n",
       "      <td>1950</td>\n",
       "      <td>0</td>\n",
       "      <td>0</td>\n",
       "    </tr>\n",
       "    <tr>\n",
       "      <td>4</td>\n",
       "      <td>1000</td>\n",
       "      <td>9</td>\n",
       "      <td>58.0</td>\n",
       "      <td>466.0</td>\n",
       "      <td>57.0</td>\n",
       "      <td>14568.91</td>\n",
       "      <td>ultra</td>\n",
       "      <td>Краснодар</td>\n",
       "      <td>1950</td>\n",
       "      <td>0.0</td>\n",
       "      <td>0</td>\n",
       "      <td>0.0</td>\n",
       "      <td>0</td>\n",
       "      <td>1950</td>\n",
       "      <td>0</td>\n",
       "      <td>0</td>\n",
       "    </tr>\n",
       "  </tbody>\n",
       "</table>\n",
       "</div>"
      ],
      "text/plain": [
       "   User_id  Месяц  Кол-во звонков, шт.  Звонки, мин.  СМС, шт.  Интернет, Мб  \\\n",
       "0     1000      5                 22.0         159.0      22.0       2253.49   \n",
       "1     1000      6                 43.0         172.0      60.0      23233.77   \n",
       "2     1000      7                 47.0         340.0      75.0      14003.64   \n",
       "3     1000      8                 52.0         408.0      81.0      14055.93   \n",
       "4     1000      9                 58.0         466.0      57.0      14568.91   \n",
       "\n",
       "   Тариф      Город  Аб. плата, руб.  Минуты сверх  СМС сверх  Мб сверх  \\\n",
       "0  ultra  Краснодар             1950           0.0          0       0.0   \n",
       "1  ultra  Краснодар             1950           0.0          0       0.0   \n",
       "2  ultra  Краснодар             1950           0.0          0       0.0   \n",
       "3  ultra  Краснодар             1950           0.0          0       0.0   \n",
       "4  ultra  Краснодар             1950           0.0          0       0.0   \n",
       "\n",
       "   Плата сверх лимита, руб.  Сумма за месяц, руб.  Не хватило тарифного плана  \\\n",
       "0                         0                  1950                           0   \n",
       "1                         0                  1950                           0   \n",
       "2                         0                  1950                           0   \n",
       "3                         0                  1950                           0   \n",
       "4                         0                  1950                           0   \n",
       "\n",
       "   is_Moscow  \n",
       "0          0  \n",
       "1          0  \n",
       "2          0  \n",
       "3          0  \n",
       "4          0  "
      ]
     },
     "execution_count": 78,
     "metadata": {},
     "output_type": "execute_result"
    }
   ],
   "source": [
    "df_event_numbers.head()"
   ]
  },
  {
   "cell_type": "code",
   "execution_count": 79,
   "metadata": {},
   "outputs": [
    {
     "name": "stderr",
     "output_type": "stream",
     "text": [
      "/opt/conda/lib/python3.7/site-packages/numpy/core/_asarray.py:83: VisibleDeprecationWarning: Creating an ndarray from ragged nested sequences (which is a list-or-tuple of lists-or-tuples-or ndarrays with different lengths or shapes) is deprecated. If you meant to do this, you must specify 'dtype=object' when creating the ndarray\n",
      "  return array(a, dtype, copy=False, order=order)\n"
     ]
    },
    {
     "data": {
      "image/png": "[encoded data removed]",
      "text/plain": [
       "<Figure size 576x504 with 1 Axes>"
      ]
     },
     "metadata": {
      "needs_background": "light"
     },
     "output_type": "display_data"
    }
   ],
   "source": [
    "ax = df_event_numbers.boxplot(column='Сумма за месяц, руб.', by='is_Moscow', fontsize=12,\n",
    "                                         boxprops=dict(linestyle='-', linewidth=5),\n",
    "                                         medianprops=dict(linestyle='-', linewidth=5),\n",
    "                                         whiskerprops=dict(linestyle='-', linewidth=5),\n",
    "                                         capprops=dict(linestyle='-', linewidth=5),\n",
    "                                         notch=True, figsize=(8,7))\n",
    "\n",
    "\n",
    "\n",
    "labels = [item.get_text() for item in ax.get_xticklabels()]\n",
    "\n",
    "labels[0] = 'Регионы'\n",
    "labels[1] = 'Москва'\n",
    "\n",
    "ax.set_xticklabels(labels)\n",
    "\n",
    "plt.suptitle('Boxplot по выручке в Москве и регионах с whis = 1,5', y=0.95, fontsize=16, fontweight='bold')\n",
    "\n",
    "ax.set_xlabel('')\n",
    "ax.set_title('')\n",
    "ax.title.set_size(40)"
   ]
  },
  {
   "cell_type": "code",
   "execution_count": 80,
   "metadata": {},
   "outputs": [
    {
     "name": "stdout",
     "output_type": "stream",
     "text": [
      "Границы интервала для столбца \"Сумма за месяц, руб.\" для регионов: 550.0 - 3750.0\n",
      "Границы интервала для столбца \"Сумма за месяц, руб.\" для Москвы: 550.0 - 3704.25\n"
     ]
    }
   ],
   "source": [
    "#Расчет границы интервалов и выборка данных\n",
    "revenue_int_smart, revenue_int_ultra = get_intervals('Сумма за месяц, руб.', 'is_Moscow')\n",
    "moscow_revenue = df_event_numbers[(df_event_numbers['Город'] == 'Москва') &\n",
    "                                  (df_event_numbers['Сумма за месяц, руб.'] >= revenue_int_smart[0]) &\n",
    "                                  (df_event_numbers['Сумма за месяц, руб.'] <= revenue_int_smart[1])]['Сумма за месяц, руб.']\n",
    "\n",
    "regions_revenue = df_event_numbers[(df_event_numbers['Город'] != 'Москва') &\n",
    "                                  (df_event_numbers['Сумма за месяц, руб.'] >= revenue_int_ultra[0]) &\n",
    "                                  (df_event_numbers['Сумма за месяц, руб.'] <= revenue_int_ultra[1])]['Сумма за месяц, руб.']"
   ]
  },
  {
   "cell_type": "markdown",
   "metadata": {},
   "source": [
    "<a name=\"4.2.1\"></a><br/>\n",
    "### <font><b>Расчет p-value</b><br/></font>"
   ]
  },
  {
   "cell_type": "code",
   "execution_count": 81,
   "metadata": {
    "scrolled": true
   },
   "outputs": [
    {
     "name": "stdout",
     "output_type": "stream",
     "text": [
      "t = 1.4426413860035516\n",
      "p-value = 0.15\n",
      "\n",
      "Пороговое значение alpha = 0.05\n"
     ]
    }
   ],
   "source": [
    "stat, p = ttest_ind(moscow_revenue, regions_revenue)\n",
    "print('t = {}\\np-value = {:.2}'.format(stat, p))\n",
    "print('\\nПороговое значение alpha = 0.05')"
   ]
  },
  {
   "cell_type": "markdown",
   "metadata": {},
   "source": [
    "<a name=\"4.2.2\"></a><br/>\n",
    "### <font><b>Вывод</b><br/></font>"
   ]
  },
  {
   "cell_type": "markdown",
   "metadata": {},
   "source": [
    "Нулевую гипотезу отвергнуть не получается.\n",
    "Таким образом, верно утверждение, что средняя выручка пользователей из Москвы не отличается от выручки пользователей из других регионов.\n"
   ]
  },
  {
   "cell_type": "markdown",
   "metadata": {},
   "source": [
    "<a name=\"5.\"></a>\n",
    "## Общий вывод\n",
    "<font size=\"2\">([к содержанию](#0))</font>"
   ]
  },
  {
   "cell_type": "markdown",
   "metadata": {},
   "source": [
    "Cоберем общие данные по тарифам по части использования включенных в абонентскую плату лимитов и по части дозаказываемых (пакетов) услуг:"
   ]
  },
  {
   "cell_type": "code",
   "execution_count": 82,
   "metadata": {
    "scrolled": true
   },
   "outputs": [
    {
     "name": "stdout",
     "output_type": "stream",
     "text": [
      "Средний процент использования пакета интернет-трафика по тарифу \"Смарт\" - 105.52% = 16,208 Гб\n",
      "Средний процент использования пакета минут по тарифу \"Смарт\" - 83.59% = 417.93 мин\n",
      "Средний процент использования пакета СМС по тарифу \"Смарт\" - 66.77% = 33 шт.\n",
      "---------------------------------------------------------------------------------\n",
      "Средний процент использования пакета интернет-трафика по тарифу \"Ультра\" - 63.38% = 19,469 Гб\n",
      "Средний процент использования пакета минут по тарифу \"Ультра\" - 17.55% = 526.62 мин\n",
      "Средний процент использования пакета СМС по тарифу \"Ультра\" - 4.94% = 49 шт.\n"
     ]
    }
   ],
   "source": [
    "smart_mean_internet = (df_event_numbers[(df_event_numbers['Тариф'] == 'smart')]['Интернет, Мб']/(1024 * 15)).mean()\n",
    "print('Средний процент использования пакета интернет-трафика по тарифу \"Смарт\" - {:.2%} = {:,.0f} Гб'.\n",
    "      format(smart_mean_internet, smart_mean_internet * 1024 * 15))\n",
    "smart_mean_calls = (df_event_numbers[(df_event_numbers['Тариф'] == 'smart')]['Звонки, мин.']/(500)).mean()\n",
    "print('Средний процент использования пакета минут по тарифу \"Смарт\" - {:.2%} = {:.2f} мин'.\n",
    "      format(smart_mean_calls, smart_mean_calls * 500))\n",
    "smart_mean_sms = (df_event_numbers[(df_event_numbers['Тариф'] == 'smart')]['СМС, шт.']/(50)).mean()\n",
    "print('Средний процент использования пакета СМС по тарифу \"Смарт\" - {:.2%} = {:.0f} шт.'.\n",
    "      format(smart_mean_sms, smart_mean_sms * 50))\n",
    "print('---------------------------------------------------------------------------------')\n",
    "ultra_mean_internet = (df_event_numbers[(df_event_numbers['Тариф'] == 'ultra')]['Интернет, Мб']/(1024 * 30)).mean()\n",
    "print('Средний процент использования пакета интернет-трафика по тарифу \"Ультра\" - {:.2%} = {:,.0f} Гб'.\n",
    "      format(ultra_mean_internet, ultra_mean_internet * 1024 * 30))\n",
    "ultra_mean_calls = (df_event_numbers[(df_event_numbers['Тариф'] == 'ultra')]['Звонки, мин.']/(3000)).mean()\n",
    "print('Средний процент использования пакета минут по тарифу \"Ультра\" - {:.2%} = {:.2f} мин'.\n",
    "      format(ultra_mean_calls, ultra_mean_calls * 3000))\n",
    "ultra_mean_sms = (df_event_numbers[(df_event_numbers['Тариф'] == 'ultra')]['СМС, шт.']/(1000)).mean()\n",
    "print('Средний процент использования пакета СМС по тарифу \"Ультра\" - {:.2%} = {:.0f} шт.'.\n",
    "      format(ultra_mean_sms, ultra_mean_sms * 1000))"
   ]
  },
  {
   "cell_type": "markdown",
   "metadata": {},
   "source": [
    "<br/>\n",
    "<html>\n",
    "<body>\n",
    "<table border=\"1\" cellspacing=\"0\" cellpadding=\"0\">\n",
    "<tr>\n",
    "<td> &nbsp; </td>\n",
    "<td colspan=3 style=\"text-align:center;\"><b>Средний % использования пакета интернет</b></td>\n",
    "<td colspan=3 style=\"text-align:center;\"><b>Средний % использования пакета минут</b></td>\n",
    "<td colspan=3 style=\"text-align:center;\"><b>Средний % использования пакета СМС</b></td>  \n",
    "</tr>\n",
    "<tr>\n",
    "<td style=\"background-color:#92c6ff; font-size: 12px;\"> <b>Тариф \"Смарт\" </b></td>\n",
    "<td> Лимит по тарифу - 15 Гб </td>\n",
    "<td style=\"color:#F1160F; font-size: 15px;\" ><b>105,7 % </b></td>\n",
    "<td style=\"color:#F1160F; font-size: 15px;\" ><b>16,3 Гб</b></td>\n",
    "<td> Лимит по тарифу - 500 мин </td>\n",
    "<td style=\"color:#ff5050; font-size: 15px;\" ><b>83,6 % </b></td>\n",
    "<td style=\"color:#ff5050; font-size: 15px;\" ><b>418 мин</b></td>\n",
    "<td> Лимит по тарифу - 50 шт. </td>\n",
    "<td>66,8 %</td>\n",
    "<td>33 шт.</td>\n",
    "<td> &nbsp; </td>\n",
    "</tr>\n",
    "<tr>\n",
    "<td style=\"background-color:#97F0AA; font-size: 12px;\"> <b>Тариф \"Ультра\"</b></td>\n",
    "<td> Лимит по тарифу - 30 Гб </td>\n",
    "<td>63,4 %</td>\n",
    "<td>19,5 Гб</td>\n",
    "<td> Лимит по тарифу - 3000 мин </td>\n",
    "<td style=\"color:#3F8DEE; font-size: 15px;\" ><b>17,6 %</b></td>\n",
    "<td style=\"color:#3F8DEE; font-size: 15px;\" ><b>526 мин</b></td>\n",
    "<td> Лимит по тарифу - 1000 шт. </td>\n",
    "<td style=\"color:#0F74F1; font-size: 15px;\" ><b>4,9 %</b></td>\n",
    "<td style=\"color:#0F74F1; font-size: 15px;\" ><b>49 шт.</b></td>\n",
    "</tr>\n",
    "</table>\n",
    "</body>\n",
    "</html>"
   ]
  },
  {
   "cell_type": "markdown",
   "metadata": {},
   "source": [
    "Красным отмечены критичные или почти критичные позиции - где лимитов пользователям недостаточно, синим (с оттенками) - где лимиты используются менее чем на 20% (5%)."
   ]
  },
  {
   "cell_type": "markdown",
   "metadata": {},
   "source": [
    "Информация по переплатам:"
   ]
  },
  {
   "cell_type": "code",
   "execution_count": 83,
   "metadata": {
    "scrolled": true
   },
   "outputs": [
    {
     "name": "stdout",
     "output_type": "stream",
     "text": [
      "Среднее превышение пакета интернет по тарифу \"Смарт\" - 2756 Мб на сумму - 600 руб.\n",
      "Среднее превышение пакета минут по тарифу \"Смарт\" - 42 мин на сумму - 126 руб.\n",
      "Среднее превышение пакета СМС по тарифу \"Смарт\" - 6 шт. на сумму - 18 руб.\n",
      "----------------------------------------------------------------\n",
      "Среднее превышение пакета интернет по тарифу \"Ультра\" - 750 Мб на сумму - 150 руб.\n",
      "Среднее превышение пакета минут по тарифу \"Ультра\" - 0 мин на сумму - 0 руб.\n",
      "Среднее превышение пакета СМС по тарифу \"Ультра\" - 0 шт. на сумму - 0 руб.\n"
     ]
    }
   ],
   "source": [
    "smart_over_mean_internet = df_event_numbers[(df_event_numbers['Тариф'] == 'smart')]['Мб сверх'].mean()\n",
    "smart_over_mean_internet_rub = np.round(smart_over_mean_internet, -3)/1000 * 200\n",
    "print('Среднее превышение пакета интернет по тарифу \"Смарт\" - {:.0f} Мб на сумму - {:.0f} руб.'.\n",
    "      format(smart_over_mean_internet, smart_over_mean_internet_rub))\n",
    "\n",
    "smart_over_mean_calls = np.ceil(df_event_numbers[(df_event_numbers['Тариф'] == 'smart')]['Минуты сверх'].mean())\n",
    "smart_over_mean_calls_rub = smart_over_mean_calls * 3\n",
    "print('Среднее превышение пакета минут по тарифу \"Смарт\" - {:.0f} мин на сумму - {:.0f} руб.'.\n",
    "      format(smart_over_mean_calls, smart_over_mean_calls_rub))\n",
    "\n",
    "smart_over_mean_sms = np.ceil(df_event_numbers[(df_event_numbers['Тариф'] == 'smart')]['СМС сверх'].mean())\n",
    "smart_over_mean_sms_rub = smart_over_mean_sms * 3\n",
    "print('Среднее превышение пакета СМС по тарифу \"Смарт\" - {:.0f} шт. на сумму - {:.0f} руб.'.\n",
    "      format(smart_over_mean_sms, smart_over_mean_sms_rub))\n",
    "\n",
    "print('----------------------------------------------------------------')\n",
    "\n",
    "ultra_over_mean_internet = df_event_numbers[(df_event_numbers['Тариф'] == 'ultra')]['Мб сверх'].mean()\n",
    "ultra_over_mean_internet_rub = np.round(ultra_over_mean_internet, -3)/1000 * 150\n",
    "print('Среднее превышение пакета интернет по тарифу \"Ультра\" - {:.0f} Мб на сумму - {:.0f} руб.'.\n",
    "      format(ultra_over_mean_internet, ultra_over_mean_internet_rub))\n",
    "\n",
    "ultra_over_mean_calls = np.ceil(df_event_numbers[(df_event_numbers['Тариф'] == 'ultra')]['Минуты сверх'].mean())\n",
    "ultra_over_mean_calls_rub = ultra_over_mean_calls * 3\n",
    "print('Среднее превышение пакета минут по тарифу \"Ультра\" - {:.0f} мин на сумму - {:.0f} руб.'.\n",
    "      format(ultra_over_mean_calls, ultra_over_mean_calls_rub))\n",
    "\n",
    "ultra_over_mean_sms = np.ceil(df_event_numbers[(df_event_numbers['Тариф'] == 'ultra')]['СМС сверх'].mean())\n",
    "ultra_over_mean_sms_rub = ultra_over_mean_sms * 3\n",
    "print('Среднее превышение пакета СМС по тарифу \"Ультра\" - {:.0f} шт. на сумму - {:.0f} руб.'.\n",
    "      format(ultra_over_mean_sms, ultra_over_mean_sms_rub))"
   ]
  },
  {
   "cell_type": "markdown",
   "metadata": {},
   "source": [
    "<br/>\n",
    "<html>\n",
    "<body>\n",
    "<table border=\"1\">\n",
    "<tr>\n",
    "<td> &nbsp; </td>\n",
    "<td colspan=2 style=\"text-align:center;\"><strong style=\"font-size:11px;\"><b>Среднее превышение пакета интернет и переплата</b></strong></td>\n",
    "<td colspan=2 style=\"text-align:center;\"><strong style=\"font-size:11px;\"><b>Среднее превышение пакета минут и переплата</b></strong></td>\n",
    "<td colspan=2 style=\"text-align:center;\"><strong style=\"font-size:11px;\"><b>Среднее превышение пакета минут пакета СМС и переплата</b></strong></td>  \n",
    "</tr>\n",
    "<tr>\n",
    "<td style=\"background-color:#92c6ff; font-size: 12px;\"> <b>Тариф \"Смарт\" </b></td>\n",
    "<td>2771 Мб</td>\n",
    "<td>600 руб.</td>\n",
    "<td>42 мин</td>\n",
    "<td>126 руб.</td>\n",
    "<td>6 шт.</td>\n",
    "<td>18 руб.</td>\n",
    "</tr>\n",
    "<tr>\n",
    "<td style=\"background-color:#97F0AA; font-size: 11px;\"> <b>Тариф \"Ультра\"</b></td>\n",
    "<td>755 Мб</td>\n",
    "<td>150 руб.</td>\n",
    "<td>0</td>\n",
    "<td>0</td>\n",
    "<td>0</td>\n",
    "<td>0</td>\n",
    "</tr>\n",
    "</table>\n",
    "</body>\n",
    "</html>"
   ]
  },
  {
   "cell_type": "markdown",
   "metadata": {},
   "source": [
    "Для наглядности еще раз выведем информацию по выручке по тарифам"
   ]
  },
  {
   "cell_type": "code",
   "execution_count": 84,
   "metadata": {},
   "outputs": [
    {
     "data": {
      "image/png": "[encoded data removed]",
      "text/plain": [
       "<Figure size 1440x360 with 1 Axes>"
      ]
     },
     "metadata": {},
     "output_type": "display_data"
    }
   ],
   "source": [
    "all_revenue = df_event_numbers['Сумма за месяц, руб.'].sum()\n",
    "\n",
    "\n",
    "def func_pct(pct):\n",
    "    value = float(pct/100.*all_revenue)\n",
    "    return \"{:.2f}%\\n({:,.0f} руб.)\".format(pct, value)\n",
    "\n",
    "explode = (0.05, 0)  # сектор 'ultra' немного выдвинем\n",
    "\n",
    "axes = df_event_numbers.groupby('Тариф')['Сумма за месяц, руб.'].sum().plot(kind='pie', subplots=True, fontsize=15,\n",
    "                                                                     use_index=False, shadow=True, explode=explode,\n",
    "                                                                     title = 'Выручка', pctdistance=0.45,\n",
    "                                                                     startangle=20, figsize=(20,5),\n",
    "                                                                     autopct=lambda pct: func_pct(pct))\n",
    "\n",
    "for ax in axes:\n",
    "    ax.legend(['Смарт', 'Ультра'], bbox_to_anchor=(0.87,0.87), framealpha=0.2, prop={'size':12})\n",
    "    ax.set_ylabel('')\n",
    "    \n",
    "ax.title.set_size(40)\n",
    "plt.tight_layout(pad=0)"
   ]
  },
  {
   "cell_type": "markdown",
   "metadata": {},
   "source": [
    "Тариф <font color=#0F74F1><b>Смарт</b></font> приносит около 60% всей выручки, но при этом на него приходится 2200 пользователей. Тариф <font color=#20B605><b>Ультра</b></font> дает остальные 40%, но эту выручку генерируют всего 1000 пользователей.<br/>\n",
    "Среднему пользователю тарифа <font color=#0F74F1><b>Смарт</b></font> не хватает 2 Гб интернета к заложенными в абонентскую плату 15 Гб и ему приходится дозаказывать эти 2 Гб и доплачивать за них 400 рублей.<br/>\n",
    "Если рассматривать только тех пользователей <font color=#0F74F1><b>Смарт</b></font>, кто вылезает за лимиты по интернет-трафику, то средний размер доп. заказа интернет-трафика равен 3 Гб, за которые они платят 600 рублей.<br/><br/>\n",
    "Таким образом, в тарифной сетке есть дешевый тариф <font color=#0F74F1><b>Смарт</b></font> за 550 рублей, где пользователю не хватает интернета и количество использованных минут разговора на грани лимита (418 мин из 500), и есть тариф <font color=#20B605><b>Ультра</b></font>, стоимостью 1950 рублей, которым пользуется уже другой класс граждан, где лимитов по всем типам связи предостаточно (иногда дозаказывают в среднем 1 Гб интернета).<br/>\n",
    "<br/><br/>"
   ]
  }
 ],
 "metadata": {
  "ExecuteTimeLog": [
   {
    "duration": 706,
    "start_time": "2022-02-15T10:54:14.078Z"
   },
   {
    "duration": 70,
    "start_time": "2022-02-15T11:20:20.866Z"
   },
   {
    "duration": 372,
    "start_time": "2022-02-15T11:21:00.315Z"
   },
   {
    "duration": 56,
    "start_time": "2022-02-15T11:21:02.110Z"
   },
   {
    "duration": 20,
    "start_time": "2022-02-15T11:32:41.025Z"
   },
   {
    "duration": 16,
    "start_time": "2022-02-15T11:33:19.483Z"
   },
   {
    "duration": 9,
    "start_time": "2022-02-15T11:33:20.044Z"
   },
   {
    "duration": 8,
    "start_time": "2022-02-15T11:33:20.661Z"
   },
   {
    "duration": 7,
    "start_time": "2022-02-15T11:33:21.170Z"
   },
   {
    "duration": 9,
    "start_time": "2022-02-15T11:33:22.001Z"
   },
   {
    "duration": 22,
    "start_time": "2022-02-15T11:36:02.209Z"
   },
   {
    "duration": 17,
    "start_time": "2022-02-15T11:39:06.448Z"
   },
   {
    "duration": 71,
    "start_time": "2022-02-15T11:43:11.271Z"
   },
   {
    "duration": 13,
    "start_time": "2022-02-15T11:45:45.704Z"
   },
   {
    "duration": 6,
    "start_time": "2022-02-15T11:47:23.887Z"
   },
   {
    "duration": 6,
    "start_time": "2022-02-15T11:48:07.474Z"
   },
   {
    "duration": 3,
    "start_time": "2022-02-15T11:52:20.707Z"
   },
   {
    "duration": 418,
    "start_time": "2022-02-15T11:52:20.712Z"
   },
   {
    "duration": 7,
    "start_time": "2022-02-15T11:52:21.133Z"
   },
   {
    "duration": 22,
    "start_time": "2022-02-15T11:52:21.142Z"
   },
   {
    "duration": 7,
    "start_time": "2022-02-15T11:52:21.166Z"
   },
   {
    "duration": 19,
    "start_time": "2022-02-15T11:52:21.175Z"
   },
   {
    "duration": 6,
    "start_time": "2022-02-15T11:52:21.195Z"
   },
   {
    "duration": 19,
    "start_time": "2022-02-15T11:52:21.203Z"
   },
   {
    "duration": 7,
    "start_time": "2022-02-15T11:52:21.225Z"
   },
   {
    "duration": 8,
    "start_time": "2022-02-15T11:52:21.233Z"
   },
   {
    "duration": 12,
    "start_time": "2022-02-15T11:52:21.242Z"
   },
   {
    "duration": 6,
    "start_time": "2022-02-15T11:52:21.255Z"
   },
   {
    "duration": 2,
    "start_time": "2022-02-15T11:52:51.700Z"
   },
   {
    "duration": 384,
    "start_time": "2022-02-15T11:52:51.704Z"
   },
   {
    "duration": 7,
    "start_time": "2022-02-15T11:52:52.090Z"
   },
   {
    "duration": 20,
    "start_time": "2022-02-15T11:52:52.099Z"
   },
   {
    "duration": 7,
    "start_time": "2022-02-15T11:52:52.120Z"
   },
   {
    "duration": 19,
    "start_time": "2022-02-15T11:52:52.128Z"
   },
   {
    "duration": 6,
    "start_time": "2022-02-15T11:52:52.148Z"
   },
   {
    "duration": 16,
    "start_time": "2022-02-15T11:52:52.156Z"
   },
   {
    "duration": 7,
    "start_time": "2022-02-15T11:52:52.174Z"
   },
   {
    "duration": 32,
    "start_time": "2022-02-15T11:52:52.182Z"
   },
   {
    "duration": 11,
    "start_time": "2022-02-15T11:52:52.216Z"
   },
   {
    "duration": 7,
    "start_time": "2022-02-15T11:52:52.229Z"
   },
   {
    "duration": 358,
    "start_time": "2022-02-15T12:09:06.209Z"
   },
   {
    "duration": 3,
    "start_time": "2022-02-15T12:09:09.736Z"
   },
   {
    "duration": 4935,
    "start_time": "2022-02-15T12:09:44.349Z"
   },
   {
    "duration": 323,
    "start_time": "2022-02-15T13:36:27.438Z"
   },
   {
    "duration": 757,
    "start_time": "2022-02-15T13:36:32.516Z"
   },
   {
    "duration": 471,
    "start_time": "2022-02-15T13:36:33.275Z"
   },
   {
    "duration": 21,
    "start_time": "2022-02-15T13:36:33.750Z"
   },
   {
    "duration": 30,
    "start_time": "2022-02-15T13:36:33.774Z"
   },
   {
    "duration": 11,
    "start_time": "2022-02-15T13:36:33.807Z"
   },
   {
    "duration": 49,
    "start_time": "2022-02-15T13:36:33.820Z"
   },
   {
    "duration": 9,
    "start_time": "2022-02-15T13:36:33.872Z"
   },
   {
    "duration": 18,
    "start_time": "2022-02-15T13:36:33.884Z"
   },
   {
    "duration": 45,
    "start_time": "2022-02-15T13:36:33.905Z"
   },
   {
    "duration": 11,
    "start_time": "2022-02-15T13:36:33.953Z"
   },
   {
    "duration": 14,
    "start_time": "2022-02-15T13:36:33.967Z"
   },
   {
    "duration": 10,
    "start_time": "2022-02-15T13:36:33.984Z"
   },
   {
    "duration": 6,
    "start_time": "2022-02-15T13:36:33.996Z"
   },
   {
    "duration": 7304,
    "start_time": "2022-02-15T13:36:34.004Z"
   },
   {
    "duration": 276,
    "start_time": "2022-02-15T13:47:45.167Z"
   },
   {
    "duration": 373,
    "start_time": "2022-02-17T15:07:13.527Z"
   },
   {
    "duration": 705,
    "start_time": "2022-02-17T15:07:17.740Z"
   },
   {
    "duration": 455,
    "start_time": "2022-02-17T15:07:18.447Z"
   },
   {
    "duration": 16,
    "start_time": "2022-02-17T15:07:18.905Z"
   },
   {
    "duration": 23,
    "start_time": "2022-02-17T15:07:18.923Z"
   },
   {
    "duration": 14,
    "start_time": "2022-02-17T15:07:18.948Z"
   },
   {
    "duration": 13,
    "start_time": "2022-02-17T15:07:18.964Z"
   },
   {
    "duration": 24,
    "start_time": "2022-02-17T15:07:18.979Z"
   },
   {
    "duration": 38,
    "start_time": "2022-02-17T15:07:19.004Z"
   },
   {
    "duration": 15,
    "start_time": "2022-02-17T15:07:19.045Z"
   },
   {
    "duration": 11,
    "start_time": "2022-02-17T15:07:19.062Z"
   },
   {
    "duration": 7,
    "start_time": "2022-02-17T15:07:19.074Z"
   },
   {
    "duration": 9,
    "start_time": "2022-02-17T15:07:19.083Z"
   },
   {
    "duration": 5,
    "start_time": "2022-02-17T15:07:19.093Z"
   },
   {
    "duration": 157,
    "start_time": "2022-02-17T15:07:19.133Z"
   },
   {
    "duration": 258,
    "start_time": "2022-02-17T15:09:30.404Z"
   },
   {
    "duration": 254,
    "start_time": "2022-02-17T15:09:37.689Z"
   },
   {
    "duration": 367,
    "start_time": "2022-02-17T15:09:51.920Z"
   },
   {
    "duration": 259,
    "start_time": "2022-02-17T15:09:56.726Z"
   },
   {
    "duration": 20,
    "start_time": "2022-02-17T15:13:10.095Z"
   },
   {
    "duration": 322,
    "start_time": "2022-02-17T15:18:53.954Z"
   },
   {
    "duration": 408,
    "start_time": "2022-02-17T15:18:57.821Z"
   },
   {
    "duration": 93,
    "start_time": "2022-02-17T15:35:43.775Z"
   },
   {
    "duration": 92,
    "start_time": "2022-02-17T15:35:43.777Z"
   },
   {
    "duration": 92,
    "start_time": "2022-02-17T15:35:43.778Z"
   },
   {
    "duration": 92,
    "start_time": "2022-02-17T15:35:43.779Z"
   },
   {
    "duration": 92,
    "start_time": "2022-02-17T15:35:43.780Z"
   },
   {
    "duration": 86,
    "start_time": "2022-02-17T15:35:43.787Z"
   },
   {
    "duration": 85,
    "start_time": "2022-02-17T15:35:43.789Z"
   },
   {
    "duration": 85,
    "start_time": "2022-02-17T15:35:43.790Z"
   },
   {
    "duration": 86,
    "start_time": "2022-02-17T15:35:43.791Z"
   },
   {
    "duration": 86,
    "start_time": "2022-02-17T15:35:43.792Z"
   },
   {
    "duration": 86,
    "start_time": "2022-02-17T15:35:43.793Z"
   },
   {
    "duration": 91,
    "start_time": "2022-02-17T15:35:43.794Z"
   },
   {
    "duration": 92,
    "start_time": "2022-02-17T15:35:43.794Z"
   },
   {
    "duration": 93,
    "start_time": "2022-02-17T15:35:43.795Z"
   },
   {
    "duration": 93,
    "start_time": "2022-02-17T15:35:43.796Z"
   },
   {
    "duration": 94,
    "start_time": "2022-02-17T15:35:43.797Z"
   },
   {
    "duration": 81,
    "start_time": "2022-02-17T15:35:43.811Z"
   },
   {
    "duration": 81,
    "start_time": "2022-02-17T15:35:43.812Z"
   },
   {
    "duration": 4,
    "start_time": "2022-02-17T15:35:53.071Z"
   },
   {
    "duration": 502,
    "start_time": "2022-02-17T15:35:53.077Z"
   },
   {
    "duration": 10,
    "start_time": "2022-02-17T15:35:53.582Z"
   },
   {
    "duration": 32,
    "start_time": "2022-02-17T15:35:53.594Z"
   },
   {
    "duration": 12,
    "start_time": "2022-02-17T15:35:53.628Z"
   },
   {
    "duration": 415,
    "start_time": "2022-02-17T15:35:53.643Z"
   },
   {
    "duration": 22,
    "start_time": "2022-02-17T15:35:54.061Z"
   },
   {
    "duration": 8,
    "start_time": "2022-02-17T15:35:54.086Z"
   },
   {
    "duration": 51,
    "start_time": "2022-02-17T15:35:54.096Z"
   },
   {
    "duration": 5,
    "start_time": "2022-02-17T15:35:54.149Z"
   },
   {
    "duration": 89,
    "start_time": "2022-02-17T15:36:10.256Z"
   },
   {
    "duration": 87,
    "start_time": "2022-02-17T15:36:10.259Z"
   },
   {
    "duration": 87,
    "start_time": "2022-02-17T15:36:10.260Z"
   },
   {
    "duration": 86,
    "start_time": "2022-02-17T15:36:10.262Z"
   },
   {
    "duration": 87,
    "start_time": "2022-02-17T15:36:10.263Z"
   },
   {
    "duration": 87,
    "start_time": "2022-02-17T15:36:10.264Z"
   },
   {
    "duration": 88,
    "start_time": "2022-02-17T15:36:10.265Z"
   },
   {
    "duration": 88,
    "start_time": "2022-02-17T15:36:10.266Z"
   },
   {
    "duration": 6,
    "start_time": "2022-02-17T15:36:13.381Z"
   },
   {
    "duration": 9,
    "start_time": "2022-02-17T15:46:44.240Z"
   },
   {
    "duration": 18,
    "start_time": "2022-02-17T15:56:40.174Z"
   },
   {
    "duration": 5,
    "start_time": "2022-02-17T15:58:02.783Z"
   },
   {
    "duration": 8,
    "start_time": "2022-02-17T15:58:10.873Z"
   },
   {
    "duration": 6,
    "start_time": "2022-02-17T16:01:14.688Z"
   },
   {
    "duration": 14,
    "start_time": "2022-02-17T16:01:17.337Z"
   },
   {
    "duration": 8,
    "start_time": "2022-02-17T16:04:46.438Z"
   },
   {
    "duration": 7,
    "start_time": "2022-02-17T16:04:48.898Z"
   },
   {
    "duration": 9,
    "start_time": "2022-02-17T16:05:52.162Z"
   },
   {
    "duration": 6,
    "start_time": "2022-02-17T16:05:53.132Z"
   },
   {
    "duration": 374,
    "start_time": "2022-02-17T16:08:09.711Z"
   },
   {
    "duration": 245,
    "start_time": "2022-02-17T16:08:30.600Z"
   },
   {
    "duration": 17,
    "start_time": "2022-02-17T16:10:35.017Z"
   },
   {
    "duration": 341,
    "start_time": "2022-02-17T16:12:34.242Z"
   },
   {
    "duration": 318,
    "start_time": "2022-02-17T16:12:57.507Z"
   },
   {
    "duration": 124,
    "start_time": "2022-02-17T16:13:01.323Z"
   },
   {
    "duration": 240,
    "start_time": "2022-02-17T16:13:13.402Z"
   },
   {
    "duration": 24,
    "start_time": "2022-02-17T16:13:35.344Z"
   },
   {
    "duration": 244,
    "start_time": "2022-02-17T16:13:37.195Z"
   },
   {
    "duration": 9,
    "start_time": "2022-02-17T16:18:46.592Z"
   },
   {
    "duration": 7,
    "start_time": "2022-02-17T16:18:54.457Z"
   },
   {
    "duration": 7507,
    "start_time": "2022-02-17T16:52:48.094Z"
   },
   {
    "duration": 7,
    "start_time": "2022-02-17T16:53:36.757Z"
   },
   {
    "duration": 4,
    "start_time": "2022-02-17T16:53:44.090Z"
   },
   {
    "duration": 660,
    "start_time": "2022-02-17T16:53:46.038Z"
   },
   {
    "duration": 5,
    "start_time": "2022-02-17T16:54:06.756Z"
   },
   {
    "duration": 800,
    "start_time": "2022-02-17T16:54:08.544Z"
   },
   {
    "duration": 110,
    "start_time": "2022-02-17T16:55:04.363Z"
   },
   {
    "duration": 3,
    "start_time": "2022-02-17T16:55:29.090Z"
   },
   {
    "duration": 618,
    "start_time": "2022-02-17T16:55:30.922Z"
   },
   {
    "duration": 4,
    "start_time": "2022-02-17T16:56:18.346Z"
   },
   {
    "duration": 651,
    "start_time": "2022-02-17T16:56:20.248Z"
   },
   {
    "duration": 6,
    "start_time": "2022-02-17T16:56:27.816Z"
   },
   {
    "duration": 716,
    "start_time": "2022-02-17T16:56:29.425Z"
   },
   {
    "duration": 5,
    "start_time": "2022-02-17T16:56:42.102Z"
   },
   {
    "duration": 814,
    "start_time": "2022-02-17T16:56:43.699Z"
   },
   {
    "duration": 4,
    "start_time": "2022-02-17T16:57:41.942Z"
   },
   {
    "duration": 902,
    "start_time": "2022-02-17T16:57:44.292Z"
   },
   {
    "duration": 5,
    "start_time": "2022-02-17T16:58:10.949Z"
   },
   {
    "duration": 3075,
    "start_time": "2022-02-17T16:58:12.408Z"
   },
   {
    "duration": 871,
    "start_time": "2022-02-17T16:58:56.772Z"
   },
   {
    "duration": 4,
    "start_time": "2022-02-17T16:59:45.601Z"
   },
   {
    "duration": 621,
    "start_time": "2022-02-17T16:59:47.700Z"
   },
   {
    "duration": 4,
    "start_time": "2022-02-17T16:59:52.600Z"
   },
   {
    "duration": 835,
    "start_time": "2022-02-17T16:59:54.307Z"
   },
   {
    "duration": 3,
    "start_time": "2022-02-17T17:00:15.536Z"
   },
   {
    "duration": 647,
    "start_time": "2022-02-17T17:00:17.599Z"
   },
   {
    "duration": 4,
    "start_time": "2022-02-17T17:00:23.699Z"
   },
   {
    "duration": 656,
    "start_time": "2022-02-17T17:00:29.443Z"
   },
   {
    "duration": 3,
    "start_time": "2022-02-17T17:00:55.137Z"
   },
   {
    "duration": 821,
    "start_time": "2022-02-17T17:00:57.237Z"
   },
   {
    "duration": 4,
    "start_time": "2022-02-18T13:26:30.423Z"
   },
   {
    "duration": 651,
    "start_time": "2022-02-18T13:26:33.601Z"
   },
   {
    "duration": 399,
    "start_time": "2022-02-18T13:26:34.254Z"
   },
   {
    "duration": 13,
    "start_time": "2022-02-18T13:26:34.655Z"
   },
   {
    "duration": 21,
    "start_time": "2022-02-18T13:26:34.669Z"
   },
   {
    "duration": 10,
    "start_time": "2022-02-18T13:26:34.691Z"
   },
   {
    "duration": 285,
    "start_time": "2022-02-18T13:26:34.703Z"
   },
   {
    "duration": 18,
    "start_time": "2022-02-18T13:26:34.990Z"
   },
   {
    "duration": 8,
    "start_time": "2022-02-18T13:26:35.009Z"
   },
   {
    "duration": 25,
    "start_time": "2022-02-18T13:26:35.032Z"
   },
   {
    "duration": 6,
    "start_time": "2022-02-18T13:26:35.059Z"
   },
   {
    "duration": 8,
    "start_time": "2022-02-18T13:26:35.066Z"
   },
   {
    "duration": 7,
    "start_time": "2022-02-18T13:26:35.076Z"
   },
   {
    "duration": 47,
    "start_time": "2022-02-18T13:26:35.085Z"
   },
   {
    "duration": 7,
    "start_time": "2022-02-18T13:26:35.134Z"
   },
   {
    "duration": 11,
    "start_time": "2022-02-18T13:26:35.144Z"
   },
   {
    "duration": 312,
    "start_time": "2022-02-18T13:26:35.158Z"
   },
   {
    "duration": 15,
    "start_time": "2022-02-18T13:26:35.472Z"
   },
   {
    "duration": 43,
    "start_time": "2022-02-18T13:26:35.489Z"
   },
   {
    "duration": 328,
    "start_time": "2022-02-18T13:26:35.535Z"
   },
   {
    "duration": 8,
    "start_time": "2022-02-18T13:26:35.865Z"
   },
   {
    "duration": 16,
    "start_time": "2022-02-18T13:26:35.875Z"
   },
   {
    "duration": 8,
    "start_time": "2022-02-18T13:26:35.893Z"
   },
   {
    "duration": 31,
    "start_time": "2022-02-18T13:26:35.903Z"
   },
   {
    "duration": 15,
    "start_time": "2022-02-18T13:26:35.935Z"
   },
   {
    "duration": 9,
    "start_time": "2022-02-18T13:26:35.952Z"
   },
   {
    "duration": 7,
    "start_time": "2022-02-18T13:26:35.963Z"
   },
   {
    "duration": 6,
    "start_time": "2022-02-18T13:26:35.973Z"
   },
   {
    "duration": 4,
    "start_time": "2022-02-18T13:26:35.981Z"
   },
   {
    "duration": 675,
    "start_time": "2022-02-18T13:26:35.987Z"
   },
   {
    "duration": 4,
    "start_time": "2022-02-18T13:27:00.084Z"
   },
   {
    "duration": 647,
    "start_time": "2022-02-18T13:27:01.641Z"
   },
   {
    "duration": 3,
    "start_time": "2022-02-18T13:27:14.860Z"
   },
   {
    "duration": 3795,
    "start_time": "2022-02-18T13:27:15.988Z"
   },
   {
    "duration": 11,
    "start_time": "2022-02-18T13:37:08.754Z"
   },
   {
    "duration": 320,
    "start_time": "2022-02-18T13:38:56.505Z"
   },
   {
    "duration": 67,
    "start_time": "2022-02-18T13:39:12.383Z"
   },
   {
    "duration": 3,
    "start_time": "2022-02-18T13:39:56.658Z"
   },
   {
    "duration": 379,
    "start_time": "2022-02-18T13:39:56.663Z"
   },
   {
    "duration": 7,
    "start_time": "2022-02-18T13:39:57.044Z"
   },
   {
    "duration": 20,
    "start_time": "2022-02-18T13:39:57.053Z"
   },
   {
    "duration": 9,
    "start_time": "2022-02-18T13:39:57.075Z"
   },
   {
    "duration": 268,
    "start_time": "2022-02-18T13:39:57.086Z"
   },
   {
    "duration": 15,
    "start_time": "2022-02-18T13:39:57.355Z"
   },
   {
    "duration": 7,
    "start_time": "2022-02-18T13:39:57.372Z"
   },
   {
    "duration": 15,
    "start_time": "2022-02-18T13:39:57.381Z"
   },
   {
    "duration": 4,
    "start_time": "2022-02-18T13:39:57.398Z"
   },
   {
    "duration": 7,
    "start_time": "2022-02-18T13:39:57.432Z"
   },
   {
    "duration": 7,
    "start_time": "2022-02-18T13:39:57.441Z"
   },
   {
    "duration": 13,
    "start_time": "2022-02-18T13:39:57.450Z"
   },
   {
    "duration": 4,
    "start_time": "2022-02-18T13:39:57.465Z"
   },
   {
    "duration": 8,
    "start_time": "2022-02-18T13:39:57.471Z"
   },
   {
    "duration": 272,
    "start_time": "2022-02-18T13:39:57.481Z"
   },
   {
    "duration": 15,
    "start_time": "2022-02-18T13:39:57.755Z"
   },
   {
    "duration": 22,
    "start_time": "2022-02-18T13:39:57.772Z"
   },
   {
    "duration": 261,
    "start_time": "2022-02-18T13:39:57.796Z"
   },
   {
    "duration": 6,
    "start_time": "2022-02-18T13:39:58.059Z"
   },
   {
    "duration": 13,
    "start_time": "2022-02-18T13:39:58.066Z"
   },
   {
    "duration": 7,
    "start_time": "2022-02-18T13:39:58.081Z"
   },
   {
    "duration": 5,
    "start_time": "2022-02-18T13:39:58.090Z"
   },
   {
    "duration": 37,
    "start_time": "2022-02-18T13:39:58.097Z"
   },
   {
    "duration": 6,
    "start_time": "2022-02-18T13:39:58.136Z"
   },
   {
    "duration": 7,
    "start_time": "2022-02-18T13:39:58.143Z"
   },
   {
    "duration": 57,
    "start_time": "2022-02-18T13:39:58.152Z"
   },
   {
    "duration": 2,
    "start_time": "2022-02-18T13:39:58.211Z"
   },
   {
    "duration": 19,
    "start_time": "2022-02-18T13:39:58.214Z"
   },
   {
    "duration": 8,
    "start_time": "2022-02-18T14:07:30.345Z"
   },
   {
    "duration": 47,
    "start_time": "2022-02-18T14:47:44.537Z"
   },
   {
    "duration": 10,
    "start_time": "2022-02-18T14:47:53.706Z"
   },
   {
    "duration": 8,
    "start_time": "2022-02-18T14:48:15.889Z"
   },
   {
    "duration": 10,
    "start_time": "2022-02-18T14:48:16.144Z"
   },
   {
    "duration": 9,
    "start_time": "2022-02-18T14:48:16.602Z"
   },
   {
    "duration": 492,
    "start_time": "2022-02-18T14:54:43.904Z"
   },
   {
    "duration": 20,
    "start_time": "2022-02-18T14:54:55.571Z"
   },
   {
    "duration": 18,
    "start_time": "2022-02-18T14:55:02.043Z"
   },
   {
    "duration": 8,
    "start_time": "2022-02-18T14:58:10.813Z"
   },
   {
    "duration": 8,
    "start_time": "2022-02-18T14:58:22.685Z"
   },
   {
    "duration": 222,
    "start_time": "2022-02-18T15:04:26.119Z"
   },
   {
    "duration": 219,
    "start_time": "2022-02-18T15:14:18.938Z"
   },
   {
    "duration": 4294,
    "start_time": "2022-02-18T15:17:17.866Z"
   },
   {
    "duration": 10,
    "start_time": "2022-02-18T15:18:05.776Z"
   },
   {
    "duration": 11,
    "start_time": "2022-02-18T15:36:19.903Z"
   },
   {
    "duration": 2738,
    "start_time": "2022-02-18T15:40:13.152Z"
   },
   {
    "duration": 312,
    "start_time": "2022-02-18T15:41:01.083Z"
   },
   {
    "duration": 299,
    "start_time": "2022-02-18T15:41:15.188Z"
   },
   {
    "duration": 311,
    "start_time": "2022-02-18T15:41:27.581Z"
   },
   {
    "duration": 17,
    "start_time": "2022-02-18T15:52:58.359Z"
   },
   {
    "duration": 14,
    "start_time": "2022-02-18T15:53:06.249Z"
   },
   {
    "duration": 97,
    "start_time": "2022-02-18T15:53:14.074Z"
   },
   {
    "duration": 19,
    "start_time": "2022-02-18T15:53:16.712Z"
   },
   {
    "duration": 21,
    "start_time": "2022-02-18T15:53:24.889Z"
   },
   {
    "duration": 104,
    "start_time": "2022-02-18T16:15:18.704Z"
   },
   {
    "duration": 7448,
    "start_time": "2022-02-18T16:15:50.937Z"
   },
   {
    "duration": 7452,
    "start_time": "2022-02-18T16:16:22.202Z"
   },
   {
    "duration": 315,
    "start_time": "2022-02-18T16:16:48.473Z"
   },
   {
    "duration": 12,
    "start_time": "2022-02-19T08:12:12.115Z"
   },
   {
    "duration": 1117,
    "start_time": "2022-02-19T08:12:30.784Z"
   },
   {
    "duration": 520,
    "start_time": "2022-02-19T08:12:31.904Z"
   },
   {
    "duration": 16,
    "start_time": "2022-02-19T08:12:32.427Z"
   },
   {
    "duration": 27,
    "start_time": "2022-02-19T08:12:32.446Z"
   },
   {
    "duration": 14,
    "start_time": "2022-02-19T08:12:32.476Z"
   },
   {
    "duration": 496,
    "start_time": "2022-02-19T08:12:32.493Z"
   },
   {
    "duration": 50,
    "start_time": "2022-02-19T08:12:32.992Z"
   },
   {
    "duration": 17,
    "start_time": "2022-02-19T08:12:33.045Z"
   },
   {
    "duration": 22,
    "start_time": "2022-02-19T08:12:33.066Z"
   },
   {
    "duration": 7,
    "start_time": "2022-02-19T08:12:33.091Z"
   },
   {
    "duration": 14,
    "start_time": "2022-02-19T08:12:33.101Z"
   },
   {
    "duration": 55,
    "start_time": "2022-02-19T08:12:33.117Z"
   },
   {
    "duration": 27,
    "start_time": "2022-02-19T08:12:33.175Z"
   },
   {
    "duration": 7,
    "start_time": "2022-02-19T08:12:33.204Z"
   },
   {
    "duration": 49,
    "start_time": "2022-02-19T08:12:33.214Z"
   },
   {
    "duration": 451,
    "start_time": "2022-02-19T08:12:33.265Z"
   },
   {
    "duration": 42,
    "start_time": "2022-02-19T08:12:33.719Z"
   },
   {
    "duration": 37,
    "start_time": "2022-02-19T08:12:33.764Z"
   },
   {
    "duration": 526,
    "start_time": "2022-02-19T08:12:33.803Z"
   },
   {
    "duration": 11,
    "start_time": "2022-02-19T08:12:34.331Z"
   },
   {
    "duration": 33,
    "start_time": "2022-02-19T08:12:34.345Z"
   },
   {
    "duration": 12,
    "start_time": "2022-02-19T08:12:34.381Z"
   },
   {
    "duration": 9,
    "start_time": "2022-02-19T08:12:34.395Z"
   },
   {
    "duration": 16,
    "start_time": "2022-02-19T08:12:34.407Z"
   },
   {
    "duration": 16,
    "start_time": "2022-02-19T08:12:34.461Z"
   },
   {
    "duration": 12,
    "start_time": "2022-02-19T08:12:34.479Z"
   },
   {
    "duration": 143,
    "start_time": "2022-02-19T08:12:34.498Z"
   },
   {
    "duration": 4,
    "start_time": "2022-02-19T08:12:34.645Z"
   },
   {
    "duration": 3,
    "start_time": "2022-02-19T08:12:34.662Z"
   },
   {
    "duration": 73,
    "start_time": "2022-02-19T08:12:34.668Z"
   },
   {
    "duration": 34,
    "start_time": "2022-02-19T08:12:34.743Z"
   },
   {
    "duration": 11,
    "start_time": "2022-02-19T08:12:34.780Z"
   },
   {
    "duration": 13,
    "start_time": "2022-02-19T08:12:34.794Z"
   },
   {
    "duration": 53,
    "start_time": "2022-02-19T08:12:34.810Z"
   },
   {
    "duration": 8,
    "start_time": "2022-02-19T08:12:34.865Z"
   },
   {
    "duration": 624,
    "start_time": "2022-02-19T08:12:59.772Z"
   },
   {
    "duration": 64,
    "start_time": "2022-02-19T08:16:00.304Z"
   },
   {
    "duration": 49,
    "start_time": "2022-02-19T08:16:01.118Z"
   },
   {
    "duration": 15,
    "start_time": "2022-02-19T08:17:14.089Z"
   },
   {
    "duration": 1610,
    "start_time": "2022-02-19T08:18:01.467Z"
   },
   {
    "duration": 1368,
    "start_time": "2022-02-19T08:18:09.052Z"
   },
   {
    "duration": 24,
    "start_time": "2022-02-19T08:18:57.087Z"
   },
   {
    "duration": 4,
    "start_time": "2022-02-19T08:18:58.300Z"
   },
   {
    "duration": 21,
    "start_time": "2022-02-19T08:19:08.343Z"
   },
   {
    "duration": 621,
    "start_time": "2022-02-19T08:19:15.344Z"
   },
   {
    "duration": 11,
    "start_time": "2022-02-19T08:19:24.055Z"
   },
   {
    "duration": 17,
    "start_time": "2022-02-19T08:21:06.811Z"
   },
   {
    "duration": 7,
    "start_time": "2022-02-19T08:23:12.098Z"
   },
   {
    "duration": 10,
    "start_time": "2022-02-19T08:23:18.762Z"
   },
   {
    "duration": 7,
    "start_time": "2022-02-19T08:31:37.523Z"
   },
   {
    "duration": 17,
    "start_time": "2022-02-19T08:31:58.639Z"
   },
   {
    "duration": 11,
    "start_time": "2022-02-19T08:33:14.686Z"
   },
   {
    "duration": 2073,
    "start_time": "2022-02-19T08:34:17.467Z"
   },
   {
    "duration": 23,
    "start_time": "2022-02-19T08:34:31.337Z"
   },
   {
    "duration": 6,
    "start_time": "2022-02-19T08:36:03.549Z"
   },
   {
    "duration": 5,
    "start_time": "2022-02-19T08:36:04.532Z"
   },
   {
    "duration": 20,
    "start_time": "2022-02-19T08:36:14.116Z"
   },
   {
    "duration": 35,
    "start_time": "2022-02-19T08:48:16.424Z"
   },
   {
    "duration": 44,
    "start_time": "2022-02-19T08:49:07.659Z"
   },
   {
    "duration": 577,
    "start_time": "2022-02-19T08:51:04.647Z"
   },
   {
    "duration": 6,
    "start_time": "2022-02-19T08:51:12.530Z"
   },
   {
    "duration": 477,
    "start_time": "2022-02-19T08:51:59.042Z"
   },
   {
    "duration": 6,
    "start_time": "2022-02-19T08:52:36.399Z"
   },
   {
    "duration": 504,
    "start_time": "2022-02-19T08:52:39.325Z"
   },
   {
    "duration": 536,
    "start_time": "2022-02-19T09:25:36.594Z"
   },
   {
    "duration": 535,
    "start_time": "2022-02-19T09:26:33.768Z"
   },
   {
    "duration": 543,
    "start_time": "2022-02-19T09:26:46.490Z"
   },
   {
    "duration": 413,
    "start_time": "2022-02-19T09:29:10.175Z"
   },
   {
    "duration": 428,
    "start_time": "2022-02-19T09:30:02.921Z"
   },
   {
    "duration": 434,
    "start_time": "2022-02-19T09:30:37.086Z"
   },
   {
    "duration": 451,
    "start_time": "2022-02-19T09:30:55.725Z"
   },
   {
    "duration": 4,
    "start_time": "2022-02-19T09:31:40.917Z"
   },
   {
    "duration": 518,
    "start_time": "2022-02-19T09:31:40.924Z"
   },
   {
    "duration": 11,
    "start_time": "2022-02-19T09:31:41.446Z"
   },
   {
    "duration": 39,
    "start_time": "2022-02-19T09:31:41.460Z"
   },
   {
    "duration": 17,
    "start_time": "2022-02-19T09:31:41.502Z"
   },
   {
    "duration": 765,
    "start_time": "2022-02-19T09:31:41.523Z"
   },
   {
    "duration": 34,
    "start_time": "2022-02-19T09:31:42.291Z"
   },
   {
    "duration": 32,
    "start_time": "2022-02-19T09:31:42.331Z"
   },
   {
    "duration": 25,
    "start_time": "2022-02-19T09:31:42.368Z"
   },
   {
    "duration": 12,
    "start_time": "2022-02-19T09:31:42.396Z"
   },
   {
    "duration": 51,
    "start_time": "2022-02-19T09:31:42.410Z"
   },
   {
    "duration": 12,
    "start_time": "2022-02-19T09:31:42.464Z"
   },
   {
    "duration": 38,
    "start_time": "2022-02-19T09:31:42.478Z"
   },
   {
    "duration": 8,
    "start_time": "2022-02-19T09:31:42.519Z"
   },
   {
    "duration": 16,
    "start_time": "2022-02-19T09:31:42.561Z"
   },
   {
    "duration": 465,
    "start_time": "2022-02-19T09:31:42.580Z"
   },
   {
    "duration": 34,
    "start_time": "2022-02-19T09:31:43.047Z"
   },
   {
    "duration": 32,
    "start_time": "2022-02-19T09:31:43.083Z"
   },
   {
    "duration": 458,
    "start_time": "2022-02-19T09:31:43.117Z"
   },
   {
    "duration": 11,
    "start_time": "2022-02-19T09:31:43.577Z"
   },
   {
    "duration": 28,
    "start_time": "2022-02-19T09:31:43.591Z"
   },
   {
    "duration": 11,
    "start_time": "2022-02-19T09:31:43.622Z"
   },
   {
    "duration": 10,
    "start_time": "2022-02-19T09:31:43.666Z"
   },
   {
    "duration": 17,
    "start_time": "2022-02-19T09:31:43.680Z"
   },
   {
    "duration": 11,
    "start_time": "2022-02-19T09:31:43.699Z"
   },
   {
    "duration": 49,
    "start_time": "2022-02-19T09:31:43.712Z"
   },
   {
    "duration": 106,
    "start_time": "2022-02-19T09:31:43.765Z"
   },
   {
    "duration": 2,
    "start_time": "2022-02-19T09:31:43.873Z"
   },
   {
    "duration": 7,
    "start_time": "2022-02-19T09:31:43.878Z"
   },
   {
    "duration": 99,
    "start_time": "2022-02-19T09:31:43.887Z"
   },
   {
    "duration": 35,
    "start_time": "2022-02-19T09:31:43.994Z"
   },
   {
    "duration": 174,
    "start_time": "2022-02-19T09:31:44.032Z"
   },
   {
    "duration": 45,
    "start_time": "2022-02-19T09:31:44.212Z"
   },
   {
    "duration": 17,
    "start_time": "2022-02-19T09:31:44.260Z"
   },
   {
    "duration": 10,
    "start_time": "2022-02-19T09:31:44.281Z"
   },
   {
    "duration": 642,
    "start_time": "2022-02-19T09:31:44.294Z"
   },
   {
    "duration": 67,
    "start_time": "2022-02-19T09:31:44.938Z"
   },
   {
    "duration": 156,
    "start_time": "2022-02-19T09:31:45.007Z"
   },
   {
    "duration": 24,
    "start_time": "2022-02-19T09:31:45.166Z"
   },
   {
    "duration": 5,
    "start_time": "2022-02-19T09:31:45.193Z"
   },
   {
    "duration": 30,
    "start_time": "2022-02-19T09:31:45.201Z"
   },
   {
    "duration": 12,
    "start_time": "2022-02-19T09:31:45.234Z"
   },
   {
    "duration": 26,
    "start_time": "2022-02-19T09:31:45.249Z"
   },
   {
    "duration": 8,
    "start_time": "2022-02-19T09:31:45.277Z"
   },
   {
    "duration": 11,
    "start_time": "2022-02-19T09:31:45.288Z"
   },
   {
    "duration": 10,
    "start_time": "2022-02-19T09:31:45.301Z"
   },
   {
    "duration": 18,
    "start_time": "2022-02-19T09:31:45.314Z"
   },
   {
    "duration": 12,
    "start_time": "2022-02-19T09:31:45.334Z"
   },
   {
    "duration": 2352,
    "start_time": "2022-02-19T09:31:45.349Z"
   },
   {
    "duration": 23,
    "start_time": "2022-02-19T09:31:47.704Z"
   },
   {
    "duration": 7,
    "start_time": "2022-02-19T09:31:47.730Z"
   },
   {
    "duration": 22,
    "start_time": "2022-02-19T09:31:47.761Z"
   },
   {
    "duration": 34,
    "start_time": "2022-02-19T09:31:47.787Z"
   },
   {
    "duration": 5,
    "start_time": "2022-02-19T09:31:47.824Z"
   },
   {
    "duration": 582,
    "start_time": "2022-02-19T09:31:47.832Z"
   },
   {
    "duration": 432,
    "start_time": "2022-02-19T09:31:48.417Z"
   },
   {
    "duration": 444,
    "start_time": "2022-02-19T09:31:48.851Z"
   },
   {
    "duration": 439,
    "start_time": "2022-02-19T09:31:49.298Z"
   },
   {
    "duration": 468,
    "start_time": "2022-02-19T09:31:49.740Z"
   },
   {
    "duration": 20,
    "start_time": "2022-02-19T09:33:27.654Z"
   },
   {
    "duration": 101,
    "start_time": "2022-02-19T09:35:52.866Z"
   },
   {
    "duration": 104,
    "start_time": "2022-02-19T09:36:16.348Z"
   },
   {
    "duration": 118,
    "start_time": "2022-02-19T09:36:26.123Z"
   },
   {
    "duration": 112,
    "start_time": "2022-02-19T09:36:47.469Z"
   },
   {
    "duration": 11,
    "start_time": "2022-02-19T09:40:30.347Z"
   },
   {
    "duration": 2368,
    "start_time": "2022-02-19T09:40:41.564Z"
   },
   {
    "duration": 2542,
    "start_time": "2022-02-19T09:40:54.705Z"
   },
   {
    "duration": 25,
    "start_time": "2022-02-19T09:41:21.681Z"
   },
   {
    "duration": 2134,
    "start_time": "2022-02-19T09:41:26.689Z"
   },
   {
    "duration": 4,
    "start_time": "2022-02-19T09:41:39.234Z"
   },
   {
    "duration": 2204,
    "start_time": "2022-02-19T09:41:53.996Z"
   },
   {
    "duration": 13,
    "start_time": "2022-02-19T09:43:38.658Z"
   },
   {
    "duration": 16,
    "start_time": "2022-02-19T09:44:03.218Z"
   },
   {
    "duration": 8120,
    "start_time": "2022-02-19T09:45:13.651Z"
   },
   {
    "duration": 2516,
    "start_time": "2022-02-19T09:45:19.258Z"
   },
   {
    "duration": 7377,
    "start_time": "2022-02-19T09:45:46.528Z"
   },
   {
    "duration": 2531,
    "start_time": "2022-02-19T09:45:51.376Z"
   },
   {
    "duration": 16,
    "start_time": "2022-02-19T09:46:10.313Z"
   },
   {
    "duration": 17,
    "start_time": "2022-02-19T09:46:23.134Z"
   },
   {
    "duration": 21,
    "start_time": "2022-02-19T09:46:59.258Z"
   },
   {
    "duration": 959,
    "start_time": "2022-02-19T09:47:31.491Z"
   },
   {
    "duration": 338,
    "start_time": "2022-02-19T09:53:38.072Z"
   },
   {
    "duration": 358,
    "start_time": "2022-02-19T09:53:53.230Z"
   },
   {
    "duration": 34,
    "start_time": "2022-02-19T09:55:24.794Z"
   },
   {
    "duration": 331,
    "start_time": "2022-02-19T09:56:18.195Z"
   },
   {
    "duration": 607,
    "start_time": "2022-02-19T09:56:26.294Z"
   },
   {
    "duration": 542,
    "start_time": "2022-02-19T09:56:26.904Z"
   },
   {
    "duration": 16,
    "start_time": "2022-02-19T09:56:27.451Z"
   },
   {
    "duration": 30,
    "start_time": "2022-02-19T09:56:27.470Z"
   },
   {
    "duration": 13,
    "start_time": "2022-02-19T09:56:27.503Z"
   },
   {
    "duration": 704,
    "start_time": "2022-02-19T09:56:27.519Z"
   },
   {
    "duration": 49,
    "start_time": "2022-02-19T09:56:28.226Z"
   },
   {
    "duration": 17,
    "start_time": "2022-02-19T09:56:28.281Z"
   },
   {
    "duration": 28,
    "start_time": "2022-02-19T09:56:28.301Z"
   },
   {
    "duration": 34,
    "start_time": "2022-02-19T09:56:28.331Z"
   },
   {
    "duration": 16,
    "start_time": "2022-02-19T09:56:28.367Z"
   },
   {
    "duration": 12,
    "start_time": "2022-02-19T09:56:28.386Z"
   },
   {
    "duration": 68,
    "start_time": "2022-02-19T09:56:28.401Z"
   },
   {
    "duration": 6,
    "start_time": "2022-02-19T09:56:28.472Z"
   },
   {
    "duration": 24,
    "start_time": "2022-02-19T09:56:28.481Z"
   },
   {
    "duration": 726,
    "start_time": "2022-02-19T09:56:28.508Z"
   },
   {
    "duration": 49,
    "start_time": "2022-02-19T09:56:29.238Z"
   },
   {
    "duration": 31,
    "start_time": "2022-02-19T09:56:29.290Z"
   },
   {
    "duration": 475,
    "start_time": "2022-02-19T09:56:29.323Z"
   },
   {
    "duration": 11,
    "start_time": "2022-02-19T09:56:29.802Z"
   },
   {
    "duration": 54,
    "start_time": "2022-02-19T09:56:29.816Z"
   },
   {
    "duration": 17,
    "start_time": "2022-02-19T09:56:29.873Z"
   },
   {
    "duration": 11,
    "start_time": "2022-02-19T09:56:29.900Z"
   },
   {
    "duration": 48,
    "start_time": "2022-02-19T09:56:29.917Z"
   },
   {
    "duration": 12,
    "start_time": "2022-02-19T09:56:29.967Z"
   },
   {
    "duration": 14,
    "start_time": "2022-02-19T09:56:29.982Z"
   },
   {
    "duration": 144,
    "start_time": "2022-02-19T09:56:30.000Z"
   },
   {
    "duration": 3,
    "start_time": "2022-02-19T09:56:30.146Z"
   },
   {
    "duration": 11,
    "start_time": "2022-02-19T09:56:30.151Z"
   },
   {
    "duration": 96,
    "start_time": "2022-02-19T09:56:30.165Z"
   },
   {
    "duration": 22,
    "start_time": "2022-02-19T09:56:30.264Z"
   },
   {
    "duration": 17,
    "start_time": "2022-02-19T09:56:30.289Z"
   },
   {
    "duration": 19,
    "start_time": "2022-02-19T09:56:30.309Z"
   },
   {
    "duration": 19,
    "start_time": "2022-02-19T09:56:30.363Z"
   },
   {
    "duration": 18,
    "start_time": "2022-02-19T09:56:30.385Z"
   },
   {
    "duration": 617,
    "start_time": "2022-02-19T09:56:30.406Z"
   },
   {
    "duration": 74,
    "start_time": "2022-02-19T09:56:31.025Z"
   },
   {
    "duration": 191,
    "start_time": "2022-02-19T09:56:31.101Z"
   },
   {
    "duration": 32,
    "start_time": "2022-02-19T09:56:31.296Z"
   },
   {
    "duration": 29,
    "start_time": "2022-02-19T09:56:31.333Z"
   },
   {
    "duration": 43,
    "start_time": "2022-02-19T09:56:31.365Z"
   },
   {
    "duration": 12,
    "start_time": "2022-02-19T09:56:31.412Z"
   },
   {
    "duration": 48,
    "start_time": "2022-02-19T09:56:31.427Z"
   },
   {
    "duration": 9,
    "start_time": "2022-02-19T09:56:31.478Z"
   },
   {
    "duration": 20,
    "start_time": "2022-02-19T09:56:31.490Z"
   },
   {
    "duration": 7,
    "start_time": "2022-02-19T09:56:31.514Z"
   },
   {
    "duration": 56,
    "start_time": "2022-02-19T09:56:31.525Z"
   },
   {
    "duration": 16,
    "start_time": "2022-02-19T09:56:31.583Z"
   },
   {
    "duration": 3144,
    "start_time": "2022-02-19T09:56:31.602Z"
   },
   {
    "duration": 39,
    "start_time": "2022-02-19T09:56:34.750Z"
   },
   {
    "duration": 7,
    "start_time": "2022-02-19T09:56:34.793Z"
   },
   {
    "duration": 27,
    "start_time": "2022-02-19T09:56:34.802Z"
   },
   {
    "duration": 42,
    "start_time": "2022-02-19T09:56:34.863Z"
   },
   {
    "duration": 8,
    "start_time": "2022-02-19T09:56:34.908Z"
   },
   {
    "duration": 855,
    "start_time": "2022-02-19T09:56:34.919Z"
   },
   {
    "duration": 454,
    "start_time": "2022-02-19T09:56:35.777Z"
   },
   {
    "duration": 440,
    "start_time": "2022-02-19T09:56:36.234Z"
   },
   {
    "duration": 445,
    "start_time": "2022-02-19T09:56:36.677Z"
   },
   {
    "duration": 465,
    "start_time": "2022-02-19T09:56:37.125Z"
   },
   {
    "duration": 20,
    "start_time": "2022-02-19T09:56:37.593Z"
   },
   {
    "duration": 356,
    "start_time": "2022-02-19T09:56:37.616Z"
   },
   {
    "duration": 11,
    "start_time": "2022-02-19T09:56:37.975Z"
   },
   {
    "duration": 2892,
    "start_time": "2022-02-19T09:56:37.989Z"
   },
   {
    "duration": 2345,
    "start_time": "2022-02-19T09:56:40.883Z"
   },
   {
    "duration": 152,
    "start_time": "2022-02-19T09:56:43.230Z"
   },
   {
    "duration": 28,
    "start_time": "2022-02-19T09:56:43.385Z"
   },
   {
    "duration": 45,
    "start_time": "2022-02-19T09:56:43.416Z"
   },
   {
    "duration": 24,
    "start_time": "2022-02-19T09:56:43.472Z"
   },
   {
    "duration": 29,
    "start_time": "2022-02-19T09:56:43.499Z"
   },
   {
    "duration": 1033,
    "start_time": "2022-02-19T09:56:43.562Z"
   },
   {
    "duration": 1014,
    "start_time": "2022-02-19T09:56:44.598Z"
   },
   {
    "duration": 1428,
    "start_time": "2022-02-19T09:56:45.615Z"
   },
   {
    "duration": 362,
    "start_time": "2022-02-19T09:56:47.046Z"
   },
   {
    "duration": 27,
    "start_time": "2022-02-19T09:56:47.411Z"
   },
   {
    "duration": 6,
    "start_time": "2022-02-19T09:56:47.461Z"
   },
   {
    "duration": 6,
    "start_time": "2022-02-19T09:58:38.347Z"
   },
   {
    "duration": 7,
    "start_time": "2022-02-19T10:05:25.842Z"
   },
   {
    "duration": 358,
    "start_time": "2022-02-19T10:07:12.833Z"
   },
   {
    "duration": 25,
    "start_time": "2022-02-19T10:07:19.580Z"
   },
   {
    "duration": 23,
    "start_time": "2022-02-19T10:07:23.287Z"
   },
   {
    "duration": 495,
    "start_time": "2022-02-19T10:07:24.731Z"
   },
   {
    "duration": 27,
    "start_time": "2022-02-19T10:07:28.837Z"
   },
   {
    "duration": 7,
    "start_time": "2022-02-19T10:07:29.857Z"
   },
   {
    "duration": 29,
    "start_time": "2022-02-19T10:09:38.252Z"
   },
   {
    "duration": 29,
    "start_time": "2022-02-19T10:10:50.092Z"
   },
   {
    "duration": 396,
    "start_time": "2022-02-19T10:12:00.896Z"
   },
   {
    "duration": 4,
    "start_time": "2022-02-19T10:39:12.341Z"
   },
   {
    "duration": 545,
    "start_time": "2022-02-19T10:39:12.347Z"
   },
   {
    "duration": 12,
    "start_time": "2022-02-19T10:39:12.895Z"
   },
   {
    "duration": 29,
    "start_time": "2022-02-19T10:39:12.911Z"
   },
   {
    "duration": 27,
    "start_time": "2022-02-19T10:39:12.943Z"
   },
   {
    "duration": 496,
    "start_time": "2022-02-19T10:39:12.972Z"
   },
   {
    "duration": 24,
    "start_time": "2022-02-19T10:39:13.472Z"
   },
   {
    "duration": 12,
    "start_time": "2022-02-19T10:39:13.499Z"
   },
   {
    "duration": 61,
    "start_time": "2022-02-19T10:39:13.513Z"
   },
   {
    "duration": 6,
    "start_time": "2022-02-19T10:39:13.577Z"
   },
   {
    "duration": 13,
    "start_time": "2022-02-19T10:39:13.585Z"
   },
   {
    "duration": 12,
    "start_time": "2022-02-19T10:39:13.600Z"
   },
   {
    "duration": 74,
    "start_time": "2022-02-19T10:39:13.615Z"
   },
   {
    "duration": 4,
    "start_time": "2022-02-19T10:39:13.692Z"
   },
   {
    "duration": 13,
    "start_time": "2022-02-19T10:39:13.699Z"
   },
   {
    "duration": 468,
    "start_time": "2022-02-19T10:39:13.714Z"
   },
   {
    "duration": 27,
    "start_time": "2022-02-19T10:39:14.185Z"
   },
   {
    "duration": 60,
    "start_time": "2022-02-19T10:39:14.215Z"
   },
   {
    "duration": 443,
    "start_time": "2022-02-19T10:39:14.282Z"
   },
   {
    "duration": 11,
    "start_time": "2022-02-19T10:39:14.730Z"
   },
   {
    "duration": 46,
    "start_time": "2022-02-19T10:39:14.743Z"
   },
   {
    "duration": 13,
    "start_time": "2022-02-19T10:39:14.792Z"
   },
   {
    "duration": 13,
    "start_time": "2022-02-19T10:39:14.808Z"
   },
   {
    "duration": 52,
    "start_time": "2022-02-19T10:39:14.824Z"
   },
   {
    "duration": 13,
    "start_time": "2022-02-19T10:39:14.879Z"
   },
   {
    "duration": 203,
    "start_time": "2022-02-19T10:39:14.895Z"
   },
   {
    "duration": 120,
    "start_time": "2022-02-19T10:39:15.101Z"
   },
   {
    "duration": 4,
    "start_time": "2022-02-19T10:39:15.223Z"
   },
   {
    "duration": 6,
    "start_time": "2022-02-19T10:39:15.229Z"
   },
   {
    "duration": 92,
    "start_time": "2022-02-19T10:39:15.238Z"
   },
   {
    "duration": 16,
    "start_time": "2022-02-19T10:39:15.333Z"
   },
   {
    "duration": 21,
    "start_time": "2022-02-19T10:39:15.364Z"
   },
   {
    "duration": 19,
    "start_time": "2022-02-19T10:39:15.388Z"
   },
   {
    "duration": 15,
    "start_time": "2022-02-19T10:39:15.410Z"
   },
   {
    "duration": 37,
    "start_time": "2022-02-19T10:39:15.428Z"
   },
   {
    "duration": 586,
    "start_time": "2022-02-19T10:39:15.470Z"
   },
   {
    "duration": 57,
    "start_time": "2022-02-19T10:39:16.061Z"
   },
   {
    "duration": 76,
    "start_time": "2022-02-19T10:39:16.121Z"
   },
   {
    "duration": 23,
    "start_time": "2022-02-19T10:39:16.200Z"
   },
   {
    "duration": 7,
    "start_time": "2022-02-19T10:39:16.225Z"
   },
   {
    "duration": 50,
    "start_time": "2022-02-19T10:39:16.234Z"
   },
   {
    "duration": 13,
    "start_time": "2022-02-19T10:39:16.286Z"
   },
   {
    "duration": 14,
    "start_time": "2022-02-19T10:39:16.302Z"
   },
   {
    "duration": 6,
    "start_time": "2022-02-19T10:39:16.319Z"
   },
   {
    "duration": 14,
    "start_time": "2022-02-19T10:39:16.361Z"
   },
   {
    "duration": 9,
    "start_time": "2022-02-19T10:39:16.377Z"
   },
   {
    "duration": 24,
    "start_time": "2022-02-19T10:39:16.389Z"
   },
   {
    "duration": 12,
    "start_time": "2022-02-19T10:39:16.415Z"
   },
   {
    "duration": 2029,
    "start_time": "2022-02-19T10:39:16.468Z"
   },
   {
    "duration": 25,
    "start_time": "2022-02-19T10:39:18.499Z"
   },
   {
    "duration": 7,
    "start_time": "2022-02-19T10:39:18.527Z"
   },
   {
    "duration": 51,
    "start_time": "2022-02-19T10:39:18.537Z"
   },
   {
    "duration": 34,
    "start_time": "2022-02-19T10:39:18.591Z"
   },
   {
    "duration": 32,
    "start_time": "2022-02-19T10:39:18.628Z"
   },
   {
    "duration": 583,
    "start_time": "2022-02-19T10:39:18.671Z"
   },
   {
    "duration": 464,
    "start_time": "2022-02-19T10:39:19.258Z"
   },
   {
    "duration": 469,
    "start_time": "2022-02-19T10:39:19.725Z"
   },
   {
    "duration": 469,
    "start_time": "2022-02-19T10:39:20.197Z"
   },
   {
    "duration": 477,
    "start_time": "2022-02-19T10:39:20.670Z"
   },
   {
    "duration": 32,
    "start_time": "2022-02-19T10:39:21.150Z"
   },
   {
    "duration": 260,
    "start_time": "2022-02-19T10:39:21.184Z"
   },
   {
    "duration": 19,
    "start_time": "2022-02-19T10:39:21.446Z"
   },
   {
    "duration": 2461,
    "start_time": "2022-02-19T10:39:21.468Z"
   },
   {
    "duration": 2819,
    "start_time": "2022-02-19T10:39:23.931Z"
   },
   {
    "duration": 203,
    "start_time": "2022-02-19T10:39:26.753Z"
   },
   {
    "duration": 40,
    "start_time": "2022-02-19T10:39:26.966Z"
   },
   {
    "duration": 23,
    "start_time": "2022-02-19T10:39:27.009Z"
   },
   {
    "duration": 40,
    "start_time": "2022-02-19T10:39:27.035Z"
   },
   {
    "duration": 29,
    "start_time": "2022-02-19T10:39:27.078Z"
   },
   {
    "duration": 1244,
    "start_time": "2022-02-19T10:39:27.109Z"
   },
   {
    "duration": 1089,
    "start_time": "2022-02-19T10:39:28.360Z"
   },
   {
    "duration": 1021,
    "start_time": "2022-02-19T10:39:29.451Z"
   },
   {
    "duration": 352,
    "start_time": "2022-02-19T10:39:30.475Z"
   },
   {
    "duration": 42,
    "start_time": "2022-02-19T10:39:30.830Z"
   },
   {
    "duration": 7,
    "start_time": "2022-02-19T10:39:30.875Z"
   },
   {
    "duration": 12,
    "start_time": "2022-02-19T10:39:30.886Z"
   },
   {
    "duration": 17,
    "start_time": "2022-02-19T10:39:30.901Z"
   },
   {
    "duration": 57,
    "start_time": "2022-02-19T10:39:30.920Z"
   },
   {
    "duration": 353,
    "start_time": "2022-02-19T10:39:30.979Z"
   },
   {
    "duration": 46,
    "start_time": "2022-02-19T10:39:31.336Z"
   },
   {
    "duration": 7,
    "start_time": "2022-02-19T10:39:31.386Z"
   },
   {
    "duration": 37,
    "start_time": "2022-02-19T10:39:31.396Z"
   },
   {
    "duration": 34,
    "start_time": "2022-02-19T10:39:31.460Z"
   },
   {
    "duration": 410,
    "start_time": "2022-02-19T10:39:31.497Z"
   },
   {
    "duration": 1048,
    "start_time": "2022-02-28T23:52:36.477Z"
   },
   {
    "duration": 373,
    "start_time": "2022-02-28T23:52:37.527Z"
   },
   {
    "duration": 11,
    "start_time": "2022-02-28T23:52:37.902Z"
   },
   {
    "duration": 22,
    "start_time": "2022-02-28T23:52:37.915Z"
   },
   {
    "duration": 9,
    "start_time": "2022-02-28T23:52:37.939Z"
   },
   {
    "duration": 300,
    "start_time": "2022-02-28T23:52:37.950Z"
   },
   {
    "duration": 18,
    "start_time": "2022-02-28T23:52:38.252Z"
   },
   {
    "duration": 7,
    "start_time": "2022-02-28T23:52:38.273Z"
   },
   {
    "duration": 20,
    "start_time": "2022-02-28T23:52:38.282Z"
   },
   {
    "duration": 4,
    "start_time": "2022-02-28T23:52:38.304Z"
   },
   {
    "duration": 33,
    "start_time": "2022-02-28T23:52:38.310Z"
   },
   {
    "duration": 9,
    "start_time": "2022-02-28T23:52:38.345Z"
   },
   {
    "duration": 23,
    "start_time": "2022-02-28T23:52:38.355Z"
   },
   {
    "duration": 7,
    "start_time": "2022-02-28T23:52:38.380Z"
   },
   {
    "duration": 8,
    "start_time": "2022-02-28T23:52:38.389Z"
   },
   {
    "duration": 289,
    "start_time": "2022-02-28T23:52:38.399Z"
   },
   {
    "duration": 17,
    "start_time": "2022-02-28T23:52:38.690Z"
   },
   {
    "duration": 39,
    "start_time": "2022-02-28T23:52:38.709Z"
   },
   {
    "duration": 282,
    "start_time": "2022-02-28T23:52:38.749Z"
   },
   {
    "duration": 7,
    "start_time": "2022-02-28T23:52:39.037Z"
   },
   {
    "duration": 15,
    "start_time": "2022-02-28T23:52:39.046Z"
   },
   {
    "duration": 9,
    "start_time": "2022-02-28T23:52:39.063Z"
   },
   {
    "duration": 7,
    "start_time": "2022-02-28T23:52:39.076Z"
   },
   {
    "duration": 11,
    "start_time": "2022-02-28T23:52:39.086Z"
   },
   {
    "duration": 8,
    "start_time": "2022-02-28T23:52:39.099Z"
   },
   {
    "duration": 35,
    "start_time": "2022-02-28T23:52:39.109Z"
   },
   {
    "duration": 67,
    "start_time": "2022-02-28T23:52:39.145Z"
   },
   {
    "duration": 2,
    "start_time": "2022-02-28T23:52:39.214Z"
   },
   {
    "duration": 20,
    "start_time": "2022-02-28T23:52:39.218Z"
   },
   {
    "duration": 57,
    "start_time": "2022-02-28T23:52:39.241Z"
   },
   {
    "duration": 10,
    "start_time": "2022-02-28T23:52:39.300Z"
   },
   {
    "duration": 26,
    "start_time": "2022-02-28T23:52:39.312Z"
   },
   {
    "duration": 10,
    "start_time": "2022-02-28T23:52:39.340Z"
   },
   {
    "duration": 11,
    "start_time": "2022-02-28T23:52:39.352Z"
   },
   {
    "duration": 9,
    "start_time": "2022-02-28T23:52:39.365Z"
   },
   {
    "duration": 372,
    "start_time": "2022-02-28T23:52:39.376Z"
   },
   {
    "duration": 45,
    "start_time": "2022-02-28T23:52:39.750Z"
   },
   {
    "duration": 114,
    "start_time": "2022-02-28T23:52:39.797Z"
   },
   {
    "duration": 26,
    "start_time": "2022-02-28T23:52:39.913Z"
   },
   {
    "duration": 5,
    "start_time": "2022-02-28T23:52:39.941Z"
   },
   {
    "duration": 16,
    "start_time": "2022-02-28T23:52:39.948Z"
   },
   {
    "duration": 7,
    "start_time": "2022-02-28T23:52:39.967Z"
   },
   {
    "duration": 9,
    "start_time": "2022-02-28T23:52:39.976Z"
   },
   {
    "duration": 8,
    "start_time": "2022-02-28T23:52:39.987Z"
   },
   {
    "duration": 10,
    "start_time": "2022-02-28T23:52:39.997Z"
   },
   {
    "duration": 7,
    "start_time": "2022-02-28T23:52:40.038Z"
   },
   {
    "duration": 13,
    "start_time": "2022-02-28T23:52:40.047Z"
   },
   {
    "duration": 8,
    "start_time": "2022-02-28T23:52:40.062Z"
   },
   {
    "duration": 908,
    "start_time": "2022-02-28T23:52:40.072Z"
   },
   {
    "duration": 15,
    "start_time": "2022-02-28T23:52:40.981Z"
   },
   {
    "duration": 5,
    "start_time": "2022-02-28T23:52:40.998Z"
   },
   {
    "duration": 40,
    "start_time": "2022-02-28T23:52:41.005Z"
   },
   {
    "duration": 22,
    "start_time": "2022-02-28T23:52:41.047Z"
   },
   {
    "duration": 4,
    "start_time": "2022-02-28T23:52:41.071Z"
   },
   {
    "duration": 699,
    "start_time": "2022-02-28T23:52:41.077Z"
   },
   {
    "duration": -1312,
    "start_time": "2022-02-28T23:52:43.090Z"
   },
   {
    "duration": -1314,
    "start_time": "2022-02-28T23:52:43.094Z"
   },
   {
    "duration": -1318,
    "start_time": "2022-02-28T23:52:43.099Z"
   },
   {
    "duration": -1322,
    "start_time": "2022-02-28T23:52:43.104Z"
   },
   {
    "duration": -1324,
    "start_time": "2022-02-28T23:52:43.108Z"
   },
   {
    "duration": -1328,
    "start_time": "2022-02-28T23:52:43.113Z"
   },
   {
    "duration": -1331,
    "start_time": "2022-02-28T23:52:43.117Z"
   },
   {
    "duration": -1334,
    "start_time": "2022-02-28T23:52:43.122Z"
   },
   {
    "duration": -1337,
    "start_time": "2022-02-28T23:52:43.126Z"
   },
   {
    "duration": -1341,
    "start_time": "2022-02-28T23:52:43.131Z"
   },
   {
    "duration": -1343,
    "start_time": "2022-02-28T23:52:43.135Z"
   },
   {
    "duration": -1347,
    "start_time": "2022-02-28T23:52:43.140Z"
   },
   {
    "duration": -1349,
    "start_time": "2022-02-28T23:52:43.144Z"
   },
   {
    "duration": -1353,
    "start_time": "2022-02-28T23:52:43.149Z"
   },
   {
    "duration": -1356,
    "start_time": "2022-02-28T23:52:43.153Z"
   },
   {
    "duration": -1369,
    "start_time": "2022-02-28T23:52:43.168Z"
   },
   {
    "duration": -1372,
    "start_time": "2022-02-28T23:52:43.172Z"
   },
   {
    "duration": -1376,
    "start_time": "2022-02-28T23:52:43.177Z"
   },
   {
    "duration": -1378,
    "start_time": "2022-02-28T23:52:43.181Z"
   },
   {
    "duration": -1348,
    "start_time": "2022-02-28T23:52:43.187Z"
   },
   {
    "duration": -1351,
    "start_time": "2022-02-28T23:52:43.191Z"
   },
   {
    "duration": -1354,
    "start_time": "2022-02-28T23:52:43.196Z"
   },
   {
    "duration": -1357,
    "start_time": "2022-02-28T23:52:43.200Z"
   },
   {
    "duration": -1360,
    "start_time": "2022-02-28T23:52:43.205Z"
   },
   {
    "duration": -1363,
    "start_time": "2022-02-28T23:52:43.209Z"
   },
   {
    "duration": -1367,
    "start_time": "2022-02-28T23:52:43.214Z"
   },
   {
    "duration": -1370,
    "start_time": "2022-02-28T23:52:43.218Z"
   },
   {
    "duration": -1373,
    "start_time": "2022-02-28T23:52:43.223Z"
   },
   {
    "duration": -1376,
    "start_time": "2022-02-28T23:52:43.227Z"
   },
   {
    "duration": 23,
    "start_time": "2022-03-01T00:02:29.297Z"
   },
   {
    "duration": 262,
    "start_time": "2022-03-01T00:03:10.157Z"
   },
   {
    "duration": 285,
    "start_time": "2022-03-01T00:03:17.637Z"
   },
   {
    "duration": 260,
    "start_time": "2022-03-01T00:03:17.925Z"
   },
   {
    "duration": 273,
    "start_time": "2022-03-01T00:03:18.187Z"
   },
   {
    "duration": 275,
    "start_time": "2022-03-01T00:03:18.462Z"
   },
   {
    "duration": 14,
    "start_time": "2022-03-01T00:03:18.739Z"
   },
   {
    "duration": 161,
    "start_time": "2022-03-01T00:03:18.755Z"
   },
   {
    "duration": 6,
    "start_time": "2022-03-01T00:03:18.919Z"
   },
   {
    "duration": 1349,
    "start_time": "2022-03-01T00:03:18.927Z"
   },
   {
    "duration": 1487,
    "start_time": "2022-03-01T00:03:20.280Z"
   },
   {
    "duration": 9,
    "start_time": "2022-03-01T00:03:21.770Z"
   },
   {
    "duration": 25,
    "start_time": "2022-03-01T00:03:21.781Z"
   },
   {
    "duration": 14,
    "start_time": "2022-03-01T00:03:21.809Z"
   },
   {
    "duration": 22,
    "start_time": "2022-03-01T00:03:21.825Z"
   },
   {
    "duration": 13,
    "start_time": "2022-03-01T00:03:21.849Z"
   },
   {
    "duration": 645,
    "start_time": "2022-03-01T00:03:21.864Z"
   },
   {
    "duration": 625,
    "start_time": "2022-03-01T00:03:22.511Z"
   },
   {
    "duration": 651,
    "start_time": "2022-03-01T00:03:23.137Z"
   },
   {
    "duration": 207,
    "start_time": "2022-03-01T00:03:23.790Z"
   },
   {
    "duration": 17,
    "start_time": "2022-03-01T00:03:23.999Z"
   },
   {
    "duration": 22,
    "start_time": "2022-03-01T00:03:24.018Z"
   },
   {
    "duration": 5,
    "start_time": "2022-03-01T00:03:24.041Z"
   },
   {
    "duration": 10,
    "start_time": "2022-03-01T00:03:24.048Z"
   },
   {
    "duration": 22,
    "start_time": "2022-03-01T00:03:24.060Z"
   },
   {
    "duration": 225,
    "start_time": "2022-03-01T00:03:24.084Z"
   },
   {
    "duration": 32,
    "start_time": "2022-03-01T00:03:24.311Z"
   },
   {
    "duration": 4,
    "start_time": "2022-03-01T00:03:24.345Z"
   },
   {
    "duration": 157,
    "start_time": "2022-03-01T00:03:24.352Z"
   },
   {
    "duration": 31,
    "start_time": "2022-03-01T00:03:24.510Z"
   },
   {
    "duration": 261,
    "start_time": "2022-03-01T00:03:24.543Z"
   },
   {
    "duration": 1109,
    "start_time": "2022-03-01T00:15:28.609Z"
   },
   {
    "duration": 381,
    "start_time": "2022-03-01T00:15:29.720Z"
   },
   {
    "duration": 13,
    "start_time": "2022-03-01T00:15:30.103Z"
   },
   {
    "duration": 30,
    "start_time": "2022-03-01T00:15:30.118Z"
   },
   {
    "duration": 11,
    "start_time": "2022-03-01T00:15:30.151Z"
   },
   {
    "duration": 309,
    "start_time": "2022-03-01T00:15:30.164Z"
   },
   {
    "duration": 19,
    "start_time": "2022-03-01T00:15:30.475Z"
   },
   {
    "duration": 9,
    "start_time": "2022-03-01T00:15:30.496Z"
   },
   {
    "duration": 47,
    "start_time": "2022-03-01T00:15:30.509Z"
   },
   {
    "duration": 7,
    "start_time": "2022-03-01T00:15:30.559Z"
   },
   {
    "duration": 14,
    "start_time": "2022-03-01T00:15:30.568Z"
   },
   {
    "duration": 10,
    "start_time": "2022-03-01T00:15:30.584Z"
   },
   {
    "duration": 19,
    "start_time": "2022-03-01T00:15:30.596Z"
   },
   {
    "duration": 6,
    "start_time": "2022-03-01T00:15:30.638Z"
   },
   {
    "duration": 9,
    "start_time": "2022-03-01T00:15:30.646Z"
   },
   {
    "duration": 303,
    "start_time": "2022-03-01T00:15:30.656Z"
   },
   {
    "duration": 18,
    "start_time": "2022-03-01T00:15:30.961Z"
   },
   {
    "duration": 27,
    "start_time": "2022-03-01T00:15:30.981Z"
   },
   {
    "duration": 301,
    "start_time": "2022-03-01T00:15:31.010Z"
   },
   {
    "duration": 8,
    "start_time": "2022-03-01T00:15:31.313Z"
   },
   {
    "duration": 30,
    "start_time": "2022-03-01T00:15:31.323Z"
   },
   {
    "duration": 10,
    "start_time": "2022-03-01T00:15:31.355Z"
   },
   {
    "duration": 9,
    "start_time": "2022-03-01T00:15:31.367Z"
   },
   {
    "duration": 17,
    "start_time": "2022-03-01T00:15:31.377Z"
   },
   {
    "duration": 16,
    "start_time": "2022-03-01T00:15:31.396Z"
   },
   {
    "duration": 25,
    "start_time": "2022-03-01T00:15:31.414Z"
   },
   {
    "duration": 74,
    "start_time": "2022-03-01T00:15:31.443Z"
   },
   {
    "duration": 2,
    "start_time": "2022-03-01T00:15:31.520Z"
   },
   {
    "duration": 14,
    "start_time": "2022-03-01T00:15:31.524Z"
   },
   {
    "duration": 61,
    "start_time": "2022-03-01T00:15:31.540Z"
   },
   {
    "duration": 12,
    "start_time": "2022-03-01T00:15:31.604Z"
   },
   {
    "duration": 19,
    "start_time": "2022-03-01T00:15:31.618Z"
   },
   {
    "duration": 21,
    "start_time": "2022-03-01T00:15:31.639Z"
   },
   {
    "duration": 20,
    "start_time": "2022-03-01T00:15:31.662Z"
   },
   {
    "duration": 6,
    "start_time": "2022-03-01T00:15:31.684Z"
   },
   {
    "duration": 394,
    "start_time": "2022-03-01T00:15:31.692Z"
   },
   {
    "duration": 52,
    "start_time": "2022-03-01T00:15:32.088Z"
   },
   {
    "duration": 110,
    "start_time": "2022-03-01T00:15:32.142Z"
   },
   {
    "duration": 14,
    "start_time": "2022-03-01T00:15:32.254Z"
   },
   {
    "duration": 6,
    "start_time": "2022-03-01T00:15:32.270Z"
   },
   {
    "duration": 19,
    "start_time": "2022-03-01T00:15:32.278Z"
   },
   {
    "duration": 7,
    "start_time": "2022-03-01T00:15:32.299Z"
   },
   {
    "duration": 34,
    "start_time": "2022-03-01T00:15:32.308Z"
   },
   {
    "duration": 8,
    "start_time": "2022-03-01T00:15:32.344Z"
   },
   {
    "duration": 10,
    "start_time": "2022-03-01T00:15:32.354Z"
   },
   {
    "duration": 6,
    "start_time": "2022-03-01T00:15:32.366Z"
   },
   {
    "duration": 18,
    "start_time": "2022-03-01T00:15:32.374Z"
   },
   {
    "duration": 7,
    "start_time": "2022-03-01T00:15:32.394Z"
   },
   {
    "duration": 915,
    "start_time": "2022-03-01T00:15:32.403Z"
   },
   {
    "duration": 20,
    "start_time": "2022-03-01T00:15:33.320Z"
   },
   {
    "duration": 5,
    "start_time": "2022-03-01T00:15:33.342Z"
   },
   {
    "duration": 15,
    "start_time": "2022-03-01T00:15:33.349Z"
   },
   {
    "duration": 24,
    "start_time": "2022-03-01T00:15:33.366Z"
   },
   {
    "duration": 4,
    "start_time": "2022-03-01T00:15:33.392Z"
   },
   {
    "duration": 680,
    "start_time": "2022-03-01T00:15:33.398Z"
   },
   {
    "duration": -1642,
    "start_time": "2022-03-01T00:15:35.722Z"
   },
   {
    "duration": -1647,
    "start_time": "2022-03-01T00:15:35.728Z"
   },
   {
    "duration": -1652,
    "start_time": "2022-03-01T00:15:35.734Z"
   },
   {
    "duration": -1657,
    "start_time": "2022-03-01T00:15:35.741Z"
   },
   {
    "duration": -1661,
    "start_time": "2022-03-01T00:15:35.746Z"
   },
   {
    "duration": -1667,
    "start_time": "2022-03-01T00:15:35.753Z"
   },
   {
    "duration": -1671,
    "start_time": "2022-03-01T00:15:35.758Z"
   },
   {
    "duration": -1678,
    "start_time": "2022-03-01T00:15:35.765Z"
   },
   {
    "duration": -1682,
    "start_time": "2022-03-01T00:15:35.770Z"
   },
   {
    "duration": -1703,
    "start_time": "2022-03-01T00:15:35.792Z"
   },
   {
    "duration": -1708,
    "start_time": "2022-03-01T00:15:35.798Z"
   },
   {
    "duration": -1713,
    "start_time": "2022-03-01T00:15:35.804Z"
   },
   {
    "duration": -1718,
    "start_time": "2022-03-01T00:15:35.810Z"
   },
   {
    "duration": -1723,
    "start_time": "2022-03-01T00:15:35.816Z"
   },
   {
    "duration": -1729,
    "start_time": "2022-03-01T00:15:35.823Z"
   },
   {
    "duration": -1734,
    "start_time": "2022-03-01T00:15:35.829Z"
   },
   {
    "duration": -1739,
    "start_time": "2022-03-01T00:15:35.835Z"
   },
   {
    "duration": -1746,
    "start_time": "2022-03-01T00:15:35.843Z"
   },
   {
    "duration": -1756,
    "start_time": "2022-03-01T00:15:35.854Z"
   },
   {
    "duration": -1764,
    "start_time": "2022-03-01T00:15:35.864Z"
   },
   {
    "duration": -1769,
    "start_time": "2022-03-01T00:15:35.869Z"
   },
   {
    "duration": -1737,
    "start_time": "2022-03-01T00:15:35.874Z"
   },
   {
    "duration": -1741,
    "start_time": "2022-03-01T00:15:35.879Z"
   },
   {
    "duration": -1745,
    "start_time": "2022-03-01T00:15:35.884Z"
   },
   {
    "duration": -1748,
    "start_time": "2022-03-01T00:15:35.889Z"
   },
   {
    "duration": -1759,
    "start_time": "2022-03-01T00:15:35.901Z"
   },
   {
    "duration": -1763,
    "start_time": "2022-03-01T00:15:35.906Z"
   },
   {
    "duration": -1767,
    "start_time": "2022-03-01T00:15:35.911Z"
   },
   {
    "duration": -1772,
    "start_time": "2022-03-01T00:15:35.917Z"
   },
   {
    "duration": 364,
    "start_time": "2022-03-01T07:50:53.254Z"
   },
   {
    "duration": 307,
    "start_time": "2022-03-01T07:51:38.188Z"
   },
   {
    "duration": 1277,
    "start_time": "2022-03-01T07:51:42.058Z"
   },
   {
    "duration": 461,
    "start_time": "2022-03-01T07:51:43.338Z"
   },
   {
    "duration": 14,
    "start_time": "2022-03-01T07:51:43.802Z"
   },
   {
    "duration": 32,
    "start_time": "2022-03-01T07:51:43.818Z"
   },
   {
    "duration": 9,
    "start_time": "2022-03-01T07:51:43.852Z"
   },
   {
    "duration": 387,
    "start_time": "2022-03-01T07:51:43.863Z"
   },
   {
    "duration": 17,
    "start_time": "2022-03-01T07:51:44.252Z"
   },
   {
    "duration": 7,
    "start_time": "2022-03-01T07:51:44.272Z"
   },
   {
    "duration": 34,
    "start_time": "2022-03-01T07:51:44.282Z"
   },
   {
    "duration": 7,
    "start_time": "2022-03-01T07:51:44.317Z"
   },
   {
    "duration": 7,
    "start_time": "2022-03-01T07:51:44.326Z"
   },
   {
    "duration": 7,
    "start_time": "2022-03-01T07:51:44.335Z"
   },
   {
    "duration": 16,
    "start_time": "2022-03-01T07:51:44.343Z"
   },
   {
    "duration": 4,
    "start_time": "2022-03-01T07:51:44.361Z"
   },
   {
    "duration": 40,
    "start_time": "2022-03-01T07:51:44.367Z"
   },
   {
    "duration": 273,
    "start_time": "2022-03-01T07:51:44.409Z"
   },
   {
    "duration": 24,
    "start_time": "2022-03-01T07:51:44.684Z"
   },
   {
    "duration": 25,
    "start_time": "2022-03-01T07:51:44.709Z"
   },
   {
    "duration": 265,
    "start_time": "2022-03-01T07:51:44.736Z"
   },
   {
    "duration": 7,
    "start_time": "2022-03-01T07:51:45.003Z"
   },
   {
    "duration": 18,
    "start_time": "2022-03-01T07:51:45.011Z"
   },
   {
    "duration": 7,
    "start_time": "2022-03-01T07:51:45.031Z"
   },
   {
    "duration": 7,
    "start_time": "2022-03-01T07:51:45.042Z"
   },
   {
    "duration": 10,
    "start_time": "2022-03-01T07:51:45.051Z"
   },
   {
    "duration": 43,
    "start_time": "2022-03-01T07:51:45.063Z"
   },
   {
    "duration": 8,
    "start_time": "2022-03-01T07:51:45.108Z"
   },
   {
    "duration": 61,
    "start_time": "2022-03-01T07:51:45.118Z"
   },
   {
    "duration": 21,
    "start_time": "2022-03-01T07:51:45.181Z"
   },
   {
    "duration": 4,
    "start_time": "2022-03-01T07:51:45.204Z"
   },
   {
    "duration": 50,
    "start_time": "2022-03-01T07:51:45.209Z"
   },
   {
    "duration": 10,
    "start_time": "2022-03-01T07:51:45.261Z"
   },
   {
    "duration": 30,
    "start_time": "2022-03-01T07:51:45.273Z"
   },
   {
    "duration": 10,
    "start_time": "2022-03-01T07:51:45.305Z"
   },
   {
    "duration": 9,
    "start_time": "2022-03-01T07:51:45.316Z"
   },
   {
    "duration": 5,
    "start_time": "2022-03-01T07:51:45.327Z"
   },
   {
    "duration": 340,
    "start_time": "2022-03-01T07:51:45.333Z"
   },
   {
    "duration": 45,
    "start_time": "2022-03-01T07:51:45.674Z"
   },
   {
    "duration": 92,
    "start_time": "2022-03-01T07:51:45.721Z"
   },
   {
    "duration": 13,
    "start_time": "2022-03-01T07:51:45.815Z"
   },
   {
    "duration": 8,
    "start_time": "2022-03-01T07:51:45.829Z"
   },
   {
    "duration": 13,
    "start_time": "2022-03-01T07:51:45.839Z"
   },
   {
    "duration": 7,
    "start_time": "2022-03-01T07:51:45.854Z"
   },
   {
    "duration": 20,
    "start_time": "2022-03-01T07:51:45.863Z"
   },
   {
    "duration": 20,
    "start_time": "2022-03-01T07:51:45.885Z"
   },
   {
    "duration": 8,
    "start_time": "2022-03-01T07:51:45.907Z"
   },
   {
    "duration": 5,
    "start_time": "2022-03-01T07:51:45.917Z"
   },
   {
    "duration": 19,
    "start_time": "2022-03-01T07:51:45.924Z"
   },
   {
    "duration": 9,
    "start_time": "2022-03-01T07:51:45.945Z"
   },
   {
    "duration": 1765,
    "start_time": "2022-03-01T07:51:45.956Z"
   },
   {
    "duration": 20,
    "start_time": "2022-03-01T07:51:47.723Z"
   },
   {
    "duration": 5,
    "start_time": "2022-03-01T07:51:47.745Z"
   },
   {
    "duration": 18,
    "start_time": "2022-03-01T07:51:47.751Z"
   },
   {
    "duration": 53,
    "start_time": "2022-03-01T07:51:47.771Z"
   },
   {
    "duration": 4,
    "start_time": "2022-03-01T07:51:47.826Z"
   },
   {
    "duration": 979,
    "start_time": "2022-03-01T07:51:47.832Z"
   },
   {
    "duration": -71,
    "start_time": "2022-03-01T07:51:48.884Z"
   },
   {
    "duration": -74,
    "start_time": "2022-03-01T07:51:48.888Z"
   },
   {
    "duration": -79,
    "start_time": "2022-03-01T07:51:48.893Z"
   },
   {
    "duration": -87,
    "start_time": "2022-03-01T07:51:48.902Z"
   },
   {
    "duration": -93,
    "start_time": "2022-03-01T07:51:48.909Z"
   },
   {
    "duration": -102,
    "start_time": "2022-03-01T07:51:48.919Z"
   },
   {
    "duration": -108,
    "start_time": "2022-03-01T07:51:48.925Z"
   },
   {
    "duration": -118,
    "start_time": "2022-03-01T07:51:48.936Z"
   },
   {
    "duration": -122,
    "start_time": "2022-03-01T07:51:48.941Z"
   },
   {
    "duration": -138,
    "start_time": "2022-03-01T07:51:48.958Z"
   },
   {
    "duration": -153,
    "start_time": "2022-03-01T07:51:48.973Z"
   },
   {
    "duration": -164,
    "start_time": "2022-03-01T07:51:48.985Z"
   },
   {
    "duration": -167,
    "start_time": "2022-03-01T07:51:48.989Z"
   },
   {
    "duration": -179,
    "start_time": "2022-03-01T07:51:49.002Z"
   },
   {
    "duration": -185,
    "start_time": "2022-03-01T07:51:49.008Z"
   },
   {
    "duration": -194,
    "start_time": "2022-03-01T07:51:49.018Z"
   },
   {
    "duration": -197,
    "start_time": "2022-03-01T07:51:49.022Z"
   },
   {
    "duration": -211,
    "start_time": "2022-03-01T07:51:49.036Z"
   },
   {
    "duration": -215,
    "start_time": "2022-03-01T07:51:49.041Z"
   },
   {
    "duration": -225,
    "start_time": "2022-03-01T07:51:49.052Z"
   },
   {
    "duration": -229,
    "start_time": "2022-03-01T07:51:49.056Z"
   },
   {
    "duration": -241,
    "start_time": "2022-03-01T07:51:49.069Z"
   },
   {
    "duration": -244,
    "start_time": "2022-03-01T07:51:49.073Z"
   },
   {
    "duration": -254,
    "start_time": "2022-03-01T07:51:49.084Z"
   },
   {
    "duration": -257,
    "start_time": "2022-03-01T07:51:49.088Z"
   },
   {
    "duration": -263,
    "start_time": "2022-03-01T07:51:49.094Z"
   },
   {
    "duration": -272,
    "start_time": "2022-03-01T07:51:49.104Z"
   },
   {
    "duration": -276,
    "start_time": "2022-03-01T07:51:49.109Z"
   },
   {
    "duration": -286,
    "start_time": "2022-03-01T07:51:49.120Z"
   },
   {
    "duration": 361,
    "start_time": "2022-03-01T07:54:18.663Z"
   },
   {
    "duration": 2,
    "start_time": "2022-03-01T07:54:24.488Z"
   },
   {
    "duration": 477,
    "start_time": "2022-03-01T07:54:24.492Z"
   },
   {
    "duration": 9,
    "start_time": "2022-03-01T07:54:24.971Z"
   },
   {
    "duration": 36,
    "start_time": "2022-03-01T07:54:24.982Z"
   },
   {
    "duration": 10,
    "start_time": "2022-03-01T07:54:25.020Z"
   },
   {
    "duration": 274,
    "start_time": "2022-03-01T07:54:25.032Z"
   },
   {
    "duration": 14,
    "start_time": "2022-03-01T07:54:25.308Z"
   },
   {
    "duration": 8,
    "start_time": "2022-03-01T07:54:25.324Z"
   },
   {
    "duration": 41,
    "start_time": "2022-03-01T07:54:25.334Z"
   },
   {
    "duration": 13,
    "start_time": "2022-03-01T07:54:25.376Z"
   },
   {
    "duration": 33,
    "start_time": "2022-03-01T07:54:25.390Z"
   },
   {
    "duration": 25,
    "start_time": "2022-03-01T07:54:25.424Z"
   },
   {
    "duration": 46,
    "start_time": "2022-03-01T07:54:25.451Z"
   },
   {
    "duration": 10,
    "start_time": "2022-03-01T07:54:25.499Z"
   },
   {
    "duration": 30,
    "start_time": "2022-03-01T07:54:25.511Z"
   },
   {
    "duration": 399,
    "start_time": "2022-03-01T07:54:25.544Z"
   },
   {
    "duration": 16,
    "start_time": "2022-03-01T07:54:25.945Z"
   },
   {
    "duration": 38,
    "start_time": "2022-03-01T07:54:25.963Z"
   },
   {
    "duration": 250,
    "start_time": "2022-03-01T07:54:26.006Z"
   },
   {
    "duration": 7,
    "start_time": "2022-03-01T07:54:26.259Z"
   },
   {
    "duration": 29,
    "start_time": "2022-03-01T07:54:26.267Z"
   },
   {
    "duration": 18,
    "start_time": "2022-03-01T07:54:26.297Z"
   },
   {
    "duration": 20,
    "start_time": "2022-03-01T07:54:26.317Z"
   },
   {
    "duration": 20,
    "start_time": "2022-03-01T07:54:26.338Z"
   },
   {
    "duration": 19,
    "start_time": "2022-03-01T07:54:26.359Z"
   },
   {
    "duration": 22,
    "start_time": "2022-03-01T07:54:26.380Z"
   },
   {
    "duration": 61,
    "start_time": "2022-03-01T07:54:26.404Z"
   },
   {
    "duration": 3,
    "start_time": "2022-03-01T07:54:26.466Z"
   },
   {
    "duration": 27,
    "start_time": "2022-03-01T07:54:26.470Z"
   },
   {
    "duration": 61,
    "start_time": "2022-03-01T07:54:26.499Z"
   },
   {
    "duration": 10,
    "start_time": "2022-03-01T07:54:26.562Z"
   },
   {
    "duration": 12,
    "start_time": "2022-03-01T07:54:26.574Z"
   },
   {
    "duration": 24,
    "start_time": "2022-03-01T07:54:26.588Z"
   },
   {
    "duration": 30,
    "start_time": "2022-03-01T07:54:26.613Z"
   },
   {
    "duration": 17,
    "start_time": "2022-03-01T07:54:26.645Z"
   },
   {
    "duration": 340,
    "start_time": "2022-03-01T07:54:26.664Z"
   },
   {
    "duration": 46,
    "start_time": "2022-03-01T07:54:27.006Z"
   },
   {
    "duration": 109,
    "start_time": "2022-03-01T07:54:27.054Z"
   },
   {
    "duration": 13,
    "start_time": "2022-03-01T07:54:27.165Z"
   },
   {
    "duration": 11,
    "start_time": "2022-03-01T07:54:27.180Z"
   },
   {
    "duration": 20,
    "start_time": "2022-03-01T07:54:27.193Z"
   },
   {
    "duration": 6,
    "start_time": "2022-03-01T07:54:27.215Z"
   },
   {
    "duration": 24,
    "start_time": "2022-03-01T07:54:27.222Z"
   },
   {
    "duration": 9,
    "start_time": "2022-03-01T07:54:27.247Z"
   },
   {
    "duration": 21,
    "start_time": "2022-03-01T07:54:27.257Z"
   },
   {
    "duration": 8,
    "start_time": "2022-03-01T07:54:27.280Z"
   },
   {
    "duration": 23,
    "start_time": "2022-03-01T07:54:27.289Z"
   },
   {
    "duration": 16,
    "start_time": "2022-03-01T07:54:27.313Z"
   },
   {
    "duration": 914,
    "start_time": "2022-03-01T07:54:27.330Z"
   },
   {
    "duration": 14,
    "start_time": "2022-03-01T07:54:28.245Z"
   },
   {
    "duration": 21,
    "start_time": "2022-03-01T07:54:28.260Z"
   },
   {
    "duration": 33,
    "start_time": "2022-03-01T07:54:28.282Z"
   },
   {
    "duration": 29,
    "start_time": "2022-03-01T07:54:28.316Z"
   },
   {
    "duration": 11,
    "start_time": "2022-03-01T07:54:28.347Z"
   },
   {
    "duration": 373,
    "start_time": "2022-03-01T07:54:28.363Z"
   },
   {
    "duration": 247,
    "start_time": "2022-03-01T07:54:28.739Z"
   },
   {
    "duration": 234,
    "start_time": "2022-03-01T07:54:28.987Z"
   },
   {
    "duration": 272,
    "start_time": "2022-03-01T07:54:29.223Z"
   },
   {
    "duration": 266,
    "start_time": "2022-03-01T07:54:29.501Z"
   },
   {
    "duration": 12,
    "start_time": "2022-03-01T07:54:29.769Z"
   },
   {
    "duration": 142,
    "start_time": "2022-03-01T07:54:29.782Z"
   },
   {
    "duration": 5,
    "start_time": "2022-03-01T07:54:29.926Z"
   },
   {
    "duration": 1694,
    "start_time": "2022-03-01T07:54:29.932Z"
   },
   {
    "duration": 1582,
    "start_time": "2022-03-01T07:54:31.628Z"
   },
   {
    "duration": 7,
    "start_time": "2022-03-01T07:54:33.212Z"
   },
   {
    "duration": 14,
    "start_time": "2022-03-01T07:54:33.221Z"
   },
   {
    "duration": 10,
    "start_time": "2022-03-01T07:54:33.236Z"
   },
   {
    "duration": 9,
    "start_time": "2022-03-01T07:54:33.247Z"
   },
   {
    "duration": 12,
    "start_time": "2022-03-01T07:54:33.257Z"
   },
   {
    "duration": 598,
    "start_time": "2022-03-01T07:54:33.270Z"
   },
   {
    "duration": 571,
    "start_time": "2022-03-01T07:54:33.869Z"
   },
   {
    "duration": 566,
    "start_time": "2022-03-01T07:54:34.442Z"
   },
   {
    "duration": 192,
    "start_time": "2022-03-01T07:54:35.009Z"
   },
   {
    "duration": 15,
    "start_time": "2022-03-01T07:54:35.203Z"
   },
   {
    "duration": 4,
    "start_time": "2022-03-01T07:54:35.220Z"
   },
   {
    "duration": 5,
    "start_time": "2022-03-01T07:54:35.225Z"
   },
   {
    "duration": 4,
    "start_time": "2022-03-01T07:54:35.232Z"
   },
   {
    "duration": 18,
    "start_time": "2022-03-01T07:54:35.238Z"
   },
   {
    "duration": 198,
    "start_time": "2022-03-01T07:54:35.258Z"
   },
   {
    "duration": 15,
    "start_time": "2022-03-01T07:54:35.457Z"
   },
   {
    "duration": 4,
    "start_time": "2022-03-01T07:54:35.474Z"
   },
   {
    "duration": 35,
    "start_time": "2022-03-01T07:54:35.479Z"
   },
   {
    "duration": 17,
    "start_time": "2022-03-01T07:54:35.516Z"
   },
   {
    "duration": 232,
    "start_time": "2022-03-01T07:54:35.535Z"
   },
   {
    "duration": 12,
    "start_time": "2022-03-01T08:08:56.374Z"
   },
   {
    "duration": 8,
    "start_time": "2022-03-01T08:09:03.340Z"
   },
   {
    "duration": 7359,
    "start_time": "2022-03-01T08:09:30.035Z"
   },
   {
    "duration": 7375,
    "start_time": "2022-03-01T08:09:41.233Z"
   },
   {
    "duration": 7402,
    "start_time": "2022-03-01T08:09:58.256Z"
   },
   {
    "duration": 3,
    "start_time": "2022-03-01T08:10:20.333Z"
   },
   {
    "duration": 354,
    "start_time": "2022-03-01T08:10:20.338Z"
   },
   {
    "duration": 7,
    "start_time": "2022-03-01T08:10:20.694Z"
   },
   {
    "duration": 19,
    "start_time": "2022-03-01T08:10:20.703Z"
   },
   {
    "duration": 9,
    "start_time": "2022-03-01T08:10:20.724Z"
   },
   {
    "duration": 367,
    "start_time": "2022-03-01T08:10:20.734Z"
   },
   {
    "duration": 17,
    "start_time": "2022-03-01T08:10:21.103Z"
   },
   {
    "duration": 9,
    "start_time": "2022-03-01T08:10:21.122Z"
   },
   {
    "duration": 15,
    "start_time": "2022-03-01T08:10:21.134Z"
   },
   {
    "duration": 3,
    "start_time": "2022-03-01T08:10:21.151Z"
   },
   {
    "duration": 6,
    "start_time": "2022-03-01T08:10:21.156Z"
   },
   {
    "duration": 37,
    "start_time": "2022-03-01T08:10:21.164Z"
   },
   {
    "duration": 12,
    "start_time": "2022-03-01T08:10:21.203Z"
   },
   {
    "duration": 1,
    "start_time": "2022-03-01T08:10:21.217Z"
   },
   {
    "duration": 8,
    "start_time": "2022-03-01T08:10:21.220Z"
   },
   {
    "duration": 246,
    "start_time": "2022-03-01T08:10:21.229Z"
   },
   {
    "duration": 25,
    "start_time": "2022-03-01T08:10:21.477Z"
   },
   {
    "duration": 20,
    "start_time": "2022-03-01T08:10:21.503Z"
   },
   {
    "duration": 244,
    "start_time": "2022-03-01T08:10:21.524Z"
   },
   {
    "duration": 6,
    "start_time": "2022-03-01T08:10:21.770Z"
   },
   {
    "duration": 24,
    "start_time": "2022-03-01T08:10:21.777Z"
   },
   {
    "duration": 6,
    "start_time": "2022-03-01T08:10:21.803Z"
   },
   {
    "duration": 6,
    "start_time": "2022-03-01T08:10:21.811Z"
   },
   {
    "duration": 9,
    "start_time": "2022-03-01T08:10:21.818Z"
   },
   {
    "duration": 6,
    "start_time": "2022-03-01T08:10:21.828Z"
   },
   {
    "duration": 8,
    "start_time": "2022-03-01T08:10:21.835Z"
   },
   {
    "duration": 80,
    "start_time": "2022-03-01T08:10:21.846Z"
   },
   {
    "duration": 2,
    "start_time": "2022-03-01T08:10:21.928Z"
   },
   {
    "duration": 4,
    "start_time": "2022-03-01T08:10:21.932Z"
   },
   {
    "duration": 46,
    "start_time": "2022-03-01T08:10:21.937Z"
   },
   {
    "duration": 22,
    "start_time": "2022-03-01T08:10:21.985Z"
   },
   {
    "duration": 8,
    "start_time": "2022-03-01T08:10:22.008Z"
   },
   {
    "duration": 9,
    "start_time": "2022-03-01T08:10:22.017Z"
   },
   {
    "duration": 8,
    "start_time": "2022-03-01T08:10:22.027Z"
   },
   {
    "duration": 13,
    "start_time": "2022-03-01T08:10:22.036Z"
   },
   {
    "duration": 6,
    "start_time": "2022-03-01T08:10:22.051Z"
   },
   {
    "duration": 7,
    "start_time": "2022-03-01T08:10:22.059Z"
   },
   {
    "duration": 882,
    "start_time": "2022-03-01T08:10:22.067Z"
   },
   {
    "duration": -143,
    "start_time": "2022-03-01T08:10:23.094Z"
   },
   {
    "duration": -147,
    "start_time": "2022-03-01T08:10:23.099Z"
   },
   {
    "duration": -149,
    "start_time": "2022-03-01T08:10:23.103Z"
   },
   {
    "duration": -153,
    "start_time": "2022-03-01T08:10:23.108Z"
   },
   {
    "duration": -156,
    "start_time": "2022-03-01T08:10:23.112Z"
   },
   {
    "duration": -158,
    "start_time": "2022-03-01T08:10:23.116Z"
   },
   {
    "duration": -161,
    "start_time": "2022-03-01T08:10:23.120Z"
   },
   {
    "duration": -165,
    "start_time": "2022-03-01T08:10:23.125Z"
   },
   {
    "duration": -167,
    "start_time": "2022-03-01T08:10:23.128Z"
   },
   {
    "duration": -170,
    "start_time": "2022-03-01T08:10:23.133Z"
   },
   {
    "duration": -172,
    "start_time": "2022-03-01T08:10:23.136Z"
   },
   {
    "duration": -175,
    "start_time": "2022-03-01T08:10:23.141Z"
   },
   {
    "duration": -177,
    "start_time": "2022-03-01T08:10:23.144Z"
   },
   {
    "duration": -181,
    "start_time": "2022-03-01T08:10:23.149Z"
   },
   {
    "duration": -182,
    "start_time": "2022-03-01T08:10:23.152Z"
   },
   {
    "duration": -156,
    "start_time": "2022-03-01T08:10:23.157Z"
   },
   {
    "duration": -158,
    "start_time": "2022-03-01T08:10:23.160Z"
   },
   {
    "duration": -161,
    "start_time": "2022-03-01T08:10:23.164Z"
   },
   {
    "duration": -162,
    "start_time": "2022-03-01T08:10:23.167Z"
   },
   {
    "duration": -165,
    "start_time": "2022-03-01T08:10:23.171Z"
   },
   {
    "duration": -168,
    "start_time": "2022-03-01T08:10:23.175Z"
   },
   {
    "duration": -170,
    "start_time": "2022-03-01T08:10:23.179Z"
   },
   {
    "duration": -173,
    "start_time": "2022-03-01T08:10:23.183Z"
   },
   {
    "duration": -192,
    "start_time": "2022-03-01T08:10:23.203Z"
   },
   {
    "duration": -195,
    "start_time": "2022-03-01T08:10:23.208Z"
   },
   {
    "duration": -198,
    "start_time": "2022-03-01T08:10:23.212Z"
   },
   {
    "duration": -200,
    "start_time": "2022-03-01T08:10:23.215Z"
   },
   {
    "duration": -202,
    "start_time": "2022-03-01T08:10:23.219Z"
   },
   {
    "duration": -205,
    "start_time": "2022-03-01T08:10:23.223Z"
   },
   {
    "duration": -208,
    "start_time": "2022-03-01T08:10:23.227Z"
   },
   {
    "duration": -209,
    "start_time": "2022-03-01T08:10:23.230Z"
   },
   {
    "duration": -212,
    "start_time": "2022-03-01T08:10:23.234Z"
   },
   {
    "duration": -216,
    "start_time": "2022-03-01T08:10:23.239Z"
   },
   {
    "duration": -221,
    "start_time": "2022-03-01T08:10:23.246Z"
   },
   {
    "duration": -224,
    "start_time": "2022-03-01T08:10:23.250Z"
   },
   {
    "duration": -227,
    "start_time": "2022-03-01T08:10:23.254Z"
   },
   {
    "duration": -229,
    "start_time": "2022-03-01T08:10:23.258Z"
   },
   {
    "duration": -232,
    "start_time": "2022-03-01T08:10:23.262Z"
   },
   {
    "duration": -234,
    "start_time": "2022-03-01T08:10:23.265Z"
   },
   {
    "duration": -236,
    "start_time": "2022-03-01T08:10:23.269Z"
   },
   {
    "duration": -239,
    "start_time": "2022-03-01T08:10:23.273Z"
   },
   {
    "duration": -242,
    "start_time": "2022-03-01T08:10:23.277Z"
   },
   {
    "duration": -243,
    "start_time": "2022-03-01T08:10:23.280Z"
   },
   {
    "duration": -246,
    "start_time": "2022-03-01T08:10:23.284Z"
   },
   {
    "duration": -248,
    "start_time": "2022-03-01T08:10:23.287Z"
   },
   {
    "duration": -252,
    "start_time": "2022-03-01T08:10:23.292Z"
   },
   {
    "duration": -255,
    "start_time": "2022-03-01T08:10:23.297Z"
   },
   {
    "duration": -206,
    "start_time": "2022-03-01T08:10:23.308Z"
   },
   {
    "duration": -38,
    "start_time": "2022-03-01T08:10:51.431Z"
   },
   {
    "duration": 8249,
    "start_time": "2022-03-01T08:13:48.569Z"
   },
   {
    "duration": 97,
    "start_time": "2022-03-01T08:15:08.683Z"
   },
   {
    "duration": 303,
    "start_time": "2022-03-01T08:19:10.482Z"
   },
   {
    "duration": 7258,
    "start_time": "2022-03-01T08:19:17.631Z"
   },
   {
    "duration": 28958,
    "start_time": "2022-03-01T08:35:31.659Z"
   },
   {
    "duration": 3,
    "start_time": "2022-03-01T08:37:21.230Z"
   },
   {
    "duration": 12,
    "start_time": "2022-03-01T08:37:26.799Z"
   },
   {
    "duration": 3,
    "start_time": "2022-03-01T08:38:23.028Z"
   },
   {
    "duration": 365,
    "start_time": "2022-03-01T08:38:23.032Z"
   },
   {
    "duration": 7,
    "start_time": "2022-03-01T08:38:23.398Z"
   },
   {
    "duration": 20,
    "start_time": "2022-03-01T08:38:23.407Z"
   },
   {
    "duration": 8,
    "start_time": "2022-03-01T08:38:23.429Z"
   },
   {
    "duration": 266,
    "start_time": "2022-03-01T08:38:23.438Z"
   },
   {
    "duration": 15,
    "start_time": "2022-03-01T08:38:23.706Z"
   },
   {
    "duration": 7,
    "start_time": "2022-03-01T08:38:23.723Z"
   },
   {
    "duration": 16,
    "start_time": "2022-03-01T08:38:23.731Z"
   },
   {
    "duration": 3,
    "start_time": "2022-03-01T08:38:23.748Z"
   },
   {
    "duration": 7,
    "start_time": "2022-03-01T08:38:23.753Z"
   },
   {
    "duration": 43,
    "start_time": "2022-03-01T08:38:23.761Z"
   },
   {
    "duration": 14,
    "start_time": "2022-03-01T08:38:23.805Z"
   },
   {
    "duration": 1,
    "start_time": "2022-03-01T08:38:23.821Z"
   },
   {
    "duration": 8,
    "start_time": "2022-03-01T08:38:23.824Z"
   },
   {
    "duration": 263,
    "start_time": "2022-03-01T08:38:23.833Z"
   },
   {
    "duration": 18,
    "start_time": "2022-03-01T08:38:24.097Z"
   },
   {
    "duration": 20,
    "start_time": "2022-03-01T08:38:24.116Z"
   },
   {
    "duration": 258,
    "start_time": "2022-03-01T08:38:24.139Z"
   },
   {
    "duration": 7,
    "start_time": "2022-03-01T08:38:24.401Z"
   },
   {
    "duration": 14,
    "start_time": "2022-03-01T08:38:24.409Z"
   },
   {
    "duration": 6,
    "start_time": "2022-03-01T08:38:24.425Z"
   },
   {
    "duration": 7,
    "start_time": "2022-03-01T08:38:24.433Z"
   },
   {
    "duration": 9,
    "start_time": "2022-03-01T08:38:24.442Z"
   },
   {
    "duration": 7,
    "start_time": "2022-03-01T08:38:24.452Z"
   },
   {
    "duration": 44,
    "start_time": "2022-03-01T08:38:24.460Z"
   },
   {
    "duration": 54,
    "start_time": "2022-03-01T08:38:24.506Z"
   },
   {
    "duration": 3,
    "start_time": "2022-03-01T08:38:24.562Z"
   },
   {
    "duration": 6,
    "start_time": "2022-03-01T08:38:24.566Z"
   },
   {
    "duration": 74,
    "start_time": "2022-03-01T08:38:24.573Z"
   },
   {
    "duration": 10,
    "start_time": "2022-03-01T08:38:24.649Z"
   },
   {
    "duration": 8,
    "start_time": "2022-03-01T08:38:24.661Z"
   },
   {
    "duration": 9,
    "start_time": "2022-03-01T08:38:24.671Z"
   },
   {
    "duration": 25,
    "start_time": "2022-03-01T08:38:24.682Z"
   },
   {
    "duration": 7,
    "start_time": "2022-03-01T08:38:24.708Z"
   },
   {
    "duration": 5,
    "start_time": "2022-03-01T08:38:24.716Z"
   },
   {
    "duration": 321,
    "start_time": "2022-03-01T08:38:24.723Z"
   },
   {
    "duration": 34,
    "start_time": "2022-03-01T08:38:25.046Z"
   },
   {
    "duration": 129,
    "start_time": "2022-03-01T08:38:25.082Z"
   },
   {
    "duration": 12,
    "start_time": "2022-03-01T08:38:25.213Z"
   },
   {
    "duration": 6,
    "start_time": "2022-03-01T08:38:25.226Z"
   },
   {
    "duration": 15,
    "start_time": "2022-03-01T08:38:25.234Z"
   },
   {
    "duration": 6,
    "start_time": "2022-03-01T08:38:25.250Z"
   },
   {
    "duration": 8,
    "start_time": "2022-03-01T08:38:25.257Z"
   },
   {
    "duration": 5,
    "start_time": "2022-03-01T08:38:25.266Z"
   },
   {
    "duration": 31,
    "start_time": "2022-03-01T08:38:25.272Z"
   },
   {
    "duration": 4,
    "start_time": "2022-03-01T08:38:25.305Z"
   },
   {
    "duration": 11,
    "start_time": "2022-03-01T08:38:25.310Z"
   },
   {
    "duration": 7,
    "start_time": "2022-03-01T08:38:25.323Z"
   },
   {
    "duration": 876,
    "start_time": "2022-03-01T08:38:25.331Z"
   },
   {
    "duration": 14,
    "start_time": "2022-03-01T08:38:26.208Z"
   },
   {
    "duration": 5,
    "start_time": "2022-03-01T08:38:26.223Z"
   },
   {
    "duration": 12,
    "start_time": "2022-03-01T08:38:26.229Z"
   },
   {
    "duration": 18,
    "start_time": "2022-03-01T08:38:26.243Z"
   },
   {
    "duration": 4,
    "start_time": "2022-03-01T08:38:26.265Z"
   },
   {
    "duration": 358,
    "start_time": "2022-03-01T08:38:26.271Z"
   },
   {
    "duration": 248,
    "start_time": "2022-03-01T08:38:26.631Z"
   },
   {
    "duration": 248,
    "start_time": "2022-03-01T08:38:26.880Z"
   },
   {
    "duration": 247,
    "start_time": "2022-03-01T08:38:27.130Z"
   },
   {
    "duration": 249,
    "start_time": "2022-03-01T08:38:27.379Z"
   },
   {
    "duration": 13,
    "start_time": "2022-03-01T08:38:27.629Z"
   },
   {
    "duration": 149,
    "start_time": "2022-03-01T08:38:27.643Z"
   },
   {
    "duration": 4,
    "start_time": "2022-03-01T08:38:27.801Z"
   },
   {
    "duration": 1309,
    "start_time": "2022-03-01T08:38:27.807Z"
   },
   {
    "duration": 2117,
    "start_time": "2022-03-01T08:38:29.118Z"
   },
   {
    "duration": 7,
    "start_time": "2022-03-01T08:38:31.237Z"
   },
   {
    "duration": 16,
    "start_time": "2022-03-01T08:38:31.245Z"
   },
   {
    "duration": 10,
    "start_time": "2022-03-01T08:38:31.262Z"
   },
   {
    "duration": 32,
    "start_time": "2022-03-01T08:38:31.274Z"
   },
   {
    "duration": 13,
    "start_time": "2022-03-01T08:38:31.308Z"
   },
   {
    "duration": 592,
    "start_time": "2022-03-01T08:38:31.323Z"
   },
   {
    "duration": 602,
    "start_time": "2022-03-01T08:38:31.917Z"
   },
   {
    "duration": 588,
    "start_time": "2022-03-01T08:38:32.522Z"
   },
   {
    "duration": 291,
    "start_time": "2022-03-01T08:38:33.112Z"
   },
   {
    "duration": 17,
    "start_time": "2022-03-01T08:38:33.405Z"
   },
   {
    "duration": 4,
    "start_time": "2022-03-01T08:38:33.424Z"
   },
   {
    "duration": 18,
    "start_time": "2022-03-01T08:38:33.429Z"
   },
   {
    "duration": 5,
    "start_time": "2022-03-01T08:38:33.448Z"
   },
   {
    "duration": 16,
    "start_time": "2022-03-01T08:38:33.455Z"
   },
   {
    "duration": 189,
    "start_time": "2022-03-01T08:38:33.473Z"
   },
   {
    "duration": 16,
    "start_time": "2022-03-01T08:38:33.664Z"
   },
   {
    "duration": 20,
    "start_time": "2022-03-01T08:38:33.681Z"
   },
   {
    "duration": 16,
    "start_time": "2022-03-01T08:38:33.703Z"
   },
   {
    "duration": 15,
    "start_time": "2022-03-01T08:38:33.720Z"
   },
   {
    "duration": 234,
    "start_time": "2022-03-01T08:38:33.737Z"
   },
   {
    "duration": 308,
    "start_time": "2022-03-01T08:38:48.462Z"
   },
   {
    "duration": 289,
    "start_time": "2022-03-01T08:39:00.738Z"
   },
   {
    "duration": 18,
    "start_time": "2022-03-01T08:39:08.100Z"
   },
   {
    "duration": 16,
    "start_time": "2022-03-01T08:49:37.505Z"
   },
   {
    "duration": 7,
    "start_time": "2022-03-01T08:49:50.705Z"
   },
   {
    "duration": 11,
    "start_time": "2022-03-01T08:50:26.913Z"
   },
   {
    "duration": 12,
    "start_time": "2022-03-01T08:50:50.956Z"
   },
   {
    "duration": 11,
    "start_time": "2022-03-01T08:51:28.350Z"
   },
   {
    "duration": 32,
    "start_time": "2022-03-01T08:55:39.829Z"
   },
   {
    "duration": 30,
    "start_time": "2022-03-01T08:55:42.697Z"
   },
   {
    "duration": 104,
    "start_time": "2022-03-01T08:56:18.779Z"
   },
   {
    "duration": 27,
    "start_time": "2022-03-01T08:57:04.697Z"
   },
   {
    "duration": 154,
    "start_time": "2022-03-01T08:57:22.737Z"
   },
   {
    "duration": 34,
    "start_time": "2022-03-01T08:57:34.042Z"
   },
   {
    "duration": 34,
    "start_time": "2022-03-01T08:57:35.606Z"
   },
   {
    "duration": 30,
    "start_time": "2022-03-01T08:57:37.305Z"
   },
   {
    "duration": 2,
    "start_time": "2022-03-01T09:00:20.590Z"
   },
   {
    "duration": 361,
    "start_time": "2022-03-01T09:00:20.594Z"
   },
   {
    "duration": 7,
    "start_time": "2022-03-01T09:00:20.957Z"
   },
   {
    "duration": 42,
    "start_time": "2022-03-01T09:00:20.965Z"
   },
   {
    "duration": 8,
    "start_time": "2022-03-01T09:00:21.009Z"
   },
   {
    "duration": 262,
    "start_time": "2022-03-01T09:00:21.018Z"
   },
   {
    "duration": 23,
    "start_time": "2022-03-01T09:00:21.281Z"
   },
   {
    "duration": 8,
    "start_time": "2022-03-01T09:00:21.305Z"
   },
   {
    "duration": 36,
    "start_time": "2022-03-01T09:00:21.316Z"
   },
   {
    "duration": 11,
    "start_time": "2022-03-01T09:00:21.354Z"
   },
   {
    "duration": 33,
    "start_time": "2022-03-01T09:00:21.366Z"
   },
   {
    "duration": 22,
    "start_time": "2022-03-01T09:00:21.400Z"
   },
   {
    "duration": 28,
    "start_time": "2022-03-01T09:00:21.424Z"
   },
   {
    "duration": 14,
    "start_time": "2022-03-01T09:00:21.453Z"
   },
   {
    "duration": 29,
    "start_time": "2022-03-01T09:00:21.468Z"
   },
   {
    "duration": 247,
    "start_time": "2022-03-01T09:00:21.498Z"
   },
   {
    "duration": 15,
    "start_time": "2022-03-01T09:00:21.746Z"
   },
   {
    "duration": 31,
    "start_time": "2022-03-01T09:00:21.762Z"
   },
   {
    "duration": 246,
    "start_time": "2022-03-01T09:00:21.794Z"
   },
   {
    "duration": 7,
    "start_time": "2022-03-01T09:00:22.042Z"
   },
   {
    "duration": 23,
    "start_time": "2022-03-01T09:00:22.051Z"
   },
   {
    "duration": 25,
    "start_time": "2022-03-01T09:00:22.075Z"
   },
   {
    "duration": 24,
    "start_time": "2022-03-01T09:00:22.101Z"
   },
   {
    "duration": 17,
    "start_time": "2022-03-01T09:00:22.126Z"
   },
   {
    "duration": 25,
    "start_time": "2022-03-01T09:00:22.144Z"
   },
   {
    "duration": 23,
    "start_time": "2022-03-01T09:00:22.170Z"
   },
   {
    "duration": 65,
    "start_time": "2022-03-01T09:00:22.197Z"
   },
   {
    "duration": 2,
    "start_time": "2022-03-01T09:00:22.264Z"
   },
   {
    "duration": 8,
    "start_time": "2022-03-01T09:00:22.268Z"
   },
   {
    "duration": 66,
    "start_time": "2022-03-01T09:00:22.277Z"
   },
   {
    "duration": 10,
    "start_time": "2022-03-01T09:00:22.344Z"
   },
   {
    "duration": 18,
    "start_time": "2022-03-01T09:00:22.356Z"
   },
   {
    "duration": 26,
    "start_time": "2022-03-01T09:00:22.375Z"
   },
   {
    "duration": 19,
    "start_time": "2022-03-01T09:00:22.402Z"
   },
   {
    "duration": 16,
    "start_time": "2022-03-01T09:00:22.423Z"
   },
   {
    "duration": 338,
    "start_time": "2022-03-01T09:00:22.440Z"
   },
   {
    "duration": 44,
    "start_time": "2022-03-01T09:00:22.779Z"
   },
   {
    "duration": 29,
    "start_time": "2022-03-01T09:00:22.824Z"
   },
   {
    "duration": 12,
    "start_time": "2022-03-01T09:00:22.855Z"
   },
   {
    "duration": 20,
    "start_time": "2022-03-01T09:00:22.869Z"
   },
   {
    "duration": 31,
    "start_time": "2022-03-01T09:00:22.890Z"
   },
   {
    "duration": 6,
    "start_time": "2022-03-01T09:00:22.923Z"
   },
   {
    "duration": 21,
    "start_time": "2022-03-01T09:00:22.931Z"
   },
   {
    "duration": 7,
    "start_time": "2022-03-01T09:00:22.953Z"
   },
   {
    "duration": 16,
    "start_time": "2022-03-01T09:00:22.962Z"
   },
   {
    "duration": 17,
    "start_time": "2022-03-01T09:00:22.980Z"
   },
   {
    "duration": 16,
    "start_time": "2022-03-01T09:00:22.998Z"
   },
   {
    "duration": 24,
    "start_time": "2022-03-01T09:00:23.016Z"
   },
   {
    "duration": 869,
    "start_time": "2022-03-01T09:00:23.042Z"
   },
   {
    "duration": 14,
    "start_time": "2022-03-01T09:00:23.913Z"
   },
   {
    "duration": 7,
    "start_time": "2022-03-01T09:00:23.929Z"
   },
   {
    "duration": 30,
    "start_time": "2022-03-01T09:00:23.938Z"
   },
   {
    "duration": 27,
    "start_time": "2022-03-01T09:00:23.970Z"
   },
   {
    "duration": 5,
    "start_time": "2022-03-01T09:00:23.999Z"
   },
   {
    "duration": 331,
    "start_time": "2022-03-01T09:00:24.005Z"
   },
   {
    "duration": 228,
    "start_time": "2022-03-01T09:00:24.338Z"
   },
   {
    "duration": 263,
    "start_time": "2022-03-01T09:00:24.567Z"
   },
   {
    "duration": 316,
    "start_time": "2022-03-01T09:00:24.832Z"
   },
   {
    "duration": 31,
    "start_time": "2022-03-01T09:00:25.120Z"
   },
   {
    "duration": 28,
    "start_time": "2022-03-01T09:00:25.124Z"
   },
   {
    "duration": 26,
    "start_time": "2022-03-01T09:00:25.128Z"
   },
   {
    "duration": 22,
    "start_time": "2022-03-01T09:00:25.133Z"
   },
   {
    "duration": 19,
    "start_time": "2022-03-01T09:00:25.137Z"
   },
   {
    "duration": 16,
    "start_time": "2022-03-01T09:00:25.142Z"
   },
   {
    "duration": 13,
    "start_time": "2022-03-01T09:00:25.146Z"
   },
   {
    "duration": 10,
    "start_time": "2022-03-01T09:00:25.150Z"
   },
   {
    "duration": 8,
    "start_time": "2022-03-01T09:00:25.154Z"
   },
   {
    "duration": 5,
    "start_time": "2022-03-01T09:00:25.158Z"
   },
   {
    "duration": 4,
    "start_time": "2022-03-01T09:00:25.161Z"
   },
   {
    "duration": 0,
    "start_time": "2022-03-01T09:00:25.166Z"
   },
   {
    "duration": -2,
    "start_time": "2022-03-01T09:00:25.169Z"
   },
   {
    "duration": -4,
    "start_time": "2022-03-01T09:00:25.173Z"
   },
   {
    "duration": -6,
    "start_time": "2022-03-01T09:00:25.176Z"
   },
   {
    "duration": -9,
    "start_time": "2022-03-01T09:00:25.180Z"
   },
   {
    "duration": -11,
    "start_time": "2022-03-01T09:00:25.184Z"
   },
   {
    "duration": -14,
    "start_time": "2022-03-01T09:00:25.188Z"
   },
   {
    "duration": -16,
    "start_time": "2022-03-01T09:00:25.191Z"
   },
   {
    "duration": -19,
    "start_time": "2022-03-01T09:00:25.196Z"
   },
   {
    "duration": -22,
    "start_time": "2022-03-01T09:00:25.200Z"
   },
   {
    "duration": -25,
    "start_time": "2022-03-01T09:00:25.204Z"
   },
   {
    "duration": -26,
    "start_time": "2022-03-01T09:00:25.207Z"
   },
   {
    "duration": -29,
    "start_time": "2022-03-01T09:00:25.211Z"
   },
   {
    "duration": -31,
    "start_time": "2022-03-01T09:00:25.215Z"
   },
   {
    "duration": -41,
    "start_time": "2022-03-01T09:00:25.226Z"
   },
   {
    "duration": 36,
    "start_time": "2022-03-01T09:02:17.506Z"
   },
   {
    "duration": 3,
    "start_time": "2022-03-01T09:02:20.315Z"
   },
   {
    "duration": 359,
    "start_time": "2022-03-01T09:02:20.320Z"
   },
   {
    "duration": 7,
    "start_time": "2022-03-01T09:02:20.681Z"
   },
   {
    "duration": 20,
    "start_time": "2022-03-01T09:02:20.690Z"
   },
   {
    "duration": 8,
    "start_time": "2022-03-01T09:02:20.712Z"
   },
   {
    "duration": 397,
    "start_time": "2022-03-01T09:02:20.721Z"
   },
   {
    "duration": 17,
    "start_time": "2022-03-01T09:02:21.119Z"
   },
   {
    "duration": 9,
    "start_time": "2022-03-01T09:02:21.137Z"
   },
   {
    "duration": 17,
    "start_time": "2022-03-01T09:02:21.148Z"
   },
   {
    "duration": 3,
    "start_time": "2022-03-01T09:02:21.167Z"
   },
   {
    "duration": 34,
    "start_time": "2022-03-01T09:02:21.172Z"
   },
   {
    "duration": 13,
    "start_time": "2022-03-01T09:02:21.207Z"
   },
   {
    "duration": 15,
    "start_time": "2022-03-01T09:02:21.221Z"
   },
   {
    "duration": 2,
    "start_time": "2022-03-01T09:02:21.238Z"
   },
   {
    "duration": 9,
    "start_time": "2022-03-01T09:02:21.241Z"
   },
   {
    "duration": 262,
    "start_time": "2022-03-01T09:02:21.252Z"
   },
   {
    "duration": 17,
    "start_time": "2022-03-01T09:02:21.515Z"
   },
   {
    "duration": 21,
    "start_time": "2022-03-01T09:02:21.533Z"
   },
   {
    "duration": 267,
    "start_time": "2022-03-01T09:02:21.555Z"
   },
   {
    "duration": 6,
    "start_time": "2022-03-01T09:02:21.824Z"
   },
   {
    "duration": 16,
    "start_time": "2022-03-01T09:02:21.831Z"
   },
   {
    "duration": 9,
    "start_time": "2022-03-01T09:02:21.848Z"
   },
   {
    "duration": 8,
    "start_time": "2022-03-01T09:02:21.858Z"
   },
   {
    "duration": 36,
    "start_time": "2022-03-01T09:02:21.868Z"
   },
   {
    "duration": 12,
    "start_time": "2022-03-01T09:02:21.906Z"
   },
   {
    "duration": 15,
    "start_time": "2022-03-01T09:02:21.920Z"
   },
   {
    "duration": 62,
    "start_time": "2022-03-01T09:02:21.939Z"
   },
   {
    "duration": 2,
    "start_time": "2022-03-01T09:02:22.004Z"
   },
   {
    "duration": 5,
    "start_time": "2022-03-01T09:02:22.007Z"
   },
   {
    "duration": 52,
    "start_time": "2022-03-01T09:02:22.013Z"
   },
   {
    "duration": 10,
    "start_time": "2022-03-01T09:02:22.067Z"
   },
   {
    "duration": 23,
    "start_time": "2022-03-01T09:02:22.079Z"
   },
   {
    "duration": 8,
    "start_time": "2022-03-01T09:02:22.103Z"
   },
   {
    "duration": 8,
    "start_time": "2022-03-01T09:02:22.112Z"
   },
   {
    "duration": 5,
    "start_time": "2022-03-01T09:02:22.122Z"
   },
   {
    "duration": 317,
    "start_time": "2022-03-01T09:02:22.128Z"
   },
   {
    "duration": 33,
    "start_time": "2022-03-01T09:02:22.447Z"
   },
   {
    "duration": 41,
    "start_time": "2022-03-01T09:02:22.481Z"
   },
   {
    "duration": 13,
    "start_time": "2022-03-01T09:02:22.523Z"
   },
   {
    "duration": 5,
    "start_time": "2022-03-01T09:02:22.537Z"
   },
   {
    "duration": 13,
    "start_time": "2022-03-01T09:02:22.544Z"
   },
   {
    "duration": 6,
    "start_time": "2022-03-01T09:02:22.558Z"
   },
   {
    "duration": 9,
    "start_time": "2022-03-01T09:02:22.565Z"
   },
   {
    "duration": 27,
    "start_time": "2022-03-01T09:02:22.576Z"
   },
   {
    "duration": 6,
    "start_time": "2022-03-01T09:02:22.604Z"
   },
   {
    "duration": 5,
    "start_time": "2022-03-01T09:02:22.611Z"
   },
   {
    "duration": 15,
    "start_time": "2022-03-01T09:02:22.618Z"
   },
   {
    "duration": 7,
    "start_time": "2022-03-01T09:02:22.634Z"
   },
   {
    "duration": 864,
    "start_time": "2022-03-01T09:02:22.642Z"
   },
   {
    "duration": 12,
    "start_time": "2022-03-01T09:02:23.508Z"
   },
   {
    "duration": 4,
    "start_time": "2022-03-01T09:02:23.522Z"
   },
   {
    "duration": 15,
    "start_time": "2022-03-01T09:02:23.527Z"
   },
   {
    "duration": 19,
    "start_time": "2022-03-01T09:02:23.544Z"
   },
   {
    "duration": 3,
    "start_time": "2022-03-01T09:02:23.564Z"
   },
   {
    "duration": 341,
    "start_time": "2022-03-01T09:02:23.569Z"
   },
   {
    "duration": 215,
    "start_time": "2022-03-01T09:02:23.912Z"
   },
   {
    "duration": 235,
    "start_time": "2022-03-01T09:02:24.129Z"
   },
   {
    "duration": 311,
    "start_time": "2022-03-01T09:02:24.366Z"
   },
   {
    "duration": 50,
    "start_time": "2022-03-01T09:02:24.629Z"
   },
   {
    "duration": 45,
    "start_time": "2022-03-01T09:02:24.636Z"
   },
   {
    "duration": 42,
    "start_time": "2022-03-01T09:02:24.640Z"
   },
   {
    "duration": 39,
    "start_time": "2022-03-01T09:02:24.644Z"
   },
   {
    "duration": 36,
    "start_time": "2022-03-01T09:02:24.649Z"
   },
   {
    "duration": 33,
    "start_time": "2022-03-01T09:02:24.653Z"
   },
   {
    "duration": 30,
    "start_time": "2022-03-01T09:02:24.657Z"
   },
   {
    "duration": 27,
    "start_time": "2022-03-01T09:02:24.661Z"
   },
   {
    "duration": 25,
    "start_time": "2022-03-01T09:02:24.665Z"
   },
   {
    "duration": 15,
    "start_time": "2022-03-01T09:02:24.676Z"
   },
   {
    "duration": 13,
    "start_time": "2022-03-01T09:02:24.679Z"
   },
   {
    "duration": 10,
    "start_time": "2022-03-01T09:02:24.683Z"
   },
   {
    "duration": 7,
    "start_time": "2022-03-01T09:02:24.687Z"
   },
   {
    "duration": 4,
    "start_time": "2022-03-01T09:02:24.691Z"
   },
   {
    "duration": 2,
    "start_time": "2022-03-01T09:02:24.694Z"
   },
   {
    "duration": -2,
    "start_time": "2022-03-01T09:02:24.699Z"
   },
   {
    "duration": -4,
    "start_time": "2022-03-01T09:02:24.702Z"
   },
   {
    "duration": -8,
    "start_time": "2022-03-01T09:02:24.706Z"
   },
   {
    "duration": -11,
    "start_time": "2022-03-01T09:02:24.710Z"
   },
   {
    "duration": -14,
    "start_time": "2022-03-01T09:02:24.714Z"
   },
   {
    "duration": -17,
    "start_time": "2022-03-01T09:02:24.718Z"
   },
   {
    "duration": -20,
    "start_time": "2022-03-01T09:02:24.722Z"
   },
   {
    "duration": -22,
    "start_time": "2022-03-01T09:02:24.725Z"
   },
   {
    "duration": -25,
    "start_time": "2022-03-01T09:02:24.729Z"
   },
   {
    "duration": -28,
    "start_time": "2022-03-01T09:02:24.733Z"
   },
   {
    "duration": -31,
    "start_time": "2022-03-01T09:02:24.737Z"
   },
   {
    "duration": 33,
    "start_time": "2022-03-01T09:03:38.168Z"
   },
   {
    "duration": 3,
    "start_time": "2022-03-01T09:03:40.818Z"
   },
   {
    "duration": 373,
    "start_time": "2022-03-01T09:03:40.823Z"
   },
   {
    "duration": 8,
    "start_time": "2022-03-01T09:03:41.198Z"
   },
   {
    "duration": 21,
    "start_time": "2022-03-01T09:03:41.207Z"
   },
   {
    "duration": 8,
    "start_time": "2022-03-01T09:03:41.230Z"
   },
   {
    "duration": 266,
    "start_time": "2022-03-01T09:03:41.240Z"
   },
   {
    "duration": 15,
    "start_time": "2022-03-01T09:03:41.508Z"
   },
   {
    "duration": 7,
    "start_time": "2022-03-01T09:03:41.525Z"
   },
   {
    "duration": 16,
    "start_time": "2022-03-01T09:03:41.533Z"
   },
   {
    "duration": 4,
    "start_time": "2022-03-01T09:03:41.550Z"
   },
   {
    "duration": 6,
    "start_time": "2022-03-01T09:03:41.555Z"
   },
   {
    "duration": 7,
    "start_time": "2022-03-01T09:03:41.562Z"
   },
   {
    "duration": 42,
    "start_time": "2022-03-01T09:03:41.570Z"
   },
   {
    "duration": 2,
    "start_time": "2022-03-01T09:03:41.613Z"
   },
   {
    "duration": 8,
    "start_time": "2022-03-01T09:03:41.617Z"
   },
   {
    "duration": 252,
    "start_time": "2022-03-01T09:03:41.626Z"
   },
   {
    "duration": 24,
    "start_time": "2022-03-01T09:03:41.879Z"
   },
   {
    "duration": 19,
    "start_time": "2022-03-01T09:03:41.905Z"
   },
   {
    "duration": 248,
    "start_time": "2022-03-01T09:03:41.927Z"
   },
   {
    "duration": 6,
    "start_time": "2022-03-01T09:03:42.177Z"
   },
   {
    "duration": 23,
    "start_time": "2022-03-01T09:03:42.185Z"
   },
   {
    "duration": 7,
    "start_time": "2022-03-01T09:03:42.209Z"
   },
   {
    "duration": 7,
    "start_time": "2022-03-01T09:03:42.217Z"
   },
   {
    "duration": 10,
    "start_time": "2022-03-01T09:03:42.225Z"
   },
   {
    "duration": 6,
    "start_time": "2022-03-01T09:03:42.236Z"
   },
   {
    "duration": 6,
    "start_time": "2022-03-01T09:03:42.244Z"
   },
   {
    "duration": 213,
    "start_time": "2022-03-01T09:03:42.251Z"
   },
   {
    "duration": 2,
    "start_time": "2022-03-01T09:03:42.465Z"
   },
   {
    "duration": 4,
    "start_time": "2022-03-01T09:03:42.469Z"
   },
   {
    "duration": 58,
    "start_time": "2022-03-01T09:03:42.474Z"
   },
   {
    "duration": 10,
    "start_time": "2022-03-01T09:03:42.533Z"
   },
   {
    "duration": 8,
    "start_time": "2022-03-01T09:03:42.545Z"
   },
   {
    "duration": 7,
    "start_time": "2022-03-01T09:03:42.555Z"
   },
   {
    "duration": 7,
    "start_time": "2022-03-01T09:03:42.564Z"
   },
   {
    "duration": 29,
    "start_time": "2022-03-01T09:03:42.572Z"
   },
   {
    "duration": 313,
    "start_time": "2022-03-01T09:03:42.602Z"
   },
   {
    "duration": 33,
    "start_time": "2022-03-01T09:03:42.917Z"
   },
   {
    "duration": 28,
    "start_time": "2022-03-01T09:03:42.951Z"
   },
   {
    "duration": 29,
    "start_time": "2022-03-01T09:03:42.981Z"
   },
   {
    "duration": 7,
    "start_time": "2022-03-01T09:03:43.011Z"
   },
   {
    "duration": 13,
    "start_time": "2022-03-01T09:03:43.019Z"
   },
   {
    "duration": 6,
    "start_time": "2022-03-01T09:03:43.033Z"
   },
   {
    "duration": 8,
    "start_time": "2022-03-01T09:03:43.040Z"
   },
   {
    "duration": 5,
    "start_time": "2022-03-01T09:03:43.050Z"
   },
   {
    "duration": 8,
    "start_time": "2022-03-01T09:03:43.056Z"
   },
   {
    "duration": 35,
    "start_time": "2022-03-01T09:03:43.066Z"
   },
   {
    "duration": 11,
    "start_time": "2022-03-01T09:03:43.103Z"
   },
   {
    "duration": 6,
    "start_time": "2022-03-01T09:03:43.116Z"
   },
   {
    "duration": 879,
    "start_time": "2022-03-01T09:03:43.123Z"
   },
   {
    "duration": 12,
    "start_time": "2022-03-01T09:03:44.003Z"
   },
   {
    "duration": 5,
    "start_time": "2022-03-01T09:03:44.017Z"
   },
   {
    "duration": 13,
    "start_time": "2022-03-01T09:03:44.023Z"
   },
   {
    "duration": 19,
    "start_time": "2022-03-01T09:03:44.037Z"
   },
   {
    "duration": 4,
    "start_time": "2022-03-01T09:03:44.057Z"
   },
   {
    "duration": 354,
    "start_time": "2022-03-01T09:03:44.065Z"
   },
   {
    "duration": 243,
    "start_time": "2022-03-01T09:03:44.421Z"
   },
   {
    "duration": 220,
    "start_time": "2022-03-01T09:03:44.666Z"
   },
   {
    "duration": 232,
    "start_time": "2022-03-01T09:03:44.888Z"
   },
   {
    "duration": 239,
    "start_time": "2022-03-01T09:03:45.122Z"
   },
   {
    "duration": 11,
    "start_time": "2022-03-01T09:03:45.363Z"
   },
   {
    "duration": 142,
    "start_time": "2022-03-01T09:03:45.375Z"
   },
   {
    "duration": 5,
    "start_time": "2022-03-01T09:03:45.519Z"
   },
   {
    "duration": 1282,
    "start_time": "2022-03-01T09:03:45.525Z"
   },
   {
    "duration": 1216,
    "start_time": "2022-03-01T09:03:46.809Z"
   },
   {
    "duration": 7,
    "start_time": "2022-03-01T09:03:48.027Z"
   },
   {
    "duration": 13,
    "start_time": "2022-03-01T09:03:48.036Z"
   },
   {
    "duration": 10,
    "start_time": "2022-03-01T09:03:48.051Z"
   },
   {
    "duration": 10,
    "start_time": "2022-03-01T09:03:48.062Z"
   },
   {
    "duration": 34,
    "start_time": "2022-03-01T09:03:48.073Z"
   },
   {
    "duration": 568,
    "start_time": "2022-03-01T09:03:48.108Z"
   },
   {
    "duration": 741,
    "start_time": "2022-03-01T09:03:48.678Z"
   },
   {
    "duration": 625,
    "start_time": "2022-03-01T09:03:49.421Z"
   },
   {
    "duration": 192,
    "start_time": "2022-03-01T09:03:50.048Z"
   },
   {
    "duration": 14,
    "start_time": "2022-03-01T09:03:50.242Z"
   },
   {
    "duration": 4,
    "start_time": "2022-03-01T09:03:50.258Z"
   },
   {
    "duration": 9,
    "start_time": "2022-03-01T09:03:50.263Z"
   },
   {
    "duration": 4,
    "start_time": "2022-03-01T09:03:50.273Z"
   },
   {
    "duration": 31,
    "start_time": "2022-03-01T09:03:50.279Z"
   },
   {
    "duration": 179,
    "start_time": "2022-03-01T09:03:50.312Z"
   },
   {
    "duration": 20,
    "start_time": "2022-03-01T09:03:50.493Z"
   },
   {
    "duration": 5,
    "start_time": "2022-03-01T09:03:50.514Z"
   },
   {
    "duration": 16,
    "start_time": "2022-03-01T09:03:50.521Z"
   },
   {
    "duration": 16,
    "start_time": "2022-03-01T09:03:50.538Z"
   },
   {
    "duration": 297,
    "start_time": "2022-03-01T09:03:50.556Z"
   },
   {
    "duration": 1396,
    "start_time": "2022-03-02T09:29:52.345Z"
   },
   {
    "duration": 504,
    "start_time": "2022-03-02T09:29:53.744Z"
   },
   {
    "duration": 15,
    "start_time": "2022-03-02T09:29:54.251Z"
   },
   {
    "duration": 32,
    "start_time": "2022-03-02T09:29:54.269Z"
   },
   {
    "duration": 13,
    "start_time": "2022-03-02T09:29:54.304Z"
   },
   {
    "duration": 525,
    "start_time": "2022-03-02T09:29:54.320Z"
   },
   {
    "duration": 37,
    "start_time": "2022-03-02T09:29:54.847Z"
   },
   {
    "duration": 13,
    "start_time": "2022-03-02T09:29:54.886Z"
   },
   {
    "duration": 34,
    "start_time": "2022-03-02T09:29:54.903Z"
   },
   {
    "duration": 5,
    "start_time": "2022-03-02T09:29:54.940Z"
   },
   {
    "duration": 27,
    "start_time": "2022-03-02T09:29:54.947Z"
   },
   {
    "duration": 36,
    "start_time": "2022-03-02T09:29:54.977Z"
   },
   {
    "duration": 37,
    "start_time": "2022-03-02T09:29:55.016Z"
   },
   {
    "duration": 32,
    "start_time": "2022-03-02T09:29:55.056Z"
   },
   {
    "duration": 34,
    "start_time": "2022-03-02T09:29:55.091Z"
   },
   {
    "duration": 481,
    "start_time": "2022-03-02T09:29:55.127Z"
   },
   {
    "duration": 82,
    "start_time": "2022-03-02T09:29:55.610Z"
   },
   {
    "duration": 36,
    "start_time": "2022-03-02T09:29:55.694Z"
   },
   {
    "duration": 843,
    "start_time": "2022-03-02T09:29:55.733Z"
   },
   {
    "duration": 12,
    "start_time": "2022-03-02T09:29:56.579Z"
   },
   {
    "duration": 40,
    "start_time": "2022-03-02T09:29:56.594Z"
   },
   {
    "duration": 14,
    "start_time": "2022-03-02T09:29:56.637Z"
   },
   {
    "duration": 28,
    "start_time": "2022-03-02T09:29:56.653Z"
   },
   {
    "duration": 34,
    "start_time": "2022-03-02T09:29:56.684Z"
   },
   {
    "duration": 20,
    "start_time": "2022-03-02T09:29:56.720Z"
   },
   {
    "duration": 37,
    "start_time": "2022-03-02T09:29:56.743Z"
   },
   {
    "duration": 97,
    "start_time": "2022-03-02T09:29:56.786Z"
   },
   {
    "duration": 3,
    "start_time": "2022-03-02T09:29:56.887Z"
   },
   {
    "duration": 24,
    "start_time": "2022-03-02T09:29:56.893Z"
   },
   {
    "duration": 82,
    "start_time": "2022-03-02T09:29:56.919Z"
   },
   {
    "duration": 16,
    "start_time": "2022-03-02T09:29:57.003Z"
   },
   {
    "duration": 36,
    "start_time": "2022-03-02T09:29:57.021Z"
   },
   {
    "duration": 23,
    "start_time": "2022-03-02T09:29:57.059Z"
   },
   {
    "duration": 27,
    "start_time": "2022-03-02T09:29:57.084Z"
   },
   {
    "duration": 41,
    "start_time": "2022-03-02T09:29:57.113Z"
   },
   {
    "duration": 577,
    "start_time": "2022-03-02T09:29:57.157Z"
   },
   {
    "duration": 65,
    "start_time": "2022-03-02T09:29:57.736Z"
   },
   {
    "duration": 124,
    "start_time": "2022-03-02T09:29:57.803Z"
   },
   {
    "duration": 24,
    "start_time": "2022-03-02T09:29:57.929Z"
   },
   {
    "duration": 20,
    "start_time": "2022-03-02T09:29:57.955Z"
   },
   {
    "duration": 40,
    "start_time": "2022-03-02T09:29:57.978Z"
   },
   {
    "duration": 14,
    "start_time": "2022-03-02T09:29:58.021Z"
   },
   {
    "duration": 21,
    "start_time": "2022-03-02T09:29:58.037Z"
   },
   {
    "duration": 8,
    "start_time": "2022-03-02T09:29:58.073Z"
   },
   {
    "duration": 31,
    "start_time": "2022-03-02T09:29:58.083Z"
   },
   {
    "duration": 12,
    "start_time": "2022-03-02T09:29:58.117Z"
   },
   {
    "duration": 38,
    "start_time": "2022-03-02T09:29:58.132Z"
   },
   {
    "duration": 15,
    "start_time": "2022-03-02T09:29:58.173Z"
   },
   {
    "duration": 1930,
    "start_time": "2022-03-02T09:29:58.191Z"
   },
   {
    "duration": 22,
    "start_time": "2022-03-02T09:30:00.123Z"
   },
   {
    "duration": 27,
    "start_time": "2022-03-02T09:30:00.148Z"
   },
   {
    "duration": 35,
    "start_time": "2022-03-02T09:30:00.178Z"
   },
   {
    "duration": 53,
    "start_time": "2022-03-02T09:30:00.215Z"
   },
   {
    "duration": 5,
    "start_time": "2022-03-02T09:30:00.271Z"
   },
   {
    "duration": 536,
    "start_time": "2022-03-02T09:30:00.279Z"
   },
   {
    "duration": 439,
    "start_time": "2022-03-02T09:30:00.818Z"
   },
   {
    "duration": 432,
    "start_time": "2022-03-02T09:30:01.260Z"
   },
   {
    "duration": 463,
    "start_time": "2022-03-02T09:30:01.694Z"
   },
   {
    "duration": 468,
    "start_time": "2022-03-02T09:30:02.159Z"
   },
   {
    "duration": 19,
    "start_time": "2022-03-02T09:30:02.629Z"
   },
   {
    "duration": 252,
    "start_time": "2022-03-02T09:30:02.650Z"
   },
   {
    "duration": 8,
    "start_time": "2022-03-02T09:30:02.904Z"
   },
   {
    "duration": 2205,
    "start_time": "2022-03-02T09:30:02.914Z"
   },
   {
    "duration": 2291,
    "start_time": "2022-03-02T09:30:05.121Z"
   },
   {
    "duration": 11,
    "start_time": "2022-03-02T09:30:07.414Z"
   },
   {
    "duration": 32,
    "start_time": "2022-03-02T09:30:07.428Z"
   },
   {
    "duration": 25,
    "start_time": "2022-03-02T09:30:07.462Z"
   },
   {
    "duration": 20,
    "start_time": "2022-03-02T09:30:07.490Z"
   },
   {
    "duration": 26,
    "start_time": "2022-03-02T09:30:07.512Z"
   },
   {
    "duration": 1013,
    "start_time": "2022-03-02T09:30:07.540Z"
   },
   {
    "duration": 980,
    "start_time": "2022-03-02T09:30:08.556Z"
   },
   {
    "duration": 959,
    "start_time": "2022-03-02T09:30:09.540Z"
   },
   {
    "duration": 360,
    "start_time": "2022-03-02T09:30:10.501Z"
   },
   {
    "duration": 31,
    "start_time": "2022-03-02T09:30:10.864Z"
   },
   {
    "duration": 8,
    "start_time": "2022-03-02T09:30:10.897Z"
   },
   {
    "duration": 12,
    "start_time": "2022-03-02T09:30:10.907Z"
   },
   {
    "duration": 19,
    "start_time": "2022-03-02T09:30:10.921Z"
   },
   {
    "duration": 44,
    "start_time": "2022-03-02T09:30:10.942Z"
   },
   {
    "duration": 341,
    "start_time": "2022-03-02T09:30:10.989Z"
   },
   {
    "duration": 25,
    "start_time": "2022-03-02T09:30:11.332Z"
   },
   {
    "duration": 6,
    "start_time": "2022-03-02T09:30:11.379Z"
   },
   {
    "duration": 46,
    "start_time": "2022-03-02T09:30:11.387Z"
   },
   {
    "duration": 32,
    "start_time": "2022-03-02T09:30:11.435Z"
   },
   {
    "duration": 364,
    "start_time": "2022-03-02T09:30:11.469Z"
   },
   {
    "duration": 6,
    "start_time": "2022-03-02T09:37:45.415Z"
   },
   {
    "duration": 6,
    "start_time": "2022-03-02T09:38:01.134Z"
   }
  ],
  "kernelspec": {
   "display_name": "Python 3 (ipykernel)",
   "language": "python",
   "name": "python3"
  },
  "language_info": {
   "codemirror_mode": {
    "name": "ipython",
    "version": 3
   },
   "file_extension": ".py",
   "mimetype": "text/x-python",
   "name": "python",
   "nbconvert_exporter": "python",
   "pygments_lexer": "ipython3",
   "version": "3.9.7"
  },
  "toc": {
   "base_numbering": 1,
   "nav_menu": {},
   "number_sections": false,
   "sideBar": true,
   "skip_h1_title": false,
   "title_cell": "Table of Contents",
   "title_sidebar": "Contents",
   "toc_cell": false,
   "toc_position": {
    "height": "calc(100% - 180px)",
    "left": "10px",
    "top": "150px",
    "width": "356px"
   },
   "toc_section_display": true,
   "toc_window_display": true
  }
 },
 "nbformat": 4,
 "nbformat_minor": 2
}
