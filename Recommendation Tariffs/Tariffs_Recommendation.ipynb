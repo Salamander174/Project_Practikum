{
 "cells": [
  {
   "cell_type": "markdown",
   "id": "43a06555",
   "metadata": {},
   "source": [
    "# Рекомендация тарифов"
   ]
  },
  {
   "cell_type": "markdown",
   "id": "ded8f782",
   "metadata": {},
   "source": [
    "В вашем распоряжении данные о поведении клиентов, которые уже перешли на эти тарифы (из проекта курса «Статистический анализ данных»). Нужно построить модель для задачи классификации, которая выберет подходящий тариф. Предобработка данных не понадобится — вы её уже сделали.\n",
    "\n",
    "Постройте модель с максимально большим значением *accuracy*. Чтобы сдать проект успешно, нужно довести долю правильных ответов по крайней мере до 0.75. Проверьте *accuracy* на тестовой выборке самостоятельно."
   ]
  },
  {
   "cell_type": "markdown",
   "id": "2b42b3b5",
   "metadata": {},
   "source": [
    "## Откройте и изучите файл"
   ]
  },
  {
   "cell_type": "code",
   "execution_count": 10,
   "id": "039aead3",
   "metadata": {},
   "outputs": [],
   "source": [
    "import pandas as pd\n",
    "from sklearn.model_selection import train_test_split\n",
    "from sklearn.linear_model import LogisticRegression\n",
    "from sklearn.ensemble import RandomForestClassifier\n",
    "from sklearn.tree import DecisionTreeClassifier\n",
    "from sklearn.metrics import accuracy_score\n",
    "from sklearn.metrics import roc_curve\n",
    "from sklearn.metrics import auc"
   ]
  },
  {
   "cell_type": "code",
   "execution_count": 11,
   "id": "84bb7303",
   "metadata": {},
   "outputs": [],
   "source": [
    "users_be = pd.read_csv('datasets/users_behavior.csv')"
   ]
  },
  {
   "cell_type": "code",
   "execution_count": 12,
   "id": "4231695f",
   "metadata": {},
   "outputs": [
    {
     "name": "stdout",
     "output_type": "stream",
     "text": [
      "<class 'pandas.core.frame.DataFrame'>\n",
      "RangeIndex: 3214 entries, 0 to 3213\n",
      "Data columns (total 5 columns):\n",
      " #   Column    Non-Null Count  Dtype  \n",
      "---  ------    --------------  -----  \n",
      " 0   calls     3214 non-null   float64\n",
      " 1   minutes   3214 non-null   float64\n",
      " 2   messages  3214 non-null   float64\n",
      " 3   mb_used   3214 non-null   float64\n",
      " 4   is_ultra  3214 non-null   int64  \n",
      "dtypes: float64(4), int64(1)\n",
      "memory usage: 125.7 KB\n"
     ]
    }
   ],
   "source": [
    "users_be.info()"
   ]
  },
  {
   "cell_type": "code",
   "execution_count": 13,
   "id": "da7e4ef6",
   "metadata": {},
   "outputs": [
    {
     "data": {
      "text/html": [
       "<div>\n",
       "<style scoped>\n",
       "    .dataframe tbody tr th:only-of-type {\n",
       "        vertical-align: middle;\n",
       "    }\n",
       "\n",
       "    .dataframe tbody tr th {\n",
       "        vertical-align: top;\n",
       "    }\n",
       "\n",
       "    .dataframe thead th {\n",
       "        text-align: right;\n",
       "    }\n",
       "</style>\n",
       "<table border=\"1\" class=\"dataframe\">\n",
       "  <thead>\n",
       "    <tr style=\"text-align: right;\">\n",
       "      <th></th>\n",
       "      <th>calls</th>\n",
       "      <th>minutes</th>\n",
       "      <th>messages</th>\n",
       "      <th>mb_used</th>\n",
       "      <th>is_ultra</th>\n",
       "    </tr>\n",
       "  </thead>\n",
       "  <tbody>\n",
       "    <tr>\n",
       "      <th>0</th>\n",
       "      <td>40.0</td>\n",
       "      <td>311.90</td>\n",
       "      <td>83.0</td>\n",
       "      <td>19915.42</td>\n",
       "      <td>0</td>\n",
       "    </tr>\n",
       "    <tr>\n",
       "      <th>1</th>\n",
       "      <td>85.0</td>\n",
       "      <td>516.75</td>\n",
       "      <td>56.0</td>\n",
       "      <td>22696.96</td>\n",
       "      <td>0</td>\n",
       "    </tr>\n",
       "    <tr>\n",
       "      <th>2</th>\n",
       "      <td>77.0</td>\n",
       "      <td>467.66</td>\n",
       "      <td>86.0</td>\n",
       "      <td>21060.45</td>\n",
       "      <td>0</td>\n",
       "    </tr>\n",
       "    <tr>\n",
       "      <th>3</th>\n",
       "      <td>106.0</td>\n",
       "      <td>745.53</td>\n",
       "      <td>81.0</td>\n",
       "      <td>8437.39</td>\n",
       "      <td>1</td>\n",
       "    </tr>\n",
       "    <tr>\n",
       "      <th>4</th>\n",
       "      <td>66.0</td>\n",
       "      <td>418.74</td>\n",
       "      <td>1.0</td>\n",
       "      <td>14502.75</td>\n",
       "      <td>0</td>\n",
       "    </tr>\n",
       "    <tr>\n",
       "      <th>5</th>\n",
       "      <td>58.0</td>\n",
       "      <td>344.56</td>\n",
       "      <td>21.0</td>\n",
       "      <td>15823.37</td>\n",
       "      <td>0</td>\n",
       "    </tr>\n",
       "    <tr>\n",
       "      <th>6</th>\n",
       "      <td>57.0</td>\n",
       "      <td>431.64</td>\n",
       "      <td>20.0</td>\n",
       "      <td>3738.90</td>\n",
       "      <td>1</td>\n",
       "    </tr>\n",
       "    <tr>\n",
       "      <th>7</th>\n",
       "      <td>15.0</td>\n",
       "      <td>132.40</td>\n",
       "      <td>6.0</td>\n",
       "      <td>21911.60</td>\n",
       "      <td>0</td>\n",
       "    </tr>\n",
       "    <tr>\n",
       "      <th>8</th>\n",
       "      <td>7.0</td>\n",
       "      <td>43.39</td>\n",
       "      <td>3.0</td>\n",
       "      <td>2538.67</td>\n",
       "      <td>1</td>\n",
       "    </tr>\n",
       "    <tr>\n",
       "      <th>9</th>\n",
       "      <td>90.0</td>\n",
       "      <td>665.41</td>\n",
       "      <td>38.0</td>\n",
       "      <td>17358.61</td>\n",
       "      <td>0</td>\n",
       "    </tr>\n",
       "  </tbody>\n",
       "</table>\n",
       "</div>"
      ],
      "text/plain": [
       "   calls  minutes  messages   mb_used  is_ultra\n",
       "0   40.0   311.90      83.0  19915.42         0\n",
       "1   85.0   516.75      56.0  22696.96         0\n",
       "2   77.0   467.66      86.0  21060.45         0\n",
       "3  106.0   745.53      81.0   8437.39         1\n",
       "4   66.0   418.74       1.0  14502.75         0\n",
       "5   58.0   344.56      21.0  15823.37         0\n",
       "6   57.0   431.64      20.0   3738.90         1\n",
       "7   15.0   132.40       6.0  21911.60         0\n",
       "8    7.0    43.39       3.0   2538.67         1\n",
       "9   90.0   665.41      38.0  17358.61         0"
      ]
     },
     "execution_count": 13,
     "metadata": {},
     "output_type": "execute_result"
    }
   ],
   "source": [
    "users_be.head(10)"
   ]
  },
  {
   "cell_type": "markdown",
   "id": "5a6405ee",
   "metadata": {},
   "source": [
    "Заменим messages на тип int"
   ]
  },
  {
   "cell_type": "code",
   "execution_count": 14,
   "id": "4789ca15",
   "metadata": {},
   "outputs": [],
   "source": [
    "users_be['messages'] = users_be['messages'].astype('int64')"
   ]
  },
  {
   "cell_type": "markdown",
   "id": "4f16ce89",
   "metadata": {},
   "source": [
    "Заменим calls на тип int"
   ]
  },
  {
   "cell_type": "code",
   "execution_count": 15,
   "id": "4720369f",
   "metadata": {},
   "outputs": [],
   "source": [
    "users_be['calls'] = users_be['calls'].astype('int64')"
   ]
  },
  {
   "cell_type": "code",
   "execution_count": 16,
   "id": "e64b9b32",
   "metadata": {},
   "outputs": [
    {
     "name": "stdout",
     "output_type": "stream",
     "text": [
      "<class 'pandas.core.frame.DataFrame'>\n",
      "RangeIndex: 3214 entries, 0 to 3213\n",
      "Data columns (total 5 columns):\n",
      " #   Column    Non-Null Count  Dtype  \n",
      "---  ------    --------------  -----  \n",
      " 0   calls     3214 non-null   int64  \n",
      " 1   minutes   3214 non-null   float64\n",
      " 2   messages  3214 non-null   int64  \n",
      " 3   mb_used   3214 non-null   float64\n",
      " 4   is_ultra  3214 non-null   int64  \n",
      "dtypes: float64(2), int64(3)\n",
      "memory usage: 125.7 KB\n"
     ]
    }
   ],
   "source": [
    "users_be.info()"
   ]
  },
  {
   "cell_type": "markdown",
   "id": "ecd2a59f",
   "metadata": {},
   "source": [
    "## Разбейте данные на выборки"
   ]
  },
  {
   "cell_type": "code",
   "execution_count": 17,
   "id": "8793684a",
   "metadata": {},
   "outputs": [],
   "source": [
    "# <Поделим датафрейм на обучающую выборку и выборку, которую позже разделим на валидационную и тестовую.>\n",
    "df_train, df_divide = train_test_split(users_be, test_size=0.40, random_state=12345)\n",
    "\n",
    "# <Поделим df_divide валидационную и тестовую выборку.>\n",
    "df_valid, df_test = train_test_split(df_divide, test_size=0.50, random_state=12345)"
   ]
  },
  {
   "cell_type": "markdown",
   "id": "60407776",
   "metadata": {},
   "source": [
    "## Исследуйте модели"
   ]
  },
  {
   "cell_type": "code",
   "execution_count": 18,
   "id": "14e80d60",
   "metadata": {},
   "outputs": [],
   "source": [
    "# <Разделим обучающий датафрейм на features и target - целевой признак>\n",
    "features_train = df_train.drop(['is_ultra'], axis=1)\n",
    "target_train = df_train['is_ultra']\n",
    "\n",
    "# <Разделим валидационный датафрейм на features и target - целевой признак>\n",
    "features_valid = df_valid.drop(['is_ultra'], axis=1)  \n",
    "target_valid = df_valid['is_ultra']"
   ]
  },
  {
   "cell_type": "markdown",
   "id": "6edc484b",
   "metadata": {},
   "source": [
    "Начнем с исследования модели случайного леса принятия решений.\n",
    "\n",
    "Оценим в цикле долю правильных ответов для разных глубин дерева принятия решений:"
   ]
  },
  {
   "cell_type": "code",
   "execution_count": 19,
   "id": "ac394814",
   "metadata": {},
   "outputs": [],
   "source": [
    "best_RF = None\n",
    "best_accuracy_RF = 0\n",
    "best_est_RF = 0\n",
    "best_depth_RF = 0\n",
    "for est in range(2,51):\n",
    "    for depth in range(2,25):\n",
    "        RF = RandomForestClassifier(random_state = 40,n_estimators = est, max_depth = depth)\n",
    "        RF.fit(features_train,target_train)\n",
    "        prediction_valid_RF = RF.predict(features_valid)\n",
    "        accuracy_RF = accuracy_score(target_valid, prediction_valid_RF)\n",
    "        if best_accuracy_RF < accuracy_RF:\n",
    "            best_RF = RF\n",
    "            best_depth_RF = depth\n",
    "            best_est_RF = est\n",
    "            best_accuracy_RF = accuracy_RF"
   ]
  },
  {
   "cell_type": "markdown",
   "id": "8e4803ba",
   "metadata": {},
   "source": [
    "Теперь исследуем модели дерева принятия решений.\n",
    "\n",
    "Оценим в цикле долю правильных ответов для разных глубин дерева принятия решений:"
   ]
  },
  {
   "cell_type": "code",
   "execution_count": 20,
   "id": "bad833ea",
   "metadata": {},
   "outputs": [],
   "source": [
    "best_DT = None\n",
    "best_accuracy_DT = 0\n",
    "best_depth_DT = 0\n",
    "for depth in range(2,50):\n",
    "    DT = DecisionTreeClassifier(random_state = 40, max_depth = depth)\n",
    "    DT.fit(features_train,target_train)\n",
    "    prediction_valid_DT = DT.predict(features_valid)\n",
    "    accuracy_DT = accuracy_score(target_valid, prediction_valid_DT)\n",
    "    if best_accuracy_DT < accuracy_DT:\n",
    "        best_DT = DT\n",
    "        best_accuracy_DT = accuracy_DT\n",
    "        best_depth_DT = depth"
   ]
  },
  {
   "cell_type": "markdown",
   "id": "324305d8",
   "metadata": {},
   "source": [
    "Теперь исследуем модели логистической регрессии.\n",
    "\n",
    "Оценим в цикле долю правильных ответов для разных глубин дерева принятия решений:"
   ]
  },
  {
   "cell_type": "code",
   "execution_count": 21,
   "id": "aed2e8fe",
   "metadata": {},
   "outputs": [],
   "source": [
    "LR = LogisticRegression(random_state = 40,max_iter= 1000,tol=1e-5,solver = 'lbfgs' )\n",
    "LR.fit(features_train,target_train)\n",
    "prediction_valid_LR = LR.predict(features_valid)\n",
    "accuracy_LR = accuracy_score(target_valid, prediction_valid_LR)"
   ]
  },
  {
   "cell_type": "markdown",
   "id": "916a3d5a",
   "metadata": {},
   "source": [
    "Посмотрим на все результаты"
   ]
  },
  {
   "cell_type": "code",
   "execution_count": 22,
   "id": "57385425",
   "metadata": {},
   "outputs": [
    {
     "name": "stdout",
     "output_type": "stream",
     "text": [
      "Logistic Regression: 0.7107309486780715\n",
      "Random Forest: 0.807153965785381\n",
      "Decision Tree: 0.7869362363919129\n"
     ]
    }
   ],
   "source": [
    "print(f\"Logistic Regression: {accuracy_LR}\")\n",
    "print(f\"Random Forest: {best_accuracy_RF}\")\n",
    "print(f\"Decision Tree: {best_accuracy_DT}\")"
   ]
  },
  {
   "cell_type": "markdown",
   "id": "84a938d0",
   "metadata": {},
   "source": [
    "Основываясь на показателе точности, можно прийти к выводу, что наиболее качественные результаты прогнозирует Random Forest"
   ]
  },
  {
   "cell_type": "markdown",
   "id": "b35d4202",
   "metadata": {},
   "source": [
    "## Проверьте модель на тестовой выборке"
   ]
  },
  {
   "cell_type": "code",
   "execution_count": 33,
   "id": "2f8f4c57",
   "metadata": {},
   "outputs": [],
   "source": [
    "# <Разделим тестовый датафрейм на features и target - целевой признак>\n",
    "features_test = df_test.drop(['is_ultra'], axis=1)  \n",
    "target_test = df_test['is_ultra']"
   ]
  },
  {
   "cell_type": "code",
   "execution_count": 34,
   "id": "1ee26b5f",
   "metadata": {},
   "outputs": [],
   "source": [
    "prediction_test_LR = LR.predict(features_test)\n",
    "prediction_test_RF = best_RF.predict(features_test)\n",
    "prediction_test_DT = best_DT.predict(features_test)"
   ]
  },
  {
   "cell_type": "code",
   "execution_count": 35,
   "id": "eed36a0a",
   "metadata": {},
   "outputs": [],
   "source": [
    "accuracy_LR_test = accuracy_score(prediction_test_LR, target_test)\n",
    "accuracy_RF_test = accuracy_score(prediction_test_RF, target_test)\n",
    "accuracy_DT_test = accuracy_score(prediction_test_DT, target_test)"
   ]
  },
  {
   "cell_type": "code",
   "execution_count": 36,
   "id": "952b6fa3",
   "metadata": {},
   "outputs": [
    {
     "name": "stdout",
     "output_type": "stream",
     "text": [
      "Logistic Regression: 0.6842923794712286\n",
      "Random Forest: 0.8102643856920684\n",
      "Decision Tree: 0.7838258164852255\n"
     ]
    }
   ],
   "source": [
    "print(f\"Logistic Regression: {accuracy_LR_test}\")\n",
    "print(f\"Random Forest: {accuracy_RF_test}\")\n",
    "print(f\"Decision Tree: {accuracy_DT_test}\")"
   ]
  },
  {
   "cell_type": "markdown",
   "id": "df8aa57a",
   "metadata": {},
   "source": [
    "Наиболее адекватные предсказания делает Random Forest, это видно по точности предсказания на валидационной и на тестовой выборке"
   ]
  },
  {
   "cell_type": "markdown",
   "id": "6ef32001",
   "metadata": {},
   "source": [
    "## (бонус) Проверьте модели на адекватность"
   ]
  },
  {
   "cell_type": "markdown",
   "id": "4be23a02",
   "metadata": {},
   "source": [
    "Для проверки адекватности нашей модели напишем модель (функцию), предсказывающую значение признака is_ultra самым простым способом, 50 на 50, и сравним, лучше ли наша модель:"
   ]
  },
  {
   "cell_type": "code",
   "execution_count": 37,
   "id": "7752c219",
   "metadata": {},
   "outputs": [
    {
     "name": "stdout",
     "output_type": "stream",
     "text": [
      "accuracy = 0.4899\n"
     ]
    }
   ],
   "source": [
    "import random\n",
    "import numpy as np\n",
    "\n",
    "random_predictions = np.random.randint(low = 0, high = 2, size = 643) \n",
    "\n",
    "# <подсчитаем долю правильных ответов.>\n",
    "accuracy = accuracy_score(target_test, random_predictions)\n",
    "\n",
    "# <выведем долю правильных ответов>\n",
    "print('accuracy =','{:.4f}'.format(accuracy))"
   ]
  },
  {
   "cell_type": "markdown",
   "id": "812adc8c",
   "metadata": {},
   "source": [
    "Как видим случайные ответы ошибаются примерно в 50% случаев. Наша модель ошибается реже - только лишь в 19.44% случаев."
   ]
  }
 ],
 "metadata": {
  "kernelspec": {
   "display_name": "Python 3 (ipykernel)",
   "language": "python",
   "name": "python3"
  },
  "language_info": {
   "codemirror_mode": {
    "name": "ipython",
    "version": 3
   },
   "file_extension": ".py",
   "mimetype": "text/x-python",
   "name": "python",
   "nbconvert_exporter": "python",
   "pygments_lexer": "ipython3",
   "version": "3.9.7"
  }
 },
 "nbformat": 4,
 "nbformat_minor": 5
}
