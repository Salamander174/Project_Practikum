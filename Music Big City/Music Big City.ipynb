{
 "cells": [
  {
   "cell_type": "markdown",
   "metadata": {
    "id": "E0vqbgi9ay0H"
   },
   "source": [
    "# Яндекс.Музыка"
   ]
  },
  {
   "cell_type": "markdown",
   "metadata": {
    "id": "VUC88oWjTJw2"
   },
   "source": [
    "Сравнение Москвы и Петербурга окружено мифами. Например:\n",
    " * Москва — мегаполис, подчинённый жёсткому ритму рабочей недели;\n",
    " * Петербург — культурная столица, со своими вкусами.\n",
    "\n",
    "На данных Яндекс.Музыки вы сравните поведение пользователей двух столиц.\n",
    "\n",
    "**Цель исследования** — проверьте три гипотезы:\n",
    "1. Активность пользователей зависит от дня недели. Причём в Москве и Петербурге это проявляется по-разному.\n",
    "2. В понедельник утром в Москве преобладают одни жанры, а в Петербурге — другие. Так же и вечером пятницы преобладают разные жанры — в зависимости от города. \n",
    "3. Москва и Петербург предпочитают разные жанры музыки. В Москве чаще слушают поп-музыку, в Петербурге — русский рэп.\n",
    "\n",
    "**Ход исследования**\n",
    "\n",
    "Данные о поведении пользователей вы получите из файла `yandex_music_project.csv`. О качестве данных ничего не известно. Поэтому перед проверкой гипотез понадобится обзор данных. \n",
    "\n",
    "Вы проверите данные на ошибки и оцените их влияние на исследование. Затем, на этапе предобработки вы поищете возможность исправить самые критичные ошибки данных.\n",
    " \n",
    "Таким образом, исследование пройдёт в три этапа:\n",
    " 1. Обзор данных.\n",
    " 2. Предобработка данных.\n",
    " 3. Проверка гипотез.\n",
    "\n"
   ]
  },
  {
   "cell_type": "markdown",
   "metadata": {
    "id": "Ml1hmfXC_Zcs"
   },
   "source": [
    "## Обзор данных\n",
    "\n",
    "Составьте первое представление о данных Яндекс.Музыки.\n",
    "\n",
    "\n"
   ]
  },
  {
   "cell_type": "markdown",
   "metadata": {
    "id": "57eAOGIz_Zcs"
   },
   "source": [
    "Основной инструмент аналитика — `pandas`. Импортируйте эту библиотеку."
   ]
  },
  {
   "cell_type": "code",
   "execution_count": 257,
   "metadata": {
    "id": "AXN7PHPN_Zcs"
   },
   "outputs": [],
   "source": [
    "# импорт библиотеки pandas\n",
    "import pandas as pd"
   ]
  },
  {
   "cell_type": "markdown",
   "metadata": {
    "id": "SG23P8tt_Zcs"
   },
   "source": [
    "Прочитайте файл `yandex_music_project.csv` из папки `/datasets` и сохраните его в переменной `df`:"
   ]
  },
  {
   "cell_type": "code",
   "execution_count": 258,
   "metadata": {
    "id": "fFVu7vqh_Zct"
   },
   "outputs": [],
   "source": [
    "# чтение файла с данными и сохранение в df\n",
    "df = pd.read_csv('/datasets/yandex_music_project.csv')"
   ]
  },
  {
   "cell_type": "markdown",
   "metadata": {
    "id": "rDoOMd3uTqnZ"
   },
   "source": [
    "Выведите на экран первые десять строк таблицы:"
   ]
  },
  {
   "cell_type": "code",
   "execution_count": 259,
   "metadata": {
    "id": "oWTVX3gW_Zct"
   },
   "outputs": [
    {
     "data": {
      "text/html": [
       "<div>\n",
       "<style scoped>\n",
       "    .dataframe tbody tr th:only-of-type {\n",
       "        vertical-align: middle;\n",
       "    }\n",
       "\n",
       "    .dataframe tbody tr th {\n",
       "        vertical-align: top;\n",
       "    }\n",
       "\n",
       "    .dataframe thead th {\n",
       "        text-align: right;\n",
       "    }\n",
       "</style>\n",
       "<table border=\"1\" class=\"dataframe\">\n",
       "  <thead>\n",
       "    <tr style=\"text-align: right;\">\n",
       "      <th></th>\n",
       "      <th>userID</th>\n",
       "      <th>Track</th>\n",
       "      <th>artist</th>\n",
       "      <th>genre</th>\n",
       "      <th>City</th>\n",
       "      <th>time</th>\n",
       "      <th>Day</th>\n",
       "    </tr>\n",
       "  </thead>\n",
       "  <tbody>\n",
       "    <tr>\n",
       "      <td>0</td>\n",
       "      <td>FFB692EC</td>\n",
       "      <td>Kamigata To Boots</td>\n",
       "      <td>The Mass Missile</td>\n",
       "      <td>rock</td>\n",
       "      <td>Saint-Petersburg</td>\n",
       "      <td>20:28:33</td>\n",
       "      <td>Wednesday</td>\n",
       "    </tr>\n",
       "    <tr>\n",
       "      <td>1</td>\n",
       "      <td>55204538</td>\n",
       "      <td>Delayed Because of Accident</td>\n",
       "      <td>Andreas Rönnberg</td>\n",
       "      <td>rock</td>\n",
       "      <td>Moscow</td>\n",
       "      <td>14:07:09</td>\n",
       "      <td>Friday</td>\n",
       "    </tr>\n",
       "    <tr>\n",
       "      <td>2</td>\n",
       "      <td>20EC38</td>\n",
       "      <td>Funiculì funiculà</td>\n",
       "      <td>Mario Lanza</td>\n",
       "      <td>pop</td>\n",
       "      <td>Saint-Petersburg</td>\n",
       "      <td>20:58:07</td>\n",
       "      <td>Wednesday</td>\n",
       "    </tr>\n",
       "    <tr>\n",
       "      <td>3</td>\n",
       "      <td>A3DD03C9</td>\n",
       "      <td>Dragons in the Sunset</td>\n",
       "      <td>Fire + Ice</td>\n",
       "      <td>folk</td>\n",
       "      <td>Saint-Petersburg</td>\n",
       "      <td>08:37:09</td>\n",
       "      <td>Monday</td>\n",
       "    </tr>\n",
       "    <tr>\n",
       "      <td>4</td>\n",
       "      <td>E2DC1FAE</td>\n",
       "      <td>Soul People</td>\n",
       "      <td>Space Echo</td>\n",
       "      <td>dance</td>\n",
       "      <td>Moscow</td>\n",
       "      <td>08:34:34</td>\n",
       "      <td>Monday</td>\n",
       "    </tr>\n",
       "    <tr>\n",
       "      <td>5</td>\n",
       "      <td>842029A1</td>\n",
       "      <td>Преданная</td>\n",
       "      <td>IMPERVTOR</td>\n",
       "      <td>rusrap</td>\n",
       "      <td>Saint-Petersburg</td>\n",
       "      <td>13:09:41</td>\n",
       "      <td>Friday</td>\n",
       "    </tr>\n",
       "    <tr>\n",
       "      <td>6</td>\n",
       "      <td>4CB90AA5</td>\n",
       "      <td>True</td>\n",
       "      <td>Roman Messer</td>\n",
       "      <td>dance</td>\n",
       "      <td>Moscow</td>\n",
       "      <td>13:00:07</td>\n",
       "      <td>Wednesday</td>\n",
       "    </tr>\n",
       "    <tr>\n",
       "      <td>7</td>\n",
       "      <td>F03E1C1F</td>\n",
       "      <td>Feeling This Way</td>\n",
       "      <td>Polina Griffith</td>\n",
       "      <td>dance</td>\n",
       "      <td>Moscow</td>\n",
       "      <td>20:47:49</td>\n",
       "      <td>Wednesday</td>\n",
       "    </tr>\n",
       "    <tr>\n",
       "      <td>8</td>\n",
       "      <td>8FA1D3BE</td>\n",
       "      <td>И вновь продолжается бой</td>\n",
       "      <td>NaN</td>\n",
       "      <td>ruspop</td>\n",
       "      <td>Moscow</td>\n",
       "      <td>09:17:40</td>\n",
       "      <td>Friday</td>\n",
       "    </tr>\n",
       "    <tr>\n",
       "      <td>9</td>\n",
       "      <td>E772D5C0</td>\n",
       "      <td>Pessimist</td>\n",
       "      <td>NaN</td>\n",
       "      <td>dance</td>\n",
       "      <td>Saint-Petersburg</td>\n",
       "      <td>21:20:49</td>\n",
       "      <td>Wednesday</td>\n",
       "    </tr>\n",
       "  </tbody>\n",
       "</table>\n",
       "</div>"
      ],
      "text/plain": [
       "     userID                        Track            artist   genre  \\\n",
       "0  FFB692EC            Kamigata To Boots  The Mass Missile    rock   \n",
       "1  55204538  Delayed Because of Accident  Andreas Rönnberg    rock   \n",
       "2    20EC38            Funiculì funiculà       Mario Lanza     pop   \n",
       "3  A3DD03C9        Dragons in the Sunset        Fire + Ice    folk   \n",
       "4  E2DC1FAE                  Soul People        Space Echo   dance   \n",
       "5  842029A1                    Преданная         IMPERVTOR  rusrap   \n",
       "6  4CB90AA5                         True      Roman Messer   dance   \n",
       "7  F03E1C1F             Feeling This Way   Polina Griffith   dance   \n",
       "8  8FA1D3BE     И вновь продолжается бой               NaN  ruspop   \n",
       "9  E772D5C0                    Pessimist               NaN   dance   \n",
       "\n",
       "             City        time        Day  \n",
       "0  Saint-Petersburg  20:28:33  Wednesday  \n",
       "1            Moscow  14:07:09     Friday  \n",
       "2  Saint-Petersburg  20:58:07  Wednesday  \n",
       "3  Saint-Petersburg  08:37:09     Monday  \n",
       "4            Moscow  08:34:34     Monday  \n",
       "5  Saint-Petersburg  13:09:41     Friday  \n",
       "6            Moscow  13:00:07  Wednesday  \n",
       "7            Moscow  20:47:49  Wednesday  \n",
       "8            Moscow  09:17:40     Friday  \n",
       "9  Saint-Petersburg  21:20:49  Wednesday  "
      ]
     },
     "execution_count": 259,
     "metadata": {},
     "output_type": "execute_result"
    }
   ],
   "source": [
    "# получение первых 10 строк таблицы df\n",
    "df.head(10)"
   ]
  },
  {
   "cell_type": "markdown",
   "metadata": {
    "id": "EO73Kwic_Zct"
   },
   "source": [
    "Одной командой получить общую информацию о таблице:"
   ]
  },
  {
   "cell_type": "code",
   "execution_count": 260,
   "metadata": {
    "id": "DSf2kIb-_Zct"
   },
   "outputs": [
    {
     "name": "stdout",
     "output_type": "stream",
     "text": [
      "<class 'pandas.core.frame.DataFrame'>\n",
      "RangeIndex: 65079 entries, 0 to 65078\n",
      "Data columns (total 7 columns):\n",
      "  userID    65079 non-null object\n",
      "Track       63848 non-null object\n",
      "artist      57876 non-null object\n",
      "genre       63881 non-null object\n",
      "  City      65079 non-null object\n",
      "time        65079 non-null object\n",
      "Day         65079 non-null object\n",
      "dtypes: object(7)\n",
      "memory usage: 3.5+ MB\n"
     ]
    }
   ],
   "source": [
    "# получение общей информации о данных в таблице df\n",
    "df.info()"
   ]
  },
  {
   "cell_type": "markdown",
   "metadata": {
    "id": "TaQ2Iwbr_Zct"
   },
   "source": [
    "Итак, в таблице семь столбцов. Тип данных во всех столбцах — `object`.\n",
    "\n",
    "Согласно документации к данным:\n",
    "* `userID` — идентификатор пользователя;\n",
    "* `Track` — название трека;  \n",
    "* `artist` — имя исполнителя;\n",
    "* `genre` — название жанра;\n",
    "* `City` — город пользователя;\n",
    "* `time` — время начала прослушивания;\n",
    "* `Day` — день недели.\n",
    "\n",
    "В названиях колонок видны три нарушения стиля:\n",
    "1. Строчные буквы сочетаются с прописными.\n",
    "2. Встречаются пробелы.\n",
    "3. Найдите ещё одну проблему в названии колонок и опишите её в этом пункте.\n",
    "\n",
    "\n",
    "\n",
    "Количество значений в столбцах различается. Значит, в данных есть пропущенные значения.\n"
   ]
  },
  {
   "cell_type": "markdown",
   "metadata": {
    "id": "MCB6-dXG_Zct"
   },
   "source": [
    "**Выводы**\n",
    "\n",
    "В каждой строке таблицы — данные о прослушанном треке. Часть колонок описывает саму композицию: название, исполнителя и жанр. Остальные данные рассказывают о пользователе: из какого он города, когда он слушал музыку. \n",
    "\n",
    "Предварительно можно утверждать, что, данных достаточно для проверки гипотез. Но встречаются пропуски в данных, а в названиях колонок — расхождения с хорошим стилем.\n",
    "\n",
    "Чтобы двигаться дальше, нужно устранить проблемы в данных."
   ]
  },
  {
   "cell_type": "markdown",
   "metadata": {
    "id": "SjYF6Ub9_Zct"
   },
   "source": [
    "## Предобработка данных\n",
    "Исправьте стиль в заголовках столбцов, исключите пропуски. Затем проверьте данные на дубликаты."
   ]
  },
  {
   "cell_type": "markdown",
   "metadata": {
    "id": "dIaKXr29_Zct"
   },
   "source": [
    "### Стиль заголовков\n",
    "Выведите на экран названия столбцов:"
   ]
  },
  {
   "cell_type": "code",
   "execution_count": 261,
   "metadata": {
    "id": "oKOTdF_Q_Zct"
   },
   "outputs": [
    {
     "name": "stdout",
     "output_type": "stream",
     "text": [
      "Index(['  userID', 'Track', 'artist', 'genre', '  City  ', 'time', 'Day'], dtype='object')\n"
     ]
    }
   ],
   "source": [
    "print(df.columns)"
   ]
  },
  {
   "cell_type": "markdown",
   "metadata": {
    "id": "zj5534cv_Zct"
   },
   "source": [
    "Приведите названия в соответствие с хорошим стилем:\n",
    "* несколько слов в названии запишите в «змеином_регистре»,\n",
    "* все символы сделайте строчными,\n",
    "* устраните пробелы.\n",
    "\n",
    "Для этого переименуйте колонки так:\n",
    "* `'  userID'` → `'user_id'`;\n",
    "* `'Track'` → `'track'`;\n",
    "* `'  City  '` → `'city'`;\n",
    "* `'Day'` → `'day'`."
   ]
  },
  {
   "cell_type": "code",
   "execution_count": 262,
   "metadata": {
    "id": "ISlFqs5y_Zct"
   },
   "outputs": [],
   "source": [
    "df = df.rename(columns={'  userID':'user_id', 'Track':'track', '  City  ':'city', 'Day':'day'})"
   ]
  },
  {
   "cell_type": "markdown",
   "metadata": {
    "id": "1dqbh00J_Zct"
   },
   "source": [
    "Проверьте результат. Для этого ещё раз выведите на экран названия столбцов:"
   ]
  },
  {
   "cell_type": "code",
   "execution_count": 263,
   "metadata": {
    "id": "d4NOAmTW_Zct"
   },
   "outputs": [
    {
     "name": "stdout",
     "output_type": "stream",
     "text": [
      "Index(['user_id', 'track', 'artist', 'genre', 'city', 'time', 'day'], dtype='object')\n"
     ]
    }
   ],
   "source": [
    "# проверка результатов - перечень названий столбцов\n",
    "print(df.columns)"
   ]
  },
  {
   "cell_type": "code",
   "execution_count": null,
   "metadata": {},
   "outputs": [],
   "source": [
    "df = df.rename(columns = {\n",
    "    '  userID':'user_id',\n",
    "    'Track':'track',\n",
    "    '  City  ':'city',\n",
    "    'Day':'day'})"
   ]
  },
  {
   "cell_type": "markdown",
   "metadata": {
    "id": "5ISfbcfY_Zct"
   },
   "source": [
    "### Пропуски значений\n",
    "Сначала посчитайте, сколько в таблице пропущенных значений. Для этого достаточно двух методов `pandas`:"
   ]
  },
  {
   "cell_type": "code",
   "execution_count": 264,
   "metadata": {
    "id": "RskX29qr_Zct"
   },
   "outputs": [
    {
     "data": {
      "text/plain": [
       "user_id       0\n",
       "track      1231\n",
       "artist     7203\n",
       "genre      1198\n",
       "city          0\n",
       "time          0\n",
       "day           0\n",
       "dtype: int64"
      ]
     },
     "metadata": {},
     "output_type": "display_data"
    }
   ],
   "source": [
    "# подсчёт пропусков\n",
    "display(df.isna().sum())"
   ]
  },
  {
   "cell_type": "markdown",
   "metadata": {
    "id": "qubhgnlO_Zct"
   },
   "source": [
    "Не все пропущенные значения влияют на исследование. Так в `track` и `artist` пропуски не важны для вашей работы. Достаточно заменить их явными обозначениями.\n",
    "\n",
    "Но пропуски в `genre` могут помешать сравнению музыкальных вкусов в Москве и Санкт-Петербурге. На практике было бы правильно установить причину пропусков и восстановить данные. Такой возможности нет в учебном проекте. Придётся:\n",
    "* заполнить и эти пропуски явными обозначениями,\n",
    "* оценить, насколько они повредят расчётам. "
   ]
  },
  {
   "cell_type": "markdown",
   "metadata": {
    "id": "fSv2laPA_Zct"
   },
   "source": [
    "Замените пропущенные значения в столбцах `track`, `artist` и `genre` на строку `'unknown'`. Для этого создайте список `columns_to_replace`, переберите его элементы циклом `for` и для каждого столбца выполните замену пропущенных значений:"
   ]
  },
  {
   "cell_type": "code",
   "execution_count": 265,
   "metadata": {
    "id": "KplB5qWs_Zct"
   },
   "outputs": [],
   "source": [
    "columns_to_replace = ['track','artist','genre']\n",
    "\n",
    "# заполните отсутствующие значения столбцов из списка columns_to_replace значением 'unknown' в цикле\n",
    "for fill in columns_to_replace:\n",
    "    df[fill] = df[fill].fillna('unknown')"
   ]
  },
  {
   "cell_type": "markdown",
   "metadata": {
    "id": "Ilsm-MZo_Zct"
   },
   "source": [
    "Убедитесь, что в таблице не осталось пропусков. Для этого ещё раз посчитайте пропущенные значения."
   ]
  },
  {
   "cell_type": "code",
   "execution_count": 266,
   "metadata": {
    "id": "Tq4nYRX4_Zct"
   },
   "outputs": [
    {
     "data": {
      "text/plain": [
       "user_id    0\n",
       "track      0\n",
       "artist     0\n",
       "genre      0\n",
       "city       0\n",
       "time       0\n",
       "day        0\n",
       "dtype: int64"
      ]
     },
     "metadata": {},
     "output_type": "display_data"
    }
   ],
   "source": [
    "# подсчёт пропусков\n",
    "display(df.isna().sum())"
   ]
  },
  {
   "cell_type": "markdown",
   "metadata": {
    "id": "BWKRtBJ3_Zct"
   },
   "source": [
    "### Дубликаты\n",
    "Посчитайте явные дубликаты в таблице одной командой:"
   ]
  },
  {
   "cell_type": "code",
   "execution_count": 267,
   "metadata": {
    "id": "36eES_S0_Zct"
   },
   "outputs": [
    {
     "data": {
      "text/plain": [
       "3826"
      ]
     },
     "metadata": {},
     "output_type": "display_data"
    }
   ],
   "source": [
    "# подсчёт явных дубликатов\n",
    "display(df.duplicated().sum())"
   ]
  },
  {
   "cell_type": "markdown",
   "metadata": {
    "id": "Ot25h6XR_Zct"
   },
   "source": [
    "Вызовите специальный метод `pandas`, чтобы удалить явные дубликаты:"
   ]
  },
  {
   "cell_type": "code",
   "execution_count": 268,
   "metadata": {
    "id": "exFHq6tt_Zct"
   },
   "outputs": [],
   "source": [
    "# удаление явных дубликатов (с удалением старых индексов и формированием новых)\n",
    "df = df.drop_duplicates().reset_index(drop=True)"
   ]
  },
  {
   "cell_type": "markdown",
   "metadata": {
    "id": "Im2YwBEG_Zct"
   },
   "source": [
    "Ещё раз посчитайте явные дубликаты в таблице — убедитесь, что полностью от них избавились:"
   ]
  },
  {
   "cell_type": "code",
   "execution_count": 269,
   "metadata": {
    "id": "-8PuNWQ0_Zct"
   },
   "outputs": [
    {
     "data": {
      "text/plain": [
       "0"
      ]
     },
     "metadata": {},
     "output_type": "display_data"
    }
   ],
   "source": [
    "# проверка на отсутствие дубликатов\n",
    "display(df.duplicated().sum())"
   ]
  },
  {
   "cell_type": "markdown",
   "metadata": {
    "id": "QlFBsxAr_Zct"
   },
   "source": [
    "Теперь избавьтесь от неявных дубликатов в колонке `genre`. Например, название одного и того же жанра может быть записано немного по-разному. Такие ошибки тоже повлияют на результат исследования."
   ]
  },
  {
   "cell_type": "code",
   "execution_count": null,
   "metadata": {},
   "outputs": [],
   "source": [
    "print(\"Количество пропусков: {}\".format(df.duplicated().sum()))"
   ]
  },
  {
   "cell_type": "markdown",
   "metadata": {
    "id": "eSjWwsOh_Zct"
   },
   "source": [
    "Выведите на экран список уникальных названий жанров, отсортированный в алфавитном порядке. Для этого:\n",
    "* извлеките нужный столбец датафрейма, \n",
    "* примените к нему метод сортировки,\n",
    "* для отсортированного столбца вызовите метод, который вернёт уникальные значения из столбца."
   ]
  },
  {
   "cell_type": "code",
   "execution_count": 299,
   "metadata": {
    "id": "JIUcqzZN_Zct",
    "scrolled": true
   },
   "outputs": [
    {
     "data": {
      "text/plain": [
       "array(['acid', 'acoustic', 'action', 'adult', 'africa', 'afrikaans',\n",
       "       'alternative', 'alternativepunk', 'ambient', 'americana',\n",
       "       'animated', 'anime', 'arabesk', 'arabic', 'arena',\n",
       "       'argentinetango', 'art', 'audiobook', 'author', 'avantgarde',\n",
       "       'axé', 'baile', 'balkan', 'beats', 'bigroom', 'black', 'bluegrass',\n",
       "       'blues', 'bollywood', 'bossa', 'brazilian', 'breakbeat', 'breaks',\n",
       "       'broadway', 'cantautori', 'cantopop', 'canzone', 'caribbean',\n",
       "       'caucasian', 'celtic', 'chamber', 'chanson', 'children', 'chill',\n",
       "       'chinese', 'choral', 'christian', 'christmas', 'classical',\n",
       "       'classicmetal', 'club', 'colombian', 'comedy', 'conjazz',\n",
       "       'contemporary', 'country', 'cuban', 'dance', 'dancehall',\n",
       "       'dancepop', 'dark', 'death', 'deep', 'deutschrock', 'deutschspr',\n",
       "       'dirty', 'disco', 'dnb', 'documentary', 'downbeat', 'downtempo',\n",
       "       'drum', 'dub', 'dubstep', 'eastern', 'easy', 'electronic',\n",
       "       'electropop', 'emo', 'entehno', 'epicmetal', 'estrada', 'ethnic',\n",
       "       'eurofolk', 'european', 'experimental', 'extrememetal', 'fado',\n",
       "       'fairytail', 'film', 'fitness', 'flamenco', 'folk', 'folklore',\n",
       "       'folkmetal', 'folkrock', 'folktronica', 'forró', 'frankreich',\n",
       "       'französisch', 'french', 'funk', 'future', 'gangsta', 'garage',\n",
       "       'german', 'ghazal', 'gitarre', 'glitch', 'gospel', 'gothic',\n",
       "       'grime', 'grunge', 'gypsy', 'handsup', \"hard'n'heavy\", 'hardcore',\n",
       "       'hardstyle', 'hardtechno', 'hiphop', 'historisch', 'holiday',\n",
       "       'horror', 'house', 'hymn', 'idm', 'independent', 'indian', 'indie',\n",
       "       'indipop', 'industrial', 'inspirational', 'instrumental',\n",
       "       'international', 'irish', 'jam', 'japanese', 'jazz', 'jewish',\n",
       "       'jpop', 'jungle', 'k-pop', 'karadeniz', 'karaoke', 'kayokyoku',\n",
       "       'korean', 'laiko', 'latin', 'latino', 'leftfield', 'local',\n",
       "       'lounge', 'loungeelectronic', 'lovers', 'malaysian', 'mandopop',\n",
       "       'marschmusik', 'meditative', 'mediterranean', 'melodic', 'metal',\n",
       "       'metalcore', 'mexican', 'middle', 'minimal', 'miscellaneous',\n",
       "       'modern', 'mood', 'mpb', 'muslim', 'native', 'neoklassik', 'neue',\n",
       "       'new', 'newage', 'newwave', 'nu', 'nujazz', 'numetal', 'oceania',\n",
       "       'old', 'opera', 'orchestral', 'other', 'piano', 'podcasts', 'pop',\n",
       "       'popdance', 'popelectronic', 'popeurodance', 'poprussian', 'post',\n",
       "       'posthardcore', 'postrock', 'power', 'progmetal', 'progressive',\n",
       "       'psychedelic', 'punjabi', 'punk', 'quebecois', 'ragga', 'ram',\n",
       "       'rancheras', 'rap', 'rave', 'reggae', 'reggaeton', 'regional',\n",
       "       'relax', 'religious', 'retro', 'rhythm', 'rnb', 'rnr', 'rock',\n",
       "       'rockabilly', 'rockalternative', 'rockindie', 'rockother',\n",
       "       'romance', 'roots', 'ruspop', 'rusrap', 'rusrock', 'russian',\n",
       "       'salsa', 'samba', 'scenic', 'schlager', 'self', 'sertanejo',\n",
       "       'shanson', 'shoegazing', 'showtunes', 'singer', 'ska', 'skarock',\n",
       "       'slow', 'smooth', 'soft', 'soul', 'soulful', 'sound', 'soundtrack',\n",
       "       'southern', 'specialty', 'speech', 'spiritual', 'sport',\n",
       "       'stonerrock', 'surf', 'swing', 'synthpop', 'synthrock',\n",
       "       'sängerportrait', 'tango', 'tanzorchester', 'taraftar', 'tatar',\n",
       "       'tech', 'techno', 'teen', 'thrash', 'top', 'traditional',\n",
       "       'tradjazz', 'trance', 'tribal', 'trip', 'triphop', 'tropical',\n",
       "       'türk', 'türkçe', 'ukrrock', 'unknown', 'urban', 'uzbek',\n",
       "       'variété', 'vi', 'videogame', 'vocal', 'western', 'world',\n",
       "       'worldbeat', 'ïîï', 'электроника'], dtype=object)"
      ]
     },
     "execution_count": 299,
     "metadata": {},
     "output_type": "execute_result"
    }
   ],
   "source": [
    "# Просмотр уникальных названий жанров\n",
    "sortred_df = df['genre'].sort_values(ascending=True).unique()\n",
    "sortred_df)"
   ]
  },
  {
   "cell_type": "markdown",
   "metadata": {
    "id": "qej-Qmuo_Zct"
   },
   "source": [
    "Просмотрите список и найдите неявные дубликаты названия `hiphop`. Это могут быть названия с ошибками или альтернативные названия того же жанра.\n",
    "\n",
    "Вы увидите следующие неявные дубликаты:\n",
    "* *hip*,\n",
    "* *hop*,\n",
    "* *hip-hop*.\n",
    "\n",
    "Чтобы очистить от них таблицу, напишите функцию `replace_wrong_genres()` с двумя параметрами: \n",
    "* `wrong_genres` — список дубликатов,\n",
    "* `correct_genre` — строка с правильным значением.\n",
    "\n",
    "Функция должна исправить колонку `genre` в таблице `df`: заменить каждое значение из списка `wrong_genres` на значение из `correct_genre`."
   ]
  },
  {
   "cell_type": "code",
   "execution_count": 271,
   "metadata": {
    "id": "ErNDkmns_Zct"
   },
   "outputs": [],
   "source": [
    "# Функция для замены неявных дубликатов\n",
    "def replace_wrong_genres(wrong_genres, correct_genre):\n",
    "    df['genre'] = df['genre'].replace(wrong_genres, correct_genre)"
   ]
  },
  {
   "cell_type": "markdown",
   "metadata": {
    "id": "aDoBJxbA_Zct"
   },
   "source": [
    "Вызовите `replace_wrong_genres()` и передайте ей такие аргументы, чтобы она устранила неявные дубликаты: вместо `hip`, `hop` и `hip-hop` в таблице должно быть значение `hiphop`:"
   ]
  },
  {
   "cell_type": "code",
   "execution_count": 272,
   "metadata": {
    "id": "YN5i2hpmSo09"
   },
   "outputs": [],
   "source": [
    "# Устранение неявных дубликатов\n",
    "replace_wrong_genres('hip', 'hiphop')\n",
    "replace_wrong_genres('hop', 'hiphop')\n",
    "replace_wrong_genres('hip-hop', 'hiphop')"
   ]
  },
  {
   "cell_type": "markdown",
   "metadata": {
    "id": "zQKF16_RG15m"
   },
   "source": [
    "Проверьте, что заменили неправильные названия:\n",
    "\n",
    "*   hip\n",
    "*   hop\n",
    "*   hip-hop\n",
    "\n",
    "Выведите отсортированный список уникальных значений столбца `genre`:"
   ]
  },
  {
   "cell_type": "code",
   "execution_count": 298,
   "metadata": {
    "id": "wvixALnFG15m",
    "scrolled": true
   },
   "outputs": [
    {
     "data": {
      "text/plain": [
       "['acid',\n",
       " 'acoustic',\n",
       " 'action',\n",
       " 'adult',\n",
       " 'africa',\n",
       " 'afrikaans',\n",
       " 'alternative',\n",
       " 'alternativepunk',\n",
       " 'ambient',\n",
       " 'americana',\n",
       " 'animated',\n",
       " 'anime',\n",
       " 'arabesk',\n",
       " 'arabic',\n",
       " 'arena',\n",
       " 'argentinetango',\n",
       " 'art',\n",
       " 'audiobook',\n",
       " 'author',\n",
       " 'avantgarde',\n",
       " 'axé',\n",
       " 'baile',\n",
       " 'balkan',\n",
       " 'beats',\n",
       " 'bigroom',\n",
       " 'black',\n",
       " 'bluegrass',\n",
       " 'blues',\n",
       " 'bollywood',\n",
       " 'bossa',\n",
       " 'brazilian',\n",
       " 'breakbeat',\n",
       " 'breaks',\n",
       " 'broadway',\n",
       " 'cantautori',\n",
       " 'cantopop',\n",
       " 'canzone',\n",
       " 'caribbean',\n",
       " 'caucasian',\n",
       " 'celtic',\n",
       " 'chamber',\n",
       " 'chanson',\n",
       " 'children',\n",
       " 'chill',\n",
       " 'chinese',\n",
       " 'choral',\n",
       " 'christian',\n",
       " 'christmas',\n",
       " 'classical',\n",
       " 'classicmetal',\n",
       " 'club',\n",
       " 'colombian',\n",
       " 'comedy',\n",
       " 'conjazz',\n",
       " 'contemporary',\n",
       " 'country',\n",
       " 'cuban',\n",
       " 'dance',\n",
       " 'dancehall',\n",
       " 'dancepop',\n",
       " 'dark',\n",
       " 'death',\n",
       " 'deep',\n",
       " 'deutschrock',\n",
       " 'deutschspr',\n",
       " 'dirty',\n",
       " 'disco',\n",
       " 'dnb',\n",
       " 'documentary',\n",
       " 'downbeat',\n",
       " 'downtempo',\n",
       " 'drum',\n",
       " 'dub',\n",
       " 'dubstep',\n",
       " 'eastern',\n",
       " 'easy',\n",
       " 'electronic',\n",
       " 'electropop',\n",
       " 'emo',\n",
       " 'entehno',\n",
       " 'epicmetal',\n",
       " 'estrada',\n",
       " 'ethnic',\n",
       " 'eurofolk',\n",
       " 'european',\n",
       " 'experimental',\n",
       " 'extrememetal',\n",
       " 'fado',\n",
       " 'fairytail',\n",
       " 'film',\n",
       " 'fitness',\n",
       " 'flamenco',\n",
       " 'folk',\n",
       " 'folklore',\n",
       " 'folkmetal',\n",
       " 'folkrock',\n",
       " 'folktronica',\n",
       " 'forró',\n",
       " 'frankreich',\n",
       " 'französisch',\n",
       " 'french',\n",
       " 'funk',\n",
       " 'future',\n",
       " 'gangsta',\n",
       " 'garage',\n",
       " 'german',\n",
       " 'ghazal',\n",
       " 'gitarre',\n",
       " 'glitch',\n",
       " 'gospel',\n",
       " 'gothic',\n",
       " 'grime',\n",
       " 'grunge',\n",
       " 'gypsy',\n",
       " 'handsup',\n",
       " \"hard'n'heavy\",\n",
       " 'hardcore',\n",
       " 'hardstyle',\n",
       " 'hardtechno',\n",
       " 'hiphop',\n",
       " 'historisch',\n",
       " 'holiday',\n",
       " 'horror',\n",
       " 'house',\n",
       " 'hymn',\n",
       " 'idm',\n",
       " 'independent',\n",
       " 'indian',\n",
       " 'indie',\n",
       " 'indipop',\n",
       " 'industrial',\n",
       " 'inspirational',\n",
       " 'instrumental',\n",
       " 'international',\n",
       " 'irish',\n",
       " 'jam',\n",
       " 'japanese',\n",
       " 'jazz',\n",
       " 'jewish',\n",
       " 'jpop',\n",
       " 'jungle',\n",
       " 'k-pop',\n",
       " 'karadeniz',\n",
       " 'karaoke',\n",
       " 'kayokyoku',\n",
       " 'korean',\n",
       " 'laiko',\n",
       " 'latin',\n",
       " 'latino',\n",
       " 'leftfield',\n",
       " 'local',\n",
       " 'lounge',\n",
       " 'loungeelectronic',\n",
       " 'lovers',\n",
       " 'malaysian',\n",
       " 'mandopop',\n",
       " 'marschmusik',\n",
       " 'meditative',\n",
       " 'mediterranean',\n",
       " 'melodic',\n",
       " 'metal',\n",
       " 'metalcore',\n",
       " 'mexican',\n",
       " 'middle',\n",
       " 'minimal',\n",
       " 'miscellaneous',\n",
       " 'modern',\n",
       " 'mood',\n",
       " 'mpb',\n",
       " 'muslim',\n",
       " 'native',\n",
       " 'neoklassik',\n",
       " 'neue',\n",
       " 'new',\n",
       " 'newage',\n",
       " 'newwave',\n",
       " 'nu',\n",
       " 'nujazz',\n",
       " 'numetal',\n",
       " 'oceania',\n",
       " 'old',\n",
       " 'opera',\n",
       " 'orchestral',\n",
       " 'other',\n",
       " 'piano',\n",
       " 'podcasts',\n",
       " 'pop',\n",
       " 'popdance',\n",
       " 'popelectronic',\n",
       " 'popeurodance',\n",
       " 'poprussian',\n",
       " 'post',\n",
       " 'posthardcore',\n",
       " 'postrock',\n",
       " 'power',\n",
       " 'progmetal',\n",
       " 'progressive',\n",
       " 'psychedelic',\n",
       " 'punjabi',\n",
       " 'punk',\n",
       " 'quebecois',\n",
       " 'ragga',\n",
       " 'ram',\n",
       " 'rancheras',\n",
       " 'rap',\n",
       " 'rave',\n",
       " 'reggae',\n",
       " 'reggaeton',\n",
       " 'regional',\n",
       " 'relax',\n",
       " 'religious',\n",
       " 'retro',\n",
       " 'rhythm',\n",
       " 'rnb',\n",
       " 'rnr',\n",
       " 'rock',\n",
       " 'rockabilly',\n",
       " 'rockalternative',\n",
       " 'rockindie',\n",
       " 'rockother',\n",
       " 'romance',\n",
       " 'roots',\n",
       " 'ruspop',\n",
       " 'rusrap',\n",
       " 'rusrock',\n",
       " 'russian',\n",
       " 'salsa',\n",
       " 'samba',\n",
       " 'scenic',\n",
       " 'schlager',\n",
       " 'self',\n",
       " 'sertanejo',\n",
       " 'shanson',\n",
       " 'shoegazing',\n",
       " 'showtunes',\n",
       " 'singer',\n",
       " 'ska',\n",
       " 'skarock',\n",
       " 'slow',\n",
       " 'smooth',\n",
       " 'soft',\n",
       " 'soul',\n",
       " 'soulful',\n",
       " 'sound',\n",
       " 'soundtrack',\n",
       " 'southern',\n",
       " 'specialty',\n",
       " 'speech',\n",
       " 'spiritual',\n",
       " 'sport',\n",
       " 'stonerrock',\n",
       " 'surf',\n",
       " 'swing',\n",
       " 'synthpop',\n",
       " 'synthrock',\n",
       " 'sängerportrait',\n",
       " 'tango',\n",
       " 'tanzorchester',\n",
       " 'taraftar',\n",
       " 'tatar',\n",
       " 'tech',\n",
       " 'techno',\n",
       " 'teen',\n",
       " 'thrash',\n",
       " 'top',\n",
       " 'traditional',\n",
       " 'tradjazz',\n",
       " 'trance',\n",
       " 'tribal',\n",
       " 'trip',\n",
       " 'triphop',\n",
       " 'tropical',\n",
       " 'türk',\n",
       " 'türkçe',\n",
       " 'ukrrock',\n",
       " 'unknown',\n",
       " 'urban',\n",
       " 'uzbek',\n",
       " 'variété',\n",
       " 'vi',\n",
       " 'videogame',\n",
       " 'vocal',\n",
       " 'western',\n",
       " 'world',\n",
       " 'worldbeat',\n",
       " 'ïîï',\n",
       " 'электроника']"
      ]
     },
     "metadata": {},
     "output_type": "display_data"
    }
   ],
   "source": [
    "# Проверка на неявные дубликаты\n",
    "sorted(df['genre'].unique())"
   ]
  },
  {
   "cell_type": "markdown",
   "metadata": {
    "id": "jz6a9-7HQUDd"
   },
   "source": [
    "**Выводы**\n",
    "\n",
    "Предобработка обнаружила три проблемы в данных:\n",
    "\n",
    "- нарушения в стиле заголовков,\n",
    "- пропущенные значения,\n",
    "- дубликаты — явные и неявные.\n",
    "\n",
    "Вы исправили заголовки, чтобы упростить работу с таблицей. Без дубликатов исследование станет более точным.\n",
    "\n",
    "Пропущенные значения вы заменили на `'unknown'`. Ещё предстоит увидеть, не повредят ли исследованию пропуски в колонке `genre`.\n",
    "\n",
    "Теперь можно перейти к проверке гипотез. "
   ]
  },
  {
   "cell_type": "markdown",
   "metadata": {
    "id": "WttZHXH0SqKk"
   },
   "source": [
    "## Проверка гипотез"
   ]
  },
  {
   "cell_type": "markdown",
   "metadata": {
    "id": "Im936VVi_Zcu"
   },
   "source": [
    "### Сравнение поведения пользователей двух столиц"
   ]
  },
  {
   "cell_type": "markdown",
   "metadata": {
    "id": "nwt_MuaL_Zcu"
   },
   "source": [
    "Первая гипотеза утверждает, что пользователи по-разному слушают музыку в Москве и Санкт-Петербурге. Проверьте это предположение по данным о трёх днях недели — понедельнике, среде и пятнице. Для этого:\n",
    "\n",
    "* Разделите пользователей Москвы и Санкт-Петербурга\n",
    "* Сравните, сколько треков послушала каждая группа пользователей в понедельник, среду и пятницу.\n"
   ]
  },
  {
   "cell_type": "markdown",
   "metadata": {
    "id": "8Dw_YMmT_Zcu"
   },
   "source": [
    "Для тренировки сначала выполните каждый из расчётов по отдельности. \n",
    "\n",
    "Оцените активность пользователей в каждом городе. Сгруппируйте данные по городу и посчитайте прослушивания в каждой группе.\n",
    "\n"
   ]
  },
  {
   "cell_type": "code",
   "execution_count": 297,
   "metadata": {
    "id": "0_Qs96oh_Zcu"
   },
   "outputs": [
    {
     "data": {
      "text/html": [
       "<div>\n",
       "<style scoped>\n",
       "    .dataframe tbody tr th:only-of-type {\n",
       "        vertical-align: middle;\n",
       "    }\n",
       "\n",
       "    .dataframe tbody tr th {\n",
       "        vertical-align: top;\n",
       "    }\n",
       "\n",
       "    .dataframe thead th {\n",
       "        text-align: right;\n",
       "    }\n",
       "</style>\n",
       "<table border=\"1\" class=\"dataframe\">\n",
       "  <thead>\n",
       "    <tr style=\"text-align: right;\">\n",
       "      <th></th>\n",
       "      <th>user_id</th>\n",
       "      <th>track</th>\n",
       "      <th>artist</th>\n",
       "      <th>genre</th>\n",
       "      <th>time</th>\n",
       "      <th>day</th>\n",
       "    </tr>\n",
       "    <tr>\n",
       "      <th>city</th>\n",
       "      <th></th>\n",
       "      <th></th>\n",
       "      <th></th>\n",
       "      <th></th>\n",
       "      <th></th>\n",
       "      <th></th>\n",
       "    </tr>\n",
       "  </thead>\n",
       "  <tbody>\n",
       "    <tr>\n",
       "      <td>Moscow</td>\n",
       "      <td>42741</td>\n",
       "      <td>42741</td>\n",
       "      <td>42741</td>\n",
       "      <td>42741</td>\n",
       "      <td>42741</td>\n",
       "      <td>42741</td>\n",
       "    </tr>\n",
       "    <tr>\n",
       "      <td>Saint-Petersburg</td>\n",
       "      <td>18512</td>\n",
       "      <td>18512</td>\n",
       "      <td>18512</td>\n",
       "      <td>18512</td>\n",
       "      <td>18512</td>\n",
       "      <td>18512</td>\n",
       "    </tr>\n",
       "  </tbody>\n",
       "</table>\n",
       "</div>"
      ],
      "text/plain": [
       "                  user_id  track  artist  genre   time    day\n",
       "city                                                         \n",
       "Moscow              42741  42741   42741  42741  42741  42741\n",
       "Saint-Petersburg    18512  18512   18512  18512  18512  18512"
      ]
     },
     "metadata": {},
     "output_type": "display_data"
    }
   ],
   "source": [
    "# Подсчёт прослушиваний в каждом городе\n",
    "display(df.groupby('city').count())"
   ]
  },
  {
   "cell_type": "markdown",
   "metadata": {
    "id": "dzli3w8o_Zcu"
   },
   "source": [
    "В Москве прослушиваний больше, чем в Петербурге. Из этого не следует, что московские пользователи чаще слушают музыку. Просто самих пользователей в Москве больше.\n",
    "\n",
    "Теперь сгруппируйте данные по дню недели и подсчитайте прослушивания в понедельник, среду и пятницу. Учтите, что в данных есть информация только о прослушиваниях только за эти дни.\n"
   ]
  },
  {
   "cell_type": "code",
   "execution_count": 296,
   "metadata": {
    "id": "uZMKjiJz_Zcu"
   },
   "outputs": [
    {
     "data": {
      "text/html": [
       "<div>\n",
       "<style scoped>\n",
       "    .dataframe tbody tr th:only-of-type {\n",
       "        vertical-align: middle;\n",
       "    }\n",
       "\n",
       "    .dataframe tbody tr th {\n",
       "        vertical-align: top;\n",
       "    }\n",
       "\n",
       "    .dataframe thead th {\n",
       "        text-align: right;\n",
       "    }\n",
       "</style>\n",
       "<table border=\"1\" class=\"dataframe\">\n",
       "  <thead>\n",
       "    <tr style=\"text-align: right;\">\n",
       "      <th></th>\n",
       "      <th>user_id</th>\n",
       "      <th>track</th>\n",
       "      <th>artist</th>\n",
       "      <th>genre</th>\n",
       "      <th>city</th>\n",
       "      <th>time</th>\n",
       "    </tr>\n",
       "    <tr>\n",
       "      <th>day</th>\n",
       "      <th></th>\n",
       "      <th></th>\n",
       "      <th></th>\n",
       "      <th></th>\n",
       "      <th></th>\n",
       "      <th></th>\n",
       "    </tr>\n",
       "  </thead>\n",
       "  <tbody>\n",
       "    <tr>\n",
       "      <td>Friday</td>\n",
       "      <td>21840</td>\n",
       "      <td>21840</td>\n",
       "      <td>21840</td>\n",
       "      <td>21840</td>\n",
       "      <td>21840</td>\n",
       "      <td>21840</td>\n",
       "    </tr>\n",
       "    <tr>\n",
       "      <td>Monday</td>\n",
       "      <td>21354</td>\n",
       "      <td>21354</td>\n",
       "      <td>21354</td>\n",
       "      <td>21354</td>\n",
       "      <td>21354</td>\n",
       "      <td>21354</td>\n",
       "    </tr>\n",
       "    <tr>\n",
       "      <td>Wednesday</td>\n",
       "      <td>18059</td>\n",
       "      <td>18059</td>\n",
       "      <td>18059</td>\n",
       "      <td>18059</td>\n",
       "      <td>18059</td>\n",
       "      <td>18059</td>\n",
       "    </tr>\n",
       "  </tbody>\n",
       "</table>\n",
       "</div>"
      ],
      "text/plain": [
       "           user_id  track  artist  genre   city   time\n",
       "day                                                   \n",
       "Friday       21840  21840   21840  21840  21840  21840\n",
       "Monday       21354  21354   21354  21354  21354  21354\n",
       "Wednesday    18059  18059   18059  18059  18059  18059"
      ]
     },
     "metadata": {},
     "output_type": "display_data"
    }
   ],
   "source": [
    "# Подсчёт прослушиваний в каждый из трёх дней\n",
    "display(df.groupby('day').count())"
   ]
  },
  {
   "cell_type": "markdown",
   "metadata": {
    "id": "cC2tNrlL_Zcu"
   },
   "source": [
    "В среднем пользователи из двух городов менее активны по средам. Но картина может измениться, если рассмотреть каждый город в отдельности."
   ]
  },
  {
   "cell_type": "markdown",
   "metadata": {
    "id": "POzs8bGa_Zcu"
   },
   "source": [
    "Вы видели, как работает группировка по городу и по дням недели. Теперь напишите функцию, которая объединит два эти расчёта.\n",
    "\n",
    "Создайте функцию `number_tracks()`, которая посчитает прослушивания для заданного дня и города. Ей понадобятся два параметра:\n",
    "* день недели,\n",
    "* название города.\n",
    "\n",
    "В функции сохраните в переменную строки исходной таблицы, у которых значение:\n",
    "  * в колонке `day` равно параметру `day`,\n",
    "  * в колонке `city` равно параметру `city`.\n",
    "\n",
    "Для этого примените последовательную фильтрацию с логической индексацией.\n",
    "\n",
    "Затем посчитайте значения в столбце `user_id` получившейся таблицы. Результат сохраните в новую переменную. Верните эту переменную из функции."
   ]
  },
  {
   "cell_type": "code",
   "execution_count": 276,
   "metadata": {
    "id": "Nz3GdQB1_Zcu"
   },
   "outputs": [],
   "source": [
    "# <создание функции number_tracks()>\n",
    "def number_tracks(day, city):\n",
    "    track_list=df[(df['day']==day) & (df['city']==city)]\n",
    "    track_list_count = track_list['user_id'].count()\n",
    "    return track_list_count\n",
    "# Объявляется функция с двумя параметрами: day, city.\n",
    "# В переменной track_list сохраняются те строки таблицы df, для которых \n",
    "# значение в столбце 'day' равно параметру day и одновременно значение\n",
    "# в столбце 'city' равно параметру city (используйте последовательную фильтрацию\n",
    "# с помощью логической индексации).\n",
    "# В переменной track_list_count сохраняется число значений столбца 'user_id',\n",
    "# рассчитанное методом count() для таблицы track_list.\n",
    "# Функция возвращает число - значение track_list_count.\n",
    "\n",
    "# Функция для подсчёта прослушиваний для конкретного города и дня.\n",
    "# С помощью последовательной фильтрации с логической индексацией она \n",
    "# сначала получит из исходной таблицы строки с нужным днём,\n",
    "# затем из результата отфильтрует строки с нужным городом,\n",
    "# методом count() посчитает количество значений в колонке user_id. \n",
    "# Это количество функция вернёт в качестве результата"
   ]
  },
  {
   "cell_type": "markdown",
   "metadata": {
    "id": "ytf7xFrFJQ2r"
   },
   "source": [
    "Вызовите `number_tracks()` шесть раз, меняя значение параметров — так, чтобы получить данные для каждого города в каждый из трёх дней."
   ]
  },
  {
   "cell_type": "code",
   "execution_count": 277,
   "metadata": {
    "id": "rJcRATNQ_Zcu"
   },
   "outputs": [
    {
     "data": {
      "text/plain": [
       "15740"
      ]
     },
     "execution_count": 277,
     "metadata": {},
     "output_type": "execute_result"
    }
   ],
   "source": [
    "# количество прослушиваний в Москве по понедельникам\n",
    "number_tracks('Monday', 'Moscow')"
   ]
  },
  {
   "cell_type": "code",
   "execution_count": 278,
   "metadata": {
    "id": "hq_ncZ5T_Zcu"
   },
   "outputs": [
    {
     "data": {
      "text/plain": [
       "5614"
      ]
     },
     "execution_count": 278,
     "metadata": {},
     "output_type": "execute_result"
    }
   ],
   "source": [
    "# количество прослушиваний в Санкт-Петербурге по понедельникам\n",
    "number_tracks('Monday', 'Saint-Petersburg')"
   ]
  },
  {
   "cell_type": "code",
   "execution_count": 279,
   "metadata": {
    "id": "_NTy2VPU_Zcu"
   },
   "outputs": [
    {
     "data": {
      "text/plain": [
       "11056"
      ]
     },
     "execution_count": 279,
     "metadata": {},
     "output_type": "execute_result"
    }
   ],
   "source": [
    "# количество прослушиваний в Москве по средам\n",
    "number_tracks('Wednesday', 'Moscow')"
   ]
  },
  {
   "cell_type": "code",
   "execution_count": 280,
   "metadata": {
    "id": "j2y3TAwo_Zcu"
   },
   "outputs": [
    {
     "data": {
      "text/plain": [
       "7003"
      ]
     },
     "execution_count": 280,
     "metadata": {},
     "output_type": "execute_result"
    }
   ],
   "source": [
    "# количество прослушиваний в Санкт-Петербурге по средам\n",
    "number_tracks('Wednesday', 'Saint-Petersburg')"
   ]
  },
  {
   "cell_type": "code",
   "execution_count": 281,
   "metadata": {
    "id": "vYDw5u_K_Zcu"
   },
   "outputs": [
    {
     "data": {
      "text/plain": [
       "15945"
      ]
     },
     "execution_count": 281,
     "metadata": {},
     "output_type": "execute_result"
    }
   ],
   "source": [
    "# количество прослушиваний в Москве по пятницам\n",
    "number_tracks('Friday', 'Moscow')"
   ]
  },
  {
   "cell_type": "code",
   "execution_count": 282,
   "metadata": {
    "id": "8_yzFtW3_Zcu"
   },
   "outputs": [
    {
     "data": {
      "text/plain": [
       "5895"
      ]
     },
     "execution_count": 282,
     "metadata": {},
     "output_type": "execute_result"
    }
   ],
   "source": [
    "# количество прослушиваний в Санкт-Петербурге по пятницам\n",
    "number_tracks('Friday', 'Saint-Petersburg')"
   ]
  },
  {
   "cell_type": "markdown",
   "metadata": {
    "id": "7QXffbO-_Zcu"
   },
   "source": [
    "Создайте c помощью конструктора `pd.DataFrame` таблицу, где\n",
    "* названия колонок — `['city', 'monday', 'wednesday', 'friday']`;\n",
    "* данные — результаты, которые вы получили с помощью `number_tracks`."
   ]
  },
  {
   "cell_type": "code",
   "execution_count": 283,
   "metadata": {
    "id": "APAcLpOr_Zcu"
   },
   "outputs": [
    {
     "data": {
      "text/html": [
       "<div>\n",
       "<style scoped>\n",
       "    .dataframe tbody tr th:only-of-type {\n",
       "        vertical-align: middle;\n",
       "    }\n",
       "\n",
       "    .dataframe tbody tr th {\n",
       "        vertical-align: top;\n",
       "    }\n",
       "\n",
       "    .dataframe thead th {\n",
       "        text-align: right;\n",
       "    }\n",
       "</style>\n",
       "<table border=\"1\" class=\"dataframe\">\n",
       "  <thead>\n",
       "    <tr style=\"text-align: right;\">\n",
       "      <th></th>\n",
       "      <th>city</th>\n",
       "      <th>monday</th>\n",
       "      <th>wednesday</th>\n",
       "      <th>friday</th>\n",
       "    </tr>\n",
       "  </thead>\n",
       "  <tbody>\n",
       "    <tr>\n",
       "      <td>0</td>\n",
       "      <td>Moscow</td>\n",
       "      <td>15740</td>\n",
       "      <td>11056</td>\n",
       "      <td>15945</td>\n",
       "    </tr>\n",
       "    <tr>\n",
       "      <td>1</td>\n",
       "      <td>Saint-Petersburg</td>\n",
       "      <td>5614</td>\n",
       "      <td>7003</td>\n",
       "      <td>5895</td>\n",
       "    </tr>\n",
       "  </tbody>\n",
       "</table>\n",
       "</div>"
      ],
      "text/plain": [
       "               city  monday  wednesday  friday\n",
       "0            Moscow   15740      11056   15945\n",
       "1  Saint-Petersburg    5614       7003    5895"
      ]
     },
     "metadata": {},
     "output_type": "display_data"
    }
   ],
   "source": [
    "# Таблица с результатами\n",
    "data = [['Moscow', 15740, 11056, 15945],['Saint-Petersburg', 5614, 7003, 5895]]\n",
    "columns = ['city', 'monday', 'wednesday', 'friday']\n",
    "new_df = pd.DataFrame(data=data, columns=columns)\n",
    "display(new_df)"
   ]
  },
  {
   "cell_type": "markdown",
   "metadata": {
    "id": "-EgPIHYu_Zcu"
   },
   "source": [
    "**Выводы**\n",
    "\n",
    "Данные показывают разницу поведения пользователей:\n",
    "\n",
    "- В Москве пик прослушиваний приходится на понедельник и пятницу, а в среду заметен спад.\n",
    "- В Петербурге, наоборот, больше слушают музыку по средам. Активность в понедельник и пятницу здесь почти в равной мере уступает среде.\n",
    "\n",
    "Значит, данные говорят в пользу первой гипотезы."
   ]
  },
  {
   "cell_type": "markdown",
   "metadata": {
    "id": "atZAxtq4_Zcu"
   },
   "source": [
    "### Музыка в начале и в конце недели"
   ]
  },
  {
   "cell_type": "markdown",
   "metadata": {
    "id": "eXrQqXFH_Zcu"
   },
   "source": [
    "Согласно второй гипотезе, утром в понедельник в Москве преобладают одни жанры, а в Петербурге — другие. Так же и вечером пятницы преобладают разные жанры — в зависимости от города."
   ]
  },
  {
   "cell_type": "markdown",
   "metadata": {
    "id": "S8UcW6Hw_Zcu"
   },
   "source": [
    "Сохраните таблицы с данными в две переменные:\n",
    "* по Москве — в `moscow_general`;\n",
    "* по Санкт-Петербургу — в `spb_general`."
   ]
  },
  {
   "cell_type": "code",
   "execution_count": 284,
   "metadata": {
    "id": "qeaFfM_P_Zcu"
   },
   "outputs": [],
   "source": [
    "# получение таблицы moscow_general из тех строк таблицы df, \n",
    "# для которых значение в столбце 'city' равно 'Moscow'\n",
    "moscow_general = df[df['city'] == 'Moscow']"
   ]
  },
  {
   "cell_type": "code",
   "execution_count": 285,
   "metadata": {
    "id": "ORaVRKto_Zcu"
   },
   "outputs": [],
   "source": [
    "# получение таблицы spb_general из тех строк таблицы df,\n",
    "# для которых значение в столбце 'city' равно 'Saint-Petersburg'\n",
    "spb_general = df[df['city'] == 'Saint-Petersburg']"
   ]
  },
  {
   "cell_type": "markdown",
   "metadata": {
    "id": "MEJV-CX2_Zcu"
   },
   "source": [
    "Создайте функцию `genre_weekday()` с четырьмя параметрами:\n",
    "* таблица (датафрейм) с данными,\n",
    "* день недели,\n",
    "* начальная временная метка в формате 'hh:mm', \n",
    "* последняя временная метка в формате 'hh:mm'.\n",
    "\n",
    "Функция должна вернуть информацию о топ-10 жанров тех треков, которые прослушивали в указанный день, в промежутке между двумя отметками времени."
   ]
  },
  {
   "cell_type": "code",
   "execution_count": 286,
   "metadata": {
    "id": "laJT9BYl_Zcu"
   },
   "outputs": [],
   "source": [
    "# Объявление функции genre_weekday() с параметрами table, day, time1, time2,\n",
    "def genre_weekday(table, day, time1, time2):\n",
    "    genre_df = table[(table['day'] == day) & (table['time'] > time1) & (table['time'] < time2)]\n",
    "    genre_df_count = genre_df.groupby('genre')['genre'].count()\n",
    "    genre_df_sorted = genre_df_count.sort_values(ascending=False)\n",
    "    return genre_df_sorted.head(10)\n",
    "# которая возвращает информацию о самых популярных жанрах в указанный день в\n",
    "# заданное время:\n",
    "# 1) в переменную genre_df сохраняются те строки переданного датафрейма table, для\n",
    "#    которых одновременно:\n",
    "#    - значение в столбце day равно значению аргумента day\n",
    "#    - значение в столбце time больше значения аргумента time1\n",
    "#    - значение в столбце time меньше значения аргумента time2\n",
    "#    Используйте последовательную фильтрацию с помощью логической индексации.\n",
    "# 2) сгруппировать датафрейм genre_df по столбцу genre, взять один из его\n",
    "#    столбцов и посчитать методом count() количество записей для каждого из\n",
    "#    присутствующих жанров, получившийся Series записать в переменную\n",
    "#    genre_df_count\n",
    "# 3) отсортировать genre_df_count по убыванию встречаемости и сохранить\n",
    "#    в переменную genre_df_sorted\n",
    "# 4) вернуть Series из 10 первых значений genre_df_sorted, это будут топ-10\n",
    "#    популярных жанров (в указанный день, в заданное время)"
   ]
  },
  {
   "cell_type": "markdown",
   "metadata": {
    "id": "la2s2_PF_Zcu"
   },
   "source": [
    "Cравните результаты функции `genre_weekday()` для Москвы и Санкт-Петербурга в понедельник утром (с 7:00 до 11:00) и в пятницу вечером (с 17:00 до 23:00):"
   ]
  },
  {
   "cell_type": "code",
   "execution_count": 295,
   "metadata": {
    "id": "yz7itPUQ_Zcu"
   },
   "outputs": [
    {
     "name": "stdout",
     "output_type": "stream",
     "text": [
      "genre\n",
      "pop            781\n",
      "dance          549\n",
      "electronic     480\n",
      "rock           474\n",
      "hiphop         286\n",
      "ruspop         186\n",
      "world          181\n",
      "rusrap         175\n",
      "alternative    164\n",
      "unknown        161\n",
      "Name: genre, dtype: int64\n"
     ]
    }
   ],
   "source": [
    "# вызов функции для утра понедельника в Москве (вместо df — таблица moscow_general)\n",
    "# объекты, хранящие время, являются строками и сравниваются как строки\n",
    "# пример вызова: genre_weekday(moscow_general, 'Monday', '07:00', '11:00')\n",
    "display(genre_weekday(moscow_general, 'Monday', '07:00', '11:00'))"
   ]
  },
  {
   "cell_type": "code",
   "execution_count": 288,
   "metadata": {
    "id": "kwUcHPdy_Zcu"
   },
   "outputs": [
    {
     "data": {
      "text/plain": [
       "genre\n",
       "pop            218\n",
       "dance          182\n",
       "rock           162\n",
       "electronic     147\n",
       "hiphop          80\n",
       "ruspop          64\n",
       "alternative     58\n",
       "rusrap          55\n",
       "jazz            44\n",
       "classical       40\n",
       "Name: genre, dtype: int64"
      ]
     },
     "metadata": {},
     "output_type": "display_data"
    }
   ],
   "source": [
    "# вызов функции для утра понедельника в Петербурге (вместо df — таблица spb_general)\n",
    "genre_weekday(spb_general, 'Monday', '07:00', '11:00')"
   ]
  },
  {
   "cell_type": "code",
   "execution_count": 289,
   "metadata": {
    "id": "EzXVRE1o_Zcu"
   },
   "outputs": [
    {
     "data": {
      "text/plain": [
       "genre\n",
       "pop            713\n",
       "rock           517\n",
       "dance          495\n",
       "electronic     482\n",
       "hiphop         273\n",
       "world          208\n",
       "ruspop         170\n",
       "alternative    163\n",
       "classical      163\n",
       "rusrap         142\n",
       "Name: genre, dtype: int64"
      ]
     },
     "metadata": {},
     "output_type": "display_data"
    }
   ],
   "source": [
    "# вызов функции для вечера пятницы в Москве\n",
    "genre_weekday(moscow_general, 'Friday', '17:00', '23:00')"
   ]
  },
  {
   "cell_type": "code",
   "execution_count": 290,
   "metadata": {
    "id": "JZaEKu5v_Zcu"
   },
   "outputs": [
    {
     "data": {
      "text/plain": [
       "genre\n",
       "pop            256\n",
       "rock           216\n",
       "electronic     216\n",
       "dance          210\n",
       "hiphop          97\n",
       "alternative     63\n",
       "jazz            61\n",
       "classical       60\n",
       "rusrap          59\n",
       "world           54\n",
       "Name: genre, dtype: int64"
      ]
     },
     "metadata": {},
     "output_type": "display_data"
    }
   ],
   "source": [
    "# вызов функции для вечера пятницы в Петербурге\n",
    "genre_weekday(spb_general, 'Friday', '17:00', '23:00')"
   ]
  },
  {
   "cell_type": "markdown",
   "metadata": {
    "id": "wrCe4MNX_Zcu"
   },
   "source": [
    "**Выводы**\n",
    "\n",
    "Если сравнить топ-10 жанров в понедельник утром, можно сделать такие выводы:\n",
    "\n",
    "1. В Москве и Петербурге слушают похожую музыку. Единственное отличие — в московский рейтинг вошёл жанр “world”, а в петербургский — джаз и классика.\n",
    "\n",
    "2. В Москве пропущенных значений оказалось так много, что значение `'unknown'` заняло десятое место среди самых популярных жанров. Значит, пропущенные значения занимают существенную долю в данных и угрожают достоверности исследования.\n",
    "\n",
    "Вечер пятницы не меняет эту картину. Некоторые жанры поднимаются немного выше, другие спускаются, но в целом топ-10 остаётся тем же самым.\n",
    "\n",
    "Таким образом, вторая гипотеза подтвердилась лишь частично:\n",
    "* Пользователи слушают похожую музыку в начале недели и в конце.\n",
    "* Разница между Москвой и Петербургом не слишком выражена. В Москве чаще слушают русскую популярную музыку, в Петербурге — джаз.\n",
    "\n",
    "Однако пропуски в данных ставят под сомнение этот результат. В Москве их так много, что рейтинг топ-10 мог бы выглядеть иначе, если бы не утерянные  данные о жанрах."
   ]
  },
  {
   "cell_type": "markdown",
   "metadata": {
    "id": "JolODAqr_Zcu"
   },
   "source": [
    "### Жанровые предпочтения в Москве и Петербурге\n",
    "\n",
    "Гипотеза: Петербург — столица рэпа, музыку этого жанра там слушают чаще, чем в Москве.  А Москва — город контрастов, в котором, тем не менее, преобладает поп-музыка."
   ]
  },
  {
   "cell_type": "markdown",
   "metadata": {
    "id": "DlegSvaT_Zcu"
   },
   "source": [
    "Сгруппируйте таблицу `moscow_general` по жанру и посчитайте прослушивания треков каждого жанра методом `count()`. Затем отсортируйте результат в порядке убывания и сохраните его в таблице `moscow_genres`."
   ]
  },
  {
   "cell_type": "code",
   "execution_count": 291,
   "metadata": {
    "id": "r19lIPke_Zcu"
   },
   "outputs": [],
   "source": [
    "# одной строкой: группировка таблицы moscow_general по столбцу 'genre', \n",
    "# подсчёт числа значений 'genre' в этой группировке методом count(), \n",
    "# сортировка получившегося Series в порядке убывания и сохранение в moscow_genres\n",
    "mocsow_genres = moscow_general.groupby('genre')['genre'].count().sort_values(ascending=False)"
   ]
  },
  {
   "cell_type": "markdown",
   "metadata": {
    "id": "6kMuomxTiIr8"
   },
   "source": [
    "Выведите на экран первые десять строк `moscow_genres`:"
   ]
  },
  {
   "cell_type": "code",
   "execution_count": 292,
   "metadata": {
    "id": "WhCSooF8_Zcv",
    "scrolled": true
   },
   "outputs": [
    {
     "data": {
      "text/plain": [
       "genre\n",
       "pop            5892\n",
       "dance          4435\n",
       "rock           3965\n",
       "electronic     3786\n",
       "hiphop         2096\n",
       "classical      1616\n",
       "world          1432\n",
       "alternative    1379\n",
       "ruspop         1372\n",
       "rusrap         1161\n",
       "Name: genre, dtype: int64"
      ]
     },
     "metadata": {},
     "output_type": "display_data"
    }
   ],
   "source": [
    "# просмотр первых 10 строк moscow_genres\n",
    "display(mocsow_genres.head(10))"
   ]
  },
  {
   "cell_type": "markdown",
   "metadata": {
    "id": "cnPG2vnN_Zcv"
   },
   "source": [
    "Теперь повторите то же и для Петербурга.\n",
    "\n",
    "Сгруппируйте таблицу `spb_general` по жанру. Посчитайте прослушивания треков каждого жанра. Результат отсортируйте в порядке убывания и сохраните в таблице `spb_genres`:\n"
   ]
  },
  {
   "cell_type": "code",
   "execution_count": 293,
   "metadata": {
    "id": "gluLIpE7_Zcv"
   },
   "outputs": [],
   "source": [
    "# одной строкой: группировка таблицы spb_general по столбцу 'genre', \n",
    "# подсчёт числа значений 'genre' в этой группировке методом count(), \n",
    "# сортировка получившегося Series в порядке убывания и сохранение в spb_genres\n",
    "spb_genres = spb_general.groupby('genre')['genre'].count().sort_values(ascending=False)"
   ]
  },
  {
   "cell_type": "markdown",
   "metadata": {
    "id": "5Doha_ODgyQ8"
   },
   "source": [
    "Выведите на экран первые десять строк `spb_genres`:"
   ]
  },
  {
   "cell_type": "code",
   "execution_count": 294,
   "metadata": {
    "id": "uaGJHjVU_Zcv"
   },
   "outputs": [
    {
     "data": {
      "text/plain": [
       "genre\n",
       "pop            2431\n",
       "dance          1932\n",
       "rock           1879\n",
       "electronic     1736\n",
       "hiphop          960\n",
       "alternative     649\n",
       "classical       646\n",
       "rusrap          564\n",
       "ruspop          538\n",
       "world           515\n",
       "Name: genre, dtype: int64"
      ]
     },
     "metadata": {},
     "output_type": "display_data"
    }
   ],
   "source": [
    "# просмотр первых 10 строк spb_genres\n",
    "display(spb_genres.head(10))"
   ]
  },
  {
   "cell_type": "markdown",
   "metadata": {
    "id": "RY51YJYu_Zcv"
   },
   "source": [
    "**Выводы**"
   ]
  },
  {
   "cell_type": "markdown",
   "metadata": {
    "id": "nVhnJEm__Zcv"
   },
   "source": [
    "Гипотеза частично подтвердилась:\n",
    "* Поп-музыка — самый популярный жанр в Москве, как и предполагала гипотеза. Более того, в топ-10 жанров встречается близкий жанр — русская популярная музыка.\n",
    "* Вопреки ожиданиям, рэп одинаково популярен в Москве и Петербурге. \n"
   ]
  },
  {
   "cell_type": "markdown",
   "metadata": {
    "id": "ykKQ0N65_Zcv"
   },
   "source": [
    "## Итоги исследования"
   ]
  },
  {
   "cell_type": "markdown",
   "metadata": {
    "id": "tjUwbHb3_Zcv"
   },
   "source": [
    "Вы проверили три гипотезы и установили:\n",
    "\n",
    "1. День недели по-разному влияет на активность пользователей в Москве и Петербурге. \n",
    "\n",
    "Первая гипотеза полностью подтвердилась.\n",
    "\n",
    "2. Музыкальные предпочтения не сильно меняются в течение недели — будь то Москва или Петербург. Небольшие различия заметны в начале недели, по понедельникам:\n",
    "* в Москве слушают музыку жанра “world”,\n",
    "* в Петербурге — джаз и классику.\n",
    "\n",
    "Таким образом, вторая гипотеза подтвердилась лишь отчасти. Этот результат мог оказаться иным, если бы не пропуски в данных.\n",
    "\n",
    "3. Во вкусах пользователей Москвы и Петербурга больше общего чем различий. Вопреки ожиданиям, предпочтения жанров в Петербурге напоминают московские.\n",
    "\n",
    "Третья гипотеза не подтвердилась. Если различия в предпочтениях и существуют, на основной массе пользователей они незаметны.\n",
    "\n",
    "**На практике исследования содержат проверки статистических гипотез.**\n",
    "Из данных одного сервиса не всегда можно сделать вывод о всех жителях города.\n",
    "Проверки статистических гипотез покажут, насколько они достоверны, исходя из имеющихся данных. \n",
    "С методами проверок гипотез вы ещё познакомитесь в следующих темах."
   ]
  }
 ],
 "metadata": {
  "ExecuteTimeLog": [
   {
    "duration": 399,
    "start_time": "2021-12-27T11:00:43.357Z"
   },
   {
    "duration": 438,
    "start_time": "2021-12-27T11:00:49.138Z"
   },
   {
    "duration": 836,
    "start_time": "2021-12-27T11:00:53.243Z"
   },
   {
    "duration": 2940,
    "start_time": "2021-12-27T11:00:54.082Z"
   },
   {
    "duration": 930,
    "start_time": "2021-12-27T11:00:56.096Z"
   },
   {
    "duration": 925,
    "start_time": "2021-12-27T11:00:56.103Z"
   },
   {
    "duration": 919,
    "start_time": "2021-12-27T11:00:56.111Z"
   },
   {
    "duration": 913,
    "start_time": "2021-12-27T11:00:56.118Z"
   },
   {
    "duration": 909,
    "start_time": "2021-12-27T11:00:56.123Z"
   },
   {
    "duration": 903,
    "start_time": "2021-12-27T11:00:56.131Z"
   },
   {
    "duration": 899,
    "start_time": "2021-12-27T11:00:56.136Z"
   },
   {
    "duration": 896,
    "start_time": "2021-12-27T11:00:56.140Z"
   },
   {
    "duration": 888,
    "start_time": "2021-12-27T11:00:56.149Z"
   },
   {
    "duration": 884,
    "start_time": "2021-12-27T11:00:56.155Z"
   },
   {
    "duration": 880,
    "start_time": "2021-12-27T11:00:56.160Z"
   },
   {
    "duration": 875,
    "start_time": "2021-12-27T11:00:56.166Z"
   },
   {
    "duration": 872,
    "start_time": "2021-12-27T11:00:56.171Z"
   },
   {
    "duration": 869,
    "start_time": "2021-12-27T11:00:56.175Z"
   },
   {
    "duration": 861,
    "start_time": "2021-12-27T11:00:56.184Z"
   },
   {
    "duration": 843,
    "start_time": "2021-12-27T11:00:56.204Z"
   },
   {
    "duration": 839,
    "start_time": "2021-12-27T11:00:56.209Z"
   },
   {
    "duration": 829,
    "start_time": "2021-12-27T11:00:56.220Z"
   },
   {
    "duration": 827,
    "start_time": "2021-12-27T11:00:56.224Z"
   },
   {
    "duration": 820,
    "start_time": "2021-12-27T11:00:56.232Z"
   },
   {
    "duration": 817,
    "start_time": "2021-12-27T11:00:56.236Z"
   },
   {
    "duration": 814,
    "start_time": "2021-12-27T11:00:56.241Z"
   },
   {
    "duration": 807,
    "start_time": "2021-12-27T11:00:56.249Z"
   },
   {
    "duration": 802,
    "start_time": "2021-12-27T11:00:56.256Z"
   },
   {
    "duration": 799,
    "start_time": "2021-12-27T11:00:56.260Z"
   },
   {
    "duration": 793,
    "start_time": "2021-12-27T11:00:56.267Z"
   },
   {
    "duration": 788,
    "start_time": "2021-12-27T11:00:56.274Z"
   },
   {
    "duration": 783,
    "start_time": "2021-12-27T11:00:56.280Z"
   },
   {
    "duration": 781,
    "start_time": "2021-12-27T11:00:56.284Z"
   },
   {
    "duration": 779,
    "start_time": "2021-12-27T11:00:56.288Z"
   },
   {
    "duration": 777,
    "start_time": "2021-12-27T11:00:56.292Z"
   },
   {
    "duration": 773,
    "start_time": "2021-12-27T11:00:56.298Z"
   },
   {
    "duration": 755,
    "start_time": "2021-12-27T11:00:56.318Z"
   },
   {
    "duration": 753,
    "start_time": "2021-12-27T11:00:56.322Z"
   },
   {
    "duration": 750,
    "start_time": "2021-12-27T11:00:56.326Z"
   },
   {
    "duration": 745,
    "start_time": "2021-12-27T11:00:56.333Z"
   },
   {
    "duration": 214,
    "start_time": "2021-12-27T11:01:13.134Z"
   },
   {
    "duration": 33,
    "start_time": "2021-12-27T11:01:18.493Z"
   },
   {
    "duration": 38,
    "start_time": "2021-12-27T11:01:22.079Z"
   },
   {
    "duration": 6,
    "start_time": "2021-12-27T11:01:33.793Z"
   },
   {
    "duration": 34,
    "start_time": "2021-12-27T11:03:52.902Z"
   },
   {
    "duration": 5,
    "start_time": "2021-12-27T11:04:03.887Z"
   },
   {
    "duration": 40,
    "start_time": "2021-12-27T11:04:46.337Z"
   },
   {
    "duration": 55,
    "start_time": "2021-12-27T11:05:02.590Z"
   },
   {
    "duration": 3814,
    "start_time": "2021-12-27T11:06:46.780Z"
   },
   {
    "duration": 3812,
    "start_time": "2021-12-27T11:10:47.299Z"
   },
   {
    "duration": 4325,
    "start_time": "2021-12-27T11:15:08.471Z"
   },
   {
    "duration": 3903,
    "start_time": "2021-12-27T11:16:56.520Z"
   },
   {
    "duration": 3,
    "start_time": "2021-12-27T11:17:10.769Z"
   },
   {
    "duration": 261,
    "start_time": "2021-12-27T11:17:10.780Z"
   },
   {
    "duration": 21,
    "start_time": "2021-12-27T11:17:11.044Z"
   },
   {
    "duration": 33,
    "start_time": "2021-12-27T11:17:11.068Z"
   },
   {
    "duration": 5,
    "start_time": "2021-12-27T11:17:11.104Z"
   },
   {
    "duration": 69,
    "start_time": "2021-12-27T11:17:11.111Z"
   },
   {
    "duration": 6,
    "start_time": "2021-12-27T11:17:11.183Z"
   },
   {
    "duration": 43,
    "start_time": "2021-12-27T11:17:11.191Z"
   },
   {
    "duration": 31,
    "start_time": "2021-12-27T11:17:11.264Z"
   },
   {
    "duration": 4,
    "start_time": "2021-12-27T11:17:11.298Z"
   },
   {
    "duration": 3,
    "start_time": "2021-12-27T11:17:11.305Z"
   },
   {
    "duration": 3,
    "start_time": "2021-12-27T11:17:11.311Z"
   },
   {
    "duration": 4,
    "start_time": "2021-12-27T11:17:11.317Z"
   },
   {
    "duration": 40,
    "start_time": "2021-12-27T11:17:11.324Z"
   },
   {
    "duration": 5,
    "start_time": "2021-12-27T11:17:11.366Z"
   },
   {
    "duration": 5,
    "start_time": "2021-12-27T11:17:11.374Z"
   },
   {
    "duration": 4,
    "start_time": "2021-12-27T11:17:11.382Z"
   },
   {
    "duration": 5,
    "start_time": "2021-12-27T11:17:11.389Z"
   },
   {
    "duration": 3,
    "start_time": "2021-12-27T11:17:11.397Z"
   },
   {
    "duration": 5,
    "start_time": "2021-12-27T11:17:11.403Z"
   },
   {
    "duration": 52,
    "start_time": "2021-12-27T11:17:11.411Z"
   },
   {
    "duration": 5,
    "start_time": "2021-12-27T11:17:11.466Z"
   },
   {
    "duration": 4,
    "start_time": "2021-12-27T11:17:11.474Z"
   },
   {
    "duration": 3,
    "start_time": "2021-12-27T11:17:11.486Z"
   },
   {
    "duration": 5,
    "start_time": "2021-12-27T11:17:11.492Z"
   },
   {
    "duration": 14,
    "start_time": "2021-12-27T11:17:11.500Z"
   },
   {
    "duration": 11,
    "start_time": "2021-12-27T11:17:11.517Z"
   },
   {
    "duration": 33,
    "start_time": "2021-12-27T11:17:11.531Z"
   },
   {
    "duration": 4,
    "start_time": "2021-12-27T11:17:11.567Z"
   },
   {
    "duration": 5,
    "start_time": "2021-12-27T11:17:11.574Z"
   },
   {
    "duration": 8,
    "start_time": "2021-12-27T11:17:11.582Z"
   },
   {
    "duration": 4,
    "start_time": "2021-12-27T11:17:11.593Z"
   },
   {
    "duration": 6,
    "start_time": "2021-12-27T11:17:11.600Z"
   },
   {
    "duration": 5,
    "start_time": "2021-12-27T11:17:11.608Z"
   },
   {
    "duration": 4,
    "start_time": "2021-12-27T11:17:11.616Z"
   },
   {
    "duration": 5,
    "start_time": "2021-12-27T11:17:11.665Z"
   },
   {
    "duration": 6,
    "start_time": "2021-12-27T11:17:11.672Z"
   },
   {
    "duration": 4,
    "start_time": "2021-12-27T11:17:11.681Z"
   },
   {
    "duration": 50,
    "start_time": "2021-12-27T11:21:39.010Z"
   },
   {
    "duration": 96,
    "start_time": "2021-12-27T11:21:55.930Z"
   },
   {
    "duration": 409,
    "start_time": "2021-12-27T11:24:35.022Z"
   },
   {
    "duration": 471,
    "start_time": "2021-12-27T11:24:46.926Z"
   },
   {
    "duration": 105,
    "start_time": "2021-12-27T11:24:59.327Z"
   },
   {
    "duration": 93,
    "start_time": "2021-12-27T11:25:11.980Z"
   },
   {
    "duration": 6730,
    "start_time": "2021-12-27T12:03:44.320Z"
   },
   {
    "duration": 4575,
    "start_time": "2021-12-27T12:03:58.072Z"
   },
   {
    "duration": 64,
    "start_time": "2021-12-27T12:04:12.487Z"
   },
   {
    "duration": 88,
    "start_time": "2021-12-27T12:06:21.820Z"
   },
   {
    "duration": 88,
    "start_time": "2021-12-27T12:07:27.420Z"
   },
   {
    "duration": 77,
    "start_time": "2021-12-27T12:07:39.810Z"
   },
   {
    "duration": 282,
    "start_time": "2021-12-27T12:08:16.913Z"
   },
   {
    "duration": 299,
    "start_time": "2021-12-27T12:08:53.752Z"
   },
   {
    "duration": 406,
    "start_time": "2021-12-27T12:09:04.643Z"
   },
   {
    "duration": 3931,
    "start_time": "2021-12-27T12:09:31.549Z"
   },
   {
    "duration": 3590,
    "start_time": "2021-12-27T12:10:10.790Z"
   },
   {
    "duration": 7590,
    "start_time": "2021-12-27T12:10:55.838Z"
   },
   {
    "duration": 357,
    "start_time": "2021-12-27T12:11:06.718Z"
   },
   {
    "duration": 369,
    "start_time": "2021-12-27T12:19:39.239Z"
   },
   {
    "duration": 629,
    "start_time": "2021-12-27T12:19:45.866Z"
   },
   {
    "duration": 67,
    "start_time": "2021-12-27T12:19:51.634Z"
   },
   {
    "duration": 58,
    "start_time": "2021-12-27T12:20:09.586Z"
   },
   {
    "duration": 58,
    "start_time": "2021-12-27T12:20:16.104Z"
   },
   {
    "duration": 3,
    "start_time": "2021-12-27T12:28:12.647Z"
   },
   {
    "duration": 16,
    "start_time": "2021-12-27T12:28:56.881Z"
   },
   {
    "duration": 59,
    "start_time": "2021-12-27T12:29:12.916Z"
   },
   {
    "duration": 47,
    "start_time": "2021-12-27T12:32:30.816Z"
   },
   {
    "duration": 44,
    "start_time": "2021-12-27T12:33:22.772Z"
   },
   {
    "duration": 5,
    "start_time": "2021-12-27T13:26:38.023Z"
   },
   {
    "duration": 290,
    "start_time": "2021-12-27T13:26:51.921Z"
   },
   {
    "duration": 267,
    "start_time": "2021-12-27T13:27:07.581Z"
   },
   {
    "duration": 388,
    "start_time": "2021-12-27T13:27:22.634Z"
   },
   {
    "duration": 16,
    "start_time": "2021-12-27T13:29:48.973Z"
   },
   {
    "duration": 5,
    "start_time": "2021-12-27T13:43:59.149Z"
   },
   {
    "duration": 304,
    "start_time": "2021-12-27T13:44:01.966Z"
   },
   {
    "duration": 295,
    "start_time": "2021-12-27T13:46:20.800Z"
   },
   {
    "duration": 278,
    "start_time": "2021-12-27T13:50:00.959Z"
   },
   {
    "duration": 272,
    "start_time": "2021-12-27T13:50:16.871Z"
   },
   {
    "duration": 4,
    "start_time": "2021-12-27T13:50:21.328Z"
   },
   {
    "duration": 284,
    "start_time": "2021-12-27T13:50:23.004Z"
   },
   {
    "duration": 284,
    "start_time": "2021-12-27T13:50:31.500Z"
   },
   {
    "duration": 288,
    "start_time": "2021-12-27T13:50:45.564Z"
   },
   {
    "duration": 296,
    "start_time": "2021-12-27T13:50:54.367Z"
   },
   {
    "duration": 271,
    "start_time": "2021-12-27T13:50:57.497Z"
   },
   {
    "duration": 288,
    "start_time": "2021-12-27T13:51:00.427Z"
   },
   {
    "duration": 394,
    "start_time": "2021-12-27T13:51:23.847Z"
   },
   {
    "duration": 4,
    "start_time": "2021-12-27T13:51:25.642Z"
   },
   {
    "duration": 282,
    "start_time": "2021-12-27T13:51:27.336Z"
   },
   {
    "duration": 6,
    "start_time": "2021-12-27T14:14:35.910Z"
   },
   {
    "duration": 426,
    "start_time": "2021-12-27T14:14:39.051Z"
   },
   {
    "duration": 3,
    "start_time": "2021-12-27T14:16:30.978Z"
   },
   {
    "duration": 236,
    "start_time": "2021-12-27T14:16:30.985Z"
   },
   {
    "duration": 38,
    "start_time": "2021-12-27T14:16:31.225Z"
   },
   {
    "duration": 45,
    "start_time": "2021-12-27T14:16:31.266Z"
   },
   {
    "duration": 10,
    "start_time": "2021-12-27T14:16:31.314Z"
   },
   {
    "duration": 49,
    "start_time": "2021-12-27T14:16:31.326Z"
   },
   {
    "duration": 7,
    "start_time": "2021-12-27T14:16:31.380Z"
   },
   {
    "duration": 33,
    "start_time": "2021-12-27T14:16:31.392Z"
   },
   {
    "duration": 65,
    "start_time": "2021-12-27T14:16:31.428Z"
   },
   {
    "duration": 91,
    "start_time": "2021-12-27T14:16:31.496Z"
   },
   {
    "duration": 118,
    "start_time": "2021-12-27T14:16:31.590Z"
   },
   {
    "duration": 152,
    "start_time": "2021-12-27T14:16:31.711Z"
   },
   {
    "duration": 121,
    "start_time": "2021-12-27T14:16:31.867Z"
   },
   {
    "duration": 107,
    "start_time": "2021-12-27T14:16:31.992Z"
   },
   {
    "duration": 4,
    "start_time": "2021-12-27T14:16:32.101Z"
   },
   {
    "duration": 19,
    "start_time": "2021-12-27T14:16:32.108Z"
   },
   {
    "duration": 37,
    "start_time": "2021-12-27T14:16:32.129Z"
   },
   {
    "duration": 43,
    "start_time": "2021-12-27T14:16:32.168Z"
   },
   {
    "duration": 74,
    "start_time": "2021-12-27T14:16:32.216Z"
   },
   {
    "duration": 5,
    "start_time": "2021-12-27T14:16:32.293Z"
   },
   {
    "duration": 368,
    "start_time": "2021-12-27T14:16:32.301Z"
   },
   {
    "duration": 997,
    "start_time": "2021-12-27T14:16:31.674Z"
   },
   {
    "duration": 991,
    "start_time": "2021-12-27T14:16:31.681Z"
   },
   {
    "duration": 986,
    "start_time": "2021-12-27T14:16:31.688Z"
   },
   {
    "duration": 985,
    "start_time": "2021-12-27T14:16:31.692Z"
   },
   {
    "duration": 983,
    "start_time": "2021-12-27T14:16:31.696Z"
   },
   {
    "duration": 981,
    "start_time": "2021-12-27T14:16:31.700Z"
   },
   {
    "duration": 983,
    "start_time": "2021-12-27T14:16:31.704Z"
   },
   {
    "duration": 980,
    "start_time": "2021-12-27T14:16:31.709Z"
   },
   {
    "duration": 958,
    "start_time": "2021-12-27T14:16:31.733Z"
   },
   {
    "duration": 953,
    "start_time": "2021-12-27T14:16:31.739Z"
   },
   {
    "duration": 950,
    "start_time": "2021-12-27T14:16:31.744Z"
   },
   {
    "duration": 948,
    "start_time": "2021-12-27T14:16:31.747Z"
   },
   {
    "duration": 946,
    "start_time": "2021-12-27T14:16:31.751Z"
   },
   {
    "duration": 941,
    "start_time": "2021-12-27T14:16:31.758Z"
   },
   {
    "duration": 938,
    "start_time": "2021-12-27T14:16:31.762Z"
   },
   {
    "duration": 936,
    "start_time": "2021-12-27T14:16:31.766Z"
   },
   {
    "duration": 935,
    "start_time": "2021-12-27T14:16:31.769Z"
   },
   {
    "duration": 6,
    "start_time": "2021-12-27T14:17:12.638Z"
   },
   {
    "duration": 281,
    "start_time": "2021-12-27T14:17:15.548Z"
   },
   {
    "duration": 31,
    "start_time": "2021-12-27T14:18:31.532Z"
   },
   {
    "duration": 26,
    "start_time": "2021-12-27T14:18:33.799Z"
   },
   {
    "duration": 3,
    "start_time": "2021-12-27T14:19:26.956Z"
   },
   {
    "duration": 213,
    "start_time": "2021-12-27T14:19:26.962Z"
   },
   {
    "duration": 15,
    "start_time": "2021-12-27T14:19:27.178Z"
   },
   {
    "duration": 35,
    "start_time": "2021-12-27T14:19:27.196Z"
   },
   {
    "duration": 31,
    "start_time": "2021-12-27T14:19:27.233Z"
   },
   {
    "duration": 18,
    "start_time": "2021-12-27T14:19:27.267Z"
   },
   {
    "duration": 4,
    "start_time": "2021-12-27T14:19:27.288Z"
   },
   {
    "duration": 34,
    "start_time": "2021-12-27T14:19:27.295Z"
   },
   {
    "duration": 23,
    "start_time": "2021-12-27T14:19:27.364Z"
   },
   {
    "duration": 30,
    "start_time": "2021-12-27T14:19:27.389Z"
   },
   {
    "duration": 114,
    "start_time": "2021-12-27T14:19:27.422Z"
   },
   {
    "duration": 100,
    "start_time": "2021-12-27T14:19:27.539Z"
   },
   {
    "duration": 85,
    "start_time": "2021-12-27T14:19:27.642Z"
   },
   {
    "duration": 61,
    "start_time": "2021-12-27T14:19:27.730Z"
   },
   {
    "duration": 3,
    "start_time": "2021-12-27T14:19:27.794Z"
   },
   {
    "duration": 18,
    "start_time": "2021-12-27T14:19:27.799Z"
   },
   {
    "duration": 44,
    "start_time": "2021-12-27T14:19:27.820Z"
   },
   {
    "duration": 40,
    "start_time": "2021-12-27T14:19:27.866Z"
   },
   {
    "duration": 59,
    "start_time": "2021-12-27T14:19:27.908Z"
   },
   {
    "duration": 4,
    "start_time": "2021-12-27T14:19:27.970Z"
   },
   {
    "duration": 35,
    "start_time": "2021-12-27T14:19:27.977Z"
   },
   {
    "duration": 63,
    "start_time": "2021-12-27T14:19:28.014Z"
   },
   {
    "duration": 25,
    "start_time": "2021-12-27T14:19:28.082Z"
   },
   {
    "duration": 21,
    "start_time": "2021-12-27T14:19:28.111Z"
   },
   {
    "duration": 53,
    "start_time": "2021-12-27T14:19:28.135Z"
   },
   {
    "duration": 27,
    "start_time": "2021-12-27T14:19:28.192Z"
   },
   {
    "duration": 3,
    "start_time": "2021-12-27T14:19:28.221Z"
   },
   {
    "duration": 38,
    "start_time": "2021-12-27T14:19:28.226Z"
   },
   {
    "duration": 5,
    "start_time": "2021-12-27T14:19:28.266Z"
   },
   {
    "duration": 5,
    "start_time": "2021-12-27T14:19:28.273Z"
   },
   {
    "duration": 7,
    "start_time": "2021-12-27T14:19:28.280Z"
   },
   {
    "duration": 3,
    "start_time": "2021-12-27T14:19:28.290Z"
   },
   {
    "duration": 7,
    "start_time": "2021-12-27T14:19:28.296Z"
   },
   {
    "duration": 4,
    "start_time": "2021-12-27T14:19:28.306Z"
   },
   {
    "duration": 12,
    "start_time": "2021-12-27T14:19:28.312Z"
   },
   {
    "duration": 38,
    "start_time": "2021-12-27T14:19:28.326Z"
   },
   {
    "duration": 4,
    "start_time": "2021-12-27T14:19:28.367Z"
   },
   {
    "duration": 4,
    "start_time": "2021-12-27T14:19:28.374Z"
   },
   {
    "duration": 4,
    "start_time": "2021-12-27T14:20:00.036Z"
   },
   {
    "duration": 224,
    "start_time": "2021-12-27T14:20:00.044Z"
   },
   {
    "duration": 18,
    "start_time": "2021-12-27T14:20:00.272Z"
   },
   {
    "duration": 70,
    "start_time": "2021-12-27T14:20:00.293Z"
   },
   {
    "duration": 10,
    "start_time": "2021-12-27T14:20:00.367Z"
   },
   {
    "duration": 25,
    "start_time": "2021-12-27T14:20:00.380Z"
   },
   {
    "duration": 5,
    "start_time": "2021-12-27T14:20:00.408Z"
   },
   {
    "duration": 72,
    "start_time": "2021-12-27T14:20:00.416Z"
   },
   {
    "duration": 26,
    "start_time": "2021-12-27T14:20:00.493Z"
   },
   {
    "duration": 62,
    "start_time": "2021-12-27T14:20:00.522Z"
   },
   {
    "duration": 107,
    "start_time": "2021-12-27T14:20:00.587Z"
   },
   {
    "duration": 123,
    "start_time": "2021-12-27T14:20:00.697Z"
   },
   {
    "duration": 92,
    "start_time": "2021-12-27T14:20:00.823Z"
   },
   {
    "duration": 91,
    "start_time": "2021-12-27T14:20:00.918Z"
   },
   {
    "duration": 4,
    "start_time": "2021-12-27T14:20:01.012Z"
   },
   {
    "duration": 35,
    "start_time": "2021-12-27T14:20:01.019Z"
   },
   {
    "duration": 24,
    "start_time": "2021-12-27T14:20:01.057Z"
   },
   {
    "duration": 44,
    "start_time": "2021-12-27T14:20:01.085Z"
   },
   {
    "duration": 68,
    "start_time": "2021-12-27T14:20:01.132Z"
   },
   {
    "duration": 6,
    "start_time": "2021-12-27T14:20:01.203Z"
   },
   {
    "duration": 8551,
    "start_time": "2021-12-27T14:20:01.212Z"
   },
   {
    "duration": 789,
    "start_time": "2021-12-27T14:20:08.981Z"
   },
   {
    "duration": 785,
    "start_time": "2021-12-27T14:20:08.986Z"
   },
   {
    "duration": 776,
    "start_time": "2021-12-27T14:20:08.996Z"
   },
   {
    "duration": 774,
    "start_time": "2021-12-27T14:20:09.000Z"
   },
   {
    "duration": 771,
    "start_time": "2021-12-27T14:20:09.004Z"
   },
   {
    "duration": 759,
    "start_time": "2021-12-27T14:20:09.017Z"
   },
   {
    "duration": 754,
    "start_time": "2021-12-27T14:20:09.024Z"
   },
   {
    "duration": 747,
    "start_time": "2021-12-27T14:20:09.032Z"
   },
   {
    "duration": 742,
    "start_time": "2021-12-27T14:20:09.039Z"
   },
   {
    "duration": 737,
    "start_time": "2021-12-27T14:20:09.046Z"
   },
   {
    "duration": 732,
    "start_time": "2021-12-27T14:20:09.052Z"
   },
   {
    "duration": 728,
    "start_time": "2021-12-27T14:20:09.058Z"
   },
   {
    "duration": 714,
    "start_time": "2021-12-27T14:20:09.073Z"
   },
   {
    "duration": 710,
    "start_time": "2021-12-27T14:20:09.079Z"
   },
   {
    "duration": 707,
    "start_time": "2021-12-27T14:20:09.083Z"
   },
   {
    "duration": 706,
    "start_time": "2021-12-27T14:20:09.086Z"
   },
   {
    "duration": 700,
    "start_time": "2021-12-27T14:20:09.093Z"
   },
   {
    "duration": 5,
    "start_time": "2021-12-27T14:20:23.802Z"
   },
   {
    "duration": 23,
    "start_time": "2021-12-27T14:20:27.790Z"
   },
   {
    "duration": 26,
    "start_time": "2021-12-27T14:20:29.941Z"
   },
   {
    "duration": 20,
    "start_time": "2021-12-27T14:20:32.005Z"
   },
   {
    "duration": 16,
    "start_time": "2021-12-27T14:20:34.220Z"
   },
   {
    "duration": 17,
    "start_time": "2021-12-27T14:20:34.892Z"
   },
   {
    "duration": 30,
    "start_time": "2021-12-27T14:20:35.373Z"
   },
   {
    "duration": 19,
    "start_time": "2021-12-27T14:20:35.764Z"
   },
   {
    "duration": 20,
    "start_time": "2021-12-27T14:21:04.120Z"
   },
   {
    "duration": 19,
    "start_time": "2021-12-27T14:21:07.743Z"
   },
   {
    "duration": 6,
    "start_time": "2021-12-27T14:33:28.622Z"
   },
   {
    "duration": 12,
    "start_time": "2021-12-27T14:33:38.400Z"
   },
   {
    "duration": 16,
    "start_time": "2021-12-27T14:50:54.502Z"
   },
   {
    "duration": 17,
    "start_time": "2021-12-27T14:50:56.242Z"
   },
   {
    "duration": 5,
    "start_time": "2021-12-27T14:55:24.510Z"
   },
   {
    "duration": 576,
    "start_time": "2021-12-27T14:55:26.469Z"
   },
   {
    "duration": 5,
    "start_time": "2021-12-27T14:55:48.243Z"
   },
   {
    "duration": 574,
    "start_time": "2021-12-27T14:55:50.345Z"
   },
   {
    "duration": 5,
    "start_time": "2021-12-27T14:57:33.398Z"
   },
   {
    "duration": 23,
    "start_time": "2021-12-27T14:57:35.740Z"
   },
   {
    "duration": 18,
    "start_time": "2021-12-27T15:14:40.050Z"
   },
   {
    "duration": 26,
    "start_time": "2021-12-27T15:14:42.866Z"
   },
   {
    "duration": 20,
    "start_time": "2021-12-27T15:14:45.771Z"
   },
   {
    "duration": 12,
    "start_time": "2021-12-27T15:16:41.330Z"
   },
   {
    "duration": 12,
    "start_time": "2021-12-27T15:40:07.937Z"
   },
   {
    "duration": 7,
    "start_time": "2021-12-27T15:41:04.894Z"
   },
   {
    "duration": 297,
    "start_time": "2021-12-27T15:41:45.267Z"
   },
   {
    "duration": 9,
    "start_time": "2021-12-27T15:41:47.091Z"
   },
   {
    "duration": 8,
    "start_time": "2021-12-27T15:41:49.624Z"
   },
   {
    "duration": 3,
    "start_time": "2021-12-27T15:42:23.401Z"
   },
   {
    "duration": 213,
    "start_time": "2021-12-27T15:42:23.407Z"
   },
   {
    "duration": 17,
    "start_time": "2021-12-27T15:42:23.623Z"
   },
   {
    "duration": 34,
    "start_time": "2021-12-27T15:42:23.663Z"
   },
   {
    "duration": 5,
    "start_time": "2021-12-27T15:42:23.700Z"
   },
   {
    "duration": 22,
    "start_time": "2021-12-27T15:42:23.708Z"
   },
   {
    "duration": 31,
    "start_time": "2021-12-27T15:42:23.733Z"
   },
   {
    "duration": 34,
    "start_time": "2021-12-27T15:42:23.768Z"
   },
   {
    "duration": 25,
    "start_time": "2021-12-27T15:42:23.805Z"
   },
   {
    "duration": 30,
    "start_time": "2021-12-27T15:42:23.863Z"
   },
   {
    "duration": 108,
    "start_time": "2021-12-27T15:42:23.896Z"
   },
   {
    "duration": 124,
    "start_time": "2021-12-27T15:42:24.007Z"
   },
   {
    "duration": 101,
    "start_time": "2021-12-27T15:42:24.133Z"
   },
   {
    "duration": 69,
    "start_time": "2021-12-27T15:42:24.237Z"
   },
   {
    "duration": 8,
    "start_time": "2021-12-27T15:42:24.308Z"
   },
   {
    "duration": 17,
    "start_time": "2021-12-27T15:42:24.319Z"
   },
   {
    "duration": 32,
    "start_time": "2021-12-27T15:42:24.339Z"
   },
   {
    "duration": 42,
    "start_time": "2021-12-27T15:42:24.374Z"
   },
   {
    "duration": 70,
    "start_time": "2021-12-27T15:42:24.421Z"
   },
   {
    "duration": 4,
    "start_time": "2021-12-27T15:42:24.494Z"
   },
   {
    "duration": 37,
    "start_time": "2021-12-27T15:42:24.501Z"
   },
   {
    "duration": 32,
    "start_time": "2021-12-27T15:42:24.540Z"
   },
   {
    "duration": 27,
    "start_time": "2021-12-27T15:42:24.575Z"
   },
   {
    "duration": 51,
    "start_time": "2021-12-27T15:42:24.604Z"
   },
   {
    "duration": 27,
    "start_time": "2021-12-27T15:42:24.658Z"
   },
   {
    "duration": 20,
    "start_time": "2021-12-27T15:42:24.687Z"
   },
   {
    "duration": 17,
    "start_time": "2021-12-27T15:42:24.710Z"
   },
   {
    "duration": 47,
    "start_time": "2021-12-27T15:42:24.729Z"
   },
   {
    "duration": 13,
    "start_time": "2021-12-27T15:42:24.779Z"
   },
   {
    "duration": 8,
    "start_time": "2021-12-27T15:42:24.795Z"
   },
   {
    "duration": 58,
    "start_time": "2021-12-27T15:42:24.806Z"
   },
   {
    "duration": 25,
    "start_time": "2021-12-27T15:42:24.867Z"
   },
   {
    "duration": 37,
    "start_time": "2021-12-27T15:42:24.894Z"
   },
   {
    "duration": 35,
    "start_time": "2021-12-27T15:42:24.933Z"
   },
   {
    "duration": 10,
    "start_time": "2021-12-27T15:42:24.971Z"
   },
   {
    "duration": 22,
    "start_time": "2021-12-27T15:42:24.984Z"
   },
   {
    "duration": 19,
    "start_time": "2021-12-27T15:42:25.009Z"
   },
   {
    "duration": 29,
    "start_time": "2021-12-27T15:42:25.030Z"
   },
   {
    "duration": 3,
    "start_time": "2021-12-27T15:51:37.532Z"
   },
   {
    "duration": 268,
    "start_time": "2021-12-27T15:51:37.538Z"
   },
   {
    "duration": 17,
    "start_time": "2021-12-27T15:51:37.809Z"
   },
   {
    "duration": 46,
    "start_time": "2021-12-27T15:51:37.829Z"
   },
   {
    "duration": 5,
    "start_time": "2021-12-27T15:51:37.878Z"
   },
   {
    "duration": 42,
    "start_time": "2021-12-27T15:51:37.885Z"
   },
   {
    "duration": 5,
    "start_time": "2021-12-27T15:51:37.931Z"
   },
   {
    "duration": 53,
    "start_time": "2021-12-27T15:51:37.939Z"
   },
   {
    "duration": 24,
    "start_time": "2021-12-27T15:51:37.994Z"
   },
   {
    "duration": 48,
    "start_time": "2021-12-27T15:51:38.020Z"
   },
   {
    "duration": 110,
    "start_time": "2021-12-27T15:51:38.070Z"
   },
   {
    "duration": 114,
    "start_time": "2021-12-27T15:51:38.183Z"
   },
   {
    "duration": 88,
    "start_time": "2021-12-27T15:51:38.299Z"
   },
   {
    "duration": 74,
    "start_time": "2021-12-27T15:51:38.390Z"
   },
   {
    "duration": 3,
    "start_time": "2021-12-27T15:51:38.467Z"
   },
   {
    "duration": 20,
    "start_time": "2021-12-27T15:51:38.473Z"
   },
   {
    "duration": 17,
    "start_time": "2021-12-27T15:51:38.495Z"
   },
   {
    "duration": 71,
    "start_time": "2021-12-27T15:51:38.515Z"
   },
   {
    "duration": 45,
    "start_time": "2021-12-27T15:51:38.591Z"
   },
   {
    "duration": 5,
    "start_time": "2021-12-27T15:51:38.638Z"
   },
   {
    "duration": 22,
    "start_time": "2021-12-27T15:51:38.663Z"
   },
   {
    "duration": 18,
    "start_time": "2021-12-27T15:51:38.687Z"
   },
   {
    "duration": 56,
    "start_time": "2021-12-27T15:51:38.707Z"
   },
   {
    "duration": 20,
    "start_time": "2021-12-27T15:51:38.765Z"
   },
   {
    "duration": 22,
    "start_time": "2021-12-27T15:51:38.787Z"
   },
   {
    "duration": 18,
    "start_time": "2021-12-27T15:51:38.812Z"
   },
   {
    "duration": 13,
    "start_time": "2021-12-27T15:51:38.863Z"
   },
   {
    "duration": 20,
    "start_time": "2021-12-27T15:51:38.878Z"
   },
   {
    "duration": 14,
    "start_time": "2021-12-27T15:51:38.900Z"
   },
   {
    "duration": 6,
    "start_time": "2021-12-27T15:51:38.916Z"
   },
   {
    "duration": 25,
    "start_time": "2021-12-27T15:51:38.963Z"
   },
   {
    "duration": 23,
    "start_time": "2021-12-27T15:51:38.990Z"
   },
   {
    "duration": 28,
    "start_time": "2021-12-27T15:51:39.016Z"
   },
   {
    "duration": 18,
    "start_time": "2021-12-27T15:51:39.064Z"
   },
   {
    "duration": 21,
    "start_time": "2021-12-27T15:51:39.085Z"
   },
   {
    "duration": 5,
    "start_time": "2021-12-27T15:51:39.109Z"
   },
   {
    "duration": 20,
    "start_time": "2021-12-27T15:51:39.117Z"
   },
   {
    "duration": 26,
    "start_time": "2021-12-27T15:51:39.139Z"
   },
   {
    "duration": 24,
    "start_time": "2021-12-27T15:52:28.440Z"
   },
   {
    "duration": 47,
    "start_time": "2021-12-27T15:53:27.335Z"
   },
   {
    "duration": 47,
    "start_time": "2021-12-27T15:53:32.355Z"
   },
   {
    "duration": 15,
    "start_time": "2021-12-27T15:53:42.295Z"
   },
   {
    "duration": 60,
    "start_time": "2021-12-27T15:54:02.251Z"
   },
   {
    "duration": 88,
    "start_time": "2021-12-28T13:13:06.351Z"
   },
   {
    "duration": 101,
    "start_time": "2021-12-28T13:13:53.456Z"
   },
   {
    "duration": 86,
    "start_time": "2021-12-28T13:14:08.056Z"
   },
   {
    "duration": 88,
    "start_time": "2021-12-28T13:14:16.068Z"
   }
  ],
  "colab": {
   "collapsed_sections": [
    "E0vqbgi9ay0H",
    "VUC88oWjTJw2"
   ],
   "name": "yandex_music_project_2021.2.ipynb",
   "provenance": []
  },
  "kernelspec": {
   "display_name": "Python 3 (ipykernel)",
   "language": "python",
   "name": "python3"
  },
  "language_info": {
   "codemirror_mode": {
    "name": "ipython",
    "version": 3
   },
   "file_extension": ".py",
   "mimetype": "text/x-python",
   "name": "python",
   "nbconvert_exporter": "python",
   "pygments_lexer": "ipython3",
   "version": "3.9.7"
  },
  "toc": {
   "base_numbering": 1,
   "nav_menu": {},
   "number_sections": true,
   "sideBar": true,
   "skip_h1_title": true,
   "title_cell": "Table of Contents",
   "title_sidebar": "Contents",
   "toc_cell": false,
   "toc_position": {
    "height": "calc(100% - 180px)",
    "left": "10px",
    "top": "150px",
    "width": "165px"
   },
   "toc_section_display": true,
   "toc_window_display": true
  }
 },
 "nbformat": 4,
 "nbformat_minor": 1
}
