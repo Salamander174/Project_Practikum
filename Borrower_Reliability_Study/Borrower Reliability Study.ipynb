{
 "cells": [
  {
   "cell_type": "markdown",
   "metadata": {},
   "source": [
    "# Исследование надёжности заёмщиков\n",
    "\n",
    "Заказчик — кредитный отдел банка. Нужно разобраться, влияет ли семейное положение и количество детей клиента на факт погашения кредита в срок. Входные данные от банка — статистика о платёжеспособности клиентов.\n",
    "\n",
    "Результаты исследования будут учтены при построении модели **кредитного скоринга** — специальной системы, которая оценивает способность потенциального заёмщика вернуть кредит банку."
   ]
  },
  {
   "cell_type": "markdown",
   "metadata": {},
   "source": [
    "## Шаг 1. Откройте файл с данными и изучите общую информацию"
   ]
  },
  {
   "cell_type": "code",
   "execution_count": 1,
   "metadata": {},
   "outputs": [],
   "source": [
    "import pandas as pd\n",
    "from nltk.stem import SnowballStemmer\n",
    "from pymystem3 import Mystem\n",
    "from collections import Counter\n",
    "m = Mystem()\n",
    "\n",
    "df = pd.read_csv('/datasets/data.csv')"
   ]
  },
  {
   "cell_type": "code",
   "execution_count": 2,
   "metadata": {},
   "outputs": [
    {
     "name": "stdout",
     "output_type": "stream",
     "text": [
      "<class 'pandas.core.frame.DataFrame'>\n",
      "RangeIndex: 21525 entries, 0 to 21524\n",
      "Data columns (total 12 columns):\n",
      "children            21525 non-null int64\n",
      "days_employed       19351 non-null float64\n",
      "dob_years           21525 non-null int64\n",
      "education           21525 non-null object\n",
      "education_id        21525 non-null int64\n",
      "family_status       21525 non-null object\n",
      "family_status_id    21525 non-null int64\n",
      "gender              21525 non-null object\n",
      "income_type         21525 non-null object\n",
      "debt                21525 non-null int64\n",
      "total_income        19351 non-null float64\n",
      "purpose             21525 non-null object\n",
      "dtypes: float64(2), int64(5), object(5)\n",
      "memory usage: 2.0+ MB\n"
     ]
    }
   ],
   "source": [
    "df.info()"
   ]
  },
  {
   "cell_type": "code",
   "execution_count": 3,
   "metadata": {},
   "outputs": [
    {
     "data": {
      "text/html": [
       "<div>\n",
       "<style scoped>\n",
       "    .dataframe tbody tr th:only-of-type {\n",
       "        vertical-align: middle;\n",
       "    }\n",
       "\n",
       "    .dataframe tbody tr th {\n",
       "        vertical-align: top;\n",
       "    }\n",
       "\n",
       "    .dataframe thead th {\n",
       "        text-align: right;\n",
       "    }\n",
       "</style>\n",
       "<table border=\"1\" class=\"dataframe\">\n",
       "  <thead>\n",
       "    <tr style=\"text-align: right;\">\n",
       "      <th></th>\n",
       "      <th>children</th>\n",
       "      <th>days_employed</th>\n",
       "      <th>dob_years</th>\n",
       "      <th>education</th>\n",
       "      <th>education_id</th>\n",
       "      <th>family_status</th>\n",
       "      <th>family_status_id</th>\n",
       "      <th>gender</th>\n",
       "      <th>income_type</th>\n",
       "      <th>debt</th>\n",
       "      <th>total_income</th>\n",
       "      <th>purpose</th>\n",
       "    </tr>\n",
       "  </thead>\n",
       "  <tbody>\n",
       "    <tr>\n",
       "      <td>21515</td>\n",
       "      <td>1</td>\n",
       "      <td>-467.685130</td>\n",
       "      <td>28</td>\n",
       "      <td>среднее</td>\n",
       "      <td>1</td>\n",
       "      <td>женат / замужем</td>\n",
       "      <td>0</td>\n",
       "      <td>F</td>\n",
       "      <td>сотрудник</td>\n",
       "      <td>1</td>\n",
       "      <td>109486.327999</td>\n",
       "      <td>заняться образованием</td>\n",
       "    </tr>\n",
       "    <tr>\n",
       "      <td>21516</td>\n",
       "      <td>0</td>\n",
       "      <td>-914.391429</td>\n",
       "      <td>42</td>\n",
       "      <td>высшее</td>\n",
       "      <td>0</td>\n",
       "      <td>женат / замужем</td>\n",
       "      <td>0</td>\n",
       "      <td>F</td>\n",
       "      <td>компаньон</td>\n",
       "      <td>0</td>\n",
       "      <td>322807.776603</td>\n",
       "      <td>покупка своего жилья</td>\n",
       "    </tr>\n",
       "    <tr>\n",
       "      <td>21517</td>\n",
       "      <td>0</td>\n",
       "      <td>-404.679034</td>\n",
       "      <td>42</td>\n",
       "      <td>высшее</td>\n",
       "      <td>0</td>\n",
       "      <td>гражданский брак</td>\n",
       "      <td>1</td>\n",
       "      <td>F</td>\n",
       "      <td>компаньон</td>\n",
       "      <td>0</td>\n",
       "      <td>178059.553491</td>\n",
       "      <td>на покупку своего автомобиля</td>\n",
       "    </tr>\n",
       "    <tr>\n",
       "      <td>21518</td>\n",
       "      <td>0</td>\n",
       "      <td>373995.710838</td>\n",
       "      <td>59</td>\n",
       "      <td>СРЕДНЕЕ</td>\n",
       "      <td>1</td>\n",
       "      <td>женат / замужем</td>\n",
       "      <td>0</td>\n",
       "      <td>F</td>\n",
       "      <td>пенсионер</td>\n",
       "      <td>0</td>\n",
       "      <td>153864.650328</td>\n",
       "      <td>сделка с автомобилем</td>\n",
       "    </tr>\n",
       "    <tr>\n",
       "      <td>21519</td>\n",
       "      <td>1</td>\n",
       "      <td>-2351.431934</td>\n",
       "      <td>37</td>\n",
       "      <td>ученая степень</td>\n",
       "      <td>4</td>\n",
       "      <td>в разводе</td>\n",
       "      <td>3</td>\n",
       "      <td>M</td>\n",
       "      <td>сотрудник</td>\n",
       "      <td>0</td>\n",
       "      <td>115949.039788</td>\n",
       "      <td>покупка коммерческой недвижимости</td>\n",
       "    </tr>\n",
       "    <tr>\n",
       "      <td>21520</td>\n",
       "      <td>1</td>\n",
       "      <td>-4529.316663</td>\n",
       "      <td>43</td>\n",
       "      <td>среднее</td>\n",
       "      <td>1</td>\n",
       "      <td>гражданский брак</td>\n",
       "      <td>1</td>\n",
       "      <td>F</td>\n",
       "      <td>компаньон</td>\n",
       "      <td>0</td>\n",
       "      <td>224791.862382</td>\n",
       "      <td>операции с жильем</td>\n",
       "    </tr>\n",
       "    <tr>\n",
       "      <td>21521</td>\n",
       "      <td>0</td>\n",
       "      <td>343937.404131</td>\n",
       "      <td>67</td>\n",
       "      <td>среднее</td>\n",
       "      <td>1</td>\n",
       "      <td>женат / замужем</td>\n",
       "      <td>0</td>\n",
       "      <td>F</td>\n",
       "      <td>пенсионер</td>\n",
       "      <td>0</td>\n",
       "      <td>155999.806512</td>\n",
       "      <td>сделка с автомобилем</td>\n",
       "    </tr>\n",
       "    <tr>\n",
       "      <td>21522</td>\n",
       "      <td>1</td>\n",
       "      <td>-2113.346888</td>\n",
       "      <td>38</td>\n",
       "      <td>среднее</td>\n",
       "      <td>1</td>\n",
       "      <td>гражданский брак</td>\n",
       "      <td>1</td>\n",
       "      <td>M</td>\n",
       "      <td>сотрудник</td>\n",
       "      <td>1</td>\n",
       "      <td>89672.561153</td>\n",
       "      <td>недвижимость</td>\n",
       "    </tr>\n",
       "    <tr>\n",
       "      <td>21523</td>\n",
       "      <td>3</td>\n",
       "      <td>-3112.481705</td>\n",
       "      <td>38</td>\n",
       "      <td>среднее</td>\n",
       "      <td>1</td>\n",
       "      <td>женат / замужем</td>\n",
       "      <td>0</td>\n",
       "      <td>M</td>\n",
       "      <td>сотрудник</td>\n",
       "      <td>1</td>\n",
       "      <td>244093.050500</td>\n",
       "      <td>на покупку своего автомобиля</td>\n",
       "    </tr>\n",
       "    <tr>\n",
       "      <td>21524</td>\n",
       "      <td>2</td>\n",
       "      <td>-1984.507589</td>\n",
       "      <td>40</td>\n",
       "      <td>среднее</td>\n",
       "      <td>1</td>\n",
       "      <td>женат / замужем</td>\n",
       "      <td>0</td>\n",
       "      <td>F</td>\n",
       "      <td>сотрудник</td>\n",
       "      <td>0</td>\n",
       "      <td>82047.418899</td>\n",
       "      <td>на покупку автомобиля</td>\n",
       "    </tr>\n",
       "  </tbody>\n",
       "</table>\n",
       "</div>"
      ],
      "text/plain": [
       "       children  days_employed  dob_years       education  education_id  \\\n",
       "21515         1    -467.685130         28         среднее             1   \n",
       "21516         0    -914.391429         42          высшее             0   \n",
       "21517         0    -404.679034         42          высшее             0   \n",
       "21518         0  373995.710838         59         СРЕДНЕЕ             1   \n",
       "21519         1   -2351.431934         37  ученая степень             4   \n",
       "21520         1   -4529.316663         43         среднее             1   \n",
       "21521         0  343937.404131         67         среднее             1   \n",
       "21522         1   -2113.346888         38         среднее             1   \n",
       "21523         3   -3112.481705         38         среднее             1   \n",
       "21524         2   -1984.507589         40         среднее             1   \n",
       "\n",
       "          family_status  family_status_id gender income_type  debt  \\\n",
       "21515   женат / замужем                 0      F   сотрудник     1   \n",
       "21516   женат / замужем                 0      F   компаньон     0   \n",
       "21517  гражданский брак                 1      F   компаньон     0   \n",
       "21518   женат / замужем                 0      F   пенсионер     0   \n",
       "21519         в разводе                 3      M   сотрудник     0   \n",
       "21520  гражданский брак                 1      F   компаньон     0   \n",
       "21521   женат / замужем                 0      F   пенсионер     0   \n",
       "21522  гражданский брак                 1      M   сотрудник     1   \n",
       "21523   женат / замужем                 0      M   сотрудник     1   \n",
       "21524   женат / замужем                 0      F   сотрудник     0   \n",
       "\n",
       "        total_income                            purpose  \n",
       "21515  109486.327999              заняться образованием  \n",
       "21516  322807.776603               покупка своего жилья  \n",
       "21517  178059.553491       на покупку своего автомобиля  \n",
       "21518  153864.650328               сделка с автомобилем  \n",
       "21519  115949.039788  покупка коммерческой недвижимости  \n",
       "21520  224791.862382                  операции с жильем  \n",
       "21521  155999.806512               сделка с автомобилем  \n",
       "21522   89672.561153                       недвижимость  \n",
       "21523  244093.050500       на покупку своего автомобиля  \n",
       "21524   82047.418899              на покупку автомобиля  "
      ]
     },
     "execution_count": 3,
     "metadata": {},
     "output_type": "execute_result"
    }
   ],
   "source": [
    "df.tail(10)"
   ]
  },
  {
   "cell_type": "markdown",
   "metadata": {},
   "source": [
    "children — количество детей в семье\n",
    "days_employed — общий трудовой стаж в днях\n",
    "dob_years — возраст клиента в годах\n",
    "education — уровень образования клиента\n",
    "education_id — идентификатор уровня образования\n",
    "family_status — семейное положение\n",
    "family_status_id — идентификатор семейного положения\n",
    "gender — пол клиента\n",
    "income_type — тип занятости\n",
    "debt — имел ли задолженность по возврату кредитов\n",
    "total_income — ежемесячный доход\n",
    "purpose — цель получения кредита"
   ]
  },
  {
   "cell_type": "markdown",
   "metadata": {},
   "source": [
    "**Вывод**: При первом осмотре данные собраны коректно, за исключением данных по трудовому стажу, отрицательные значения, и данные указаны явно не в днях. Так же есть пропуски в стаже и зарплате, нужно разобраться от чего появились эти пропуски. Цели кредита можно сгруппировать по категориям, а колонку образование привести к нижнему регистру"
   ]
  },
  {
   "cell_type": "markdown",
   "metadata": {},
   "source": [
    "## Шаг 2. Предобработка данных"
   ]
  },
  {
   "cell_type": "markdown",
   "metadata": {},
   "source": [
    "### Обработка пропусков"
   ]
  },
  {
   "cell_type": "code",
   "execution_count": 4,
   "metadata": {
    "scrolled": true
   },
   "outputs": [
    {
     "data": {
      "text/plain": [
       "children               0\n",
       "days_employed       2174\n",
       "dob_years              0\n",
       "education              0\n",
       "education_id           0\n",
       "family_status          0\n",
       "family_status_id       0\n",
       "gender                 0\n",
       "income_type            0\n",
       "debt                   0\n",
       "total_income        2174\n",
       "purpose                0\n",
       "dtype: int64"
      ]
     },
     "metadata": {},
     "output_type": "display_data"
    }
   ],
   "source": [
    "display(df.isna().sum())"
   ]
  },
  {
   "cell_type": "markdown",
   "metadata": {},
   "source": [
    "Для начала ознакомимся с пропущеными значениями выведим их в отдельную таблицу."
   ]
  },
  {
   "cell_type": "code",
   "execution_count": 5,
   "metadata": {},
   "outputs": [
    {
     "data": {
      "text/html": [
       "<div>\n",
       "<style scoped>\n",
       "    .dataframe tbody tr th:only-of-type {\n",
       "        vertical-align: middle;\n",
       "    }\n",
       "\n",
       "    .dataframe tbody tr th {\n",
       "        vertical-align: top;\n",
       "    }\n",
       "\n",
       "    .dataframe thead th {\n",
       "        text-align: right;\n",
       "    }\n",
       "</style>\n",
       "<table border=\"1\" class=\"dataframe\">\n",
       "  <thead>\n",
       "    <tr style=\"text-align: right;\">\n",
       "      <th></th>\n",
       "      <th>children</th>\n",
       "      <th>days_employed</th>\n",
       "      <th>dob_years</th>\n",
       "      <th>education</th>\n",
       "      <th>education_id</th>\n",
       "      <th>family_status</th>\n",
       "      <th>family_status_id</th>\n",
       "      <th>gender</th>\n",
       "      <th>income_type</th>\n",
       "      <th>debt</th>\n",
       "      <th>total_income</th>\n",
       "      <th>purpose</th>\n",
       "    </tr>\n",
       "  </thead>\n",
       "  <tbody>\n",
       "    <tr>\n",
       "      <td>12</td>\n",
       "      <td>0</td>\n",
       "      <td>NaN</td>\n",
       "      <td>65</td>\n",
       "      <td>среднее</td>\n",
       "      <td>1</td>\n",
       "      <td>гражданский брак</td>\n",
       "      <td>1</td>\n",
       "      <td>M</td>\n",
       "      <td>пенсионер</td>\n",
       "      <td>0</td>\n",
       "      <td>NaN</td>\n",
       "      <td>сыграть свадьбу</td>\n",
       "    </tr>\n",
       "    <tr>\n",
       "      <td>26</td>\n",
       "      <td>0</td>\n",
       "      <td>NaN</td>\n",
       "      <td>41</td>\n",
       "      <td>среднее</td>\n",
       "      <td>1</td>\n",
       "      <td>женат / замужем</td>\n",
       "      <td>0</td>\n",
       "      <td>M</td>\n",
       "      <td>госслужащий</td>\n",
       "      <td>0</td>\n",
       "      <td>NaN</td>\n",
       "      <td>образование</td>\n",
       "    </tr>\n",
       "    <tr>\n",
       "      <td>29</td>\n",
       "      <td>0</td>\n",
       "      <td>NaN</td>\n",
       "      <td>63</td>\n",
       "      <td>среднее</td>\n",
       "      <td>1</td>\n",
       "      <td>Не женат / не замужем</td>\n",
       "      <td>4</td>\n",
       "      <td>F</td>\n",
       "      <td>пенсионер</td>\n",
       "      <td>0</td>\n",
       "      <td>NaN</td>\n",
       "      <td>строительство жилой недвижимости</td>\n",
       "    </tr>\n",
       "    <tr>\n",
       "      <td>41</td>\n",
       "      <td>0</td>\n",
       "      <td>NaN</td>\n",
       "      <td>50</td>\n",
       "      <td>среднее</td>\n",
       "      <td>1</td>\n",
       "      <td>женат / замужем</td>\n",
       "      <td>0</td>\n",
       "      <td>F</td>\n",
       "      <td>госслужащий</td>\n",
       "      <td>0</td>\n",
       "      <td>NaN</td>\n",
       "      <td>сделка с подержанным автомобилем</td>\n",
       "    </tr>\n",
       "    <tr>\n",
       "      <td>55</td>\n",
       "      <td>0</td>\n",
       "      <td>NaN</td>\n",
       "      <td>54</td>\n",
       "      <td>среднее</td>\n",
       "      <td>1</td>\n",
       "      <td>гражданский брак</td>\n",
       "      <td>1</td>\n",
       "      <td>F</td>\n",
       "      <td>пенсионер</td>\n",
       "      <td>1</td>\n",
       "      <td>NaN</td>\n",
       "      <td>сыграть свадьбу</td>\n",
       "    </tr>\n",
       "    <tr>\n",
       "      <td>65</td>\n",
       "      <td>0</td>\n",
       "      <td>NaN</td>\n",
       "      <td>21</td>\n",
       "      <td>среднее</td>\n",
       "      <td>1</td>\n",
       "      <td>Не женат / не замужем</td>\n",
       "      <td>4</td>\n",
       "      <td>M</td>\n",
       "      <td>компаньон</td>\n",
       "      <td>0</td>\n",
       "      <td>NaN</td>\n",
       "      <td>операции с коммерческой недвижимостью</td>\n",
       "    </tr>\n",
       "    <tr>\n",
       "      <td>67</td>\n",
       "      <td>0</td>\n",
       "      <td>NaN</td>\n",
       "      <td>52</td>\n",
       "      <td>высшее</td>\n",
       "      <td>0</td>\n",
       "      <td>женат / замужем</td>\n",
       "      <td>0</td>\n",
       "      <td>F</td>\n",
       "      <td>пенсионер</td>\n",
       "      <td>0</td>\n",
       "      <td>NaN</td>\n",
       "      <td>покупка жилья для семьи</td>\n",
       "    </tr>\n",
       "    <tr>\n",
       "      <td>72</td>\n",
       "      <td>1</td>\n",
       "      <td>NaN</td>\n",
       "      <td>32</td>\n",
       "      <td>высшее</td>\n",
       "      <td>0</td>\n",
       "      <td>женат / замужем</td>\n",
       "      <td>0</td>\n",
       "      <td>M</td>\n",
       "      <td>госслужащий</td>\n",
       "      <td>0</td>\n",
       "      <td>NaN</td>\n",
       "      <td>операции с коммерческой недвижимостью</td>\n",
       "    </tr>\n",
       "    <tr>\n",
       "      <td>82</td>\n",
       "      <td>2</td>\n",
       "      <td>NaN</td>\n",
       "      <td>50</td>\n",
       "      <td>высшее</td>\n",
       "      <td>0</td>\n",
       "      <td>женат / замужем</td>\n",
       "      <td>0</td>\n",
       "      <td>F</td>\n",
       "      <td>сотрудник</td>\n",
       "      <td>0</td>\n",
       "      <td>NaN</td>\n",
       "      <td>жилье</td>\n",
       "    </tr>\n",
       "    <tr>\n",
       "      <td>83</td>\n",
       "      <td>0</td>\n",
       "      <td>NaN</td>\n",
       "      <td>52</td>\n",
       "      <td>среднее</td>\n",
       "      <td>1</td>\n",
       "      <td>женат / замужем</td>\n",
       "      <td>0</td>\n",
       "      <td>M</td>\n",
       "      <td>сотрудник</td>\n",
       "      <td>0</td>\n",
       "      <td>NaN</td>\n",
       "      <td>жилье</td>\n",
       "    </tr>\n",
       "  </tbody>\n",
       "</table>\n",
       "</div>"
      ],
      "text/plain": [
       "    children  days_employed  dob_years education  education_id  \\\n",
       "12         0            NaN         65   среднее             1   \n",
       "26         0            NaN         41   среднее             1   \n",
       "29         0            NaN         63   среднее             1   \n",
       "41         0            NaN         50   среднее             1   \n",
       "55         0            NaN         54   среднее             1   \n",
       "65         0            NaN         21   среднее             1   \n",
       "67         0            NaN         52    высшее             0   \n",
       "72         1            NaN         32    высшее             0   \n",
       "82         2            NaN         50    высшее             0   \n",
       "83         0            NaN         52   среднее             1   \n",
       "\n",
       "            family_status  family_status_id gender  income_type  debt  \\\n",
       "12       гражданский брак                 1      M    пенсионер     0   \n",
       "26        женат / замужем                 0      M  госслужащий     0   \n",
       "29  Не женат / не замужем                 4      F    пенсионер     0   \n",
       "41        женат / замужем                 0      F  госслужащий     0   \n",
       "55       гражданский брак                 1      F    пенсионер     1   \n",
       "65  Не женат / не замужем                 4      M    компаньон     0   \n",
       "67        женат / замужем                 0      F    пенсионер     0   \n",
       "72        женат / замужем                 0      M  госслужащий     0   \n",
       "82        женат / замужем                 0      F    сотрудник     0   \n",
       "83        женат / замужем                 0      M    сотрудник     0   \n",
       "\n",
       "    total_income                                purpose  \n",
       "12           NaN                        сыграть свадьбу  \n",
       "26           NaN                            образование  \n",
       "29           NaN       строительство жилой недвижимости  \n",
       "41           NaN       сделка с подержанным автомобилем  \n",
       "55           NaN                        сыграть свадьбу  \n",
       "65           NaN  операции с коммерческой недвижимостью  \n",
       "67           NaN                покупка жилья для семьи  \n",
       "72           NaN  операции с коммерческой недвижимостью  \n",
       "82           NaN                                  жилье  \n",
       "83           NaN                                  жилье  "
      ]
     },
     "metadata": {},
     "output_type": "display_data"
    },
    {
     "data": {
      "text/plain": [
       "children            2174\n",
       "days_employed          0\n",
       "dob_years           2174\n",
       "education           2174\n",
       "education_id        2174\n",
       "family_status       2174\n",
       "family_status_id    2174\n",
       "gender              2174\n",
       "income_type         2174\n",
       "debt                2174\n",
       "total_income           0\n",
       "purpose             2174\n",
       "dtype: int64"
      ]
     },
     "metadata": {},
     "output_type": "display_data"
    },
    {
     "data": {
      "text/plain": [
       "сотрудник          1105\n",
       "компаньон           508\n",
       "пенсионер           413\n",
       "госслужащий         147\n",
       "предприниматель       1\n",
       "Name: income_type, dtype: int64"
      ]
     },
     "metadata": {},
     "output_type": "display_data"
    }
   ],
   "source": [
    "empty_df = df.loc[df['days_employed'].isna() == True] #Создаем таблицу с пропущенными значениями.\n",
    "display(empty_df.head(10))\n",
    "display(empty_df.count()) \n",
    "display(empty_df['income_type'].value_counts()) #Подсчитаем количество значений, по категориям занятости"
   ]
  },
  {
   "cell_type": "markdown",
   "metadata": {},
   "source": [
    "Проведя проверку данных, пришли к выводу, что даныне пропущенные в трудовом стаже также и пропущены в столбце зарплаты. Из этого можно предположить что данные отсутсвуют из-за информации о работе. Сходство по типу занятости не обноружены."
   ]
  },
  {
   "cell_type": "code",
   "execution_count": 6,
   "metadata": {},
   "outputs": [
    {
     "data": {
      "text/html": [
       "<div>\n",
       "<style scoped>\n",
       "    .dataframe tbody tr th:only-of-type {\n",
       "        vertical-align: middle;\n",
       "    }\n",
       "\n",
       "    .dataframe tbody tr th {\n",
       "        vertical-align: top;\n",
       "    }\n",
       "\n",
       "    .dataframe thead th {\n",
       "        text-align: right;\n",
       "    }\n",
       "</style>\n",
       "<table border=\"1\" class=\"dataframe\">\n",
       "  <thead>\n",
       "    <tr style=\"text-align: right;\">\n",
       "      <th></th>\n",
       "      <th>children</th>\n",
       "      <th>days_employed</th>\n",
       "      <th>dob_years</th>\n",
       "      <th>education</th>\n",
       "      <th>education_id</th>\n",
       "      <th>family_status</th>\n",
       "      <th>family_status_id</th>\n",
       "      <th>gender</th>\n",
       "      <th>income_type</th>\n",
       "      <th>debt</th>\n",
       "      <th>total_income</th>\n",
       "      <th>purpose</th>\n",
       "    </tr>\n",
       "  </thead>\n",
       "  <tbody>\n",
       "    <tr>\n",
       "      <td>4</td>\n",
       "      <td>0</td>\n",
       "      <td>340266.072047</td>\n",
       "      <td>53</td>\n",
       "      <td>среднее</td>\n",
       "      <td>1</td>\n",
       "      <td>гражданский брак</td>\n",
       "      <td>1</td>\n",
       "      <td>F</td>\n",
       "      <td>пенсионер</td>\n",
       "      <td>0</td>\n",
       "      <td>158616.077870</td>\n",
       "      <td>сыграть свадьбу</td>\n",
       "    </tr>\n",
       "    <tr>\n",
       "      <td>18</td>\n",
       "      <td>0</td>\n",
       "      <td>400281.136913</td>\n",
       "      <td>53</td>\n",
       "      <td>среднее</td>\n",
       "      <td>1</td>\n",
       "      <td>вдовец / вдова</td>\n",
       "      <td>2</td>\n",
       "      <td>F</td>\n",
       "      <td>пенсионер</td>\n",
       "      <td>0</td>\n",
       "      <td>56823.777243</td>\n",
       "      <td>на покупку подержанного автомобиля</td>\n",
       "    </tr>\n",
       "    <tr>\n",
       "      <td>24</td>\n",
       "      <td>1</td>\n",
       "      <td>338551.952911</td>\n",
       "      <td>57</td>\n",
       "      <td>среднее</td>\n",
       "      <td>1</td>\n",
       "      <td>Не женат / не замужем</td>\n",
       "      <td>4</td>\n",
       "      <td>F</td>\n",
       "      <td>пенсионер</td>\n",
       "      <td>0</td>\n",
       "      <td>290547.235997</td>\n",
       "      <td>операции с коммерческой недвижимостью</td>\n",
       "    </tr>\n",
       "    <tr>\n",
       "      <td>25</td>\n",
       "      <td>0</td>\n",
       "      <td>363548.489348</td>\n",
       "      <td>67</td>\n",
       "      <td>среднее</td>\n",
       "      <td>1</td>\n",
       "      <td>женат / замужем</td>\n",
       "      <td>0</td>\n",
       "      <td>M</td>\n",
       "      <td>пенсионер</td>\n",
       "      <td>0</td>\n",
       "      <td>55112.757732</td>\n",
       "      <td>покупка недвижимости</td>\n",
       "    </tr>\n",
       "    <tr>\n",
       "      <td>30</td>\n",
       "      <td>1</td>\n",
       "      <td>335581.668515</td>\n",
       "      <td>62</td>\n",
       "      <td>среднее</td>\n",
       "      <td>1</td>\n",
       "      <td>женат / замужем</td>\n",
       "      <td>0</td>\n",
       "      <td>F</td>\n",
       "      <td>пенсионер</td>\n",
       "      <td>0</td>\n",
       "      <td>171456.067993</td>\n",
       "      <td>операции с коммерческой недвижимостью</td>\n",
       "    </tr>\n",
       "  </tbody>\n",
       "</table>\n",
       "</div>"
      ],
      "text/plain": [
       "    children  days_employed  dob_years education  education_id  \\\n",
       "4          0  340266.072047         53   среднее             1   \n",
       "18         0  400281.136913         53   среднее             1   \n",
       "24         1  338551.952911         57   среднее             1   \n",
       "25         0  363548.489348         67   среднее             1   \n",
       "30         1  335581.668515         62   среднее             1   \n",
       "\n",
       "            family_status  family_status_id gender income_type  debt  \\\n",
       "4        гражданский брак                 1      F   пенсионер     0   \n",
       "18         вдовец / вдова                 2      F   пенсионер     0   \n",
       "24  Не женат / не замужем                 4      F   пенсионер     0   \n",
       "25        женат / замужем                 0      M   пенсионер     0   \n",
       "30        женат / замужем                 0      F   пенсионер     0   \n",
       "\n",
       "     total_income                                purpose  \n",
       "4   158616.077870                        сыграть свадьбу  \n",
       "18   56823.777243     на покупку подержанного автомобиля  \n",
       "24  290547.235997  операции с коммерческой недвижимостью  \n",
       "25   55112.757732                   покупка недвижимости  \n",
       "30  171456.067993  операции с коммерческой недвижимостью  "
      ]
     },
     "metadata": {},
     "output_type": "display_data"
    },
    {
     "data": {
      "text/plain": [
       "array(['пенсионер', 'безработный'], dtype=object)"
      ]
     },
     "metadata": {},
     "output_type": "display_data"
    },
    {
     "data": {
      "text/plain": [
       "пенсионер      3443\n",
       "безработный       2\n",
       "Name: income_type, dtype: int64"
      ]
     },
     "metadata": {},
     "output_type": "display_data"
    }
   ],
   "source": [
    "# Выясним какие строки в графе стажа принимают положительные значения, и выясним уникальные значени в графе занятости\n",
    "days_employed_mz = df[df['days_employed'] > 0]\n",
    "display(days_employed_mz.head(5))\n",
    "display(days_employed_mz['income_type'].unique())\n",
    "display(days_employed_mz['income_type'].value_counts())"
   ]
  },
  {
   "cell_type": "code",
   "execution_count": 7,
   "metadata": {},
   "outputs": [
    {
     "data": {
      "text/html": [
       "<div>\n",
       "<style scoped>\n",
       "    .dataframe tbody tr th:only-of-type {\n",
       "        vertical-align: middle;\n",
       "    }\n",
       "\n",
       "    .dataframe tbody tr th {\n",
       "        vertical-align: top;\n",
       "    }\n",
       "\n",
       "    .dataframe thead th {\n",
       "        text-align: right;\n",
       "    }\n",
       "</style>\n",
       "<table border=\"1\" class=\"dataframe\">\n",
       "  <thead>\n",
       "    <tr style=\"text-align: right;\">\n",
       "      <th></th>\n",
       "      <th>children</th>\n",
       "      <th>days_employed</th>\n",
       "      <th>dob_years</th>\n",
       "      <th>education</th>\n",
       "      <th>education_id</th>\n",
       "      <th>family_status</th>\n",
       "      <th>family_status_id</th>\n",
       "      <th>gender</th>\n",
       "      <th>income_type</th>\n",
       "      <th>debt</th>\n",
       "      <th>total_income</th>\n",
       "      <th>purpose</th>\n",
       "      <th>years_employed</th>\n",
       "      <th>years_employed_realistic</th>\n",
       "      <th>years_employed_possibility</th>\n",
       "    </tr>\n",
       "  </thead>\n",
       "  <tbody>\n",
       "    <tr>\n",
       "      <td>0</td>\n",
       "      <td>1</td>\n",
       "      <td>-8437.673028</td>\n",
       "      <td>42</td>\n",
       "      <td>высшее</td>\n",
       "      <td>0</td>\n",
       "      <td>женат / замужем</td>\n",
       "      <td>0</td>\n",
       "      <td>F</td>\n",
       "      <td>сотрудник</td>\n",
       "      <td>0</td>\n",
       "      <td>253875.639453</td>\n",
       "      <td>покупка жилья</td>\n",
       "      <td>-23.101090</td>\n",
       "      <td>24</td>\n",
       "      <td>possible</td>\n",
       "    </tr>\n",
       "    <tr>\n",
       "      <td>1</td>\n",
       "      <td>1</td>\n",
       "      <td>-4024.803754</td>\n",
       "      <td>36</td>\n",
       "      <td>среднее</td>\n",
       "      <td>1</td>\n",
       "      <td>женат / замужем</td>\n",
       "      <td>0</td>\n",
       "      <td>F</td>\n",
       "      <td>сотрудник</td>\n",
       "      <td>0</td>\n",
       "      <td>112080.014102</td>\n",
       "      <td>приобретение автомобиля</td>\n",
       "      <td>-11.019312</td>\n",
       "      <td>18</td>\n",
       "      <td>possible</td>\n",
       "    </tr>\n",
       "    <tr>\n",
       "      <td>2</td>\n",
       "      <td>0</td>\n",
       "      <td>-5623.422610</td>\n",
       "      <td>33</td>\n",
       "      <td>Среднее</td>\n",
       "      <td>1</td>\n",
       "      <td>женат / замужем</td>\n",
       "      <td>0</td>\n",
       "      <td>M</td>\n",
       "      <td>сотрудник</td>\n",
       "      <td>0</td>\n",
       "      <td>145885.952297</td>\n",
       "      <td>покупка жилья</td>\n",
       "      <td>-15.396092</td>\n",
       "      <td>15</td>\n",
       "      <td>impossible</td>\n",
       "    </tr>\n",
       "    <tr>\n",
       "      <td>3</td>\n",
       "      <td>3</td>\n",
       "      <td>-4124.747207</td>\n",
       "      <td>32</td>\n",
       "      <td>среднее</td>\n",
       "      <td>1</td>\n",
       "      <td>женат / замужем</td>\n",
       "      <td>0</td>\n",
       "      <td>M</td>\n",
       "      <td>сотрудник</td>\n",
       "      <td>0</td>\n",
       "      <td>267628.550329</td>\n",
       "      <td>дополнительное образование</td>\n",
       "      <td>-11.292942</td>\n",
       "      <td>14</td>\n",
       "      <td>possible</td>\n",
       "    </tr>\n",
       "    <tr>\n",
       "      <td>4</td>\n",
       "      <td>0</td>\n",
       "      <td>340266.072047</td>\n",
       "      <td>53</td>\n",
       "      <td>среднее</td>\n",
       "      <td>1</td>\n",
       "      <td>гражданский брак</td>\n",
       "      <td>1</td>\n",
       "      <td>F</td>\n",
       "      <td>пенсионер</td>\n",
       "      <td>0</td>\n",
       "      <td>158616.077870</td>\n",
       "      <td>сыграть свадьбу</td>\n",
       "      <td>931.597733</td>\n",
       "      <td>35</td>\n",
       "      <td>impossible</td>\n",
       "    </tr>\n",
       "  </tbody>\n",
       "</table>\n",
       "</div>"
      ],
      "text/plain": [
       "   children  days_employed  dob_years education  education_id  \\\n",
       "0         1   -8437.673028         42    высшее             0   \n",
       "1         1   -4024.803754         36   среднее             1   \n",
       "2         0   -5623.422610         33   Среднее             1   \n",
       "3         3   -4124.747207         32   среднее             1   \n",
       "4         0  340266.072047         53   среднее             1   \n",
       "\n",
       "      family_status  family_status_id gender income_type  debt   total_income  \\\n",
       "0   женат / замужем                 0      F   сотрудник     0  253875.639453   \n",
       "1   женат / замужем                 0      F   сотрудник     0  112080.014102   \n",
       "2   женат / замужем                 0      M   сотрудник     0  145885.952297   \n",
       "3   женат / замужем                 0      M   сотрудник     0  267628.550329   \n",
       "4  гражданский брак                 1      F   пенсионер     0  158616.077870   \n",
       "\n",
       "                      purpose  years_employed  years_employed_realistic  \\\n",
       "0               покупка жилья      -23.101090                        24   \n",
       "1     приобретение автомобиля      -11.019312                        18   \n",
       "2               покупка жилья      -15.396092                        15   \n",
       "3  дополнительное образование      -11.292942                        14   \n",
       "4             сыграть свадьбу      931.597733                        35   \n",
       "\n",
       "  years_employed_possibility  \n",
       "0                   possible  \n",
       "1                   possible  \n",
       "2                 impossible  \n",
       "3                   possible  \n",
       "4                 impossible  "
      ]
     },
     "metadata": {},
     "output_type": "display_data"
    },
    {
     "data": {
      "text/plain": [
       "possible      15427\n",
       "impossible     6098\n",
       "Name: years_employed_possibility, dtype: int64"
      ]
     },
     "metadata": {},
     "output_type": "display_data"
    }
   ],
   "source": [
    "def employed_period_possible(row):\n",
    "    years_employed = row['years_employed']\n",
    "    years_employed_realistic = row['years_employed_realistic']\n",
    "    if years_employed < 0:\n",
    "        years_employed = years_employed * (-1)\n",
    "    if years_employed_realistic > years_employed:\n",
    "        return 'possible'\n",
    "    else:\n",
    "        return 'impossible'\n",
    "\n",
    "df['years_employed'] = df['days_employed'] / 365.25\n",
    "df['years_employed_realistic'] = df['dob_years'] - 18\n",
    "df['years_employed_possibility'] = df.apply(employed_period_possible, axis = 1)\n",
    "display(df.head(5))\n",
    "display(df['years_employed_possibility'].value_counts())"
   ]
  },
  {
   "cell_type": "markdown",
   "metadata": {},
   "source": [
    "После перевода трудового стажа в года, сравнили с возрастом заемщиков, и вывели возможно или не возможно иметь такой трудовой стаж при условии что в стране разрешенно работать с 18 лет. К правильности собранных данных в колонке 'days_employed' много вопросов, т.к. эта колонка не влияет на поставленую задачу, оставляем ее как есть"
   ]
  },
  {
   "cell_type": "code",
   "execution_count": 8,
   "metadata": {},
   "outputs": [
    {
     "data": {
      "text/plain": [
       "income_type\n",
       "безработный        131339.751676\n",
       "в декрете           53829.130729\n",
       "госслужащий        150447.935283\n",
       "компаньон          172357.950966\n",
       "пенсионер          118514.486412\n",
       "предприниматель    499163.144947\n",
       "сотрудник          142594.396847\n",
       "студент             98201.625314\n",
       "Name: total_income, dtype: float64"
      ]
     },
     "metadata": {},
     "output_type": "display_data"
    },
    {
     "name": "stdout",
     "output_type": "stream",
     "text": [
      "<class 'pandas.core.frame.DataFrame'>\n",
      "RangeIndex: 21525 entries, 0 to 21524\n",
      "Data columns (total 16 columns):\n",
      "children                      21525 non-null int64\n",
      "days_employed                 19351 non-null float64\n",
      "dob_years                     21525 non-null int64\n",
      "education                     21525 non-null object\n",
      "education_id                  21525 non-null int64\n",
      "family_status                 21525 non-null object\n",
      "family_status_id              21525 non-null int64\n",
      "gender                        21525 non-null object\n",
      "income_type                   21525 non-null object\n",
      "debt                          21525 non-null int64\n",
      "total_income                  21525 non-null float64\n",
      "purpose                       21525 non-null object\n",
      "years_employed                19351 non-null float64\n",
      "years_employed_realistic      21525 non-null int64\n",
      "years_employed_possibility    21525 non-null object\n",
      "median_income                 21525 non-null int64\n",
      "dtypes: float64(3), int64(7), object(6)\n",
      "memory usage: 2.6+ MB\n"
     ]
    }
   ],
   "source": [
    "data_grouped_income = df.groupby('income_type')['total_income'].median()\n",
    "display(data_grouped_income)\n",
    "income_type_dict = data_grouped_income.to_dict()\n",
    "\n",
    "def get_median_income_by_income_type(row):\n",
    "    income_type = row['income_type']\n",
    "    return int(income_type_dict[income_type])\n",
    "\n",
    "df['median_income'] = df.apply(get_median_income_by_income_type, axis = 1)\n",
    "df['total_income'] = df['total_income'].fillna(df['median_income'])\n",
    "df.info()"
   ]
  },
  {
   "cell_type": "markdown",
   "metadata": {},
   "source": [
    "Заполнить пропущенные значени в total_income было решено медиаными значениями по категориям собранными из столбца income_type."
   ]
  },
  {
   "cell_type": "markdown",
   "metadata": {},
   "source": [
    "**Вывод**  Было выявлено 2174 пропуска в столбцах days_employed и total_income так же пропуски в этих столбцах совпадают, а сходство по income_type не выявлено. Будем считать что эти пропуски полностью случайны. Столбец days_empolyed оставим без изменений т.к. он не влияет на постовленную задачу. Столбец total_income заполнили медианными значениями по категориям из income_type."
   ]
  },
  {
   "cell_type": "markdown",
   "metadata": {},
   "source": [
    "### Замена типа данных"
   ]
  },
  {
   "cell_type": "code",
   "execution_count": 9,
   "metadata": {},
   "outputs": [
    {
     "name": "stdout",
     "output_type": "stream",
     "text": [
      "<class 'pandas.core.frame.DataFrame'>\n",
      "RangeIndex: 21525 entries, 0 to 21524\n",
      "Data columns (total 16 columns):\n",
      "children                      21525 non-null int64\n",
      "days_employed                 21525 non-null int64\n",
      "dob_years                     21525 non-null int64\n",
      "education                     21525 non-null object\n",
      "education_id                  21525 non-null int64\n",
      "family_status                 21525 non-null object\n",
      "family_status_id              21525 non-null int64\n",
      "gender                        21525 non-null object\n",
      "income_type                   21525 non-null object\n",
      "debt                          21525 non-null int64\n",
      "total_income                  21525 non-null int64\n",
      "purpose                       21525 non-null object\n",
      "years_employed                21525 non-null int64\n",
      "years_employed_realistic      21525 non-null int64\n",
      "years_employed_possibility    21525 non-null object\n",
      "median_income                 21525 non-null int64\n",
      "dtypes: int64(10), object(6)\n",
      "memory usage: 2.6+ MB\n"
     ]
    },
    {
     "data": {
      "text/html": [
       "<div>\n",
       "<style scoped>\n",
       "    .dataframe tbody tr th:only-of-type {\n",
       "        vertical-align: middle;\n",
       "    }\n",
       "\n",
       "    .dataframe tbody tr th {\n",
       "        vertical-align: top;\n",
       "    }\n",
       "\n",
       "    .dataframe thead th {\n",
       "        text-align: right;\n",
       "    }\n",
       "</style>\n",
       "<table border=\"1\" class=\"dataframe\">\n",
       "  <thead>\n",
       "    <tr style=\"text-align: right;\">\n",
       "      <th></th>\n",
       "      <th>children</th>\n",
       "      <th>days_employed</th>\n",
       "      <th>dob_years</th>\n",
       "      <th>education</th>\n",
       "      <th>education_id</th>\n",
       "      <th>family_status</th>\n",
       "      <th>family_status_id</th>\n",
       "      <th>gender</th>\n",
       "      <th>income_type</th>\n",
       "      <th>debt</th>\n",
       "      <th>total_income</th>\n",
       "      <th>purpose</th>\n",
       "      <th>years_employed</th>\n",
       "      <th>years_employed_realistic</th>\n",
       "      <th>years_employed_possibility</th>\n",
       "      <th>median_income</th>\n",
       "    </tr>\n",
       "  </thead>\n",
       "  <tbody>\n",
       "    <tr>\n",
       "      <td>0</td>\n",
       "      <td>1</td>\n",
       "      <td>-8437</td>\n",
       "      <td>42</td>\n",
       "      <td>высшее</td>\n",
       "      <td>0</td>\n",
       "      <td>женат / замужем</td>\n",
       "      <td>0</td>\n",
       "      <td>F</td>\n",
       "      <td>сотрудник</td>\n",
       "      <td>0</td>\n",
       "      <td>253875</td>\n",
       "      <td>покупка жилья</td>\n",
       "      <td>-23</td>\n",
       "      <td>24</td>\n",
       "      <td>possible</td>\n",
       "      <td>142594</td>\n",
       "    </tr>\n",
       "    <tr>\n",
       "      <td>1</td>\n",
       "      <td>1</td>\n",
       "      <td>-4024</td>\n",
       "      <td>36</td>\n",
       "      <td>среднее</td>\n",
       "      <td>1</td>\n",
       "      <td>женат / замужем</td>\n",
       "      <td>0</td>\n",
       "      <td>F</td>\n",
       "      <td>сотрудник</td>\n",
       "      <td>0</td>\n",
       "      <td>112080</td>\n",
       "      <td>приобретение автомобиля</td>\n",
       "      <td>-11</td>\n",
       "      <td>18</td>\n",
       "      <td>possible</td>\n",
       "      <td>142594</td>\n",
       "    </tr>\n",
       "    <tr>\n",
       "      <td>2</td>\n",
       "      <td>0</td>\n",
       "      <td>-5623</td>\n",
       "      <td>33</td>\n",
       "      <td>Среднее</td>\n",
       "      <td>1</td>\n",
       "      <td>женат / замужем</td>\n",
       "      <td>0</td>\n",
       "      <td>M</td>\n",
       "      <td>сотрудник</td>\n",
       "      <td>0</td>\n",
       "      <td>145885</td>\n",
       "      <td>покупка жилья</td>\n",
       "      <td>-15</td>\n",
       "      <td>15</td>\n",
       "      <td>impossible</td>\n",
       "      <td>142594</td>\n",
       "    </tr>\n",
       "    <tr>\n",
       "      <td>3</td>\n",
       "      <td>3</td>\n",
       "      <td>-4124</td>\n",
       "      <td>32</td>\n",
       "      <td>среднее</td>\n",
       "      <td>1</td>\n",
       "      <td>женат / замужем</td>\n",
       "      <td>0</td>\n",
       "      <td>M</td>\n",
       "      <td>сотрудник</td>\n",
       "      <td>0</td>\n",
       "      <td>267628</td>\n",
       "      <td>дополнительное образование</td>\n",
       "      <td>-11</td>\n",
       "      <td>14</td>\n",
       "      <td>possible</td>\n",
       "      <td>142594</td>\n",
       "    </tr>\n",
       "    <tr>\n",
       "      <td>4</td>\n",
       "      <td>0</td>\n",
       "      <td>340266</td>\n",
       "      <td>53</td>\n",
       "      <td>среднее</td>\n",
       "      <td>1</td>\n",
       "      <td>гражданский брак</td>\n",
       "      <td>1</td>\n",
       "      <td>F</td>\n",
       "      <td>пенсионер</td>\n",
       "      <td>0</td>\n",
       "      <td>158616</td>\n",
       "      <td>сыграть свадьбу</td>\n",
       "      <td>931</td>\n",
       "      <td>35</td>\n",
       "      <td>impossible</td>\n",
       "      <td>118514</td>\n",
       "    </tr>\n",
       "  </tbody>\n",
       "</table>\n",
       "</div>"
      ],
      "text/plain": [
       "   children  days_employed  dob_years education  education_id  \\\n",
       "0         1          -8437         42    высшее             0   \n",
       "1         1          -4024         36   среднее             1   \n",
       "2         0          -5623         33   Среднее             1   \n",
       "3         3          -4124         32   среднее             1   \n",
       "4         0         340266         53   среднее             1   \n",
       "\n",
       "      family_status  family_status_id gender income_type  debt  total_income  \\\n",
       "0   женат / замужем                 0      F   сотрудник     0        253875   \n",
       "1   женат / замужем                 0      F   сотрудник     0        112080   \n",
       "2   женат / замужем                 0      M   сотрудник     0        145885   \n",
       "3   женат / замужем                 0      M   сотрудник     0        267628   \n",
       "4  гражданский брак                 1      F   пенсионер     0        158616   \n",
       "\n",
       "                      purpose  years_employed  years_employed_realistic  \\\n",
       "0               покупка жилья             -23                        24   \n",
       "1     приобретение автомобиля             -11                        18   \n",
       "2               покупка жилья             -15                        15   \n",
       "3  дополнительное образование             -11                        14   \n",
       "4             сыграть свадьбу             931                        35   \n",
       "\n",
       "  years_employed_possibility  median_income  \n",
       "0                   possible         142594  \n",
       "1                   possible         142594  \n",
       "2                 impossible         142594  \n",
       "3                   possible         142594  \n",
       "4                 impossible         118514  "
      ]
     },
     "execution_count": 9,
     "metadata": {},
     "output_type": "execute_result"
    }
   ],
   "source": [
    "#Преведем вещественные значения к целочисленным\n",
    "df['days_employed'] = df['days_employed'].fillna(0)\n",
    "df['days_employed'] = df['days_employed'].astype('int64')\n",
    "df['total_income'] = df['total_income'].astype('int64')\n",
    "df['years_employed'] = df['years_employed'].fillna(0)\n",
    "df['years_employed'] = df['years_employed'].astype('int64')\n",
    "df.info()\n",
    "df.head(5)"
   ]
  },
  {
   "cell_type": "markdown",
   "metadata": {},
   "source": [
    "### Обработка дубликатов"
   ]
  },
  {
   "cell_type": "code",
   "execution_count": 10,
   "metadata": {},
   "outputs": [
    {
     "name": "stdout",
     "output_type": "stream",
     "text": [
      "[ 1  0  3  2 -1  4 20  5]\n",
      "['высшее' 'среднее' 'Среднее' 'СРЕДНЕЕ' 'ВЫСШЕЕ' 'неоконченное высшее'\n",
      " 'начальное' 'Высшее' 'НЕОКОНЧЕННОЕ ВЫСШЕЕ' 'Неоконченное высшее'\n",
      " 'НАЧАЛЬНОЕ' 'Начальное' 'Ученая степень' 'УЧЕНАЯ СТЕПЕНЬ'\n",
      " 'ученая степень']\n",
      "['женат / замужем' 'гражданский брак' 'вдовец / вдова' 'в разводе'\n",
      " 'Не женат / не замужем']\n",
      "['сотрудник' 'пенсионер' 'компаньон' 'госслужащий' 'безработный'\n",
      " 'предприниматель' 'студент' 'в декрете']\n",
      "['F' 'M' 'XNA']\n"
     ]
    }
   ],
   "source": [
    "# Проверим на явные дубликаты\n",
    "print(df['children'].unique())\n",
    "print(df['education'].unique())\n",
    "print(df['family_status'].unique()) \n",
    "print(df['income_type'].unique())\n",
    "print(df['gender'].unique())"
   ]
  },
  {
   "cell_type": "code",
   "execution_count": 11,
   "metadata": {},
   "outputs": [],
   "source": [
    "#В столбце дети \"-1\" и \"20\" выглядят странно, скорее всего это опечатка или техническая ошибка, заменим эти значения на более реальные.\n",
    "df['children'] = df['children'].replace(-1, 1)\n",
    "df['children'] = df['children'].replace(20, 2)"
   ]
  },
  {
   "cell_type": "code",
   "execution_count": 12,
   "metadata": {},
   "outputs": [
    {
     "name": "stdout",
     "output_type": "stream",
     "text": [
      "['высшее' 'среднее' 'неоконченное высшее' 'начальное' 'ученая степень']\n"
     ]
    }
   ],
   "source": [
    "# Столбец education приведем к нижему регистру\n",
    "df['education'] = df['education'].str.lower()\n",
    "\n",
    "# Проверим на правильность исполнение команды\n",
    "print(df['education'].unique())"
   ]
  },
  {
   "cell_type": "code",
   "execution_count": 13,
   "metadata": {},
   "outputs": [
    {
     "data": {
      "text/html": [
       "<div>\n",
       "<style scoped>\n",
       "    .dataframe tbody tr th:only-of-type {\n",
       "        vertical-align: middle;\n",
       "    }\n",
       "\n",
       "    .dataframe tbody tr th {\n",
       "        vertical-align: top;\n",
       "    }\n",
       "\n",
       "    .dataframe thead th {\n",
       "        text-align: right;\n",
       "    }\n",
       "</style>\n",
       "<table border=\"1\" class=\"dataframe\">\n",
       "  <thead>\n",
       "    <tr style=\"text-align: right;\">\n",
       "      <th></th>\n",
       "      <th>children</th>\n",
       "      <th>days_employed</th>\n",
       "      <th>dob_years</th>\n",
       "      <th>education</th>\n",
       "      <th>education_id</th>\n",
       "      <th>family_status</th>\n",
       "      <th>family_status_id</th>\n",
       "      <th>gender</th>\n",
       "      <th>income_type</th>\n",
       "      <th>debt</th>\n",
       "      <th>total_income</th>\n",
       "      <th>purpose</th>\n",
       "      <th>years_employed</th>\n",
       "      <th>years_employed_realistic</th>\n",
       "      <th>years_employed_possibility</th>\n",
       "      <th>median_income</th>\n",
       "    </tr>\n",
       "  </thead>\n",
       "  <tbody>\n",
       "    <tr>\n",
       "      <td>20297</td>\n",
       "      <td>1</td>\n",
       "      <td>0</td>\n",
       "      <td>23</td>\n",
       "      <td>среднее</td>\n",
       "      <td>1</td>\n",
       "      <td>гражданский брак</td>\n",
       "      <td>1</td>\n",
       "      <td>F</td>\n",
       "      <td>сотрудник</td>\n",
       "      <td>0</td>\n",
       "      <td>142594</td>\n",
       "      <td>сыграть свадьбу</td>\n",
       "      <td>0</td>\n",
       "      <td>5</td>\n",
       "      <td>impossible</td>\n",
       "      <td>142594</td>\n",
       "    </tr>\n",
       "    <tr>\n",
       "      <td>19321</td>\n",
       "      <td>0</td>\n",
       "      <td>0</td>\n",
       "      <td>23</td>\n",
       "      <td>среднее</td>\n",
       "      <td>1</td>\n",
       "      <td>Не женат / не замужем</td>\n",
       "      <td>4</td>\n",
       "      <td>F</td>\n",
       "      <td>сотрудник</td>\n",
       "      <td>0</td>\n",
       "      <td>142594</td>\n",
       "      <td>сделка с подержанным автомобилем</td>\n",
       "      <td>0</td>\n",
       "      <td>5</td>\n",
       "      <td>impossible</td>\n",
       "      <td>142594</td>\n",
       "    </tr>\n",
       "    <tr>\n",
       "      <td>18328</td>\n",
       "      <td>0</td>\n",
       "      <td>0</td>\n",
       "      <td>29</td>\n",
       "      <td>высшее</td>\n",
       "      <td>0</td>\n",
       "      <td>женат / замужем</td>\n",
       "      <td>0</td>\n",
       "      <td>M</td>\n",
       "      <td>сотрудник</td>\n",
       "      <td>0</td>\n",
       "      <td>142594</td>\n",
       "      <td>покупка жилой недвижимости</td>\n",
       "      <td>0</td>\n",
       "      <td>11</td>\n",
       "      <td>impossible</td>\n",
       "      <td>142594</td>\n",
       "    </tr>\n",
       "    <tr>\n",
       "      <td>21281</td>\n",
       "      <td>1</td>\n",
       "      <td>0</td>\n",
       "      <td>30</td>\n",
       "      <td>высшее</td>\n",
       "      <td>0</td>\n",
       "      <td>женат / замужем</td>\n",
       "      <td>0</td>\n",
       "      <td>F</td>\n",
       "      <td>сотрудник</td>\n",
       "      <td>0</td>\n",
       "      <td>142594</td>\n",
       "      <td>покупка коммерческой недвижимости</td>\n",
       "      <td>0</td>\n",
       "      <td>12</td>\n",
       "      <td>impossible</td>\n",
       "      <td>142594</td>\n",
       "    </tr>\n",
       "    <tr>\n",
       "      <td>6312</td>\n",
       "      <td>0</td>\n",
       "      <td>0</td>\n",
       "      <td>30</td>\n",
       "      <td>среднее</td>\n",
       "      <td>1</td>\n",
       "      <td>женат / замужем</td>\n",
       "      <td>0</td>\n",
       "      <td>M</td>\n",
       "      <td>сотрудник</td>\n",
       "      <td>0</td>\n",
       "      <td>142594</td>\n",
       "      <td>строительство жилой недвижимости</td>\n",
       "      <td>0</td>\n",
       "      <td>12</td>\n",
       "      <td>impossible</td>\n",
       "      <td>142594</td>\n",
       "    </tr>\n",
       "    <tr>\n",
       "      <td>...</td>\n",
       "      <td>...</td>\n",
       "      <td>...</td>\n",
       "      <td>...</td>\n",
       "      <td>...</td>\n",
       "      <td>...</td>\n",
       "      <td>...</td>\n",
       "      <td>...</td>\n",
       "      <td>...</td>\n",
       "      <td>...</td>\n",
       "      <td>...</td>\n",
       "      <td>...</td>\n",
       "      <td>...</td>\n",
       "      <td>...</td>\n",
       "      <td>...</td>\n",
       "      <td>...</td>\n",
       "      <td>...</td>\n",
       "    </tr>\n",
       "    <tr>\n",
       "      <td>17338</td>\n",
       "      <td>0</td>\n",
       "      <td>0</td>\n",
       "      <td>64</td>\n",
       "      <td>среднее</td>\n",
       "      <td>1</td>\n",
       "      <td>гражданский брак</td>\n",
       "      <td>1</td>\n",
       "      <td>F</td>\n",
       "      <td>пенсионер</td>\n",
       "      <td>0</td>\n",
       "      <td>118514</td>\n",
       "      <td>сыграть свадьбу</td>\n",
       "      <td>0</td>\n",
       "      <td>46</td>\n",
       "      <td>impossible</td>\n",
       "      <td>118514</td>\n",
       "    </tr>\n",
       "    <tr>\n",
       "      <td>20187</td>\n",
       "      <td>0</td>\n",
       "      <td>0</td>\n",
       "      <td>65</td>\n",
       "      <td>среднее</td>\n",
       "      <td>1</td>\n",
       "      <td>гражданский брак</td>\n",
       "      <td>1</td>\n",
       "      <td>F</td>\n",
       "      <td>пенсионер</td>\n",
       "      <td>0</td>\n",
       "      <td>118514</td>\n",
       "      <td>сыграть свадьбу</td>\n",
       "      <td>0</td>\n",
       "      <td>47</td>\n",
       "      <td>impossible</td>\n",
       "      <td>118514</td>\n",
       "    </tr>\n",
       "    <tr>\n",
       "      <td>9528</td>\n",
       "      <td>0</td>\n",
       "      <td>0</td>\n",
       "      <td>66</td>\n",
       "      <td>среднее</td>\n",
       "      <td>1</td>\n",
       "      <td>вдовец / вдова</td>\n",
       "      <td>2</td>\n",
       "      <td>F</td>\n",
       "      <td>пенсионер</td>\n",
       "      <td>0</td>\n",
       "      <td>118514</td>\n",
       "      <td>операции со своей недвижимостью</td>\n",
       "      <td>0</td>\n",
       "      <td>48</td>\n",
       "      <td>impossible</td>\n",
       "      <td>118514</td>\n",
       "    </tr>\n",
       "    <tr>\n",
       "      <td>9604</td>\n",
       "      <td>0</td>\n",
       "      <td>0</td>\n",
       "      <td>71</td>\n",
       "      <td>среднее</td>\n",
       "      <td>1</td>\n",
       "      <td>гражданский брак</td>\n",
       "      <td>1</td>\n",
       "      <td>F</td>\n",
       "      <td>пенсионер</td>\n",
       "      <td>0</td>\n",
       "      <td>118514</td>\n",
       "      <td>на проведение свадьбы</td>\n",
       "      <td>0</td>\n",
       "      <td>53</td>\n",
       "      <td>impossible</td>\n",
       "      <td>118514</td>\n",
       "    </tr>\n",
       "    <tr>\n",
       "      <td>7938</td>\n",
       "      <td>0</td>\n",
       "      <td>0</td>\n",
       "      <td>71</td>\n",
       "      <td>среднее</td>\n",
       "      <td>1</td>\n",
       "      <td>гражданский брак</td>\n",
       "      <td>1</td>\n",
       "      <td>F</td>\n",
       "      <td>пенсионер</td>\n",
       "      <td>0</td>\n",
       "      <td>118514</td>\n",
       "      <td>на проведение свадьбы</td>\n",
       "      <td>0</td>\n",
       "      <td>53</td>\n",
       "      <td>impossible</td>\n",
       "      <td>118514</td>\n",
       "    </tr>\n",
       "  </tbody>\n",
       "</table>\n",
       "<p>71 rows × 16 columns</p>\n",
       "</div>"
      ],
      "text/plain": [
       "       children  days_employed  dob_years education  education_id  \\\n",
       "20297         1              0         23   среднее             1   \n",
       "19321         0              0         23   среднее             1   \n",
       "18328         0              0         29    высшее             0   \n",
       "21281         1              0         30    высшее             0   \n",
       "6312          0              0         30   среднее             1   \n",
       "...         ...            ...        ...       ...           ...   \n",
       "17338         0              0         64   среднее             1   \n",
       "20187         0              0         65   среднее             1   \n",
       "9528          0              0         66   среднее             1   \n",
       "9604          0              0         71   среднее             1   \n",
       "7938          0              0         71   среднее             1   \n",
       "\n",
       "               family_status  family_status_id gender income_type  debt  \\\n",
       "20297       гражданский брак                 1      F   сотрудник     0   \n",
       "19321  Не женат / не замужем                 4      F   сотрудник     0   \n",
       "18328        женат / замужем                 0      M   сотрудник     0   \n",
       "21281        женат / замужем                 0      F   сотрудник     0   \n",
       "6312         женат / замужем                 0      M   сотрудник     0   \n",
       "...                      ...               ...    ...         ...   ...   \n",
       "17338       гражданский брак                 1      F   пенсионер     0   \n",
       "20187       гражданский брак                 1      F   пенсионер     0   \n",
       "9528          вдовец / вдова                 2      F   пенсионер     0   \n",
       "9604        гражданский брак                 1      F   пенсионер     0   \n",
       "7938        гражданский брак                 1      F   пенсионер     0   \n",
       "\n",
       "       total_income                            purpose  years_employed  \\\n",
       "20297        142594                    сыграть свадьбу               0   \n",
       "19321        142594   сделка с подержанным автомобилем               0   \n",
       "18328        142594         покупка жилой недвижимости               0   \n",
       "21281        142594  покупка коммерческой недвижимости               0   \n",
       "6312         142594   строительство жилой недвижимости               0   \n",
       "...             ...                                ...             ...   \n",
       "17338        118514                    сыграть свадьбу               0   \n",
       "20187        118514                    сыграть свадьбу               0   \n",
       "9528         118514    операции со своей недвижимостью               0   \n",
       "9604         118514              на проведение свадьбы               0   \n",
       "7938         118514              на проведение свадьбы               0   \n",
       "\n",
       "       years_employed_realistic years_employed_possibility  median_income  \n",
       "20297                         5                 impossible         142594  \n",
       "19321                         5                 impossible         142594  \n",
       "18328                        11                 impossible         142594  \n",
       "21281                        12                 impossible         142594  \n",
       "6312                         12                 impossible         142594  \n",
       "...                         ...                        ...            ...  \n",
       "17338                        46                 impossible         118514  \n",
       "20187                        47                 impossible         118514  \n",
       "9528                         48                 impossible         118514  \n",
       "9604                         53                 impossible         118514  \n",
       "7938                         53                 impossible         118514  \n",
       "\n",
       "[71 rows x 16 columns]"
      ]
     },
     "execution_count": 13,
     "metadata": {},
     "output_type": "execute_result"
    }
   ],
   "source": [
    "df_duplicated = df[df.duplicated() == True]\n",
    "df_duplicated.sort_values('dob_years')"
   ]
  },
  {
   "cell_type": "code",
   "execution_count": 14,
   "metadata": {},
   "outputs": [
    {
     "data": {
      "text/plain": [
       "(21525, 16)"
      ]
     },
     "metadata": {},
     "output_type": "display_data"
    },
    {
     "data": {
      "text/plain": [
       "71"
      ]
     },
     "metadata": {},
     "output_type": "display_data"
    },
    {
     "data": {
      "text/plain": [
       "(21454, 16)"
      ]
     },
     "metadata": {},
     "output_type": "display_data"
    }
   ],
   "source": [
    "display(df.shape)\n",
    "display(df.duplicated().sum())\n",
    "df = df.drop_duplicates().reset_index(drop = True)\n",
    "display(df.shape)"
   ]
  },
  {
   "cell_type": "markdown",
   "metadata": {},
   "source": [
    "**Вывод** В столбце education все строки были приведены к единому регистру, и проверены еще раз на явные дубли. После с помощью метода duplicated. Было выявлено 71 дубликат. Все дубли были удалены. Возможная причина, повторная заявка на кредит."
   ]
  },
  {
   "cell_type": "markdown",
   "metadata": {},
   "source": [
    "### Лемматизация"
   ]
  },
  {
   "cell_type": "code",
   "execution_count": 15,
   "metadata": {
    "scrolled": false
   },
   "outputs": [],
   "source": [
    "credit_pur = df['purpose'].unique() # Проведем визуальный анализ на схожесть категорий для дальнейшей лемматизации"
   ]
  },
  {
   "cell_type": "code",
   "execution_count": 16,
   "metadata": {},
   "outputs": [
    {
     "name": "stdout",
     "output_type": "stream",
     "text": [
      "покупка жилья; приобретение автомобиля; дополнительное образование; сыграть свадьбу; операции с жильем; образование; на проведение свадьбы; покупка жилья для семьи; покупка недвижимости; покупка коммерческой недвижимости; покупка жилой недвижимости; строительство собственной недвижимости; недвижимость; строительство недвижимости; на покупку подержанного автомобиля; на покупку своего автомобиля; операции с коммерческой недвижимостью; строительство жилой недвижимости; жилье; операции со своей недвижимостью; автомобили; заняться образованием; сделка с подержанным автомобилем; получение образования; автомобиль; свадьба; получение дополнительного образования; покупка своего жилья; операции с недвижимостью; получение высшего образования; свой автомобиль; сделка с автомобилем; профильное образование; высшее образование; покупка жилья для сдачи; на покупку автомобиля; ремонт жилью; заняться высшим образованием\n"
     ]
    }
   ],
   "source": [
    "string = '; '.join(credit_pur)\n",
    "print(string)"
   ]
  },
  {
   "cell_type": "code",
   "execution_count": 17,
   "metadata": {},
   "outputs": [
    {
     "name": "stdout",
     "output_type": "stream",
     "text": [
      "Counter({' ': 59, '; ': 37, 'покупка': 10, 'недвижимость': 10, 'автомобиль': 9, 'образование': 9, 'жилье': 7, 'с': 5, 'операция': 4, 'на': 4, 'свой': 4, 'свадьба': 3, 'строительство': 3, 'получение': 3, 'высокий': 3, 'дополнительный': 2, 'для': 2, 'коммерческий': 2, 'жилой': 2, 'подержать': 2, 'заниматься': 2, 'сделка': 2, 'приобретение': 1, 'сыграть': 1, 'проведение': 1, 'семья': 1, 'собственный': 1, 'со': 1, 'профильный': 1, 'сдача': 1, 'ремонт': 1, '\\n': 1})\n"
     ]
    }
   ],
   "source": [
    "lemmas = m.lemmatize(string)\n",
    "print(Counter(lemmas))"
   ]
  },
  {
   "cell_type": "code",
   "execution_count": 18,
   "metadata": {},
   "outputs": [],
   "source": [
    "russian_stemmer = SnowballStemmer('russian')"
   ]
  },
  {
   "cell_type": "code",
   "execution_count": 19,
   "metadata": {},
   "outputs": [],
   "source": [
    "#Напишем функцию для лемматизации явных вариантов\n",
    "#goals = ['недвижимость', 'жилой', 'авто', 'образование', 'свадьба']\n",
    "\n",
    "def group_by_stem(row):\n",
    "    purpose_group = m.lemmatize(row['purpose'])\n",
    "    if 'недвижимость' in purpose_group:\n",
    "        return 'недвижимость'\n",
    "    elif 'жилье' in purpose_group:\n",
    "        return 'недвижимость'\n",
    "    elif 'автомобиль' in purpose_group:\n",
    "        return 'автомобиль'\n",
    "    elif 'образование' in purpose_group:\n",
    "        return 'образование'\n",
    "    elif 'свадьба' in purpose_group:\n",
    "        return 'свадьба'"
   ]
  },
  {
   "cell_type": "code",
   "execution_count": 20,
   "metadata": {},
   "outputs": [
    {
     "data": {
      "text/plain": [
       "array(['недвижимость', 'автомобиль', 'образование', 'свадьба'],\n",
       "      dtype=object)"
      ]
     },
     "metadata": {},
     "output_type": "display_data"
    },
    {
     "data": {
      "text/html": [
       "<div>\n",
       "<style scoped>\n",
       "    .dataframe tbody tr th:only-of-type {\n",
       "        vertical-align: middle;\n",
       "    }\n",
       "\n",
       "    .dataframe tbody tr th {\n",
       "        vertical-align: top;\n",
       "    }\n",
       "\n",
       "    .dataframe thead th {\n",
       "        text-align: right;\n",
       "    }\n",
       "</style>\n",
       "<table border=\"1\" class=\"dataframe\">\n",
       "  <thead>\n",
       "    <tr style=\"text-align: right;\">\n",
       "      <th></th>\n",
       "      <th>children</th>\n",
       "      <th>days_employed</th>\n",
       "      <th>dob_years</th>\n",
       "      <th>education</th>\n",
       "      <th>education_id</th>\n",
       "      <th>family_status</th>\n",
       "      <th>family_status_id</th>\n",
       "      <th>gender</th>\n",
       "      <th>income_type</th>\n",
       "      <th>debt</th>\n",
       "      <th>total_income</th>\n",
       "      <th>purpose</th>\n",
       "      <th>years_employed</th>\n",
       "      <th>years_employed_realistic</th>\n",
       "      <th>years_employed_possibility</th>\n",
       "      <th>median_income</th>\n",
       "      <th>purpose_grouped</th>\n",
       "    </tr>\n",
       "  </thead>\n",
       "  <tbody>\n",
       "    <tr>\n",
       "      <td>0</td>\n",
       "      <td>1</td>\n",
       "      <td>-8437</td>\n",
       "      <td>42</td>\n",
       "      <td>высшее</td>\n",
       "      <td>0</td>\n",
       "      <td>женат / замужем</td>\n",
       "      <td>0</td>\n",
       "      <td>F</td>\n",
       "      <td>сотрудник</td>\n",
       "      <td>0</td>\n",
       "      <td>253875</td>\n",
       "      <td>покупка жилья</td>\n",
       "      <td>-23</td>\n",
       "      <td>24</td>\n",
       "      <td>possible</td>\n",
       "      <td>142594</td>\n",
       "      <td>недвижимость</td>\n",
       "    </tr>\n",
       "    <tr>\n",
       "      <td>1</td>\n",
       "      <td>1</td>\n",
       "      <td>-4024</td>\n",
       "      <td>36</td>\n",
       "      <td>среднее</td>\n",
       "      <td>1</td>\n",
       "      <td>женат / замужем</td>\n",
       "      <td>0</td>\n",
       "      <td>F</td>\n",
       "      <td>сотрудник</td>\n",
       "      <td>0</td>\n",
       "      <td>112080</td>\n",
       "      <td>приобретение автомобиля</td>\n",
       "      <td>-11</td>\n",
       "      <td>18</td>\n",
       "      <td>possible</td>\n",
       "      <td>142594</td>\n",
       "      <td>автомобиль</td>\n",
       "    </tr>\n",
       "    <tr>\n",
       "      <td>2</td>\n",
       "      <td>0</td>\n",
       "      <td>-5623</td>\n",
       "      <td>33</td>\n",
       "      <td>среднее</td>\n",
       "      <td>1</td>\n",
       "      <td>женат / замужем</td>\n",
       "      <td>0</td>\n",
       "      <td>M</td>\n",
       "      <td>сотрудник</td>\n",
       "      <td>0</td>\n",
       "      <td>145885</td>\n",
       "      <td>покупка жилья</td>\n",
       "      <td>-15</td>\n",
       "      <td>15</td>\n",
       "      <td>impossible</td>\n",
       "      <td>142594</td>\n",
       "      <td>недвижимость</td>\n",
       "    </tr>\n",
       "    <tr>\n",
       "      <td>3</td>\n",
       "      <td>3</td>\n",
       "      <td>-4124</td>\n",
       "      <td>32</td>\n",
       "      <td>среднее</td>\n",
       "      <td>1</td>\n",
       "      <td>женат / замужем</td>\n",
       "      <td>0</td>\n",
       "      <td>M</td>\n",
       "      <td>сотрудник</td>\n",
       "      <td>0</td>\n",
       "      <td>267628</td>\n",
       "      <td>дополнительное образование</td>\n",
       "      <td>-11</td>\n",
       "      <td>14</td>\n",
       "      <td>possible</td>\n",
       "      <td>142594</td>\n",
       "      <td>образование</td>\n",
       "    </tr>\n",
       "    <tr>\n",
       "      <td>4</td>\n",
       "      <td>0</td>\n",
       "      <td>340266</td>\n",
       "      <td>53</td>\n",
       "      <td>среднее</td>\n",
       "      <td>1</td>\n",
       "      <td>гражданский брак</td>\n",
       "      <td>1</td>\n",
       "      <td>F</td>\n",
       "      <td>пенсионер</td>\n",
       "      <td>0</td>\n",
       "      <td>158616</td>\n",
       "      <td>сыграть свадьбу</td>\n",
       "      <td>931</td>\n",
       "      <td>35</td>\n",
       "      <td>impossible</td>\n",
       "      <td>118514</td>\n",
       "      <td>свадьба</td>\n",
       "    </tr>\n",
       "    <tr>\n",
       "      <td>5</td>\n",
       "      <td>0</td>\n",
       "      <td>-926</td>\n",
       "      <td>27</td>\n",
       "      <td>высшее</td>\n",
       "      <td>0</td>\n",
       "      <td>гражданский брак</td>\n",
       "      <td>1</td>\n",
       "      <td>M</td>\n",
       "      <td>компаньон</td>\n",
       "      <td>0</td>\n",
       "      <td>255763</td>\n",
       "      <td>покупка жилья</td>\n",
       "      <td>-2</td>\n",
       "      <td>9</td>\n",
       "      <td>possible</td>\n",
       "      <td>172357</td>\n",
       "      <td>недвижимость</td>\n",
       "    </tr>\n",
       "    <tr>\n",
       "      <td>6</td>\n",
       "      <td>0</td>\n",
       "      <td>-2879</td>\n",
       "      <td>43</td>\n",
       "      <td>высшее</td>\n",
       "      <td>0</td>\n",
       "      <td>женат / замужем</td>\n",
       "      <td>0</td>\n",
       "      <td>F</td>\n",
       "      <td>компаньон</td>\n",
       "      <td>0</td>\n",
       "      <td>240525</td>\n",
       "      <td>операции с жильем</td>\n",
       "      <td>-7</td>\n",
       "      <td>25</td>\n",
       "      <td>possible</td>\n",
       "      <td>172357</td>\n",
       "      <td>недвижимость</td>\n",
       "    </tr>\n",
       "    <tr>\n",
       "      <td>7</td>\n",
       "      <td>0</td>\n",
       "      <td>-152</td>\n",
       "      <td>50</td>\n",
       "      <td>среднее</td>\n",
       "      <td>1</td>\n",
       "      <td>женат / замужем</td>\n",
       "      <td>0</td>\n",
       "      <td>M</td>\n",
       "      <td>сотрудник</td>\n",
       "      <td>0</td>\n",
       "      <td>135823</td>\n",
       "      <td>образование</td>\n",
       "      <td>0</td>\n",
       "      <td>32</td>\n",
       "      <td>possible</td>\n",
       "      <td>142594</td>\n",
       "      <td>образование</td>\n",
       "    </tr>\n",
       "    <tr>\n",
       "      <td>8</td>\n",
       "      <td>2</td>\n",
       "      <td>-6929</td>\n",
       "      <td>35</td>\n",
       "      <td>высшее</td>\n",
       "      <td>0</td>\n",
       "      <td>гражданский брак</td>\n",
       "      <td>1</td>\n",
       "      <td>F</td>\n",
       "      <td>сотрудник</td>\n",
       "      <td>0</td>\n",
       "      <td>95856</td>\n",
       "      <td>на проведение свадьбы</td>\n",
       "      <td>-18</td>\n",
       "      <td>17</td>\n",
       "      <td>impossible</td>\n",
       "      <td>142594</td>\n",
       "      <td>свадьба</td>\n",
       "    </tr>\n",
       "    <tr>\n",
       "      <td>9</td>\n",
       "      <td>0</td>\n",
       "      <td>-2188</td>\n",
       "      <td>41</td>\n",
       "      <td>среднее</td>\n",
       "      <td>1</td>\n",
       "      <td>женат / замужем</td>\n",
       "      <td>0</td>\n",
       "      <td>M</td>\n",
       "      <td>сотрудник</td>\n",
       "      <td>0</td>\n",
       "      <td>144425</td>\n",
       "      <td>покупка жилья для семьи</td>\n",
       "      <td>-5</td>\n",
       "      <td>23</td>\n",
       "      <td>possible</td>\n",
       "      <td>142594</td>\n",
       "      <td>недвижимость</td>\n",
       "    </tr>\n",
       "  </tbody>\n",
       "</table>\n",
       "</div>"
      ],
      "text/plain": [
       "   children  days_employed  dob_years education  education_id  \\\n",
       "0         1          -8437         42    высшее             0   \n",
       "1         1          -4024         36   среднее             1   \n",
       "2         0          -5623         33   среднее             1   \n",
       "3         3          -4124         32   среднее             1   \n",
       "4         0         340266         53   среднее             1   \n",
       "5         0           -926         27    высшее             0   \n",
       "6         0          -2879         43    высшее             0   \n",
       "7         0           -152         50   среднее             1   \n",
       "8         2          -6929         35    высшее             0   \n",
       "9         0          -2188         41   среднее             1   \n",
       "\n",
       "      family_status  family_status_id gender income_type  debt  total_income  \\\n",
       "0   женат / замужем                 0      F   сотрудник     0        253875   \n",
       "1   женат / замужем                 0      F   сотрудник     0        112080   \n",
       "2   женат / замужем                 0      M   сотрудник     0        145885   \n",
       "3   женат / замужем                 0      M   сотрудник     0        267628   \n",
       "4  гражданский брак                 1      F   пенсионер     0        158616   \n",
       "5  гражданский брак                 1      M   компаньон     0        255763   \n",
       "6   женат / замужем                 0      F   компаньон     0        240525   \n",
       "7   женат / замужем                 0      M   сотрудник     0        135823   \n",
       "8  гражданский брак                 1      F   сотрудник     0         95856   \n",
       "9   женат / замужем                 0      M   сотрудник     0        144425   \n",
       "\n",
       "                      purpose  years_employed  years_employed_realistic  \\\n",
       "0               покупка жилья             -23                        24   \n",
       "1     приобретение автомобиля             -11                        18   \n",
       "2               покупка жилья             -15                        15   \n",
       "3  дополнительное образование             -11                        14   \n",
       "4             сыграть свадьбу             931                        35   \n",
       "5               покупка жилья              -2                         9   \n",
       "6           операции с жильем              -7                        25   \n",
       "7                 образование               0                        32   \n",
       "8       на проведение свадьбы             -18                        17   \n",
       "9     покупка жилья для семьи              -5                        23   \n",
       "\n",
       "  years_employed_possibility  median_income purpose_grouped  \n",
       "0                   possible         142594    недвижимость  \n",
       "1                   possible         142594      автомобиль  \n",
       "2                 impossible         142594    недвижимость  \n",
       "3                   possible         142594     образование  \n",
       "4                 impossible         118514         свадьба  \n",
       "5                   possible         172357    недвижимость  \n",
       "6                   possible         172357    недвижимость  \n",
       "7                   possible         142594     образование  \n",
       "8                 impossible         142594         свадьба  \n",
       "9                   possible         142594    недвижимость  "
      ]
     },
     "metadata": {},
     "output_type": "display_data"
    }
   ],
   "source": [
    "df['purpose_grouped'] = df.apply(group_by_stem, axis = 1)\n",
    "display(df['purpose_grouped'].unique())\n",
    "display(df.head(10))\n"
   ]
  },
  {
   "cell_type": "markdown",
   "metadata": {},
   "source": [
    "**Вывод** После лемматизации можно будеть выделить группы для предоставления данных."
   ]
  },
  {
   "cell_type": "markdown",
   "metadata": {},
   "source": [
    "### Категоризация данных"
   ]
  },
  {
   "cell_type": "code",
   "execution_count": 21,
   "metadata": {},
   "outputs": [
    {
     "data": {
      "text/plain": [
       "debt\n",
       "0    19713\n",
       "1     1741\n",
       "Name: debt, dtype: int64"
      ]
     },
     "metadata": {},
     "output_type": "display_data"
    },
    {
     "data": {
      "text/plain": [
       "8.115036822970076"
      ]
     },
     "metadata": {},
     "output_type": "display_data"
    }
   ],
   "source": [
    "df_debt_all = df.groupby('debt')['debt'].agg('count') #Подсичтаем кол-во задолжностей\n",
    "df_debt_all_perc = (df_debt_all[1] / df_debt_all.sum()) * 100 #Узнаем процент задолжностей по отношению к тем у кого их нет \n",
    "display(df_debt_all)\n",
    "display(df_debt_all_perc)"
   ]
  },
  {
   "cell_type": "code",
   "execution_count": 22,
   "metadata": {},
   "outputs": [
    {
     "data": {
      "text/html": [
       "<div>\n",
       "<style scoped>\n",
       "    .dataframe tbody tr th:only-of-type {\n",
       "        vertical-align: middle;\n",
       "    }\n",
       "\n",
       "    .dataframe tbody tr th {\n",
       "        vertical-align: top;\n",
       "    }\n",
       "\n",
       "    .dataframe thead th {\n",
       "        text-align: right;\n",
       "    }\n",
       "</style>\n",
       "<table border=\"1\" class=\"dataframe\">\n",
       "  <thead>\n",
       "    <tr style=\"text-align: right;\">\n",
       "      <th></th>\n",
       "      <th>children</th>\n",
       "      <th>days_employed</th>\n",
       "      <th>dob_years</th>\n",
       "      <th>education</th>\n",
       "      <th>education_id</th>\n",
       "      <th>family_status</th>\n",
       "      <th>family_status_id</th>\n",
       "      <th>gender</th>\n",
       "      <th>income_type</th>\n",
       "      <th>debt</th>\n",
       "      <th>total_income</th>\n",
       "      <th>purpose</th>\n",
       "      <th>years_employed</th>\n",
       "      <th>years_employed_realistic</th>\n",
       "      <th>years_employed_possibility</th>\n",
       "      <th>median_income</th>\n",
       "      <th>purpose_grouped</th>\n",
       "      <th>children_grouped</th>\n",
       "    </tr>\n",
       "  </thead>\n",
       "  <tbody>\n",
       "    <tr>\n",
       "      <td>0</td>\n",
       "      <td>1</td>\n",
       "      <td>-8437</td>\n",
       "      <td>42</td>\n",
       "      <td>высшее</td>\n",
       "      <td>0</td>\n",
       "      <td>женат / замужем</td>\n",
       "      <td>0</td>\n",
       "      <td>F</td>\n",
       "      <td>сотрудник</td>\n",
       "      <td>0</td>\n",
       "      <td>253875</td>\n",
       "      <td>покупка жилья</td>\n",
       "      <td>-23</td>\n",
       "      <td>24</td>\n",
       "      <td>possible</td>\n",
       "      <td>142594</td>\n",
       "      <td>недвижимость</td>\n",
       "      <td>1</td>\n",
       "    </tr>\n",
       "    <tr>\n",
       "      <td>1</td>\n",
       "      <td>1</td>\n",
       "      <td>-4024</td>\n",
       "      <td>36</td>\n",
       "      <td>среднее</td>\n",
       "      <td>1</td>\n",
       "      <td>женат / замужем</td>\n",
       "      <td>0</td>\n",
       "      <td>F</td>\n",
       "      <td>сотрудник</td>\n",
       "      <td>0</td>\n",
       "      <td>112080</td>\n",
       "      <td>приобретение автомобиля</td>\n",
       "      <td>-11</td>\n",
       "      <td>18</td>\n",
       "      <td>possible</td>\n",
       "      <td>142594</td>\n",
       "      <td>автомобиль</td>\n",
       "      <td>1</td>\n",
       "    </tr>\n",
       "    <tr>\n",
       "      <td>2</td>\n",
       "      <td>0</td>\n",
       "      <td>-5623</td>\n",
       "      <td>33</td>\n",
       "      <td>среднее</td>\n",
       "      <td>1</td>\n",
       "      <td>женат / замужем</td>\n",
       "      <td>0</td>\n",
       "      <td>M</td>\n",
       "      <td>сотрудник</td>\n",
       "      <td>0</td>\n",
       "      <td>145885</td>\n",
       "      <td>покупка жилья</td>\n",
       "      <td>-15</td>\n",
       "      <td>15</td>\n",
       "      <td>impossible</td>\n",
       "      <td>142594</td>\n",
       "      <td>недвижимость</td>\n",
       "      <td>0</td>\n",
       "    </tr>\n",
       "    <tr>\n",
       "      <td>3</td>\n",
       "      <td>3</td>\n",
       "      <td>-4124</td>\n",
       "      <td>32</td>\n",
       "      <td>среднее</td>\n",
       "      <td>1</td>\n",
       "      <td>женат / замужем</td>\n",
       "      <td>0</td>\n",
       "      <td>M</td>\n",
       "      <td>сотрудник</td>\n",
       "      <td>0</td>\n",
       "      <td>267628</td>\n",
       "      <td>дополнительное образование</td>\n",
       "      <td>-11</td>\n",
       "      <td>14</td>\n",
       "      <td>possible</td>\n",
       "      <td>142594</td>\n",
       "      <td>образование</td>\n",
       "      <td>2+</td>\n",
       "    </tr>\n",
       "    <tr>\n",
       "      <td>4</td>\n",
       "      <td>0</td>\n",
       "      <td>340266</td>\n",
       "      <td>53</td>\n",
       "      <td>среднее</td>\n",
       "      <td>1</td>\n",
       "      <td>гражданский брак</td>\n",
       "      <td>1</td>\n",
       "      <td>F</td>\n",
       "      <td>пенсионер</td>\n",
       "      <td>0</td>\n",
       "      <td>158616</td>\n",
       "      <td>сыграть свадьбу</td>\n",
       "      <td>931</td>\n",
       "      <td>35</td>\n",
       "      <td>impossible</td>\n",
       "      <td>118514</td>\n",
       "      <td>свадьба</td>\n",
       "      <td>0</td>\n",
       "    </tr>\n",
       "  </tbody>\n",
       "</table>\n",
       "</div>"
      ],
      "text/plain": [
       "   children  days_employed  dob_years education  education_id  \\\n",
       "0         1          -8437         42    высшее             0   \n",
       "1         1          -4024         36   среднее             1   \n",
       "2         0          -5623         33   среднее             1   \n",
       "3         3          -4124         32   среднее             1   \n",
       "4         0         340266         53   среднее             1   \n",
       "\n",
       "      family_status  family_status_id gender income_type  debt  total_income  \\\n",
       "0   женат / замужем                 0      F   сотрудник     0        253875   \n",
       "1   женат / замужем                 0      F   сотрудник     0        112080   \n",
       "2   женат / замужем                 0      M   сотрудник     0        145885   \n",
       "3   женат / замужем                 0      M   сотрудник     0        267628   \n",
       "4  гражданский брак                 1      F   пенсионер     0        158616   \n",
       "\n",
       "                      purpose  years_employed  years_employed_realistic  \\\n",
       "0               покупка жилья             -23                        24   \n",
       "1     приобретение автомобиля             -11                        18   \n",
       "2               покупка жилья             -15                        15   \n",
       "3  дополнительное образование             -11                        14   \n",
       "4             сыграть свадьбу             931                        35   \n",
       "\n",
       "  years_employed_possibility  median_income purpose_grouped children_grouped  \n",
       "0                   possible         142594    недвижимость                1  \n",
       "1                   possible         142594      автомобиль                1  \n",
       "2                 impossible         142594    недвижимость                0  \n",
       "3                   possible         142594     образование               2+  \n",
       "4                 impossible         118514         свадьба                0  "
      ]
     },
     "metadata": {},
     "output_type": "display_data"
    },
    {
     "data": {
      "text/html": [
       "<div>\n",
       "<style scoped>\n",
       "    .dataframe tbody tr th:only-of-type {\n",
       "        vertical-align: middle;\n",
       "    }\n",
       "\n",
       "    .dataframe tbody tr th {\n",
       "        vertical-align: top;\n",
       "    }\n",
       "\n",
       "    .dataframe thead th {\n",
       "        text-align: right;\n",
       "    }\n",
       "</style>\n",
       "<table border=\"1\" class=\"dataframe\">\n",
       "  <thead>\n",
       "    <tr style=\"text-align: right;\">\n",
       "      <th></th>\n",
       "      <th>count</th>\n",
       "      <th>sum</th>\n",
       "      <th>%</th>\n",
       "    </tr>\n",
       "    <tr>\n",
       "      <th>children_grouped</th>\n",
       "      <th></th>\n",
       "      <th></th>\n",
       "      <th></th>\n",
       "    </tr>\n",
       "  </thead>\n",
       "  <tbody>\n",
       "    <tr>\n",
       "      <td>0</td>\n",
       "      <td>14091</td>\n",
       "      <td>1063</td>\n",
       "      <td>7.543822</td>\n",
       "    </tr>\n",
       "    <tr>\n",
       "      <td>1</td>\n",
       "      <td>4855</td>\n",
       "      <td>445</td>\n",
       "      <td>9.165808</td>\n",
       "    </tr>\n",
       "    <tr>\n",
       "      <td>2+</td>\n",
       "      <td>2508</td>\n",
       "      <td>233</td>\n",
       "      <td>9.290271</td>\n",
       "    </tr>\n",
       "  </tbody>\n",
       "</table>\n",
       "</div>"
      ],
      "text/plain": [
       "                  count   sum         %\n",
       "children_grouped                       \n",
       "0                 14091  1063  7.543822\n",
       "1                  4855   445  9.165808\n",
       "2+                 2508   233  9.290271"
      ]
     },
     "metadata": {},
     "output_type": "display_data"
    }
   ],
   "source": [
    "def group_by_children_quantity(row): # Функция для группировки по кол-ву детей.\n",
    "    children = row['children']\n",
    "    if children <= 0:\n",
    "        return '0'\n",
    "    elif children == 1:\n",
    "        return '1'\n",
    "    else:\n",
    "        return '2+'\n",
    "\n",
    "df['children_grouped'] = df.apply(group_by_children_quantity, axis = 1)\n",
    "display(df.head(5))\n",
    "grouped_by_children = df.groupby('children_grouped')['debt'].agg(['count', 'sum'])\n",
    "grouped_by_children['%'] = (grouped_by_children['sum'] / grouped_by_children['count']) * 100\n",
    "display(grouped_by_children.sort_values('%'))"
   ]
  },
  {
   "cell_type": "code",
   "execution_count": 23,
   "metadata": {},
   "outputs": [
    {
     "data": {
      "text/html": [
       "<div>\n",
       "<style scoped>\n",
       "    .dataframe tbody tr th:only-of-type {\n",
       "        vertical-align: middle;\n",
       "    }\n",
       "\n",
       "    .dataframe tbody tr th {\n",
       "        vertical-align: top;\n",
       "    }\n",
       "\n",
       "    .dataframe thead th {\n",
       "        text-align: right;\n",
       "    }\n",
       "</style>\n",
       "<table border=\"1\" class=\"dataframe\">\n",
       "  <thead>\n",
       "    <tr style=\"text-align: right;\">\n",
       "      <th></th>\n",
       "      <th>count</th>\n",
       "      <th>sum</th>\n",
       "      <th>%</th>\n",
       "    </tr>\n",
       "    <tr>\n",
       "      <th>family_status</th>\n",
       "      <th></th>\n",
       "      <th></th>\n",
       "      <th></th>\n",
       "    </tr>\n",
       "  </thead>\n",
       "  <tbody>\n",
       "    <tr>\n",
       "      <td>вдовец / вдова</td>\n",
       "      <td>959</td>\n",
       "      <td>63</td>\n",
       "      <td>6.569343</td>\n",
       "    </tr>\n",
       "    <tr>\n",
       "      <td>в разводе</td>\n",
       "      <td>1195</td>\n",
       "      <td>85</td>\n",
       "      <td>7.112971</td>\n",
       "    </tr>\n",
       "    <tr>\n",
       "      <td>женат / замужем</td>\n",
       "      <td>12339</td>\n",
       "      <td>931</td>\n",
       "      <td>7.545182</td>\n",
       "    </tr>\n",
       "    <tr>\n",
       "      <td>гражданский брак</td>\n",
       "      <td>4151</td>\n",
       "      <td>388</td>\n",
       "      <td>9.347145</td>\n",
       "    </tr>\n",
       "    <tr>\n",
       "      <td>Не женат / не замужем</td>\n",
       "      <td>2810</td>\n",
       "      <td>274</td>\n",
       "      <td>9.750890</td>\n",
       "    </tr>\n",
       "  </tbody>\n",
       "</table>\n",
       "</div>"
      ],
      "text/plain": [
       "                       count  sum         %\n",
       "family_status                              \n",
       "вдовец / вдова           959   63  6.569343\n",
       "в разводе               1195   85  7.112971\n",
       "женат / замужем        12339  931  7.545182\n",
       "гражданский брак        4151  388  9.347145\n",
       "Не женат / не замужем   2810  274  9.750890"
      ]
     },
     "metadata": {},
     "output_type": "display_data"
    }
   ],
   "source": [
    "#Группируем по семейному положению\n",
    "grouped_by_family_status = df.groupby('family_status')['debt'].agg(['count', 'sum'])\n",
    "grouped_by_family_status['%'] = (grouped_by_family_status['sum'] / grouped_by_family_status['count']) * 100\n",
    "display(grouped_by_family_status.sort_values('%'))"
   ]
  },
  {
   "cell_type": "code",
   "execution_count": 24,
   "metadata": {},
   "outputs": [
    {
     "data": {
      "text/html": [
       "<div>\n",
       "<style scoped>\n",
       "    .dataframe tbody tr th:only-of-type {\n",
       "        vertical-align: middle;\n",
       "    }\n",
       "\n",
       "    .dataframe tbody tr th {\n",
       "        vertical-align: top;\n",
       "    }\n",
       "\n",
       "    .dataframe thead th {\n",
       "        text-align: right;\n",
       "    }\n",
       "</style>\n",
       "<table border=\"1\" class=\"dataframe\">\n",
       "  <thead>\n",
       "    <tr style=\"text-align: right;\">\n",
       "      <th></th>\n",
       "      <th>count</th>\n",
       "      <th>sum</th>\n",
       "      <th>%</th>\n",
       "    </tr>\n",
       "    <tr>\n",
       "      <th>purpose_grouped</th>\n",
       "      <th></th>\n",
       "      <th></th>\n",
       "      <th></th>\n",
       "    </tr>\n",
       "  </thead>\n",
       "  <tbody>\n",
       "    <tr>\n",
       "      <td>недвижимость</td>\n",
       "      <td>10811</td>\n",
       "      <td>782</td>\n",
       "      <td>7.233373</td>\n",
       "    </tr>\n",
       "    <tr>\n",
       "      <td>свадьба</td>\n",
       "      <td>2324</td>\n",
       "      <td>186</td>\n",
       "      <td>8.003442</td>\n",
       "    </tr>\n",
       "    <tr>\n",
       "      <td>образование</td>\n",
       "      <td>4013</td>\n",
       "      <td>370</td>\n",
       "      <td>9.220035</td>\n",
       "    </tr>\n",
       "    <tr>\n",
       "      <td>автомобиль</td>\n",
       "      <td>4306</td>\n",
       "      <td>403</td>\n",
       "      <td>9.359034</td>\n",
       "    </tr>\n",
       "  </tbody>\n",
       "</table>\n",
       "</div>"
      ],
      "text/plain": [
       "                 count  sum         %\n",
       "purpose_grouped                      \n",
       "недвижимость     10811  782  7.233373\n",
       "свадьба           2324  186  8.003442\n",
       "образование       4013  370  9.220035\n",
       "автомобиль        4306  403  9.359034"
      ]
     },
     "metadata": {},
     "output_type": "display_data"
    }
   ],
   "source": [
    "#Группируем по целям кредита\n",
    "grouped_by_purpose = df.groupby('purpose_grouped')['debt'].agg(['count', 'sum'])\n",
    "grouped_by_purpose['%'] = (grouped_by_purpose['sum'] / grouped_by_purpose['count']) * 100\n",
    "display(grouped_by_purpose.sort_values('%'))"
   ]
  },
  {
   "cell_type": "code",
   "execution_count": 25,
   "metadata": {},
   "outputs": [
    {
     "data": {
      "text/html": [
       "<div>\n",
       "<style scoped>\n",
       "    .dataframe tbody tr th:only-of-type {\n",
       "        vertical-align: middle;\n",
       "    }\n",
       "\n",
       "    .dataframe tbody tr th {\n",
       "        vertical-align: top;\n",
       "    }\n",
       "\n",
       "    .dataframe thead th {\n",
       "        text-align: right;\n",
       "    }\n",
       "</style>\n",
       "<table border=\"1\" class=\"dataframe\">\n",
       "  <thead>\n",
       "    <tr style=\"text-align: right;\">\n",
       "      <th></th>\n",
       "      <th>count</th>\n",
       "      <th>sum</th>\n",
       "      <th>%</th>\n",
       "    </tr>\n",
       "    <tr>\n",
       "      <th>gender</th>\n",
       "      <th></th>\n",
       "      <th></th>\n",
       "      <th></th>\n",
       "    </tr>\n",
       "  </thead>\n",
       "  <tbody>\n",
       "    <tr>\n",
       "      <td>XNA</td>\n",
       "      <td>1</td>\n",
       "      <td>0</td>\n",
       "      <td>0.000000</td>\n",
       "    </tr>\n",
       "    <tr>\n",
       "      <td>F</td>\n",
       "      <td>14174</td>\n",
       "      <td>994</td>\n",
       "      <td>7.012840</td>\n",
       "    </tr>\n",
       "    <tr>\n",
       "      <td>M</td>\n",
       "      <td>7279</td>\n",
       "      <td>747</td>\n",
       "      <td>10.262399</td>\n",
       "    </tr>\n",
       "  </tbody>\n",
       "</table>\n",
       "</div>"
      ],
      "text/plain": [
       "        count  sum          %\n",
       "gender                       \n",
       "XNA         1    0   0.000000\n",
       "F       14174  994   7.012840\n",
       "M        7279  747  10.262399"
      ]
     },
     "metadata": {},
     "output_type": "display_data"
    }
   ],
   "source": [
    "grouped_by_gender = df.groupby('gender')['debt'].agg(['count', 'sum'])\n",
    "grouped_by_gender['%'] = (grouped_by_gender['sum'] / grouped_by_gender['count']) * 100\n",
    "display(grouped_by_gender.sort_values('%'))"
   ]
  },
  {
   "cell_type": "code",
   "execution_count": 26,
   "metadata": {},
   "outputs": [
    {
     "data": {
      "text/html": [
       "<div>\n",
       "<style scoped>\n",
       "    .dataframe tbody tr th:only-of-type {\n",
       "        vertical-align: middle;\n",
       "    }\n",
       "\n",
       "    .dataframe tbody tr th {\n",
       "        vertical-align: top;\n",
       "    }\n",
       "\n",
       "    .dataframe thead th {\n",
       "        text-align: right;\n",
       "    }\n",
       "</style>\n",
       "<table border=\"1\" class=\"dataframe\">\n",
       "  <thead>\n",
       "    <tr style=\"text-align: right;\">\n",
       "      <th></th>\n",
       "      <th>count</th>\n",
       "      <th>sum</th>\n",
       "      <th>%</th>\n",
       "    </tr>\n",
       "    <tr>\n",
       "      <th>education</th>\n",
       "      <th></th>\n",
       "      <th></th>\n",
       "      <th></th>\n",
       "    </tr>\n",
       "  </thead>\n",
       "  <tbody>\n",
       "    <tr>\n",
       "      <td>ученая степень</td>\n",
       "      <td>6</td>\n",
       "      <td>0</td>\n",
       "      <td>0.000000</td>\n",
       "    </tr>\n",
       "    <tr>\n",
       "      <td>высшее</td>\n",
       "      <td>5250</td>\n",
       "      <td>278</td>\n",
       "      <td>5.295238</td>\n",
       "    </tr>\n",
       "    <tr>\n",
       "      <td>среднее</td>\n",
       "      <td>15172</td>\n",
       "      <td>1364</td>\n",
       "      <td>8.990245</td>\n",
       "    </tr>\n",
       "    <tr>\n",
       "      <td>неоконченное высшее</td>\n",
       "      <td>744</td>\n",
       "      <td>68</td>\n",
       "      <td>9.139785</td>\n",
       "    </tr>\n",
       "    <tr>\n",
       "      <td>начальное</td>\n",
       "      <td>282</td>\n",
       "      <td>31</td>\n",
       "      <td>10.992908</td>\n",
       "    </tr>\n",
       "  </tbody>\n",
       "</table>\n",
       "</div>"
      ],
      "text/plain": [
       "                     count   sum          %\n",
       "education                                  \n",
       "ученая степень           6     0   0.000000\n",
       "высшее                5250   278   5.295238\n",
       "среднее              15172  1364   8.990245\n",
       "неоконченное высшее    744    68   9.139785\n",
       "начальное              282    31  10.992908"
      ]
     },
     "metadata": {},
     "output_type": "display_data"
    }
   ],
   "source": [
    "# Сгруппируем по образованию\n",
    "grouped_by_education = df.groupby('education')['debt'].agg(['count', 'sum'])\n",
    "grouped_by_education['%'] = (grouped_by_education['sum'] / grouped_by_education['count']) * 100\n",
    "display(grouped_by_education.sort_values('%'))"
   ]
  },
  {
   "cell_type": "code",
   "execution_count": 27,
   "metadata": {},
   "outputs": [
    {
     "data": {
      "text/html": [
       "<div>\n",
       "<style scoped>\n",
       "    .dataframe tbody tr th:only-of-type {\n",
       "        vertical-align: middle;\n",
       "    }\n",
       "\n",
       "    .dataframe tbody tr th {\n",
       "        vertical-align: top;\n",
       "    }\n",
       "\n",
       "    .dataframe thead th {\n",
       "        text-align: right;\n",
       "    }\n",
       "</style>\n",
       "<table border=\"1\" class=\"dataframe\">\n",
       "  <thead>\n",
       "    <tr style=\"text-align: right;\">\n",
       "      <th></th>\n",
       "      <th>count</th>\n",
       "      <th>sum</th>\n",
       "      <th>%</th>\n",
       "    </tr>\n",
       "    <tr>\n",
       "      <th>age_grouped</th>\n",
       "      <th></th>\n",
       "      <th></th>\n",
       "      <th></th>\n",
       "    </tr>\n",
       "  </thead>\n",
       "  <tbody>\n",
       "    <tr>\n",
       "      <td>55+</td>\n",
       "      <td>4336</td>\n",
       "      <td>240</td>\n",
       "      <td>5.535055</td>\n",
       "    </tr>\n",
       "    <tr>\n",
       "      <td>50-55</td>\n",
       "      <td>2308</td>\n",
       "      <td>141</td>\n",
       "      <td>6.109185</td>\n",
       "    </tr>\n",
       "    <tr>\n",
       "      <td>45-50</td>\n",
       "      <td>2506</td>\n",
       "      <td>187</td>\n",
       "      <td>7.462091</td>\n",
       "    </tr>\n",
       "    <tr>\n",
       "      <td>40-45</td>\n",
       "      <td>2754</td>\n",
       "      <td>216</td>\n",
       "      <td>7.843137</td>\n",
       "    </tr>\n",
       "    <tr>\n",
       "      <td>30-40</td>\n",
       "      <td>5732</td>\n",
       "      <td>546</td>\n",
       "      <td>9.525471</td>\n",
       "    </tr>\n",
       "    <tr>\n",
       "      <td>18-30</td>\n",
       "      <td>3818</td>\n",
       "      <td>411</td>\n",
       "      <td>10.764798</td>\n",
       "    </tr>\n",
       "  </tbody>\n",
       "</table>\n",
       "</div>"
      ],
      "text/plain": [
       "             count  sum          %\n",
       "age_grouped                       \n",
       "55+           4336  240   5.535055\n",
       "50-55         2308  141   6.109185\n",
       "45-50         2506  187   7.462091\n",
       "40-45         2754  216   7.843137\n",
       "30-40         5732  546   9.525471\n",
       "18-30         3818  411  10.764798"
      ]
     },
     "metadata": {},
     "output_type": "display_data"
    }
   ],
   "source": [
    "# Напишем функию для объедения возраста в категории\n",
    "def group_by_age(row):\n",
    "    age = row['dob_years']\n",
    "    if age <= 30:\n",
    "        return '18-30'\n",
    "    elif 30 < age <= 40:\n",
    "        return '30-40'\n",
    "    elif 40 < age <= 45:\n",
    "        return '40-45'\n",
    "    elif 45 < age <= 50:\n",
    "        return '45-50'\n",
    "    elif 50 < age <= 55:\n",
    "        return '50-55'\n",
    "    else:\n",
    "        return '55+'\n",
    "\n",
    "df['age_grouped'] = df.apply(group_by_age, axis = 1)\n",
    "#display(data.head(5))\n",
    "#Сгруппируем по собраным возрастным категориям\n",
    "grouped_by_age = df.groupby('age_grouped')['debt'].agg(['count', 'sum'])\n",
    "grouped_by_age['%'] = (grouped_by_age['sum'] / grouped_by_age['count']) * 100\n",
    "display(grouped_by_age.sort_values('%'))"
   ]
  },
  {
   "cell_type": "code",
   "execution_count": 28,
   "metadata": {},
   "outputs": [
    {
     "data": {
      "text/html": [
       "<div>\n",
       "<style scoped>\n",
       "    .dataframe tbody tr th:only-of-type {\n",
       "        vertical-align: middle;\n",
       "    }\n",
       "\n",
       "    .dataframe tbody tr th {\n",
       "        vertical-align: top;\n",
       "    }\n",
       "\n",
       "    .dataframe thead th {\n",
       "        text-align: right;\n",
       "    }\n",
       "</style>\n",
       "<table border=\"1\" class=\"dataframe\">\n",
       "  <thead>\n",
       "    <tr style=\"text-align: right;\">\n",
       "      <th></th>\n",
       "      <th>count</th>\n",
       "      <th>sum</th>\n",
       "      <th>%</th>\n",
       "    </tr>\n",
       "    <tr>\n",
       "      <th>income_type</th>\n",
       "      <th></th>\n",
       "      <th></th>\n",
       "      <th></th>\n",
       "    </tr>\n",
       "  </thead>\n",
       "  <tbody>\n",
       "    <tr>\n",
       "      <td>предприниматель</td>\n",
       "      <td>2</td>\n",
       "      <td>0</td>\n",
       "      <td>0.000000</td>\n",
       "    </tr>\n",
       "    <tr>\n",
       "      <td>студент</td>\n",
       "      <td>1</td>\n",
       "      <td>0</td>\n",
       "      <td>0.000000</td>\n",
       "    </tr>\n",
       "    <tr>\n",
       "      <td>пенсионер</td>\n",
       "      <td>3829</td>\n",
       "      <td>216</td>\n",
       "      <td>5.641160</td>\n",
       "    </tr>\n",
       "    <tr>\n",
       "      <td>госслужащий</td>\n",
       "      <td>1457</td>\n",
       "      <td>86</td>\n",
       "      <td>5.902539</td>\n",
       "    </tr>\n",
       "    <tr>\n",
       "      <td>компаньон</td>\n",
       "      <td>5078</td>\n",
       "      <td>376</td>\n",
       "      <td>7.404490</td>\n",
       "    </tr>\n",
       "    <tr>\n",
       "      <td>сотрудник</td>\n",
       "      <td>11084</td>\n",
       "      <td>1061</td>\n",
       "      <td>9.572357</td>\n",
       "    </tr>\n",
       "    <tr>\n",
       "      <td>безработный</td>\n",
       "      <td>2</td>\n",
       "      <td>1</td>\n",
       "      <td>50.000000</td>\n",
       "    </tr>\n",
       "    <tr>\n",
       "      <td>в декрете</td>\n",
       "      <td>1</td>\n",
       "      <td>1</td>\n",
       "      <td>100.000000</td>\n",
       "    </tr>\n",
       "  </tbody>\n",
       "</table>\n",
       "</div>"
      ],
      "text/plain": [
       "                 count   sum           %\n",
       "income_type                             \n",
       "предприниматель      2     0    0.000000\n",
       "студент              1     0    0.000000\n",
       "пенсионер         3829   216    5.641160\n",
       "госслужащий       1457    86    5.902539\n",
       "компаньон         5078   376    7.404490\n",
       "сотрудник        11084  1061    9.572357\n",
       "безработный          2     1   50.000000\n",
       "в декрете            1     1  100.000000"
      ]
     },
     "metadata": {},
     "output_type": "display_data"
    }
   ],
   "source": [
    "#Сделаем группировку по типу занятости\n",
    "grouped_by_income_type = df.groupby('income_type')['debt'].agg(['count', 'sum'])\n",
    "grouped_by_income_type['%'] = (grouped_by_income_type['sum'] / grouped_by_income_type['count']) * 100\n",
    "display(grouped_by_income_type.sort_values('%'))"
   ]
  },
  {
   "cell_type": "code",
   "execution_count": 29,
   "metadata": {},
   "outputs": [],
   "source": [
    "# Распределим уровень дохода на 4 группы, присвоим статусы каждой группе\n",
    "def income_status(monthly_income):\n",
    "    if monthly_income <= 90000.0:\n",
    "            return 'Низкий уровень дохода'\n",
    "    if monthly_income <= 135000.0:\n",
    "            return 'Средний уровень дохода'\n",
    "    if monthly_income < 195000.0:\n",
    "            return 'Высокий уровень дохода'\n",
    "    return 'Сверхвысокий уровень дохода'\n",
    "df['income_status'] = df['total_income'].apply(income_status)"
   ]
  },
  {
   "cell_type": "code",
   "execution_count": 30,
   "metadata": {},
   "outputs": [
    {
     "data": {
      "text/html": [
       "<div>\n",
       "<style scoped>\n",
       "    .dataframe tbody tr th:only-of-type {\n",
       "        vertical-align: middle;\n",
       "    }\n",
       "\n",
       "    .dataframe tbody tr th {\n",
       "        vertical-align: top;\n",
       "    }\n",
       "\n",
       "    .dataframe thead th {\n",
       "        text-align: right;\n",
       "    }\n",
       "</style>\n",
       "<table border=\"1\" class=\"dataframe\">\n",
       "  <thead>\n",
       "    <tr style=\"text-align: right;\">\n",
       "      <th></th>\n",
       "      <th></th>\n",
       "      <th>debt</th>\n",
       "      <th>0</th>\n",
       "      <th>1</th>\n",
       "      <th>%</th>\n",
       "    </tr>\n",
       "    <tr>\n",
       "      <th>family_status</th>\n",
       "      <th>gender</th>\n",
       "      <th>education</th>\n",
       "      <th></th>\n",
       "      <th></th>\n",
       "      <th></th>\n",
       "    </tr>\n",
       "  </thead>\n",
       "  <tbody>\n",
       "    <tr>\n",
       "      <td>Не женат / не замужем</td>\n",
       "      <td>F</td>\n",
       "      <td>высшее</td>\n",
       "      <td>503.0</td>\n",
       "      <td>19.0</td>\n",
       "      <td>3.777336</td>\n",
       "    </tr>\n",
       "    <tr>\n",
       "      <td>вдовец / вдова</td>\n",
       "      <td>F</td>\n",
       "      <td>высшее</td>\n",
       "      <td>119.0</td>\n",
       "      <td>5.0</td>\n",
       "      <td>4.201681</td>\n",
       "    </tr>\n",
       "    <tr>\n",
       "      <td>в разводе</td>\n",
       "      <td>F</td>\n",
       "      <td>высшее</td>\n",
       "      <td>242.0</td>\n",
       "      <td>11.0</td>\n",
       "      <td>4.545455</td>\n",
       "    </tr>\n",
       "    <tr>\n",
       "      <td>женат / замужем</td>\n",
       "      <td>F</td>\n",
       "      <td>высшее</td>\n",
       "      <td>1858.0</td>\n",
       "      <td>97.0</td>\n",
       "      <td>5.220667</td>\n",
       "    </tr>\n",
       "    <tr>\n",
       "      <td>гражданский брак</td>\n",
       "      <td>F</td>\n",
       "      <td>высшее</td>\n",
       "      <td>650.0</td>\n",
       "      <td>35.0</td>\n",
       "      <td>5.384615</td>\n",
       "    </tr>\n",
       "    <tr>\n",
       "      <td>женат / замужем</td>\n",
       "      <td>M</td>\n",
       "      <td>высшее</td>\n",
       "      <td>1027.0</td>\n",
       "      <td>58.0</td>\n",
       "      <td>5.647517</td>\n",
       "    </tr>\n",
       "    <tr>\n",
       "      <td>вдовец / вдова</td>\n",
       "      <td>F</td>\n",
       "      <td>среднее</td>\n",
       "      <td>695.0</td>\n",
       "      <td>45.0</td>\n",
       "      <td>6.474820</td>\n",
       "    </tr>\n",
       "    <tr>\n",
       "      <td rowspan=\"2\" valign=\"top\">в разводе</td>\n",
       "      <td>M</td>\n",
       "      <td>высшее</td>\n",
       "      <td>59.0</td>\n",
       "      <td>4.0</td>\n",
       "      <td>6.779661</td>\n",
       "    </tr>\n",
       "    <tr>\n",
       "      <td>F</td>\n",
       "      <td>среднее</td>\n",
       "      <td>601.0</td>\n",
       "      <td>45.0</td>\n",
       "      <td>7.487521</td>\n",
       "    </tr>\n",
       "    <tr>\n",
       "      <td>гражданский брак</td>\n",
       "      <td>M</td>\n",
       "      <td>неоконченное высшее</td>\n",
       "      <td>53.0</td>\n",
       "      <td>4.0</td>\n",
       "      <td>7.547170</td>\n",
       "    </tr>\n",
       "    <tr>\n",
       "      <td>женат / замужем</td>\n",
       "      <td>F</td>\n",
       "      <td>среднее</td>\n",
       "      <td>5111.0</td>\n",
       "      <td>409.0</td>\n",
       "      <td>8.002348</td>\n",
       "    </tr>\n",
       "    <tr>\n",
       "      <td>гражданский брак</td>\n",
       "      <td>M</td>\n",
       "      <td>высшее</td>\n",
       "      <td>248.0</td>\n",
       "      <td>20.0</td>\n",
       "      <td>8.064516</td>\n",
       "    </tr>\n",
       "    <tr>\n",
       "      <td rowspan=\"3\" valign=\"top\">Не женат / не замужем</td>\n",
       "      <td rowspan=\"3\" valign=\"top\">F</td>\n",
       "      <td>начальное</td>\n",
       "      <td>12.0</td>\n",
       "      <td>1.0</td>\n",
       "      <td>8.333333</td>\n",
       "    </tr>\n",
       "    <tr>\n",
       "      <td>неоконченное высшее</td>\n",
       "      <td>94.0</td>\n",
       "      <td>8.0</td>\n",
       "      <td>8.510638</td>\n",
       "    </tr>\n",
       "    <tr>\n",
       "      <td>среднее</td>\n",
       "      <td>1002.0</td>\n",
       "      <td>90.0</td>\n",
       "      <td>8.982036</td>\n",
       "    </tr>\n",
       "    <tr>\n",
       "      <td rowspan=\"2\" valign=\"top\">женат / замужем</td>\n",
       "      <td rowspan=\"2\" valign=\"top\">F</td>\n",
       "      <td>неоконченное высшее</td>\n",
       "      <td>197.0</td>\n",
       "      <td>18.0</td>\n",
       "      <td>9.137056</td>\n",
       "    </tr>\n",
       "    <tr>\n",
       "      <td>начальное</td>\n",
       "      <td>62.0</td>\n",
       "      <td>6.0</td>\n",
       "      <td>9.677419</td>\n",
       "    </tr>\n",
       "    <tr>\n",
       "      <td rowspan=\"2\" valign=\"top\">гражданский брак</td>\n",
       "      <td rowspan=\"2\" valign=\"top\">F</td>\n",
       "      <td>среднее</td>\n",
       "      <td>1831.0</td>\n",
       "      <td>181.0</td>\n",
       "      <td>9.885309</td>\n",
       "    </tr>\n",
       "    <tr>\n",
       "      <td>неоконченное высшее</td>\n",
       "      <td>98.0</td>\n",
       "      <td>10.0</td>\n",
       "      <td>10.204082</td>\n",
       "    </tr>\n",
       "    <tr>\n",
       "      <td>Не женат / не замужем</td>\n",
       "      <td>M</td>\n",
       "      <td>начальное</td>\n",
       "      <td>19.0</td>\n",
       "      <td>2.0</td>\n",
       "      <td>10.526316</td>\n",
       "    </tr>\n",
       "    <tr>\n",
       "      <td>женат / замужем</td>\n",
       "      <td>M</td>\n",
       "      <td>неоконченное высшее</td>\n",
       "      <td>114.0</td>\n",
       "      <td>12.0</td>\n",
       "      <td>10.526316</td>\n",
       "    </tr>\n",
       "    <tr>\n",
       "      <td>Не женат / не замужем</td>\n",
       "      <td>M</td>\n",
       "      <td>высшее</td>\n",
       "      <td>256.0</td>\n",
       "      <td>27.0</td>\n",
       "      <td>10.546875</td>\n",
       "    </tr>\n",
       "    <tr>\n",
       "      <td>женат / замужем</td>\n",
       "      <td>M</td>\n",
       "      <td>среднее</td>\n",
       "      <td>2971.0</td>\n",
       "      <td>322.0</td>\n",
       "      <td>10.838102</td>\n",
       "    </tr>\n",
       "    <tr>\n",
       "      <td>в разводе</td>\n",
       "      <td>M</td>\n",
       "      <td>среднее</td>\n",
       "      <td>162.0</td>\n",
       "      <td>19.0</td>\n",
       "      <td>11.728395</td>\n",
       "    </tr>\n",
       "    <tr>\n",
       "      <td>Не женат / не замужем</td>\n",
       "      <td>M</td>\n",
       "      <td>неоконченное высшее</td>\n",
       "      <td>81.0</td>\n",
       "      <td>10.0</td>\n",
       "      <td>12.345679</td>\n",
       "    </tr>\n",
       "    <tr>\n",
       "      <td>в разводе</td>\n",
       "      <td>M</td>\n",
       "      <td>неоконченное высшее</td>\n",
       "      <td>8.0</td>\n",
       "      <td>1.0</td>\n",
       "      <td>12.500000</td>\n",
       "    </tr>\n",
       "    <tr>\n",
       "      <td>женат / замужем</td>\n",
       "      <td>M</td>\n",
       "      <td>начальное</td>\n",
       "      <td>64.0</td>\n",
       "      <td>9.0</td>\n",
       "      <td>14.062500</td>\n",
       "    </tr>\n",
       "    <tr>\n",
       "      <td>гражданский брак</td>\n",
       "      <td>M</td>\n",
       "      <td>среднее</td>\n",
       "      <td>837.0</td>\n",
       "      <td>127.0</td>\n",
       "      <td>15.173238</td>\n",
       "    </tr>\n",
       "    <tr>\n",
       "      <td rowspan=\"2\" valign=\"top\">в разводе</td>\n",
       "      <td rowspan=\"2\" valign=\"top\">F</td>\n",
       "      <td>начальное</td>\n",
       "      <td>13.0</td>\n",
       "      <td>2.0</td>\n",
       "      <td>15.384615</td>\n",
       "    </tr>\n",
       "    <tr>\n",
       "      <td>неоконченное высшее</td>\n",
       "      <td>19.0</td>\n",
       "      <td>3.0</td>\n",
       "      <td>15.789474</td>\n",
       "    </tr>\n",
       "    <tr>\n",
       "      <td rowspan=\"2\" valign=\"top\">вдовец / вдова</td>\n",
       "      <td>F</td>\n",
       "      <td>неоконченное высшее</td>\n",
       "      <td>11.0</td>\n",
       "      <td>2.0</td>\n",
       "      <td>18.181818</td>\n",
       "    </tr>\n",
       "    <tr>\n",
       "      <td>M</td>\n",
       "      <td>высшее</td>\n",
       "      <td>10.0</td>\n",
       "      <td>2.0</td>\n",
       "      <td>20.000000</td>\n",
       "    </tr>\n",
       "    <tr>\n",
       "      <td>Не женат / не замужем</td>\n",
       "      <td>M</td>\n",
       "      <td>среднее</td>\n",
       "      <td>568.0</td>\n",
       "      <td>117.0</td>\n",
       "      <td>20.598592</td>\n",
       "    </tr>\n",
       "    <tr>\n",
       "      <td>гражданский брак</td>\n",
       "      <td>F</td>\n",
       "      <td>начальное</td>\n",
       "      <td>33.0</td>\n",
       "      <td>7.0</td>\n",
       "      <td>21.212121</td>\n",
       "    </tr>\n",
       "    <tr>\n",
       "      <td>вдовец / вдова</td>\n",
       "      <td>M</td>\n",
       "      <td>среднее</td>\n",
       "      <td>30.0</td>\n",
       "      <td>9.0</td>\n",
       "      <td>30.000000</td>\n",
       "    </tr>\n",
       "    <tr>\n",
       "      <td>гражданский брак</td>\n",
       "      <td>M</td>\n",
       "      <td>начальное</td>\n",
       "      <td>12.0</td>\n",
       "      <td>4.0</td>\n",
       "      <td>33.333333</td>\n",
       "    </tr>\n",
       "    <tr>\n",
       "      <td>Не женат / не замужем</td>\n",
       "      <td>M</td>\n",
       "      <td>ученая степень</td>\n",
       "      <td>1.0</td>\n",
       "      <td>NaN</td>\n",
       "      <td>NaN</td>\n",
       "    </tr>\n",
       "    <tr>\n",
       "      <td rowspan=\"2\" valign=\"top\">в разводе</td>\n",
       "      <td rowspan=\"2\" valign=\"top\">M</td>\n",
       "      <td>начальное</td>\n",
       "      <td>5.0</td>\n",
       "      <td>NaN</td>\n",
       "      <td>NaN</td>\n",
       "    </tr>\n",
       "    <tr>\n",
       "      <td>ученая степень</td>\n",
       "      <td>1.0</td>\n",
       "      <td>NaN</td>\n",
       "      <td>NaN</td>\n",
       "    </tr>\n",
       "    <tr>\n",
       "      <td rowspan=\"2\" valign=\"top\">вдовец / вдова</td>\n",
       "      <td>F</td>\n",
       "      <td>начальное</td>\n",
       "      <td>27.0</td>\n",
       "      <td>NaN</td>\n",
       "      <td>NaN</td>\n",
       "    </tr>\n",
       "    <tr>\n",
       "      <td>M</td>\n",
       "      <td>начальное</td>\n",
       "      <td>4.0</td>\n",
       "      <td>NaN</td>\n",
       "      <td>NaN</td>\n",
       "    </tr>\n",
       "    <tr>\n",
       "      <td>гражданский брак</td>\n",
       "      <td>XNA</td>\n",
       "      <td>неоконченное высшее</td>\n",
       "      <td>1.0</td>\n",
       "      <td>NaN</td>\n",
       "      <td>NaN</td>\n",
       "    </tr>\n",
       "    <tr>\n",
       "      <td rowspan=\"2\" valign=\"top\">женат / замужем</td>\n",
       "      <td>F</td>\n",
       "      <td>ученая степень</td>\n",
       "      <td>2.0</td>\n",
       "      <td>NaN</td>\n",
       "      <td>NaN</td>\n",
       "    </tr>\n",
       "    <tr>\n",
       "      <td>M</td>\n",
       "      <td>ученая степень</td>\n",
       "      <td>2.0</td>\n",
       "      <td>NaN</td>\n",
       "      <td>NaN</td>\n",
       "    </tr>\n",
       "  </tbody>\n",
       "</table>\n",
       "</div>"
      ],
      "text/plain": [
       "debt                                                   0      1          %\n",
       "family_status         gender education                                    \n",
       "Не женат / не замужем F      высшее                503.0   19.0   3.777336\n",
       "вдовец / вдова        F      высшее                119.0    5.0   4.201681\n",
       "в разводе             F      высшее                242.0   11.0   4.545455\n",
       "женат / замужем       F      высшее               1858.0   97.0   5.220667\n",
       "гражданский брак      F      высшее                650.0   35.0   5.384615\n",
       "женат / замужем       M      высшее               1027.0   58.0   5.647517\n",
       "вдовец / вдова        F      среднее               695.0   45.0   6.474820\n",
       "в разводе             M      высшее                 59.0    4.0   6.779661\n",
       "                      F      среднее               601.0   45.0   7.487521\n",
       "гражданский брак      M      неоконченное высшее    53.0    4.0   7.547170\n",
       "женат / замужем       F      среднее              5111.0  409.0   8.002348\n",
       "гражданский брак      M      высшее                248.0   20.0   8.064516\n",
       "Не женат / не замужем F      начальное              12.0    1.0   8.333333\n",
       "                             неоконченное высшее    94.0    8.0   8.510638\n",
       "                             среднее              1002.0   90.0   8.982036\n",
       "женат / замужем       F      неоконченное высшее   197.0   18.0   9.137056\n",
       "                             начальное              62.0    6.0   9.677419\n",
       "гражданский брак      F      среднее              1831.0  181.0   9.885309\n",
       "                             неоконченное высшее    98.0   10.0  10.204082\n",
       "Не женат / не замужем M      начальное              19.0    2.0  10.526316\n",
       "женат / замужем       M      неоконченное высшее   114.0   12.0  10.526316\n",
       "Не женат / не замужем M      высшее                256.0   27.0  10.546875\n",
       "женат / замужем       M      среднее              2971.0  322.0  10.838102\n",
       "в разводе             M      среднее               162.0   19.0  11.728395\n",
       "Не женат / не замужем M      неоконченное высшее    81.0   10.0  12.345679\n",
       "в разводе             M      неоконченное высшее     8.0    1.0  12.500000\n",
       "женат / замужем       M      начальное              64.0    9.0  14.062500\n",
       "гражданский брак      M      среднее               837.0  127.0  15.173238\n",
       "в разводе             F      начальное              13.0    2.0  15.384615\n",
       "                             неоконченное высшее    19.0    3.0  15.789474\n",
       "вдовец / вдова        F      неоконченное высшее    11.0    2.0  18.181818\n",
       "                      M      высшее                 10.0    2.0  20.000000\n",
       "Не женат / не замужем M      среднее               568.0  117.0  20.598592\n",
       "гражданский брак      F      начальное              33.0    7.0  21.212121\n",
       "вдовец / вдова        M      среднее                30.0    9.0  30.000000\n",
       "гражданский брак      M      начальное              12.0    4.0  33.333333\n",
       "Не женат / не замужем M      ученая степень          1.0    NaN        NaN\n",
       "в разводе             M      начальное               5.0    NaN        NaN\n",
       "                             ученая степень          1.0    NaN        NaN\n",
       "вдовец / вдова        F      начальное              27.0    NaN        NaN\n",
       "                      M      начальное               4.0    NaN        NaN\n",
       "гражданский брак      XNA    неоконченное высшее     1.0    NaN        NaN\n",
       "женат / замужем       F      ученая степень          2.0    NaN        NaN\n",
       "                      M      ученая степень          2.0    NaN        NaN"
      ]
     },
     "execution_count": 30,
     "metadata": {},
     "output_type": "execute_result"
    }
   ],
   "source": [
    "#Соберем сводную таблицу\n",
    "df_pivot = df.pivot_table(index = ['family_status', 'gender', 'education'], columns = 'debt', values = 'purpose', aggfunc = 'count')\n",
    "df_pivot['%'] = (df_pivot[1] / df_pivot[0]) * 100\n",
    "df_pivot.sort_values('%')"
   ]
  },
  {
   "cell_type": "markdown",
   "metadata": {},
   "source": [
    "**Вывод** \n",
    "children - по кол-ву детей было много разных данных, поэтому для удобства анализа собрал все данные в 3 группы: нет детей, один ребенок и 2+ детей. А также заменили артефакты \"-1\" и \"20\"\n",
    "\n",
    "family_status - вариантов не так много, поэтому не стал разбивать на группы.\n",
    "\n",
    "total_income - разбивал на группы сначала интуитивно, а затем поправил группы для того, чтобы вес у них был более менее одинаковый.\n",
    "\n",
    "purpose - после применения .unique() выявил 4 основных направления: недвижимость, свадьба, образование и автомобиль, по которым и произвел группировку.\n",
    "\n",
    "gender - вариантов не так много, поэтому не стал разбивать на группы. А так же есть строка с неопределенным полом. Скорее всего поле было не заполнено, оставим как есть, процент влияение одной строки крайне мал\n",
    "\n",
    "education - вариантов не так много, поэтому не стал разбивать на группы."
   ]
  },
  {
   "cell_type": "markdown",
   "metadata": {},
   "source": [
    "## Шаг 3. Ответьте на вопросы"
   ]
  },
  {
   "cell_type": "markdown",
   "metadata": {},
   "source": [
    "- Есть ли зависимость между наличием детей и возвратом кредита в срок?"
   ]
  },
  {
   "cell_type": "code",
   "execution_count": 31,
   "metadata": {
    "scrolled": true
   },
   "outputs": [
    {
     "data": {
      "text/html": [
       "<div>\n",
       "<style scoped>\n",
       "    .dataframe tbody tr th:only-of-type {\n",
       "        vertical-align: middle;\n",
       "    }\n",
       "\n",
       "    .dataframe tbody tr th {\n",
       "        vertical-align: top;\n",
       "    }\n",
       "\n",
       "    .dataframe thead th {\n",
       "        text-align: right;\n",
       "    }\n",
       "</style>\n",
       "<table border=\"1\" class=\"dataframe\">\n",
       "  <thead>\n",
       "    <tr style=\"text-align: right;\">\n",
       "      <th>debt</th>\n",
       "      <th>0</th>\n",
       "      <th>1</th>\n",
       "      <th>%</th>\n",
       "    </tr>\n",
       "    <tr>\n",
       "      <th>children_grouped</th>\n",
       "      <th></th>\n",
       "      <th></th>\n",
       "      <th></th>\n",
       "    </tr>\n",
       "  </thead>\n",
       "  <tbody>\n",
       "    <tr>\n",
       "      <td>0</td>\n",
       "      <td>13028</td>\n",
       "      <td>1063</td>\n",
       "      <td>7.543822</td>\n",
       "    </tr>\n",
       "    <tr>\n",
       "      <td>1</td>\n",
       "      <td>4410</td>\n",
       "      <td>445</td>\n",
       "      <td>9.165808</td>\n",
       "    </tr>\n",
       "    <tr>\n",
       "      <td>2+</td>\n",
       "      <td>2275</td>\n",
       "      <td>233</td>\n",
       "      <td>9.290271</td>\n",
       "    </tr>\n",
       "  </tbody>\n",
       "</table>\n",
       "</div>"
      ],
      "text/plain": [
       "debt                  0     1         %\n",
       "children_grouped                       \n",
       "0                 13028  1063  7.543822\n",
       "1                  4410   445  9.165808\n",
       "2+                 2275   233  9.290271"
      ]
     },
     "execution_count": 31,
     "metadata": {},
     "output_type": "execute_result"
    }
   ],
   "source": [
    "children_pivot = df.pivot_table(index = ['children_grouped'], \\\n",
    "                                columns = ['debt'], \\\n",
    "                                values = 'purpose', aggfunc='count')\n",
    "\n",
    "children_pivot['%'] = children_pivot[1] / (children_pivot[1] + children_pivot[0])  * 100\n",
    "children_pivot"
   ]
  },
  {
   "cell_type": "markdown",
   "metadata": {},
   "source": [
    "**Вывод** Кол-во детей не сказывается негативно на выплатах, т.к. те у кого детей нет совсем отдают кредиты хуже"
   ]
  },
  {
   "cell_type": "markdown",
   "metadata": {},
   "source": [
    "- Есть ли зависимость между семейным положением и возвратом кредита в срок?"
   ]
  },
  {
   "cell_type": "code",
   "execution_count": 32,
   "metadata": {},
   "outputs": [
    {
     "data": {
      "text/html": [
       "<div>\n",
       "<style scoped>\n",
       "    .dataframe tbody tr th:only-of-type {\n",
       "        vertical-align: middle;\n",
       "    }\n",
       "\n",
       "    .dataframe tbody tr th {\n",
       "        vertical-align: top;\n",
       "    }\n",
       "\n",
       "    .dataframe thead th {\n",
       "        text-align: right;\n",
       "    }\n",
       "</style>\n",
       "<table border=\"1\" class=\"dataframe\">\n",
       "  <thead>\n",
       "    <tr style=\"text-align: right;\">\n",
       "      <th></th>\n",
       "      <th>count</th>\n",
       "      <th>sum</th>\n",
       "      <th>%</th>\n",
       "    </tr>\n",
       "    <tr>\n",
       "      <th>family_status</th>\n",
       "      <th></th>\n",
       "      <th></th>\n",
       "      <th></th>\n",
       "    </tr>\n",
       "  </thead>\n",
       "  <tbody>\n",
       "    <tr>\n",
       "      <td>вдовец / вдова</td>\n",
       "      <td>959</td>\n",
       "      <td>63</td>\n",
       "      <td>6.569343</td>\n",
       "    </tr>\n",
       "    <tr>\n",
       "      <td>в разводе</td>\n",
       "      <td>1195</td>\n",
       "      <td>85</td>\n",
       "      <td>7.112971</td>\n",
       "    </tr>\n",
       "    <tr>\n",
       "      <td>женат / замужем</td>\n",
       "      <td>12339</td>\n",
       "      <td>931</td>\n",
       "      <td>7.545182</td>\n",
       "    </tr>\n",
       "    <tr>\n",
       "      <td>гражданский брак</td>\n",
       "      <td>4151</td>\n",
       "      <td>388</td>\n",
       "      <td>9.347145</td>\n",
       "    </tr>\n",
       "    <tr>\n",
       "      <td>Не женат / не замужем</td>\n",
       "      <td>2810</td>\n",
       "      <td>274</td>\n",
       "      <td>9.750890</td>\n",
       "    </tr>\n",
       "  </tbody>\n",
       "</table>\n",
       "</div>"
      ],
      "text/plain": [
       "                       count  sum         %\n",
       "family_status                              \n",
       "вдовец / вдова           959   63  6.569343\n",
       "в разводе               1195   85  7.112971\n",
       "женат / замужем        12339  931  7.545182\n",
       "гражданский брак        4151  388  9.347145\n",
       "Не женат / не замужем   2810  274  9.750890"
      ]
     },
     "metadata": {},
     "output_type": "display_data"
    }
   ],
   "source": [
    "grouped_by_family_status['%'] = (grouped_by_family_status['sum'] / grouped_by_family_status['count']) * 100\n",
    "display(grouped_by_family_status.sort_values('%'))"
   ]
  },
  {
   "cell_type": "markdown",
   "metadata": {},
   "source": [
    "**Вывод** Самый низкий показатель у тех кто потерял мужу\\жену. Можно предположить что потеря супруга или супруги сильно влияет на финансовое благополучие"
   ]
  },
  {
   "cell_type": "markdown",
   "metadata": {},
   "source": [
    "- Есть ли зависимость между уровнем дохода и возвратом кредита в срок?"
   ]
  },
  {
   "cell_type": "code",
   "execution_count": 33,
   "metadata": {},
   "outputs": [
    {
     "data": {
      "text/html": [
       "<div>\n",
       "<style scoped>\n",
       "    .dataframe tbody tr th:only-of-type {\n",
       "        vertical-align: middle;\n",
       "    }\n",
       "\n",
       "    .dataframe tbody tr th {\n",
       "        vertical-align: top;\n",
       "    }\n",
       "\n",
       "    .dataframe thead th {\n",
       "        text-align: right;\n",
       "    }\n",
       "</style>\n",
       "<table border=\"1\" class=\"dataframe\">\n",
       "  <thead>\n",
       "    <tr style=\"text-align: right;\">\n",
       "      <th>debt</th>\n",
       "      <th>0</th>\n",
       "      <th>1</th>\n",
       "      <th>%</th>\n",
       "    </tr>\n",
       "    <tr>\n",
       "      <th>income_status</th>\n",
       "      <th></th>\n",
       "      <th></th>\n",
       "      <th></th>\n",
       "    </tr>\n",
       "  </thead>\n",
       "  <tbody>\n",
       "    <tr>\n",
       "      <td>Высокий уровень дохода</td>\n",
       "      <td>6484</td>\n",
       "      <td>622</td>\n",
       "      <td>8.753166</td>\n",
       "    </tr>\n",
       "    <tr>\n",
       "      <td>Низкий уровень дохода</td>\n",
       "      <td>3086</td>\n",
       "      <td>262</td>\n",
       "      <td>7.825568</td>\n",
       "    </tr>\n",
       "    <tr>\n",
       "      <td>Сверхвысокий уровень дохода</td>\n",
       "      <td>5035</td>\n",
       "      <td>389</td>\n",
       "      <td>7.171829</td>\n",
       "    </tr>\n",
       "    <tr>\n",
       "      <td>Средний уровень дохода</td>\n",
       "      <td>5108</td>\n",
       "      <td>468</td>\n",
       "      <td>8.393113</td>\n",
       "    </tr>\n",
       "  </tbody>\n",
       "</table>\n",
       "</div>"
      ],
      "text/plain": [
       "debt                            0    1         %\n",
       "income_status                                   \n",
       "Высокий уровень дохода       6484  622  8.753166\n",
       "Низкий уровень дохода        3086  262  7.825568\n",
       "Сверхвысокий уровень дохода  5035  389  7.171829\n",
       "Средний уровень дохода       5108  468  8.393113"
      ]
     },
     "execution_count": 33,
     "metadata": {},
     "output_type": "execute_result"
    }
   ],
   "source": [
    "income_pivot = df.pivot_table(index=['income_status'], columns=['debt'], values='education', aggfunc='count')\n",
    "income_pivot['%'] = income_pivot[1] / (income_pivot[1] + income_pivot[0]) * 100\n",
    "income_pivot"
   ]
  },
  {
   "cell_type": "markdown",
   "metadata": {},
   "source": [
    "**Вывод** Хуже всего платят люди со сверхвысокими доходами и низкими, если с низикими доходами еще логично предположить по какой причине они хуже платят, то со сверхвысокоми вариантов неуплаты по кредиту может быть на много больше."
   ]
  },
  {
   "cell_type": "markdown",
   "metadata": {},
   "source": [
    "- Как разные цели кредита влияют на его возврат в срок?"
   ]
  },
  {
   "cell_type": "code",
   "execution_count": 34,
   "metadata": {},
   "outputs": [
    {
     "data": {
      "text/html": [
       "<div>\n",
       "<style scoped>\n",
       "    .dataframe tbody tr th:only-of-type {\n",
       "        vertical-align: middle;\n",
       "    }\n",
       "\n",
       "    .dataframe tbody tr th {\n",
       "        vertical-align: top;\n",
       "    }\n",
       "\n",
       "    .dataframe thead th {\n",
       "        text-align: right;\n",
       "    }\n",
       "</style>\n",
       "<table border=\"1\" class=\"dataframe\">\n",
       "  <thead>\n",
       "    <tr style=\"text-align: right;\">\n",
       "      <th></th>\n",
       "      <th>count</th>\n",
       "      <th>sum</th>\n",
       "      <th>%</th>\n",
       "    </tr>\n",
       "    <tr>\n",
       "      <th>purpose_grouped</th>\n",
       "      <th></th>\n",
       "      <th></th>\n",
       "      <th></th>\n",
       "    </tr>\n",
       "  </thead>\n",
       "  <tbody>\n",
       "    <tr>\n",
       "      <td>недвижимость</td>\n",
       "      <td>10811</td>\n",
       "      <td>782</td>\n",
       "      <td>7.233373</td>\n",
       "    </tr>\n",
       "    <tr>\n",
       "      <td>свадьба</td>\n",
       "      <td>2324</td>\n",
       "      <td>186</td>\n",
       "      <td>8.003442</td>\n",
       "    </tr>\n",
       "    <tr>\n",
       "      <td>образование</td>\n",
       "      <td>4013</td>\n",
       "      <td>370</td>\n",
       "      <td>9.220035</td>\n",
       "    </tr>\n",
       "    <tr>\n",
       "      <td>автомобиль</td>\n",
       "      <td>4306</td>\n",
       "      <td>403</td>\n",
       "      <td>9.359034</td>\n",
       "    </tr>\n",
       "  </tbody>\n",
       "</table>\n",
       "</div>"
      ],
      "text/plain": [
       "                 count  sum         %\n",
       "purpose_grouped                      \n",
       "недвижимость     10811  782  7.233373\n",
       "свадьба           2324  186  8.003442\n",
       "образование       4013  370  9.220035\n",
       "автомобиль        4306  403  9.359034"
      ]
     },
     "metadata": {},
     "output_type": "display_data"
    }
   ],
   "source": [
    "grouped_by_purpose = df.groupby('purpose_grouped')['debt'].agg(['count', 'sum'])\n",
    "grouped_by_purpose['%'] = (grouped_by_purpose['sum'] / grouped_by_purpose['count']) * 100\n",
    "display(grouped_by_purpose.sort_values('%'))"
   ]
  },
  {
   "cell_type": "markdown",
   "metadata": {},
   "source": [
    "**Вывод** Кредит на недвижимость и свадьбу наиболее проблемные, что в целом логично, кредит на недвижимость связаны с долгим сроком кредитования и не всегда удается поддерживать нужный уровень дохода на протяжение многих лет. Со свадьбой можно предположить что кредит на такие цели берут импульсивно в надежде погасить большую ее часть деньгами подаренными на свадьбу."
   ]
  },
  {
   "cell_type": "markdown",
   "metadata": {},
   "source": [
    "## Шаг 4. Общий вывод"
   ]
  },
  {
   "cell_type": "markdown",
   "metadata": {},
   "source": [
    "Есть зависимости между целями кредита, семейным положением, уровнем дохода и количеством детей в семье. Нельзя сказать, что они кардинально отличаются, но 2% на больших числах могут оказать существенное влияние на кредитный портфель банка. Особое внимание следует уделить вдовам/вдовцам или молодоженам — с ними могут риски по невозврату кредитов выше"
   ]
  }
 ],
 "metadata": {
  "ExecuteTimeLog": [
   {
    "duration": 408,
    "start_time": "2022-01-19T09:25:50.673Z"
   },
   {
    "duration": 838,
    "start_time": "2022-01-19T09:26:49.449Z"
   },
   {
    "duration": 16,
    "start_time": "2022-01-19T09:27:20.154Z"
   },
   {
    "duration": 14,
    "start_time": "2022-01-19T09:30:14.234Z"
   },
   {
    "duration": 12,
    "start_time": "2022-01-19T09:30:16.947Z"
   },
   {
    "duration": 28,
    "start_time": "2022-01-19T09:30:27.905Z"
   },
   {
    "duration": 20,
    "start_time": "2022-01-19T09:39:03.884Z"
   },
   {
    "duration": 13,
    "start_time": "2022-01-19T09:55:36.953Z"
   },
   {
    "duration": 14,
    "start_time": "2022-01-19T13:03:48.337Z"
   },
   {
    "duration": 33,
    "start_time": "2022-01-19T13:04:02.137Z"
   },
   {
    "duration": 28,
    "start_time": "2022-01-19T13:10:06.970Z"
   },
   {
    "duration": 46,
    "start_time": "2022-01-19T13:28:52.451Z"
   },
   {
    "duration": 28,
    "start_time": "2022-01-19T13:29:00.259Z"
   },
   {
    "duration": 26,
    "start_time": "2022-01-19T13:29:04.514Z"
   },
   {
    "duration": 362,
    "start_time": "2022-01-19T14:03:07.003Z"
   },
   {
    "duration": 264,
    "start_time": "2022-01-19T14:03:23.100Z"
   },
   {
    "duration": 32,
    "start_time": "2022-01-19T14:03:30.107Z"
   },
   {
    "duration": 26,
    "start_time": "2022-01-19T14:50:26.083Z"
   },
   {
    "duration": 447,
    "start_time": "2022-01-20T13:30:45.335Z"
   },
   {
    "duration": 1620,
    "start_time": "2022-01-20T13:30:55.842Z"
   },
   {
    "duration": 15,
    "start_time": "2022-01-20T13:30:57.465Z"
   },
   {
    "duration": 28,
    "start_time": "2022-01-20T13:30:57.484Z"
   },
   {
    "duration": 12,
    "start_time": "2022-01-20T13:30:57.515Z"
   },
   {
    "duration": 33,
    "start_time": "2022-01-20T13:30:57.558Z"
   },
   {
    "duration": 27,
    "start_time": "2022-01-20T13:30:57.593Z"
   },
   {
    "duration": 662,
    "start_time": "2022-01-20T13:30:57.622Z"
   },
   {
    "duration": 536,
    "start_time": "2022-01-20T13:42:48.036Z"
   },
   {
    "duration": 38,
    "start_time": "2022-01-20T14:10:51.869Z"
   },
   {
    "duration": 12,
    "start_time": "2022-01-20T14:14:22.612Z"
   },
   {
    "duration": 894,
    "start_time": "2022-01-20T14:16:53.658Z"
   },
   {
    "duration": 22,
    "start_time": "2022-01-20T14:17:32.334Z"
   },
   {
    "duration": 21,
    "start_time": "2022-01-20T14:17:45.683Z"
   },
   {
    "duration": 57,
    "start_time": "2022-01-20T14:36:26.874Z"
   },
   {
    "duration": 34,
    "start_time": "2022-01-20T14:39:46.614Z"
   },
   {
    "duration": 66,
    "start_time": "2022-01-20T14:39:52.764Z"
   },
   {
    "duration": 30,
    "start_time": "2022-01-20T14:39:52.833Z"
   },
   {
    "duration": 20,
    "start_time": "2022-01-20T14:39:52.867Z"
   },
   {
    "duration": 20,
    "start_time": "2022-01-20T14:39:52.891Z"
   },
   {
    "duration": 38,
    "start_time": "2022-01-20T14:39:52.960Z"
   },
   {
    "duration": 68,
    "start_time": "2022-01-20T14:39:53.001Z"
   },
   {
    "duration": 658,
    "start_time": "2022-01-20T14:39:53.072Z"
   },
   {
    "duration": 435,
    "start_time": "2022-01-20T14:39:53.732Z"
   },
   {
    "duration": 42,
    "start_time": "2022-01-20T14:39:54.171Z"
   },
   {
    "duration": 44,
    "start_time": "2022-01-20T14:39:54.216Z"
   },
   {
    "duration": 20,
    "start_time": "2022-01-20T14:39:54.262Z"
   },
   {
    "duration": 90,
    "start_time": "2022-01-20T14:39:54.286Z"
   },
   {
    "duration": 90,
    "start_time": "2022-01-20T14:39:54.379Z"
   },
   {
    "duration": 8,
    "start_time": "2022-01-20T15:07:21.638Z"
   },
   {
    "duration": 427,
    "start_time": "2022-01-20T15:08:04.726Z"
   },
   {
    "duration": 4,
    "start_time": "2022-01-20T15:08:14.390Z"
   },
   {
    "duration": 6,
    "start_time": "2022-01-20T15:09:32.812Z"
   },
   {
    "duration": 117,
    "start_time": "2022-01-20T15:12:59.098Z"
   },
   {
    "duration": 399,
    "start_time": "2022-01-20T15:13:04.193Z"
   },
   {
    "duration": 5388,
    "start_time": "2022-01-20T15:13:14.379Z"
   },
   {
    "duration": 16,
    "start_time": "2022-01-21T07:18:08.521Z"
   },
   {
    "duration": 474,
    "start_time": "2022-01-21T07:24:04.131Z"
   },
   {
    "duration": 21,
    "start_time": "2022-01-21T07:25:13.224Z"
   },
   {
    "duration": 20,
    "start_time": "2022-01-21T07:29:46.604Z"
   },
   {
    "duration": 17,
    "start_time": "2022-01-21T07:31:42.589Z"
   },
   {
    "duration": 13,
    "start_time": "2022-01-21T07:48:02.523Z"
   },
   {
    "duration": 63,
    "start_time": "2022-01-21T07:52:49.648Z"
   },
   {
    "duration": 13,
    "start_time": "2022-01-21T07:52:49.714Z"
   },
   {
    "duration": 45,
    "start_time": "2022-01-21T07:52:49.730Z"
   },
   {
    "duration": 12,
    "start_time": "2022-01-21T07:52:49.778Z"
   },
   {
    "duration": 30,
    "start_time": "2022-01-21T07:52:49.793Z"
   },
   {
    "duration": 27,
    "start_time": "2022-01-21T07:52:49.860Z"
   },
   {
    "duration": 812,
    "start_time": "2022-01-21T07:52:49.890Z"
   },
   {
    "duration": 704,
    "start_time": "2022-01-21T07:52:50.707Z"
   },
   {
    "duration": 59,
    "start_time": "2022-01-21T07:52:51.414Z"
   },
   {
    "duration": 13,
    "start_time": "2022-01-21T07:52:51.475Z"
   },
   {
    "duration": 9,
    "start_time": "2022-01-21T07:52:51.491Z"
   },
   {
    "duration": 27,
    "start_time": "2022-01-21T07:52:51.503Z"
   },
   {
    "duration": 83,
    "start_time": "2022-01-21T07:52:51.533Z"
   },
   {
    "duration": 81,
    "start_time": "2022-01-21T07:52:51.618Z"
   },
   {
    "duration": 9,
    "start_time": "2022-01-21T07:52:51.702Z"
   },
   {
    "duration": 4,
    "start_time": "2022-01-21T07:52:51.714Z"
   },
   {
    "duration": 39,
    "start_time": "2022-01-21T07:52:51.721Z"
   },
   {
    "duration": 5499,
    "start_time": "2022-01-21T07:52:51.762Z"
   },
   {
    "duration": 14,
    "start_time": "2022-01-21T07:52:57.263Z"
   },
   {
    "duration": 440,
    "start_time": "2022-01-21T07:52:57.279Z"
   },
   {
    "duration": 19,
    "start_time": "2022-01-21T07:52:57.721Z"
   },
   {
    "duration": 20,
    "start_time": "2022-01-21T07:52:57.759Z"
   },
   {
    "duration": 18,
    "start_time": "2022-01-21T07:52:57.783Z"
   },
   {
    "duration": 19,
    "start_time": "2022-01-21T07:56:00.594Z"
   },
   {
    "duration": 430,
    "start_time": "2022-01-21T07:57:28.510Z"
   },
   {
    "duration": 20,
    "start_time": "2022-01-21T07:58:03.439Z"
   },
   {
    "duration": 48,
    "start_time": "2022-01-21T08:01:35.582Z"
   },
   {
    "duration": 480,
    "start_time": "2022-01-21T08:33:41.009Z"
   },
   {
    "duration": 19,
    "start_time": "2022-01-21T08:33:58.392Z"
   },
   {
    "duration": 30,
    "start_time": "2022-01-21T08:39:47.914Z"
   },
   {
    "duration": 436,
    "start_time": "2022-01-21T08:41:37.620Z"
   },
   {
    "duration": 30,
    "start_time": "2022-01-21T08:41:52.675Z"
   },
   {
    "duration": 14,
    "start_time": "2022-01-21T08:44:40.710Z"
   },
   {
    "duration": 4,
    "start_time": "2022-01-21T08:57:44.149Z"
   },
   {
    "duration": 409,
    "start_time": "2022-01-21T08:59:58.538Z"
   },
   {
    "duration": 9327,
    "start_time": "2022-01-21T09:04:12.864Z"
   },
   {
    "duration": 15,
    "start_time": "2022-01-21T09:04:48.682Z"
   },
   {
    "duration": 70,
    "start_time": "2022-01-21T09:04:52.615Z"
   },
   {
    "duration": 19,
    "start_time": "2022-01-21T09:04:52.689Z"
   },
   {
    "duration": 50,
    "start_time": "2022-01-21T09:04:52.711Z"
   },
   {
    "duration": 14,
    "start_time": "2022-01-21T09:04:52.765Z"
   },
   {
    "duration": 30,
    "start_time": "2022-01-21T09:04:52.782Z"
   },
   {
    "duration": 63,
    "start_time": "2022-01-21T09:04:52.814Z"
   },
   {
    "duration": 687,
    "start_time": "2022-01-21T09:04:52.879Z"
   },
   {
    "duration": 456,
    "start_time": "2022-01-21T09:04:53.569Z"
   },
   {
    "duration": 45,
    "start_time": "2022-01-21T09:04:54.028Z"
   },
   {
    "duration": 12,
    "start_time": "2022-01-21T09:04:54.075Z"
   },
   {
    "duration": 9,
    "start_time": "2022-01-21T09:04:54.089Z"
   },
   {
    "duration": 20,
    "start_time": "2022-01-21T09:04:54.100Z"
   },
   {
    "duration": 92,
    "start_time": "2022-01-21T09:04:54.123Z"
   },
   {
    "duration": 81,
    "start_time": "2022-01-21T09:04:54.218Z"
   },
   {
    "duration": 8,
    "start_time": "2022-01-21T09:04:54.302Z"
   },
   {
    "duration": 3,
    "start_time": "2022-01-21T09:04:54.313Z"
   },
   {
    "duration": 41,
    "start_time": "2022-01-21T09:04:54.318Z"
   },
   {
    "duration": 5444,
    "start_time": "2022-01-21T09:04:54.362Z"
   },
   {
    "duration": 13,
    "start_time": "2022-01-21T09:04:59.809Z"
   },
   {
    "duration": 470,
    "start_time": "2022-01-21T09:04:59.824Z"
   },
   {
    "duration": 19,
    "start_time": "2022-01-21T09:05:00.296Z"
   },
   {
    "duration": 44,
    "start_time": "2022-01-21T09:05:00.317Z"
   },
   {
    "duration": 19,
    "start_time": "2022-01-21T09:05:00.365Z"
   },
   {
    "duration": 24,
    "start_time": "2022-01-21T09:05:00.386Z"
   },
   {
    "duration": 440,
    "start_time": "2022-01-21T09:05:00.413Z"
   },
   {
    "duration": 18,
    "start_time": "2022-01-21T09:05:00.860Z"
   },
   {
    "duration": 14,
    "start_time": "2022-01-21T09:05:00.881Z"
   },
   {
    "duration": 77,
    "start_time": "2022-01-21T09:05:00.898Z"
   },
   {
    "duration": 30,
    "start_time": "2022-01-21T09:05:00.978Z"
   },
   {
    "duration": 13,
    "start_time": "2022-01-21T09:05:01.010Z"
   },
   {
    "duration": 551,
    "start_time": "2022-01-21T09:05:01.025Z"
   },
   {
    "duration": 32,
    "start_time": "2022-01-21T09:15:00.628Z"
   },
   {
    "duration": 19,
    "start_time": "2022-01-21T09:26:26.490Z"
   },
   {
    "duration": 63,
    "start_time": "2022-01-21T09:36:50.269Z"
   },
   {
    "duration": 25,
    "start_time": "2022-01-21T09:36:50.334Z"
   },
   {
    "duration": 20,
    "start_time": "2022-01-21T09:36:50.363Z"
   },
   {
    "duration": 13,
    "start_time": "2022-01-21T09:36:50.386Z"
   },
   {
    "duration": 74,
    "start_time": "2022-01-21T09:36:50.401Z"
   },
   {
    "duration": 27,
    "start_time": "2022-01-21T09:36:50.478Z"
   },
   {
    "duration": 676,
    "start_time": "2022-01-21T09:36:50.507Z"
   },
   {
    "duration": 460,
    "start_time": "2022-01-21T09:36:51.187Z"
   },
   {
    "duration": 44,
    "start_time": "2022-01-21T09:36:51.650Z"
   },
   {
    "duration": 16,
    "start_time": "2022-01-21T09:36:51.697Z"
   },
   {
    "duration": 7,
    "start_time": "2022-01-21T09:36:51.716Z"
   },
   {
    "duration": 21,
    "start_time": "2022-01-21T09:36:51.760Z"
   },
   {
    "duration": 76,
    "start_time": "2022-01-21T09:36:51.783Z"
   },
   {
    "duration": 53,
    "start_time": "2022-01-21T09:36:51.861Z"
   },
   {
    "duration": 8,
    "start_time": "2022-01-21T09:36:51.917Z"
   },
   {
    "duration": 33,
    "start_time": "2022-01-21T09:36:51.927Z"
   },
   {
    "duration": 7,
    "start_time": "2022-01-21T09:36:51.962Z"
   },
   {
    "duration": 5311,
    "start_time": "2022-01-21T09:36:51.971Z"
   },
   {
    "duration": 14,
    "start_time": "2022-01-21T09:36:57.284Z"
   },
   {
    "duration": 441,
    "start_time": "2022-01-21T09:36:57.301Z"
   },
   {
    "duration": 31,
    "start_time": "2022-01-21T09:36:57.744Z"
   },
   {
    "duration": 18,
    "start_time": "2022-01-21T09:36:57.777Z"
   },
   {
    "duration": 17,
    "start_time": "2022-01-21T09:36:57.800Z"
   },
   {
    "duration": 50,
    "start_time": "2022-01-21T09:36:57.820Z"
   },
   {
    "duration": 421,
    "start_time": "2022-01-21T09:36:57.872Z"
   },
   {
    "duration": 18,
    "start_time": "2022-01-21T09:36:58.295Z"
   },
   {
    "duration": 14,
    "start_time": "2022-01-21T09:36:58.315Z"
   },
   {
    "duration": 71,
    "start_time": "2022-01-21T09:36:58.331Z"
   },
   {
    "duration": 27,
    "start_time": "2022-01-21T09:36:58.405Z"
   },
   {
    "duration": 33,
    "start_time": "2022-01-21T09:36:58.434Z"
   },
   {
    "duration": 35,
    "start_time": "2022-01-21T09:36:58.469Z"
   },
   {
    "duration": 18,
    "start_time": "2022-01-21T09:36:58.506Z"
   },
   {
    "duration": 3024,
    "start_time": "2022-01-25T19:04:32.350Z"
   },
   {
    "duration": 12,
    "start_time": "2022-01-25T19:04:35.376Z"
   },
   {
    "duration": 22,
    "start_time": "2022-01-25T19:04:35.390Z"
   },
   {
    "duration": 23,
    "start_time": "2022-01-25T19:04:35.414Z"
   },
   {
    "duration": 25,
    "start_time": "2022-01-25T19:04:35.439Z"
   },
   {
    "duration": 19,
    "start_time": "2022-01-25T19:04:35.466Z"
   },
   {
    "duration": 408,
    "start_time": "2022-01-25T19:04:35.508Z"
   },
   {
    "duration": 292,
    "start_time": "2022-01-25T19:04:35.919Z"
   },
   {
    "duration": 30,
    "start_time": "2022-01-25T19:04:36.213Z"
   },
   {
    "duration": 9,
    "start_time": "2022-01-25T19:04:36.245Z"
   },
   {
    "duration": 5,
    "start_time": "2022-01-25T19:04:36.256Z"
   },
   {
    "duration": 50,
    "start_time": "2022-01-25T19:04:36.262Z"
   },
   {
    "duration": 40,
    "start_time": "2022-01-25T19:04:36.314Z"
   },
   {
    "duration": 65,
    "start_time": "2022-01-25T19:04:36.356Z"
   },
   {
    "duration": 6,
    "start_time": "2022-01-25T19:04:36.424Z"
   },
   {
    "duration": 5,
    "start_time": "2022-01-25T19:04:36.432Z"
   },
   {
    "duration": 10,
    "start_time": "2022-01-25T19:04:36.439Z"
   },
   {
    "duration": 4570,
    "start_time": "2022-01-25T19:04:36.451Z"
   },
   {
    "duration": 12,
    "start_time": "2022-01-25T19:04:41.024Z"
   },
   {
    "duration": 296,
    "start_time": "2022-01-25T19:04:41.038Z"
   },
   {
    "duration": 14,
    "start_time": "2022-01-25T19:04:41.337Z"
   },
   {
    "duration": 50,
    "start_time": "2022-01-25T19:04:41.353Z"
   },
   {
    "duration": 48,
    "start_time": "2022-01-25T19:04:41.406Z"
   },
   {
    "duration": 23,
    "start_time": "2022-01-25T19:04:41.456Z"
   },
   {
    "duration": 353,
    "start_time": "2022-01-25T19:04:41.481Z"
   },
   {
    "duration": 19,
    "start_time": "2022-01-25T19:04:41.837Z"
   },
   {
    "duration": 44,
    "start_time": "2022-01-25T19:04:41.857Z"
   },
   {
    "duration": 68,
    "start_time": "2022-01-25T19:04:41.903Z"
   },
   {
    "duration": 25,
    "start_time": "2022-01-25T19:04:41.973Z"
   },
   {
    "duration": 38,
    "start_time": "2022-01-25T19:04:42.000Z"
   },
   {
    "duration": 67,
    "start_time": "2022-01-25T19:04:42.040Z"
   },
   {
    "duration": 54,
    "start_time": "2022-01-25T19:04:42.109Z"
   },
   {
    "duration": 78,
    "start_time": "2022-01-25T19:14:03.337Z"
   },
   {
    "duration": 81,
    "start_time": "2022-01-25T19:14:06.472Z"
   },
   {
    "duration": 5,
    "start_time": "2022-01-25T19:14:07.932Z"
   },
   {
    "duration": 5,
    "start_time": "2022-01-25T19:14:17.346Z"
   },
   {
    "duration": 357,
    "start_time": "2022-01-25T19:14:35.442Z"
   },
   {
    "duration": 5,
    "start_time": "2022-01-25T19:14:40.807Z"
   },
   {
    "duration": 359,
    "start_time": "2022-01-25T19:14:45.644Z"
   },
   {
    "duration": 352,
    "start_time": "2022-01-26T12:22:39.365Z"
   },
   {
    "duration": 1664,
    "start_time": "2022-01-26T12:22:44.622Z"
   },
   {
    "duration": 15,
    "start_time": "2022-01-26T12:22:46.288Z"
   },
   {
    "duration": 30,
    "start_time": "2022-01-26T12:22:46.307Z"
   },
   {
    "duration": 31,
    "start_time": "2022-01-26T12:22:46.340Z"
   },
   {
    "duration": 30,
    "start_time": "2022-01-26T12:22:46.373Z"
   },
   {
    "duration": 27,
    "start_time": "2022-01-26T12:22:46.406Z"
   },
   {
    "duration": 656,
    "start_time": "2022-01-26T12:22:46.470Z"
   },
   {
    "duration": 460,
    "start_time": "2022-01-26T12:22:47.132Z"
   },
   {
    "duration": 41,
    "start_time": "2022-01-26T12:22:47.597Z"
   },
   {
    "duration": 41,
    "start_time": "2022-01-26T12:22:47.641Z"
   },
   {
    "duration": 7,
    "start_time": "2022-01-26T12:22:47.685Z"
   },
   {
    "duration": 23,
    "start_time": "2022-01-26T12:22:47.695Z"
   },
   {
    "duration": 102,
    "start_time": "2022-01-26T12:22:47.721Z"
   },
   {
    "duration": 76,
    "start_time": "2022-01-26T12:22:47.825Z"
   },
   {
    "duration": 6,
    "start_time": "2022-01-26T12:22:47.903Z"
   },
   {
    "duration": 4,
    "start_time": "2022-01-26T12:22:47.912Z"
   },
   {
    "duration": 7,
    "start_time": "2022-01-26T12:22:47.919Z"
   },
   {
    "duration": 7,
    "start_time": "2022-01-26T12:22:47.929Z"
   },
   {
    "duration": 5575,
    "start_time": "2022-01-26T12:22:47.970Z"
   },
   {
    "duration": 25,
    "start_time": "2022-01-26T12:22:53.548Z"
   },
   {
    "duration": 451,
    "start_time": "2022-01-26T12:22:53.575Z"
   },
   {
    "duration": 19,
    "start_time": "2022-01-26T12:22:54.028Z"
   },
   {
    "duration": 35,
    "start_time": "2022-01-26T12:22:54.051Z"
   },
   {
    "duration": 20,
    "start_time": "2022-01-26T12:22:54.088Z"
   },
   {
    "duration": 58,
    "start_time": "2022-01-26T12:22:54.111Z"
   },
   {
    "duration": 435,
    "start_time": "2022-01-26T12:22:54.172Z"
   },
   {
    "duration": 19,
    "start_time": "2022-01-26T12:22:54.609Z"
   },
   {
    "duration": 15,
    "start_time": "2022-01-26T12:22:54.630Z"
   },
   {
    "duration": 53,
    "start_time": "2022-01-26T12:22:54.670Z"
   },
   {
    "duration": 45,
    "start_time": "2022-01-26T12:22:54.725Z"
   },
   {
    "duration": 10,
    "start_time": "2022-01-26T12:22:54.773Z"
   },
   {
    "duration": 34,
    "start_time": "2022-01-26T12:22:54.786Z"
   },
   {
    "duration": 53,
    "start_time": "2022-01-26T12:22:54.823Z"
   },
   {
    "duration": 63,
    "start_time": "2022-01-26T12:24:24.437Z"
   },
   {
    "duration": 14,
    "start_time": "2022-01-26T12:24:24.503Z"
   },
   {
    "duration": 19,
    "start_time": "2022-01-26T12:24:24.520Z"
   },
   {
    "duration": 13,
    "start_time": "2022-01-26T12:24:24.649Z"
   },
   {
    "duration": 30,
    "start_time": "2022-01-26T12:24:24.665Z"
   },
   {
    "duration": 26,
    "start_time": "2022-01-26T12:24:24.697Z"
   },
   {
    "duration": 635,
    "start_time": "2022-01-26T12:24:24.893Z"
   },
   {
    "duration": 472,
    "start_time": "2022-01-26T12:24:25.531Z"
   },
   {
    "duration": 40,
    "start_time": "2022-01-26T12:24:26.007Z"
   },
   {
    "duration": 30,
    "start_time": "2022-01-26T12:24:26.049Z"
   },
   {
    "duration": 7,
    "start_time": "2022-01-26T12:24:26.081Z"
   },
   {
    "duration": 23,
    "start_time": "2022-01-26T12:24:26.090Z"
   },
   {
    "duration": 98,
    "start_time": "2022-01-26T12:24:26.115Z"
   },
   {
    "duration": 75,
    "start_time": "2022-01-26T12:24:26.216Z"
   },
   {
    "duration": 6,
    "start_time": "2022-01-26T12:24:26.294Z"
   },
   {
    "duration": 11,
    "start_time": "2022-01-26T12:24:26.303Z"
   },
   {
    "duration": 1083,
    "start_time": "2022-01-26T12:24:26.316Z"
   },
   {
    "duration": 4,
    "start_time": "2022-01-26T12:24:27.402Z"
   },
   {
    "duration": 10,
    "start_time": "2022-01-26T12:24:27.410Z"
   },
   {
    "duration": 6222,
    "start_time": "2022-01-26T12:24:27.422Z"
   },
   {
    "duration": 27,
    "start_time": "2022-01-26T12:24:33.647Z"
   },
   {
    "duration": 446,
    "start_time": "2022-01-26T12:24:33.677Z"
   },
   {
    "duration": 20,
    "start_time": "2022-01-26T12:24:34.125Z"
   },
   {
    "duration": 36,
    "start_time": "2022-01-26T12:24:34.148Z"
   },
   {
    "duration": 17,
    "start_time": "2022-01-26T12:24:34.187Z"
   },
   {
    "duration": 18,
    "start_time": "2022-01-26T12:24:34.207Z"
   },
   {
    "duration": 462,
    "start_time": "2022-01-26T12:24:34.227Z"
   },
   {
    "duration": 20,
    "start_time": "2022-01-26T12:24:34.691Z"
   },
   {
    "duration": 15,
    "start_time": "2022-01-26T12:24:34.713Z"
   },
   {
    "duration": 90,
    "start_time": "2022-01-26T12:24:34.731Z"
   },
   {
    "duration": 47,
    "start_time": "2022-01-26T12:24:34.824Z"
   },
   {
    "duration": 13,
    "start_time": "2022-01-26T12:24:34.874Z"
   },
   {
    "duration": 33,
    "start_time": "2022-01-26T12:24:34.891Z"
   },
   {
    "duration": 51,
    "start_time": "2022-01-26T12:24:34.927Z"
   },
   {
    "duration": 95,
    "start_time": "2022-01-26T12:50:49.202Z"
   },
   {
    "duration": 17,
    "start_time": "2022-01-26T12:50:49.299Z"
   },
   {
    "duration": 25,
    "start_time": "2022-01-26T12:50:49.319Z"
   },
   {
    "duration": 13,
    "start_time": "2022-01-26T12:50:49.378Z"
   },
   {
    "duration": 32,
    "start_time": "2022-01-26T12:50:49.393Z"
   },
   {
    "duration": 57,
    "start_time": "2022-01-26T12:50:49.427Z"
   },
   {
    "duration": 882,
    "start_time": "2022-01-26T12:50:49.595Z"
   },
   {
    "duration": 482,
    "start_time": "2022-01-26T12:50:50.480Z"
   },
   {
    "duration": 42,
    "start_time": "2022-01-26T12:50:50.965Z"
   },
   {
    "duration": 14,
    "start_time": "2022-01-26T12:50:51.011Z"
   },
   {
    "duration": 47,
    "start_time": "2022-01-26T12:50:51.028Z"
   },
   {
    "duration": 38,
    "start_time": "2022-01-26T12:50:51.078Z"
   },
   {
    "duration": 90,
    "start_time": "2022-01-26T12:50:51.118Z"
   },
   {
    "duration": 80,
    "start_time": "2022-01-26T12:50:51.212Z"
   },
   {
    "duration": 6,
    "start_time": "2022-01-26T12:50:51.295Z"
   },
   {
    "duration": 5,
    "start_time": "2022-01-26T12:50:51.303Z"
   },
   {
    "duration": 1372,
    "start_time": "2022-01-26T12:50:51.310Z"
   },
   {
    "duration": 4,
    "start_time": "2022-01-26T12:50:52.685Z"
   },
   {
    "duration": 129,
    "start_time": "2022-01-26T12:50:52.692Z"
   },
   {
    "duration": 616,
    "start_time": "2022-01-26T12:50:52.208Z"
   },
   {
    "duration": 601,
    "start_time": "2022-01-26T12:50:52.225Z"
   },
   {
    "duration": 591,
    "start_time": "2022-01-26T12:50:52.236Z"
   },
   {
    "duration": 585,
    "start_time": "2022-01-26T12:50:52.244Z"
   },
   {
    "duration": 577,
    "start_time": "2022-01-26T12:50:52.253Z"
   },
   {
    "duration": 572,
    "start_time": "2022-01-26T12:50:52.260Z"
   },
   {
    "duration": 566,
    "start_time": "2022-01-26T12:50:52.267Z"
   },
   {
    "duration": 565,
    "start_time": "2022-01-26T12:50:52.271Z"
   },
   {
    "duration": 547,
    "start_time": "2022-01-26T12:50:52.290Z"
   },
   {
    "duration": 542,
    "start_time": "2022-01-26T12:50:52.297Z"
   },
   {
    "duration": 526,
    "start_time": "2022-01-26T12:50:52.315Z"
   },
   {
    "duration": 492,
    "start_time": "2022-01-26T12:50:52.350Z"
   },
   {
    "duration": 456,
    "start_time": "2022-01-26T12:50:52.388Z"
   },
   {
    "duration": 402,
    "start_time": "2022-01-26T12:50:52.443Z"
   },
   {
    "duration": 379,
    "start_time": "2022-01-26T12:50:52.468Z"
   },
   {
    "duration": 92,
    "start_time": "2022-01-26T12:51:22.412Z"
   },
   {
    "duration": 19,
    "start_time": "2022-01-26T12:51:22.507Z"
   },
   {
    "duration": 40,
    "start_time": "2022-01-26T12:51:22.532Z"
   },
   {
    "duration": 14,
    "start_time": "2022-01-26T12:51:22.594Z"
   },
   {
    "duration": 46,
    "start_time": "2022-01-26T12:51:22.611Z"
   },
   {
    "duration": 27,
    "start_time": "2022-01-26T12:51:22.671Z"
   },
   {
    "duration": 685,
    "start_time": "2022-01-26T12:51:22.902Z"
   },
   {
    "duration": 459,
    "start_time": "2022-01-26T12:51:23.589Z"
   },
   {
    "duration": 48,
    "start_time": "2022-01-26T12:51:24.051Z"
   },
   {
    "duration": 16,
    "start_time": "2022-01-26T12:51:24.102Z"
   },
   {
    "duration": 7,
    "start_time": "2022-01-26T12:51:24.121Z"
   },
   {
    "duration": 21,
    "start_time": "2022-01-26T12:51:24.170Z"
   },
   {
    "duration": 59,
    "start_time": "2022-01-26T12:51:24.411Z"
   },
   {
    "duration": 57,
    "start_time": "2022-01-26T12:51:24.473Z"
   },
   {
    "duration": 35,
    "start_time": "2022-01-26T12:51:24.534Z"
   },
   {
    "duration": 5,
    "start_time": "2022-01-26T12:51:24.572Z"
   },
   {
    "duration": 1386,
    "start_time": "2022-01-26T12:51:24.579Z"
   },
   {
    "duration": 4,
    "start_time": "2022-01-26T12:51:25.968Z"
   },
   {
    "duration": 8,
    "start_time": "2022-01-26T12:51:25.975Z"
   },
   {
    "duration": 2640,
    "start_time": "2022-01-26T12:51:25.985Z"
   },
   {
    "duration": 14,
    "start_time": "2022-01-26T12:51:28.629Z"
   },
   {
    "duration": 446,
    "start_time": "2022-01-26T12:51:28.670Z"
   },
   {
    "duration": 20,
    "start_time": "2022-01-26T12:51:29.119Z"
   },
   {
    "duration": 50,
    "start_time": "2022-01-26T12:51:29.142Z"
   },
   {
    "duration": 21,
    "start_time": "2022-01-26T12:51:29.195Z"
   },
   {
    "duration": 58,
    "start_time": "2022-01-26T12:51:29.219Z"
   },
   {
    "duration": 695,
    "start_time": "2022-01-26T12:51:29.280Z"
   },
   {
    "duration": 22,
    "start_time": "2022-01-26T12:51:29.978Z"
   },
   {
    "duration": 24,
    "start_time": "2022-01-26T12:51:30.003Z"
   },
   {
    "duration": 94,
    "start_time": "2022-01-26T12:51:30.029Z"
   },
   {
    "duration": 53,
    "start_time": "2022-01-26T12:51:30.126Z"
   },
   {
    "duration": 15,
    "start_time": "2022-01-26T12:51:30.182Z"
   },
   {
    "duration": 49,
    "start_time": "2022-01-26T12:51:30.200Z"
   },
   {
    "duration": 38,
    "start_time": "2022-01-26T12:51:30.251Z"
   },
   {
    "duration": 267,
    "start_time": "2022-01-26T12:54:22.069Z"
   },
   {
    "duration": 129,
    "start_time": "2022-01-26T12:54:45.957Z"
   },
   {
    "duration": 92,
    "start_time": "2022-01-26T12:55:17.537Z"
   },
   {
    "duration": 16,
    "start_time": "2022-01-26T12:55:17.632Z"
   },
   {
    "duration": 31,
    "start_time": "2022-01-26T12:55:17.652Z"
   },
   {
    "duration": 13,
    "start_time": "2022-01-26T12:55:17.687Z"
   },
   {
    "duration": 32,
    "start_time": "2022-01-26T12:55:17.702Z"
   },
   {
    "duration": 32,
    "start_time": "2022-01-26T12:55:17.770Z"
   },
   {
    "duration": 694,
    "start_time": "2022-01-26T12:55:17.805Z"
   },
   {
    "duration": 451,
    "start_time": "2022-01-26T12:55:18.501Z"
   },
   {
    "duration": 46,
    "start_time": "2022-01-26T12:55:18.956Z"
   },
   {
    "duration": 14,
    "start_time": "2022-01-26T12:55:19.005Z"
   },
   {
    "duration": 7,
    "start_time": "2022-01-26T12:55:19.022Z"
   },
   {
    "duration": 67,
    "start_time": "2022-01-26T12:55:19.032Z"
   },
   {
    "duration": 112,
    "start_time": "2022-01-26T12:55:19.102Z"
   },
   {
    "duration": 75,
    "start_time": "2022-01-26T12:55:19.217Z"
   },
   {
    "duration": 90,
    "start_time": "2022-01-26T12:55:19.294Z"
   },
   {
    "duration": 672,
    "start_time": "2022-01-26T12:55:18.715Z"
   },
   {
    "duration": 655,
    "start_time": "2022-01-26T12:55:18.733Z"
   },
   {
    "duration": 590,
    "start_time": "2022-01-26T12:55:18.799Z"
   },
   {
    "duration": 579,
    "start_time": "2022-01-26T12:55:18.812Z"
   },
   {
    "duration": 574,
    "start_time": "2022-01-26T12:55:18.818Z"
   },
   {
    "duration": 553,
    "start_time": "2022-01-26T12:55:18.841Z"
   },
   {
    "duration": 550,
    "start_time": "2022-01-26T12:55:18.845Z"
   },
   {
    "duration": 544,
    "start_time": "2022-01-26T12:55:18.852Z"
   },
   {
    "duration": 540,
    "start_time": "2022-01-26T12:55:18.858Z"
   },
   {
    "duration": 537,
    "start_time": "2022-01-26T12:55:18.862Z"
   },
   {
    "duration": 533,
    "start_time": "2022-01-26T12:55:18.868Z"
   },
   {
    "duration": 527,
    "start_time": "2022-01-26T12:55:18.876Z"
   },
   {
    "duration": 521,
    "start_time": "2022-01-26T12:55:18.883Z"
   },
   {
    "duration": 516,
    "start_time": "2022-01-26T12:55:18.889Z"
   },
   {
    "duration": 501,
    "start_time": "2022-01-26T12:55:18.906Z"
   },
   {
    "duration": 492,
    "start_time": "2022-01-26T12:55:18.916Z"
   },
   {
    "duration": 490,
    "start_time": "2022-01-26T12:55:18.920Z"
   },
   {
    "duration": 485,
    "start_time": "2022-01-26T12:55:18.926Z"
   },
   {
    "duration": 481,
    "start_time": "2022-01-26T12:55:18.931Z"
   },
   {
    "duration": 479,
    "start_time": "2022-01-26T12:55:18.935Z"
   },
   {
    "duration": 123,
    "start_time": "2022-01-26T12:55:32.796Z"
   },
   {
    "duration": 65,
    "start_time": "2022-01-26T12:58:12.848Z"
   },
   {
    "duration": 14,
    "start_time": "2022-01-26T12:58:12.916Z"
   },
   {
    "duration": 40,
    "start_time": "2022-01-26T12:58:12.934Z"
   },
   {
    "duration": 15,
    "start_time": "2022-01-26T12:58:12.977Z"
   },
   {
    "duration": 85,
    "start_time": "2022-01-26T12:58:12.995Z"
   },
   {
    "duration": 35,
    "start_time": "2022-01-26T12:58:13.083Z"
   },
   {
    "duration": 1017,
    "start_time": "2022-01-26T12:58:13.122Z"
   },
   {
    "duration": 676,
    "start_time": "2022-01-26T12:58:14.143Z"
   },
   {
    "duration": 56,
    "start_time": "2022-01-26T12:58:14.822Z"
   },
   {
    "duration": 14,
    "start_time": "2022-01-26T12:58:14.880Z"
   },
   {
    "duration": 7,
    "start_time": "2022-01-26T12:58:14.897Z"
   },
   {
    "duration": 25,
    "start_time": "2022-01-26T12:58:14.906Z"
   },
   {
    "duration": 67,
    "start_time": "2022-01-26T12:58:14.969Z"
   },
   {
    "duration": 80,
    "start_time": "2022-01-26T12:58:15.039Z"
   },
   {
    "duration": 6,
    "start_time": "2022-01-26T12:58:15.121Z"
   },
   {
    "duration": 7,
    "start_time": "2022-01-26T12:58:15.131Z"
   },
   {
    "duration": 951,
    "start_time": "2022-01-26T12:58:15.170Z"
   },
   {
    "duration": 4,
    "start_time": "2022-01-26T12:58:16.124Z"
   },
   {
    "duration": 8,
    "start_time": "2022-01-26T12:58:16.130Z"
   },
   {
    "duration": 2568,
    "start_time": "2022-01-26T12:58:16.141Z"
   },
   {
    "duration": 18,
    "start_time": "2022-01-26T12:58:18.712Z"
   },
   {
    "duration": 469,
    "start_time": "2022-01-26T12:58:18.733Z"
   },
   {
    "duration": 20,
    "start_time": "2022-01-26T12:58:19.205Z"
   },
   {
    "duration": 61,
    "start_time": "2022-01-26T12:58:19.228Z"
   },
   {
    "duration": 23,
    "start_time": "2022-01-26T12:58:19.292Z"
   },
   {
    "duration": 62,
    "start_time": "2022-01-26T12:58:19.318Z"
   },
   {
    "duration": 422,
    "start_time": "2022-01-26T12:58:19.383Z"
   },
   {
    "duration": 20,
    "start_time": "2022-01-26T12:58:19.807Z"
   },
   {
    "duration": 15,
    "start_time": "2022-01-26T12:58:19.829Z"
   },
   {
    "duration": 75,
    "start_time": "2022-01-26T12:58:19.847Z"
   },
   {
    "duration": 48,
    "start_time": "2022-01-26T12:58:19.924Z"
   },
   {
    "duration": 29,
    "start_time": "2022-01-26T12:58:19.974Z"
   },
   {
    "duration": 12,
    "start_time": "2022-01-26T12:58:20.005Z"
   },
   {
    "duration": 66,
    "start_time": "2022-01-26T12:58:20.019Z"
   },
   {
    "duration": 22,
    "start_time": "2022-01-26T12:58:20.087Z"
   },
   {
    "duration": 447,
    "start_time": "2022-01-26T12:58:46.235Z"
   },
   {
    "duration": 31,
    "start_time": "2022-01-26T12:58:53.116Z"
   },
   {
    "duration": 38,
    "start_time": "2022-01-26T12:59:50.449Z"
   },
   {
    "duration": 32,
    "start_time": "2022-01-26T12:59:56.026Z"
   },
   {
    "duration": 30,
    "start_time": "2022-01-26T13:00:20.873Z"
   },
   {
    "duration": 31,
    "start_time": "2022-01-26T13:00:40.612Z"
   },
   {
    "duration": 46,
    "start_time": "2022-01-26T13:05:08.197Z"
   },
   {
    "duration": 90,
    "start_time": "2022-01-26T13:06:14.744Z"
   },
   {
    "duration": 16,
    "start_time": "2022-01-26T13:06:14.838Z"
   },
   {
    "duration": 34,
    "start_time": "2022-01-26T13:06:14.858Z"
   },
   {
    "duration": 19,
    "start_time": "2022-01-26T13:06:14.895Z"
   },
   {
    "duration": 67,
    "start_time": "2022-01-26T13:06:14.917Z"
   },
   {
    "duration": 31,
    "start_time": "2022-01-26T13:06:14.986Z"
   },
   {
    "duration": 1043,
    "start_time": "2022-01-26T13:06:15.020Z"
   },
   {
    "duration": 603,
    "start_time": "2022-01-26T13:06:16.070Z"
   },
   {
    "duration": 40,
    "start_time": "2022-01-26T13:06:16.677Z"
   },
   {
    "duration": 52,
    "start_time": "2022-01-26T13:06:16.720Z"
   },
   {
    "duration": 6,
    "start_time": "2022-01-26T13:06:16.774Z"
   },
   {
    "duration": 21,
    "start_time": "2022-01-26T13:06:16.782Z"
   },
   {
    "duration": 92,
    "start_time": "2022-01-26T13:06:16.806Z"
   },
   {
    "duration": 102,
    "start_time": "2022-01-26T13:06:16.900Z"
   },
   {
    "duration": 7,
    "start_time": "2022-01-26T13:06:17.005Z"
   },
   {
    "duration": 10,
    "start_time": "2022-01-26T13:06:17.015Z"
   },
   {
    "duration": 964,
    "start_time": "2022-01-26T13:06:17.028Z"
   },
   {
    "duration": 4,
    "start_time": "2022-01-26T13:06:17.995Z"
   },
   {
    "duration": 7,
    "start_time": "2022-01-26T13:06:18.001Z"
   },
   {
    "duration": 2536,
    "start_time": "2022-01-26T13:06:18.011Z"
   },
   {
    "duration": 32,
    "start_time": "2022-01-26T13:06:20.551Z"
   },
   {
    "duration": 460,
    "start_time": "2022-01-26T13:06:20.586Z"
   },
   {
    "duration": 31,
    "start_time": "2022-01-26T13:06:21.051Z"
   },
   {
    "duration": 25,
    "start_time": "2022-01-26T13:06:21.085Z"
   },
   {
    "duration": 57,
    "start_time": "2022-01-26T13:06:21.114Z"
   },
   {
    "duration": 19,
    "start_time": "2022-01-26T13:06:21.173Z"
   },
   {
    "duration": 459,
    "start_time": "2022-01-26T13:06:21.195Z"
   },
   {
    "duration": 27,
    "start_time": "2022-01-26T13:06:21.657Z"
   },
   {
    "duration": 15,
    "start_time": "2022-01-26T13:06:21.687Z"
   },
   {
    "duration": 86,
    "start_time": "2022-01-26T13:06:21.705Z"
   },
   {
    "duration": 32,
    "start_time": "2022-01-26T13:06:21.794Z"
   },
   {
    "duration": 42,
    "start_time": "2022-01-26T13:06:21.829Z"
   },
   {
    "duration": 37,
    "start_time": "2022-01-26T13:06:21.874Z"
   },
   {
    "duration": 20,
    "start_time": "2022-01-26T13:06:21.913Z"
   },
   {
    "duration": 1286,
    "start_time": "2022-01-27T08:03:14.390Z"
   },
   {
    "duration": 12,
    "start_time": "2022-01-27T08:03:15.678Z"
   },
   {
    "duration": 38,
    "start_time": "2022-01-27T08:03:15.693Z"
   },
   {
    "duration": 19,
    "start_time": "2022-01-27T08:03:15.733Z"
   },
   {
    "duration": 36,
    "start_time": "2022-01-27T08:03:15.754Z"
   },
   {
    "duration": 32,
    "start_time": "2022-01-27T08:03:15.791Z"
   },
   {
    "duration": 377,
    "start_time": "2022-01-27T08:03:15.826Z"
   },
   {
    "duration": 281,
    "start_time": "2022-01-27T08:03:16.205Z"
   },
   {
    "duration": 25,
    "start_time": "2022-01-27T08:03:16.488Z"
   },
   {
    "duration": 14,
    "start_time": "2022-01-27T08:03:16.515Z"
   },
   {
    "duration": 19,
    "start_time": "2022-01-27T08:03:16.531Z"
   },
   {
    "duration": 49,
    "start_time": "2022-01-27T08:03:16.552Z"
   },
   {
    "duration": 74,
    "start_time": "2022-01-27T08:03:16.603Z"
   },
   {
    "duration": 47,
    "start_time": "2022-01-27T08:03:16.680Z"
   },
   {
    "duration": 4,
    "start_time": "2022-01-27T08:03:16.729Z"
   },
   {
    "duration": 34,
    "start_time": "2022-01-27T08:03:16.735Z"
   },
   {
    "duration": 724,
    "start_time": "2022-01-27T08:03:16.771Z"
   },
   {
    "duration": 3,
    "start_time": "2022-01-27T08:03:17.497Z"
   },
   {
    "duration": 24,
    "start_time": "2022-01-27T08:03:17.502Z"
   },
   {
    "duration": 1365,
    "start_time": "2022-01-27T08:03:17.528Z"
   },
   {
    "duration": 10,
    "start_time": "2022-01-27T08:03:18.895Z"
   },
   {
    "duration": 421,
    "start_time": "2022-01-27T08:03:18.909Z"
   },
   {
    "duration": 31,
    "start_time": "2022-01-27T08:03:19.332Z"
   },
   {
    "duration": 14,
    "start_time": "2022-01-27T08:03:19.365Z"
   },
   {
    "duration": 37,
    "start_time": "2022-01-27T08:03:19.380Z"
   },
   {
    "duration": 32,
    "start_time": "2022-01-27T08:03:19.419Z"
   },
   {
    "duration": 295,
    "start_time": "2022-01-27T08:03:19.453Z"
   },
   {
    "duration": 15,
    "start_time": "2022-01-27T08:03:19.750Z"
   },
   {
    "duration": 34,
    "start_time": "2022-01-27T08:03:19.767Z"
   },
   {
    "duration": 67,
    "start_time": "2022-01-27T08:03:19.803Z"
   },
   {
    "duration": 20,
    "start_time": "2022-01-27T08:03:19.872Z"
   },
   {
    "duration": 9,
    "start_time": "2022-01-27T08:03:19.894Z"
   },
   {
    "duration": 33,
    "start_time": "2022-01-27T08:03:19.905Z"
   },
   {
    "duration": 31,
    "start_time": "2022-01-27T08:03:19.940Z"
   },
   {
    "duration": 328,
    "start_time": "2022-01-28T10:46:44.224Z"
   },
   {
    "duration": 1469,
    "start_time": "2022-01-28T10:46:53.975Z"
   },
   {
    "duration": 14,
    "start_time": "2022-01-28T10:46:55.447Z"
   },
   {
    "duration": 23,
    "start_time": "2022-01-28T10:46:55.464Z"
   },
   {
    "duration": 22,
    "start_time": "2022-01-28T10:46:55.489Z"
   },
   {
    "duration": 26,
    "start_time": "2022-01-28T10:46:55.513Z"
   },
   {
    "duration": 19,
    "start_time": "2022-01-28T10:46:55.541Z"
   },
   {
    "duration": 448,
    "start_time": "2022-01-28T10:46:55.562Z"
   },
   {
    "duration": 294,
    "start_time": "2022-01-28T10:46:56.013Z"
   },
   {
    "duration": 44,
    "start_time": "2022-01-28T10:46:56.310Z"
   },
   {
    "duration": 13,
    "start_time": "2022-01-28T10:46:56.357Z"
   },
   {
    "duration": 34,
    "start_time": "2022-01-28T10:46:56.373Z"
   },
   {
    "duration": 25,
    "start_time": "2022-01-28T10:46:56.410Z"
   },
   {
    "duration": 44,
    "start_time": "2022-01-28T10:46:56.437Z"
   },
   {
    "duration": 65,
    "start_time": "2022-01-28T10:46:56.483Z"
   },
   {
    "duration": 2,
    "start_time": "2022-01-28T10:46:56.550Z"
   },
   {
    "duration": 460,
    "start_time": "2022-01-28T10:46:56.554Z"
   },
   {
    "duration": 912,
    "start_time": "2022-01-28T10:46:56.105Z"
   },
   {
    "duration": 905,
    "start_time": "2022-01-28T10:46:56.113Z"
   },
   {
    "duration": 889,
    "start_time": "2022-01-28T10:46:56.130Z"
   },
   {
    "duration": 875,
    "start_time": "2022-01-28T10:46:56.145Z"
   },
   {
    "duration": 868,
    "start_time": "2022-01-28T10:46:56.153Z"
   },
   {
    "duration": 863,
    "start_time": "2022-01-28T10:46:56.159Z"
   },
   {
    "duration": 861,
    "start_time": "2022-01-28T10:46:56.163Z"
   },
   {
    "duration": 856,
    "start_time": "2022-01-28T10:46:56.169Z"
   },
   {
    "duration": 852,
    "start_time": "2022-01-28T10:46:56.174Z"
   },
   {
    "duration": 850,
    "start_time": "2022-01-28T10:46:56.178Z"
   },
   {
    "duration": 847,
    "start_time": "2022-01-28T10:46:56.182Z"
   },
   {
    "duration": 843,
    "start_time": "2022-01-28T10:46:56.187Z"
   },
   {
    "duration": 840,
    "start_time": "2022-01-28T10:46:56.192Z"
   },
   {
    "duration": 837,
    "start_time": "2022-01-28T10:46:56.196Z"
   },
   {
    "duration": 834,
    "start_time": "2022-01-28T10:46:56.200Z"
   },
   {
    "duration": 830,
    "start_time": "2022-01-28T10:46:56.205Z"
   },
   {
    "duration": 827,
    "start_time": "2022-01-28T10:46:56.209Z"
   },
   {
    "duration": 817,
    "start_time": "2022-01-28T10:46:56.220Z"
   },
   {
    "duration": 812,
    "start_time": "2022-01-28T10:46:56.225Z"
   },
   {
    "duration": 56,
    "start_time": "2022-01-28T10:47:33.386Z"
   },
   {
    "duration": 13,
    "start_time": "2022-01-28T10:47:33.444Z"
   },
   {
    "duration": 16,
    "start_time": "2022-01-28T10:47:33.459Z"
   },
   {
    "duration": 36,
    "start_time": "2022-01-28T10:47:33.477Z"
   },
   {
    "duration": 30,
    "start_time": "2022-01-28T10:47:33.515Z"
   },
   {
    "duration": 18,
    "start_time": "2022-01-28T10:47:33.547Z"
   },
   {
    "duration": 422,
    "start_time": "2022-01-28T10:47:33.566Z"
   },
   {
    "duration": 268,
    "start_time": "2022-01-28T10:47:33.991Z"
   },
   {
    "duration": 31,
    "start_time": "2022-01-28T10:47:34.262Z"
   },
   {
    "duration": 10,
    "start_time": "2022-01-28T10:47:34.308Z"
   },
   {
    "duration": 5,
    "start_time": "2022-01-28T10:47:34.320Z"
   },
   {
    "duration": 18,
    "start_time": "2022-01-28T10:47:34.327Z"
   },
   {
    "duration": 67,
    "start_time": "2022-01-28T10:47:34.347Z"
   },
   {
    "duration": 38,
    "start_time": "2022-01-28T10:47:34.416Z"
   },
   {
    "duration": 4,
    "start_time": "2022-01-28T10:47:34.456Z"
   },
   {
    "duration": 6,
    "start_time": "2022-01-28T10:47:34.462Z"
   },
   {
    "duration": 717,
    "start_time": "2022-01-28T10:47:34.470Z"
   },
   {
    "duration": 3,
    "start_time": "2022-01-28T10:47:35.190Z"
   },
   {
    "duration": 14,
    "start_time": "2022-01-28T10:47:35.195Z"
   },
   {
    "duration": 9,
    "start_time": "2022-01-28T10:47:35.211Z"
   },
   {
    "duration": 357,
    "start_time": "2022-01-28T10:47:35.222Z"
   },
   {
    "duration": 928,
    "start_time": "2022-01-28T10:47:34.653Z"
   },
   {
    "duration": 926,
    "start_time": "2022-01-28T10:47:34.656Z"
   },
   {
    "duration": 894,
    "start_time": "2022-01-28T10:47:34.689Z"
   },
   {
    "duration": 891,
    "start_time": "2022-01-28T10:47:34.693Z"
   },
   {
    "duration": 881,
    "start_time": "2022-01-28T10:47:34.704Z"
   },
   {
    "duration": 878,
    "start_time": "2022-01-28T10:47:34.708Z"
   },
   {
    "duration": 875,
    "start_time": "2022-01-28T10:47:34.712Z"
   },
   {
    "duration": 871,
    "start_time": "2022-01-28T10:47:34.717Z"
   },
   {
    "duration": 867,
    "start_time": "2022-01-28T10:47:34.722Z"
   },
   {
    "duration": 863,
    "start_time": "2022-01-28T10:47:34.726Z"
   },
   {
    "duration": 860,
    "start_time": "2022-01-28T10:47:34.730Z"
   },
   {
    "duration": 857,
    "start_time": "2022-01-28T10:47:34.734Z"
   },
   {
    "duration": 854,
    "start_time": "2022-01-28T10:47:34.738Z"
   },
   {
    "duration": 850,
    "start_time": "2022-01-28T10:47:34.743Z"
   },
   {
    "duration": 73,
    "start_time": "2022-01-28T10:49:52.085Z"
   },
   {
    "duration": 15,
    "start_time": "2022-01-28T10:49:52.160Z"
   },
   {
    "duration": 15,
    "start_time": "2022-01-28T10:49:52.177Z"
   },
   {
    "duration": 14,
    "start_time": "2022-01-28T10:49:52.208Z"
   },
   {
    "duration": 25,
    "start_time": "2022-01-28T10:49:52.224Z"
   },
   {
    "duration": 21,
    "start_time": "2022-01-28T10:49:52.251Z"
   },
   {
    "duration": 404,
    "start_time": "2022-01-28T10:49:52.308Z"
   },
   {
    "duration": 282,
    "start_time": "2022-01-28T10:49:52.714Z"
   },
   {
    "duration": 40,
    "start_time": "2022-01-28T10:49:52.999Z"
   },
   {
    "duration": 11,
    "start_time": "2022-01-28T10:49:53.041Z"
   },
   {
    "duration": 26,
    "start_time": "2022-01-28T10:49:53.054Z"
   },
   {
    "duration": 34,
    "start_time": "2022-01-28T10:49:53.082Z"
   },
   {
    "duration": 41,
    "start_time": "2022-01-28T10:49:53.118Z"
   },
   {
    "duration": 52,
    "start_time": "2022-01-28T10:49:53.161Z"
   },
   {
    "duration": 4,
    "start_time": "2022-01-28T10:49:53.215Z"
   },
   {
    "duration": 17,
    "start_time": "2022-01-28T10:49:53.221Z"
   },
   {
    "duration": 721,
    "start_time": "2022-01-28T10:49:53.240Z"
   },
   {
    "duration": 3,
    "start_time": "2022-01-28T10:49:53.964Z"
   },
   {
    "duration": 12,
    "start_time": "2022-01-28T10:49:53.968Z"
   },
   {
    "duration": 17,
    "start_time": "2022-01-28T10:49:53.982Z"
   },
   {
    "duration": 606,
    "start_time": "2022-01-28T10:49:54.001Z"
   },
   {
    "duration": 859,
    "start_time": "2022-01-28T10:49:53.751Z"
   },
   {
    "duration": 842,
    "start_time": "2022-01-28T10:49:53.769Z"
   },
   {
    "duration": 838,
    "start_time": "2022-01-28T10:49:53.774Z"
   },
   {
    "duration": 829,
    "start_time": "2022-01-28T10:49:53.784Z"
   },
   {
    "duration": 826,
    "start_time": "2022-01-28T10:49:53.788Z"
   },
   {
    "duration": 822,
    "start_time": "2022-01-28T10:49:53.793Z"
   },
   {
    "duration": 820,
    "start_time": "2022-01-28T10:49:53.797Z"
   },
   {
    "duration": 815,
    "start_time": "2022-01-28T10:49:53.803Z"
   },
   {
    "duration": 812,
    "start_time": "2022-01-28T10:49:53.807Z"
   },
   {
    "duration": 808,
    "start_time": "2022-01-28T10:49:53.812Z"
   },
   {
    "duration": 803,
    "start_time": "2022-01-28T10:49:53.818Z"
   },
   {
    "duration": 800,
    "start_time": "2022-01-28T10:49:53.823Z"
   },
   {
    "duration": 797,
    "start_time": "2022-01-28T10:49:53.827Z"
   },
   {
    "duration": 791,
    "start_time": "2022-01-28T10:49:53.834Z"
   },
   {
    "duration": 99,
    "start_time": "2022-01-28T10:50:37.424Z"
   },
   {
    "duration": 19,
    "start_time": "2022-01-28T10:50:37.525Z"
   },
   {
    "duration": 20,
    "start_time": "2022-01-28T10:50:37.547Z"
   },
   {
    "duration": 47,
    "start_time": "2022-01-28T10:50:37.569Z"
   },
   {
    "duration": 28,
    "start_time": "2022-01-28T10:50:37.618Z"
   },
   {
    "duration": 19,
    "start_time": "2022-01-28T10:50:37.648Z"
   },
   {
    "duration": 427,
    "start_time": "2022-01-28T10:50:37.669Z"
   },
   {
    "duration": 276,
    "start_time": "2022-01-28T10:50:38.107Z"
   },
   {
    "duration": 44,
    "start_time": "2022-01-28T10:50:38.385Z"
   },
   {
    "duration": 10,
    "start_time": "2022-01-28T10:50:38.431Z"
   },
   {
    "duration": 5,
    "start_time": "2022-01-28T10:50:38.443Z"
   },
   {
    "duration": 18,
    "start_time": "2022-01-28T10:50:38.450Z"
   },
   {
    "duration": 64,
    "start_time": "2022-01-28T10:50:38.470Z"
   },
   {
    "duration": 41,
    "start_time": "2022-01-28T10:50:38.536Z"
   },
   {
    "duration": 28,
    "start_time": "2022-01-28T10:50:38.580Z"
   },
   {
    "duration": 9,
    "start_time": "2022-01-28T10:50:38.610Z"
   },
   {
    "duration": 716,
    "start_time": "2022-01-28T10:50:38.621Z"
   },
   {
    "duration": 2,
    "start_time": "2022-01-28T10:50:39.340Z"
   },
   {
    "duration": 22,
    "start_time": "2022-01-28T10:50:39.344Z"
   },
   {
    "duration": 8,
    "start_time": "2022-01-28T10:50:39.368Z"
   },
   {
    "duration": 512,
    "start_time": "2022-01-28T10:50:39.378Z"
   },
   {
    "duration": 869,
    "start_time": "2022-01-28T10:50:39.023Z"
   },
   {
    "duration": 862,
    "start_time": "2022-01-28T10:50:39.031Z"
   },
   {
    "duration": 858,
    "start_time": "2022-01-28T10:50:39.036Z"
   },
   {
    "duration": 853,
    "start_time": "2022-01-28T10:50:39.042Z"
   },
   {
    "duration": 850,
    "start_time": "2022-01-28T10:50:39.046Z"
   },
   {
    "duration": 846,
    "start_time": "2022-01-28T10:50:39.051Z"
   },
   {
    "duration": 842,
    "start_time": "2022-01-28T10:50:39.056Z"
   },
   {
    "duration": 839,
    "start_time": "2022-01-28T10:50:39.060Z"
   },
   {
    "duration": 835,
    "start_time": "2022-01-28T10:50:39.065Z"
   },
   {
    "duration": 831,
    "start_time": "2022-01-28T10:50:39.070Z"
   },
   {
    "duration": 827,
    "start_time": "2022-01-28T10:50:39.075Z"
   },
   {
    "duration": 815,
    "start_time": "2022-01-28T10:50:39.088Z"
   },
   {
    "duration": 807,
    "start_time": "2022-01-28T10:50:39.097Z"
   },
   {
    "duration": 804,
    "start_time": "2022-01-28T10:50:39.102Z"
   },
   {
    "duration": 107,
    "start_time": "2022-01-28T11:27:58.013Z"
   },
   {
    "duration": 20,
    "start_time": "2022-01-28T11:27:58.123Z"
   },
   {
    "duration": 22,
    "start_time": "2022-01-28T11:27:58.146Z"
   },
   {
    "duration": 51,
    "start_time": "2022-01-28T11:27:58.171Z"
   },
   {
    "duration": 25,
    "start_time": "2022-01-28T11:27:58.224Z"
   },
   {
    "duration": 22,
    "start_time": "2022-01-28T11:27:58.251Z"
   },
   {
    "duration": 441,
    "start_time": "2022-01-28T11:27:58.307Z"
   },
   {
    "duration": 313,
    "start_time": "2022-01-28T11:27:58.751Z"
   },
   {
    "duration": 42,
    "start_time": "2022-01-28T11:27:59.067Z"
   },
   {
    "duration": 11,
    "start_time": "2022-01-28T11:27:59.112Z"
   },
   {
    "duration": 13,
    "start_time": "2022-01-28T11:27:59.125Z"
   },
   {
    "duration": 22,
    "start_time": "2022-01-28T11:27:59.140Z"
   },
   {
    "duration": 65,
    "start_time": "2022-01-28T11:27:59.164Z"
   },
   {
    "duration": 45,
    "start_time": "2022-01-28T11:27:59.232Z"
   },
   {
    "duration": 29,
    "start_time": "2022-01-28T11:27:59.279Z"
   },
   {
    "duration": 4,
    "start_time": "2022-01-28T11:27:59.310Z"
   },
   {
    "duration": 782,
    "start_time": "2022-01-28T11:27:59.316Z"
   },
   {
    "duration": 4,
    "start_time": "2022-01-28T11:28:00.107Z"
   },
   {
    "duration": 16,
    "start_time": "2022-01-28T11:28:00.114Z"
   },
   {
    "duration": 23,
    "start_time": "2022-01-28T11:28:00.133Z"
   },
   {
    "duration": 7642,
    "start_time": "2022-01-28T11:28:00.159Z"
   },
   {
    "duration": 883,
    "start_time": "2022-01-28T11:28:06.921Z"
   },
   {
    "duration": 877,
    "start_time": "2022-01-28T11:28:06.928Z"
   },
   {
    "duration": 871,
    "start_time": "2022-01-28T11:28:06.935Z"
   },
   {
    "duration": 868,
    "start_time": "2022-01-28T11:28:06.940Z"
   },
   {
    "duration": 856,
    "start_time": "2022-01-28T11:28:06.954Z"
   },
   {
    "duration": 854,
    "start_time": "2022-01-28T11:28:06.958Z"
   },
   {
    "duration": 849,
    "start_time": "2022-01-28T11:28:06.965Z"
   },
   {
    "duration": 846,
    "start_time": "2022-01-28T11:28:06.969Z"
   },
   {
    "duration": 838,
    "start_time": "2022-01-28T11:28:06.979Z"
   },
   {
    "duration": 834,
    "start_time": "2022-01-28T11:28:06.984Z"
   },
   {
    "duration": 831,
    "start_time": "2022-01-28T11:28:06.989Z"
   },
   {
    "duration": 828,
    "start_time": "2022-01-28T11:28:06.993Z"
   },
   {
    "duration": 824,
    "start_time": "2022-01-28T11:28:06.999Z"
   },
   {
    "duration": 821,
    "start_time": "2022-01-28T11:28:07.003Z"
   },
   {
    "duration": 1135,
    "start_time": "2022-01-28T13:55:15.471Z"
   },
   {
    "duration": 9,
    "start_time": "2022-01-28T13:55:16.608Z"
   },
   {
    "duration": 17,
    "start_time": "2022-01-28T13:55:16.619Z"
   },
   {
    "duration": 8,
    "start_time": "2022-01-28T13:55:16.637Z"
   },
   {
    "duration": 17,
    "start_time": "2022-01-28T13:55:16.646Z"
   },
   {
    "duration": 13,
    "start_time": "2022-01-28T13:55:16.664Z"
   },
   {
    "duration": 358,
    "start_time": "2022-01-28T13:55:16.679Z"
   },
   {
    "duration": 231,
    "start_time": "2022-01-28T13:55:17.039Z"
   },
   {
    "duration": 24,
    "start_time": "2022-01-28T13:55:17.273Z"
   },
   {
    "duration": 29,
    "start_time": "2022-01-28T13:55:17.299Z"
   },
   {
    "duration": 5,
    "start_time": "2022-01-28T13:55:17.329Z"
   },
   {
    "duration": 13,
    "start_time": "2022-01-28T13:55:17.336Z"
   },
   {
    "duration": 33,
    "start_time": "2022-01-28T13:55:17.351Z"
   },
   {
    "duration": 66,
    "start_time": "2022-01-28T13:55:17.386Z"
   },
   {
    "duration": 4,
    "start_time": "2022-01-28T13:55:17.454Z"
   },
   {
    "duration": 4,
    "start_time": "2022-01-28T13:55:17.460Z"
   },
   {
    "duration": 631,
    "start_time": "2022-01-28T13:55:17.466Z"
   },
   {
    "duration": 3,
    "start_time": "2022-01-28T13:55:18.099Z"
   },
   {
    "duration": 5,
    "start_time": "2022-01-28T13:55:18.104Z"
   },
   {
    "duration": 113,
    "start_time": "2022-01-28T13:55:18.126Z"
   },
   {
    "duration": -216,
    "start_time": "2022-01-28T13:55:18.457Z"
   },
   {
    "duration": -244,
    "start_time": "2022-01-28T13:55:18.485Z"
   },
   {
    "duration": -263,
    "start_time": "2022-01-28T13:55:18.505Z"
   },
   {
    "duration": -291,
    "start_time": "2022-01-28T13:55:18.534Z"
   },
   {
    "duration": -523,
    "start_time": "2022-01-28T13:55:18.767Z"
   },
   {
    "duration": -544,
    "start_time": "2022-01-28T13:55:18.789Z"
   },
   {
    "duration": -573,
    "start_time": "2022-01-28T13:55:18.819Z"
   },
   {
    "duration": -593,
    "start_time": "2022-01-28T13:55:18.840Z"
   },
   {
    "duration": -642,
    "start_time": "2022-01-28T13:55:18.890Z"
   },
   {
    "duration": -660,
    "start_time": "2022-01-28T13:55:18.909Z"
   },
   {
    "duration": -689,
    "start_time": "2022-01-28T13:55:18.939Z"
   },
   {
    "duration": -714,
    "start_time": "2022-01-28T13:55:18.965Z"
   },
   {
    "duration": -754,
    "start_time": "2022-01-28T13:55:19.006Z"
   },
   {
    "duration": -772,
    "start_time": "2022-01-28T13:55:19.025Z"
   },
   {
    "duration": 102,
    "start_time": "2022-01-28T13:56:02.735Z"
   },
   {
    "duration": 105,
    "start_time": "2022-01-28T13:56:18.439Z"
   },
   {
    "duration": 115,
    "start_time": "2022-01-28T13:56:25.779Z"
   },
   {
    "duration": 217,
    "start_time": "2022-01-28T13:56:34.711Z"
   },
   {
    "duration": 3625,
    "start_time": "2022-01-28T13:56:47.554Z"
   },
   {
    "duration": 3179,
    "start_time": "2022-01-28T13:56:54.491Z"
   },
   {
    "duration": 3621,
    "start_time": "2022-01-28T14:28:01.469Z"
   },
   {
    "duration": 67,
    "start_time": "2022-01-28T14:29:11.368Z"
   },
   {
    "duration": 10,
    "start_time": "2022-01-28T14:29:11.437Z"
   },
   {
    "duration": 13,
    "start_time": "2022-01-28T14:29:11.448Z"
   },
   {
    "duration": 9,
    "start_time": "2022-01-28T14:29:11.463Z"
   },
   {
    "duration": 17,
    "start_time": "2022-01-28T14:29:11.474Z"
   },
   {
    "duration": 37,
    "start_time": "2022-01-28T14:29:11.492Z"
   },
   {
    "duration": 347,
    "start_time": "2022-01-28T14:29:11.530Z"
   },
   {
    "duration": 239,
    "start_time": "2022-01-28T14:29:11.878Z"
   },
   {
    "duration": 27,
    "start_time": "2022-01-28T14:29:12.119Z"
   },
   {
    "duration": 7,
    "start_time": "2022-01-28T14:29:12.148Z"
   },
   {
    "duration": 4,
    "start_time": "2022-01-28T14:29:12.156Z"
   },
   {
    "duration": 14,
    "start_time": "2022-01-28T14:29:12.161Z"
   },
   {
    "duration": 57,
    "start_time": "2022-01-28T14:29:12.176Z"
   },
   {
    "duration": 31,
    "start_time": "2022-01-28T14:29:12.235Z"
   },
   {
    "duration": 4,
    "start_time": "2022-01-28T14:29:12.267Z"
   },
   {
    "duration": 4,
    "start_time": "2022-01-28T14:29:12.274Z"
   },
   {
    "duration": 641,
    "start_time": "2022-01-28T14:29:12.279Z"
   },
   {
    "duration": 5,
    "start_time": "2022-01-28T14:29:12.922Z"
   },
   {
    "duration": 3,
    "start_time": "2022-01-28T14:29:12.929Z"
   },
   {
    "duration": 3551,
    "start_time": "2022-01-28T14:29:12.934Z"
   },
   {
    "duration": 9,
    "start_time": "2022-01-28T14:29:16.487Z"
   },
   {
    "duration": 238,
    "start_time": "2022-01-28T14:29:16.497Z"
   },
   {
    "duration": 10,
    "start_time": "2022-01-28T14:29:16.737Z"
   },
   {
    "duration": 10,
    "start_time": "2022-01-28T14:29:16.748Z"
   },
   {
    "duration": 9,
    "start_time": "2022-01-28T14:29:16.760Z"
   },
   {
    "duration": 10,
    "start_time": "2022-01-28T14:29:16.770Z"
   },
   {
    "duration": 247,
    "start_time": "2022-01-28T14:29:16.782Z"
   },
   {
    "duration": 11,
    "start_time": "2022-01-28T14:29:17.030Z"
   },
   {
    "duration": 8,
    "start_time": "2022-01-28T14:29:17.043Z"
   },
   {
    "duration": 34,
    "start_time": "2022-01-28T14:29:17.053Z"
   },
   {
    "duration": 40,
    "start_time": "2022-01-28T14:29:17.088Z"
   },
   {
    "duration": 7,
    "start_time": "2022-01-28T14:29:17.129Z"
   },
   {
    "duration": 28,
    "start_time": "2022-01-28T14:29:17.138Z"
   },
   {
    "duration": 11,
    "start_time": "2022-01-28T14:29:17.167Z"
   },
   {
    "duration": 451,
    "start_time": "2022-01-28T14:30:42.297Z"
   },
   {
    "duration": 421,
    "start_time": "2022-01-28T14:30:55.951Z"
   },
   {
    "duration": 3356,
    "start_time": "2022-01-28T14:31:05.336Z"
   },
   {
    "duration": 3,
    "start_time": "2022-01-28T14:31:47.536Z"
   },
   {
    "duration": 3675,
    "start_time": "2022-01-28T14:31:50.165Z"
   },
   {
    "duration": 74,
    "start_time": "2022-01-28T14:34:43.700Z"
   },
   {
    "duration": 9,
    "start_time": "2022-01-28T14:34:43.776Z"
   },
   {
    "duration": 12,
    "start_time": "2022-01-28T14:34:43.787Z"
   },
   {
    "duration": 10,
    "start_time": "2022-01-28T14:34:43.801Z"
   },
   {
    "duration": 27,
    "start_time": "2022-01-28T14:34:43.812Z"
   },
   {
    "duration": 19,
    "start_time": "2022-01-28T14:34:43.840Z"
   },
   {
    "duration": 438,
    "start_time": "2022-01-28T14:34:43.861Z"
   },
   {
    "duration": 245,
    "start_time": "2022-01-28T14:34:44.301Z"
   },
   {
    "duration": 22,
    "start_time": "2022-01-28T14:34:44.548Z"
   },
   {
    "duration": 8,
    "start_time": "2022-01-28T14:34:44.572Z"
   },
   {
    "duration": 4,
    "start_time": "2022-01-28T14:34:44.581Z"
   },
   {
    "duration": 13,
    "start_time": "2022-01-28T14:34:44.587Z"
   },
   {
    "duration": 32,
    "start_time": "2022-01-28T14:34:44.627Z"
   },
   {
    "duration": 32,
    "start_time": "2022-01-28T14:34:44.660Z"
   },
   {
    "duration": 3,
    "start_time": "2022-01-28T14:34:44.693Z"
   },
   {
    "duration": 6,
    "start_time": "2022-01-28T14:34:44.698Z"
   },
   {
    "duration": 647,
    "start_time": "2022-01-28T14:34:44.705Z"
   },
   {
    "duration": 2,
    "start_time": "2022-01-28T14:34:45.354Z"
   },
   {
    "duration": 6,
    "start_time": "2022-01-28T14:34:45.358Z"
   },
   {
    "duration": 3420,
    "start_time": "2022-01-28T14:34:45.366Z"
   },
   {
    "duration": 10,
    "start_time": "2022-01-28T14:34:48.788Z"
   },
   {
    "duration": 245,
    "start_time": "2022-01-28T14:34:48.800Z"
   },
   {
    "duration": 11,
    "start_time": "2022-01-28T14:34:49.046Z"
   },
   {
    "duration": 10,
    "start_time": "2022-01-28T14:34:49.060Z"
   },
   {
    "duration": 10,
    "start_time": "2022-01-28T14:34:49.072Z"
   },
   {
    "duration": 11,
    "start_time": "2022-01-28T14:34:49.083Z"
   },
   {
    "duration": 251,
    "start_time": "2022-01-28T14:34:49.095Z"
   },
   {
    "duration": 10,
    "start_time": "2022-01-28T14:34:49.348Z"
   },
   {
    "duration": 9,
    "start_time": "2022-01-28T14:34:49.360Z"
   },
   {
    "duration": 38,
    "start_time": "2022-01-28T14:34:49.370Z"
   },
   {
    "duration": 32,
    "start_time": "2022-01-28T14:34:49.409Z"
   },
   {
    "duration": 6,
    "start_time": "2022-01-28T14:34:49.442Z"
   },
   {
    "duration": 19,
    "start_time": "2022-01-28T14:34:49.450Z"
   },
   {
    "duration": 10,
    "start_time": "2022-01-28T14:34:49.471Z"
   },
   {
    "duration": 1352,
    "start_time": "2022-01-29T08:59:15.730Z"
   },
   {
    "duration": 11,
    "start_time": "2022-01-29T08:59:17.085Z"
   },
   {
    "duration": 18,
    "start_time": "2022-01-29T08:59:17.100Z"
   },
   {
    "duration": 22,
    "start_time": "2022-01-29T08:59:17.120Z"
   },
   {
    "duration": 28,
    "start_time": "2022-01-29T08:59:17.143Z"
   },
   {
    "duration": 18,
    "start_time": "2022-01-29T08:59:17.173Z"
   },
   {
    "duration": 376,
    "start_time": "2022-01-29T08:59:17.194Z"
   },
   {
    "duration": 258,
    "start_time": "2022-01-29T08:59:17.573Z"
   },
   {
    "duration": 36,
    "start_time": "2022-01-29T08:59:17.833Z"
   },
   {
    "duration": 8,
    "start_time": "2022-01-29T08:59:17.871Z"
   },
   {
    "duration": 24,
    "start_time": "2022-01-29T08:59:17.880Z"
   },
   {
    "duration": 32,
    "start_time": "2022-01-29T08:59:17.906Z"
   },
   {
    "duration": 66,
    "start_time": "2022-01-29T08:59:17.939Z"
   },
   {
    "duration": 36,
    "start_time": "2022-01-29T08:59:18.007Z"
   },
   {
    "duration": 4,
    "start_time": "2022-01-29T08:59:18.045Z"
   },
   {
    "duration": 23,
    "start_time": "2022-01-29T08:59:18.050Z"
   },
   {
    "duration": 686,
    "start_time": "2022-01-29T08:59:18.074Z"
   },
   {
    "duration": 3,
    "start_time": "2022-01-29T08:59:18.762Z"
   },
   {
    "duration": 27,
    "start_time": "2022-01-29T08:59:18.767Z"
   },
   {
    "duration": 3550,
    "start_time": "2022-01-29T08:59:18.796Z"
   },
   {
    "duration": 10,
    "start_time": "2022-01-29T08:59:22.360Z"
   },
   {
    "duration": 261,
    "start_time": "2022-01-29T08:59:22.374Z"
   },
   {
    "duration": 26,
    "start_time": "2022-01-29T08:59:22.637Z"
   },
   {
    "duration": 14,
    "start_time": "2022-01-29T08:59:22.665Z"
   },
   {
    "duration": 11,
    "start_time": "2022-01-29T08:59:22.681Z"
   },
   {
    "duration": 11,
    "start_time": "2022-01-29T08:59:22.694Z"
   },
   {
    "duration": 277,
    "start_time": "2022-01-29T08:59:22.707Z"
   },
   {
    "duration": 12,
    "start_time": "2022-01-29T08:59:22.986Z"
   },
   {
    "duration": 10,
    "start_time": "2022-01-29T08:59:22.999Z"
   },
   {
    "duration": 55,
    "start_time": "2022-01-29T08:59:23.011Z"
   },
   {
    "duration": 21,
    "start_time": "2022-01-29T08:59:23.068Z"
   },
   {
    "duration": 7,
    "start_time": "2022-01-29T08:59:23.091Z"
   },
   {
    "duration": 26,
    "start_time": "2022-01-29T08:59:23.100Z"
   },
   {
    "duration": 44,
    "start_time": "2022-01-29T08:59:23.128Z"
   },
   {
    "duration": 4,
    "start_time": "2022-01-29T09:04:00.925Z"
   },
   {
    "duration": 82,
    "start_time": "2022-01-29T09:04:27.145Z"
   },
   {
    "duration": 4,
    "start_time": "2022-01-29T09:04:36.083Z"
   },
   {
    "duration": 4,
    "start_time": "2022-01-29T09:04:43.001Z"
   },
   {
    "duration": 381,
    "start_time": "2022-01-29T09:06:50.181Z"
   },
   {
    "duration": 3941,
    "start_time": "2022-01-29T09:07:25.286Z"
   }
  ],
  "kernelspec": {
   "display_name": "Python 3 (ipykernel)",
   "language": "python",
   "name": "python3"
  },
  "language_info": {
   "codemirror_mode": {
    "name": "ipython",
    "version": 3
   },
   "file_extension": ".py",
   "mimetype": "text/x-python",
   "name": "python",
   "nbconvert_exporter": "python",
   "pygments_lexer": "ipython3",
   "version": "3.9.7"
  },
  "toc": {
   "base_numbering": 1,
   "nav_menu": {},
   "number_sections": true,
   "sideBar": true,
   "skip_h1_title": true,
   "title_cell": "Table of Contents",
   "title_sidebar": "Contents",
   "toc_cell": false,
   "toc_position": {},
   "toc_section_display": true,
   "toc_window_display": false
  }
 },
 "nbformat": 4,
 "nbformat_minor": 2
}
